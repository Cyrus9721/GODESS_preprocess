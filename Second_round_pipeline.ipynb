{
 "cells": [
  {
   "cell_type": "code",
   "execution_count": 1,
   "id": "c58b9ef1",
   "metadata": {},
   "outputs": [],
   "source": [
    "import numpy as np\n",
    "import pandas as pd\n",
    "import os\n",
    "from tqdm import tqdm\n",
    "import torch\n",
    "import torch.nn as nn\n",
    "\n",
    "from train_evaluate import NMR_prediction\n",
    "import torch.nn.functional as F\n",
    "import dgl\n",
    "import dgl.nn as dglnn\n",
    "import torch.nn as nn\n",
    "from dgl import AddSelfLoop\n",
    "from model_zoo.NMR_gcn import NMR_GCN\n",
    "from create_graph_data import create_graph\n",
    "from node_embeddings import create_node_embeddings\n",
    "from create_adjaency_matrix_from_labeled_pdb import build_adjacency_matrix\n",
    "from dgl import save_graphs, load_graphs\n",
    "from tqdm import tqdm"
   ]
  },
  {
   "cell_type": "code",
   "execution_count": 2,
   "id": "26b22186",
   "metadata": {},
   "outputs": [],
   "source": [
    "# from dgl.nn import GATv2Conv\n",
    "\n",
    "# g = dgl.graph(([0,1,2,3,2,5], [1,2,3,4,0,3]))\n",
    "# g = dgl.add_self_loop(g)\n",
    "# feat = torch.ones(6, 10)\n",
    "# gatv2conv = GATv2Conv(10, 2, num_heads=3)\n",
    "# res = gatv2conv(g, feat)"
   ]
  },
  {
   "cell_type": "code",
   "execution_count": 3,
   "id": "9dad4537",
   "metadata": {},
   "outputs": [],
   "source": [
    "from model_zoo.NMR_gat import GATv2"
   ]
  },
  {
   "cell_type": "code",
   "execution_count": 4,
   "id": "81ba7fdd",
   "metadata": {},
   "outputs": [],
   "source": [
    "num_test = 462\n",
    "# 399\n",
    "\n",
    "atom_name_dim=256\n",
    "\n",
    "bound_orig_dim=32 # not use\n",
    "\n",
    "atom_type_dim=32 # not use\n",
    "\n",
    "ab_dim=64\n",
    "\n",
    "dl_dim=64\n",
    "\n",
    "pf_dim=64\n",
    "\n",
    "mono_accurate_dim=128 # not use\n",
    "\n",
    "mono_simple_dim=64\n",
    "\n",
    "me_dim=8\n",
    "\n",
    "ser_dim=8\n",
    "\n",
    "s_dim=8\n",
    "\n",
    "ac_dim=16\n",
    "\n",
    "gc_dim=8\n",
    "\n",
    "use_atom = 1\n",
    "\n",
    "use_mono=1\n",
    "\n",
    "use_ab=1\n",
    "\n",
    "use_dl=1\n",
    "\n",
    "use_pf=1\n",
    "\n",
    "use_inter=1\n",
    "\n",
    "\n",
    "in_size = atom_name_dim * use_atom + ab_dim * use_ab + dl_dim * use_dl + \\\n",
    "          pf_dim * use_pf + mono_simple_dim * use_mono + \\\n",
    "        (me_dim + ser_dim + s_dim + ac_dim + gc_dim) * use_inter\n",
    "\n",
    "\n",
    "hidden_size_1 = int(in_size / 2)\n",
    "hidden_size_2 = int(hidden_size_1 / 2)\n",
    "hidden_size_3 = 256\n",
    "hidden_size_4 = 128\n",
    "\n",
    "num_epoch = 3000\n",
    "lr = 1e-3\n",
    "\n",
    "# num_epoch = 5000\n",
    "# lr = 1e-4\n",
    "\n",
    "threshold_carbon=1.65\n",
    "threshold_hydrogen=1.18\n",
    "threshold_general=1.5\n",
    "threshold_interaction=5.0\n",
    "\n",
    "\n",
    "seed=97211\n",
    "\n",
    "\n",
    "data_dir = 'dataset/Godess_final_data/Godess_data_rev/'\n"
   ]
  },
  {
   "cell_type": "code",
   "execution_count": 5,
   "id": "1d7c2c8d",
   "metadata": {},
   "outputs": [],
   "source": [
    "additional_drop = [221, 325, 2304, 1184, 1408, 1984, 1976, 1506, 525, 1531, 746, 2000, 1053, 1328, 2114, 94, 929, \n",
    "                  2134, 2287, 1575, 501, 1034, 839, 646, 1602, 2403, 1857]"
   ]
  },
  {
   "cell_type": "code",
   "execution_count": 6,
   "id": "bd9acc42",
   "metadata": {},
   "outputs": [],
   "source": [
    "\n",
    "# C = create_node_embeddings(data_dir = data_dir)\n",
    "# C.write_all_embeddings(atom_name_dim = atom_name_dim, bound_orig_dim = bound_orig_dim, \n",
    "#                            atom_type_dim = atom_type_dim, ab_dim = ab_dim, dl_dim = dl_dim,\n",
    "#                            pf_dim = pf_dim, mono_accurate_dim = mono_accurate_dim, \n",
    "#                            mono_simple_dim = mono_simple_dim, me_dim=me_dim, \n",
    "#                           ser_dim=ser_dim, s_dim=s_dim, ac_dim=ac_dim, gc_dim=gc_dim)"
   ]
  },
  {
   "cell_type": "code",
   "execution_count": 7,
   "id": "8544a3bb",
   "metadata": {},
   "outputs": [],
   "source": [
    "# B = build_adjacency_matrix(labeled_pdb_dir = data_dir,\n",
    "#                            threshold_carbon=threshold_carbon,\n",
    "#                            threshold_hydrogen=threshold_hydrogen, \n",
    "#                            threshold_general=threshold_general, \n",
    "#                            threshold_interaction=threshold_interaction)\n",
    "# B.calculate_all_matrix()"
   ]
  },
  {
   "cell_type": "code",
   "execution_count": 8,
   "id": "abbc1a8b",
   "metadata": {
    "scrolled": true
   },
   "outputs": [],
   "source": [
    "# Create = create_graph(data_dir=data_dir, \n",
    "#                       num_test=num_test, \n",
    "#                       additional_drop=additional_drop, \n",
    "#                       seed=seed, \n",
    "#                       use_atom=use_atom, \n",
    "#                       use_mono=use_mono, \n",
    "#                       use_ab=use_ab, \n",
    "#                       use_dl=use_dl, \n",
    "#                       use_pf=use_pf, \n",
    "#                       use_inter=use_inter)\n",
    "# g, test_index = Create.create_all_graph()"
   ]
  },
  {
   "cell_type": "code",
   "execution_count": null,
   "id": "bd43c11a",
   "metadata": {},
   "outputs": [],
   "source": []
  },
  {
   "cell_type": "code",
   "execution_count": 9,
   "id": "040bcab2",
   "metadata": {},
   "outputs": [],
   "source": [
    "# save_graphs('dataset/Godess_final_data/graph/save_graph/data1.bin', g, {'feat': g.ndata['feat']})\n",
    "\n",
    "# pd.DataFrame(g.ndata['train_carbon_mask'].cpu().numpy()).\\\n",
    "#     to_csv('dataset/Godess_final_data/graph/save_graph/train_carbon_mask.csv', index = False)\n",
    "\n",
    "# pd.DataFrame(g.ndata['test_carbon_mask'].cpu().numpy()).\\\n",
    "#     to_csv('dataset/Godess_final_data/graph/save_graph/test_carbon_mask.csv', index = False)\n",
    "\n",
    "# pd.DataFrame(g.ndata['shift_value'].cpu().numpy()).\\\n",
    "#     to_csv('dataset/Godess_final_data/graph/save_graph/shift_value.csv', index = False)\n",
    "\n",
    "# pd.DataFrame(test_index).to_csv('dataset/Godess_final_data/graph/save_graph/test_index_experiment.csv', index=False)"
   ]
  },
  {
   "cell_type": "code",
   "execution_count": 10,
   "id": "ad23c486",
   "metadata": {},
   "outputs": [],
   "source": [
    "# model =  GATv2(in_feats=in_size).to(device)\n",
    "# sum(param.numel() for param in model.parameters())\n"
   ]
  },
  {
   "cell_type": "code",
   "execution_count": 11,
   "id": "b1b2a92f",
   "metadata": {},
   "outputs": [],
   "source": [
    "g, features = load_graphs('dataset/Godess_final_data/graph/save_graph/data1.bin')\n",
    "g = g[0]"
   ]
  },
  {
   "cell_type": "code",
   "execution_count": 12,
   "id": "cc9b8aa4",
   "metadata": {},
   "outputs": [
    {
     "name": "stdout",
     "output_type": "stream",
     "text": [
      "torch.float32\n",
      "torch.float32\n",
      "Training...\n"
     ]
    },
    {
     "name": "stderr",
     "output_type": "stream",
     "text": [
      "  0%|                                          | 2/3000 [00:01<27:15,  1.83it/s]"
     ]
    },
    {
     "name": "stdout",
     "output_type": "stream",
     "text": [
      "19929\n",
      "80921\n",
      "Epoch 00000 | Loss 15.9860 | train_RMSE 3.1730 | test_RMSE 3.1712 \n",
      "19929\n",
      "80921\n",
      "Epoch 00001 | Loss 10.0834 | train_RMSE 1.8140 | test_RMSE 1.8165 \n"
     ]
    },
    {
     "name": "stderr",
     "output_type": "stream",
     "text": [
      "\r",
      "  0%|                                          | 3/3000 [00:01<17:14,  2.90it/s]"
     ]
    },
    {
     "name": "stdout",
     "output_type": "stream",
     "text": [
      "19929\n",
      "80921\n",
      "Epoch 00002 | Loss 3.3887 | train_RMSE 1.0511 | test_RMSE 1.0364 \n",
      "19929\n",
      "80921\n",
      "Epoch 00003 | Loss 1.4641 | train_RMSE 2.1101 | test_RMSE 2.0920 \n",
      "19929\n"
     ]
    },
    {
     "name": "stderr",
     "output_type": "stream",
     "text": [
      "  0%|                                          | 7/3000 [00:01<07:35,  6.57it/s]"
     ]
    },
    {
     "name": "stdout",
     "output_type": "stream",
     "text": [
      "80921\n",
      "Epoch 00004 | Loss 5.0392 | train_RMSE 1.1583 | test_RMSE 1.1460 \n",
      "19929\n",
      "80921\n",
      "Epoch 00005 | Loss 1.7525 | train_RMSE 0.6025 | test_RMSE 0.6023 \n",
      "19929\n",
      "80921\n",
      "Epoch 00006 | Loss 0.6097 | train_RMSE 1.2178 | test_RMSE 1.2189 \n"
     ]
    },
    {
     "name": "stderr",
     "output_type": "stream",
     "text": [
      "\r",
      "  0%|▏                                         | 9/3000 [00:01<06:22,  7.83it/s]"
     ]
    },
    {
     "name": "stdout",
     "output_type": "stream",
     "text": [
      "19929\n",
      "80921\n",
      "Epoch 00007 | Loss 1.6500 | train_RMSE 1.5224 | test_RMSE 1.5223 \n",
      "19929\n",
      "80921\n",
      "Epoch 00008 | Loss 2.4449 | train_RMSE 1.4698 | test_RMSE 1.4694 \n",
      "19929\n"
     ]
    },
    {
     "name": "stderr",
     "output_type": "stream",
     "text": [
      "\r",
      "  0%|▏                                        | 11/3000 [00:02<05:46,  8.63it/s]"
     ]
    },
    {
     "name": "stdout",
     "output_type": "stream",
     "text": [
      "80921\n",
      "Epoch 00009 | Loss 2.2909 | train_RMSE 1.1550 | test_RMSE 1.1549 \n",
      "19929\n",
      "80921\n",
      "Epoch 00010 | Loss 1.4983 | train_RMSE 0.6944 | test_RMSE 0.6948 \n",
      "19929\n",
      "80921\n",
      "Epoch 00011 | Loss 0.7038 | train_RMSE 0.5145 | test_RMSE 0.5130 \n"
     ]
    },
    {
     "name": "stderr",
     "output_type": "stream",
     "text": [
      "\r",
      "  0%|▏                                        | 13/3000 [00:02<05:20,  9.32it/s]"
     ]
    },
    {
     "name": "stdout",
     "output_type": "stream",
     "text": [
      "19929\n",
      "80921\n",
      "Epoch 00012 | Loss 0.5723 | train_RMSE 0.8761 | test_RMSE 0.8728 \n",
      "19929\n",
      "80921\n",
      "Epoch 00013 | Loss 1.1493 | train_RMSE 1.0200 | test_RMSE 1.0164 \n",
      "19929\n"
     ]
    },
    {
     "name": "stderr",
     "output_type": "stream",
     "text": [
      "  1%|▏                                        | 17/3000 [00:02<04:58, 10.00it/s]"
     ]
    },
    {
     "name": "stdout",
     "output_type": "stream",
     "text": [
      "80921\n",
      "Epoch 00014 | Loss 1.4490 | train_RMSE 0.8103 | test_RMSE 0.8076 \n",
      "19929\n",
      "80921\n",
      "Epoch 00015 | Loss 1.0284 | train_RMSE 0.5090 | test_RMSE 0.5076 \n",
      "19929\n",
      "80921\n",
      "Epoch 00016 | Loss 0.5595 | train_RMSE 0.5268 | test_RMSE 0.5260 \n"
     ]
    },
    {
     "name": "stderr",
     "output_type": "stream",
     "text": [
      "\r",
      "  1%|▎                                        | 19/3000 [00:02<04:50, 10.26it/s]"
     ]
    },
    {
     "name": "stdout",
     "output_type": "stream",
     "text": [
      "19929\n",
      "80921\n",
      "Epoch 00017 | Loss 0.5100 | train_RMSE 0.7438 | test_RMSE 0.7424 \n",
      "19929\n",
      "80921\n",
      "Epoch 00018 | Loss 0.7447 | train_RMSE 0.8707 | test_RMSE 0.8690 \n",
      "19929\n"
     ]
    },
    {
     "name": "stderr",
     "output_type": "stream",
     "text": [
      "\r",
      "  1%|▎                                        | 21/3000 [00:03<04:43, 10.50it/s]"
     ]
    },
    {
     "name": "stdout",
     "output_type": "stream",
     "text": [
      "80921\n",
      "Epoch 00019 | Loss 0.9288 | train_RMSE 0.8490 | test_RMSE 0.8473 \n",
      "19929\n",
      "80921\n",
      "Epoch 00020 | Loss 0.8908 | train_RMSE 0.6985 | test_RMSE 0.6972 \n",
      "19929\n",
      "80921\n",
      "Epoch 00021 | Loss 0.6732 | train_RMSE 0.4960 | test_RMSE 0.4952 \n"
     ]
    },
    {
     "name": "stderr",
     "output_type": "stream",
     "text": [
      "\r",
      "  1%|▎                                        | 23/3000 [00:03<04:39, 10.64it/s]"
     ]
    },
    {
     "name": "stdout",
     "output_type": "stream",
     "text": [
      "19929\n",
      "80921\n",
      "Epoch 00022 | Loss 0.4537 | train_RMSE 0.4296 | test_RMSE 0.4287 \n",
      "19929\n",
      "80921\n",
      "Epoch 00023 | Loss 0.4267 | train_RMSE 0.5599 | test_RMSE 0.5582 \n",
      "19929\n"
     ]
    },
    {
     "name": "stderr",
     "output_type": "stream",
     "text": [
      "  1%|▎                                        | 27/3000 [00:03<04:33, 10.87it/s]"
     ]
    },
    {
     "name": "stdout",
     "output_type": "stream",
     "text": [
      "80921\n",
      "Epoch 00024 | Loss 0.5868 | train_RMSE 0.6376 | test_RMSE 0.6357 \n",
      "19929\n",
      "80921\n",
      "Epoch 00025 | Loss 0.6857 | train_RMSE 0.5680 | test_RMSE 0.5664 \n",
      "19929\n",
      "80921\n",
      "Epoch 00026 | Loss 0.5887 | train_RMSE 0.4377 | test_RMSE 0.4363 \n"
     ]
    },
    {
     "name": "stderr",
     "output_type": "stream",
     "text": [
      "\r",
      "  1%|▍                                        | 29/3000 [00:03<04:32, 10.89it/s]"
     ]
    },
    {
     "name": "stdout",
     "output_type": "stream",
     "text": [
      "19929\n",
      "80921\n",
      "Epoch 00027 | Loss 0.4323 | train_RMSE 0.4124 | test_RMSE 0.4108 \n",
      "19929\n",
      "80921\n",
      "Epoch 00028 | Loss 0.3796 | train_RMSE 0.5043 | test_RMSE 0.5023 \n",
      "19929\n"
     ]
    },
    {
     "name": "stderr",
     "output_type": "stream",
     "text": [
      "\r",
      "  1%|▍                                        | 31/3000 [00:03<04:31, 10.95it/s]"
     ]
    },
    {
     "name": "stdout",
     "output_type": "stream",
     "text": [
      "80921\n",
      "Epoch 00029 | Loss 0.4440 | train_RMSE 0.5813 | test_RMSE 0.5791 \n",
      "19929\n",
      "80921\n",
      "Epoch 00030 | Loss 0.5096 | train_RMSE 0.5827 | test_RMSE 0.5805 \n",
      "19929\n",
      "80921\n",
      "Epoch 00031 | Loss 0.5121 | train_RMSE 0.5095 | test_RMSE 0.5073 \n"
     ]
    },
    {
     "name": "stderr",
     "output_type": "stream",
     "text": [
      "\r",
      "  1%|▍                                        | 33/3000 [00:04<04:29, 11.01it/s]"
     ]
    },
    {
     "name": "stdout",
     "output_type": "stream",
     "text": [
      "19929\n",
      "80921\n",
      "Epoch 00032 | Loss 0.4335 | train_RMSE 0.4115 | test_RMSE 0.4093 \n",
      "19929\n",
      "80921\n",
      "Epoch 00033 | Loss 0.3581 | train_RMSE 0.3806 | test_RMSE 0.3784 \n",
      "19929\n"
     ]
    },
    {
     "name": "stderr",
     "output_type": "stream",
     "text": [
      "  1%|▌                                        | 37/3000 [00:04<04:28, 11.02it/s]"
     ]
    },
    {
     "name": "stdout",
     "output_type": "stream",
     "text": [
      "80921\n",
      "Epoch 00034 | Loss 0.3502 | train_RMSE 0.4314 | test_RMSE 0.4293 \n",
      "19929\n",
      "80921\n",
      "Epoch 00035 | Loss 0.4051 | train_RMSE 0.4519 | test_RMSE 0.4498 \n",
      "19929\n",
      "80921\n",
      "Epoch 00036 | Loss 0.4272 | train_RMSE 0.4072 | test_RMSE 0.4053 \n"
     ]
    },
    {
     "name": "stderr",
     "output_type": "stream",
     "text": [
      "\r",
      "  1%|▌                                        | 39/3000 [00:04<04:28, 11.01it/s]"
     ]
    },
    {
     "name": "stdout",
     "output_type": "stream",
     "text": [
      "19929\n",
      "80921\n",
      "Epoch 00037 | Loss 0.3808 | train_RMSE 0.3599 | test_RMSE 0.3579 \n",
      "19929\n",
      "80921\n",
      "Epoch 00038 | Loss 0.3261 | train_RMSE 0.3744 | test_RMSE 0.3722 \n",
      "19929\n"
     ]
    },
    {
     "name": "stderr",
     "output_type": "stream",
     "text": [
      "\r",
      "  1%|▌                                        | 41/3000 [00:04<04:28, 11.02it/s]"
     ]
    },
    {
     "name": "stdout",
     "output_type": "stream",
     "text": [
      "80921\n",
      "Epoch 00039 | Loss 0.3213 | train_RMSE 0.4196 | test_RMSE 0.4173 \n",
      "19929\n",
      "80921\n",
      "Epoch 00040 | Loss 0.3449 | train_RMSE 0.4374 | test_RMSE 0.4351 \n",
      "19929\n",
      "80921\n",
      "Epoch 00041 | Loss 0.3568 | train_RMSE 0.4094 | test_RMSE 0.4072 \n"
     ]
    },
    {
     "name": "stderr",
     "output_type": "stream",
     "text": [
      "\r",
      "  1%|▌                                        | 43/3000 [00:05<04:27, 11.05it/s]"
     ]
    },
    {
     "name": "stdout",
     "output_type": "stream",
     "text": [
      "19929\n",
      "80921\n",
      "Epoch 00042 | Loss 0.3347 | train_RMSE 0.3573 | test_RMSE 0.3552 \n",
      "19929\n",
      "80921\n",
      "Epoch 00043 | Loss 0.3022 | train_RMSE 0.3282 | test_RMSE 0.3262 \n",
      "19929\n"
     ]
    },
    {
     "name": "stderr",
     "output_type": "stream",
     "text": [
      "  2%|▋                                        | 47/3000 [00:05<04:27, 11.03it/s]"
     ]
    },
    {
     "name": "stdout",
     "output_type": "stream",
     "text": [
      "80921\n",
      "Epoch 00044 | Loss 0.2904 | train_RMSE 0.3416 | test_RMSE 0.3398 \n",
      "19929\n",
      "80921\n",
      "Epoch 00045 | Loss 0.3059 | train_RMSE 0.3492 | test_RMSE 0.3475 \n",
      "19929\n",
      "80921\n",
      "Epoch 00046 | Loss 0.3141 | train_RMSE 0.3258 | test_RMSE 0.3241 \n"
     ]
    },
    {
     "name": "stderr",
     "output_type": "stream",
     "text": [
      "\r",
      "  2%|▋                                        | 49/3000 [00:05<04:27, 11.02it/s]"
     ]
    },
    {
     "name": "stdout",
     "output_type": "stream",
     "text": [
      "19929\n",
      "80921\n",
      "Epoch 00047 | Loss 0.2911 | train_RMSE 0.3071 | test_RMSE 0.3054 \n",
      "19929\n",
      "80921\n",
      "Epoch 00048 | Loss 0.2713 | train_RMSE 0.3211 | test_RMSE 0.3192 \n",
      "19929\n"
     ]
    },
    {
     "name": "stderr",
     "output_type": "stream",
     "text": [
      "\r",
      "  2%|▋                                        | 51/3000 [00:05<04:29, 10.95it/s]"
     ]
    },
    {
     "name": "stdout",
     "output_type": "stream",
     "text": [
      "80921\n",
      "Epoch 00049 | Loss 0.2702 | train_RMSE 0.3425 | test_RMSE 0.3405 \n",
      "19929\n",
      "80921\n",
      "Epoch 00050 | Loss 0.2771 | train_RMSE 0.3396 | test_RMSE 0.3375 \n",
      "19929\n",
      "80921\n",
      "Epoch 00051 | Loss 0.2750 | train_RMSE 0.3107 | test_RMSE 0.3087 \n"
     ]
    },
    {
     "name": "stderr",
     "output_type": "stream",
     "text": [
      "\r",
      "  2%|▋                                        | 53/3000 [00:05<04:28, 10.98it/s]"
     ]
    },
    {
     "name": "stdout",
     "output_type": "stream",
     "text": [
      "19929\n",
      "80921\n",
      "Epoch 00052 | Loss 0.2604 | train_RMSE 0.2836 | test_RMSE 0.2819 \n",
      "19929\n",
      "80921\n",
      "Epoch 00053 | Loss 0.2481 | train_RMSE 0.2819 | test_RMSE 0.2805 \n",
      "19929\n"
     ]
    },
    {
     "name": "stderr",
     "output_type": "stream",
     "text": [
      "  2%|▊                                        | 57/3000 [00:06<04:28, 10.97it/s]"
     ]
    },
    {
     "name": "stdout",
     "output_type": "stream",
     "text": [
      "80921\n",
      "Epoch 00054 | Loss 0.2529 | train_RMSE 0.2850 | test_RMSE 0.2838 \n",
      "19929\n",
      "80921\n",
      "Epoch 00055 | Loss 0.2543 | train_RMSE 0.2719 | test_RMSE 0.2706 \n",
      "19929\n",
      "80921\n",
      "Epoch 00056 | Loss 0.2431 | train_RMSE 0.2642 | test_RMSE 0.2625 \n"
     ]
    },
    {
     "name": "stderr",
     "output_type": "stream",
     "text": [
      "\r",
      "  2%|▊                                        | 59/3000 [00:06<04:28, 10.95it/s]"
     ]
    },
    {
     "name": "stdout",
     "output_type": "stream",
     "text": [
      "19929\n",
      "80921\n",
      "Epoch 00057 | Loss 0.2328 | train_RMSE 0.2767 | test_RMSE 0.2747 \n",
      "19929\n",
      "80921\n",
      "Epoch 00058 | Loss 0.2349 | train_RMSE 0.2863 | test_RMSE 0.2842 \n",
      "19929\n"
     ]
    },
    {
     "name": "stderr",
     "output_type": "stream",
     "text": [
      "\r",
      "  2%|▊                                        | 61/3000 [00:06<04:32, 10.78it/s]"
     ]
    },
    {
     "name": "stdout",
     "output_type": "stream",
     "text": [
      "80921\n",
      "Epoch 00059 | Loss 0.2374 | train_RMSE 0.2727 | test_RMSE 0.2707 \n",
      "19929\n",
      "80921\n",
      "Epoch 00060 | Loss 0.2288 | train_RMSE 0.2499 | test_RMSE 0.2482 \n",
      "19929\n",
      "80921\n",
      "Epoch 00061 | Loss 0.2200 | train_RMSE 0.2447 | test_RMSE 0.2434 \n"
     ]
    },
    {
     "name": "stderr",
     "output_type": "stream",
     "text": [
      "\r",
      "  2%|▊                                        | 63/3000 [00:06<04:30, 10.84it/s]"
     ]
    },
    {
     "name": "stdout",
     "output_type": "stream",
     "text": [
      "19929\n",
      "80921\n",
      "Epoch 00062 | Loss 0.2202 | train_RMSE 0.2463 | test_RMSE 0.2452 \n",
      "19929\n",
      "80921\n",
      "Epoch 00063 | Loss 0.2203 | train_RMSE 0.2370 | test_RMSE 0.2357 \n",
      "19929\n"
     ]
    },
    {
     "name": "stderr",
     "output_type": "stream",
     "text": [
      "  2%|▉                                        | 67/3000 [00:07<04:33, 10.72it/s]"
     ]
    },
    {
     "name": "stdout",
     "output_type": "stream",
     "text": [
      "80921\n",
      "Epoch 00064 | Loss 0.2106 | train_RMSE 0.2395 | test_RMSE 0.2378 \n",
      "19929\n",
      "80921\n",
      "Epoch 00065 | Loss 0.2088 | train_RMSE 0.2515 | test_RMSE 0.2496 \n",
      "19929\n",
      "80921\n",
      "Epoch 00066 | Loss 0.2111 | train_RMSE 0.2463 | test_RMSE 0.2445 \n"
     ]
    },
    {
     "name": "stderr",
     "output_type": "stream",
     "text": [
      "\r",
      "  2%|▉                                        | 69/3000 [00:07<04:32, 10.76it/s]"
     ]
    },
    {
     "name": "stdout",
     "output_type": "stream",
     "text": [
      "19929\n",
      "80921\n",
      "Epoch 00067 | Loss 0.2077 | train_RMSE 0.2287 | test_RMSE 0.2273 \n",
      "19929\n",
      "80921\n",
      "Epoch 00068 | Loss 0.1984 | train_RMSE 0.2247 | test_RMSE 0.2237 \n",
      "19929\n"
     ]
    },
    {
     "name": "stderr",
     "output_type": "stream",
     "text": [
      "\r",
      "  2%|▉                                        | 71/3000 [00:07<04:30, 10.82it/s]"
     ]
    },
    {
     "name": "stdout",
     "output_type": "stream",
     "text": [
      "80921\n",
      "Epoch 00069 | Loss 0.2007 | train_RMSE 0.2233 | test_RMSE 0.2224 \n",
      "19929\n",
      "80921\n",
      "Epoch 00070 | Loss 0.1983 | train_RMSE 0.2200 | test_RMSE 0.2188 \n",
      "19929\n",
      "80921\n",
      "Epoch 00071 | Loss 0.1943 | train_RMSE 0.2283 | test_RMSE 0.2268 \n"
     ]
    },
    {
     "name": "stderr",
     "output_type": "stream",
     "text": [
      "\r",
      "  2%|▉                                        | 73/3000 [00:07<04:36, 10.58it/s]"
     ]
    },
    {
     "name": "stdout",
     "output_type": "stream",
     "text": [
      "19929\n",
      "80921\n",
      "Epoch 00072 | Loss 0.1933 | train_RMSE 0.2308 | test_RMSE 0.2292 \n",
      "19929\n",
      "80921\n",
      "Epoch 00073 | Loss 0.1962 | train_RMSE 0.2191 | test_RMSE 0.2177 \n",
      "19929\n"
     ]
    },
    {
     "name": "stderr",
     "output_type": "stream",
     "text": [
      "  3%|█                                        | 77/3000 [00:08<04:31, 10.75it/s]"
     ]
    },
    {
     "name": "stdout",
     "output_type": "stream",
     "text": [
      "80921\n",
      "Epoch 00074 | Loss 0.1906 | train_RMSE 0.2127 | test_RMSE 0.2117 \n",
      "19929\n",
      "80921\n",
      "Epoch 00075 | Loss 0.1896 | train_RMSE 0.2120 | test_RMSE 0.2111 \n",
      "19929\n",
      "80921\n",
      "Epoch 00076 | Loss 0.1878 | train_RMSE 0.2111 | test_RMSE 0.2099 \n"
     ]
    },
    {
     "name": "stderr",
     "output_type": "stream",
     "text": [
      "\r",
      "  3%|█                                        | 79/3000 [00:08<04:33, 10.69it/s]"
     ]
    },
    {
     "name": "stdout",
     "output_type": "stream",
     "text": [
      "19929\n",
      "80921\n",
      "Epoch 00077 | Loss 0.1850 | train_RMSE 0.2192 | test_RMSE 0.2176 \n",
      "19929\n",
      "80921\n",
      "Epoch 00078 | Loss 0.1839 | train_RMSE 0.2185 | test_RMSE 0.2169 \n",
      "19929\n"
     ]
    },
    {
     "name": "stderr",
     "output_type": "stream",
     "text": [
      "\r",
      "  3%|█                                        | 81/3000 [00:08<04:31, 10.75it/s]"
     ]
    },
    {
     "name": "stdout",
     "output_type": "stream",
     "text": [
      "80921\n",
      "Epoch 00079 | Loss 0.1827 | train_RMSE 0.2087 | test_RMSE 0.2073 \n",
      "19929\n",
      "80921\n",
      "Epoch 00080 | Loss 0.1797 | train_RMSE 0.2059 | test_RMSE 0.2048 \n",
      "19929\n",
      "80921\n",
      "Epoch 00081 | Loss 0.1802 | train_RMSE 0.2047 | test_RMSE 0.2035 \n"
     ]
    },
    {
     "name": "stderr",
     "output_type": "stream",
     "text": [
      "\r",
      "  3%|█▏                                       | 83/3000 [00:08<04:29, 10.81it/s]"
     ]
    },
    {
     "name": "stdout",
     "output_type": "stream",
     "text": [
      "19929\n",
      "80921\n",
      "Epoch 00082 | Loss 0.1778 | train_RMSE 0.2087 | test_RMSE 0.2071 \n",
      "19929\n",
      "80921\n",
      "Epoch 00083 | Loss 0.1765 | train_RMSE 0.2110 | test_RMSE 0.2093 \n",
      "19929\n"
     ]
    },
    {
     "name": "stderr",
     "output_type": "stream",
     "text": [
      "  3%|█▏                                       | 87/3000 [00:09<04:31, 10.74it/s]"
     ]
    },
    {
     "name": "stdout",
     "output_type": "stream",
     "text": [
      "80921\n",
      "Epoch 00084 | Loss 0.1775 | train_RMSE 0.2045 | test_RMSE 0.2029 \n",
      "19929\n",
      "80921\n",
      "Epoch 00085 | Loss 0.1740 | train_RMSE 0.1999 | test_RMSE 0.1986 \n",
      "19929\n",
      "80921\n",
      "Epoch 00086 | Loss 0.1746 | train_RMSE 0.1990 | test_RMSE 0.1976 \n"
     ]
    },
    {
     "name": "stderr",
     "output_type": "stream",
     "text": [
      "\r",
      "  3%|█▏                                       | 89/3000 [00:09<04:30, 10.78it/s]"
     ]
    },
    {
     "name": "stdout",
     "output_type": "stream",
     "text": [
      "19929\n",
      "80921\n",
      "Epoch 00087 | Loss 0.1716 | train_RMSE 0.2018 | test_RMSE 0.2001 \n",
      "19929\n",
      "80921\n",
      "Epoch 00088 | Loss 0.1702 | train_RMSE 0.2046 | test_RMSE 0.2028 \n",
      "19929\n"
     ]
    },
    {
     "name": "stderr",
     "output_type": "stream",
     "text": [
      "\r",
      "  3%|█▏                                       | 91/3000 [00:09<04:28, 10.83it/s]"
     ]
    },
    {
     "name": "stdout",
     "output_type": "stream",
     "text": [
      "80921\n",
      "Epoch 00089 | Loss 0.1713 | train_RMSE 0.1995 | test_RMSE 0.1978 \n",
      "19929\n",
      "80921\n",
      "Epoch 00090 | Loss 0.1693 | train_RMSE 0.1954 | test_RMSE 0.1938 \n",
      "19929\n",
      "80921\n",
      "Epoch 00091 | Loss 0.1680 | train_RMSE 0.1943 | test_RMSE 0.1927 \n"
     ]
    },
    {
     "name": "stderr",
     "output_type": "stream",
     "text": [
      "\r",
      "  3%|█▎                                       | 93/3000 [00:09<04:28, 10.82it/s]"
     ]
    },
    {
     "name": "stdout",
     "output_type": "stream",
     "text": [
      "19929\n",
      "80921\n",
      "Epoch 00092 | Loss 0.1672 | train_RMSE 0.1964 | test_RMSE 0.1946 \n",
      "19929\n",
      "80921\n",
      "Epoch 00093 | Loss 0.1650 | train_RMSE 0.1997 | test_RMSE 0.1977 \n",
      "19929\n"
     ]
    },
    {
     "name": "stderr",
     "output_type": "stream",
     "text": [
      "  3%|█▎                                       | 97/3000 [00:10<04:27, 10.85it/s]"
     ]
    },
    {
     "name": "stdout",
     "output_type": "stream",
     "text": [
      "80921\n",
      "Epoch 00094 | Loss 0.1673 | train_RMSE 0.1956 | test_RMSE 0.1937 \n",
      "19929\n",
      "80921\n",
      "Epoch 00095 | Loss 0.1650 | train_RMSE 0.1914 | test_RMSE 0.1897 \n",
      "19929\n",
      "80921\n",
      "Epoch 00096 | Loss 0.1639 | train_RMSE 0.1908 | test_RMSE 0.1891 \n"
     ]
    },
    {
     "name": "stderr",
     "output_type": "stream",
     "text": [
      "\r",
      "  3%|█▎                                       | 99/3000 [00:10<04:27, 10.84it/s]"
     ]
    },
    {
     "name": "stdout",
     "output_type": "stream",
     "text": [
      "19929\n",
      "80921\n",
      "Epoch 00097 | Loss 0.1636 | train_RMSE 0.1927 | test_RMSE 0.1908 \n",
      "19929\n",
      "80921\n",
      "Epoch 00098 | Loss 0.1635 | train_RMSE 0.1942 | test_RMSE 0.1922 \n",
      "19929\n"
     ]
    },
    {
     "name": "stderr",
     "output_type": "stream",
     "text": [
      "\r",
      "  3%|█▎                                      | 101/3000 [00:10<04:27, 10.85it/s]"
     ]
    },
    {
     "name": "stdout",
     "output_type": "stream",
     "text": [
      "80921\n",
      "Epoch 00099 | Loss 0.1622 | train_RMSE 0.1909 | test_RMSE 0.1890 \n",
      "19929\n",
      "80921\n",
      "Epoch 00100 | Loss 0.1617 | train_RMSE 0.1883 | test_RMSE 0.1865 \n",
      "19929\n",
      "80921\n",
      "Epoch 00101 | Loss 0.1610 | train_RMSE 0.1878 | test_RMSE 0.1860 \n"
     ]
    },
    {
     "name": "stderr",
     "output_type": "stream",
     "text": [
      "\r",
      "  3%|█▎                                      | 103/3000 [00:10<04:26, 10.87it/s]"
     ]
    },
    {
     "name": "stdout",
     "output_type": "stream",
     "text": [
      "19929\n",
      "80921\n",
      "Epoch 00102 | Loss 0.1617 | train_RMSE 0.1892 | test_RMSE 0.1872 \n",
      "19929\n",
      "80921\n",
      "Epoch 00103 | Loss 0.1594 | train_RMSE 0.1885 | test_RMSE 0.1865 \n",
      "19929\n"
     ]
    },
    {
     "name": "stderr",
     "output_type": "stream",
     "text": [
      "  4%|█▍                                      | 107/3000 [00:10<04:25, 10.91it/s]"
     ]
    },
    {
     "name": "stdout",
     "output_type": "stream",
     "text": [
      "80921\n",
      "Epoch 00104 | Loss 0.1595 | train_RMSE 0.1867 | test_RMSE 0.1848 \n",
      "19929\n",
      "80921\n",
      "Epoch 00105 | Loss 0.1578 | train_RMSE 0.1853 | test_RMSE 0.1834 \n",
      "19929\n",
      "80921\n",
      "Epoch 00106 | Loss 0.1580 | train_RMSE 0.1849 | test_RMSE 0.1830 \n"
     ]
    },
    {
     "name": "stderr",
     "output_type": "stream",
     "text": [
      "\r",
      "  4%|█▍                                      | 109/3000 [00:11<04:25, 10.91it/s]"
     ]
    },
    {
     "name": "stdout",
     "output_type": "stream",
     "text": [
      "19929\n",
      "80921\n",
      "Epoch 00107 | Loss 0.1585 | train_RMSE 0.1854 | test_RMSE 0.1834 \n",
      "19929\n",
      "80921\n",
      "Epoch 00108 | Loss 0.1560 | train_RMSE 0.1853 | test_RMSE 0.1832 \n",
      "19929\n"
     ]
    },
    {
     "name": "stderr",
     "output_type": "stream",
     "text": [
      "\r",
      "  4%|█▍                                      | 111/3000 [00:11<04:23, 10.96it/s]"
     ]
    },
    {
     "name": "stdout",
     "output_type": "stream",
     "text": [
      "80921\n",
      "Epoch 00109 | Loss 0.1573 | train_RMSE 0.1841 | test_RMSE 0.1821 \n",
      "19929\n",
      "80921\n",
      "Epoch 00110 | Loss 0.1570 | train_RMSE 0.1824 | test_RMSE 0.1804 \n",
      "19929\n",
      "80921\n",
      "Epoch 00111 | Loss 0.1552 | train_RMSE 0.1826 | test_RMSE 0.1805 \n"
     ]
    },
    {
     "name": "stderr",
     "output_type": "stream",
     "text": [
      "\r",
      "  4%|█▌                                      | 113/3000 [00:11<04:23, 10.95it/s]"
     ]
    },
    {
     "name": "stdout",
     "output_type": "stream",
     "text": [
      "19929\n",
      "80921\n",
      "Epoch 00112 | Loss 0.1561 | train_RMSE 0.1838 | test_RMSE 0.1816 \n",
      "19929\n",
      "80921\n",
      "Epoch 00113 | Loss 0.1544 | train_RMSE 0.1829 | test_RMSE 0.1808 \n",
      "19929\n"
     ]
    },
    {
     "name": "stderr",
     "output_type": "stream",
     "text": [
      "  4%|█▌                                      | 117/3000 [00:11<04:23, 10.93it/s]"
     ]
    },
    {
     "name": "stdout",
     "output_type": "stream",
     "text": [
      "80921\n",
      "Epoch 00114 | Loss 0.1536 | train_RMSE 0.1812 | test_RMSE 0.1791 \n",
      "19929\n",
      "80921\n",
      "Epoch 00115 | Loss 0.1520 | train_RMSE 0.1801 | test_RMSE 0.1780 \n",
      "19929\n",
      "80921\n",
      "Epoch 00116 | Loss 0.1536 | train_RMSE 0.1805 | test_RMSE 0.1783 \n"
     ]
    },
    {
     "name": "stderr",
     "output_type": "stream",
     "text": [
      "\r",
      "  4%|█▌                                      | 119/3000 [00:12<04:24, 10.90it/s]"
     ]
    },
    {
     "name": "stdout",
     "output_type": "stream",
     "text": [
      "19929\n",
      "80921\n",
      "Epoch 00117 | Loss 0.1513 | train_RMSE 0.1802 | test_RMSE 0.1780 \n",
      "19929\n",
      "80921\n",
      "Epoch 00118 | Loss 0.1513 | train_RMSE 0.1796 | test_RMSE 0.1774 \n",
      "19929\n"
     ]
    },
    {
     "name": "stderr",
     "output_type": "stream",
     "text": [
      "\r",
      "  4%|█▌                                      | 121/3000 [00:12<04:23, 10.91it/s]"
     ]
    },
    {
     "name": "stdout",
     "output_type": "stream",
     "text": [
      "80921\n",
      "Epoch 00119 | Loss 0.1532 | train_RMSE 0.1796 | test_RMSE 0.1774 \n",
      "19929\n",
      "80921\n",
      "Epoch 00120 | Loss 0.1512 | train_RMSE 0.1786 | test_RMSE 0.1764 \n",
      "19929\n",
      "80921\n",
      "Epoch 00121 | Loss 0.1513 | train_RMSE 0.1786 | test_RMSE 0.1763 \n"
     ]
    },
    {
     "name": "stderr",
     "output_type": "stream",
     "text": [
      "\r",
      "  4%|█▋                                      | 123/3000 [00:12<04:23, 10.91it/s]"
     ]
    },
    {
     "name": "stdout",
     "output_type": "stream",
     "text": [
      "19929\n",
      "80921\n",
      "Epoch 00122 | Loss 0.1495 | train_RMSE 0.1784 | test_RMSE 0.1760 \n",
      "19929\n",
      "80921\n",
      "Epoch 00123 | Loss 0.1491 | train_RMSE 0.1786 | test_RMSE 0.1762 \n",
      "19929\n"
     ]
    },
    {
     "name": "stderr",
     "output_type": "stream",
     "text": [
      "  4%|█▋                                      | 127/3000 [00:12<04:22, 10.93it/s]"
     ]
    },
    {
     "name": "stdout",
     "output_type": "stream",
     "text": [
      "80921\n",
      "Epoch 00124 | Loss 0.1501 | train_RMSE 0.1768 | test_RMSE 0.1744 \n",
      "19929\n",
      "80921\n",
      "Epoch 00125 | Loss 0.1482 | train_RMSE 0.1761 | test_RMSE 0.1737 \n",
      "19929\n",
      "80921\n",
      "Epoch 00126 | Loss 0.1488 | train_RMSE 0.1767 | test_RMSE 0.1743 \n"
     ]
    },
    {
     "name": "stderr",
     "output_type": "stream",
     "text": [
      "\r",
      "  4%|█▋                                      | 129/3000 [00:12<04:21, 10.96it/s]"
     ]
    },
    {
     "name": "stdout",
     "output_type": "stream",
     "text": [
      "19929\n",
      "80921\n",
      "Epoch 00127 | Loss 0.1485 | train_RMSE 0.1772 | test_RMSE 0.1747 \n",
      "19929\n",
      "80921\n",
      "Epoch 00128 | Loss 0.1484 | train_RMSE 0.1752 | test_RMSE 0.1728 \n",
      "19929\n"
     ]
    },
    {
     "name": "stderr",
     "output_type": "stream",
     "text": [
      "\r",
      "  4%|█▋                                      | 131/3000 [00:13<04:22, 10.94it/s]"
     ]
    },
    {
     "name": "stdout",
     "output_type": "stream",
     "text": [
      "80921\n",
      "Epoch 00129 | Loss 0.1489 | train_RMSE 0.1746 | test_RMSE 0.1723 \n",
      "19929\n",
      "80921\n",
      "Epoch 00130 | Loss 0.1476 | train_RMSE 0.1760 | test_RMSE 0.1736 \n",
      "19929\n",
      "80921\n",
      "Epoch 00131 | Loss 0.1479 | train_RMSE 0.1763 | test_RMSE 0.1738 \n"
     ]
    },
    {
     "name": "stderr",
     "output_type": "stream",
     "text": [
      "\r",
      "  4%|█▊                                      | 133/3000 [00:13<04:27, 10.72it/s]"
     ]
    },
    {
     "name": "stdout",
     "output_type": "stream",
     "text": [
      "19929\n",
      "80921\n",
      "Epoch 00132 | Loss 0.1448 | train_RMSE 0.1742 | test_RMSE 0.1717 \n",
      "19929\n",
      "80921\n",
      "Epoch 00133 | Loss 0.1460 | train_RMSE 0.1734 | test_RMSE 0.1709 \n",
      "19929\n"
     ]
    },
    {
     "name": "stderr",
     "output_type": "stream",
     "text": [
      "  5%|█▊                                      | 137/3000 [00:13<04:22, 10.90it/s]"
     ]
    },
    {
     "name": "stdout",
     "output_type": "stream",
     "text": [
      "80921\n",
      "Epoch 00134 | Loss 0.1458 | train_RMSE 0.1740 | test_RMSE 0.1714 \n",
      "19929\n",
      "80921\n",
      "Epoch 00135 | Loss 0.1451 | train_RMSE 0.1750 | test_RMSE 0.1724 \n",
      "19929\n",
      "80921\n",
      "Epoch 00136 | Loss 0.1461 | train_RMSE 0.1737 | test_RMSE 0.1711 \n"
     ]
    },
    {
     "name": "stderr",
     "output_type": "stream",
     "text": [
      "\r",
      "  5%|█▊                                      | 139/3000 [00:13<04:21, 10.95it/s]"
     ]
    },
    {
     "name": "stdout",
     "output_type": "stream",
     "text": [
      "19929\n",
      "80921\n",
      "Epoch 00137 | Loss 0.1463 | train_RMSE 0.1730 | test_RMSE 0.1705 \n",
      "19929\n",
      "80921\n",
      "Epoch 00138 | Loss 0.1456 | train_RMSE 0.1730 | test_RMSE 0.1705 \n",
      "19929\n"
     ]
    },
    {
     "name": "stderr",
     "output_type": "stream",
     "text": [
      "\r",
      "  5%|█▉                                      | 141/3000 [00:14<04:21, 10.95it/s]"
     ]
    },
    {
     "name": "stdout",
     "output_type": "stream",
     "text": [
      "80921\n",
      "Epoch 00139 | Loss 0.1444 | train_RMSE 0.1733 | test_RMSE 0.1708 \n",
      "19929\n",
      "80921\n",
      "Epoch 00140 | Loss 0.1445 | train_RMSE 0.1728 | test_RMSE 0.1702 \n",
      "19929\n",
      "80921\n",
      "Epoch 00141 | Loss 0.1436 | train_RMSE 0.1718 | test_RMSE 0.1692 \n"
     ]
    },
    {
     "name": "stderr",
     "output_type": "stream",
     "text": [
      "\r",
      "  5%|█▉                                      | 143/3000 [00:14<04:21, 10.92it/s]"
     ]
    },
    {
     "name": "stdout",
     "output_type": "stream",
     "text": [
      "19929\n",
      "80921\n",
      "Epoch 00142 | Loss 0.1428 | train_RMSE 0.1715 | test_RMSE 0.1688 \n",
      "19929\n",
      "80921\n",
      "Epoch 00143 | Loss 0.1446 | train_RMSE 0.1719 | test_RMSE 0.1691 \n",
      "19929\n"
     ]
    },
    {
     "name": "stderr",
     "output_type": "stream",
     "text": [
      "  5%|█▉                                      | 147/3000 [00:14<04:20, 10.97it/s]"
     ]
    },
    {
     "name": "stdout",
     "output_type": "stream",
     "text": [
      "80921\n",
      "Epoch 00144 | Loss 0.1433 | train_RMSE 0.1729 | test_RMSE 0.1701 \n",
      "19929\n",
      "80921\n",
      "Epoch 00145 | Loss 0.1439 | train_RMSE 0.1716 | test_RMSE 0.1689 \n",
      "19929\n",
      "80921\n",
      "Epoch 00146 | Loss 0.1414 | train_RMSE 0.1703 | test_RMSE 0.1677 \n"
     ]
    },
    {
     "name": "stderr",
     "output_type": "stream",
     "text": [
      "\r",
      "  5%|█▉                                      | 149/3000 [00:14<04:19, 11.00it/s]"
     ]
    },
    {
     "name": "stdout",
     "output_type": "stream",
     "text": [
      "19929\n",
      "80921\n",
      "Epoch 00147 | Loss 0.1423 | train_RMSE 0.1711 | test_RMSE 0.1684 \n",
      "19929\n",
      "80921\n",
      "Epoch 00148 | Loss 0.1417 | train_RMSE 0.1717 | test_RMSE 0.1690 \n",
      "19929\n"
     ]
    },
    {
     "name": "stderr",
     "output_type": "stream",
     "text": [
      "\r",
      "  5%|██                                      | 151/3000 [00:14<04:19, 10.98it/s]"
     ]
    },
    {
     "name": "stdout",
     "output_type": "stream",
     "text": [
      "80921\n",
      "Epoch 00149 | Loss 0.1400 | train_RMSE 0.1702 | test_RMSE 0.1676 \n",
      "19929\n",
      "80921\n",
      "Epoch 00150 | Loss 0.1405 | train_RMSE 0.1697 | test_RMSE 0.1670 \n",
      "19929\n",
      "80921\n",
      "Epoch 00151 | Loss 0.1429 | train_RMSE 0.1703 | test_RMSE 0.1675 \n"
     ]
    },
    {
     "name": "stderr",
     "output_type": "stream",
     "text": [
      "\r",
      "  5%|██                                      | 153/3000 [00:15<04:18, 11.00it/s]"
     ]
    },
    {
     "name": "stdout",
     "output_type": "stream",
     "text": [
      "19929\n",
      "80921\n",
      "Epoch 00152 | Loss 0.1415 | train_RMSE 0.1702 | test_RMSE 0.1675 \n",
      "19929\n",
      "80921\n",
      "Epoch 00153 | Loss 0.1409 | train_RMSE 0.1688 | test_RMSE 0.1662 \n",
      "19929\n"
     ]
    },
    {
     "name": "stderr",
     "output_type": "stream",
     "text": [
      "  5%|██                                      | 157/3000 [00:15<04:18, 10.98it/s]"
     ]
    },
    {
     "name": "stdout",
     "output_type": "stream",
     "text": [
      "80921\n",
      "Epoch 00154 | Loss 0.1415 | train_RMSE 0.1693 | test_RMSE 0.1667 \n",
      "19929\n",
      "80921\n",
      "Epoch 00155 | Loss 0.1398 | train_RMSE 0.1707 | test_RMSE 0.1679 \n",
      "19929\n",
      "80921\n",
      "Epoch 00156 | Loss 0.1395 | train_RMSE 0.1681 | test_RMSE 0.1655 \n"
     ]
    },
    {
     "name": "stderr",
     "output_type": "stream",
     "text": [
      "\r",
      "  5%|██                                      | 159/3000 [00:15<04:18, 10.97it/s]"
     ]
    },
    {
     "name": "stdout",
     "output_type": "stream",
     "text": [
      "19929\n",
      "80921\n",
      "Epoch 00157 | Loss 0.1397 | train_RMSE 0.1682 | test_RMSE 0.1656 \n",
      "19929\n",
      "80921\n",
      "Epoch 00158 | Loss 0.1391 | train_RMSE 0.1697 | test_RMSE 0.1670 \n",
      "19929\n"
     ]
    },
    {
     "name": "stderr",
     "output_type": "stream",
     "text": [
      "\r",
      "  5%|██▏                                     | 161/3000 [00:15<04:18, 10.97it/s]"
     ]
    },
    {
     "name": "stdout",
     "output_type": "stream",
     "text": [
      "80921\n",
      "Epoch 00159 | Loss 0.1384 | train_RMSE 0.1695 | test_RMSE 0.1667 \n",
      "19929\n",
      "80921\n",
      "Epoch 00160 | Loss 0.1386 | train_RMSE 0.1673 | test_RMSE 0.1646 \n",
      "19929\n",
      "80921\n",
      "Epoch 00161 | Loss 0.1390 | train_RMSE 0.1679 | test_RMSE 0.1652 \n"
     ]
    },
    {
     "name": "stderr",
     "output_type": "stream",
     "text": [
      "\r",
      "  5%|██▏                                     | 163/3000 [00:16<04:18, 10.99it/s]"
     ]
    },
    {
     "name": "stdout",
     "output_type": "stream",
     "text": [
      "19929\n",
      "80921\n",
      "Epoch 00162 | Loss 0.1388 | train_RMSE 0.1703 | test_RMSE 0.1674 \n",
      "19929\n",
      "80921\n",
      "Epoch 00163 | Loss 0.1381 | train_RMSE 0.1672 | test_RMSE 0.1643 \n",
      "19929\n"
     ]
    },
    {
     "name": "stderr",
     "output_type": "stream",
     "text": [
      "  6%|██▏                                     | 167/3000 [00:16<04:19, 10.91it/s]"
     ]
    },
    {
     "name": "stdout",
     "output_type": "stream",
     "text": [
      "80921\n",
      "Epoch 00164 | Loss 0.1379 | train_RMSE 0.1659 | test_RMSE 0.1632 \n",
      "19929\n",
      "80921\n",
      "Epoch 00165 | Loss 0.1377 | train_RMSE 0.1693 | test_RMSE 0.1664 \n",
      "19929\n",
      "80921\n",
      "Epoch 00166 | Loss 0.1373 | train_RMSE 0.1679 | test_RMSE 0.1650 \n"
     ]
    },
    {
     "name": "stderr",
     "output_type": "stream",
     "text": [
      "\r",
      "  6%|██▎                                     | 169/3000 [00:16<04:19, 10.93it/s]"
     ]
    },
    {
     "name": "stdout",
     "output_type": "stream",
     "text": [
      "19929\n",
      "80921\n",
      "Epoch 00167 | Loss 0.1360 | train_RMSE 0.1654 | test_RMSE 0.1627 \n",
      "19929\n",
      "80921\n",
      "Epoch 00168 | Loss 0.1376 | train_RMSE 0.1668 | test_RMSE 0.1640 \n",
      "19929\n"
     ]
    },
    {
     "name": "stderr",
     "output_type": "stream",
     "text": [
      "\r",
      "  6%|██▎                                     | 171/3000 [00:16<04:17, 10.97it/s]"
     ]
    },
    {
     "name": "stdout",
     "output_type": "stream",
     "text": [
      "80921\n",
      "Epoch 00169 | Loss 0.1369 | train_RMSE 0.1690 | test_RMSE 0.1661 \n",
      "19929\n",
      "80921\n",
      "Epoch 00170 | Loss 0.1366 | train_RMSE 0.1657 | test_RMSE 0.1630 \n",
      "19929\n",
      "80921\n",
      "Epoch 00171 | Loss 0.1347 | train_RMSE 0.1656 | test_RMSE 0.1628 \n"
     ]
    },
    {
     "name": "stderr",
     "output_type": "stream",
     "text": [
      "\r",
      "  6%|██▎                                     | 173/3000 [00:16<04:18, 10.95it/s]"
     ]
    },
    {
     "name": "stdout",
     "output_type": "stream",
     "text": [
      "19929\n",
      "80921\n",
      "Epoch 00172 | Loss 0.1369 | train_RMSE 0.1677 | test_RMSE 0.1648 \n",
      "19929\n",
      "80921\n",
      "Epoch 00173 | Loss 0.1358 | train_RMSE 0.1661 | test_RMSE 0.1632 \n",
      "19929\n"
     ]
    },
    {
     "name": "stderr",
     "output_type": "stream",
     "text": [
      "  6%|██▎                                     | 177/3000 [00:17<04:16, 11.01it/s]"
     ]
    },
    {
     "name": "stdout",
     "output_type": "stream",
     "text": [
      "80921\n",
      "Epoch 00174 | Loss 0.1363 | train_RMSE 0.1653 | test_RMSE 0.1624 \n",
      "19929\n",
      "80921\n",
      "Epoch 00175 | Loss 0.1353 | train_RMSE 0.1664 | test_RMSE 0.1635 \n",
      "19929\n",
      "80921\n",
      "Epoch 00176 | Loss 0.1367 | train_RMSE 0.1672 | test_RMSE 0.1642 \n"
     ]
    },
    {
     "name": "stderr",
     "output_type": "stream",
     "text": [
      "\r",
      "  6%|██▍                                     | 179/3000 [00:17<04:15, 11.03it/s]"
     ]
    },
    {
     "name": "stdout",
     "output_type": "stream",
     "text": [
      "19929\n",
      "80921\n",
      "Epoch 00177 | Loss 0.1361 | train_RMSE 0.1651 | test_RMSE 0.1622 \n",
      "19929\n",
      "80921\n",
      "Epoch 00178 | Loss 0.1356 | train_RMSE 0.1649 | test_RMSE 0.1619 \n",
      "19929\n"
     ]
    },
    {
     "name": "stderr",
     "output_type": "stream",
     "text": [
      "\r",
      "  6%|██▍                                     | 181/3000 [00:17<04:15, 11.05it/s]"
     ]
    },
    {
     "name": "stdout",
     "output_type": "stream",
     "text": [
      "80921\n",
      "Epoch 00179 | Loss 0.1353 | train_RMSE 0.1664 | test_RMSE 0.1633 \n",
      "19929\n",
      "80921\n",
      "Epoch 00180 | Loss 0.1356 | train_RMSE 0.1651 | test_RMSE 0.1622 \n",
      "19929\n",
      "80921\n",
      "Epoch 00181 | Loss 0.1346 | train_RMSE 0.1646 | test_RMSE 0.1617 \n"
     ]
    },
    {
     "name": "stderr",
     "output_type": "stream",
     "text": [
      "\r",
      "  6%|██▍                                     | 183/3000 [00:17<04:15, 11.02it/s]"
     ]
    },
    {
     "name": "stdout",
     "output_type": "stream",
     "text": [
      "19929\n",
      "80921\n",
      "Epoch 00182 | Loss 0.1347 | train_RMSE 0.1649 | test_RMSE 0.1620 \n",
      "19929\n",
      "80921\n",
      "Epoch 00183 | Loss 0.1350 | train_RMSE 0.1650 | test_RMSE 0.1621 \n",
      "19929\n"
     ]
    },
    {
     "name": "stderr",
     "output_type": "stream",
     "text": [
      "  6%|██▍                                     | 187/3000 [00:18<04:15, 11.02it/s]"
     ]
    },
    {
     "name": "stdout",
     "output_type": "stream",
     "text": [
      "80921\n",
      "Epoch 00184 | Loss 0.1332 | train_RMSE 0.1647 | test_RMSE 0.1618 \n",
      "19929\n",
      "80921\n",
      "Epoch 00185 | Loss 0.1335 | train_RMSE 0.1654 | test_RMSE 0.1624 \n",
      "19929\n",
      "80921\n",
      "Epoch 00186 | Loss 0.1343 | train_RMSE 0.1639 | test_RMSE 0.1609 \n"
     ]
    },
    {
     "name": "stderr",
     "output_type": "stream",
     "text": [
      "\r",
      "  6%|██▌                                     | 189/3000 [00:18<04:15, 11.02it/s]"
     ]
    },
    {
     "name": "stdout",
     "output_type": "stream",
     "text": [
      "19929\n",
      "80921\n",
      "Epoch 00187 | Loss 0.1339 | train_RMSE 0.1648 | test_RMSE 0.1618 \n",
      "19929\n",
      "80921\n",
      "Epoch 00188 | Loss 0.1344 | train_RMSE 0.1641 | test_RMSE 0.1611 \n",
      "19929\n"
     ]
    },
    {
     "name": "stderr",
     "output_type": "stream",
     "text": [
      "\r",
      "  6%|██▌                                     | 191/3000 [00:18<04:14, 11.03it/s]"
     ]
    },
    {
     "name": "stdout",
     "output_type": "stream",
     "text": [
      "80921\n",
      "Epoch 00189 | Loss 0.1349 | train_RMSE 0.1641 | test_RMSE 0.1612 \n",
      "19929\n",
      "80921\n",
      "Epoch 00190 | Loss 0.1337 | train_RMSE 0.1640 | test_RMSE 0.1611 \n",
      "19929\n",
      "80921\n",
      "Epoch 00191 | Loss 0.1327 | train_RMSE 0.1642 | test_RMSE 0.1612 \n"
     ]
    },
    {
     "name": "stderr",
     "output_type": "stream",
     "text": [
      "\r",
      "  6%|██▌                                     | 193/3000 [00:18<04:15, 10.99it/s]"
     ]
    },
    {
     "name": "stdout",
     "output_type": "stream",
     "text": [
      "19929\n",
      "80921\n",
      "Epoch 00192 | Loss 0.1332 | train_RMSE 0.1639 | test_RMSE 0.1609 \n",
      "19929\n",
      "80921\n",
      "Epoch 00193 | Loss 0.1333 | train_RMSE 0.1636 | test_RMSE 0.1606 \n",
      "19929\n"
     ]
    },
    {
     "name": "stderr",
     "output_type": "stream",
     "text": [
      "  7%|██▋                                     | 197/3000 [00:19<04:14, 11.00it/s]"
     ]
    },
    {
     "name": "stdout",
     "output_type": "stream",
     "text": [
      "80921\n",
      "Epoch 00194 | Loss 0.1313 | train_RMSE 0.1634 | test_RMSE 0.1603 \n",
      "19929\n",
      "80921\n",
      "Epoch 00195 | Loss 0.1335 | train_RMSE 0.1635 | test_RMSE 0.1604 \n",
      "19929\n",
      "80921\n",
      "Epoch 00196 | Loss 0.1324 | train_RMSE 0.1640 | test_RMSE 0.1609 \n"
     ]
    },
    {
     "name": "stderr",
     "output_type": "stream",
     "text": [
      "\r",
      "  7%|██▋                                     | 199/3000 [00:19<04:14, 11.00it/s]"
     ]
    },
    {
     "name": "stdout",
     "output_type": "stream",
     "text": [
      "19929\n",
      "80921\n",
      "Epoch 00197 | Loss 0.1314 | train_RMSE 0.1623 | test_RMSE 0.1593 \n",
      "19929\n",
      "80921\n",
      "Epoch 00198 | Loss 0.1315 | train_RMSE 0.1647 | test_RMSE 0.1617 \n",
      "19929\n"
     ]
    },
    {
     "name": "stderr",
     "output_type": "stream",
     "text": [
      "\r",
      "  7%|██▋                                     | 201/3000 [00:19<04:14, 10.99it/s]"
     ]
    },
    {
     "name": "stdout",
     "output_type": "stream",
     "text": [
      "80921\n",
      "Epoch 00199 | Loss 0.1320 | train_RMSE 0.1632 | test_RMSE 0.1603 \n",
      "19929\n",
      "80921\n",
      "Epoch 00200 | Loss 0.1327 | train_RMSE 0.1618 | test_RMSE 0.1590 \n",
      "19929\n",
      "80921\n",
      "Epoch 00201 | Loss 0.1326 | train_RMSE 0.1648 | test_RMSE 0.1618 \n"
     ]
    },
    {
     "name": "stderr",
     "output_type": "stream",
     "text": [
      "\r",
      "  7%|██▋                                     | 203/3000 [00:19<04:14, 11.00it/s]"
     ]
    },
    {
     "name": "stdout",
     "output_type": "stream",
     "text": [
      "19929\n",
      "80921\n",
      "Epoch 00202 | Loss 0.1319 | train_RMSE 0.1631 | test_RMSE 0.1602 \n",
      "19929\n",
      "80921\n",
      "Epoch 00203 | Loss 0.1314 | train_RMSE 0.1612 | test_RMSE 0.1583 \n",
      "19929\n"
     ]
    },
    {
     "name": "stderr",
     "output_type": "stream",
     "text": [
      "  7%|██▊                                     | 207/3000 [00:20<04:14, 10.97it/s]"
     ]
    },
    {
     "name": "stdout",
     "output_type": "stream",
     "text": [
      "80921\n",
      "Epoch 00204 | Loss 0.1316 | train_RMSE 0.1640 | test_RMSE 0.1609 \n",
      "19929\n",
      "80921\n",
      "Epoch 00205 | Loss 0.1311 | train_RMSE 0.1630 | test_RMSE 0.1599 \n",
      "19929\n",
      "80921\n",
      "Epoch 00206 | Loss 0.1316 | train_RMSE 0.1612 | test_RMSE 0.1582 \n"
     ]
    },
    {
     "name": "stderr",
     "output_type": "stream",
     "text": [
      "\r",
      "  7%|██▊                                     | 209/3000 [00:20<04:14, 10.95it/s]"
     ]
    },
    {
     "name": "stdout",
     "output_type": "stream",
     "text": [
      "19929\n",
      "80921\n",
      "Epoch 00207 | Loss 0.1308 | train_RMSE 0.1652 | test_RMSE 0.1620 \n",
      "19929\n",
      "80921\n",
      "Epoch 00208 | Loss 0.1308 | train_RMSE 0.1628 | test_RMSE 0.1598 \n",
      "19929\n"
     ]
    },
    {
     "name": "stderr",
     "output_type": "stream",
     "text": [
      "\r",
      "  7%|██▊                                     | 211/3000 [00:20<04:14, 10.94it/s]"
     ]
    },
    {
     "name": "stdout",
     "output_type": "stream",
     "text": [
      "80921\n",
      "Epoch 00209 | Loss 0.1299 | train_RMSE 0.1606 | test_RMSE 0.1577 \n",
      "19929\n",
      "80921\n",
      "Epoch 00210 | Loss 0.1313 | train_RMSE 0.1634 | test_RMSE 0.1603 \n",
      "19929\n",
      "80921\n",
      "Epoch 00211 | Loss 0.1310 | train_RMSE 0.1646 | test_RMSE 0.1615 \n"
     ]
    },
    {
     "name": "stderr",
     "output_type": "stream",
     "text": [
      "\r",
      "  7%|██▊                                     | 213/3000 [00:20<04:14, 10.96it/s]"
     ]
    },
    {
     "name": "stdout",
     "output_type": "stream",
     "text": [
      "19929\n",
      "80921\n",
      "Epoch 00212 | Loss 0.1309 | train_RMSE 0.1600 | test_RMSE 0.1572 \n",
      "19929\n",
      "80921\n",
      "Epoch 00213 | Loss 0.1311 | train_RMSE 0.1635 | test_RMSE 0.1604 \n",
      "19929\n"
     ]
    },
    {
     "name": "stderr",
     "output_type": "stream",
     "text": [
      "  7%|██▉                                     | 217/3000 [00:20<04:13, 10.99it/s]"
     ]
    },
    {
     "name": "stdout",
     "output_type": "stream",
     "text": [
      "80921\n",
      "Epoch 00214 | Loss 0.1283 | train_RMSE 0.1636 | test_RMSE 0.1605 \n",
      "19929\n",
      "80921\n",
      "Epoch 00215 | Loss 0.1302 | train_RMSE 0.1598 | test_RMSE 0.1569 \n",
      "19929\n",
      "80921\n",
      "Epoch 00216 | Loss 0.1292 | train_RMSE 0.1623 | test_RMSE 0.1591 \n"
     ]
    },
    {
     "name": "stderr",
     "output_type": "stream",
     "text": [
      "\r",
      "  7%|██▉                                     | 219/3000 [00:21<04:12, 11.01it/s]"
     ]
    },
    {
     "name": "stdout",
     "output_type": "stream",
     "text": [
      "19929\n",
      "80921\n",
      "Epoch 00217 | Loss 0.1284 | train_RMSE 0.1625 | test_RMSE 0.1593 \n",
      "19929\n",
      "80921\n",
      "Epoch 00218 | Loss 0.1284 | train_RMSE 0.1601 | test_RMSE 0.1572 \n",
      "19929\n"
     ]
    },
    {
     "name": "stderr",
     "output_type": "stream",
     "text": [
      "\r",
      "  7%|██▉                                     | 221/3000 [00:21<04:12, 11.02it/s]"
     ]
    },
    {
     "name": "stdout",
     "output_type": "stream",
     "text": [
      "80921\n",
      "Epoch 00219 | Loss 0.1298 | train_RMSE 0.1610 | test_RMSE 0.1580 \n",
      "19929\n",
      "80921\n",
      "Epoch 00220 | Loss 0.1299 | train_RMSE 0.1624 | test_RMSE 0.1594 \n",
      "19929\n",
      "80921\n",
      "Epoch 00221 | Loss 0.1299 | train_RMSE 0.1609 | test_RMSE 0.1580 \n"
     ]
    },
    {
     "name": "stderr",
     "output_type": "stream",
     "text": [
      "\r",
      "  7%|██▉                                     | 223/3000 [00:21<04:11, 11.03it/s]"
     ]
    },
    {
     "name": "stdout",
     "output_type": "stream",
     "text": [
      "19929\n",
      "80921\n",
      "Epoch 00222 | Loss 0.1286 | train_RMSE 0.1600 | test_RMSE 0.1571 \n",
      "19929\n",
      "80921\n",
      "Epoch 00223 | Loss 0.1288 | train_RMSE 0.1637 | test_RMSE 0.1606 \n",
      "19929\n"
     ]
    },
    {
     "name": "stderr",
     "output_type": "stream",
     "text": [
      "  8%|███                                     | 227/3000 [00:21<04:11, 11.04it/s]"
     ]
    },
    {
     "name": "stdout",
     "output_type": "stream",
     "text": [
      "80921\n",
      "Epoch 00224 | Loss 0.1288 | train_RMSE 0.1594 | test_RMSE 0.1565 \n",
      "19929\n",
      "80921\n",
      "Epoch 00225 | Loss 0.1287 | train_RMSE 0.1603 | test_RMSE 0.1572 \n",
      "19929\n",
      "80921\n",
      "Epoch 00226 | Loss 0.1286 | train_RMSE 0.1629 | test_RMSE 0.1598 \n"
     ]
    },
    {
     "name": "stderr",
     "output_type": "stream",
     "text": [
      "\r",
      "  8%|███                                     | 229/3000 [00:22<04:12, 10.99it/s]"
     ]
    },
    {
     "name": "stdout",
     "output_type": "stream",
     "text": [
      "19929\n",
      "80921\n",
      "Epoch 00227 | Loss 0.1283 | train_RMSE 0.1597 | test_RMSE 0.1567 \n",
      "19929\n",
      "80921\n",
      "Epoch 00228 | Loss 0.1274 | train_RMSE 0.1592 | test_RMSE 0.1562 \n",
      "19929\n"
     ]
    },
    {
     "name": "stderr",
     "output_type": "stream",
     "text": [
      "\r",
      "  8%|███                                     | 231/3000 [00:22<04:12, 10.98it/s]"
     ]
    },
    {
     "name": "stdout",
     "output_type": "stream",
     "text": [
      "80921\n",
      "Epoch 00229 | Loss 0.1287 | train_RMSE 0.1640 | test_RMSE 0.1608 \n",
      "19929\n",
      "80921\n",
      "Epoch 00230 | Loss 0.1274 | train_RMSE 0.1588 | test_RMSE 0.1558 \n",
      "19929\n",
      "80921\n",
      "Epoch 00231 | Loss 0.1292 | train_RMSE 0.1588 | test_RMSE 0.1558 \n"
     ]
    },
    {
     "name": "stderr",
     "output_type": "stream",
     "text": [
      "\r",
      "  8%|███                                     | 233/3000 [00:22<04:11, 10.99it/s]"
     ]
    },
    {
     "name": "stdout",
     "output_type": "stream",
     "text": [
      "19929\n",
      "80921\n",
      "Epoch 00232 | Loss 0.1267 | train_RMSE 0.1653 | test_RMSE 0.1620 \n",
      "19929\n",
      "80921\n",
      "Epoch 00233 | Loss 0.1284 | train_RMSE 0.1587 | test_RMSE 0.1558 \n",
      "19929\n"
     ]
    },
    {
     "name": "stderr",
     "output_type": "stream",
     "text": [
      "  8%|███▏                                    | 237/3000 [00:22<04:10, 11.03it/s]"
     ]
    },
    {
     "name": "stdout",
     "output_type": "stream",
     "text": [
      "80921\n",
      "Epoch 00234 | Loss 0.1267 | train_RMSE 0.1585 | test_RMSE 0.1555 \n",
      "19929\n",
      "80921\n",
      "Epoch 00235 | Loss 0.1275 | train_RMSE 0.1636 | test_RMSE 0.1604 \n",
      "19929\n",
      "80921\n",
      "Epoch 00236 | Loss 0.1274 | train_RMSE 0.1582 | test_RMSE 0.1553 \n"
     ]
    },
    {
     "name": "stderr",
     "output_type": "stream",
     "text": [
      "\r",
      "  8%|███▏                                    | 239/3000 [00:22<04:10, 11.03it/s]"
     ]
    },
    {
     "name": "stdout",
     "output_type": "stream",
     "text": [
      "19929\n",
      "80921\n",
      "Epoch 00237 | Loss 0.1281 | train_RMSE 0.1587 | test_RMSE 0.1557 \n",
      "19929\n",
      "80921\n",
      "Epoch 00238 | Loss 0.1273 | train_RMSE 0.1613 | test_RMSE 0.1582 \n",
      "19929\n"
     ]
    },
    {
     "name": "stderr",
     "output_type": "stream",
     "text": [
      "\r",
      "  8%|███▏                                    | 241/3000 [00:23<04:09, 11.05it/s]"
     ]
    },
    {
     "name": "stdout",
     "output_type": "stream",
     "text": [
      "80921\n",
      "Epoch 00239 | Loss 0.1270 | train_RMSE 0.1577 | test_RMSE 0.1548 \n",
      "19929\n",
      "80921\n",
      "Epoch 00240 | Loss 0.1274 | train_RMSE 0.1598 | test_RMSE 0.1567 \n",
      "19929\n",
      "80921\n",
      "Epoch 00241 | Loss 0.1269 | train_RMSE 0.1608 | test_RMSE 0.1576 \n"
     ]
    },
    {
     "name": "stderr",
     "output_type": "stream",
     "text": [
      "\r",
      "  8%|███▏                                    | 243/3000 [00:23<04:13, 10.89it/s]"
     ]
    },
    {
     "name": "stdout",
     "output_type": "stream",
     "text": [
      "19929\n",
      "80921\n",
      "Epoch 00242 | Loss 0.1266 | train_RMSE 0.1576 | test_RMSE 0.1546 \n",
      "19929\n",
      "80921\n",
      "Epoch 00243 | Loss 0.1273 | train_RMSE 0.1603 | test_RMSE 0.1572 \n",
      "19929\n"
     ]
    },
    {
     "name": "stderr",
     "output_type": "stream",
     "text": [
      "  8%|███▎                                    | 247/3000 [00:23<04:11, 10.96it/s]"
     ]
    },
    {
     "name": "stdout",
     "output_type": "stream",
     "text": [
      "80921\n",
      "Epoch 00244 | Loss 0.1270 | train_RMSE 0.1591 | test_RMSE 0.1561 \n",
      "19929\n",
      "80921\n",
      "Epoch 00245 | Loss 0.1268 | train_RMSE 0.1584 | test_RMSE 0.1554 \n",
      "19929\n",
      "80921\n",
      "Epoch 00246 | Loss 0.1253 | train_RMSE 0.1594 | test_RMSE 0.1563 \n"
     ]
    },
    {
     "name": "stderr",
     "output_type": "stream",
     "text": [
      "\r",
      "  8%|███▎                                    | 249/3000 [00:23<04:10, 10.96it/s]"
     ]
    },
    {
     "name": "stdout",
     "output_type": "stream",
     "text": [
      "19929\n",
      "80921\n",
      "Epoch 00247 | Loss 0.1251 | train_RMSE 0.1578 | test_RMSE 0.1548 \n",
      "19929\n",
      "80921\n",
      "Epoch 00248 | Loss 0.1253 | train_RMSE 0.1615 | test_RMSE 0.1584 \n",
      "19929\n"
     ]
    },
    {
     "name": "stderr",
     "output_type": "stream",
     "text": [
      "\r",
      "  8%|███▎                                    | 251/3000 [00:24<04:10, 10.95it/s]"
     ]
    },
    {
     "name": "stdout",
     "output_type": "stream",
     "text": [
      "80921\n",
      "Epoch 00249 | Loss 0.1253 | train_RMSE 0.1576 | test_RMSE 0.1547 \n",
      "19929\n",
      "80921\n",
      "Epoch 00250 | Loss 0.1233 | train_RMSE 0.1585 | test_RMSE 0.1555 \n",
      "19929\n",
      "80921\n",
      "Epoch 00251 | Loss 0.1242 | train_RMSE 0.1601 | test_RMSE 0.1570 \n"
     ]
    },
    {
     "name": "stderr",
     "output_type": "stream",
     "text": [
      "\r",
      "  8%|███▎                                    | 253/3000 [00:24<04:09, 10.99it/s]"
     ]
    },
    {
     "name": "stdout",
     "output_type": "stream",
     "text": [
      "19929\n",
      "80921\n",
      "Epoch 00252 | Loss 0.1237 | train_RMSE 0.1570 | test_RMSE 0.1541 \n",
      "19929\n",
      "80921\n",
      "Epoch 00253 | Loss 0.1244 | train_RMSE 0.1599 | test_RMSE 0.1569 \n",
      "19929\n"
     ]
    },
    {
     "name": "stderr",
     "output_type": "stream",
     "text": [
      "  9%|███▍                                    | 257/3000 [00:24<04:08, 11.02it/s]"
     ]
    },
    {
     "name": "stdout",
     "output_type": "stream",
     "text": [
      "80921\n",
      "Epoch 00254 | Loss 0.1241 | train_RMSE 0.1584 | test_RMSE 0.1554 \n",
      "19929\n",
      "80921\n",
      "Epoch 00255 | Loss 0.1227 | train_RMSE 0.1581 | test_RMSE 0.1551 \n",
      "19929\n",
      "80921\n",
      "Epoch 00256 | Loss 0.1230 | train_RMSE 0.1590 | test_RMSE 0.1559 \n"
     ]
    },
    {
     "name": "stderr",
     "output_type": "stream",
     "text": [
      "\r",
      "  9%|███▍                                    | 259/3000 [00:24<04:10, 10.96it/s]"
     ]
    },
    {
     "name": "stdout",
     "output_type": "stream",
     "text": [
      "19929\n",
      "80921\n",
      "Epoch 00257 | Loss 0.1227 | train_RMSE 0.1568 | test_RMSE 0.1538 \n",
      "19929\n",
      "80921\n",
      "Epoch 00258 | Loss 0.1216 | train_RMSE 0.1625 | test_RMSE 0.1592 \n",
      "19929\n"
     ]
    },
    {
     "name": "stderr",
     "output_type": "stream",
     "text": [
      "\r",
      "  9%|███▍                                    | 261/3000 [00:24<04:09, 10.99it/s]"
     ]
    },
    {
     "name": "stdout",
     "output_type": "stream",
     "text": [
      "80921\n",
      "Epoch 00259 | Loss 0.1226 | train_RMSE 0.1558 | test_RMSE 0.1531 \n",
      "19929\n",
      "80921\n",
      "Epoch 00260 | Loss 0.1211 | train_RMSE 0.1618 | test_RMSE 0.1586 \n",
      "19929\n",
      "80921\n",
      "Epoch 00261 | Loss 0.1232 | train_RMSE 0.1565 | test_RMSE 0.1535 \n"
     ]
    },
    {
     "name": "stderr",
     "output_type": "stream",
     "text": [
      "  9%|███▌                                    | 265/3000 [00:25<04:06, 11.10it/s]"
     ]
    },
    {
     "name": "stdout",
     "output_type": "stream",
     "text": [
      "19929\n",
      "80921\n",
      "Epoch 00262 | Loss 0.1224 | train_RMSE 0.1559 | test_RMSE 0.1530 \n",
      "19929\n",
      "80921\n",
      "Epoch 00263 | Loss 0.1218 | train_RMSE 0.1620 | test_RMSE 0.1587 \n",
      "19929\n",
      "80921\n",
      "Epoch 00264 | Loss 0.1217 | train_RMSE 0.1554 | test_RMSE 0.1524 \n"
     ]
    },
    {
     "name": "stderr",
     "output_type": "stream",
     "text": [
      "\r",
      "  9%|███▌                                    | 267/3000 [00:25<04:05, 11.12it/s]"
     ]
    },
    {
     "name": "stdout",
     "output_type": "stream",
     "text": [
      "19929\n",
      "80921\n",
      "Epoch 00265 | Loss 0.1229 | train_RMSE 0.1598 | test_RMSE 0.1565 \n",
      "19929\n",
      "80921\n",
      "Epoch 00266 | Loss 0.1212 | train_RMSE 0.1562 | test_RMSE 0.1532 \n",
      "19929\n",
      "80921\n",
      "Epoch 00267 | Loss 0.1208 | train_RMSE 0.1578 | test_RMSE 0.1547 \n"
     ]
    },
    {
     "name": "stderr",
     "output_type": "stream",
     "text": [
      "\r",
      "  9%|███▌                                    | 269/3000 [00:25<04:06, 11.08it/s]"
     ]
    },
    {
     "name": "stdout",
     "output_type": "stream",
     "text": [
      "19929\n",
      "80921\n",
      "Epoch 00268 | Loss 0.1217 | train_RMSE 0.1566 | test_RMSE 0.1536 \n",
      "19929\n",
      "80921\n",
      "Epoch 00269 | Loss 0.1218 | train_RMSE 0.1573 | test_RMSE 0.1542 \n",
      "19929\n",
      "80921\n",
      "Epoch 00270 | Loss 0.1227 | train_RMSE 0.1562 | test_RMSE 0.1532 \n"
     ]
    },
    {
     "name": "stderr",
     "output_type": "stream",
     "text": [
      "  9%|███▋                                    | 273/3000 [00:26<04:06, 11.05it/s]"
     ]
    },
    {
     "name": "stdout",
     "output_type": "stream",
     "text": [
      "19929\n",
      "80921\n",
      "Epoch 00271 | Loss 0.1206 | train_RMSE 0.1589 | test_RMSE 0.1557 \n",
      "19929\n",
      "80921\n",
      "Epoch 00272 | Loss 0.1203 | train_RMSE 0.1560 | test_RMSE 0.1529 \n",
      "19929\n"
     ]
    },
    {
     "name": "stderr",
     "output_type": "stream",
     "text": [
      "\r",
      "  9%|███▋                                    | 275/3000 [00:26<04:07, 11.00it/s]"
     ]
    },
    {
     "name": "stdout",
     "output_type": "stream",
     "text": [
      "80921\n",
      "Epoch 00273 | Loss 0.1208 | train_RMSE 0.1600 | test_RMSE 0.1567 \n",
      "19929\n",
      "80921\n",
      "Epoch 00274 | Loss 0.1199 | train_RMSE 0.1549 | test_RMSE 0.1520 \n",
      "19929\n",
      "80921\n",
      "Epoch 00275 | Loss 0.1191 | train_RMSE 0.1625 | test_RMSE 0.1593 \n"
     ]
    },
    {
     "name": "stderr",
     "output_type": "stream",
     "text": [
      "\r",
      "  9%|███▋                                    | 277/3000 [00:26<04:07, 10.99it/s]"
     ]
    },
    {
     "name": "stdout",
     "output_type": "stream",
     "text": [
      "19929\n",
      "80921\n",
      "Epoch 00276 | Loss 0.1201 | train_RMSE 0.1547 | test_RMSE 0.1519 \n",
      "19929\n",
      "80921\n",
      "Epoch 00277 | Loss 0.1198 | train_RMSE 0.1588 | test_RMSE 0.1556 \n",
      "19929\n"
     ]
    },
    {
     "name": "stderr",
     "output_type": "stream",
     "text": [
      "  9%|███▋                                    | 281/3000 [00:26<04:06, 11.04it/s]"
     ]
    },
    {
     "name": "stdout",
     "output_type": "stream",
     "text": [
      "80921\n",
      "Epoch 00278 | Loss 0.1181 | train_RMSE 0.1562 | test_RMSE 0.1531 \n",
      "19929\n",
      "80921\n",
      "Epoch 00279 | Loss 0.1187 | train_RMSE 0.1552 | test_RMSE 0.1522 \n",
      "19929\n",
      "80921\n",
      "Epoch 00280 | Loss 0.1189 | train_RMSE 0.1583 | test_RMSE 0.1550 \n"
     ]
    },
    {
     "name": "stderr",
     "output_type": "stream",
     "text": [
      "\r",
      "  9%|███▊                                    | 283/3000 [00:26<04:06, 11.03it/s]"
     ]
    },
    {
     "name": "stdout",
     "output_type": "stream",
     "text": [
      "19929\n",
      "80921\n",
      "Epoch 00281 | Loss 0.1178 | train_RMSE 0.1555 | test_RMSE 0.1524 \n",
      "19929\n",
      "80921\n",
      "Epoch 00282 | Loss 0.1192 | train_RMSE 0.1553 | test_RMSE 0.1522 \n",
      "19929\n"
     ]
    },
    {
     "name": "stderr",
     "output_type": "stream",
     "text": [
      "\r",
      " 10%|███▊                                    | 285/3000 [00:27<04:06, 11.03it/s]"
     ]
    },
    {
     "name": "stdout",
     "output_type": "stream",
     "text": [
      "80921\n",
      "Epoch 00283 | Loss 0.1169 | train_RMSE 0.1579 | test_RMSE 0.1547 \n",
      "19929\n",
      "80921\n",
      "Epoch 00284 | Loss 0.1185 | train_RMSE 0.1545 | test_RMSE 0.1516 \n",
      "19929\n",
      "80921\n",
      "Epoch 00285 | Loss 0.1172 | train_RMSE 0.1598 | test_RMSE 0.1565 \n"
     ]
    },
    {
     "name": "stderr",
     "output_type": "stream",
     "text": [
      "\r",
      " 10%|███▊                                    | 287/3000 [00:27<04:05, 11.05it/s]"
     ]
    },
    {
     "name": "stdout",
     "output_type": "stream",
     "text": [
      "19929\n",
      "80921\n",
      "Epoch 00286 | Loss 0.1175 | train_RMSE 0.1541 | test_RMSE 0.1513 \n",
      "19929\n",
      "80921\n",
      "Epoch 00287 | Loss 0.1182 | train_RMSE 0.1618 | test_RMSE 0.1585 \n",
      "19929\n"
     ]
    },
    {
     "name": "stderr",
     "output_type": "stream",
     "text": [
      " 10%|███▉                                    | 291/3000 [00:27<04:05, 11.05it/s]"
     ]
    },
    {
     "name": "stdout",
     "output_type": "stream",
     "text": [
      "80921\n",
      "Epoch 00288 | Loss 0.1168 | train_RMSE 0.1539 | test_RMSE 0.1511 \n",
      "19929\n",
      "80921\n",
      "Epoch 00289 | Loss 0.1182 | train_RMSE 0.1611 | test_RMSE 0.1578 \n",
      "19929\n",
      "80921\n",
      "Epoch 00290 | Loss 0.1182 | train_RMSE 0.1536 | test_RMSE 0.1507 \n"
     ]
    },
    {
     "name": "stderr",
     "output_type": "stream",
     "text": [
      "\r",
      " 10%|███▉                                    | 293/3000 [00:27<04:04, 11.07it/s]"
     ]
    },
    {
     "name": "stdout",
     "output_type": "stream",
     "text": [
      "19929\n",
      "80921\n",
      "Epoch 00291 | Loss 0.1179 | train_RMSE 0.1591 | test_RMSE 0.1558 \n",
      "19929\n",
      "80921\n",
      "Epoch 00292 | Loss 0.1180 | train_RMSE 0.1537 | test_RMSE 0.1507 \n",
      "19929\n"
     ]
    },
    {
     "name": "stderr",
     "output_type": "stream",
     "text": [
      "\r",
      " 10%|███▉                                    | 295/3000 [00:28<04:06, 10.99it/s]"
     ]
    },
    {
     "name": "stdout",
     "output_type": "stream",
     "text": [
      "80921\n",
      "Epoch 00293 | Loss 0.1167 | train_RMSE 0.1562 | test_RMSE 0.1530 \n",
      "19929\n",
      "80921\n",
      "Epoch 00294 | Loss 0.1167 | train_RMSE 0.1562 | test_RMSE 0.1530 \n",
      "19929\n",
      "80921\n",
      "Epoch 00295 | Loss 0.1163 | train_RMSE 0.1537 | test_RMSE 0.1509 \n"
     ]
    },
    {
     "name": "stderr",
     "output_type": "stream",
     "text": [
      "\r",
      " 10%|███▉                                    | 297/3000 [00:28<04:06, 10.96it/s]"
     ]
    },
    {
     "name": "stdout",
     "output_type": "stream",
     "text": [
      "19929\n",
      "80921\n",
      "Epoch 00296 | Loss 0.1149 | train_RMSE 0.1621 | test_RMSE 0.1588 \n",
      "19929\n",
      "80921\n",
      "Epoch 00297 | Loss 0.1176 | train_RMSE 0.1544 | test_RMSE 0.1519 \n",
      "19929\n"
     ]
    },
    {
     "name": "stderr",
     "output_type": "stream",
     "text": [
      " 10%|████                                    | 301/3000 [00:28<04:06, 10.96it/s]"
     ]
    },
    {
     "name": "stdout",
     "output_type": "stream",
     "text": [
      "80921\n",
      "Epoch 00298 | Loss 0.1172 | train_RMSE 0.1738 | test_RMSE 0.1703 \n",
      "19929\n",
      "80921\n",
      "Epoch 00299 | Loss 0.1200 | train_RMSE 0.1582 | test_RMSE 0.1559 \n",
      "19929\n",
      "80921\n",
      "Epoch 00300 | Loss 0.1195 | train_RMSE 0.1706 | test_RMSE 0.1671 \n"
     ]
    },
    {
     "name": "stderr",
     "output_type": "stream",
     "text": [
      "\r",
      " 10%|████                                    | 303/3000 [00:28<04:06, 10.96it/s]"
     ]
    },
    {
     "name": "stdout",
     "output_type": "stream",
     "text": [
      "19929\n",
      "80921\n",
      "Epoch 00301 | Loss 0.1179 | train_RMSE 0.1532 | test_RMSE 0.1503 \n",
      "19929\n",
      "80921\n",
      "Epoch 00302 | Loss 0.1154 | train_RMSE 0.1543 | test_RMSE 0.1512 \n",
      "19929\n"
     ]
    },
    {
     "name": "stderr",
     "output_type": "stream",
     "text": [
      "\r",
      " 10%|████                                    | 305/3000 [00:28<04:06, 10.93it/s]"
     ]
    },
    {
     "name": "stdout",
     "output_type": "stream",
     "text": [
      "80921\n",
      "Epoch 00303 | Loss 0.1147 | train_RMSE 0.1624 | test_RMSE 0.1590 \n",
      "19929\n",
      "80921\n",
      "Epoch 00304 | Loss 0.1161 | train_RMSE 0.1553 | test_RMSE 0.1529 \n",
      "19929\n",
      "80921\n",
      "Epoch 00305 | Loss 0.1181 | train_RMSE 0.1706 | test_RMSE 0.1672 \n"
     ]
    },
    {
     "name": "stderr",
     "output_type": "stream",
     "text": [
      "\r",
      " 10%|████                                    | 307/3000 [00:29<04:05, 10.95it/s]"
     ]
    },
    {
     "name": "stdout",
     "output_type": "stream",
     "text": [
      "19929\n",
      "80921\n",
      "Epoch 00306 | Loss 0.1172 | train_RMSE 0.1539 | test_RMSE 0.1513 \n",
      "19929\n",
      "80921\n",
      "Epoch 00307 | Loss 0.1155 | train_RMSE 0.1576 | test_RMSE 0.1544 \n",
      "19929\n"
     ]
    },
    {
     "name": "stderr",
     "output_type": "stream",
     "text": [
      " 10%|████▏                                   | 311/3000 [00:29<04:05, 10.93it/s]"
     ]
    },
    {
     "name": "stdout",
     "output_type": "stream",
     "text": [
      "80921\n",
      "Epoch 00308 | Loss 0.1161 | train_RMSE 0.1562 | test_RMSE 0.1531 \n",
      "19929\n",
      "80921\n",
      "Epoch 00309 | Loss 0.1155 | train_RMSE 0.1528 | test_RMSE 0.1502 \n",
      "19929\n",
      "80921\n",
      "Epoch 00310 | Loss 0.1146 | train_RMSE 0.1682 | test_RMSE 0.1648 \n"
     ]
    },
    {
     "name": "stderr",
     "output_type": "stream",
     "text": [
      "\r",
      " 10%|████▏                                   | 313/3000 [00:29<04:05, 10.94it/s]"
     ]
    },
    {
     "name": "stdout",
     "output_type": "stream",
     "text": [
      "19929\n",
      "80921\n",
      "Epoch 00311 | Loss 0.1165 | train_RMSE 0.1544 | test_RMSE 0.1521 \n",
      "19929\n",
      "80921\n",
      "Epoch 00312 | Loss 0.1159 | train_RMSE 0.1607 | test_RMSE 0.1574 \n",
      "19929\n"
     ]
    },
    {
     "name": "stderr",
     "output_type": "stream",
     "text": [
      "\r",
      " 10%|████▏                                   | 315/3000 [00:29<04:05, 10.92it/s]"
     ]
    },
    {
     "name": "stdout",
     "output_type": "stream",
     "text": [
      "80921\n",
      "Epoch 00313 | Loss 0.1158 | train_RMSE 0.1538 | test_RMSE 0.1508 \n",
      "19929\n",
      "80921\n",
      "Epoch 00314 | Loss 0.1130 | train_RMSE 0.1525 | test_RMSE 0.1497 \n",
      "19929\n",
      "80921\n",
      "Epoch 00315 | Loss 0.1150 | train_RMSE 0.1651 | test_RMSE 0.1617 \n"
     ]
    },
    {
     "name": "stderr",
     "output_type": "stream",
     "text": [
      "\r",
      " 11%|████▏                                   | 317/3000 [00:30<04:05, 10.94it/s]"
     ]
    },
    {
     "name": "stdout",
     "output_type": "stream",
     "text": [
      "19929\n",
      "80921\n",
      "Epoch 00316 | Loss 0.1147 | train_RMSE 0.1532 | test_RMSE 0.1506 \n",
      "19929\n",
      "80921\n",
      "Epoch 00317 | Loss 0.1153 | train_RMSE 0.1629 | test_RMSE 0.1595 \n",
      "19929\n"
     ]
    },
    {
     "name": "stderr",
     "output_type": "stream",
     "text": [
      " 11%|████▎                                   | 321/3000 [00:30<04:08, 10.77it/s]"
     ]
    },
    {
     "name": "stdout",
     "output_type": "stream",
     "text": [
      "80921\n",
      "Epoch 00318 | Loss 0.1143 | train_RMSE 0.1526 | test_RMSE 0.1497 \n",
      "19929\n",
      "80921\n",
      "Epoch 00319 | Loss 0.1139 | train_RMSE 0.1539 | test_RMSE 0.1508 \n",
      "19929\n",
      "80921\n",
      "Epoch 00320 | Loss 0.1136 | train_RMSE 0.1577 | test_RMSE 0.1544 \n"
     ]
    },
    {
     "name": "stderr",
     "output_type": "stream",
     "text": [
      "\r",
      " 11%|████▎                                   | 323/3000 [00:30<04:07, 10.84it/s]"
     ]
    },
    {
     "name": "stdout",
     "output_type": "stream",
     "text": [
      "19929\n",
      "80921\n",
      "Epoch 00321 | Loss 0.1141 | train_RMSE 0.1524 | test_RMSE 0.1498 \n",
      "19929\n",
      "80921\n",
      "Epoch 00322 | Loss 0.1135 | train_RMSE 0.1620 | test_RMSE 0.1587 \n",
      "19929\n"
     ]
    },
    {
     "name": "stderr",
     "output_type": "stream",
     "text": [
      "\r",
      " 11%|████▎                                   | 325/3000 [00:30<04:06, 10.87it/s]"
     ]
    },
    {
     "name": "stdout",
     "output_type": "stream",
     "text": [
      "80921\n",
      "Epoch 00323 | Loss 0.1142 | train_RMSE 0.1521 | test_RMSE 0.1493 \n",
      "19929\n",
      "80921\n",
      "Epoch 00324 | Loss 0.1133 | train_RMSE 0.1561 | test_RMSE 0.1529 \n",
      "19929\n",
      "80921\n",
      "Epoch 00325 | Loss 0.1121 | train_RMSE 0.1531 | test_RMSE 0.1500 \n"
     ]
    },
    {
     "name": "stderr",
     "output_type": "stream",
     "text": [
      "\r",
      " 11%|████▎                                   | 327/3000 [00:30<04:06, 10.86it/s]"
     ]
    },
    {
     "name": "stdout",
     "output_type": "stream",
     "text": [
      "19929\n",
      "80921\n",
      "Epoch 00326 | Loss 0.1134 | train_RMSE 0.1532 | test_RMSE 0.1501 \n",
      "19929\n",
      "80921\n",
      "Epoch 00327 | Loss 0.1122 | train_RMSE 0.1574 | test_RMSE 0.1541 \n",
      "19929\n"
     ]
    },
    {
     "name": "stderr",
     "output_type": "stream",
     "text": [
      " 11%|████▍                                   | 331/3000 [00:31<04:04, 10.91it/s]"
     ]
    },
    {
     "name": "stdout",
     "output_type": "stream",
     "text": [
      "80921\n",
      "Epoch 00328 | Loss 0.1122 | train_RMSE 0.1525 | test_RMSE 0.1499 \n",
      "19929\n",
      "80921\n",
      "Epoch 00329 | Loss 0.1133 | train_RMSE 0.1633 | test_RMSE 0.1599 \n",
      "19929\n",
      "80921\n",
      "Epoch 00330 | Loss 0.1131 | train_RMSE 0.1520 | test_RMSE 0.1493 \n"
     ]
    },
    {
     "name": "stderr",
     "output_type": "stream",
     "text": [
      "\r",
      " 11%|████▍                                   | 333/3000 [00:31<04:04, 10.89it/s]"
     ]
    },
    {
     "name": "stdout",
     "output_type": "stream",
     "text": [
      "19929\n",
      "80921\n",
      "Epoch 00331 | Loss 0.1126 | train_RMSE 0.1558 | test_RMSE 0.1526 \n",
      "19929\n",
      "80921\n",
      "Epoch 00332 | Loss 0.1114 | train_RMSE 0.1553 | test_RMSE 0.1521 \n",
      "19929\n"
     ]
    },
    {
     "name": "stderr",
     "output_type": "stream",
     "text": [
      "\r",
      " 11%|████▍                                   | 335/3000 [00:31<04:04, 10.88it/s]"
     ]
    },
    {
     "name": "stdout",
     "output_type": "stream",
     "text": [
      "80921\n",
      "Epoch 00333 | Loss 0.1110 | train_RMSE 0.1520 | test_RMSE 0.1493 \n",
      "19929\n",
      "80921\n",
      "Epoch 00334 | Loss 0.1121 | train_RMSE 0.1679 | test_RMSE 0.1644 \n",
      "19929\n",
      "80921\n",
      "Epoch 00335 | Loss 0.1125 | train_RMSE 0.1533 | test_RMSE 0.1508 \n"
     ]
    },
    {
     "name": "stderr",
     "output_type": "stream",
     "text": [
      "\r",
      " 11%|████▍                                   | 337/3000 [00:31<04:04, 10.89it/s]"
     ]
    },
    {
     "name": "stdout",
     "output_type": "stream",
     "text": [
      "19929\n",
      "80921\n",
      "Epoch 00336 | Loss 0.1128 | train_RMSE 0.1631 | test_RMSE 0.1598 \n",
      "19929\n",
      "80921\n",
      "Epoch 00337 | Loss 0.1129 | train_RMSE 0.1514 | test_RMSE 0.1486 \n",
      "19929\n"
     ]
    },
    {
     "name": "stderr",
     "output_type": "stream",
     "text": [
      " 11%|████▌                                   | 341/3000 [00:32<04:04, 10.90it/s]"
     ]
    },
    {
     "name": "stdout",
     "output_type": "stream",
     "text": [
      "80921\n",
      "Epoch 00338 | Loss 0.1115 | train_RMSE 0.1542 | test_RMSE 0.1511 \n",
      "19929\n",
      "80921\n",
      "Epoch 00339 | Loss 0.1103 | train_RMSE 0.1536 | test_RMSE 0.1504 \n",
      "19929\n",
      "80921\n",
      "Epoch 00340 | Loss 0.1107 | train_RMSE 0.1514 | test_RMSE 0.1484 \n"
     ]
    },
    {
     "name": "stderr",
     "output_type": "stream",
     "text": [
      "\r",
      " 11%|████▌                                   | 343/3000 [00:32<04:03, 10.91it/s]"
     ]
    },
    {
     "name": "stdout",
     "output_type": "stream",
     "text": [
      "19929\n",
      "80921\n",
      "Epoch 00341 | Loss 0.1107 | train_RMSE 0.1582 | test_RMSE 0.1548 \n",
      "19929\n",
      "80921\n",
      "Epoch 00342 | Loss 0.1106 | train_RMSE 0.1513 | test_RMSE 0.1486 \n",
      "19929\n"
     ]
    },
    {
     "name": "stderr",
     "output_type": "stream",
     "text": [
      "\r",
      " 12%|████▌                                   | 345/3000 [00:32<04:03, 10.92it/s]"
     ]
    },
    {
     "name": "stdout",
     "output_type": "stream",
     "text": [
      "80921\n",
      "Epoch 00343 | Loss 0.1107 | train_RMSE 0.1602 | test_RMSE 0.1568 \n",
      "19929\n",
      "80921\n",
      "Epoch 00344 | Loss 0.1112 | train_RMSE 0.1512 | test_RMSE 0.1483 \n",
      "19929\n",
      "80921\n",
      "Epoch 00345 | Loss 0.1111 | train_RMSE 0.1563 | test_RMSE 0.1529 \n"
     ]
    },
    {
     "name": "stderr",
     "output_type": "stream",
     "text": [
      "\r",
      " 12%|████▋                                   | 347/3000 [00:32<04:03, 10.90it/s]"
     ]
    },
    {
     "name": "stdout",
     "output_type": "stream",
     "text": [
      "19929\n",
      "80921\n",
      "Epoch 00346 | Loss 0.1102 | train_RMSE 0.1524 | test_RMSE 0.1493 \n",
      "19929\n",
      "80921\n",
      "Epoch 00347 | Loss 0.1097 | train_RMSE 0.1512 | test_RMSE 0.1483 \n",
      "19929\n"
     ]
    },
    {
     "name": "stderr",
     "output_type": "stream",
     "text": [
      " 12%|████▋                                   | 351/3000 [00:33<04:02, 10.91it/s]"
     ]
    },
    {
     "name": "stdout",
     "output_type": "stream",
     "text": [
      "80921\n",
      "Epoch 00348 | Loss 0.1103 | train_RMSE 0.1621 | test_RMSE 0.1587 \n",
      "19929\n",
      "80921\n",
      "Epoch 00349 | Loss 0.1113 | train_RMSE 0.1527 | test_RMSE 0.1502 \n",
      "19929\n",
      "80921\n",
      "Epoch 00350 | Loss 0.1119 | train_RMSE 0.1697 | test_RMSE 0.1662 \n"
     ]
    },
    {
     "name": "stderr",
     "output_type": "stream",
     "text": [
      "\r",
      " 12%|████▋                                   | 353/3000 [00:33<04:02, 10.92it/s]"
     ]
    },
    {
     "name": "stdout",
     "output_type": "stream",
     "text": [
      "19929\n",
      "80921\n",
      "Epoch 00351 | Loss 0.1119 | train_RMSE 0.1533 | test_RMSE 0.1509 \n",
      "19929\n",
      "80921\n",
      "Epoch 00352 | Loss 0.1119 | train_RMSE 0.1668 | test_RMSE 0.1633 \n",
      "19929\n"
     ]
    },
    {
     "name": "stderr",
     "output_type": "stream",
     "text": [
      "\r",
      " 12%|████▋                                   | 355/3000 [00:33<04:01, 10.93it/s]"
     ]
    },
    {
     "name": "stdout",
     "output_type": "stream",
     "text": [
      "80921\n",
      "Epoch 00353 | Loss 0.1121 | train_RMSE 0.1525 | test_RMSE 0.1500 \n",
      "19929\n",
      "80921\n",
      "Epoch 00354 | Loss 0.1099 | train_RMSE 0.1608 | test_RMSE 0.1574 \n",
      "19929\n",
      "80921\n",
      "Epoch 00355 | Loss 0.1088 | train_RMSE 0.1515 | test_RMSE 0.1485 \n"
     ]
    },
    {
     "name": "stderr",
     "output_type": "stream",
     "text": [
      "\r",
      " 12%|████▊                                   | 357/3000 [00:33<04:02, 10.91it/s]"
     ]
    },
    {
     "name": "stdout",
     "output_type": "stream",
     "text": [
      "19929\n",
      "80921\n",
      "Epoch 00356 | Loss 0.1099 | train_RMSE 0.1530 | test_RMSE 0.1499 \n",
      "19929\n",
      "80921\n",
      "Epoch 00357 | Loss 0.1076 | train_RMSE 0.1537 | test_RMSE 0.1505 \n",
      "19929\n"
     ]
    },
    {
     "name": "stderr",
     "output_type": "stream",
     "text": [
      " 12%|████▊                                   | 361/3000 [00:34<04:02, 10.90it/s]"
     ]
    },
    {
     "name": "stdout",
     "output_type": "stream",
     "text": [
      "80921\n",
      "Epoch 00358 | Loss 0.1085 | train_RMSE 0.1508 | test_RMSE 0.1480 \n",
      "19929\n",
      "80921\n",
      "Epoch 00359 | Loss 0.1087 | train_RMSE 0.1586 | test_RMSE 0.1552 \n",
      "19929\n",
      "80921\n",
      "Epoch 00360 | Loss 0.1092 | train_RMSE 0.1512 | test_RMSE 0.1485 \n"
     ]
    },
    {
     "name": "stderr",
     "output_type": "stream",
     "text": [
      "\r",
      " 12%|████▊                                   | 363/3000 [00:34<04:01, 10.90it/s]"
     ]
    },
    {
     "name": "stdout",
     "output_type": "stream",
     "text": [
      "19929\n",
      "80921\n",
      "Epoch 00361 | Loss 0.1091 | train_RMSE 0.1590 | test_RMSE 0.1556 \n",
      "19929\n",
      "80921\n",
      "Epoch 00362 | Loss 0.1088 | train_RMSE 0.1508 | test_RMSE 0.1480 \n",
      "19929\n"
     ]
    },
    {
     "name": "stderr",
     "output_type": "stream",
     "text": [
      "\r",
      " 12%|████▊                                   | 365/3000 [00:34<04:01, 10.92it/s]"
     ]
    },
    {
     "name": "stdout",
     "output_type": "stream",
     "text": [
      "80921\n",
      "Epoch 00363 | Loss 0.1096 | train_RMSE 0.1589 | test_RMSE 0.1555 \n",
      "19929\n",
      "80921\n",
      "Epoch 00364 | Loss 0.1091 | train_RMSE 0.1508 | test_RMSE 0.1480 \n",
      "19929\n",
      "80921\n",
      "Epoch 00365 | Loss 0.1094 | train_RMSE 0.1588 | test_RMSE 0.1556 \n"
     ]
    },
    {
     "name": "stderr",
     "output_type": "stream",
     "text": [
      "\r",
      " 12%|████▉                                   | 367/3000 [00:34<04:00, 10.93it/s]"
     ]
    },
    {
     "name": "stdout",
     "output_type": "stream",
     "text": [
      "19929\n",
      "80921\n",
      "Epoch 00366 | Loss 0.1085 | train_RMSE 0.1509 | test_RMSE 0.1483 \n",
      "19929\n",
      "80921\n",
      "Epoch 00367 | Loss 0.1075 | train_RMSE 0.1603 | test_RMSE 0.1569 \n",
      "19929\n"
     ]
    },
    {
     "name": "stderr",
     "output_type": "stream",
     "text": [
      " 12%|████▉                                   | 371/3000 [00:35<04:02, 10.85it/s]"
     ]
    },
    {
     "name": "stdout",
     "output_type": "stream",
     "text": [
      "80921\n",
      "Epoch 00368 | Loss 0.1088 | train_RMSE 0.1509 | test_RMSE 0.1483 \n",
      "19929\n",
      "80921\n",
      "Epoch 00369 | Loss 0.1082 | train_RMSE 0.1577 | test_RMSE 0.1543 \n",
      "19929\n",
      "80921\n",
      "Epoch 00370 | Loss 0.1070 | train_RMSE 0.1507 | test_RMSE 0.1477 \n"
     ]
    },
    {
     "name": "stderr",
     "output_type": "stream",
     "text": [
      "\r",
      " 12%|████▉                                   | 373/3000 [00:35<04:01, 10.87it/s]"
     ]
    },
    {
     "name": "stdout",
     "output_type": "stream",
     "text": [
      "19929\n",
      "80921\n",
      "Epoch 00371 | Loss 0.1081 | train_RMSE 0.1518 | test_RMSE 0.1487 \n",
      "19929\n",
      "80921\n",
      "Epoch 00372 | Loss 0.1076 | train_RMSE 0.1559 | test_RMSE 0.1526 \n",
      "19929\n"
     ]
    },
    {
     "name": "stderr",
     "output_type": "stream",
     "text": [
      "\r",
      " 12%|█████                                   | 375/3000 [00:35<04:02, 10.83it/s]"
     ]
    },
    {
     "name": "stdout",
     "output_type": "stream",
     "text": [
      "80921\n",
      "Epoch 00373 | Loss 0.1066 | train_RMSE 0.1510 | test_RMSE 0.1483 \n",
      "19929\n",
      "80921\n",
      "Epoch 00374 | Loss 0.1086 | train_RMSE 0.1677 | test_RMSE 0.1641 \n",
      "19929\n",
      "80921\n",
      "Epoch 00375 | Loss 0.1096 | train_RMSE 0.1578 | test_RMSE 0.1556 \n"
     ]
    },
    {
     "name": "stderr",
     "output_type": "stream",
     "text": [
      "\r",
      " 13%|█████                                   | 377/3000 [00:35<04:01, 10.87it/s]"
     ]
    },
    {
     "name": "stdout",
     "output_type": "stream",
     "text": [
      "19929\n",
      "80921\n",
      "Epoch 00376 | Loss 0.1116 | train_RMSE 0.1837 | test_RMSE 0.1800 \n",
      "19929\n",
      "80921\n",
      "Epoch 00377 | Loss 0.1145 | train_RMSE 0.1684 | test_RMSE 0.1667 \n",
      "19929\n"
     ]
    },
    {
     "name": "stderr",
     "output_type": "stream",
     "text": [
      " 13%|█████                                   | 381/3000 [00:35<04:00, 10.89it/s]"
     ]
    },
    {
     "name": "stdout",
     "output_type": "stream",
     "text": [
      "80921\n",
      "Epoch 00378 | Loss 0.1156 | train_RMSE 0.1994 | test_RMSE 0.1958 \n",
      "19929\n",
      "80921\n",
      "Epoch 00379 | Loss 0.1181 | train_RMSE 0.1667 | test_RMSE 0.1649 \n",
      "19929\n",
      "80921\n",
      "Epoch 00380 | Loss 0.1158 | train_RMSE 0.1766 | test_RMSE 0.1730 \n"
     ]
    },
    {
     "name": "stderr",
     "output_type": "stream",
     "text": [
      "\r",
      " 13%|█████                                   | 383/3000 [00:36<04:00, 10.90it/s]"
     ]
    },
    {
     "name": "stdout",
     "output_type": "stream",
     "text": [
      "19929\n",
      "80921\n",
      "Epoch 00381 | Loss 0.1115 | train_RMSE 0.1509 | test_RMSE 0.1483 \n",
      "19929\n",
      "80921\n",
      "Epoch 00382 | Loss 0.1080 | train_RMSE 0.1516 | test_RMSE 0.1486 \n",
      "19929\n"
     ]
    },
    {
     "name": "stderr",
     "output_type": "stream",
     "text": [
      "\r",
      " 13%|█████▏                                  | 385/3000 [00:36<04:00, 10.88it/s]"
     ]
    },
    {
     "name": "stdout",
     "output_type": "stream",
     "text": [
      "80921\n",
      "Epoch 00383 | Loss 0.1069 | train_RMSE 0.1582 | test_RMSE 0.1550 \n",
      "19929\n",
      "80921\n",
      "Epoch 00384 | Loss 0.1061 | train_RMSE 0.1520 | test_RMSE 0.1496 \n",
      "19929\n",
      "80921\n",
      "Epoch 00385 | Loss 0.1078 | train_RMSE 0.1653 | test_RMSE 0.1618 \n"
     ]
    },
    {
     "name": "stderr",
     "output_type": "stream",
     "text": [
      "\r",
      " 13%|█████▏                                  | 387/3000 [00:36<03:59, 10.89it/s]"
     ]
    },
    {
     "name": "stdout",
     "output_type": "stream",
     "text": [
      "19929\n",
      "80921\n",
      "Epoch 00386 | Loss 0.1071 | train_RMSE 0.1503 | test_RMSE 0.1476 \n",
      "19929\n",
      "80921\n",
      "Epoch 00387 | Loss 0.1062 | train_RMSE 0.1529 | test_RMSE 0.1496 \n",
      "19929\n"
     ]
    },
    {
     "name": "stderr",
     "output_type": "stream",
     "text": [
      " 13%|█████▏                                  | 391/3000 [00:36<04:00, 10.84it/s]"
     ]
    },
    {
     "name": "stdout",
     "output_type": "stream",
     "text": [
      "80921\n",
      "Epoch 00388 | Loss 0.1058 | train_RMSE 0.1531 | test_RMSE 0.1498 \n",
      "19929\n",
      "80921\n",
      "Epoch 00389 | Loss 0.1060 | train_RMSE 0.1497 | test_RMSE 0.1470 \n",
      "19929\n",
      "80921\n",
      "Epoch 00390 | Loss 0.1061 | train_RMSE 0.1588 | test_RMSE 0.1554 \n"
     ]
    },
    {
     "name": "stderr",
     "output_type": "stream",
     "text": [
      "\r",
      " 13%|█████▏                                  | 393/3000 [00:37<03:59, 10.86it/s]"
     ]
    },
    {
     "name": "stdout",
     "output_type": "stream",
     "text": [
      "19929\n",
      "80921\n",
      "Epoch 00391 | Loss 0.1075 | train_RMSE 0.1498 | test_RMSE 0.1471 \n",
      "19929\n",
      "80921\n",
      "Epoch 00392 | Loss 0.1061 | train_RMSE 0.1561 | test_RMSE 0.1527 \n",
      "19929\n"
     ]
    },
    {
     "name": "stderr",
     "output_type": "stream",
     "text": [
      "\r",
      " 13%|█████▎                                  | 395/3000 [00:37<04:00, 10.84it/s]"
     ]
    },
    {
     "name": "stdout",
     "output_type": "stream",
     "text": [
      "80921\n",
      "Epoch 00393 | Loss 0.1060 | train_RMSE 0.1499 | test_RMSE 0.1469 \n",
      "19929\n",
      "80921\n",
      "Epoch 00394 | Loss 0.1056 | train_RMSE 0.1509 | test_RMSE 0.1478 \n",
      "19929\n",
      "80921\n",
      "Epoch 00395 | Loss 0.1061 | train_RMSE 0.1529 | test_RMSE 0.1497 \n"
     ]
    },
    {
     "name": "stderr",
     "output_type": "stream",
     "text": [
      "\r",
      " 13%|█████▎                                  | 397/3000 [00:37<03:59, 10.87it/s]"
     ]
    },
    {
     "name": "stdout",
     "output_type": "stream",
     "text": [
      "19929\n",
      "80921\n",
      "Epoch 00396 | Loss 0.1058 | train_RMSE 0.1499 | test_RMSE 0.1470 \n",
      "19929\n",
      "80921\n",
      "Epoch 00397 | Loss 0.1053 | train_RMSE 0.1540 | test_RMSE 0.1508 \n",
      "19929\n"
     ]
    },
    {
     "name": "stderr",
     "output_type": "stream",
     "text": [
      " 13%|█████▎                                  | 401/3000 [00:37<04:00, 10.81it/s]"
     ]
    },
    {
     "name": "stdout",
     "output_type": "stream",
     "text": [
      "80921\n",
      "Epoch 00398 | Loss 0.1048 | train_RMSE 0.1497 | test_RMSE 0.1467 \n",
      "19929\n",
      "80921\n",
      "Epoch 00399 | Loss 0.1045 | train_RMSE 0.1546 | test_RMSE 0.1513 \n",
      "19929\n",
      "80921\n",
      "Epoch 00400 | Loss 0.1051 | train_RMSE 0.1496 | test_RMSE 0.1467 \n"
     ]
    },
    {
     "name": "stderr",
     "output_type": "stream",
     "text": [
      "\r",
      " 13%|█████▎                                  | 403/3000 [00:37<03:59, 10.83it/s]"
     ]
    },
    {
     "name": "stdout",
     "output_type": "stream",
     "text": [
      "19929\n",
      "80921\n",
      "Epoch 00401 | Loss 0.1049 | train_RMSE 0.1538 | test_RMSE 0.1506 \n",
      "19929\n",
      "80921\n",
      "Epoch 00402 | Loss 0.1060 | train_RMSE 0.1501 | test_RMSE 0.1472 \n",
      "19929\n"
     ]
    },
    {
     "name": "stderr",
     "output_type": "stream",
     "text": [
      "\r",
      " 14%|█████▍                                  | 405/3000 [00:38<03:59, 10.83it/s]"
     ]
    },
    {
     "name": "stdout",
     "output_type": "stream",
     "text": [
      "80921\n",
      "Epoch 00403 | Loss 0.1043 | train_RMSE 0.1529 | test_RMSE 0.1496 \n",
      "19929\n",
      "80921\n",
      "Epoch 00404 | Loss 0.1051 | train_RMSE 0.1500 | test_RMSE 0.1469 \n",
      "19929\n",
      "80921\n",
      "Epoch 00405 | Loss 0.1043 | train_RMSE 0.1522 | test_RMSE 0.1490 \n"
     ]
    },
    {
     "name": "stderr",
     "output_type": "stream",
     "text": [
      "\r",
      " 14%|█████▍                                  | 407/3000 [00:38<04:00, 10.78it/s]"
     ]
    },
    {
     "name": "stdout",
     "output_type": "stream",
     "text": [
      "19929\n",
      "80921\n",
      "Epoch 00406 | Loss 0.1032 | train_RMSE 0.1518 | test_RMSE 0.1486 \n",
      "19929\n",
      "80921\n",
      "Epoch 00407 | Loss 0.1043 | train_RMSE 0.1498 | test_RMSE 0.1469 \n",
      "19929\n"
     ]
    },
    {
     "name": "stderr",
     "output_type": "stream",
     "text": [
      " 14%|█████▍                                  | 411/3000 [00:38<03:59, 10.83it/s]"
     ]
    },
    {
     "name": "stdout",
     "output_type": "stream",
     "text": [
      "80921\n",
      "Epoch 00408 | Loss 0.1032 | train_RMSE 0.1555 | test_RMSE 0.1523 \n",
      "19929\n",
      "80921\n",
      "Epoch 00409 | Loss 0.1038 | train_RMSE 0.1497 | test_RMSE 0.1469 \n",
      "19929\n",
      "80921\n",
      "Epoch 00410 | Loss 0.1048 | train_RMSE 0.1605 | test_RMSE 0.1569 \n"
     ]
    },
    {
     "name": "stderr",
     "output_type": "stream",
     "text": [
      "\r",
      " 14%|█████▌                                  | 413/3000 [00:38<03:58, 10.86it/s]"
     ]
    },
    {
     "name": "stdout",
     "output_type": "stream",
     "text": [
      "19929\n",
      "80921\n",
      "Epoch 00411 | Loss 0.1054 | train_RMSE 0.1524 | test_RMSE 0.1498 \n",
      "19929\n",
      "80921\n",
      "Epoch 00412 | Loss 0.1058 | train_RMSE 0.1728 | test_RMSE 0.1690 \n",
      "19929\n"
     ]
    },
    {
     "name": "stderr",
     "output_type": "stream",
     "text": [
      "\r",
      " 14%|█████▌                                  | 415/3000 [00:39<03:57, 10.90it/s]"
     ]
    },
    {
     "name": "stdout",
     "output_type": "stream",
     "text": [
      "80921\n",
      "Epoch 00413 | Loss 0.1071 | train_RMSE 0.1574 | test_RMSE 0.1552 \n",
      "19929\n",
      "80921\n",
      "Epoch 00414 | Loss 0.1092 | train_RMSE 0.1801 | test_RMSE 0.1765 \n",
      "19929\n",
      "80921\n",
      "Epoch 00415 | Loss 0.1093 | train_RMSE 0.1607 | test_RMSE 0.1588 \n"
     ]
    },
    {
     "name": "stderr",
     "output_type": "stream",
     "text": [
      "\r",
      " 14%|█████▌                                  | 417/3000 [00:39<03:56, 10.93it/s]"
     ]
    },
    {
     "name": "stdout",
     "output_type": "stream",
     "text": [
      "19929\n",
      "80921\n",
      "Epoch 00416 | Loss 0.1103 | train_RMSE 0.1807 | test_RMSE 0.1771 \n",
      "19929\n",
      "80921\n",
      "Epoch 00417 | Loss 0.1104 | train_RMSE 0.1576 | test_RMSE 0.1555 \n",
      "19929\n"
     ]
    },
    {
     "name": "stderr",
     "output_type": "stream",
     "text": [
      " 14%|█████▌                                  | 421/3000 [00:39<03:54, 10.98it/s]"
     ]
    },
    {
     "name": "stdout",
     "output_type": "stream",
     "text": [
      "80921\n",
      "Epoch 00418 | Loss 0.1083 | train_RMSE 0.1686 | test_RMSE 0.1650 \n",
      "19929\n",
      "80921\n",
      "Epoch 00419 | Loss 0.1064 | train_RMSE 0.1495 | test_RMSE 0.1467 \n",
      "19929\n",
      "80921\n",
      "Epoch 00420 | Loss 0.1043 | train_RMSE 0.1504 | test_RMSE 0.1472 \n"
     ]
    },
    {
     "name": "stderr",
     "output_type": "stream",
     "text": [
      "\r",
      " 14%|█████▋                                  | 423/3000 [00:39<03:57, 10.85it/s]"
     ]
    },
    {
     "name": "stdout",
     "output_type": "stream",
     "text": [
      "19929\n",
      "80921\n",
      "Epoch 00421 | Loss 0.1021 | train_RMSE 0.1588 | test_RMSE 0.1554 \n",
      "19929\n",
      "80921\n",
      "Epoch 00422 | Loss 0.1038 | train_RMSE 0.1545 | test_RMSE 0.1524 \n",
      "19929\n"
     ]
    },
    {
     "name": "stderr",
     "output_type": "stream",
     "text": [
      "\r",
      " 14%|█████▋                                  | 425/3000 [00:40<03:56, 10.90it/s]"
     ]
    },
    {
     "name": "stdout",
     "output_type": "stream",
     "text": [
      "80921\n",
      "Epoch 00423 | Loss 0.1065 | train_RMSE 0.1776 | test_RMSE 0.1741 \n",
      "19929\n",
      "80921\n",
      "Epoch 00424 | Loss 0.1081 | train_RMSE 0.1571 | test_RMSE 0.1551 \n",
      "19929\n",
      "80921\n",
      "Epoch 00425 | Loss 0.1070 | train_RMSE 0.1664 | test_RMSE 0.1629 \n"
     ]
    },
    {
     "name": "stderr",
     "output_type": "stream",
     "text": [
      "\r",
      " 14%|█████▋                                  | 427/3000 [00:40<03:55, 10.92it/s]"
     ]
    },
    {
     "name": "stdout",
     "output_type": "stream",
     "text": [
      "19929\n",
      "80921\n",
      "Epoch 00426 | Loss 0.1059 | train_RMSE 0.1490 | test_RMSE 0.1463 \n",
      "19929\n",
      "80921\n",
      "Epoch 00427 | Loss 0.1036 | train_RMSE 0.1494 | test_RMSE 0.1463 \n",
      "19929\n"
     ]
    },
    {
     "name": "stderr",
     "output_type": "stream",
     "text": [
      " 14%|█████▋                                  | 431/3000 [00:40<03:54, 10.97it/s]"
     ]
    },
    {
     "name": "stdout",
     "output_type": "stream",
     "text": [
      "80921\n",
      "Epoch 00428 | Loss 0.1031 | train_RMSE 0.1604 | test_RMSE 0.1569 \n",
      "19929\n",
      "80921\n",
      "Epoch 00429 | Loss 0.1034 | train_RMSE 0.1540 | test_RMSE 0.1518 \n",
      "19929\n",
      "80921\n",
      "Epoch 00430 | Loss 0.1057 | train_RMSE 0.1791 | test_RMSE 0.1755 \n"
     ]
    },
    {
     "name": "stderr",
     "output_type": "stream",
     "text": [
      "\r",
      " 14%|█████▊                                  | 433/3000 [00:40<03:53, 10.97it/s]"
     ]
    },
    {
     "name": "stdout",
     "output_type": "stream",
     "text": [
      "19929\n",
      "80921\n",
      "Epoch 00431 | Loss 0.1078 | train_RMSE 0.1569 | test_RMSE 0.1548 \n",
      "19929\n",
      "80921\n",
      "Epoch 00432 | Loss 0.1073 | train_RMSE 0.1642 | test_RMSE 0.1607 \n",
      "19929\n"
     ]
    },
    {
     "name": "stderr",
     "output_type": "stream",
     "text": [
      "\r",
      " 14%|█████▊                                  | 435/3000 [00:40<03:53, 10.98it/s]"
     ]
    },
    {
     "name": "stdout",
     "output_type": "stream",
     "text": [
      "80921\n",
      "Epoch 00433 | Loss 0.1030 | train_RMSE 0.1491 | test_RMSE 0.1460 \n",
      "19929\n",
      "80921\n",
      "Epoch 00434 | Loss 0.1019 | train_RMSE 0.1486 | test_RMSE 0.1458 \n",
      "19929\n",
      "80921\n",
      "Epoch 00435 | Loss 0.1013 | train_RMSE 0.1603 | test_RMSE 0.1568 \n"
     ]
    },
    {
     "name": "stderr",
     "output_type": "stream",
     "text": [
      "\r",
      " 15%|█████▊                                  | 437/3000 [00:41<03:53, 11.00it/s]"
     ]
    },
    {
     "name": "stdout",
     "output_type": "stream",
     "text": [
      "19929\n",
      "80921\n",
      "Epoch 00436 | Loss 0.1017 | train_RMSE 0.1501 | test_RMSE 0.1476 \n",
      "19929\n",
      "80921\n",
      "Epoch 00437 | Loss 0.1035 | train_RMSE 0.1602 | test_RMSE 0.1568 \n",
      "19929\n"
     ]
    },
    {
     "name": "stderr",
     "output_type": "stream",
     "text": [
      " 15%|█████▉                                  | 441/3000 [00:41<03:54, 10.91it/s]"
     ]
    },
    {
     "name": "stdout",
     "output_type": "stream",
     "text": [
      "80921\n",
      "Epoch 00438 | Loss 0.1022 | train_RMSE 0.1486 | test_RMSE 0.1458 \n",
      "19929\n",
      "80921\n",
      "Epoch 00439 | Loss 0.1009 | train_RMSE 0.1507 | test_RMSE 0.1476 \n",
      "19929\n",
      "80921\n",
      "Epoch 00440 | Loss 0.1006 | train_RMSE 0.1535 | test_RMSE 0.1502 \n"
     ]
    },
    {
     "name": "stderr",
     "output_type": "stream",
     "text": [
      "\r",
      " 15%|█████▉                                  | 443/3000 [00:41<03:53, 10.94it/s]"
     ]
    },
    {
     "name": "stdout",
     "output_type": "stream",
     "text": [
      "19929\n",
      "80921\n",
      "Epoch 00441 | Loss 0.1020 | train_RMSE 0.1485 | test_RMSE 0.1458 \n",
      "19929\n",
      "80921\n",
      "Epoch 00442 | Loss 0.1009 | train_RMSE 0.1602 | test_RMSE 0.1567 \n",
      "19929\n"
     ]
    },
    {
     "name": "stderr",
     "output_type": "stream",
     "text": [
      "\r",
      " 15%|█████▉                                  | 445/3000 [00:41<03:53, 10.96it/s]"
     ]
    },
    {
     "name": "stdout",
     "output_type": "stream",
     "text": [
      "80921\n",
      "Epoch 00443 | Loss 0.1022 | train_RMSE 0.1490 | test_RMSE 0.1463 \n",
      "19929\n",
      "80921\n",
      "Epoch 00444 | Loss 0.1016 | train_RMSE 0.1545 | test_RMSE 0.1511 \n",
      "19929\n",
      "80921\n",
      "Epoch 00445 | Loss 0.1009 | train_RMSE 0.1488 | test_RMSE 0.1457 \n"
     ]
    },
    {
     "name": "stderr",
     "output_type": "stream",
     "text": [
      "\r",
      " 15%|█████▉                                  | 447/3000 [00:42<03:53, 10.94it/s]"
     ]
    },
    {
     "name": "stdout",
     "output_type": "stream",
     "text": [
      "19929\n",
      "80921\n",
      "Epoch 00446 | Loss 0.1000 | train_RMSE 0.1481 | test_RMSE 0.1452 \n",
      "19929\n",
      "80921\n",
      "Epoch 00447 | Loss 0.0995 | train_RMSE 0.1571 | test_RMSE 0.1538 \n",
      "19929\n"
     ]
    },
    {
     "name": "stderr",
     "output_type": "stream",
     "text": [
      " 15%|██████                                  | 451/3000 [00:42<03:52, 10.95it/s]"
     ]
    },
    {
     "name": "stdout",
     "output_type": "stream",
     "text": [
      "80921\n",
      "Epoch 00448 | Loss 0.1010 | train_RMSE 0.1496 | test_RMSE 0.1470 \n",
      "19929\n",
      "80921\n",
      "Epoch 00449 | Loss 0.1017 | train_RMSE 0.1667 | test_RMSE 0.1632 \n",
      "19929\n",
      "80921\n",
      "Epoch 00450 | Loss 0.1028 | train_RMSE 0.1525 | test_RMSE 0.1501 \n"
     ]
    },
    {
     "name": "stderr",
     "output_type": "stream",
     "text": [
      "\r",
      " 15%|██████                                  | 453/3000 [00:42<03:52, 10.97it/s]"
     ]
    },
    {
     "name": "stdout",
     "output_type": "stream",
     "text": [
      "19929\n",
      "80921\n",
      "Epoch 00451 | Loss 0.1038 | train_RMSE 0.1668 | test_RMSE 0.1632 \n",
      "19929\n",
      "80921\n",
      "Epoch 00452 | Loss 0.1027 | train_RMSE 0.1499 | test_RMSE 0.1474 \n",
      "19929\n"
     ]
    },
    {
     "name": "stderr",
     "output_type": "stream",
     "text": [
      "\r",
      " 15%|██████                                  | 455/3000 [00:42<03:51, 10.99it/s]"
     ]
    },
    {
     "name": "stdout",
     "output_type": "stream",
     "text": [
      "80921\n",
      "Epoch 00453 | Loss 0.1010 | train_RMSE 0.1595 | test_RMSE 0.1560 \n",
      "19929\n",
      "80921\n",
      "Epoch 00454 | Loss 0.1010 | train_RMSE 0.1479 | test_RMSE 0.1452 \n",
      "19929\n",
      "80921\n",
      "Epoch 00455 | Loss 0.0999 | train_RMSE 0.1522 | test_RMSE 0.1489 \n"
     ]
    },
    {
     "name": "stderr",
     "output_type": "stream",
     "text": [
      "\r",
      " 15%|██████                                  | 457/3000 [00:42<03:52, 10.95it/s]"
     ]
    },
    {
     "name": "stdout",
     "output_type": "stream",
     "text": [
      "19929\n",
      "80921\n",
      "Epoch 00456 | Loss 0.0989 | train_RMSE 0.1484 | test_RMSE 0.1453 \n",
      "19929\n",
      "80921\n",
      "Epoch 00457 | Loss 0.0990 | train_RMSE 0.1487 | test_RMSE 0.1456 \n",
      "19929\n"
     ]
    },
    {
     "name": "stderr",
     "output_type": "stream",
     "text": [
      " 15%|██████▏                                 | 461/3000 [00:43<03:53, 10.88it/s]"
     ]
    },
    {
     "name": "stdout",
     "output_type": "stream",
     "text": [
      "80921\n",
      "Epoch 00458 | Loss 0.0988 | train_RMSE 0.1507 | test_RMSE 0.1474 \n",
      "19929\n",
      "80921\n",
      "Epoch 00459 | Loss 0.0982 | train_RMSE 0.1482 | test_RMSE 0.1453 \n",
      "19929\n",
      "80921\n",
      "Epoch 00460 | Loss 0.0986 | train_RMSE 0.1502 | test_RMSE 0.1470 \n"
     ]
    },
    {
     "name": "stderr",
     "output_type": "stream",
     "text": [
      "\r",
      " 15%|██████▏                                 | 463/3000 [00:43<03:53, 10.88it/s]"
     ]
    },
    {
     "name": "stdout",
     "output_type": "stream",
     "text": [
      "19929\n",
      "80921\n",
      "Epoch 00461 | Loss 0.0979 | train_RMSE 0.1483 | test_RMSE 0.1453 \n",
      "19929\n",
      "80921\n",
      "Epoch 00462 | Loss 0.0982 | train_RMSE 0.1499 | test_RMSE 0.1467 \n",
      "19929\n"
     ]
    },
    {
     "name": "stderr",
     "output_type": "stream",
     "text": [
      "\r",
      " 16%|██████▏                                 | 465/3000 [00:43<03:52, 10.90it/s]"
     ]
    },
    {
     "name": "stdout",
     "output_type": "stream",
     "text": [
      "80921\n",
      "Epoch 00463 | Loss 0.0984 | train_RMSE 0.1476 | test_RMSE 0.1445 \n",
      "19929\n",
      "80921\n",
      "Epoch 00464 | Loss 0.0979 | train_RMSE 0.1540 | test_RMSE 0.1506 \n",
      "19929\n",
      "80921\n",
      "Epoch 00465 | Loss 0.0988 | train_RMSE 0.1478 | test_RMSE 0.1450 \n"
     ]
    },
    {
     "name": "stderr",
     "output_type": "stream",
     "text": [
      "\r",
      " 16%|██████▏                                 | 467/3000 [00:43<03:51, 10.96it/s]"
     ]
    },
    {
     "name": "stdout",
     "output_type": "stream",
     "text": [
      "19929\n",
      "80921\n",
      "Epoch 00466 | Loss 0.0988 | train_RMSE 0.1586 | test_RMSE 0.1551 \n",
      "19929\n",
      "80921\n",
      "Epoch 00467 | Loss 0.0988 | train_RMSE 0.1491 | test_RMSE 0.1465 \n",
      "19929\n"
     ]
    },
    {
     "name": "stderr",
     "output_type": "stream",
     "text": [
      " 16%|██████▎                                 | 471/3000 [00:44<03:50, 10.99it/s]"
     ]
    },
    {
     "name": "stdout",
     "output_type": "stream",
     "text": [
      "80921\n",
      "Epoch 00468 | Loss 0.0988 | train_RMSE 0.1630 | test_RMSE 0.1595 \n",
      "19929\n",
      "80921\n",
      "Epoch 00469 | Loss 0.1001 | train_RMSE 0.1522 | test_RMSE 0.1499 \n",
      "19929\n",
      "80921\n",
      "Epoch 00470 | Loss 0.1008 | train_RMSE 0.1716 | test_RMSE 0.1679 \n"
     ]
    },
    {
     "name": "stderr",
     "output_type": "stream",
     "text": [
      "\r",
      " 16%|██████▎                                 | 473/3000 [00:44<03:49, 11.02it/s]"
     ]
    },
    {
     "name": "stdout",
     "output_type": "stream",
     "text": [
      "19929\n",
      "80921\n",
      "Epoch 00471 | Loss 0.1018 | train_RMSE 0.1599 | test_RMSE 0.1580 \n",
      "19929\n",
      "80921\n",
      "Epoch 00472 | Loss 0.1034 | train_RMSE 0.1921 | test_RMSE 0.1884 \n",
      "19929\n"
     ]
    },
    {
     "name": "stderr",
     "output_type": "stream",
     "text": [
      "\r",
      " 16%|██████▎                                 | 475/3000 [00:44<03:48, 11.05it/s]"
     ]
    },
    {
     "name": "stdout",
     "output_type": "stream",
     "text": [
      "80921\n",
      "Epoch 00473 | Loss 0.1077 | train_RMSE 0.1797 | test_RMSE 0.1784 \n",
      "19929\n",
      "80921\n",
      "Epoch 00474 | Loss 0.1111 | train_RMSE 0.2255 | test_RMSE 0.2218 \n",
      "19929\n",
      "80921\n",
      "Epoch 00475 | Loss 0.1187 | train_RMSE 0.1954 | test_RMSE 0.1944 \n"
     ]
    },
    {
     "name": "stderr",
     "output_type": "stream",
     "text": [
      "\r",
      " 16%|██████▎                                 | 477/3000 [00:44<03:48, 11.05it/s]"
     ]
    },
    {
     "name": "stdout",
     "output_type": "stream",
     "text": [
      "19929\n",
      "80921\n",
      "Epoch 00476 | Loss 0.1186 | train_RMSE 0.2243 | test_RMSE 0.2207 \n",
      "19929\n",
      "80921\n",
      "Epoch 00477 | Loss 0.1197 | train_RMSE 0.1767 | test_RMSE 0.1753 \n",
      "19929\n"
     ]
    },
    {
     "name": "stderr",
     "output_type": "stream",
     "text": [
      " 16%|██████▍                                 | 481/3000 [00:45<03:49, 10.98it/s]"
     ]
    },
    {
     "name": "stdout",
     "output_type": "stream",
     "text": [
      "80921\n",
      "Epoch 00478 | Loss 0.1103 | train_RMSE 0.1767 | test_RMSE 0.1732 \n",
      "19929\n",
      "80921\n",
      "Epoch 00479 | Loss 0.1028 | train_RMSE 0.1482 | test_RMSE 0.1454 \n",
      "19929\n",
      "80921\n",
      "Epoch 00480 | Loss 0.0960 | train_RMSE 0.1486 | test_RMSE 0.1460 \n"
     ]
    },
    {
     "name": "stderr",
     "output_type": "stream",
     "text": [
      "\r",
      " 16%|██████▍                                 | 483/3000 [00:45<03:48, 11.01it/s]"
     ]
    },
    {
     "name": "stdout",
     "output_type": "stream",
     "text": [
      "19929\n",
      "80921\n",
      "Epoch 00481 | Loss 0.0972 | train_RMSE 0.1724 | test_RMSE 0.1689 \n",
      "19929\n",
      "80921\n",
      "Epoch 00482 | Loss 0.1016 | train_RMSE 0.1592 | test_RMSE 0.1571 \n",
      "19929\n"
     ]
    },
    {
     "name": "stderr",
     "output_type": "stream",
     "text": [
      "\r",
      " 16%|██████▍                                 | 485/3000 [00:45<03:48, 10.99it/s]"
     ]
    },
    {
     "name": "stdout",
     "output_type": "stream",
     "text": [
      "80921\n",
      "Epoch 00483 | Loss 0.1029 | train_RMSE 0.1714 | test_RMSE 0.1678 \n",
      "19929\n",
      "80921\n",
      "Epoch 00484 | Loss 0.1008 | train_RMSE 0.1478 | test_RMSE 0.1451 \n",
      "19929\n",
      "80921\n",
      "Epoch 00485 | Loss 0.0965 | train_RMSE 0.1476 | test_RMSE 0.1447 \n"
     ]
    },
    {
     "name": "stderr",
     "output_type": "stream",
     "text": [
      "\r",
      " 16%|██████▍                                 | 487/3000 [00:45<03:49, 10.95it/s]"
     ]
    },
    {
     "name": "stdout",
     "output_type": "stream",
     "text": [
      "19929\n",
      "80921\n",
      "Epoch 00486 | Loss 0.0959 | train_RMSE 0.1633 | test_RMSE 0.1599 \n",
      "19929\n",
      "80921\n",
      "Epoch 00487 | Loss 0.0975 | train_RMSE 0.1539 | test_RMSE 0.1518 \n",
      "19929\n"
     ]
    },
    {
     "name": "stderr",
     "output_type": "stream",
     "text": [
      " 16%|██████▌                                 | 491/3000 [00:46<03:48, 10.96it/s]"
     ]
    },
    {
     "name": "stdout",
     "output_type": "stream",
     "text": [
      "80921\n",
      "Epoch 00488 | Loss 0.0998 | train_RMSE 0.1660 | test_RMSE 0.1625 \n",
      "19929\n",
      "80921\n",
      "Epoch 00489 | Loss 0.0973 | train_RMSE 0.1472 | test_RMSE 0.1444 \n",
      "19929\n",
      "80921\n",
      "Epoch 00490 | Loss 0.0948 | train_RMSE 0.1472 | test_RMSE 0.1442 \n"
     ]
    },
    {
     "name": "stderr",
     "output_type": "stream",
     "text": [
      "\r",
      " 16%|██████▌                                 | 493/3000 [00:46<03:48, 10.99it/s]"
     ]
    },
    {
     "name": "stdout",
     "output_type": "stream",
     "text": [
      "19929\n",
      "80921\n",
      "Epoch 00491 | Loss 0.0950 | train_RMSE 0.1594 | test_RMSE 0.1559 \n",
      "19929\n",
      "80921\n",
      "Epoch 00492 | Loss 0.0962 | train_RMSE 0.1512 | test_RMSE 0.1488 \n",
      "19929\n"
     ]
    },
    {
     "name": "stderr",
     "output_type": "stream",
     "text": [
      "\r",
      " 16%|██████▌                                 | 495/3000 [00:46<03:47, 11.01it/s]"
     ]
    },
    {
     "name": "stdout",
     "output_type": "stream",
     "text": [
      "80921\n",
      "Epoch 00493 | Loss 0.0965 | train_RMSE 0.1615 | test_RMSE 0.1579 \n",
      "19929\n",
      "80921\n",
      "Epoch 00494 | Loss 0.0962 | train_RMSE 0.1474 | test_RMSE 0.1447 \n",
      "19929\n",
      "80921\n",
      "Epoch 00495 | Loss 0.0949 | train_RMSE 0.1485 | test_RMSE 0.1453 \n"
     ]
    },
    {
     "name": "stderr",
     "output_type": "stream",
     "text": [
      "\r",
      " 17%|██████▋                                 | 497/3000 [00:46<03:47, 11.03it/s]"
     ]
    },
    {
     "name": "stdout",
     "output_type": "stream",
     "text": [
      "19929\n",
      "80921\n",
      "Epoch 00496 | Loss 0.0951 | train_RMSE 0.1528 | test_RMSE 0.1493 \n",
      "19929\n",
      "80921\n",
      "Epoch 00497 | Loss 0.0945 | train_RMSE 0.1489 | test_RMSE 0.1462 \n",
      "19929\n"
     ]
    },
    {
     "name": "stderr",
     "output_type": "stream",
     "text": [
      " 17%|██████▋                                 | 501/3000 [00:46<03:47, 11.00it/s]"
     ]
    },
    {
     "name": "stdout",
     "output_type": "stream",
     "text": [
      "80921\n",
      "Epoch 00498 | Loss 0.0962 | train_RMSE 0.1615 | test_RMSE 0.1579 \n",
      "19929\n",
      "80921\n",
      "Epoch 00499 | Loss 0.0961 | train_RMSE 0.1478 | test_RMSE 0.1450 \n",
      "19929\n",
      "80921\n",
      "Epoch 00500 | Loss 0.0951 | train_RMSE 0.1509 | test_RMSE 0.1476 \n"
     ]
    },
    {
     "name": "stderr",
     "output_type": "stream",
     "text": [
      "\r",
      " 17%|██████▋                                 | 503/3000 [00:47<03:48, 10.94it/s]"
     ]
    },
    {
     "name": "stdout",
     "output_type": "stream",
     "text": [
      "19929\n",
      "80921\n",
      "Epoch 00501 | Loss 0.0941 | train_RMSE 0.1495 | test_RMSE 0.1464 \n",
      "19929\n",
      "80921\n",
      "Epoch 00502 | Loss 0.0933 | train_RMSE 0.1473 | test_RMSE 0.1446 \n",
      "19929\n"
     ]
    },
    {
     "name": "stderr",
     "output_type": "stream",
     "text": [
      "\r",
      " 17%|██████▋                                 | 505/3000 [00:47<03:47, 10.96it/s]"
     ]
    },
    {
     "name": "stdout",
     "output_type": "stream",
     "text": [
      "80921\n",
      "Epoch 00503 | Loss 0.0939 | train_RMSE 0.1586 | test_RMSE 0.1551 \n",
      "19929\n",
      "80921\n",
      "Epoch 00504 | Loss 0.0941 | train_RMSE 0.1492 | test_RMSE 0.1467 \n",
      "19929\n",
      "80921\n",
      "Epoch 00505 | Loss 0.0940 | train_RMSE 0.1621 | test_RMSE 0.1585 \n"
     ]
    },
    {
     "name": "stderr",
     "output_type": "stream",
     "text": [
      "\r",
      " 17%|██████▊                                 | 507/3000 [00:47<03:46, 10.99it/s]"
     ]
    },
    {
     "name": "stdout",
     "output_type": "stream",
     "text": [
      "19929\n",
      "80921\n",
      "Epoch 00506 | Loss 0.0949 | train_RMSE 0.1501 | test_RMSE 0.1476 \n",
      "19929\n",
      "80921\n",
      "Epoch 00507 | Loss 0.0950 | train_RMSE 0.1598 | test_RMSE 0.1563 \n",
      "19929\n"
     ]
    },
    {
     "name": "stderr",
     "output_type": "stream",
     "text": [
      " 17%|██████▊                                 | 511/3000 [00:47<03:47, 10.96it/s]"
     ]
    },
    {
     "name": "stdout",
     "output_type": "stream",
     "text": [
      "80921\n",
      "Epoch 00508 | Loss 0.0947 | train_RMSE 0.1475 | test_RMSE 0.1448 \n",
      "19929\n",
      "80921\n",
      "Epoch 00509 | Loss 0.0928 | train_RMSE 0.1502 | test_RMSE 0.1470 \n",
      "19929\n",
      "80921\n",
      "Epoch 00510 | Loss 0.0915 | train_RMSE 0.1484 | test_RMSE 0.1453 \n"
     ]
    },
    {
     "name": "stderr",
     "output_type": "stream",
     "text": [
      "\r",
      " 17%|██████▊                                 | 513/3000 [00:48<03:46, 10.99it/s]"
     ]
    },
    {
     "name": "stdout",
     "output_type": "stream",
     "text": [
      "19929\n",
      "80921\n",
      "Epoch 00511 | Loss 0.0916 | train_RMSE 0.1469 | test_RMSE 0.1440 \n",
      "19929\n",
      "80921\n",
      "Epoch 00512 | Loss 0.0921 | train_RMSE 0.1523 | test_RMSE 0.1490 \n",
      "19929\n"
     ]
    },
    {
     "name": "stderr",
     "output_type": "stream",
     "text": [
      "\r",
      " 17%|██████▊                                 | 515/3000 [00:48<03:45, 11.01it/s]"
     ]
    },
    {
     "name": "stdout",
     "output_type": "stream",
     "text": [
      "80921\n",
      "Epoch 00513 | Loss 0.0930 | train_RMSE 0.1467 | test_RMSE 0.1438 \n",
      "19929\n",
      "80921\n",
      "Epoch 00514 | Loss 0.0921 | train_RMSE 0.1526 | test_RMSE 0.1492 \n",
      "19929\n",
      "80921\n",
      "Epoch 00515 | Loss 0.0915 | train_RMSE 0.1466 | test_RMSE 0.1438 \n"
     ]
    },
    {
     "name": "stderr",
     "output_type": "stream",
     "text": [
      "\r",
      " 17%|██████▉                                 | 517/3000 [00:48<03:45, 11.02it/s]"
     ]
    },
    {
     "name": "stdout",
     "output_type": "stream",
     "text": [
      "19929\n",
      "80921\n",
      "Epoch 00516 | Loss 0.0920 | train_RMSE 0.1525 | test_RMSE 0.1492 \n",
      "19929\n",
      "80921\n",
      "Epoch 00517 | Loss 0.0915 | train_RMSE 0.1466 | test_RMSE 0.1438 \n",
      "19929\n"
     ]
    },
    {
     "name": "stderr",
     "output_type": "stream",
     "text": [
      " 17%|██████▉                                 | 521/3000 [00:48<03:48, 10.85it/s]"
     ]
    },
    {
     "name": "stdout",
     "output_type": "stream",
     "text": [
      "80921\n",
      "Epoch 00518 | Loss 0.0914 | train_RMSE 0.1526 | test_RMSE 0.1492 \n",
      "19929\n",
      "80921\n",
      "Epoch 00519 | Loss 0.0910 | train_RMSE 0.1466 | test_RMSE 0.1438 \n",
      "19929\n",
      "80921\n",
      "Epoch 00520 | Loss 0.0907 | train_RMSE 0.1547 | test_RMSE 0.1512 \n"
     ]
    },
    {
     "name": "stderr",
     "output_type": "stream",
     "text": [
      "\r",
      " 17%|██████▉                                 | 523/3000 [00:48<03:47, 10.91it/s]"
     ]
    },
    {
     "name": "stdout",
     "output_type": "stream",
     "text": [
      "19929\n",
      "80921\n",
      "Epoch 00521 | Loss 0.0914 | train_RMSE 0.1470 | test_RMSE 0.1443 \n",
      "19929\n",
      "80921\n",
      "Epoch 00522 | Loss 0.0915 | train_RMSE 0.1592 | test_RMSE 0.1558 \n",
      "19929\n"
     ]
    },
    {
     "name": "stderr",
     "output_type": "stream",
     "text": [
      "\r",
      " 18%|███████                                 | 525/3000 [00:49<03:46, 10.95it/s]"
     ]
    },
    {
     "name": "stdout",
     "output_type": "stream",
     "text": [
      "80921\n",
      "Epoch 00523 | Loss 0.0919 | train_RMSE 0.1510 | test_RMSE 0.1487 \n",
      "19929\n",
      "80921\n",
      "Epoch 00524 | Loss 0.0927 | train_RMSE 0.1730 | test_RMSE 0.1694 \n",
      "19929\n",
      "80921\n",
      "Epoch 00525 | Loss 0.0958 | train_RMSE 0.1621 | test_RMSE 0.1602 \n"
     ]
    },
    {
     "name": "stderr",
     "output_type": "stream",
     "text": [
      "\r",
      " 18%|███████                                 | 527/3000 [00:49<03:45, 10.96it/s]"
     ]
    },
    {
     "name": "stdout",
     "output_type": "stream",
     "text": [
      "19929\n",
      "80921\n",
      "Epoch 00526 | Loss 0.0985 | train_RMSE 0.1989 | test_RMSE 0.1952 \n",
      "19929\n",
      "80921\n",
      "Epoch 00527 | Loss 0.1033 | train_RMSE 0.1852 | test_RMSE 0.1839 \n",
      "19929\n"
     ]
    },
    {
     "name": "stderr",
     "output_type": "stream",
     "text": [
      " 18%|███████                                 | 531/3000 [00:49<03:44, 11.01it/s]"
     ]
    },
    {
     "name": "stdout",
     "output_type": "stream",
     "text": [
      "80921\n",
      "Epoch 00528 | Loss 0.1069 | train_RMSE 0.2262 | test_RMSE 0.2226 \n",
      "19929\n",
      "80921\n",
      "Epoch 00529 | Loss 0.1123 | train_RMSE 0.1894 | test_RMSE 0.1883 \n",
      "19929\n",
      "80921\n",
      "Epoch 00530 | Loss 0.1092 | train_RMSE 0.1999 | test_RMSE 0.1963 \n"
     ]
    },
    {
     "name": "stderr",
     "output_type": "stream",
     "text": [
      "\r",
      " 18%|███████                                 | 533/3000 [00:49<03:43, 11.04it/s]"
     ]
    },
    {
     "name": "stdout",
     "output_type": "stream",
     "text": [
      "19929\n",
      "80921\n",
      "Epoch 00531 | Loss 0.1035 | train_RMSE 0.1529 | test_RMSE 0.1506 \n",
      "19929\n",
      "80921\n",
      "Epoch 00532 | Loss 0.0926 | train_RMSE 0.1474 | test_RMSE 0.1444 \n",
      "19929\n"
     ]
    },
    {
     "name": "stderr",
     "output_type": "stream",
     "text": [
      "\r",
      " 18%|███████▏                                | 535/3000 [00:50<03:43, 11.02it/s]"
     ]
    },
    {
     "name": "stdout",
     "output_type": "stream",
     "text": [
      "80921\n",
      "Epoch 00533 | Loss 0.0902 | train_RMSE 0.1682 | test_RMSE 0.1647 \n",
      "19929\n",
      "80921\n",
      "Epoch 00534 | Loss 0.0917 | train_RMSE 0.1657 | test_RMSE 0.1639 \n",
      "19929\n",
      "80921\n",
      "Epoch 00535 | Loss 0.0985 | train_RMSE 0.1887 | test_RMSE 0.1853 \n"
     ]
    },
    {
     "name": "stderr",
     "output_type": "stream",
     "text": [
      "\r",
      " 18%|███████▏                                | 537/3000 [00:50<03:43, 11.04it/s]"
     ]
    },
    {
     "name": "stdout",
     "output_type": "stream",
     "text": [
      "19929\n",
      "80921\n",
      "Epoch 00536 | Loss 0.0991 | train_RMSE 0.1537 | test_RMSE 0.1516 \n",
      "19929\n",
      "80921\n",
      "Epoch 00537 | Loss 0.0928 | train_RMSE 0.1496 | test_RMSE 0.1465 \n",
      "19929\n"
     ]
    },
    {
     "name": "stderr",
     "output_type": "stream",
     "text": [
      " 18%|███████▏                                | 541/3000 [00:50<03:42, 11.05it/s]"
     ]
    },
    {
     "name": "stdout",
     "output_type": "stream",
     "text": [
      "80921\n",
      "Epoch 00538 | Loss 0.0883 | train_RMSE 0.1594 | test_RMSE 0.1560 \n",
      "19929\n",
      "80921\n",
      "Epoch 00539 | Loss 0.0904 | train_RMSE 0.1577 | test_RMSE 0.1557 \n",
      "19929\n",
      "80921\n",
      "Epoch 00540 | Loss 0.0944 | train_RMSE 0.1764 | test_RMSE 0.1727 \n"
     ]
    },
    {
     "name": "stderr",
     "output_type": "stream",
     "text": [
      "\r",
      " 18%|███████▏                                | 543/3000 [00:50<03:42, 11.05it/s]"
     ]
    },
    {
     "name": "stdout",
     "output_type": "stream",
     "text": [
      "19929\n",
      "80921\n",
      "Epoch 00541 | Loss 0.0950 | train_RMSE 0.1493 | test_RMSE 0.1469 \n",
      "19929\n",
      "80921\n",
      "Epoch 00542 | Loss 0.0904 | train_RMSE 0.1475 | test_RMSE 0.1445 \n",
      "19929\n"
     ]
    },
    {
     "name": "stderr",
     "output_type": "stream",
     "text": [
      "\r",
      " 18%|███████▎                                | 545/3000 [00:50<03:42, 11.05it/s]"
     ]
    },
    {
     "name": "stdout",
     "output_type": "stream",
     "text": [
      "80921\n",
      "Epoch 00543 | Loss 0.0885 | train_RMSE 0.1586 | test_RMSE 0.1553 \n",
      "19929\n",
      "80921\n",
      "Epoch 00544 | Loss 0.0899 | train_RMSE 0.1528 | test_RMSE 0.1507 \n",
      "19929\n",
      "80921\n",
      "Epoch 00545 | Loss 0.0917 | train_RMSE 0.1649 | test_RMSE 0.1615 \n"
     ]
    },
    {
     "name": "stderr",
     "output_type": "stream",
     "text": [
      "\r",
      " 18%|███████▎                                | 547/3000 [00:51<03:42, 11.05it/s]"
     ]
    },
    {
     "name": "stdout",
     "output_type": "stream",
     "text": [
      "19929\n",
      "80921\n",
      "Epoch 00546 | Loss 0.0913 | train_RMSE 0.1466 | test_RMSE 0.1438 \n",
      "19929\n",
      "80921\n",
      "Epoch 00547 | Loss 0.0875 | train_RMSE 0.1468 | test_RMSE 0.1437 \n",
      "19929\n"
     ]
    },
    {
     "name": "stderr",
     "output_type": "stream",
     "text": [
      " 18%|███████▎                                | 551/3000 [00:51<03:42, 10.99it/s]"
     ]
    },
    {
     "name": "stdout",
     "output_type": "stream",
     "text": [
      "80921\n",
      "Epoch 00548 | Loss 0.0868 | train_RMSE 0.1542 | test_RMSE 0.1508 \n",
      "19929\n",
      "80921\n",
      "Epoch 00549 | Loss 0.0885 | train_RMSE 0.1476 | test_RMSE 0.1450 \n",
      "19929\n",
      "80921\n",
      "Epoch 00550 | Loss 0.0896 | train_RMSE 0.1561 | test_RMSE 0.1528 \n"
     ]
    },
    {
     "name": "stderr",
     "output_type": "stream",
     "text": [
      "\r",
      " 18%|███████▎                                | 553/3000 [00:51<03:42, 11.00it/s]"
     ]
    },
    {
     "name": "stdout",
     "output_type": "stream",
     "text": [
      "19929\n",
      "80921\n",
      "Epoch 00551 | Loss 0.0883 | train_RMSE 0.1464 | test_RMSE 0.1436 \n",
      "19929\n",
      "80921\n",
      "Epoch 00552 | Loss 0.0879 | train_RMSE 0.1471 | test_RMSE 0.1440 \n",
      "19929\n"
     ]
    },
    {
     "name": "stderr",
     "output_type": "stream",
     "text": [
      "\r",
      " 18%|███████▍                                | 555/3000 [00:51<03:42, 11.00it/s]"
     ]
    },
    {
     "name": "stdout",
     "output_type": "stream",
     "text": [
      "80921\n",
      "Epoch 00553 | Loss 0.0870 | train_RMSE 0.1519 | test_RMSE 0.1485 \n",
      "19929\n",
      "80921\n",
      "Epoch 00554 | Loss 0.0878 | train_RMSE 0.1471 | test_RMSE 0.1443 \n",
      "19929\n",
      "80921\n",
      "Epoch 00555 | Loss 0.0886 | train_RMSE 0.1557 | test_RMSE 0.1522 \n"
     ]
    },
    {
     "name": "stderr",
     "output_type": "stream",
     "text": [
      "\r",
      " 19%|███████▍                                | 557/3000 [00:52<03:42, 11.00it/s]"
     ]
    },
    {
     "name": "stdout",
     "output_type": "stream",
     "text": [
      "19929\n",
      "80921\n",
      "Epoch 00556 | Loss 0.0881 | train_RMSE 0.1463 | test_RMSE 0.1434 \n",
      "19929\n",
      "80921\n",
      "Epoch 00557 | Loss 0.0870 | train_RMSE 0.1498 | test_RMSE 0.1465 \n",
      "19929\n"
     ]
    },
    {
     "name": "stderr",
     "output_type": "stream",
     "text": [
      " 19%|███████▍                                | 561/3000 [00:52<03:45, 10.82it/s]"
     ]
    },
    {
     "name": "stdout",
     "output_type": "stream",
     "text": [
      "80921\n",
      "Epoch 00558 | Loss 0.0870 | train_RMSE 0.1471 | test_RMSE 0.1440 \n",
      "19929\n",
      "80921\n",
      "Epoch 00559 | Loss 0.0866 | train_RMSE 0.1461 | test_RMSE 0.1432 \n",
      "19929\n",
      "80921\n",
      "Epoch 00560 | Loss 0.0864 | train_RMSE 0.1504 | test_RMSE 0.1472 \n"
     ]
    },
    {
     "name": "stderr",
     "output_type": "stream",
     "text": [
      "\r",
      " 19%|███████▌                                | 563/3000 [00:52<03:44, 10.86it/s]"
     ]
    },
    {
     "name": "stdout",
     "output_type": "stream",
     "text": [
      "19929\n",
      "80921\n",
      "Epoch 00561 | Loss 0.0856 | train_RMSE 0.1459 | test_RMSE 0.1430 \n",
      "19929\n",
      "80921\n",
      "Epoch 00562 | Loss 0.0867 | train_RMSE 0.1526 | test_RMSE 0.1491 \n",
      "19929\n"
     ]
    },
    {
     "name": "stderr",
     "output_type": "stream",
     "text": [
      "\r",
      " 19%|███████▌                                | 565/3000 [00:52<03:43, 10.91it/s]"
     ]
    },
    {
     "name": "stdout",
     "output_type": "stream",
     "text": [
      "80921\n",
      "Epoch 00563 | Loss 0.0865 | train_RMSE 0.1459 | test_RMSE 0.1430 \n",
      "19929\n",
      "80921\n",
      "Epoch 00564 | Loss 0.0861 | train_RMSE 0.1501 | test_RMSE 0.1467 \n",
      "19929\n",
      "80921\n",
      "Epoch 00565 | Loss 0.0865 | train_RMSE 0.1463 | test_RMSE 0.1432 \n"
     ]
    },
    {
     "name": "stderr",
     "output_type": "stream",
     "text": [
      "\r",
      " 19%|███████▌                                | 567/3000 [00:52<03:43, 10.91it/s]"
     ]
    },
    {
     "name": "stdout",
     "output_type": "stream",
     "text": [
      "19929\n",
      "80921\n",
      "Epoch 00566 | Loss 0.0849 | train_RMSE 0.1472 | test_RMSE 0.1441 \n",
      "19929\n",
      "80921\n",
      "Epoch 00567 | Loss 0.0854 | train_RMSE 0.1490 | test_RMSE 0.1458 \n",
      "19929\n"
     ]
    },
    {
     "name": "stderr",
     "output_type": "stream",
     "text": [
      " 19%|███████▌                                | 571/3000 [00:53<03:41, 10.96it/s]"
     ]
    },
    {
     "name": "stdout",
     "output_type": "stream",
     "text": [
      "80921\n",
      "Epoch 00568 | Loss 0.0854 | train_RMSE 0.1460 | test_RMSE 0.1431 \n",
      "19929\n",
      "80921\n",
      "Epoch 00569 | Loss 0.0850 | train_RMSE 0.1536 | test_RMSE 0.1502 \n",
      "19929\n",
      "80921\n",
      "Epoch 00570 | Loss 0.0853 | train_RMSE 0.1468 | test_RMSE 0.1441 \n"
     ]
    },
    {
     "name": "stderr",
     "output_type": "stream",
     "text": [
      "\r",
      " 19%|███████▋                                | 573/3000 [00:53<03:41, 10.97it/s]"
     ]
    },
    {
     "name": "stdout",
     "output_type": "stream",
     "text": [
      "19929\n",
      "80921\n",
      "Epoch 00571 | Loss 0.0854 | train_RMSE 0.1541 | test_RMSE 0.1506 \n",
      "19929\n",
      "80921\n",
      "Epoch 00572 | Loss 0.0855 | train_RMSE 0.1459 | test_RMSE 0.1430 \n",
      "19929\n"
     ]
    },
    {
     "name": "stderr",
     "output_type": "stream",
     "text": [
      "\r",
      " 19%|███████▋                                | 575/3000 [00:53<03:41, 10.94it/s]"
     ]
    },
    {
     "name": "stdout",
     "output_type": "stream",
     "text": [
      "80921\n",
      "Epoch 00573 | Loss 0.0856 | train_RMSE 0.1486 | test_RMSE 0.1453 \n",
      "19929\n",
      "80921\n",
      "Epoch 00574 | Loss 0.0848 | train_RMSE 0.1477 | test_RMSE 0.1445 \n",
      "19929\n",
      "80921\n",
      "Epoch 00575 | Loss 0.0846 | train_RMSE 0.1462 | test_RMSE 0.1434 \n"
     ]
    },
    {
     "name": "stderr",
     "output_type": "stream",
     "text": [
      "\r",
      " 19%|███████▋                                | 577/3000 [00:53<03:42, 10.89it/s]"
     ]
    },
    {
     "name": "stdout",
     "output_type": "stream",
     "text": [
      "19929\n",
      "80921\n",
      "Epoch 00576 | Loss 0.0846 | train_RMSE 0.1597 | test_RMSE 0.1562 \n",
      "19929\n",
      "80921\n",
      "Epoch 00577 | Loss 0.0860 | train_RMSE 0.1509 | test_RMSE 0.1485 \n",
      "19929\n"
     ]
    },
    {
     "name": "stderr",
     "output_type": "stream",
     "text": [
      " 19%|███████▋                                | 581/3000 [00:54<03:41, 10.94it/s]"
     ]
    },
    {
     "name": "stdout",
     "output_type": "stream",
     "text": [
      "80921\n",
      "Epoch 00578 | Loss 0.0869 | train_RMSE 0.1658 | test_RMSE 0.1621 \n",
      "19929\n",
      "80921\n",
      "Epoch 00579 | Loss 0.0866 | train_RMSE 0.1506 | test_RMSE 0.1482 \n",
      "19929\n",
      "80921\n",
      "Epoch 00580 | Loss 0.0858 | train_RMSE 0.1578 | test_RMSE 0.1543 \n"
     ]
    },
    {
     "name": "stderr",
     "output_type": "stream",
     "text": [
      "\r",
      " 19%|███████▊                                | 583/3000 [00:54<03:42, 10.88it/s]"
     ]
    },
    {
     "name": "stdout",
     "output_type": "stream",
     "text": [
      "19929\n",
      "80921\n",
      "Epoch 00581 | Loss 0.0845 | train_RMSE 0.1460 | test_RMSE 0.1434 \n",
      "19929\n",
      "80921\n",
      "Epoch 00582 | Loss 0.0840 | train_RMSE 0.1508 | test_RMSE 0.1475 \n",
      "19929\n"
     ]
    },
    {
     "name": "stderr",
     "output_type": "stream",
     "text": [
      "\r",
      " 20%|███████▊                                | 585/3000 [00:54<03:42, 10.85it/s]"
     ]
    },
    {
     "name": "stdout",
     "output_type": "stream",
     "text": [
      "80921\n",
      "Epoch 00583 | Loss 0.0840 | train_RMSE 0.1459 | test_RMSE 0.1429 \n",
      "19929\n",
      "80921\n",
      "Epoch 00584 | Loss 0.0823 | train_RMSE 0.1469 | test_RMSE 0.1438 \n",
      "19929\n",
      "80921\n",
      "Epoch 00585 | Loss 0.0825 | train_RMSE 0.1482 | test_RMSE 0.1449 \n"
     ]
    },
    {
     "name": "stderr",
     "output_type": "stream",
     "text": [
      "\r",
      " 20%|███████▊                                | 587/3000 [00:54<03:41, 10.89it/s]"
     ]
    },
    {
     "name": "stdout",
     "output_type": "stream",
     "text": [
      "19929\n",
      "80921\n",
      "Epoch 00586 | Loss 0.0828 | train_RMSE 0.1455 | test_RMSE 0.1425 \n",
      "19929\n",
      "80921\n",
      "Epoch 00587 | Loss 0.0828 | train_RMSE 0.1512 | test_RMSE 0.1478 \n",
      "19929\n"
     ]
    },
    {
     "name": "stderr",
     "output_type": "stream",
     "text": [
      " 20%|███████▉                                | 591/3000 [00:55<03:40, 10.94it/s]"
     ]
    },
    {
     "name": "stdout",
     "output_type": "stream",
     "text": [
      "80921\n",
      "Epoch 00588 | Loss 0.0831 | train_RMSE 0.1459 | test_RMSE 0.1432 \n",
      "19929\n",
      "80921\n",
      "Epoch 00589 | Loss 0.0831 | train_RMSE 0.1529 | test_RMSE 0.1495 \n",
      "19929\n",
      "80921\n",
      "Epoch 00590 | Loss 0.0828 | train_RMSE 0.1458 | test_RMSE 0.1430 \n"
     ]
    },
    {
     "name": "stderr",
     "output_type": "stream",
     "text": [
      "\r",
      " 20%|███████▉                                | 593/3000 [00:55<03:39, 10.96it/s]"
     ]
    },
    {
     "name": "stdout",
     "output_type": "stream",
     "text": [
      "19929\n",
      "80921\n",
      "Epoch 00591 | Loss 0.0828 | train_RMSE 0.1531 | test_RMSE 0.1497 \n",
      "19929\n",
      "80921\n",
      "Epoch 00592 | Loss 0.0828 | train_RMSE 0.1465 | test_RMSE 0.1438 \n",
      "19929\n"
     ]
    },
    {
     "name": "stderr",
     "output_type": "stream",
     "text": [
      "\r",
      " 20%|███████▉                                | 595/3000 [00:55<03:39, 10.95it/s]"
     ]
    },
    {
     "name": "stdout",
     "output_type": "stream",
     "text": [
      "80921\n",
      "Epoch 00593 | Loss 0.0837 | train_RMSE 0.1586 | test_RMSE 0.1550 \n",
      "19929\n",
      "80921\n",
      "Epoch 00594 | Loss 0.0834 | train_RMSE 0.1501 | test_RMSE 0.1476 \n",
      "19929\n",
      "80921\n",
      "Epoch 00595 | Loss 0.0848 | train_RMSE 0.1688 | test_RMSE 0.1651 \n"
     ]
    },
    {
     "name": "stderr",
     "output_type": "stream",
     "text": [
      "\r",
      " 20%|███████▉                                | 597/3000 [00:55<03:39, 10.95it/s]"
     ]
    },
    {
     "name": "stdout",
     "output_type": "stream",
     "text": [
      "19929\n",
      "80921\n",
      "Epoch 00596 | Loss 0.0859 | train_RMSE 0.1579 | test_RMSE 0.1558 \n",
      "19929\n",
      "80921\n",
      "Epoch 00597 | Loss 0.0877 | train_RMSE 0.1863 | test_RMSE 0.1826 \n",
      "19929\n"
     ]
    },
    {
     "name": "stderr",
     "output_type": "stream",
     "text": [
      " 20%|████████                                | 601/3000 [00:56<03:38, 10.96it/s]"
     ]
    },
    {
     "name": "stdout",
     "output_type": "stream",
     "text": [
      "80921\n",
      "Epoch 00598 | Loss 0.0908 | train_RMSE 0.1752 | test_RMSE 0.1737 \n",
      "19929\n",
      "80921\n",
      "Epoch 00599 | Loss 0.0942 | train_RMSE 0.2121 | test_RMSE 0.2084 \n",
      "19929\n",
      "80921\n",
      "Epoch 00600 | Loss 0.0997 | train_RMSE 0.1964 | test_RMSE 0.1952 \n"
     ]
    },
    {
     "name": "stderr",
     "output_type": "stream",
     "text": [
      "\r",
      " 20%|████████                                | 603/3000 [00:56<03:38, 10.97it/s]"
     ]
    },
    {
     "name": "stdout",
     "output_type": "stream",
     "text": [
      "19929\n",
      "80921\n",
      "Epoch 00601 | Loss 0.1033 | train_RMSE 0.2375 | test_RMSE 0.2337 \n",
      "19929\n",
      "80921\n",
      "Epoch 00602 | Loss 0.1105 | train_RMSE 0.2022 | test_RMSE 0.2010 \n",
      "19929\n"
     ]
    },
    {
     "name": "stderr",
     "output_type": "stream",
     "text": [
      "\r",
      " 20%|████████                                | 605/3000 [00:56<03:38, 10.96it/s]"
     ]
    },
    {
     "name": "stdout",
     "output_type": "stream",
     "text": [
      "80921\n",
      "Epoch 00603 | Loss 0.1046 | train_RMSE 0.2123 | test_RMSE 0.2086 \n",
      "19929\n",
      "80921\n",
      "Epoch 00604 | Loss 0.0984 | train_RMSE 0.1576 | test_RMSE 0.1557 \n",
      "19929\n",
      "80921\n",
      "Epoch 00605 | Loss 0.0859 | train_RMSE 0.1483 | test_RMSE 0.1453 \n"
     ]
    },
    {
     "name": "stderr",
     "output_type": "stream",
     "text": [
      "\r",
      " 20%|████████                                | 607/3000 [00:56<03:39, 10.91it/s]"
     ]
    },
    {
     "name": "stdout",
     "output_type": "stream",
     "text": [
      "19929\n",
      "80921\n",
      "Epoch 00606 | Loss 0.0805 | train_RMSE 0.1659 | test_RMSE 0.1624 \n",
      "19929\n",
      "80921\n",
      "Epoch 00607 | Loss 0.0836 | train_RMSE 0.1658 | test_RMSE 0.1641 \n",
      "19929\n"
     ]
    },
    {
     "name": "stderr",
     "output_type": "stream",
     "text": [
      " 20%|████████▏                               | 611/3000 [00:56<03:38, 10.93it/s]"
     ]
    },
    {
     "name": "stdout",
     "output_type": "stream",
     "text": [
      "80921\n",
      "Epoch 00608 | Loss 0.0888 | train_RMSE 0.1842 | test_RMSE 0.1806 \n",
      "19929\n",
      "80921\n",
      "Epoch 00609 | Loss 0.0887 | train_RMSE 0.1485 | test_RMSE 0.1459 \n",
      "19929\n",
      "80921\n",
      "Epoch 00610 | Loss 0.0814 | train_RMSE 0.1458 | test_RMSE 0.1429 \n"
     ]
    },
    {
     "name": "stderr",
     "output_type": "stream",
     "text": [
      "\r",
      " 20%|████████▏                               | 613/3000 [00:57<03:38, 10.91it/s]"
     ]
    },
    {
     "name": "stdout",
     "output_type": "stream",
     "text": [
      "19929\n",
      "80921\n",
      "Epoch 00611 | Loss 0.0786 | train_RMSE 0.1658 | test_RMSE 0.1624 \n",
      "19929\n",
      "80921\n",
      "Epoch 00612 | Loss 0.0835 | train_RMSE 0.1558 | test_RMSE 0.1537 \n",
      "19929\n"
     ]
    },
    {
     "name": "stderr",
     "output_type": "stream",
     "text": [
      "\r",
      " 20%|████████▏                               | 615/3000 [00:57<03:38, 10.92it/s]"
     ]
    },
    {
     "name": "stdout",
     "output_type": "stream",
     "text": [
      "80921\n",
      "Epoch 00613 | Loss 0.0837 | train_RMSE 0.1631 | test_RMSE 0.1595 \n",
      "19929\n",
      "80921\n",
      "Epoch 00614 | Loss 0.0820 | train_RMSE 0.1459 | test_RMSE 0.1429 \n",
      "19929\n",
      "80921\n",
      "Epoch 00615 | Loss 0.0795 | train_RMSE 0.1462 | test_RMSE 0.1433 \n"
     ]
    },
    {
     "name": "stderr",
     "output_type": "stream",
     "text": [
      "\r",
      " 21%|████████▏                               | 617/3000 [00:57<03:38, 10.91it/s]"
     ]
    },
    {
     "name": "stdout",
     "output_type": "stream",
     "text": [
      "19929\n",
      "80921\n",
      "Epoch 00616 | Loss 0.0799 | train_RMSE 0.1614 | test_RMSE 0.1578 \n",
      "19929\n",
      "80921\n",
      "Epoch 00617 | Loss 0.0813 | train_RMSE 0.1510 | test_RMSE 0.1486 \n",
      "19929\n"
     ]
    },
    {
     "name": "stderr",
     "output_type": "stream",
     "text": [
      " 21%|████████▎                               | 621/3000 [00:57<03:38, 10.90it/s]"
     ]
    },
    {
     "name": "stdout",
     "output_type": "stream",
     "text": [
      "80921\n",
      "Epoch 00618 | Loss 0.0812 | train_RMSE 0.1567 | test_RMSE 0.1532 \n",
      "19929\n",
      "80921\n",
      "Epoch 00619 | Loss 0.0795 | train_RMSE 0.1459 | test_RMSE 0.1428 \n",
      "19929\n",
      "80921\n",
      "Epoch 00620 | Loss 0.0782 | train_RMSE 0.1457 | test_RMSE 0.1428 \n"
     ]
    },
    {
     "name": "stderr",
     "output_type": "stream",
     "text": [
      "\r",
      " 21%|████████▎                               | 623/3000 [00:58<03:38, 10.89it/s]"
     ]
    },
    {
     "name": "stdout",
     "output_type": "stream",
     "text": [
      "19929\n",
      "80921\n",
      "Epoch 00621 | Loss 0.0777 | train_RMSE 0.1555 | test_RMSE 0.1520 \n",
      "19929\n",
      "80921\n",
      "Epoch 00622 | Loss 0.0795 | train_RMSE 0.1474 | test_RMSE 0.1447 \n",
      "19929\n"
     ]
    },
    {
     "name": "stderr",
     "output_type": "stream",
     "text": [
      "\r",
      " 21%|████████▎                               | 625/3000 [00:58<03:37, 10.91it/s]"
     ]
    },
    {
     "name": "stdout",
     "output_type": "stream",
     "text": [
      "80921\n",
      "Epoch 00623 | Loss 0.0788 | train_RMSE 0.1513 | test_RMSE 0.1479 \n",
      "19929\n",
      "80921\n",
      "Epoch 00624 | Loss 0.0781 | train_RMSE 0.1475 | test_RMSE 0.1443 \n",
      "19929\n",
      "80921\n",
      "Epoch 00625 | Loss 0.0768 | train_RMSE 0.1460 | test_RMSE 0.1432 \n"
     ]
    },
    {
     "name": "stderr",
     "output_type": "stream",
     "text": [
      "\r",
      " 21%|████████▎                               | 627/3000 [00:58<03:38, 10.88it/s]"
     ]
    },
    {
     "name": "stdout",
     "output_type": "stream",
     "text": [
      "19929\n",
      "80921\n",
      "Epoch 00626 | Loss 0.0783 | train_RMSE 0.1553 | test_RMSE 0.1517 \n",
      "19929\n",
      "80921\n",
      "Epoch 00627 | Loss 0.0785 | train_RMSE 0.1470 | test_RMSE 0.1443 \n",
      "19929\n"
     ]
    },
    {
     "name": "stderr",
     "output_type": "stream",
     "text": [
      " 21%|████████▍                               | 631/3000 [00:58<03:36, 10.92it/s]"
     ]
    },
    {
     "name": "stdout",
     "output_type": "stream",
     "text": [
      "80921\n",
      "Epoch 00628 | Loss 0.0777 | train_RMSE 0.1524 | test_RMSE 0.1488 \n",
      "19929\n",
      "80921\n",
      "Epoch 00629 | Loss 0.0775 | train_RMSE 0.1458 | test_RMSE 0.1427 \n",
      "19929\n",
      "80921\n",
      "Epoch 00630 | Loss 0.0769 | train_RMSE 0.1455 | test_RMSE 0.1425 \n"
     ]
    },
    {
     "name": "stderr",
     "output_type": "stream",
     "text": [
      "\r",
      " 21%|████████▍                               | 633/3000 [00:58<03:37, 10.89it/s]"
     ]
    },
    {
     "name": "stdout",
     "output_type": "stream",
     "text": [
      "19929\n",
      "80921\n",
      "Epoch 00631 | Loss 0.0762 | train_RMSE 0.1546 | test_RMSE 0.1511 \n",
      "19929\n",
      "80921\n",
      "Epoch 00632 | Loss 0.0767 | train_RMSE 0.1472 | test_RMSE 0.1445 \n",
      "19929\n"
     ]
    },
    {
     "name": "stderr",
     "output_type": "stream",
     "text": [
      "\r",
      " 21%|████████▍                               | 635/3000 [00:59<03:36, 10.90it/s]"
     ]
    },
    {
     "name": "stdout",
     "output_type": "stream",
     "text": [
      "80921\n",
      "Epoch 00633 | Loss 0.0770 | train_RMSE 0.1555 | test_RMSE 0.1519 \n",
      "19929\n",
      "80921\n",
      "Epoch 00634 | Loss 0.0768 | train_RMSE 0.1455 | test_RMSE 0.1427 \n",
      "19929\n",
      "80921\n",
      "Epoch 00635 | Loss 0.0762 | train_RMSE 0.1464 | test_RMSE 0.1433 \n"
     ]
    },
    {
     "name": "stderr",
     "output_type": "stream",
     "text": [
      "\r",
      " 21%|████████▍                               | 637/3000 [00:59<03:37, 10.84it/s]"
     ]
    },
    {
     "name": "stdout",
     "output_type": "stream",
     "text": [
      "19929\n",
      "80921\n",
      "Epoch 00636 | Loss 0.0757 | train_RMSE 0.1491 | test_RMSE 0.1457 \n",
      "19929\n",
      "80921\n",
      "Epoch 00637 | Loss 0.0758 | train_RMSE 0.1458 | test_RMSE 0.1430 \n",
      "19929\n"
     ]
    },
    {
     "name": "stderr",
     "output_type": "stream",
     "text": [
      " 21%|████████▌                               | 641/3000 [00:59<03:36, 10.89it/s]"
     ]
    },
    {
     "name": "stdout",
     "output_type": "stream",
     "text": [
      "80921\n",
      "Epoch 00638 | Loss 0.0760 | train_RMSE 0.1561 | test_RMSE 0.1525 \n",
      "19929\n",
      "80921\n",
      "Epoch 00639 | Loss 0.0768 | train_RMSE 0.1469 | test_RMSE 0.1442 \n",
      "19929\n",
      "80921\n",
      "Epoch 00640 | Loss 0.0763 | train_RMSE 0.1524 | test_RMSE 0.1490 \n"
     ]
    },
    {
     "name": "stderr",
     "output_type": "stream",
     "text": [
      "\r",
      " 21%|████████▌                               | 643/3000 [00:59<03:36, 10.86it/s]"
     ]
    },
    {
     "name": "stdout",
     "output_type": "stream",
     "text": [
      "19929\n",
      "80921\n",
      "Epoch 00641 | Loss 0.0761 | train_RMSE 0.1454 | test_RMSE 0.1424 \n",
      "19929\n",
      "80921\n",
      "Epoch 00642 | Loss 0.0747 | train_RMSE 0.1455 | test_RMSE 0.1424 \n",
      "19929\n"
     ]
    },
    {
     "name": "stderr",
     "output_type": "stream",
     "text": [
      "\r",
      " 22%|████████▌                               | 645/3000 [01:00<03:37, 10.84it/s]"
     ]
    },
    {
     "name": "stdout",
     "output_type": "stream",
     "text": [
      "80921\n",
      "Epoch 00643 | Loss 0.0745 | train_RMSE 0.1496 | test_RMSE 0.1462 \n",
      "19929\n",
      "80921\n",
      "Epoch 00644 | Loss 0.0747 | train_RMSE 0.1455 | test_RMSE 0.1427 \n",
      "19929\n",
      "80921\n",
      "Epoch 00645 | Loss 0.0750 | train_RMSE 0.1534 | test_RMSE 0.1498 \n"
     ]
    },
    {
     "name": "stderr",
     "output_type": "stream",
     "text": [
      "\r",
      " 22%|████████▋                               | 647/3000 [01:00<03:36, 10.85it/s]"
     ]
    },
    {
     "name": "stdout",
     "output_type": "stream",
     "text": [
      "19929\n",
      "80921\n",
      "Epoch 00646 | Loss 0.0748 | train_RMSE 0.1462 | test_RMSE 0.1435 \n",
      "19929\n",
      "80921\n",
      "Epoch 00647 | Loss 0.0753 | train_RMSE 0.1533 | test_RMSE 0.1498 \n",
      "19929\n"
     ]
    },
    {
     "name": "stderr",
     "output_type": "stream",
     "text": [
      " 22%|████████▋                               | 651/3000 [01:00<03:35, 10.88it/s]"
     ]
    },
    {
     "name": "stdout",
     "output_type": "stream",
     "text": [
      "80921\n",
      "Epoch 00648 | Loss 0.0753 | train_RMSE 0.1457 | test_RMSE 0.1429 \n",
      "19929\n",
      "80921\n",
      "Epoch 00649 | Loss 0.0749 | train_RMSE 0.1497 | test_RMSE 0.1463 \n",
      "19929\n",
      "80921\n",
      "Epoch 00650 | Loss 0.0736 | train_RMSE 0.1452 | test_RMSE 0.1420 \n"
     ]
    },
    {
     "name": "stderr",
     "output_type": "stream",
     "text": [
      "\r",
      " 22%|████████▋                               | 653/3000 [01:00<03:36, 10.83it/s]"
     ]
    },
    {
     "name": "stdout",
     "output_type": "stream",
     "text": [
      "19929\n",
      "80921\n",
      "Epoch 00651 | Loss 0.0730 | train_RMSE 0.1463 | test_RMSE 0.1429 \n",
      "19929\n",
      "80921\n",
      "Epoch 00652 | Loss 0.0726 | train_RMSE 0.1472 | test_RMSE 0.1438 \n",
      "19929\n"
     ]
    },
    {
     "name": "stderr",
     "output_type": "stream",
     "text": [
      "\r",
      " 22%|████████▋                               | 655/3000 [01:01<03:36, 10.83it/s]"
     ]
    },
    {
     "name": "stdout",
     "output_type": "stream",
     "text": [
      "80921\n",
      "Epoch 00653 | Loss 0.0725 | train_RMSE 0.1449 | test_RMSE 0.1419 \n",
      "19929\n",
      "80921\n",
      "Epoch 00654 | Loss 0.0734 | train_RMSE 0.1512 | test_RMSE 0.1477 \n",
      "19929\n",
      "80921\n",
      "Epoch 00655 | Loss 0.0735 | train_RMSE 0.1465 | test_RMSE 0.1438 \n"
     ]
    },
    {
     "name": "stderr",
     "output_type": "stream",
     "text": [
      "\r",
      " 22%|████████▊                               | 657/3000 [01:01<03:35, 10.86it/s]"
     ]
    },
    {
     "name": "stdout",
     "output_type": "stream",
     "text": [
      "19929\n",
      "80921\n",
      "Epoch 00656 | Loss 0.0744 | train_RMSE 0.1596 | test_RMSE 0.1559 \n",
      "19929\n",
      "80921\n",
      "Epoch 00657 | Loss 0.0745 | train_RMSE 0.1514 | test_RMSE 0.1491 \n",
      "19929\n"
     ]
    },
    {
     "name": "stderr",
     "output_type": "stream",
     "text": [
      " 22%|████████▊                               | 661/3000 [01:01<03:35, 10.88it/s]"
     ]
    },
    {
     "name": "stdout",
     "output_type": "stream",
     "text": [
      "80921\n",
      "Epoch 00658 | Loss 0.0757 | train_RMSE 0.1666 | test_RMSE 0.1628 \n",
      "19929\n",
      "80921\n",
      "Epoch 00659 | Loss 0.0762 | train_RMSE 0.1545 | test_RMSE 0.1523 \n",
      "19929\n",
      "80921\n",
      "Epoch 00660 | Loss 0.0766 | train_RMSE 0.1692 | test_RMSE 0.1655 \n"
     ]
    },
    {
     "name": "stderr",
     "output_type": "stream",
     "text": [
      "\r",
      " 22%|████████▊                               | 663/3000 [01:01<03:34, 10.88it/s]"
     ]
    },
    {
     "name": "stdout",
     "output_type": "stream",
     "text": [
      "19929\n",
      "80921\n",
      "Epoch 00661 | Loss 0.0770 | train_RMSE 0.1547 | test_RMSE 0.1525 \n",
      "19929\n",
      "80921\n",
      "Epoch 00662 | Loss 0.0765 | train_RMSE 0.1687 | test_RMSE 0.1651 \n",
      "19929\n"
     ]
    },
    {
     "name": "stderr",
     "output_type": "stream",
     "text": [
      "\r",
      " 22%|████████▊                               | 665/3000 [01:01<03:34, 10.88it/s]"
     ]
    },
    {
     "name": "stdout",
     "output_type": "stream",
     "text": [
      "80921\n",
      "Epoch 00663 | Loss 0.0762 | train_RMSE 0.1526 | test_RMSE 0.1502 \n",
      "19929\n",
      "80921\n",
      "Epoch 00664 | Loss 0.0755 | train_RMSE 0.1613 | test_RMSE 0.1577 \n",
      "19929\n",
      "80921\n",
      "Epoch 00665 | Loss 0.0743 | train_RMSE 0.1471 | test_RMSE 0.1445 \n"
     ]
    },
    {
     "name": "stderr",
     "output_type": "stream",
     "text": [
      "\r",
      " 22%|████████▉                               | 667/3000 [01:02<03:35, 10.84it/s]"
     ]
    },
    {
     "name": "stdout",
     "output_type": "stream",
     "text": [
      "19929\n",
      "80921\n",
      "Epoch 00666 | Loss 0.0724 | train_RMSE 0.1511 | test_RMSE 0.1476 \n",
      "19929\n",
      "80921\n",
      "Epoch 00667 | Loss 0.0718 | train_RMSE 0.1454 | test_RMSE 0.1423 \n",
      "19929\n"
     ]
    },
    {
     "name": "stderr",
     "output_type": "stream",
     "text": [
      " 22%|████████▉                               | 671/3000 [01:02<03:35, 10.80it/s]"
     ]
    },
    {
     "name": "stdout",
     "output_type": "stream",
     "text": [
      "80921\n",
      "Epoch 00668 | Loss 0.0708 | train_RMSE 0.1452 | test_RMSE 0.1422 \n",
      "19929\n",
      "80921\n",
      "Epoch 00669 | Loss 0.0712 | train_RMSE 0.1505 | test_RMSE 0.1470 \n",
      "19929\n",
      "80921\n",
      "Epoch 00670 | Loss 0.0703 | train_RMSE 0.1462 | test_RMSE 0.1434 \n"
     ]
    },
    {
     "name": "stderr",
     "output_type": "stream",
     "text": [
      "\r",
      " 22%|████████▉                               | 673/3000 [01:02<03:34, 10.85it/s]"
     ]
    },
    {
     "name": "stdout",
     "output_type": "stream",
     "text": [
      "19929\n",
      "80921\n",
      "Epoch 00671 | Loss 0.0716 | train_RMSE 0.1568 | test_RMSE 0.1532 \n",
      "19929\n",
      "80921\n",
      "Epoch 00672 | Loss 0.0718 | train_RMSE 0.1495 | test_RMSE 0.1470 \n",
      "19929\n"
     ]
    },
    {
     "name": "stderr",
     "output_type": "stream",
     "text": [
      "\r",
      " 22%|█████████                               | 675/3000 [01:02<03:34, 10.86it/s]"
     ]
    },
    {
     "name": "stdout",
     "output_type": "stream",
     "text": [
      "80921\n",
      "Epoch 00673 | Loss 0.0720 | train_RMSE 0.1625 | test_RMSE 0.1588 \n",
      "19929\n",
      "80921\n",
      "Epoch 00674 | Loss 0.0728 | train_RMSE 0.1515 | test_RMSE 0.1492 \n",
      "19929\n",
      "80921\n",
      "Epoch 00675 | Loss 0.0734 | train_RMSE 0.1629 | test_RMSE 0.1592 \n"
     ]
    },
    {
     "name": "stderr",
     "output_type": "stream",
     "text": [
      "\r",
      " 23%|█████████                               | 677/3000 [01:03<03:34, 10.85it/s]"
     ]
    },
    {
     "name": "stdout",
     "output_type": "stream",
     "text": [
      "19929\n",
      "80921\n",
      "Epoch 00676 | Loss 0.0730 | train_RMSE 0.1502 | test_RMSE 0.1479 \n",
      "19929\n",
      "80921\n",
      "Epoch 00677 | Loss 0.0717 | train_RMSE 0.1624 | test_RMSE 0.1588 \n",
      "19929\n"
     ]
    },
    {
     "name": "stderr",
     "output_type": "stream",
     "text": [
      " 23%|█████████                               | 681/3000 [01:03<03:33, 10.85it/s]"
     ]
    },
    {
     "name": "stdout",
     "output_type": "stream",
     "text": [
      "80921\n",
      "Epoch 00678 | Loss 0.0723 | train_RMSE 0.1497 | test_RMSE 0.1472 \n",
      "19929\n",
      "80921\n",
      "Epoch 00679 | Loss 0.0705 | train_RMSE 0.1547 | test_RMSE 0.1511 \n",
      "19929\n",
      "80921\n",
      "Epoch 00680 | Loss 0.0704 | train_RMSE 0.1451 | test_RMSE 0.1421 \n"
     ]
    },
    {
     "name": "stderr",
     "output_type": "stream",
     "text": [
      "\r",
      " 23%|█████████                               | 683/3000 [01:03<03:35, 10.76it/s]"
     ]
    },
    {
     "name": "stdout",
     "output_type": "stream",
     "text": [
      "19929\n",
      "80921\n",
      "Epoch 00681 | Loss 0.0697 | train_RMSE 0.1460 | test_RMSE 0.1427 \n",
      "19929\n",
      "80921\n",
      "Epoch 00682 | Loss 0.0688 | train_RMSE 0.1487 | test_RMSE 0.1453 \n",
      "19929\n"
     ]
    },
    {
     "name": "stderr",
     "output_type": "stream",
     "text": [
      "\r",
      " 23%|█████████▏                              | 685/3000 [01:03<03:35, 10.75it/s]"
     ]
    },
    {
     "name": "stdout",
     "output_type": "stream",
     "text": [
      "80921\n",
      "Epoch 00683 | Loss 0.0681 | train_RMSE 0.1465 | test_RMSE 0.1439 \n",
      "19929\n",
      "80921\n",
      "Epoch 00684 | Loss 0.0689 | train_RMSE 0.1594 | test_RMSE 0.1559 \n",
      "19929\n",
      "80921\n",
      "Epoch 00685 | Loss 0.0706 | train_RMSE 0.1524 | test_RMSE 0.1502 \n"
     ]
    },
    {
     "name": "stderr",
     "output_type": "stream",
     "text": [
      "\r",
      " 23%|█████████▏                              | 687/3000 [01:03<03:34, 10.80it/s]"
     ]
    },
    {
     "name": "stdout",
     "output_type": "stream",
     "text": [
      "19929\n",
      "80921\n",
      "Epoch 00686 | Loss 0.0721 | train_RMSE 0.1683 | test_RMSE 0.1646 \n",
      "19929\n",
      "80921\n",
      "Epoch 00687 | Loss 0.0728 | train_RMSE 0.1569 | test_RMSE 0.1547 \n",
      "19929\n"
     ]
    },
    {
     "name": "stderr",
     "output_type": "stream",
     "text": [
      " 23%|█████████▏                              | 691/3000 [01:04<03:32, 10.85it/s]"
     ]
    },
    {
     "name": "stdout",
     "output_type": "stream",
     "text": [
      "80921\n",
      "Epoch 00688 | Loss 0.0733 | train_RMSE 0.1762 | test_RMSE 0.1724 \n",
      "19929\n",
      "80921\n",
      "Epoch 00689 | Loss 0.0744 | train_RMSE 0.1624 | test_RMSE 0.1605 \n",
      "19929\n",
      "80921\n",
      "Epoch 00690 | Loss 0.0751 | train_RMSE 0.1813 | test_RMSE 0.1776 \n"
     ]
    },
    {
     "name": "stderr",
     "output_type": "stream",
     "text": [
      "\r",
      " 23%|█████████▏                              | 693/3000 [01:04<03:32, 10.88it/s]"
     ]
    },
    {
     "name": "stdout",
     "output_type": "stream",
     "text": [
      "19929\n",
      "80921\n",
      "Epoch 00691 | Loss 0.0760 | train_RMSE 0.1627 | test_RMSE 0.1609 \n",
      "19929\n",
      "80921\n",
      "Epoch 00692 | Loss 0.0747 | train_RMSE 0.1761 | test_RMSE 0.1724 \n",
      "19929\n"
     ]
    },
    {
     "name": "stderr",
     "output_type": "stream",
     "text": [
      "\r",
      " 23%|█████████▎                              | 695/3000 [01:04<03:31, 10.89it/s]"
     ]
    },
    {
     "name": "stdout",
     "output_type": "stream",
     "text": [
      "80921\n",
      "Epoch 00693 | Loss 0.0745 | train_RMSE 0.1531 | test_RMSE 0.1508 \n",
      "19929\n",
      "80921\n",
      "Epoch 00694 | Loss 0.0704 | train_RMSE 0.1557 | test_RMSE 0.1522 \n",
      "19929\n",
      "80921\n",
      "Epoch 00695 | Loss 0.0677 | train_RMSE 0.1451 | test_RMSE 0.1421 \n"
     ]
    },
    {
     "name": "stderr",
     "output_type": "stream",
     "text": [
      "\r",
      " 23%|█████████▎                              | 697/3000 [01:04<03:32, 10.83it/s]"
     ]
    },
    {
     "name": "stdout",
     "output_type": "stream",
     "text": [
      "19929\n",
      "80921\n",
      "Epoch 00696 | Loss 0.0665 | train_RMSE 0.1450 | test_RMSE 0.1421 \n",
      "19929\n",
      "80921\n",
      "Epoch 00697 | Loss 0.0661 | train_RMSE 0.1565 | test_RMSE 0.1530 \n",
      "19929\n"
     ]
    },
    {
     "name": "stderr",
     "output_type": "stream",
     "text": [
      " 23%|█████████▎                              | 701/3000 [01:05<03:31, 10.88it/s]"
     ]
    },
    {
     "name": "stdout",
     "output_type": "stream",
     "text": [
      "80921\n",
      "Epoch 00698 | Loss 0.0678 | train_RMSE 0.1509 | test_RMSE 0.1486 \n",
      "19929\n",
      "80921\n",
      "Epoch 00699 | Loss 0.0691 | train_RMSE 0.1659 | test_RMSE 0.1622 \n",
      "19929\n",
      "80921\n",
      "Epoch 00700 | Loss 0.0698 | train_RMSE 0.1519 | test_RMSE 0.1495 \n"
     ]
    },
    {
     "name": "stderr",
     "output_type": "stream",
     "text": [
      "\r",
      " 23%|█████████▎                              | 703/3000 [01:05<03:36, 10.62it/s]"
     ]
    },
    {
     "name": "stdout",
     "output_type": "stream",
     "text": [
      "19929\n",
      "80921\n",
      "Epoch 00701 | Loss 0.0689 | train_RMSE 0.1587 | test_RMSE 0.1551 \n",
      "19929\n",
      "80921\n",
      "Epoch 00702 | Loss 0.0674 | train_RMSE 0.1459 | test_RMSE 0.1432 \n",
      "19929\n"
     ]
    },
    {
     "name": "stderr",
     "output_type": "stream",
     "text": [
      "\r",
      " 24%|█████████▍                              | 705/3000 [01:05<03:35, 10.64it/s]"
     ]
    },
    {
     "name": "stdout",
     "output_type": "stream",
     "text": [
      "80921\n",
      "Epoch 00703 | Loss 0.0664 | train_RMSE 0.1472 | test_RMSE 0.1441 \n",
      "19929\n",
      "80921\n",
      "Epoch 00704 | Loss 0.0646 | train_RMSE 0.1491 | test_RMSE 0.1458 \n",
      "19929\n",
      "80921\n",
      "Epoch 00705 | Loss 0.0647 | train_RMSE 0.1482 | test_RMSE 0.1457 \n"
     ]
    },
    {
     "name": "stderr",
     "output_type": "stream",
     "text": [
      "\r",
      " 24%|█████████▍                              | 707/3000 [01:05<03:34, 10.71it/s]"
     ]
    },
    {
     "name": "stdout",
     "output_type": "stream",
     "text": [
      "19929\n",
      "80921\n",
      "Epoch 00706 | Loss 0.0662 | train_RMSE 0.1658 | test_RMSE 0.1621 \n",
      "19929\n",
      "80921\n",
      "Epoch 00707 | Loss 0.0686 | train_RMSE 0.1575 | test_RMSE 0.1554 \n",
      "19929\n"
     ]
    },
    {
     "name": "stderr",
     "output_type": "stream",
     "text": [
      " 24%|█████████▍                              | 711/3000 [01:06<03:31, 10.83it/s]"
     ]
    },
    {
     "name": "stdout",
     "output_type": "stream",
     "text": [
      "80921\n",
      "Epoch 00708 | Loss 0.0705 | train_RMSE 0.1767 | test_RMSE 0.1728 \n",
      "19929\n",
      "80921\n",
      "Epoch 00709 | Loss 0.0714 | train_RMSE 0.1565 | test_RMSE 0.1544 \n",
      "19929\n",
      "80921\n",
      "Epoch 00710 | Loss 0.0695 | train_RMSE 0.1573 | test_RMSE 0.1538 \n"
     ]
    },
    {
     "name": "stderr",
     "output_type": "stream",
     "text": [
      "\r",
      " 24%|█████████▌                              | 713/3000 [01:06<03:31, 10.81it/s]"
     ]
    },
    {
     "name": "stdout",
     "output_type": "stream",
     "text": [
      "19929\n",
      "80921\n",
      "Epoch 00711 | Loss 0.0658 | train_RMSE 0.1451 | test_RMSE 0.1421 \n",
      "19929\n",
      "80921\n",
      "Epoch 00712 | Loss 0.0639 | train_RMSE 0.1454 | test_RMSE 0.1425 \n",
      "19929\n"
     ]
    },
    {
     "name": "stderr",
     "output_type": "stream",
     "text": [
      "\r",
      " 24%|█████████▌                              | 715/3000 [01:06<03:32, 10.75it/s]"
     ]
    },
    {
     "name": "stdout",
     "output_type": "stream",
     "text": [
      "80921\n",
      "Epoch 00713 | Loss 0.0638 | train_RMSE 0.1622 | test_RMSE 0.1586 \n",
      "19929\n",
      "80921\n",
      "Epoch 00714 | Loss 0.0659 | train_RMSE 0.1561 | test_RMSE 0.1539 \n",
      "19929\n",
      "80921\n",
      "Epoch 00715 | Loss 0.0682 | train_RMSE 0.1713 | test_RMSE 0.1677 \n"
     ]
    },
    {
     "name": "stderr",
     "output_type": "stream",
     "text": [
      "\r",
      " 24%|█████████▌                              | 717/3000 [01:06<03:32, 10.76it/s]"
     ]
    },
    {
     "name": "stdout",
     "output_type": "stream",
     "text": [
      "19929\n",
      "80921\n",
      "Epoch 00716 | Loss 0.0689 | train_RMSE 0.1526 | test_RMSE 0.1504 \n",
      "19929\n",
      "80921\n",
      "Epoch 00717 | Loss 0.0669 | train_RMSE 0.1555 | test_RMSE 0.1521 \n",
      "19929\n"
     ]
    },
    {
     "name": "stderr",
     "output_type": "stream",
     "text": [
      " 24%|█████████▌                              | 721/3000 [01:07<03:33, 10.69it/s]"
     ]
    },
    {
     "name": "stdout",
     "output_type": "stream",
     "text": [
      "80921\n",
      "Epoch 00718 | Loss 0.0640 | train_RMSE 0.1452 | test_RMSE 0.1422 \n",
      "19929\n",
      "80921\n",
      "Epoch 00719 | Loss 0.0624 | train_RMSE 0.1454 | test_RMSE 0.1426 \n",
      "19929\n",
      "80921\n",
      "Epoch 00720 | Loss 0.0621 | train_RMSE 0.1575 | test_RMSE 0.1540 \n"
     ]
    },
    {
     "name": "stderr",
     "output_type": "stream",
     "text": [
      "\r",
      " 24%|█████████▋                              | 723/3000 [01:07<03:32, 10.72it/s]"
     ]
    },
    {
     "name": "stdout",
     "output_type": "stream",
     "text": [
      "19929\n",
      "80921\n",
      "Epoch 00721 | Loss 0.0642 | train_RMSE 0.1510 | test_RMSE 0.1486 \n",
      "19929\n",
      "80921\n",
      "Epoch 00722 | Loss 0.0652 | train_RMSE 0.1625 | test_RMSE 0.1589 \n",
      "19929\n"
     ]
    },
    {
     "name": "stderr",
     "output_type": "stream",
     "text": [
      "\r",
      " 24%|█████████▋                              | 725/3000 [01:07<03:32, 10.72it/s]"
     ]
    },
    {
     "name": "stdout",
     "output_type": "stream",
     "text": [
      "80921\n",
      "Epoch 00723 | Loss 0.0655 | train_RMSE 0.1495 | test_RMSE 0.1471 \n",
      "19929\n",
      "80921\n",
      "Epoch 00724 | Loss 0.0642 | train_RMSE 0.1523 | test_RMSE 0.1489 \n",
      "19929\n",
      "80921\n",
      "Epoch 00725 | Loss 0.0628 | train_RMSE 0.1451 | test_RMSE 0.1422 \n"
     ]
    },
    {
     "name": "stderr",
     "output_type": "stream",
     "text": [
      "\r",
      " 24%|█████████▋                              | 727/3000 [01:07<03:32, 10.70it/s]"
     ]
    },
    {
     "name": "stdout",
     "output_type": "stream",
     "text": [
      "19929\n",
      "80921\n",
      "Epoch 00726 | Loss 0.0614 | train_RMSE 0.1452 | test_RMSE 0.1421 \n",
      "19929\n",
      "80921\n",
      "Epoch 00727 | Loss 0.0609 | train_RMSE 0.1493 | test_RMSE 0.1459 \n",
      "19929\n"
     ]
    },
    {
     "name": "stderr",
     "output_type": "stream",
     "text": [
      " 24%|█████████▋                              | 731/3000 [01:08<03:31, 10.72it/s]"
     ]
    },
    {
     "name": "stdout",
     "output_type": "stream",
     "text": [
      "80921\n",
      "Epoch 00728 | Loss 0.0613 | train_RMSE 0.1458 | test_RMSE 0.1430 \n",
      "19929\n",
      "80921\n",
      "Epoch 00729 | Loss 0.0613 | train_RMSE 0.1512 | test_RMSE 0.1477 \n",
      "19929\n",
      "80921\n",
      "Epoch 00730 | Loss 0.0612 | train_RMSE 0.1450 | test_RMSE 0.1421 \n"
     ]
    },
    {
     "name": "stderr",
     "output_type": "stream",
     "text": [
      "\r",
      " 24%|█████████▊                              | 733/3000 [01:08<03:32, 10.67it/s]"
     ]
    },
    {
     "name": "stdout",
     "output_type": "stream",
     "text": [
      "19929\n",
      "80921\n",
      "Epoch 00731 | Loss 0.0608 | train_RMSE 0.1478 | test_RMSE 0.1445 \n",
      "19929\n",
      "80921\n",
      "Epoch 00732 | Loss 0.0607 | train_RMSE 0.1453 | test_RMSE 0.1422 \n",
      "19929\n"
     ]
    },
    {
     "name": "stderr",
     "output_type": "stream",
     "text": [
      "\r",
      " 24%|█████████▊                              | 735/3000 [01:08<03:32, 10.67it/s]"
     ]
    },
    {
     "name": "stdout",
     "output_type": "stream",
     "text": [
      "80921\n",
      "Epoch 00733 | Loss 0.0597 | train_RMSE 0.1451 | test_RMSE 0.1421 \n",
      "19929\n",
      "80921\n",
      "Epoch 00734 | Loss 0.0601 | train_RMSE 0.1498 | test_RMSE 0.1464 \n",
      "19929\n",
      "80921\n",
      "Epoch 00735 | Loss 0.0608 | train_RMSE 0.1467 | test_RMSE 0.1439 \n"
     ]
    },
    {
     "name": "stderr",
     "output_type": "stream",
     "text": [
      "\r",
      " 25%|█████████▊                              | 737/3000 [01:08<03:32, 10.67it/s]"
     ]
    },
    {
     "name": "stdout",
     "output_type": "stream",
     "text": [
      "19929\n",
      "80921\n",
      "Epoch 00736 | Loss 0.0610 | train_RMSE 0.1548 | test_RMSE 0.1512 \n",
      "19929\n",
      "80921\n",
      "Epoch 00737 | Loss 0.0607 | train_RMSE 0.1481 | test_RMSE 0.1455 \n",
      "19929\n"
     ]
    },
    {
     "name": "stderr",
     "output_type": "stream",
     "text": [
      " 25%|█████████▉                              | 741/3000 [01:08<03:30, 10.74it/s]"
     ]
    },
    {
     "name": "stdout",
     "output_type": "stream",
     "text": [
      "80921\n",
      "Epoch 00738 | Loss 0.0613 | train_RMSE 0.1559 | test_RMSE 0.1523 \n",
      "19929\n",
      "80921\n",
      "Epoch 00739 | Loss 0.0616 | train_RMSE 0.1475 | test_RMSE 0.1449 \n",
      "19929\n",
      "80921\n",
      "Epoch 00740 | Loss 0.0606 | train_RMSE 0.1528 | test_RMSE 0.1494 \n"
     ]
    },
    {
     "name": "stderr",
     "output_type": "stream",
     "text": [
      "\r",
      " 25%|█████████▉                              | 743/3000 [01:09<03:30, 10.73it/s]"
     ]
    },
    {
     "name": "stdout",
     "output_type": "stream",
     "text": [
      "19929\n",
      "80921\n",
      "Epoch 00741 | Loss 0.0607 | train_RMSE 0.1460 | test_RMSE 0.1432 \n",
      "19929\n",
      "80921\n",
      "Epoch 00742 | Loss 0.0593 | train_RMSE 0.1502 | test_RMSE 0.1467 \n",
      "19929\n"
     ]
    },
    {
     "name": "stderr",
     "output_type": "stream",
     "text": [
      "\r",
      " 25%|█████████▉                              | 745/3000 [01:09<03:30, 10.71it/s]"
     ]
    },
    {
     "name": "stdout",
     "output_type": "stream",
     "text": [
      "80921\n",
      "Epoch 00743 | Loss 0.0590 | train_RMSE 0.1452 | test_RMSE 0.1422 \n",
      "19929\n",
      "80921\n",
      "Epoch 00744 | Loss 0.0586 | train_RMSE 0.1464 | test_RMSE 0.1433 \n",
      "19929\n",
      "80921\n",
      "Epoch 00745 | Loss 0.0581 | train_RMSE 0.1462 | test_RMSE 0.1432 \n"
     ]
    },
    {
     "name": "stderr",
     "output_type": "stream",
     "text": [
      "\r",
      " 25%|█████████▉                              | 747/3000 [01:09<03:29, 10.74it/s]"
     ]
    },
    {
     "name": "stdout",
     "output_type": "stream",
     "text": [
      "19929\n",
      "80921\n",
      "Epoch 00746 | Loss 0.0583 | train_RMSE 0.1451 | test_RMSE 0.1421 \n",
      "19929\n",
      "80921\n",
      "Epoch 00747 | Loss 0.0581 | train_RMSE 0.1498 | test_RMSE 0.1463 \n",
      "19929\n"
     ]
    },
    {
     "name": "stderr",
     "output_type": "stream",
     "text": [
      " 25%|██████████                              | 751/3000 [01:09<03:28, 10.77it/s]"
     ]
    },
    {
     "name": "stdout",
     "output_type": "stream",
     "text": [
      "80921\n",
      "Epoch 00748 | Loss 0.0582 | train_RMSE 0.1467 | test_RMSE 0.1438 \n",
      "19929\n",
      "80921\n",
      "Epoch 00749 | Loss 0.0589 | train_RMSE 0.1553 | test_RMSE 0.1517 \n",
      "19929\n",
      "80921\n",
      "Epoch 00750 | Loss 0.0589 | train_RMSE 0.1501 | test_RMSE 0.1476 \n"
     ]
    },
    {
     "name": "stderr",
     "output_type": "stream",
     "text": [
      "\r",
      " 25%|██████████                              | 753/3000 [01:10<03:28, 10.80it/s]"
     ]
    },
    {
     "name": "stdout",
     "output_type": "stream",
     "text": [
      "19929\n",
      "80921\n",
      "Epoch 00751 | Loss 0.0602 | train_RMSE 0.1631 | test_RMSE 0.1596 \n",
      "19929\n",
      "80921\n",
      "Epoch 00752 | Loss 0.0607 | train_RMSE 0.1521 | test_RMSE 0.1498 \n",
      "19929\n"
     ]
    },
    {
     "name": "stderr",
     "output_type": "stream",
     "text": [
      "\r",
      " 25%|██████████                              | 755/3000 [01:10<03:27, 10.81it/s]"
     ]
    },
    {
     "name": "stdout",
     "output_type": "stream",
     "text": [
      "80921\n",
      "Epoch 00753 | Loss 0.0606 | train_RMSE 0.1623 | test_RMSE 0.1588 \n",
      "19929\n",
      "80921\n",
      "Epoch 00754 | Loss 0.0601 | train_RMSE 0.1503 | test_RMSE 0.1478 \n",
      "19929\n",
      "80921\n",
      "Epoch 00755 | Loss 0.0588 | train_RMSE 0.1555 | test_RMSE 0.1520 \n"
     ]
    },
    {
     "name": "stderr",
     "output_type": "stream",
     "text": [
      "\r",
      " 25%|██████████                              | 757/3000 [01:10<03:27, 10.81it/s]"
     ]
    },
    {
     "name": "stdout",
     "output_type": "stream",
     "text": [
      "19929\n",
      "80921\n",
      "Epoch 00756 | Loss 0.0585 | train_RMSE 0.1463 | test_RMSE 0.1436 \n",
      "19929\n",
      "80921\n",
      "Epoch 00757 | Loss 0.0573 | train_RMSE 0.1487 | test_RMSE 0.1454 \n",
      "19929\n"
     ]
    },
    {
     "name": "stderr",
     "output_type": "stream",
     "text": [
      " 25%|██████████▏                             | 761/3000 [01:10<03:28, 10.76it/s]"
     ]
    },
    {
     "name": "stdout",
     "output_type": "stream",
     "text": [
      "80921\n",
      "Epoch 00758 | Loss 0.0565 | train_RMSE 0.1457 | test_RMSE 0.1427 \n",
      "19929\n",
      "80921\n",
      "Epoch 00759 | Loss 0.0555 | train_RMSE 0.1453 | test_RMSE 0.1423 \n",
      "19929\n",
      "80921\n",
      "Epoch 00760 | Loss 0.0559 | train_RMSE 0.1485 | test_RMSE 0.1451 \n"
     ]
    },
    {
     "name": "stderr",
     "output_type": "stream",
     "text": [
      "\r",
      " 25%|██████████▏                             | 763/3000 [01:11<03:27, 10.78it/s]"
     ]
    },
    {
     "name": "stdout",
     "output_type": "stream",
     "text": [
      "19929\n",
      "80921\n",
      "Epoch 00761 | Loss 0.0561 | train_RMSE 0.1453 | test_RMSE 0.1424 \n",
      "19929\n",
      "80921\n",
      "Epoch 00762 | Loss 0.0558 | train_RMSE 0.1493 | test_RMSE 0.1459 \n",
      "19929\n"
     ]
    },
    {
     "name": "stderr",
     "output_type": "stream",
     "text": [
      "\r",
      " 26%|██████████▏                             | 765/3000 [01:11<03:26, 10.82it/s]"
     ]
    },
    {
     "name": "stdout",
     "output_type": "stream",
     "text": [
      "80921\n",
      "Epoch 00763 | Loss 0.0558 | train_RMSE 0.1454 | test_RMSE 0.1426 \n",
      "19929\n",
      "80921\n",
      "Epoch 00764 | Loss 0.0557 | train_RMSE 0.1490 | test_RMSE 0.1456 \n",
      "19929\n",
      "80921\n",
      "Epoch 00765 | Loss 0.0555 | train_RMSE 0.1453 | test_RMSE 0.1422 \n"
     ]
    },
    {
     "name": "stderr",
     "output_type": "stream",
     "text": [
      "\r",
      " 26%|██████████▏                             | 767/3000 [01:11<03:27, 10.76it/s]"
     ]
    },
    {
     "name": "stdout",
     "output_type": "stream",
     "text": [
      "19929\n",
      "80921\n",
      "Epoch 00766 | Loss 0.0554 | train_RMSE 0.1462 | test_RMSE 0.1429 \n",
      "19929\n",
      "80921\n",
      "Epoch 00767 | Loss 0.0544 | train_RMSE 0.1462 | test_RMSE 0.1430 \n",
      "19929\n"
     ]
    },
    {
     "name": "stderr",
     "output_type": "stream",
     "text": [
      " 26%|██████████▎                             | 771/3000 [01:11<03:27, 10.74it/s]"
     ]
    },
    {
     "name": "stdout",
     "output_type": "stream",
     "text": [
      "80921\n",
      "Epoch 00768 | Loss 0.0544 | train_RMSE 0.1450 | test_RMSE 0.1421 \n",
      "19929\n",
      "80921\n",
      "Epoch 00769 | Loss 0.0541 | train_RMSE 0.1487 | test_RMSE 0.1454 \n",
      "19929\n",
      "80921\n",
      "Epoch 00770 | Loss 0.0550 | train_RMSE 0.1460 | test_RMSE 0.1433 \n"
     ]
    },
    {
     "name": "stderr",
     "output_type": "stream",
     "text": [
      "\r",
      " 26%|██████████▎                             | 773/3000 [01:11<03:26, 10.78it/s]"
     ]
    },
    {
     "name": "stdout",
     "output_type": "stream",
     "text": [
      "19929\n",
      "80921\n",
      "Epoch 00771 | Loss 0.0553 | train_RMSE 0.1540 | test_RMSE 0.1505 \n",
      "19929\n",
      "80921\n",
      "Epoch 00772 | Loss 0.0554 | train_RMSE 0.1512 | test_RMSE 0.1488 \n",
      "19929\n"
     ]
    },
    {
     "name": "stderr",
     "output_type": "stream",
     "text": [
      "\r",
      " 26%|██████████▎                             | 775/3000 [01:12<03:25, 10.80it/s]"
     ]
    },
    {
     "name": "stdout",
     "output_type": "stream",
     "text": [
      "80921\n",
      "Epoch 00773 | Loss 0.0567 | train_RMSE 0.1714 | test_RMSE 0.1678 \n",
      "19929\n",
      "80921\n",
      "Epoch 00774 | Loss 0.0600 | train_RMSE 0.1681 | test_RMSE 0.1664 \n",
      "19929\n",
      "80921\n",
      "Epoch 00775 | Loss 0.0631 | train_RMSE 0.1986 | test_RMSE 0.1949 \n"
     ]
    },
    {
     "name": "stderr",
     "output_type": "stream",
     "text": [
      "\r",
      " 26%|██████████▎                             | 777/3000 [01:12<03:25, 10.83it/s]"
     ]
    },
    {
     "name": "stdout",
     "output_type": "stream",
     "text": [
      "19929\n",
      "80921\n",
      "Epoch 00776 | Loss 0.0682 | train_RMSE 0.1911 | test_RMSE 0.1899 \n",
      "19929\n",
      "80921\n",
      "Epoch 00777 | Loss 0.0716 | train_RMSE 0.2235 | test_RMSE 0.2198 \n",
      "19929\n"
     ]
    },
    {
     "name": "stderr",
     "output_type": "stream",
     "text": [
      " 26%|██████████▍                             | 781/3000 [01:12<03:24, 10.87it/s]"
     ]
    },
    {
     "name": "stdout",
     "output_type": "stream",
     "text": [
      "80921\n",
      "Epoch 00778 | Loss 0.0776 | train_RMSE 0.1982 | test_RMSE 0.1971 \n",
      "19929\n",
      "80921\n",
      "Epoch 00779 | Loss 0.0742 | train_RMSE 0.1967 | test_RMSE 0.1931 \n",
      "19929\n",
      "80921\n",
      "Epoch 00780 | Loss 0.0674 | train_RMSE 0.1541 | test_RMSE 0.1519 \n"
     ]
    },
    {
     "name": "stderr",
     "output_type": "stream",
     "text": [
      "\r",
      " 26%|██████████▍                             | 783/3000 [01:12<03:24, 10.85it/s]"
     ]
    },
    {
     "name": "stdout",
     "output_type": "stream",
     "text": [
      "19929\n",
      "80921\n",
      "Epoch 00781 | Loss 0.0570 | train_RMSE 0.1465 | test_RMSE 0.1436 \n",
      "19929\n",
      "80921\n",
      "Epoch 00782 | Loss 0.0529 | train_RMSE 0.1656 | test_RMSE 0.1622 \n",
      "19929\n"
     ]
    },
    {
     "name": "stderr",
     "output_type": "stream",
     "text": [
      "\r",
      " 26%|██████████▍                             | 785/3000 [01:13<03:23, 10.86it/s]"
     ]
    },
    {
     "name": "stdout",
     "output_type": "stream",
     "text": [
      "80921\n",
      "Epoch 00783 | Loss 0.0571 | train_RMSE 0.1635 | test_RMSE 0.1616 \n",
      "19929\n",
      "80921\n",
      "Epoch 00784 | Loss 0.0603 | train_RMSE 0.1691 | test_RMSE 0.1656 \n",
      "19929\n",
      "80921\n",
      "Epoch 00785 | Loss 0.0577 | train_RMSE 0.1466 | test_RMSE 0.1439 \n"
     ]
    },
    {
     "name": "stderr",
     "output_type": "stream",
     "text": [
      "\r",
      " 26%|██████████▍                             | 787/3000 [01:13<03:24, 10.84it/s]"
     ]
    },
    {
     "name": "stdout",
     "output_type": "stream",
     "text": [
      "19929\n",
      "80921\n",
      "Epoch 00786 | Loss 0.0528 | train_RMSE 0.1478 | test_RMSE 0.1452 \n",
      "19929\n",
      "80921\n",
      "Epoch 00787 | Loss 0.0537 | train_RMSE 0.1663 | test_RMSE 0.1628 \n",
      "19929\n"
     ]
    },
    {
     "name": "stderr",
     "output_type": "stream",
     "text": [
      " 26%|██████████▌                             | 791/3000 [01:13<03:23, 10.84it/s]"
     ]
    },
    {
     "name": "stdout",
     "output_type": "stream",
     "text": [
      "80921\n",
      "Epoch 00788 | Loss 0.0568 | train_RMSE 0.1543 | test_RMSE 0.1521 \n",
      "19929\n",
      "80921\n",
      "Epoch 00789 | Loss 0.0558 | train_RMSE 0.1517 | test_RMSE 0.1484 \n",
      "19929\n",
      "80921\n",
      "Epoch 00790 | Loss 0.0525 | train_RMSE 0.1482 | test_RMSE 0.1450 \n"
     ]
    },
    {
     "name": "stderr",
     "output_type": "stream",
     "text": [
      "\r",
      " 26%|██████████▌                             | 793/3000 [01:13<03:23, 10.84it/s]"
     ]
    },
    {
     "name": "stdout",
     "output_type": "stream",
     "text": [
      "19929\n",
      "80921\n",
      "Epoch 00791 | Loss 0.0519 | train_RMSE 0.1496 | test_RMSE 0.1471 \n",
      "19929\n",
      "80921\n",
      "Epoch 00792 | Loss 0.0537 | train_RMSE 0.1595 | test_RMSE 0.1560 \n",
      "19929\n"
     ]
    },
    {
     "name": "stderr",
     "output_type": "stream",
     "text": [
      "\r",
      " 26%|██████████▌                             | 795/3000 [01:13<03:22, 10.86it/s]"
     ]
    },
    {
     "name": "stdout",
     "output_type": "stream",
     "text": [
      "80921\n",
      "Epoch 00793 | Loss 0.0543 | train_RMSE 0.1470 | test_RMSE 0.1444 \n",
      "19929\n",
      "80921\n",
      "Epoch 00794 | Loss 0.0520 | train_RMSE 0.1458 | test_RMSE 0.1428 \n",
      "19929\n",
      "80921\n",
      "Epoch 00795 | Loss 0.0517 | train_RMSE 0.1554 | test_RMSE 0.1519 \n"
     ]
    },
    {
     "name": "stderr",
     "output_type": "stream",
     "text": [
      "\r",
      " 27%|██████████▋                             | 797/3000 [01:14<03:23, 10.84it/s]"
     ]
    },
    {
     "name": "stdout",
     "output_type": "stream",
     "text": [
      "19929\n",
      "80921\n",
      "Epoch 00796 | Loss 0.0534 | train_RMSE 0.1497 | test_RMSE 0.1472 \n",
      "19929\n",
      "80921\n",
      "Epoch 00797 | Loss 0.0526 | train_RMSE 0.1510 | test_RMSE 0.1477 \n",
      "19929\n"
     ]
    },
    {
     "name": "stderr",
     "output_type": "stream",
     "text": [
      " 27%|██████████▋                             | 801/3000 [01:14<03:22, 10.86it/s]"
     ]
    },
    {
     "name": "stdout",
     "output_type": "stream",
     "text": [
      "80921\n",
      "Epoch 00798 | Loss 0.0513 | train_RMSE 0.1462 | test_RMSE 0.1431 \n",
      "19929\n",
      "80921\n",
      "Epoch 00799 | Loss 0.0503 | train_RMSE 0.1467 | test_RMSE 0.1440 \n",
      "19929\n",
      "80921\n",
      "Epoch 00800 | Loss 0.0512 | train_RMSE 0.1545 | test_RMSE 0.1510 \n"
     ]
    },
    {
     "name": "stderr",
     "output_type": "stream",
     "text": [
      "\r",
      " 27%|██████████▋                             | 803/3000 [01:14<03:21, 10.91it/s]"
     ]
    },
    {
     "name": "stdout",
     "output_type": "stream",
     "text": [
      "19929\n",
      "80921\n",
      "Epoch 00801 | Loss 0.0524 | train_RMSE 0.1469 | test_RMSE 0.1442 \n",
      "19929\n",
      "80921\n",
      "Epoch 00802 | Loss 0.0515 | train_RMSE 0.1466 | test_RMSE 0.1435 \n",
      "19929\n"
     ]
    },
    {
     "name": "stderr",
     "output_type": "stream",
     "text": [
      "\r",
      " 27%|██████████▋                             | 805/3000 [01:14<03:21, 10.92it/s]"
     ]
    },
    {
     "name": "stdout",
     "output_type": "stream",
     "text": [
      "80921\n",
      "Epoch 00803 | Loss 0.0501 | train_RMSE 0.1495 | test_RMSE 0.1462 \n",
      "19929\n",
      "80921\n",
      "Epoch 00804 | Loss 0.0508 | train_RMSE 0.1474 | test_RMSE 0.1448 \n",
      "19929\n",
      "80921\n",
      "Epoch 00805 | Loss 0.0508 | train_RMSE 0.1504 | test_RMSE 0.1471 \n"
     ]
    },
    {
     "name": "stderr",
     "output_type": "stream",
     "text": [
      "\r",
      " 27%|██████████▊                             | 807/3000 [01:15<03:20, 10.94it/s]"
     ]
    },
    {
     "name": "stdout",
     "output_type": "stream",
     "text": [
      "19929\n",
      "80921\n",
      "Epoch 00806 | Loss 0.0506 | train_RMSE 0.1458 | test_RMSE 0.1428 \n",
      "19929\n",
      "80921\n",
      "Epoch 00807 | Loss 0.0494 | train_RMSE 0.1454 | test_RMSE 0.1426 \n",
      "19929\n"
     ]
    },
    {
     "name": "stderr",
     "output_type": "stream",
     "text": [
      " 27%|██████████▊                             | 811/3000 [01:15<03:19, 10.96it/s]"
     ]
    },
    {
     "name": "stdout",
     "output_type": "stream",
     "text": [
      "80921\n",
      "Epoch 00808 | Loss 0.0500 | train_RMSE 0.1503 | test_RMSE 0.1470 \n",
      "19929\n",
      "80921\n",
      "Epoch 00809 | Loss 0.0505 | train_RMSE 0.1463 | test_RMSE 0.1436 \n",
      "19929\n",
      "80921\n",
      "Epoch 00810 | Loss 0.0502 | train_RMSE 0.1477 | test_RMSE 0.1445 \n"
     ]
    },
    {
     "name": "stderr",
     "output_type": "stream",
     "text": [
      "\r",
      " 27%|██████████▊                             | 813/3000 [01:15<03:20, 10.90it/s]"
     ]
    },
    {
     "name": "stdout",
     "output_type": "stream",
     "text": [
      "19929\n",
      "80921\n",
      "Epoch 00811 | Loss 0.0492 | train_RMSE 0.1468 | test_RMSE 0.1436 \n",
      "19929\n",
      "80921\n",
      "Epoch 00812 | Loss 0.0491 | train_RMSE 0.1464 | test_RMSE 0.1435 \n",
      "19929\n"
     ]
    },
    {
     "name": "stderr",
     "output_type": "stream",
     "text": [
      "\r",
      " 27%|██████████▊                             | 815/3000 [01:15<03:19, 10.93it/s]"
     ]
    },
    {
     "name": "stdout",
     "output_type": "stream",
     "text": [
      "80921\n",
      "Epoch 00813 | Loss 0.0495 | train_RMSE 0.1504 | test_RMSE 0.1471 \n",
      "19929\n",
      "80921\n",
      "Epoch 00814 | Loss 0.0497 | train_RMSE 0.1461 | test_RMSE 0.1433 \n",
      "19929\n",
      "80921\n",
      "Epoch 00815 | Loss 0.0494 | train_RMSE 0.1464 | test_RMSE 0.1434 \n"
     ]
    },
    {
     "name": "stderr",
     "output_type": "stream",
     "text": [
      "\r",
      " 27%|██████████▉                             | 817/3000 [01:16<03:20, 10.91it/s]"
     ]
    },
    {
     "name": "stdout",
     "output_type": "stream",
     "text": [
      "19929\n",
      "80921\n",
      "Epoch 00816 | Loss 0.0485 | train_RMSE 0.1472 | test_RMSE 0.1441 \n",
      "19929\n",
      "80921\n",
      "Epoch 00817 | Loss 0.0485 | train_RMSE 0.1457 | test_RMSE 0.1428 \n",
      "19929\n"
     ]
    },
    {
     "name": "stderr",
     "output_type": "stream",
     "text": [
      " 27%|██████████▉                             | 821/3000 [01:16<03:20, 10.87it/s]"
     ]
    },
    {
     "name": "stdout",
     "output_type": "stream",
     "text": [
      "80921\n",
      "Epoch 00818 | Loss 0.0488 | train_RMSE 0.1478 | test_RMSE 0.1445 \n",
      "19929\n",
      "80921\n",
      "Epoch 00819 | Loss 0.0485 | train_RMSE 0.1459 | test_RMSE 0.1429 \n",
      "19929\n",
      "80921\n",
      "Epoch 00820 | Loss 0.0488 | train_RMSE 0.1467 | test_RMSE 0.1436 \n"
     ]
    },
    {
     "name": "stderr",
     "output_type": "stream",
     "text": [
      "\r",
      " 27%|██████████▉                             | 823/3000 [01:16<03:20, 10.85it/s]"
     ]
    },
    {
     "name": "stdout",
     "output_type": "stream",
     "text": [
      "19929\n",
      "80921\n",
      "Epoch 00821 | Loss 0.0488 | train_RMSE 0.1483 | test_RMSE 0.1451 \n",
      "19929\n",
      "80921\n",
      "Epoch 00822 | Loss 0.0483 | train_RMSE 0.1465 | test_RMSE 0.1436 \n",
      "19929\n"
     ]
    },
    {
     "name": "stderr",
     "output_type": "stream",
     "text": [
      "\r",
      " 28%|███████████                             | 825/3000 [01:16<03:20, 10.87it/s]"
     ]
    },
    {
     "name": "stdout",
     "output_type": "stream",
     "text": [
      "80921\n",
      "Epoch 00823 | Loss 0.0483 | train_RMSE 0.1476 | test_RMSE 0.1445 \n",
      "19929\n",
      "80921\n",
      "Epoch 00824 | Loss 0.0483 | train_RMSE 0.1459 | test_RMSE 0.1429 \n",
      "19929\n",
      "80921\n",
      "Epoch 00825 | Loss 0.0474 | train_RMSE 0.1460 | test_RMSE 0.1430 \n"
     ]
    },
    {
     "name": "stderr",
     "output_type": "stream",
     "text": [
      "\r",
      " 28%|███████████                             | 827/3000 [01:16<03:19, 10.87it/s]"
     ]
    },
    {
     "name": "stdout",
     "output_type": "stream",
     "text": [
      "19929\n",
      "80921\n",
      "Epoch 00826 | Loss 0.0477 | train_RMSE 0.1486 | test_RMSE 0.1453 \n",
      "19929\n",
      "80921\n",
      "Epoch 00827 | Loss 0.0480 | train_RMSE 0.1467 | test_RMSE 0.1438 \n",
      "19929\n"
     ]
    },
    {
     "name": "stderr",
     "output_type": "stream",
     "text": [
      " 28%|███████████                             | 831/3000 [01:17<03:18, 10.90it/s]"
     ]
    },
    {
     "name": "stdout",
     "output_type": "stream",
     "text": [
      "80921\n",
      "Epoch 00828 | Loss 0.0482 | train_RMSE 0.1481 | test_RMSE 0.1448 \n",
      "19929\n",
      "80921\n",
      "Epoch 00829 | Loss 0.0477 | train_RMSE 0.1467 | test_RMSE 0.1437 \n",
      "19929\n",
      "80921\n",
      "Epoch 00830 | Loss 0.0476 | train_RMSE 0.1463 | test_RMSE 0.1434 \n"
     ]
    },
    {
     "name": "stderr",
     "output_type": "stream",
     "text": [
      "\r",
      " 28%|███████████                             | 833/3000 [01:17<03:19, 10.88it/s]"
     ]
    },
    {
     "name": "stdout",
     "output_type": "stream",
     "text": [
      "19929\n",
      "80921\n",
      "Epoch 00831 | Loss 0.0474 | train_RMSE 0.1478 | test_RMSE 0.1447 \n",
      "19929\n",
      "80921\n",
      "Epoch 00832 | Loss 0.0477 | train_RMSE 0.1463 | test_RMSE 0.1434 \n",
      "19929\n"
     ]
    },
    {
     "name": "stderr",
     "output_type": "stream",
     "text": [
      "\r",
      " 28%|███████████▏                            | 835/3000 [01:17<03:19, 10.87it/s]"
     ]
    },
    {
     "name": "stdout",
     "output_type": "stream",
     "text": [
      "80921\n",
      "Epoch 00833 | Loss 0.0471 | train_RMSE 0.1467 | test_RMSE 0.1436 \n",
      "19929\n",
      "80921\n",
      "Epoch 00834 | Loss 0.0475 | train_RMSE 0.1470 | test_RMSE 0.1439 \n",
      "19929\n",
      "80921\n",
      "Epoch 00835 | Loss 0.0475 | train_RMSE 0.1460 | test_RMSE 0.1430 \n"
     ]
    },
    {
     "name": "stderr",
     "output_type": "stream",
     "text": [
      "\r",
      " 28%|███████████▏                            | 837/3000 [01:17<03:19, 10.86it/s]"
     ]
    },
    {
     "name": "stdout",
     "output_type": "stream",
     "text": [
      "19929\n",
      "80921\n",
      "Epoch 00836 | Loss 0.0466 | train_RMSE 0.1471 | test_RMSE 0.1439 \n",
      "19929\n",
      "80921\n",
      "Epoch 00837 | Loss 0.0472 | train_RMSE 0.1459 | test_RMSE 0.1429 \n",
      "19929\n"
     ]
    },
    {
     "name": "stderr",
     "output_type": "stream",
     "text": [
      " 28%|███████████▏                            | 841/3000 [01:18<03:18, 10.87it/s]"
     ]
    },
    {
     "name": "stdout",
     "output_type": "stream",
     "text": [
      "80921\n",
      "Epoch 00838 | Loss 0.0467 | train_RMSE 0.1455 | test_RMSE 0.1426 \n",
      "19929\n",
      "80921\n",
      "Epoch 00839 | Loss 0.0467 | train_RMSE 0.1470 | test_RMSE 0.1438 \n",
      "19929\n",
      "80921\n",
      "Epoch 00840 | Loss 0.0464 | train_RMSE 0.1457 | test_RMSE 0.1428 \n"
     ]
    },
    {
     "name": "stderr",
     "output_type": "stream",
     "text": [
      "\r",
      " 28%|███████████▏                            | 843/3000 [01:18<03:19, 10.82it/s]"
     ]
    },
    {
     "name": "stdout",
     "output_type": "stream",
     "text": [
      "19929\n",
      "80921\n",
      "Epoch 00841 | Loss 0.0464 | train_RMSE 0.1481 | test_RMSE 0.1448 \n",
      "19929\n",
      "80921\n",
      "Epoch 00842 | Loss 0.0458 | train_RMSE 0.1453 | test_RMSE 0.1423 \n",
      "19929\n"
     ]
    },
    {
     "name": "stderr",
     "output_type": "stream",
     "text": [
      "\r",
      " 28%|███████████▎                            | 845/3000 [01:18<03:20, 10.77it/s]"
     ]
    },
    {
     "name": "stdout",
     "output_type": "stream",
     "text": [
      "80921\n",
      "Epoch 00843 | Loss 0.0457 | train_RMSE 0.1455 | test_RMSE 0.1423 \n",
      "19929\n",
      "80921\n",
      "Epoch 00844 | Loss 0.0456 | train_RMSE 0.1456 | test_RMSE 0.1424 \n",
      "19929\n",
      "80921\n",
      "Epoch 00845 | Loss 0.0451 | train_RMSE 0.1450 | test_RMSE 0.1421 \n"
     ]
    },
    {
     "name": "stderr",
     "output_type": "stream",
     "text": [
      "\r",
      " 28%|███████████▎                            | 847/3000 [01:18<03:20, 10.75it/s]"
     ]
    },
    {
     "name": "stdout",
     "output_type": "stream",
     "text": [
      "19929\n",
      "80921\n",
      "Epoch 00846 | Loss 0.0453 | train_RMSE 0.1474 | test_RMSE 0.1441 \n",
      "19929\n",
      "80921\n",
      "Epoch 00847 | Loss 0.0450 | train_RMSE 0.1451 | test_RMSE 0.1421 \n",
      "19929\n"
     ]
    },
    {
     "name": "stderr",
     "output_type": "stream",
     "text": [
      " 28%|███████████▎                            | 851/3000 [01:19<03:19, 10.75it/s]"
     ]
    },
    {
     "name": "stdout",
     "output_type": "stream",
     "text": [
      "80921\n",
      "Epoch 00848 | Loss 0.0451 | train_RMSE 0.1446 | test_RMSE 0.1416 \n",
      "19929\n",
      "80921\n",
      "Epoch 00849 | Loss 0.0447 | train_RMSE 0.1456 | test_RMSE 0.1424 \n",
      "19929\n",
      "80921\n",
      "Epoch 00850 | Loss 0.0452 | train_RMSE 0.1444 | test_RMSE 0.1415 \n"
     ]
    },
    {
     "name": "stderr",
     "output_type": "stream",
     "text": [
      "\r",
      " 28%|███████████▎                            | 853/3000 [01:19<03:19, 10.75it/s]"
     ]
    },
    {
     "name": "stdout",
     "output_type": "stream",
     "text": [
      "19929\n",
      "80921\n",
      "Epoch 00851 | Loss 0.0446 | train_RMSE 0.1474 | test_RMSE 0.1441 \n",
      "19929\n",
      "80921\n",
      "Epoch 00852 | Loss 0.0451 | train_RMSE 0.1455 | test_RMSE 0.1424 \n",
      "19929\n"
     ]
    },
    {
     "name": "stderr",
     "output_type": "stream",
     "text": [
      "\r",
      " 28%|███████████▍                            | 855/3000 [01:19<03:20, 10.70it/s]"
     ]
    },
    {
     "name": "stdout",
     "output_type": "stream",
     "text": [
      "80921\n",
      "Epoch 00853 | Loss 0.0442 | train_RMSE 0.1459 | test_RMSE 0.1426 \n",
      "19929\n",
      "80921\n",
      "Epoch 00854 | Loss 0.0441 | train_RMSE 0.1446 | test_RMSE 0.1414 \n",
      "19929\n",
      "80921\n",
      "Epoch 00855 | Loss 0.0434 | train_RMSE 0.1442 | test_RMSE 0.1411 \n"
     ]
    },
    {
     "name": "stderr",
     "output_type": "stream",
     "text": [
      "\r",
      " 29%|███████████▍                            | 857/3000 [01:19<03:20, 10.71it/s]"
     ]
    },
    {
     "name": "stdout",
     "output_type": "stream",
     "text": [
      "19929\n",
      "80921\n",
      "Epoch 00856 | Loss 0.0436 | train_RMSE 0.1452 | test_RMSE 0.1420 \n",
      "19929\n",
      "80921\n",
      "Epoch 00857 | Loss 0.0435 | train_RMSE 0.1446 | test_RMSE 0.1416 \n",
      "19929\n"
     ]
    },
    {
     "name": "stderr",
     "output_type": "stream",
     "text": [
      " 29%|███████████▍                            | 861/3000 [01:20<03:20, 10.69it/s]"
     ]
    },
    {
     "name": "stdout",
     "output_type": "stream",
     "text": [
      "80921\n",
      "Epoch 00858 | Loss 0.0430 | train_RMSE 0.1452 | test_RMSE 0.1420 \n",
      "19929\n",
      "80921\n",
      "Epoch 00859 | Loss 0.0430 | train_RMSE 0.1444 | test_RMSE 0.1413 \n",
      "19929\n",
      "80921\n",
      "Epoch 00860 | Loss 0.0426 | train_RMSE 0.1443 | test_RMSE 0.1411 \n"
     ]
    },
    {
     "name": "stderr",
     "output_type": "stream",
     "text": [
      "\r",
      " 29%|███████████▌                            | 863/3000 [01:20<03:18, 10.75it/s]"
     ]
    },
    {
     "name": "stdout",
     "output_type": "stream",
     "text": [
      "19929\n",
      "80921\n",
      "Epoch 00861 | Loss 0.0431 | train_RMSE 0.1446 | test_RMSE 0.1414 \n",
      "19929\n",
      "80921\n",
      "Epoch 00862 | Loss 0.0426 | train_RMSE 0.1436 | test_RMSE 0.1407 \n",
      "19929\n"
     ]
    },
    {
     "name": "stderr",
     "output_type": "stream",
     "text": [
      "\r",
      " 29%|███████████▌                            | 865/3000 [01:20<03:19, 10.73it/s]"
     ]
    },
    {
     "name": "stdout",
     "output_type": "stream",
     "text": [
      "80921\n",
      "Epoch 00863 | Loss 0.0421 | train_RMSE 0.1448 | test_RMSE 0.1417 \n",
      "19929\n",
      "80921\n",
      "Epoch 00864 | Loss 0.0421 | train_RMSE 0.1439 | test_RMSE 0.1410 \n",
      "19929\n",
      "80921\n",
      "Epoch 00865 | Loss 0.0420 | train_RMSE 0.1445 | test_RMSE 0.1413 \n"
     ]
    },
    {
     "name": "stderr",
     "output_type": "stream",
     "text": [
      "\r",
      " 29%|███████████▌                            | 867/3000 [01:20<03:19, 10.69it/s]"
     ]
    },
    {
     "name": "stdout",
     "output_type": "stream",
     "text": [
      "19929\n",
      "80921\n",
      "Epoch 00866 | Loss 0.0417 | train_RMSE 0.1443 | test_RMSE 0.1412 \n",
      "19929\n",
      "80921\n",
      "Epoch 00867 | Loss 0.0421 | train_RMSE 0.1442 | test_RMSE 0.1410 \n",
      "19929\n"
     ]
    },
    {
     "name": "stderr",
     "output_type": "stream",
     "text": [
      " 29%|███████████▌                            | 871/3000 [01:21<03:17, 10.78it/s]"
     ]
    },
    {
     "name": "stdout",
     "output_type": "stream",
     "text": [
      "80921\n",
      "Epoch 00868 | Loss 0.0419 | train_RMSE 0.1442 | test_RMSE 0.1411 \n",
      "19929\n",
      "80921\n",
      "Epoch 00869 | Loss 0.0418 | train_RMSE 0.1439 | test_RMSE 0.1409 \n",
      "19929\n",
      "80921\n",
      "Epoch 00870 | Loss 0.0417 | train_RMSE 0.1448 | test_RMSE 0.1417 \n"
     ]
    },
    {
     "name": "stderr",
     "output_type": "stream",
     "text": [
      "\r",
      " 29%|███████████▋                            | 873/3000 [01:21<03:18, 10.73it/s]"
     ]
    },
    {
     "name": "stdout",
     "output_type": "stream",
     "text": [
      "19929\n",
      "80921\n",
      "Epoch 00871 | Loss 0.0416 | train_RMSE 0.1439 | test_RMSE 0.1409 \n",
      "19929\n",
      "80921\n",
      "Epoch 00872 | Loss 0.0412 | train_RMSE 0.1446 | test_RMSE 0.1415 \n",
      "19929\n"
     ]
    },
    {
     "name": "stderr",
     "output_type": "stream",
     "text": [
      "\r",
      " 29%|███████████▋                            | 875/3000 [01:21<03:17, 10.74it/s]"
     ]
    },
    {
     "name": "stdout",
     "output_type": "stream",
     "text": [
      "80921\n",
      "Epoch 00873 | Loss 0.0413 | train_RMSE 0.1433 | test_RMSE 0.1404 \n",
      "19929\n",
      "80921\n",
      "Epoch 00874 | Loss 0.0410 | train_RMSE 0.1449 | test_RMSE 0.1417 \n",
      "19929\n",
      "80921\n",
      "Epoch 00875 | Loss 0.0411 | train_RMSE 0.1442 | test_RMSE 0.1411 \n"
     ]
    },
    {
     "name": "stderr",
     "output_type": "stream",
     "text": [
      "\r",
      " 29%|███████████▋                            | 877/3000 [01:21<03:18, 10.72it/s]"
     ]
    },
    {
     "name": "stdout",
     "output_type": "stream",
     "text": [
      "19929\n",
      "80921\n",
      "Epoch 00876 | Loss 0.0407 | train_RMSE 0.1440 | test_RMSE 0.1409 \n",
      "19929\n",
      "80921\n",
      "Epoch 00877 | Loss 0.0405 | train_RMSE 0.1438 | test_RMSE 0.1407 \n",
      "19929\n"
     ]
    },
    {
     "name": "stderr",
     "output_type": "stream",
     "text": [
      " 29%|███████████▋                            | 881/3000 [01:21<03:17, 10.75it/s]"
     ]
    },
    {
     "name": "stdout",
     "output_type": "stream",
     "text": [
      "80921\n",
      "Epoch 00878 | Loss 0.0408 | train_RMSE 0.1433 | test_RMSE 0.1405 \n",
      "19929\n",
      "80921\n",
      "Epoch 00879 | Loss 0.0410 | train_RMSE 0.1454 | test_RMSE 0.1423 \n",
      "19929\n",
      "80921\n",
      "Epoch 00880 | Loss 0.0407 | train_RMSE 0.1445 | test_RMSE 0.1416 \n"
     ]
    },
    {
     "name": "stderr",
     "output_type": "stream",
     "text": [
      "\r",
      " 29%|███████████▊                            | 883/3000 [01:22<03:17, 10.74it/s]"
     ]
    },
    {
     "name": "stdout",
     "output_type": "stream",
     "text": [
      "19929\n",
      "80921\n",
      "Epoch 00881 | Loss 0.0406 | train_RMSE 0.1452 | test_RMSE 0.1420 \n",
      "19929\n",
      "80921\n",
      "Epoch 00882 | Loss 0.0403 | train_RMSE 0.1434 | test_RMSE 0.1405 \n",
      "19929\n"
     ]
    },
    {
     "name": "stderr",
     "output_type": "stream",
     "text": [
      "\r",
      " 30%|███████████▊                            | 885/3000 [01:22<03:17, 10.73it/s]"
     ]
    },
    {
     "name": "stdout",
     "output_type": "stream",
     "text": [
      "80921\n",
      "Epoch 00883 | Loss 0.0402 | train_RMSE 0.1437 | test_RMSE 0.1406 \n",
      "19929\n",
      "80921\n",
      "Epoch 00884 | Loss 0.0403 | train_RMSE 0.1444 | test_RMSE 0.1413 \n",
      "19929\n",
      "80921\n",
      "Epoch 00885 | Loss 0.0402 | train_RMSE 0.1436 | test_RMSE 0.1408 \n"
     ]
    },
    {
     "name": "stderr",
     "output_type": "stream",
     "text": [
      "\r",
      " 30%|███████████▊                            | 887/3000 [01:22<03:16, 10.76it/s]"
     ]
    },
    {
     "name": "stdout",
     "output_type": "stream",
     "text": [
      "19929\n",
      "80921\n",
      "Epoch 00886 | Loss 0.0402 | train_RMSE 0.1458 | test_RMSE 0.1426 \n",
      "19929\n",
      "80921\n",
      "Epoch 00887 | Loss 0.0401 | train_RMSE 0.1438 | test_RMSE 0.1409 \n",
      "19929\n"
     ]
    },
    {
     "name": "stderr",
     "output_type": "stream",
     "text": [
      " 30%|███████████▉                            | 891/3000 [01:22<03:18, 10.61it/s]"
     ]
    },
    {
     "name": "stdout",
     "output_type": "stream",
     "text": [
      "80921\n",
      "Epoch 00888 | Loss 0.0400 | train_RMSE 0.1446 | test_RMSE 0.1414 \n",
      "19929\n",
      "80921\n",
      "Epoch 00889 | Loss 0.0399 | train_RMSE 0.1437 | test_RMSE 0.1406 \n",
      "19929\n",
      "80921\n",
      "Epoch 00890 | Loss 0.0397 | train_RMSE 0.1431 | test_RMSE 0.1402 \n"
     ]
    },
    {
     "name": "stderr",
     "output_type": "stream",
     "text": [
      "\r",
      " 30%|███████████▉                            | 893/3000 [01:23<03:18, 10.62it/s]"
     ]
    },
    {
     "name": "stdout",
     "output_type": "stream",
     "text": [
      "19929\n",
      "80921\n",
      "Epoch 00891 | Loss 0.0398 | train_RMSE 0.1452 | test_RMSE 0.1421 \n",
      "19929\n",
      "80921\n",
      "Epoch 00892 | Loss 0.0399 | train_RMSE 0.1440 | test_RMSE 0.1413 \n",
      "19929\n"
     ]
    },
    {
     "name": "stderr",
     "output_type": "stream",
     "text": [
      "\r",
      " 30%|███████████▉                            | 895/3000 [01:23<03:18, 10.61it/s]"
     ]
    },
    {
     "name": "stdout",
     "output_type": "stream",
     "text": [
      "80921\n",
      "Epoch 00893 | Loss 0.0394 | train_RMSE 0.1462 | test_RMSE 0.1430 \n",
      "19929\n",
      "80921\n",
      "Epoch 00894 | Loss 0.0399 | train_RMSE 0.1441 | test_RMSE 0.1413 \n",
      "19929\n",
      "80921\n",
      "Epoch 00895 | Loss 0.0394 | train_RMSE 0.1443 | test_RMSE 0.1412 \n"
     ]
    },
    {
     "name": "stderr",
     "output_type": "stream",
     "text": [
      "\r",
      " 30%|███████████▉                            | 897/3000 [01:23<03:18, 10.58it/s]"
     ]
    },
    {
     "name": "stdout",
     "output_type": "stream",
     "text": [
      "19929\n",
      "80921\n",
      "Epoch 00896 | Loss 0.0393 | train_RMSE 0.1437 | test_RMSE 0.1406 \n",
      "19929\n",
      "80921\n",
      "Epoch 00897 | Loss 0.0392 | train_RMSE 0.1438 | test_RMSE 0.1409 \n",
      "19929\n"
     ]
    },
    {
     "name": "stderr",
     "output_type": "stream",
     "text": [
      " 30%|████████████                            | 901/3000 [01:23<03:17, 10.62it/s]"
     ]
    },
    {
     "name": "stdout",
     "output_type": "stream",
     "text": [
      "80921\n",
      "Epoch 00898 | Loss 0.0391 | train_RMSE 0.1457 | test_RMSE 0.1426 \n",
      "19929\n",
      "80921\n",
      "Epoch 00899 | Loss 0.0389 | train_RMSE 0.1441 | test_RMSE 0.1414 \n",
      "19929\n",
      "80921\n",
      "Epoch 00900 | Loss 0.0392 | train_RMSE 0.1456 | test_RMSE 0.1425 \n"
     ]
    },
    {
     "name": "stderr",
     "output_type": "stream",
     "text": [
      "\r",
      " 30%|████████████                            | 903/3000 [01:24<03:16, 10.66it/s]"
     ]
    },
    {
     "name": "stdout",
     "output_type": "stream",
     "text": [
      "19929\n",
      "80921\n",
      "Epoch 00901 | Loss 0.0394 | train_RMSE 0.1434 | test_RMSE 0.1407 \n",
      "19929\n",
      "80921\n",
      "Epoch 00902 | Loss 0.0388 | train_RMSE 0.1447 | test_RMSE 0.1416 \n",
      "19929\n"
     ]
    },
    {
     "name": "stderr",
     "output_type": "stream",
     "text": [
      "\r",
      " 30%|████████████                            | 905/3000 [01:24<03:16, 10.66it/s]"
     ]
    },
    {
     "name": "stdout",
     "output_type": "stream",
     "text": [
      "80921\n",
      "Epoch 00903 | Loss 0.0384 | train_RMSE 0.1444 | test_RMSE 0.1413 \n",
      "19929\n",
      "80921\n",
      "Epoch 00904 | Loss 0.0381 | train_RMSE 0.1434 | test_RMSE 0.1406 \n",
      "19929\n",
      "80921\n",
      "Epoch 00905 | Loss 0.0387 | train_RMSE 0.1464 | test_RMSE 0.1433 \n"
     ]
    },
    {
     "name": "stderr",
     "output_type": "stream",
     "text": [
      "\r",
      " 30%|████████████                            | 907/3000 [01:24<03:15, 10.71it/s]"
     ]
    },
    {
     "name": "stdout",
     "output_type": "stream",
     "text": [
      "19929\n",
      "80921\n",
      "Epoch 00906 | Loss 0.0391 | train_RMSE 0.1457 | test_RMSE 0.1431 \n",
      "19929\n",
      "80921\n",
      "Epoch 00907 | Loss 0.0393 | train_RMSE 0.1503 | test_RMSE 0.1470 \n",
      "19929\n"
     ]
    },
    {
     "name": "stderr",
     "output_type": "stream",
     "text": [
      " 30%|████████████▏                           | 911/3000 [01:24<03:13, 10.77it/s]"
     ]
    },
    {
     "name": "stdout",
     "output_type": "stream",
     "text": [
      "80921\n",
      "Epoch 00908 | Loss 0.0393 | train_RMSE 0.1460 | test_RMSE 0.1434 \n",
      "19929\n",
      "80921\n",
      "Epoch 00909 | Loss 0.0389 | train_RMSE 0.1457 | test_RMSE 0.1426 \n",
      "19929\n",
      "80921\n",
      "Epoch 00910 | Loss 0.0384 | train_RMSE 0.1428 | test_RMSE 0.1400 \n"
     ]
    },
    {
     "name": "stderr",
     "output_type": "stream",
     "text": [
      "\r",
      " 30%|████████████▏                           | 913/3000 [01:24<03:13, 10.77it/s]"
     ]
    },
    {
     "name": "stdout",
     "output_type": "stream",
     "text": [
      "19929\n",
      "80921\n",
      "Epoch 00911 | Loss 0.0380 | train_RMSE 0.1433 | test_RMSE 0.1404 \n",
      "19929\n",
      "80921\n",
      "Epoch 00912 | Loss 0.0384 | train_RMSE 0.1467 | test_RMSE 0.1435 \n",
      "19929\n"
     ]
    },
    {
     "name": "stderr",
     "output_type": "stream",
     "text": [
      "\r",
      " 30%|████████████▏                           | 915/3000 [01:25<03:13, 10.76it/s]"
     ]
    },
    {
     "name": "stdout",
     "output_type": "stream",
     "text": [
      "80921\n",
      "Epoch 00913 | Loss 0.0379 | train_RMSE 0.1451 | test_RMSE 0.1425 \n",
      "19929\n",
      "80921\n",
      "Epoch 00914 | Loss 0.0387 | train_RMSE 0.1476 | test_RMSE 0.1444 \n",
      "19929\n",
      "80921\n",
      "Epoch 00915 | Loss 0.0382 | train_RMSE 0.1437 | test_RMSE 0.1411 \n"
     ]
    },
    {
     "name": "stderr",
     "output_type": "stream",
     "text": [
      "\r",
      " 31%|████████████▏                           | 917/3000 [01:25<03:13, 10.76it/s]"
     ]
    },
    {
     "name": "stdout",
     "output_type": "stream",
     "text": [
      "19929\n",
      "80921\n",
      "Epoch 00916 | Loss 0.0379 | train_RMSE 0.1445 | test_RMSE 0.1414 \n",
      "19929\n",
      "80921\n",
      "Epoch 00917 | Loss 0.0375 | train_RMSE 0.1438 | test_RMSE 0.1408 \n",
      "19929\n"
     ]
    },
    {
     "name": "stderr",
     "output_type": "stream",
     "text": [
      " 31%|████████████▎                           | 921/3000 [01:25<03:13, 10.75it/s]"
     ]
    },
    {
     "name": "stdout",
     "output_type": "stream",
     "text": [
      "80921\n",
      "Epoch 00918 | Loss 0.0373 | train_RMSE 0.1440 | test_RMSE 0.1412 \n",
      "19929\n",
      "80921\n",
      "Epoch 00919 | Loss 0.0374 | train_RMSE 0.1471 | test_RMSE 0.1439 \n",
      "19929\n",
      "80921\n",
      "Epoch 00920 | Loss 0.0379 | train_RMSE 0.1447 | test_RMSE 0.1422 \n"
     ]
    },
    {
     "name": "stderr",
     "output_type": "stream",
     "text": [
      "\r",
      " 31%|████████████▎                           | 923/3000 [01:25<03:12, 10.77it/s]"
     ]
    },
    {
     "name": "stdout",
     "output_type": "stream",
     "text": [
      "19929\n",
      "80921\n",
      "Epoch 00921 | Loss 0.0380 | train_RMSE 0.1480 | test_RMSE 0.1448 \n",
      "19929\n",
      "80921\n",
      "Epoch 00922 | Loss 0.0382 | train_RMSE 0.1445 | test_RMSE 0.1419 \n",
      "19929\n"
     ]
    },
    {
     "name": "stderr",
     "output_type": "stream",
     "text": [
      "\r",
      " 31%|████████████▎                           | 925/3000 [01:26<03:13, 10.75it/s]"
     ]
    },
    {
     "name": "stdout",
     "output_type": "stream",
     "text": [
      "80921\n",
      "Epoch 00923 | Loss 0.0378 | train_RMSE 0.1465 | test_RMSE 0.1433 \n",
      "19929\n",
      "80921\n",
      "Epoch 00924 | Loss 0.0368 | train_RMSE 0.1436 | test_RMSE 0.1407 \n",
      "19929\n",
      "80921\n",
      "Epoch 00925 | Loss 0.0368 | train_RMSE 0.1426 | test_RMSE 0.1397 \n"
     ]
    },
    {
     "name": "stderr",
     "output_type": "stream",
     "text": [
      "\r",
      " 31%|████████████▎                           | 927/3000 [01:26<03:13, 10.71it/s]"
     ]
    },
    {
     "name": "stdout",
     "output_type": "stream",
     "text": [
      "19929\n",
      "80921\n",
      "Epoch 00926 | Loss 0.0368 | train_RMSE 0.1446 | test_RMSE 0.1415 \n",
      "19929\n",
      "80921\n",
      "Epoch 00927 | Loss 0.0366 | train_RMSE 0.1436 | test_RMSE 0.1409 \n",
      "19929\n"
     ]
    },
    {
     "name": "stderr",
     "output_type": "stream",
     "text": [
      " 31%|████████████▍                           | 931/3000 [01:26<03:13, 10.69it/s]"
     ]
    },
    {
     "name": "stdout",
     "output_type": "stream",
     "text": [
      "80921\n",
      "Epoch 00928 | Loss 0.0363 | train_RMSE 0.1454 | test_RMSE 0.1423 \n",
      "19929\n",
      "80921\n",
      "Epoch 00929 | Loss 0.0363 | train_RMSE 0.1427 | test_RMSE 0.1399 \n",
      "19929\n",
      "80921\n",
      "Epoch 00930 | Loss 0.0360 | train_RMSE 0.1426 | test_RMSE 0.1396 \n"
     ]
    },
    {
     "name": "stderr",
     "output_type": "stream",
     "text": [
      "\r",
      " 31%|████████████▍                           | 933/3000 [01:26<03:13, 10.68it/s]"
     ]
    },
    {
     "name": "stdout",
     "output_type": "stream",
     "text": [
      "19929\n",
      "80921\n",
      "Epoch 00931 | Loss 0.0361 | train_RMSE 0.1426 | test_RMSE 0.1397 \n",
      "19929\n",
      "80921\n",
      "Epoch 00932 | Loss 0.0355 | train_RMSE 0.1429 | test_RMSE 0.1400 \n",
      "19929\n"
     ]
    },
    {
     "name": "stderr",
     "output_type": "stream",
     "text": [
      "\r",
      " 31%|████████████▍                           | 935/3000 [01:27<03:13, 10.66it/s]"
     ]
    },
    {
     "name": "stdout",
     "output_type": "stream",
     "text": [
      "80921\n",
      "Epoch 00933 | Loss 0.0357 | train_RMSE 0.1440 | test_RMSE 0.1409 \n",
      "19929\n",
      "80921\n",
      "Epoch 00934 | Loss 0.0356 | train_RMSE 0.1424 | test_RMSE 0.1396 \n",
      "19929\n",
      "80921\n",
      "Epoch 00935 | Loss 0.0358 | train_RMSE 0.1425 | test_RMSE 0.1396 \n"
     ]
    },
    {
     "name": "stderr",
     "output_type": "stream",
     "text": [
      "\r",
      " 31%|████████████▍                           | 937/3000 [01:27<03:13, 10.64it/s]"
     ]
    },
    {
     "name": "stdout",
     "output_type": "stream",
     "text": [
      "19929\n",
      "80921\n",
      "Epoch 00936 | Loss 0.0354 | train_RMSE 0.1425 | test_RMSE 0.1396 \n",
      "19929\n",
      "80921\n",
      "Epoch 00937 | Loss 0.0352 | train_RMSE 0.1430 | test_RMSE 0.1402 \n",
      "19929\n"
     ]
    },
    {
     "name": "stderr",
     "output_type": "stream",
     "text": [
      " 31%|████████████▌                           | 941/3000 [01:27<03:12, 10.69it/s]"
     ]
    },
    {
     "name": "stdout",
     "output_type": "stream",
     "text": [
      "80921\n",
      "Epoch 00938 | Loss 0.0354 | train_RMSE 0.1446 | test_RMSE 0.1415 \n",
      "19929\n",
      "80921\n",
      "Epoch 00939 | Loss 0.0350 | train_RMSE 0.1425 | test_RMSE 0.1399 \n",
      "19929\n",
      "80921\n",
      "Epoch 00940 | Loss 0.0355 | train_RMSE 0.1436 | test_RMSE 0.1405 \n"
     ]
    },
    {
     "name": "stderr",
     "output_type": "stream",
     "text": [
      "\r",
      " 31%|████████████▌                           | 943/3000 [01:27<03:11, 10.73it/s]"
     ]
    },
    {
     "name": "stdout",
     "output_type": "stream",
     "text": [
      "19929\n",
      "80921\n",
      "Epoch 00941 | Loss 0.0357 | train_RMSE 0.1424 | test_RMSE 0.1396 \n",
      "19929\n",
      "80921\n",
      "Epoch 00942 | Loss 0.0353 | train_RMSE 0.1436 | test_RMSE 0.1405 \n",
      "19929\n"
     ]
    },
    {
     "name": "stderr",
     "output_type": "stream",
     "text": [
      "\r",
      " 32%|████████████▌                           | 945/3000 [01:27<03:12, 10.68it/s]"
     ]
    },
    {
     "name": "stdout",
     "output_type": "stream",
     "text": [
      "80921\n",
      "Epoch 00943 | Loss 0.0349 | train_RMSE 0.1427 | test_RMSE 0.1398 \n",
      "19929\n",
      "80921\n",
      "Epoch 00944 | Loss 0.0349 | train_RMSE 0.1421 | test_RMSE 0.1393 \n",
      "19929\n",
      "80921\n",
      "Epoch 00945 | Loss 0.0348 | train_RMSE 0.1426 | test_RMSE 0.1397 \n"
     ]
    },
    {
     "name": "stderr",
     "output_type": "stream",
     "text": [
      "\r",
      " 32%|████████████▋                           | 947/3000 [01:28<03:12, 10.68it/s]"
     ]
    },
    {
     "name": "stdout",
     "output_type": "stream",
     "text": [
      "19929\n",
      "80921\n",
      "Epoch 00946 | Loss 0.0347 | train_RMSE 0.1422 | test_RMSE 0.1394 \n",
      "19929\n",
      "80921\n",
      "Epoch 00947 | Loss 0.0350 | train_RMSE 0.1438 | test_RMSE 0.1407 \n",
      "19929\n"
     ]
    },
    {
     "name": "stderr",
     "output_type": "stream",
     "text": [
      " 32%|████████████▋                           | 951/3000 [01:28<03:11, 10.70it/s]"
     ]
    },
    {
     "name": "stdout",
     "output_type": "stream",
     "text": [
      "80921\n",
      "Epoch 00948 | Loss 0.0348 | train_RMSE 0.1422 | test_RMSE 0.1394 \n",
      "19929\n",
      "80921\n",
      "Epoch 00949 | Loss 0.0347 | train_RMSE 0.1431 | test_RMSE 0.1401 \n",
      "19929\n",
      "80921\n",
      "Epoch 00950 | Loss 0.0344 | train_RMSE 0.1419 | test_RMSE 0.1391 \n"
     ]
    },
    {
     "name": "stderr",
     "output_type": "stream",
     "text": [
      "\r",
      " 32%|████████████▋                           | 953/3000 [01:28<03:11, 10.70it/s]"
     ]
    },
    {
     "name": "stdout",
     "output_type": "stream",
     "text": [
      "19929\n",
      "80921\n",
      "Epoch 00951 | Loss 0.0343 | train_RMSE 0.1421 | test_RMSE 0.1392 \n",
      "19929\n",
      "80921\n",
      "Epoch 00952 | Loss 0.0341 | train_RMSE 0.1429 | test_RMSE 0.1398 \n",
      "19929\n"
     ]
    },
    {
     "name": "stderr",
     "output_type": "stream",
     "text": [
      "\r",
      " 32%|████████████▋                           | 955/3000 [01:28<03:10, 10.74it/s]"
     ]
    },
    {
     "name": "stdout",
     "output_type": "stream",
     "text": [
      "80921\n",
      "Epoch 00953 | Loss 0.0343 | train_RMSE 0.1418 | test_RMSE 0.1390 \n",
      "19929\n",
      "80921\n",
      "Epoch 00954 | Loss 0.0343 | train_RMSE 0.1424 | test_RMSE 0.1394 \n",
      "19929\n",
      "80921\n",
      "Epoch 00955 | Loss 0.0344 | train_RMSE 0.1419 | test_RMSE 0.1390 \n"
     ]
    },
    {
     "name": "stderr",
     "output_type": "stream",
     "text": [
      "\r",
      " 32%|████████████▊                           | 957/3000 [01:29<03:09, 10.77it/s]"
     ]
    },
    {
     "name": "stdout",
     "output_type": "stream",
     "text": [
      "19929\n",
      "80921\n",
      "Epoch 00956 | Loss 0.0341 | train_RMSE 0.1420 | test_RMSE 0.1392 \n",
      "19929\n",
      "80921\n",
      "Epoch 00957 | Loss 0.0340 | train_RMSE 0.1430 | test_RMSE 0.1400 \n",
      "19929\n"
     ]
    },
    {
     "name": "stderr",
     "output_type": "stream",
     "text": [
      " 32%|████████████▊                           | 961/3000 [01:29<03:09, 10.76it/s]"
     ]
    },
    {
     "name": "stdout",
     "output_type": "stream",
     "text": [
      "80921\n",
      "Epoch 00958 | Loss 0.0343 | train_RMSE 0.1416 | test_RMSE 0.1388 \n",
      "19929\n",
      "80921\n",
      "Epoch 00959 | Loss 0.0340 | train_RMSE 0.1418 | test_RMSE 0.1388 \n",
      "19929\n",
      "80921\n",
      "Epoch 00960 | Loss 0.0341 | train_RMSE 0.1415 | test_RMSE 0.1386 \n"
     ]
    },
    {
     "name": "stderr",
     "output_type": "stream",
     "text": [
      "\r",
      " 32%|████████████▊                           | 963/3000 [01:29<03:08, 10.79it/s]"
     ]
    },
    {
     "name": "stdout",
     "output_type": "stream",
     "text": [
      "19929\n",
      "80921\n",
      "Epoch 00961 | Loss 0.0338 | train_RMSE 0.1425 | test_RMSE 0.1396 \n",
      "19929\n",
      "80921\n",
      "Epoch 00962 | Loss 0.0340 | train_RMSE 0.1426 | test_RMSE 0.1396 \n",
      "19929\n"
     ]
    },
    {
     "name": "stderr",
     "output_type": "stream",
     "text": [
      "\r",
      " 32%|████████████▊                           | 965/3000 [01:29<03:07, 10.83it/s]"
     ]
    },
    {
     "name": "stdout",
     "output_type": "stream",
     "text": [
      "80921\n",
      "Epoch 00963 | Loss 0.0339 | train_RMSE 0.1409 | test_RMSE 0.1381 \n",
      "19929\n",
      "80921\n",
      "Epoch 00964 | Loss 0.0338 | train_RMSE 0.1413 | test_RMSE 0.1384 \n",
      "19929\n",
      "80921\n",
      "Epoch 00965 | Loss 0.0336 | train_RMSE 0.1421 | test_RMSE 0.1391 \n"
     ]
    },
    {
     "name": "stderr",
     "output_type": "stream",
     "text": [
      "\r",
      " 32%|████████████▉                           | 967/3000 [01:29<03:07, 10.82it/s]"
     ]
    },
    {
     "name": "stdout",
     "output_type": "stream",
     "text": [
      "19929\n",
      "80921\n",
      "Epoch 00966 | Loss 0.0337 | train_RMSE 0.1423 | test_RMSE 0.1394 \n",
      "19929\n",
      "80921\n",
      "Epoch 00967 | Loss 0.0337 | train_RMSE 0.1418 | test_RMSE 0.1388 \n",
      "19929\n"
     ]
    },
    {
     "name": "stderr",
     "output_type": "stream",
     "text": [
      " 32%|████████████▉                           | 971/3000 [01:30<03:07, 10.84it/s]"
     ]
    },
    {
     "name": "stdout",
     "output_type": "stream",
     "text": [
      "80921\n",
      "Epoch 00968 | Loss 0.0334 | train_RMSE 0.1407 | test_RMSE 0.1380 \n",
      "19929\n",
      "80921\n",
      "Epoch 00969 | Loss 0.0331 | train_RMSE 0.1416 | test_RMSE 0.1386 \n",
      "19929\n",
      "80921\n",
      "Epoch 00970 | Loss 0.0334 | train_RMSE 0.1415 | test_RMSE 0.1386 \n"
     ]
    },
    {
     "name": "stderr",
     "output_type": "stream",
     "text": [
      "\r",
      " 32%|████████████▉                           | 973/3000 [01:30<03:07, 10.83it/s]"
     ]
    },
    {
     "name": "stdout",
     "output_type": "stream",
     "text": [
      "19929\n",
      "80921\n",
      "Epoch 00971 | Loss 0.0332 | train_RMSE 0.1415 | test_RMSE 0.1385 \n",
      "19929\n",
      "80921\n",
      "Epoch 00972 | Loss 0.0331 | train_RMSE 0.1416 | test_RMSE 0.1386 \n",
      "19929\n"
     ]
    },
    {
     "name": "stderr",
     "output_type": "stream",
     "text": [
      "\r",
      " 32%|█████████████                           | 975/3000 [01:30<03:06, 10.86it/s]"
     ]
    },
    {
     "name": "stdout",
     "output_type": "stream",
     "text": [
      "80921\n",
      "Epoch 00973 | Loss 0.0335 | train_RMSE 0.1411 | test_RMSE 0.1384 \n",
      "19929\n",
      "80921\n",
      "Epoch 00974 | Loss 0.0333 | train_RMSE 0.1430 | test_RMSE 0.1399 \n",
      "19929\n",
      "80921\n",
      "Epoch 00975 | Loss 0.0332 | train_RMSE 0.1414 | test_RMSE 0.1386 \n"
     ]
    },
    {
     "name": "stderr",
     "output_type": "stream",
     "text": [
      "\r",
      " 33%|█████████████                           | 977/3000 [01:30<03:06, 10.87it/s]"
     ]
    },
    {
     "name": "stdout",
     "output_type": "stream",
     "text": [
      "19929\n",
      "80921\n",
      "Epoch 00976 | Loss 0.0328 | train_RMSE 0.1409 | test_RMSE 0.1380 \n",
      "19929\n",
      "80921\n",
      "Epoch 00977 | Loss 0.0330 | train_RMSE 0.1414 | test_RMSE 0.1384 \n",
      "19929\n"
     ]
    },
    {
     "name": "stderr",
     "output_type": "stream",
     "text": [
      " 33%|█████████████                           | 981/3000 [01:31<03:05, 10.89it/s]"
     ]
    },
    {
     "name": "stdout",
     "output_type": "stream",
     "text": [
      "80921\n",
      "Epoch 00978 | Loss 0.0330 | train_RMSE 0.1414 | test_RMSE 0.1386 \n",
      "19929\n",
      "80921\n",
      "Epoch 00979 | Loss 0.0332 | train_RMSE 0.1419 | test_RMSE 0.1389 \n",
      "19929\n",
      "80921\n",
      "Epoch 00980 | Loss 0.0325 | train_RMSE 0.1407 | test_RMSE 0.1379 \n"
     ]
    },
    {
     "name": "stderr",
     "output_type": "stream",
     "text": [
      "\r",
      " 33%|█████████████                           | 983/3000 [01:31<03:04, 10.92it/s]"
     ]
    },
    {
     "name": "stdout",
     "output_type": "stream",
     "text": [
      "19929\n",
      "80921\n",
      "Epoch 00981 | Loss 0.0331 | train_RMSE 0.1410 | test_RMSE 0.1381 \n",
      "19929\n",
      "80921\n",
      "Epoch 00982 | Loss 0.0326 | train_RMSE 0.1420 | test_RMSE 0.1390 \n",
      "19929\n"
     ]
    },
    {
     "name": "stderr",
     "output_type": "stream",
     "text": [
      "\r",
      " 33%|█████████████▏                          | 985/3000 [01:31<03:04, 10.92it/s]"
     ]
    },
    {
     "name": "stdout",
     "output_type": "stream",
     "text": [
      "80921\n",
      "Epoch 00983 | Loss 0.0327 | train_RMSE 0.1411 | test_RMSE 0.1382 \n",
      "19929\n",
      "80921\n",
      "Epoch 00984 | Loss 0.0329 | train_RMSE 0.1408 | test_RMSE 0.1380 \n",
      "19929\n",
      "80921\n",
      "Epoch 00985 | Loss 0.0328 | train_RMSE 0.1418 | test_RMSE 0.1388 \n"
     ]
    },
    {
     "name": "stderr",
     "output_type": "stream",
     "text": [
      "\r",
      " 33%|█████████████▏                          | 987/3000 [01:31<03:04, 10.91it/s]"
     ]
    },
    {
     "name": "stdout",
     "output_type": "stream",
     "text": [
      "19929\n",
      "80921\n",
      "Epoch 00986 | Loss 0.0325 | train_RMSE 0.1416 | test_RMSE 0.1387 \n",
      "19929\n",
      "80921\n",
      "Epoch 00987 | Loss 0.0326 | train_RMSE 0.1413 | test_RMSE 0.1384 \n",
      "19929\n"
     ]
    },
    {
     "name": "stderr",
     "output_type": "stream",
     "text": [
      " 33%|█████████████▏                          | 991/3000 [01:32<03:04, 10.87it/s]"
     ]
    },
    {
     "name": "stdout",
     "output_type": "stream",
     "text": [
      "80921\n",
      "Epoch 00988 | Loss 0.0327 | train_RMSE 0.1404 | test_RMSE 0.1376 \n",
      "19929\n",
      "80921\n",
      "Epoch 00989 | Loss 0.0323 | train_RMSE 0.1408 | test_RMSE 0.1380 \n",
      "19929\n",
      "80921\n",
      "Epoch 00990 | Loss 0.0323 | train_RMSE 0.1423 | test_RMSE 0.1394 \n"
     ]
    },
    {
     "name": "stderr",
     "output_type": "stream",
     "text": [
      "\r",
      " 33%|█████████████▏                          | 993/3000 [01:32<03:04, 10.85it/s]"
     ]
    },
    {
     "name": "stdout",
     "output_type": "stream",
     "text": [
      "19929\n",
      "80921\n",
      "Epoch 00991 | Loss 0.0326 | train_RMSE 0.1416 | test_RMSE 0.1390 \n",
      "19929\n",
      "80921\n",
      "Epoch 00992 | Loss 0.0325 | train_RMSE 0.1416 | test_RMSE 0.1386 \n",
      "19929\n"
     ]
    },
    {
     "name": "stderr",
     "output_type": "stream",
     "text": [
      "\r",
      " 33%|█████████████▎                          | 995/3000 [01:32<03:06, 10.77it/s]"
     ]
    },
    {
     "name": "stdout",
     "output_type": "stream",
     "text": [
      "80921\n",
      "Epoch 00993 | Loss 0.0322 | train_RMSE 0.1404 | test_RMSE 0.1376 \n",
      "19929\n",
      "80921\n",
      "Epoch 00994 | Loss 0.0319 | train_RMSE 0.1408 | test_RMSE 0.1379 \n",
      "19929\n",
      "80921\n",
      "Epoch 00995 | Loss 0.0319 | train_RMSE 0.1423 | test_RMSE 0.1393 \n"
     ]
    },
    {
     "name": "stderr",
     "output_type": "stream",
     "text": [
      "\r",
      " 33%|█████████████▎                          | 997/3000 [01:32<03:05, 10.80it/s]"
     ]
    },
    {
     "name": "stdout",
     "output_type": "stream",
     "text": [
      "19929\n",
      "80921\n",
      "Epoch 00996 | Loss 0.0322 | train_RMSE 0.1412 | test_RMSE 0.1383 \n",
      "19929\n",
      "80921\n",
      "Epoch 00997 | Loss 0.0322 | train_RMSE 0.1403 | test_RMSE 0.1374 \n",
      "19929\n"
     ]
    },
    {
     "name": "stderr",
     "output_type": "stream",
     "text": [
      " 33%|█████████████                          | 1001/3000 [01:33<03:04, 10.85it/s]"
     ]
    },
    {
     "name": "stdout",
     "output_type": "stream",
     "text": [
      "80921\n",
      "Epoch 00998 | Loss 0.0324 | train_RMSE 0.1402 | test_RMSE 0.1374 \n",
      "19929\n",
      "80921\n",
      "Epoch 00999 | Loss 0.0319 | train_RMSE 0.1418 | test_RMSE 0.1389 \n",
      "19929\n",
      "80921\n",
      "Epoch 01000 | Loss 0.0322 | train_RMSE 0.1420 | test_RMSE 0.1390 \n"
     ]
    },
    {
     "name": "stderr",
     "output_type": "stream",
     "text": [
      "\r",
      " 33%|█████████████                          | 1003/3000 [01:33<03:04, 10.83it/s]"
     ]
    },
    {
     "name": "stdout",
     "output_type": "stream",
     "text": [
      "19929\n",
      "80921\n",
      "Epoch 01001 | Loss 0.0316 | train_RMSE 0.1402 | test_RMSE 0.1374 \n",
      "19929\n",
      "80921\n",
      "Epoch 01002 | Loss 0.0320 | train_RMSE 0.1402 | test_RMSE 0.1374 \n",
      "19929\n"
     ]
    },
    {
     "name": "stderr",
     "output_type": "stream",
     "text": [
      "\r",
      " 34%|█████████████                          | 1005/3000 [01:33<03:03, 10.85it/s]"
     ]
    },
    {
     "name": "stdout",
     "output_type": "stream",
     "text": [
      "80921\n",
      "Epoch 01003 | Loss 0.0319 | train_RMSE 0.1418 | test_RMSE 0.1389 \n",
      "19929\n",
      "80921\n",
      "Epoch 01004 | Loss 0.0320 | train_RMSE 0.1420 | test_RMSE 0.1391 \n",
      "19929\n",
      "80921\n",
      "Epoch 01005 | Loss 0.0320 | train_RMSE 0.1406 | test_RMSE 0.1377 \n"
     ]
    },
    {
     "name": "stderr",
     "output_type": "stream",
     "text": [
      "\r",
      " 34%|█████████████                          | 1007/3000 [01:33<03:03, 10.86it/s]"
     ]
    },
    {
     "name": "stdout",
     "output_type": "stream",
     "text": [
      "19929\n",
      "80921\n",
      "Epoch 01006 | Loss 0.0319 | train_RMSE 0.1400 | test_RMSE 0.1372 \n",
      "19929\n",
      "80921\n",
      "Epoch 01007 | Loss 0.0318 | train_RMSE 0.1410 | test_RMSE 0.1381 \n",
      "19929\n"
     ]
    },
    {
     "name": "stderr",
     "output_type": "stream",
     "text": [
      " 34%|█████████████▏                         | 1011/3000 [01:34<03:03, 10.87it/s]"
     ]
    },
    {
     "name": "stdout",
     "output_type": "stream",
     "text": [
      "80921\n",
      "Epoch 01008 | Loss 0.0318 | train_RMSE 0.1423 | test_RMSE 0.1393 \n",
      "19929\n",
      "80921\n",
      "Epoch 01009 | Loss 0.0320 | train_RMSE 0.1403 | test_RMSE 0.1375 \n",
      "19929\n",
      "80921\n",
      "Epoch 01010 | Loss 0.0315 | train_RMSE 0.1402 | test_RMSE 0.1374 \n"
     ]
    },
    {
     "name": "stderr",
     "output_type": "stream",
     "text": [
      "\r",
      " 34%|█████████████▏                         | 1013/3000 [01:34<03:02, 10.88it/s]"
     ]
    },
    {
     "name": "stdout",
     "output_type": "stream",
     "text": [
      "19929\n",
      "80921\n",
      "Epoch 01011 | Loss 0.0314 | train_RMSE 0.1404 | test_RMSE 0.1376 \n",
      "19929\n",
      "80921\n",
      "Epoch 01012 | Loss 0.0316 | train_RMSE 0.1411 | test_RMSE 0.1382 \n",
      "19929\n"
     ]
    },
    {
     "name": "stderr",
     "output_type": "stream",
     "text": [
      "\r",
      " 34%|█████████████▏                         | 1015/3000 [01:34<03:03, 10.84it/s]"
     ]
    },
    {
     "name": "stdout",
     "output_type": "stream",
     "text": [
      "80921\n",
      "Epoch 01013 | Loss 0.0319 | train_RMSE 0.1408 | test_RMSE 0.1379 \n",
      "19929\n",
      "80921\n",
      "Epoch 01014 | Loss 0.0317 | train_RMSE 0.1406 | test_RMSE 0.1378 \n",
      "19929\n",
      "80921\n",
      "Epoch 01015 | Loss 0.0318 | train_RMSE 0.1412 | test_RMSE 0.1383 \n"
     ]
    },
    {
     "name": "stderr",
     "output_type": "stream",
     "text": [
      "\r",
      " 34%|█████████████▏                         | 1017/3000 [01:34<03:03, 10.81it/s]"
     ]
    },
    {
     "name": "stdout",
     "output_type": "stream",
     "text": [
      "19929\n",
      "80921\n",
      "Epoch 01016 | Loss 0.0314 | train_RMSE 0.1408 | test_RMSE 0.1381 \n",
      "19929\n",
      "80921\n",
      "Epoch 01017 | Loss 0.0317 | train_RMSE 0.1409 | test_RMSE 0.1381 \n",
      "19929\n"
     ]
    },
    {
     "name": "stderr",
     "output_type": "stream",
     "text": [
      " 34%|█████████████▎                         | 1021/3000 [01:34<03:01, 10.91it/s]"
     ]
    },
    {
     "name": "stdout",
     "output_type": "stream",
     "text": [
      "80921\n",
      "Epoch 01018 | Loss 0.0314 | train_RMSE 0.1402 | test_RMSE 0.1374 \n",
      "19929\n",
      "80921\n",
      "Epoch 01019 | Loss 0.0319 | train_RMSE 0.1405 | test_RMSE 0.1377 \n",
      "19929\n",
      "80921\n",
      "Epoch 01020 | Loss 0.0320 | train_RMSE 0.1410 | test_RMSE 0.1381 \n"
     ]
    },
    {
     "name": "stderr",
     "output_type": "stream",
     "text": [
      "\r",
      " 34%|█████████████▎                         | 1023/3000 [01:35<03:00, 10.93it/s]"
     ]
    },
    {
     "name": "stdout",
     "output_type": "stream",
     "text": [
      "19929\n",
      "80921\n",
      "Epoch 01021 | Loss 0.0316 | train_RMSE 0.1405 | test_RMSE 0.1378 \n",
      "19929\n",
      "80921\n",
      "Epoch 01022 | Loss 0.0315 | train_RMSE 0.1409 | test_RMSE 0.1380 \n",
      "19929\n"
     ]
    },
    {
     "name": "stderr",
     "output_type": "stream",
     "text": [
      "\r",
      " 34%|█████████████▎                         | 1025/3000 [01:35<03:00, 10.95it/s]"
     ]
    },
    {
     "name": "stdout",
     "output_type": "stream",
     "text": [
      "80921\n",
      "Epoch 01023 | Loss 0.0314 | train_RMSE 0.1405 | test_RMSE 0.1378 \n",
      "19929\n",
      "80921\n",
      "Epoch 01024 | Loss 0.0315 | train_RMSE 0.1408 | test_RMSE 0.1381 \n",
      "19929\n",
      "80921\n",
      "Epoch 01025 | Loss 0.0315 | train_RMSE 0.1409 | test_RMSE 0.1380 \n"
     ]
    },
    {
     "name": "stderr",
     "output_type": "stream",
     "text": [
      "\r",
      " 34%|█████████████▎                         | 1027/3000 [01:35<03:00, 10.92it/s]"
     ]
    },
    {
     "name": "stdout",
     "output_type": "stream",
     "text": [
      "19929\n",
      "80921\n",
      "Epoch 01026 | Loss 0.0313 | train_RMSE 0.1402 | test_RMSE 0.1375 \n",
      "19929\n",
      "80921\n",
      "Epoch 01027 | Loss 0.0315 | train_RMSE 0.1405 | test_RMSE 0.1376 \n",
      "19929\n"
     ]
    },
    {
     "name": "stderr",
     "output_type": "stream",
     "text": [
      " 34%|█████████████▍                         | 1031/3000 [01:35<03:00, 10.88it/s]"
     ]
    },
    {
     "name": "stdout",
     "output_type": "stream",
     "text": [
      "80921\n",
      "Epoch 01028 | Loss 0.0314 | train_RMSE 0.1408 | test_RMSE 0.1380 \n",
      "19929\n",
      "80921\n",
      "Epoch 01029 | Loss 0.0312 | train_RMSE 0.1410 | test_RMSE 0.1381 \n",
      "19929\n",
      "80921\n",
      "Epoch 01030 | Loss 0.0310 | train_RMSE 0.1401 | test_RMSE 0.1373 \n"
     ]
    },
    {
     "name": "stderr",
     "output_type": "stream",
     "text": [
      "\r",
      " 34%|█████████████▍                         | 1033/3000 [01:36<03:00, 10.91it/s]"
     ]
    },
    {
     "name": "stdout",
     "output_type": "stream",
     "text": [
      "19929\n",
      "80921\n",
      "Epoch 01031 | Loss 0.0312 | train_RMSE 0.1401 | test_RMSE 0.1373 \n",
      "19929\n",
      "80921\n",
      "Epoch 01032 | Loss 0.0312 | train_RMSE 0.1411 | test_RMSE 0.1381 \n",
      "19929\n"
     ]
    },
    {
     "name": "stderr",
     "output_type": "stream",
     "text": [
      "\r",
      " 34%|█████████████▍                         | 1035/3000 [01:36<02:59, 10.95it/s]"
     ]
    },
    {
     "name": "stdout",
     "output_type": "stream",
     "text": [
      "80921\n",
      "Epoch 01033 | Loss 0.0315 | train_RMSE 0.1410 | test_RMSE 0.1382 \n",
      "19929\n",
      "80921\n",
      "Epoch 01034 | Loss 0.0316 | train_RMSE 0.1404 | test_RMSE 0.1376 \n",
      "19929\n",
      "80921\n",
      "Epoch 01035 | Loss 0.0314 | train_RMSE 0.1402 | test_RMSE 0.1374 \n"
     ]
    },
    {
     "name": "stderr",
     "output_type": "stream",
     "text": [
      "\r",
      " 35%|█████████████▍                         | 1037/3000 [01:36<02:59, 10.93it/s]"
     ]
    },
    {
     "name": "stdout",
     "output_type": "stream",
     "text": [
      "19929\n",
      "80921\n",
      "Epoch 01036 | Loss 0.0309 | train_RMSE 0.1411 | test_RMSE 0.1382 \n",
      "19929\n",
      "80921\n",
      "Epoch 01037 | Loss 0.0315 | train_RMSE 0.1410 | test_RMSE 0.1381 \n",
      "19929\n"
     ]
    },
    {
     "name": "stderr",
     "output_type": "stream",
     "text": [
      " 35%|█████████████▌                         | 1041/3000 [01:36<02:58, 10.95it/s]"
     ]
    },
    {
     "name": "stdout",
     "output_type": "stream",
     "text": [
      "80921\n",
      "Epoch 01038 | Loss 0.0313 | train_RMSE 0.1399 | test_RMSE 0.1373 \n",
      "19929\n",
      "80921\n",
      "Epoch 01039 | Loss 0.0315 | train_RMSE 0.1406 | test_RMSE 0.1378 \n",
      "19929\n",
      "80921\n",
      "Epoch 01040 | Loss 0.0315 | train_RMSE 0.1414 | test_RMSE 0.1386 \n"
     ]
    },
    {
     "name": "stderr",
     "output_type": "stream",
     "text": [
      "\r",
      " 35%|█████████████▌                         | 1043/3000 [01:36<02:59, 10.93it/s]"
     ]
    },
    {
     "name": "stdout",
     "output_type": "stream",
     "text": [
      "19929\n",
      "80921\n",
      "Epoch 01041 | Loss 0.0313 | train_RMSE 0.1408 | test_RMSE 0.1380 \n",
      "19929\n",
      "80921\n",
      "Epoch 01042 | Loss 0.0311 | train_RMSE 0.1400 | test_RMSE 0.1372 \n",
      "19929\n"
     ]
    },
    {
     "name": "stderr",
     "output_type": "stream",
     "text": [
      "\r",
      " 35%|█████████████▌                         | 1045/3000 [01:37<02:58, 10.94it/s]"
     ]
    },
    {
     "name": "stdout",
     "output_type": "stream",
     "text": [
      "80921\n",
      "Epoch 01043 | Loss 0.0310 | train_RMSE 0.1398 | test_RMSE 0.1371 \n",
      "19929\n",
      "80921\n",
      "Epoch 01044 | Loss 0.0312 | train_RMSE 0.1418 | test_RMSE 0.1389 \n",
      "19929\n",
      "80921\n",
      "Epoch 01045 | Loss 0.0314 | train_RMSE 0.1411 | test_RMSE 0.1383 \n"
     ]
    },
    {
     "name": "stderr",
     "output_type": "stream",
     "text": [
      "\r",
      " 35%|█████████████▌                         | 1047/3000 [01:37<02:58, 10.94it/s]"
     ]
    },
    {
     "name": "stdout",
     "output_type": "stream",
     "text": [
      "19929\n",
      "80921\n",
      "Epoch 01046 | Loss 0.0313 | train_RMSE 0.1397 | test_RMSE 0.1369 \n",
      "19929\n",
      "80921\n",
      "Epoch 01047 | Loss 0.0314 | train_RMSE 0.1396 | test_RMSE 0.1369 \n",
      "19929\n"
     ]
    },
    {
     "name": "stderr",
     "output_type": "stream",
     "text": [
      " 35%|█████████████▋                         | 1051/3000 [01:37<02:58, 10.95it/s]"
     ]
    },
    {
     "name": "stdout",
     "output_type": "stream",
     "text": [
      "80921\n",
      "Epoch 01048 | Loss 0.0310 | train_RMSE 0.1408 | test_RMSE 0.1380 \n",
      "19929\n",
      "80921\n",
      "Epoch 01049 | Loss 0.0311 | train_RMSE 0.1413 | test_RMSE 0.1384 \n",
      "19929\n",
      "80921\n",
      "Epoch 01050 | Loss 0.0309 | train_RMSE 0.1401 | test_RMSE 0.1374 \n"
     ]
    },
    {
     "name": "stderr",
     "output_type": "stream",
     "text": [
      "\r",
      " 35%|█████████████▋                         | 1053/3000 [01:37<02:58, 10.91it/s]"
     ]
    },
    {
     "name": "stdout",
     "output_type": "stream",
     "text": [
      "19929\n",
      "80921\n",
      "Epoch 01051 | Loss 0.0308 | train_RMSE 0.1402 | test_RMSE 0.1374 \n",
      "19929\n",
      "80921\n",
      "Epoch 01052 | Loss 0.0311 | train_RMSE 0.1401 | test_RMSE 0.1374 \n",
      "19929\n"
     ]
    },
    {
     "name": "stderr",
     "output_type": "stream",
     "text": [
      "\r",
      " 35%|█████████████▋                         | 1055/3000 [01:38<02:57, 10.93it/s]"
     ]
    },
    {
     "name": "stdout",
     "output_type": "stream",
     "text": [
      "80921\n",
      "Epoch 01053 | Loss 0.0310 | train_RMSE 0.1409 | test_RMSE 0.1380 \n",
      "19929\n",
      "80921\n",
      "Epoch 01054 | Loss 0.0310 | train_RMSE 0.1410 | test_RMSE 0.1381 \n",
      "19929\n",
      "80921\n",
      "Epoch 01055 | Loss 0.0310 | train_RMSE 0.1401 | test_RMSE 0.1373 \n"
     ]
    },
    {
     "name": "stderr",
     "output_type": "stream",
     "text": [
      "\r",
      " 35%|█████████████▋                         | 1057/3000 [01:38<02:57, 10.92it/s]"
     ]
    },
    {
     "name": "stdout",
     "output_type": "stream",
     "text": [
      "19929\n",
      "80921\n",
      "Epoch 01056 | Loss 0.0308 | train_RMSE 0.1398 | test_RMSE 0.1370 \n",
      "19929\n",
      "80921\n",
      "Epoch 01057 | Loss 0.0309 | train_RMSE 0.1405 | test_RMSE 0.1377 \n",
      "19929\n"
     ]
    },
    {
     "name": "stderr",
     "output_type": "stream",
     "text": [
      " 35%|█████████████▊                         | 1061/3000 [01:38<02:57, 10.95it/s]"
     ]
    },
    {
     "name": "stdout",
     "output_type": "stream",
     "text": [
      "80921\n",
      "Epoch 01058 | Loss 0.0311 | train_RMSE 0.1410 | test_RMSE 0.1381 \n",
      "19929\n",
      "80921\n",
      "Epoch 01059 | Loss 0.0309 | train_RMSE 0.1399 | test_RMSE 0.1371 \n",
      "19929\n",
      "80921\n",
      "Epoch 01060 | Loss 0.0309 | train_RMSE 0.1397 | test_RMSE 0.1369 \n"
     ]
    },
    {
     "name": "stderr",
     "output_type": "stream",
     "text": [
      "\r",
      " 35%|█████████████▊                         | 1063/3000 [01:38<02:56, 10.96it/s]"
     ]
    },
    {
     "name": "stdout",
     "output_type": "stream",
     "text": [
      "19929\n",
      "80921\n",
      "Epoch 01061 | Loss 0.0309 | train_RMSE 0.1403 | test_RMSE 0.1375 \n",
      "19929\n",
      "80921\n",
      "Epoch 01062 | Loss 0.0309 | train_RMSE 0.1406 | test_RMSE 0.1377 \n",
      "19929\n"
     ]
    },
    {
     "name": "stderr",
     "output_type": "stream",
     "text": [
      "\r",
      " 36%|█████████████▊                         | 1065/3000 [01:38<02:57, 10.92it/s]"
     ]
    },
    {
     "name": "stdout",
     "output_type": "stream",
     "text": [
      "80921\n",
      "Epoch 01063 | Loss 0.0309 | train_RMSE 0.1398 | test_RMSE 0.1370 \n",
      "19929\n",
      "80921\n",
      "Epoch 01064 | Loss 0.0306 | train_RMSE 0.1400 | test_RMSE 0.1373 \n",
      "19929\n",
      "80921\n",
      "Epoch 01065 | Loss 0.0307 | train_RMSE 0.1409 | test_RMSE 0.1379 \n"
     ]
    },
    {
     "name": "stderr",
     "output_type": "stream",
     "text": [
      "\r",
      " 36%|█████████████▊                         | 1067/3000 [01:39<02:57, 10.91it/s]"
     ]
    },
    {
     "name": "stdout",
     "output_type": "stream",
     "text": [
      "19929\n",
      "80921\n",
      "Epoch 01066 | Loss 0.0308 | train_RMSE 0.1403 | test_RMSE 0.1376 \n",
      "19929\n",
      "80921\n",
      "Epoch 01067 | Loss 0.0311 | train_RMSE 0.1399 | test_RMSE 0.1370 \n",
      "19929\n"
     ]
    },
    {
     "name": "stderr",
     "output_type": "stream",
     "text": [
      " 36%|█████████████▉                         | 1071/3000 [01:39<02:57, 10.84it/s]"
     ]
    },
    {
     "name": "stdout",
     "output_type": "stream",
     "text": [
      "80921\n",
      "Epoch 01068 | Loss 0.0309 | train_RMSE 0.1395 | test_RMSE 0.1367 \n",
      "19929\n",
      "80921\n",
      "Epoch 01069 | Loss 0.0306 | train_RMSE 0.1401 | test_RMSE 0.1372 \n",
      "19929\n",
      "80921\n",
      "Epoch 01070 | Loss 0.0304 | train_RMSE 0.1409 | test_RMSE 0.1380 \n"
     ]
    },
    {
     "name": "stderr",
     "output_type": "stream",
     "text": [
      "\r",
      " 36%|█████████████▉                         | 1073/3000 [01:39<02:58, 10.82it/s]"
     ]
    },
    {
     "name": "stdout",
     "output_type": "stream",
     "text": [
      "19929\n",
      "80921\n",
      "Epoch 01071 | Loss 0.0307 | train_RMSE 0.1398 | test_RMSE 0.1370 \n",
      "19929\n",
      "80921\n",
      "Epoch 01072 | Loss 0.0302 | train_RMSE 0.1396 | test_RMSE 0.1368 \n",
      "19929\n"
     ]
    },
    {
     "name": "stderr",
     "output_type": "stream",
     "text": [
      "\r",
      " 36%|█████████████▉                         | 1075/3000 [01:39<02:57, 10.86it/s]"
     ]
    },
    {
     "name": "stdout",
     "output_type": "stream",
     "text": [
      "80921\n",
      "Epoch 01073 | Loss 0.0304 | train_RMSE 0.1399 | test_RMSE 0.1372 \n",
      "19929\n",
      "80921\n",
      "Epoch 01074 | Loss 0.0303 | train_RMSE 0.1411 | test_RMSE 0.1382 \n",
      "19929\n",
      "80921\n",
      "Epoch 01075 | Loss 0.0303 | train_RMSE 0.1401 | test_RMSE 0.1373 \n"
     ]
    },
    {
     "name": "stderr",
     "output_type": "stream",
     "text": [
      "\r",
      " 36%|██████████████                         | 1077/3000 [01:40<02:56, 10.87it/s]"
     ]
    },
    {
     "name": "stdout",
     "output_type": "stream",
     "text": [
      "19929\n",
      "80921\n",
      "Epoch 01076 | Loss 0.0303 | train_RMSE 0.1397 | test_RMSE 0.1369 \n",
      "19929\n",
      "80921\n",
      "Epoch 01077 | Loss 0.0304 | train_RMSE 0.1402 | test_RMSE 0.1373 \n",
      "19929\n"
     ]
    },
    {
     "name": "stderr",
     "output_type": "stream",
     "text": [
      " 36%|██████████████                         | 1081/3000 [01:40<02:57, 10.83it/s]"
     ]
    },
    {
     "name": "stdout",
     "output_type": "stream",
     "text": [
      "80921\n",
      "Epoch 01078 | Loss 0.0302 | train_RMSE 0.1403 | test_RMSE 0.1375 \n",
      "19929\n",
      "80921\n",
      "Epoch 01079 | Loss 0.0301 | train_RMSE 0.1397 | test_RMSE 0.1368 \n",
      "19929\n",
      "80921\n",
      "Epoch 01080 | Loss 0.0300 | train_RMSE 0.1396 | test_RMSE 0.1368 \n"
     ]
    },
    {
     "name": "stderr",
     "output_type": "stream",
     "text": [
      "\r",
      " 36%|██████████████                         | 1083/3000 [01:40<02:56, 10.88it/s]"
     ]
    },
    {
     "name": "stdout",
     "output_type": "stream",
     "text": [
      "19929\n",
      "80921\n",
      "Epoch 01081 | Loss 0.0303 | train_RMSE 0.1406 | test_RMSE 0.1376 \n",
      "19929\n",
      "80921\n",
      "Epoch 01082 | Loss 0.0305 | train_RMSE 0.1404 | test_RMSE 0.1376 \n",
      "19929\n"
     ]
    },
    {
     "name": "stderr",
     "output_type": "stream",
     "text": [
      "\r",
      " 36%|██████████████                         | 1085/3000 [01:40<02:56, 10.86it/s]"
     ]
    },
    {
     "name": "stdout",
     "output_type": "stream",
     "text": [
      "80921\n",
      "Epoch 01083 | Loss 0.0299 | train_RMSE 0.1397 | test_RMSE 0.1368 \n",
      "19929\n",
      "80921\n",
      "Epoch 01084 | Loss 0.0302 | train_RMSE 0.1399 | test_RMSE 0.1370 \n",
      "19929\n",
      "80921\n",
      "Epoch 01085 | Loss 0.0300 | train_RMSE 0.1402 | test_RMSE 0.1373 \n"
     ]
    },
    {
     "name": "stderr",
     "output_type": "stream",
     "text": [
      "\r",
      " 36%|██████████████▏                        | 1087/3000 [01:40<02:55, 10.90it/s]"
     ]
    },
    {
     "name": "stdout",
     "output_type": "stream",
     "text": [
      "19929\n",
      "80921\n",
      "Epoch 01086 | Loss 0.0301 | train_RMSE 0.1395 | test_RMSE 0.1367 \n",
      "19929\n",
      "80921\n",
      "Epoch 01087 | Loss 0.0301 | train_RMSE 0.1392 | test_RMSE 0.1364 \n",
      "19929\n"
     ]
    },
    {
     "name": "stderr",
     "output_type": "stream",
     "text": [
      " 36%|██████████████▏                        | 1091/3000 [01:41<02:54, 10.95it/s]"
     ]
    },
    {
     "name": "stdout",
     "output_type": "stream",
     "text": [
      "80921\n",
      "Epoch 01088 | Loss 0.0300 | train_RMSE 0.1399 | test_RMSE 0.1370 \n",
      "19929\n",
      "80921\n",
      "Epoch 01089 | Loss 0.0302 | train_RMSE 0.1408 | test_RMSE 0.1379 \n",
      "19929\n",
      "80921\n",
      "Epoch 01090 | Loss 0.0305 | train_RMSE 0.1397 | test_RMSE 0.1370 \n"
     ]
    },
    {
     "name": "stderr",
     "output_type": "stream",
     "text": [
      "\r",
      " 36%|██████████████▏                        | 1093/3000 [01:41<02:54, 10.96it/s]"
     ]
    },
    {
     "name": "stdout",
     "output_type": "stream",
     "text": [
      "19929\n",
      "80921\n",
      "Epoch 01091 | Loss 0.0302 | train_RMSE 0.1395 | test_RMSE 0.1367 \n",
      "19929\n",
      "80921\n",
      "Epoch 01092 | Loss 0.0301 | train_RMSE 0.1399 | test_RMSE 0.1371 \n",
      "19929\n"
     ]
    },
    {
     "name": "stderr",
     "output_type": "stream",
     "text": [
      "\r",
      " 36%|██████████████▏                        | 1095/3000 [01:41<02:54, 10.91it/s]"
     ]
    },
    {
     "name": "stdout",
     "output_type": "stream",
     "text": [
      "80921\n",
      "Epoch 01093 | Loss 0.0300 | train_RMSE 0.1409 | test_RMSE 0.1380 \n",
      "19929\n",
      "80921\n",
      "Epoch 01094 | Loss 0.0298 | train_RMSE 0.1396 | test_RMSE 0.1368 \n",
      "19929\n",
      "80921\n",
      "Epoch 01095 | Loss 0.0296 | train_RMSE 0.1394 | test_RMSE 0.1366 \n"
     ]
    },
    {
     "name": "stderr",
     "output_type": "stream",
     "text": [
      "\r",
      " 37%|██████████████▎                        | 1097/3000 [01:41<02:54, 10.88it/s]"
     ]
    },
    {
     "name": "stdout",
     "output_type": "stream",
     "text": [
      "19929\n",
      "80921\n",
      "Epoch 01096 | Loss 0.0300 | train_RMSE 0.1401 | test_RMSE 0.1373 \n",
      "19929\n",
      "80921\n",
      "Epoch 01097 | Loss 0.0299 | train_RMSE 0.1401 | test_RMSE 0.1373 \n",
      "19929\n"
     ]
    },
    {
     "name": "stderr",
     "output_type": "stream",
     "text": [
      " 37%|██████████████▎                        | 1101/3000 [01:42<02:53, 10.92it/s]"
     ]
    },
    {
     "name": "stdout",
     "output_type": "stream",
     "text": [
      "80921\n",
      "Epoch 01098 | Loss 0.0298 | train_RMSE 0.1395 | test_RMSE 0.1367 \n",
      "19929\n",
      "80921\n",
      "Epoch 01099 | Loss 0.0300 | train_RMSE 0.1398 | test_RMSE 0.1370 \n",
      "19929\n",
      "80921\n",
      "Epoch 01100 | Loss 0.0297 | train_RMSE 0.1404 | test_RMSE 0.1375 \n"
     ]
    },
    {
     "name": "stderr",
     "output_type": "stream",
     "text": [
      "\r",
      " 37%|██████████████▎                        | 1103/3000 [01:42<02:53, 10.94it/s]"
     ]
    },
    {
     "name": "stdout",
     "output_type": "stream",
     "text": [
      "19929\n",
      "80921\n",
      "Epoch 01101 | Loss 0.0300 | train_RMSE 0.1402 | test_RMSE 0.1375 \n",
      "19929\n",
      "80921\n",
      "Epoch 01102 | Loss 0.0300 | train_RMSE 0.1402 | test_RMSE 0.1373 \n",
      "19929\n"
     ]
    },
    {
     "name": "stderr",
     "output_type": "stream",
     "text": [
      "\r",
      " 37%|██████████████▎                        | 1105/3000 [01:42<02:53, 10.93it/s]"
     ]
    },
    {
     "name": "stdout",
     "output_type": "stream",
     "text": [
      "80921\n",
      "Epoch 01103 | Loss 0.0299 | train_RMSE 0.1392 | test_RMSE 0.1365 \n",
      "19929\n",
      "80921\n",
      "Epoch 01104 | Loss 0.0298 | train_RMSE 0.1399 | test_RMSE 0.1370 \n",
      "19929\n",
      "80921\n",
      "Epoch 01105 | Loss 0.0298 | train_RMSE 0.1399 | test_RMSE 0.1370 \n"
     ]
    },
    {
     "name": "stderr",
     "output_type": "stream",
     "text": [
      "\r",
      " 37%|██████████████▍                        | 1107/3000 [01:42<02:53, 10.93it/s]"
     ]
    },
    {
     "name": "stdout",
     "output_type": "stream",
     "text": [
      "19929\n",
      "80921\n",
      "Epoch 01106 | Loss 0.0300 | train_RMSE 0.1392 | test_RMSE 0.1365 \n",
      "19929\n",
      "80921\n",
      "Epoch 01107 | Loss 0.0295 | train_RMSE 0.1394 | test_RMSE 0.1366 \n",
      "19929\n"
     ]
    },
    {
     "name": "stderr",
     "output_type": "stream",
     "text": [
      " 37%|██████████████▍                        | 1111/3000 [01:43<02:53, 10.90it/s]"
     ]
    },
    {
     "name": "stdout",
     "output_type": "stream",
     "text": [
      "80921\n",
      "Epoch 01108 | Loss 0.0299 | train_RMSE 0.1401 | test_RMSE 0.1373 \n",
      "19929\n",
      "80921\n",
      "Epoch 01109 | Loss 0.0298 | train_RMSE 0.1406 | test_RMSE 0.1377 \n",
      "19929\n",
      "80921\n",
      "Epoch 01110 | Loss 0.0298 | train_RMSE 0.1392 | test_RMSE 0.1364 \n"
     ]
    },
    {
     "name": "stderr",
     "output_type": "stream",
     "text": [
      "\r",
      " 37%|██████████████▍                        | 1113/3000 [01:43<02:53, 10.91it/s]"
     ]
    },
    {
     "name": "stdout",
     "output_type": "stream",
     "text": [
      "19929\n",
      "80921\n",
      "Epoch 01111 | Loss 0.0297 | train_RMSE 0.1395 | test_RMSE 0.1367 \n",
      "19929\n",
      "80921\n",
      "Epoch 01112 | Loss 0.0296 | train_RMSE 0.1403 | test_RMSE 0.1375 \n",
      "19929\n"
     ]
    },
    {
     "name": "stderr",
     "output_type": "stream",
     "text": [
      "\r",
      " 37%|██████████████▍                        | 1115/3000 [01:43<02:52, 10.90it/s]"
     ]
    },
    {
     "name": "stdout",
     "output_type": "stream",
     "text": [
      "80921\n",
      "Epoch 01113 | Loss 0.0298 | train_RMSE 0.1391 | test_RMSE 0.1364 \n",
      "19929\n",
      "80921\n",
      "Epoch 01114 | Loss 0.0299 | train_RMSE 0.1395 | test_RMSE 0.1367 \n",
      "19929\n",
      "80921\n",
      "Epoch 01115 | Loss 0.0295 | train_RMSE 0.1402 | test_RMSE 0.1373 \n"
     ]
    },
    {
     "name": "stderr",
     "output_type": "stream",
     "text": [
      "\r",
      " 37%|██████████████▌                        | 1117/3000 [01:43<02:53, 10.87it/s]"
     ]
    },
    {
     "name": "stdout",
     "output_type": "stream",
     "text": [
      "19929\n",
      "80921\n",
      "Epoch 01116 | Loss 0.0296 | train_RMSE 0.1398 | test_RMSE 0.1370 \n",
      "19929\n",
      "80921\n",
      "Epoch 01117 | Loss 0.0297 | train_RMSE 0.1400 | test_RMSE 0.1371 \n",
      "19929\n"
     ]
    },
    {
     "name": "stderr",
     "output_type": "stream",
     "text": [
      " 37%|██████████████▌                        | 1121/3000 [01:44<02:52, 10.90it/s]"
     ]
    },
    {
     "name": "stdout",
     "output_type": "stream",
     "text": [
      "80921\n",
      "Epoch 01118 | Loss 0.0300 | train_RMSE 0.1391 | test_RMSE 0.1364 \n",
      "19929\n",
      "80921\n",
      "Epoch 01119 | Loss 0.0299 | train_RMSE 0.1407 | test_RMSE 0.1378 \n",
      "19929\n",
      "80921\n",
      "Epoch 01120 | Loss 0.0301 | train_RMSE 0.1397 | test_RMSE 0.1369 \n"
     ]
    },
    {
     "name": "stderr",
     "output_type": "stream",
     "text": [
      "\r",
      " 37%|██████████████▌                        | 1123/3000 [01:44<02:52, 10.89it/s]"
     ]
    },
    {
     "name": "stdout",
     "output_type": "stream",
     "text": [
      "19929\n",
      "80921\n",
      "Epoch 01121 | Loss 0.0295 | train_RMSE 0.1390 | test_RMSE 0.1363 \n",
      "19929\n",
      "80921\n",
      "Epoch 01122 | Loss 0.0300 | train_RMSE 0.1393 | test_RMSE 0.1365 \n",
      "19929\n"
     ]
    },
    {
     "name": "stderr",
     "output_type": "stream",
     "text": [
      "\r",
      " 38%|██████████████▋                        | 1125/3000 [01:44<02:52, 10.90it/s]"
     ]
    },
    {
     "name": "stdout",
     "output_type": "stream",
     "text": [
      "80921\n",
      "Epoch 01123 | Loss 0.0298 | train_RMSE 0.1401 | test_RMSE 0.1373 \n",
      "19929\n",
      "80921\n",
      "Epoch 01124 | Loss 0.0299 | train_RMSE 0.1402 | test_RMSE 0.1372 \n",
      "19929\n",
      "80921\n",
      "Epoch 01125 | Loss 0.0298 | train_RMSE 0.1392 | test_RMSE 0.1364 \n"
     ]
    },
    {
     "name": "stderr",
     "output_type": "stream",
     "text": [
      "\r",
      " 38%|██████████████▋                        | 1127/3000 [01:44<02:51, 10.90it/s]"
     ]
    },
    {
     "name": "stdout",
     "output_type": "stream",
     "text": [
      "19929\n",
      "80921\n",
      "Epoch 01126 | Loss 0.0296 | train_RMSE 0.1393 | test_RMSE 0.1365 \n",
      "19929\n",
      "80921\n",
      "Epoch 01127 | Loss 0.0297 | train_RMSE 0.1395 | test_RMSE 0.1367 \n",
      "19929\n"
     ]
    },
    {
     "name": "stderr",
     "output_type": "stream",
     "text": [
      " 38%|██████████████▋                        | 1131/3000 [01:45<02:51, 10.89it/s]"
     ]
    },
    {
     "name": "stdout",
     "output_type": "stream",
     "text": [
      "80921\n",
      "Epoch 01128 | Loss 0.0297 | train_RMSE 0.1401 | test_RMSE 0.1374 \n",
      "19929\n",
      "80921\n",
      "Epoch 01129 | Loss 0.0295 | train_RMSE 0.1404 | test_RMSE 0.1374 \n",
      "19929\n",
      "80921\n",
      "Epoch 01130 | Loss 0.0296 | train_RMSE 0.1394 | test_RMSE 0.1367 \n"
     ]
    },
    {
     "name": "stderr",
     "output_type": "stream",
     "text": [
      "\r",
      " 38%|██████████████▋                        | 1133/3000 [01:45<02:51, 10.89it/s]"
     ]
    },
    {
     "name": "stdout",
     "output_type": "stream",
     "text": [
      "19929\n",
      "80921\n",
      "Epoch 01131 | Loss 0.0298 | train_RMSE 0.1405 | test_RMSE 0.1376 \n",
      "19929\n",
      "80921\n",
      "Epoch 01132 | Loss 0.0298 | train_RMSE 0.1399 | test_RMSE 0.1372 \n",
      "19929\n"
     ]
    },
    {
     "name": "stderr",
     "output_type": "stream",
     "text": [
      "\r",
      " 38%|██████████████▊                        | 1135/3000 [01:45<02:51, 10.90it/s]"
     ]
    },
    {
     "name": "stdout",
     "output_type": "stream",
     "text": [
      "80921\n",
      "Epoch 01133 | Loss 0.0296 | train_RMSE 0.1399 | test_RMSE 0.1370 \n",
      "19929\n",
      "80921\n",
      "Epoch 01134 | Loss 0.0295 | train_RMSE 0.1390 | test_RMSE 0.1361 \n",
      "19929\n",
      "80921\n",
      "Epoch 01135 | Loss 0.0294 | train_RMSE 0.1394 | test_RMSE 0.1366 \n"
     ]
    },
    {
     "name": "stderr",
     "output_type": "stream",
     "text": [
      "\r",
      " 38%|██████████████▊                        | 1137/3000 [01:45<02:51, 10.86it/s]"
     ]
    },
    {
     "name": "stdout",
     "output_type": "stream",
     "text": [
      "19929\n",
      "80921\n",
      "Epoch 01136 | Loss 0.0298 | train_RMSE 0.1418 | test_RMSE 0.1387 \n",
      "19929\n",
      "80921\n",
      "Epoch 01137 | Loss 0.0297 | train_RMSE 0.1409 | test_RMSE 0.1382 \n",
      "19929\n"
     ]
    },
    {
     "name": "stderr",
     "output_type": "stream",
     "text": [
      " 38%|██████████████▊                        | 1141/3000 [01:45<02:51, 10.87it/s]"
     ]
    },
    {
     "name": "stdout",
     "output_type": "stream",
     "text": [
      "80921\n",
      "Epoch 01138 | Loss 0.0299 | train_RMSE 0.1410 | test_RMSE 0.1380 \n",
      "19929\n",
      "80921\n",
      "Epoch 01139 | Loss 0.0300 | train_RMSE 0.1399 | test_RMSE 0.1372 \n",
      "19929\n",
      "80921\n",
      "Epoch 01140 | Loss 0.0297 | train_RMSE 0.1408 | test_RMSE 0.1378 \n"
     ]
    },
    {
     "name": "stderr",
     "output_type": "stream",
     "text": [
      "\r",
      " 38%|██████████████▊                        | 1143/3000 [01:46<02:50, 10.86it/s]"
     ]
    },
    {
     "name": "stdout",
     "output_type": "stream",
     "text": [
      "19929\n",
      "80921\n",
      "Epoch 01141 | Loss 0.0299 | train_RMSE 0.1391 | test_RMSE 0.1362 \n",
      "19929\n",
      "80921\n",
      "Epoch 01142 | Loss 0.0295 | train_RMSE 0.1389 | test_RMSE 0.1362 \n",
      "19929\n"
     ]
    },
    {
     "name": "stderr",
     "output_type": "stream",
     "text": [
      "\r",
      " 38%|██████████████▉                        | 1145/3000 [01:46<02:51, 10.84it/s]"
     ]
    },
    {
     "name": "stdout",
     "output_type": "stream",
     "text": [
      "80921\n",
      "Epoch 01143 | Loss 0.0292 | train_RMSE 0.1403 | test_RMSE 0.1374 \n",
      "19929\n",
      "80921\n",
      "Epoch 01144 | Loss 0.0295 | train_RMSE 0.1401 | test_RMSE 0.1375 \n",
      "19929\n",
      "80921\n",
      "Epoch 01145 | Loss 0.0299 | train_RMSE 0.1411 | test_RMSE 0.1381 \n"
     ]
    },
    {
     "name": "stderr",
     "output_type": "stream",
     "text": [
      "\r",
      " 38%|██████████████▉                        | 1147/3000 [01:46<02:50, 10.85it/s]"
     ]
    },
    {
     "name": "stdout",
     "output_type": "stream",
     "text": [
      "19929\n",
      "80921\n",
      "Epoch 01146 | Loss 0.0296 | train_RMSE 0.1398 | test_RMSE 0.1371 \n",
      "19929\n",
      "80921\n",
      "Epoch 01147 | Loss 0.0296 | train_RMSE 0.1405 | test_RMSE 0.1375 \n",
      "19929\n"
     ]
    },
    {
     "name": "stderr",
     "output_type": "stream",
     "text": [
      " 38%|██████████████▉                        | 1151/3000 [01:46<02:50, 10.87it/s]"
     ]
    },
    {
     "name": "stdout",
     "output_type": "stream",
     "text": [
      "80921\n",
      "Epoch 01148 | Loss 0.0296 | train_RMSE 0.1394 | test_RMSE 0.1366 \n",
      "19929\n",
      "80921\n",
      "Epoch 01149 | Loss 0.0296 | train_RMSE 0.1388 | test_RMSE 0.1360 \n",
      "19929\n",
      "80921\n",
      "Epoch 01150 | Loss 0.0295 | train_RMSE 0.1394 | test_RMSE 0.1365 \n"
     ]
    },
    {
     "name": "stderr",
     "output_type": "stream",
     "text": [
      "\r",
      " 38%|██████████████▉                        | 1153/3000 [01:47<02:49, 10.87it/s]"
     ]
    },
    {
     "name": "stdout",
     "output_type": "stream",
     "text": [
      "19929\n",
      "80921\n",
      "Epoch 01151 | Loss 0.0299 | train_RMSE 0.1402 | test_RMSE 0.1374 \n",
      "19929\n",
      "80921\n",
      "Epoch 01152 | Loss 0.0295 | train_RMSE 0.1402 | test_RMSE 0.1372 \n",
      "19929\n"
     ]
    },
    {
     "name": "stderr",
     "output_type": "stream",
     "text": [
      "\r",
      " 38%|███████████████                        | 1155/3000 [01:47<02:49, 10.86it/s]"
     ]
    },
    {
     "name": "stdout",
     "output_type": "stream",
     "text": [
      "80921\n",
      "Epoch 01153 | Loss 0.0297 | train_RMSE 0.1390 | test_RMSE 0.1362 \n",
      "19929\n",
      "80921\n",
      "Epoch 01154 | Loss 0.0295 | train_RMSE 0.1399 | test_RMSE 0.1369 \n",
      "19929\n",
      "80921\n",
      "Epoch 01155 | Loss 0.0297 | train_RMSE 0.1395 | test_RMSE 0.1367 \n"
     ]
    },
    {
     "name": "stderr",
     "output_type": "stream",
     "text": [
      "\r",
      " 39%|███████████████                        | 1157/3000 [01:47<02:49, 10.85it/s]"
     ]
    },
    {
     "name": "stdout",
     "output_type": "stream",
     "text": [
      "19929\n",
      "80921\n",
      "Epoch 01156 | Loss 0.0296 | train_RMSE 0.1396 | test_RMSE 0.1368 \n",
      "19929\n",
      "80921\n",
      "Epoch 01157 | Loss 0.0294 | train_RMSE 0.1393 | test_RMSE 0.1365 \n",
      "19929\n"
     ]
    },
    {
     "name": "stderr",
     "output_type": "stream",
     "text": [
      " 39%|███████████████                        | 1161/3000 [01:47<02:49, 10.87it/s]"
     ]
    },
    {
     "name": "stdout",
     "output_type": "stream",
     "text": [
      "80921\n",
      "Epoch 01158 | Loss 0.0294 | train_RMSE 0.1390 | test_RMSE 0.1362 \n",
      "19929\n",
      "80921\n",
      "Epoch 01159 | Loss 0.0295 | train_RMSE 0.1403 | test_RMSE 0.1373 \n",
      "19929\n",
      "80921\n",
      "Epoch 01160 | Loss 0.0293 | train_RMSE 0.1392 | test_RMSE 0.1365 \n"
     ]
    },
    {
     "name": "stderr",
     "output_type": "stream",
     "text": [
      "\r",
      " 39%|███████████████                        | 1163/3000 [01:47<02:49, 10.87it/s]"
     ]
    },
    {
     "name": "stdout",
     "output_type": "stream",
     "text": [
      "19929\n",
      "80921\n",
      "Epoch 01161 | Loss 0.0294 | train_RMSE 0.1387 | test_RMSE 0.1359 \n",
      "19929\n",
      "80921\n",
      "Epoch 01162 | Loss 0.0294 | train_RMSE 0.1392 | test_RMSE 0.1364 \n",
      "19929\n"
     ]
    },
    {
     "name": "stderr",
     "output_type": "stream",
     "text": [
      "\r",
      " 39%|███████████████▏                       | 1165/3000 [01:48<02:48, 10.87it/s]"
     ]
    },
    {
     "name": "stdout",
     "output_type": "stream",
     "text": [
      "80921\n",
      "Epoch 01163 | Loss 0.0296 | train_RMSE 0.1397 | test_RMSE 0.1368 \n",
      "19929\n",
      "80921\n",
      "Epoch 01164 | Loss 0.0294 | train_RMSE 0.1389 | test_RMSE 0.1360 \n",
      "19929\n",
      "80921\n",
      "Epoch 01165 | Loss 0.0293 | train_RMSE 0.1386 | test_RMSE 0.1358 \n"
     ]
    },
    {
     "name": "stderr",
     "output_type": "stream",
     "text": [
      "\r",
      " 39%|███████████████▏                       | 1167/3000 [01:48<02:48, 10.87it/s]"
     ]
    },
    {
     "name": "stdout",
     "output_type": "stream",
     "text": [
      "19929\n",
      "80921\n",
      "Epoch 01166 | Loss 0.0294 | train_RMSE 0.1399 | test_RMSE 0.1371 \n",
      "19929\n",
      "80921\n",
      "Epoch 01167 | Loss 0.0290 | train_RMSE 0.1407 | test_RMSE 0.1377 \n",
      "19929\n"
     ]
    },
    {
     "name": "stderr",
     "output_type": "stream",
     "text": [
      " 39%|███████████████▏                       | 1171/3000 [01:48<02:48, 10.85it/s]"
     ]
    },
    {
     "name": "stdout",
     "output_type": "stream",
     "text": [
      "80921\n",
      "Epoch 01168 | Loss 0.0292 | train_RMSE 0.1386 | test_RMSE 0.1358 \n",
      "19929\n",
      "80921\n",
      "Epoch 01169 | Loss 0.0294 | train_RMSE 0.1388 | test_RMSE 0.1360 \n",
      "19929\n",
      "80921\n",
      "Epoch 01170 | Loss 0.0294 | train_RMSE 0.1403 | test_RMSE 0.1373 \n"
     ]
    },
    {
     "name": "stderr",
     "output_type": "stream",
     "text": [
      "\r",
      " 39%|███████████████▏                       | 1173/3000 [01:48<02:48, 10.85it/s]"
     ]
    },
    {
     "name": "stdout",
     "output_type": "stream",
     "text": [
      "19929\n",
      "80921\n",
      "Epoch 01171 | Loss 0.0294 | train_RMSE 0.1399 | test_RMSE 0.1369 \n",
      "19929\n",
      "80921\n",
      "Epoch 01172 | Loss 0.0294 | train_RMSE 0.1386 | test_RMSE 0.1358 \n",
      "19929\n"
     ]
    },
    {
     "name": "stderr",
     "output_type": "stream",
     "text": [
      "\r",
      " 39%|███████████████▎                       | 1175/3000 [01:49<02:48, 10.86it/s]"
     ]
    },
    {
     "name": "stdout",
     "output_type": "stream",
     "text": [
      "80921\n",
      "Epoch 01173 | Loss 0.0295 | train_RMSE 0.1387 | test_RMSE 0.1358 \n",
      "19929\n",
      "80921\n",
      "Epoch 01174 | Loss 0.0296 | train_RMSE 0.1402 | test_RMSE 0.1374 \n",
      "19929\n",
      "80921\n",
      "Epoch 01175 | Loss 0.0295 | train_RMSE 0.1389 | test_RMSE 0.1362 \n"
     ]
    },
    {
     "name": "stderr",
     "output_type": "stream",
     "text": [
      "\r",
      " 39%|███████████████▎                       | 1177/3000 [01:49<02:47, 10.86it/s]"
     ]
    },
    {
     "name": "stdout",
     "output_type": "stream",
     "text": [
      "19929\n",
      "80921\n",
      "Epoch 01176 | Loss 0.0295 | train_RMSE 0.1388 | test_RMSE 0.1359 \n",
      "19929\n",
      "80921\n",
      "Epoch 01177 | Loss 0.0292 | train_RMSE 0.1397 | test_RMSE 0.1368 \n",
      "19929\n"
     ]
    },
    {
     "name": "stderr",
     "output_type": "stream",
     "text": [
      " 39%|███████████████▎                       | 1181/3000 [01:49<02:47, 10.87it/s]"
     ]
    },
    {
     "name": "stdout",
     "output_type": "stream",
     "text": [
      "80921\n",
      "Epoch 01178 | Loss 0.0293 | train_RMSE 0.1400 | test_RMSE 0.1371 \n",
      "19929\n",
      "80921\n",
      "Epoch 01179 | Loss 0.0292 | train_RMSE 0.1387 | test_RMSE 0.1359 \n",
      "19929\n",
      "80921\n",
      "Epoch 01180 | Loss 0.0295 | train_RMSE 0.1386 | test_RMSE 0.1358 \n"
     ]
    },
    {
     "name": "stderr",
     "output_type": "stream",
     "text": [
      "\r",
      " 39%|███████████████▍                       | 1183/3000 [01:49<02:47, 10.87it/s]"
     ]
    },
    {
     "name": "stdout",
     "output_type": "stream",
     "text": [
      "19929\n",
      "80921\n",
      "Epoch 01181 | Loss 0.0296 | train_RMSE 0.1394 | test_RMSE 0.1366 \n",
      "19929\n",
      "80921\n",
      "Epoch 01182 | Loss 0.0294 | train_RMSE 0.1404 | test_RMSE 0.1375 \n",
      "19929\n"
     ]
    },
    {
     "name": "stderr",
     "output_type": "stream",
     "text": [
      "\r",
      " 40%|███████████████▍                       | 1185/3000 [01:50<02:47, 10.86it/s]"
     ]
    },
    {
     "name": "stdout",
     "output_type": "stream",
     "text": [
      "80921\n",
      "Epoch 01183 | Loss 0.0293 | train_RMSE 0.1385 | test_RMSE 0.1356 \n",
      "19929\n",
      "80921\n",
      "Epoch 01184 | Loss 0.0295 | train_RMSE 0.1383 | test_RMSE 0.1355 \n",
      "19929\n",
      "80921\n",
      "Epoch 01185 | Loss 0.0292 | train_RMSE 0.1395 | test_RMSE 0.1366 \n"
     ]
    },
    {
     "name": "stderr",
     "output_type": "stream",
     "text": [
      "\r",
      " 40%|███████████████▍                       | 1187/3000 [01:50<02:47, 10.85it/s]"
     ]
    },
    {
     "name": "stdout",
     "output_type": "stream",
     "text": [
      "19929\n",
      "80921\n",
      "Epoch 01186 | Loss 0.0293 | train_RMSE 0.1398 | test_RMSE 0.1370 \n",
      "19929\n",
      "80921\n",
      "Epoch 01187 | Loss 0.0292 | train_RMSE 0.1393 | test_RMSE 0.1364 \n",
      "19929\n"
     ]
    },
    {
     "name": "stderr",
     "output_type": "stream",
     "text": [
      " 40%|███████████████▍                       | 1191/3000 [01:50<02:46, 10.86it/s]"
     ]
    },
    {
     "name": "stdout",
     "output_type": "stream",
     "text": [
      "80921\n",
      "Epoch 01188 | Loss 0.0292 | train_RMSE 0.1388 | test_RMSE 0.1360 \n",
      "19929\n",
      "80921\n",
      "Epoch 01189 | Loss 0.0293 | train_RMSE 0.1391 | test_RMSE 0.1362 \n",
      "19929\n",
      "80921\n",
      "Epoch 01190 | Loss 0.0295 | train_RMSE 0.1389 | test_RMSE 0.1360 \n"
     ]
    },
    {
     "name": "stderr",
     "output_type": "stream",
     "text": [
      "\r",
      " 40%|███████████████▌                       | 1193/3000 [01:50<02:46, 10.85it/s]"
     ]
    },
    {
     "name": "stdout",
     "output_type": "stream",
     "text": [
      "19929\n",
      "80921\n",
      "Epoch 01191 | Loss 0.0295 | train_RMSE 0.1391 | test_RMSE 0.1362 \n",
      "19929\n",
      "80921\n",
      "Epoch 01192 | Loss 0.0295 | train_RMSE 0.1395 | test_RMSE 0.1366 \n",
      "19929\n"
     ]
    },
    {
     "name": "stderr",
     "output_type": "stream",
     "text": [
      "\r",
      " 40%|███████████████▌                       | 1195/3000 [01:50<02:46, 10.85it/s]"
     ]
    },
    {
     "name": "stdout",
     "output_type": "stream",
     "text": [
      "80921\n",
      "Epoch 01193 | Loss 0.0295 | train_RMSE 0.1388 | test_RMSE 0.1360 \n",
      "19929\n",
      "80921\n",
      "Epoch 01194 | Loss 0.0294 | train_RMSE 0.1385 | test_RMSE 0.1357 \n",
      "19929\n",
      "80921\n",
      "Epoch 01195 | Loss 0.0293 | train_RMSE 0.1387 | test_RMSE 0.1359 \n"
     ]
    },
    {
     "name": "stderr",
     "output_type": "stream",
     "text": [
      "\r",
      " 40%|███████████████▌                       | 1197/3000 [01:51<02:46, 10.84it/s]"
     ]
    },
    {
     "name": "stdout",
     "output_type": "stream",
     "text": [
      "19929\n",
      "80921\n",
      "Epoch 01196 | Loss 0.0291 | train_RMSE 0.1404 | test_RMSE 0.1374 \n",
      "19929\n",
      "80921\n",
      "Epoch 01197 | Loss 0.0293 | train_RMSE 0.1391 | test_RMSE 0.1362 \n",
      "19929\n"
     ]
    },
    {
     "name": "stderr",
     "output_type": "stream",
     "text": [
      " 40%|███████████████▌                       | 1201/3000 [01:51<02:46, 10.84it/s]"
     ]
    },
    {
     "name": "stdout",
     "output_type": "stream",
     "text": [
      "80921\n",
      "Epoch 01198 | Loss 0.0292 | train_RMSE 0.1388 | test_RMSE 0.1359 \n",
      "19929\n",
      "80921\n",
      "Epoch 01199 | Loss 0.0294 | train_RMSE 0.1392 | test_RMSE 0.1364 \n",
      "19929\n",
      "80921\n",
      "Epoch 01200 | Loss 0.0293 | train_RMSE 0.1398 | test_RMSE 0.1369 \n"
     ]
    },
    {
     "name": "stderr",
     "output_type": "stream",
     "text": [
      "\r",
      " 40%|███████████████▋                       | 1203/3000 [01:51<02:45, 10.84it/s]"
     ]
    },
    {
     "name": "stdout",
     "output_type": "stream",
     "text": [
      "19929\n",
      "80921\n",
      "Epoch 01201 | Loss 0.0291 | train_RMSE 0.1388 | test_RMSE 0.1359 \n",
      "19929\n",
      "80921\n",
      "Epoch 01202 | Loss 0.0294 | train_RMSE 0.1390 | test_RMSE 0.1363 \n",
      "19929\n"
     ]
    },
    {
     "name": "stderr",
     "output_type": "stream",
     "text": [
      "\r",
      " 40%|███████████████▋                       | 1205/3000 [01:51<02:46, 10.81it/s]"
     ]
    },
    {
     "name": "stdout",
     "output_type": "stream",
     "text": [
      "80921\n",
      "Epoch 01203 | Loss 0.0290 | train_RMSE 0.1406 | test_RMSE 0.1376 \n",
      "19929\n",
      "80921\n",
      "Epoch 01204 | Loss 0.0292 | train_RMSE 0.1398 | test_RMSE 0.1372 \n",
      "19929\n",
      "80921\n",
      "Epoch 01205 | Loss 0.0293 | train_RMSE 0.1410 | test_RMSE 0.1380 \n"
     ]
    },
    {
     "name": "stderr",
     "output_type": "stream",
     "text": [
      "\r",
      " 40%|███████████████▋                       | 1207/3000 [01:52<02:45, 10.82it/s]"
     ]
    },
    {
     "name": "stdout",
     "output_type": "stream",
     "text": [
      "19929\n",
      "80921\n",
      "Epoch 01206 | Loss 0.0299 | train_RMSE 0.1412 | test_RMSE 0.1387 \n",
      "19929\n",
      "80921\n",
      "Epoch 01207 | Loss 0.0298 | train_RMSE 0.1447 | test_RMSE 0.1416 \n",
      "19929\n"
     ]
    },
    {
     "name": "stderr",
     "output_type": "stream",
     "text": [
      " 40%|███████████████▋                       | 1211/3000 [01:52<02:44, 10.85it/s]"
     ]
    },
    {
     "name": "stdout",
     "output_type": "stream",
     "text": [
      "80921\n",
      "Epoch 01208 | Loss 0.0306 | train_RMSE 0.1416 | test_RMSE 0.1392 \n",
      "19929\n",
      "80921\n",
      "Epoch 01209 | Loss 0.0304 | train_RMSE 0.1426 | test_RMSE 0.1396 \n",
      "19929\n",
      "80921\n",
      "Epoch 01210 | Loss 0.0300 | train_RMSE 0.1411 | test_RMSE 0.1386 \n"
     ]
    },
    {
     "name": "stderr",
     "output_type": "stream",
     "text": [
      "\r",
      " 40%|███████████████▊                       | 1213/3000 [01:52<02:44, 10.84it/s]"
     ]
    },
    {
     "name": "stdout",
     "output_type": "stream",
     "text": [
      "19929\n",
      "80921\n",
      "Epoch 01211 | Loss 0.0302 | train_RMSE 0.1421 | test_RMSE 0.1390 \n",
      "19929\n",
      "80921\n",
      "Epoch 01212 | Loss 0.0298 | train_RMSE 0.1395 | test_RMSE 0.1368 \n",
      "19929\n"
     ]
    },
    {
     "name": "stderr",
     "output_type": "stream",
     "text": [
      "\r",
      " 40%|███████████████▊                       | 1215/3000 [01:52<02:44, 10.84it/s]"
     ]
    },
    {
     "name": "stdout",
     "output_type": "stream",
     "text": [
      "80921\n",
      "Epoch 01213 | Loss 0.0291 | train_RMSE 0.1388 | test_RMSE 0.1359 \n",
      "19929\n",
      "80921\n",
      "Epoch 01214 | Loss 0.0296 | train_RMSE 0.1391 | test_RMSE 0.1362 \n",
      "19929\n",
      "80921\n",
      "Epoch 01215 | Loss 0.0290 | train_RMSE 0.1407 | test_RMSE 0.1379 \n"
     ]
    },
    {
     "name": "stderr",
     "output_type": "stream",
     "text": [
      "\r",
      " 41%|███████████████▊                       | 1217/3000 [01:52<02:44, 10.84it/s]"
     ]
    },
    {
     "name": "stdout",
     "output_type": "stream",
     "text": [
      "19929\n",
      "80921\n",
      "Epoch 01216 | Loss 0.0298 | train_RMSE 0.1406 | test_RMSE 0.1376 \n",
      "19929\n",
      "80921\n",
      "Epoch 01217 | Loss 0.0300 | train_RMSE 0.1403 | test_RMSE 0.1377 \n",
      "19929\n"
     ]
    },
    {
     "name": "stderr",
     "output_type": "stream",
     "text": [
      " 41%|███████████████▊                       | 1221/3000 [01:53<02:44, 10.80it/s]"
     ]
    },
    {
     "name": "stdout",
     "output_type": "stream",
     "text": [
      "80921\n",
      "Epoch 01218 | Loss 0.0299 | train_RMSE 0.1428 | test_RMSE 0.1397 \n",
      "19929\n",
      "80921\n",
      "Epoch 01219 | Loss 0.0302 | train_RMSE 0.1416 | test_RMSE 0.1391 \n",
      "19929\n",
      "80921\n",
      "Epoch 01220 | Loss 0.0300 | train_RMSE 0.1425 | test_RMSE 0.1394 \n"
     ]
    },
    {
     "name": "stderr",
     "output_type": "stream",
     "text": [
      "\r",
      " 41%|███████████████▉                       | 1223/3000 [01:53<02:44, 10.82it/s]"
     ]
    },
    {
     "name": "stdout",
     "output_type": "stream",
     "text": [
      "19929\n",
      "80921\n",
      "Epoch 01221 | Loss 0.0299 | train_RMSE 0.1391 | test_RMSE 0.1364 \n",
      "19929\n",
      "80921\n",
      "Epoch 01222 | Loss 0.0296 | train_RMSE 0.1390 | test_RMSE 0.1361 \n",
      "19929\n"
     ]
    },
    {
     "name": "stderr",
     "output_type": "stream",
     "text": [
      "\r",
      " 41%|███████████████▉                       | 1225/3000 [01:53<02:44, 10.82it/s]"
     ]
    },
    {
     "name": "stdout",
     "output_type": "stream",
     "text": [
      "80921\n",
      "Epoch 01223 | Loss 0.0293 | train_RMSE 0.1397 | test_RMSE 0.1368 \n",
      "19929\n",
      "80921\n",
      "Epoch 01224 | Loss 0.0291 | train_RMSE 0.1394 | test_RMSE 0.1366 \n",
      "19929\n",
      "80921\n",
      "Epoch 01225 | Loss 0.0291 | train_RMSE 0.1387 | test_RMSE 0.1359 \n"
     ]
    },
    {
     "name": "stderr",
     "output_type": "stream",
     "text": [
      "\r",
      " 41%|███████████████▉                       | 1227/3000 [01:53<02:43, 10.81it/s]"
     ]
    },
    {
     "name": "stdout",
     "output_type": "stream",
     "text": [
      "19929\n",
      "80921\n",
      "Epoch 01226 | Loss 0.0293 | train_RMSE 0.1385 | test_RMSE 0.1359 \n",
      "19929\n",
      "80921\n",
      "Epoch 01227 | Loss 0.0291 | train_RMSE 0.1404 | test_RMSE 0.1374 \n",
      "19929\n"
     ]
    },
    {
     "name": "stderr",
     "output_type": "stream",
     "text": [
      " 41%|████████████████                       | 1231/3000 [01:54<02:43, 10.83it/s]"
     ]
    },
    {
     "name": "stdout",
     "output_type": "stream",
     "text": [
      "80921\n",
      "Epoch 01228 | Loss 0.0295 | train_RMSE 0.1399 | test_RMSE 0.1370 \n",
      "19929\n",
      "80921\n",
      "Epoch 01229 | Loss 0.0291 | train_RMSE 0.1386 | test_RMSE 0.1357 \n",
      "19929\n",
      "80921\n",
      "Epoch 01230 | Loss 0.0290 | train_RMSE 0.1383 | test_RMSE 0.1354 \n"
     ]
    },
    {
     "name": "stderr",
     "output_type": "stream",
     "text": [
      "\r",
      " 41%|████████████████                       | 1233/3000 [01:54<02:43, 10.83it/s]"
     ]
    },
    {
     "name": "stdout",
     "output_type": "stream",
     "text": [
      "19929\n",
      "80921\n",
      "Epoch 01231 | Loss 0.0292 | train_RMSE 0.1396 | test_RMSE 0.1368 \n",
      "19929\n",
      "80921\n",
      "Epoch 01232 | Loss 0.0294 | train_RMSE 0.1422 | test_RMSE 0.1391 \n",
      "19929\n"
     ]
    },
    {
     "name": "stderr",
     "output_type": "stream",
     "text": [
      "\r",
      " 41%|████████████████                       | 1235/3000 [01:54<02:42, 10.84it/s]"
     ]
    },
    {
     "name": "stdout",
     "output_type": "stream",
     "text": [
      "80921\n",
      "Epoch 01233 | Loss 0.0296 | train_RMSE 0.1399 | test_RMSE 0.1373 \n",
      "19929\n",
      "80921\n",
      "Epoch 01234 | Loss 0.0296 | train_RMSE 0.1410 | test_RMSE 0.1380 \n",
      "19929\n",
      "80921\n",
      "Epoch 01235 | Loss 0.0296 | train_RMSE 0.1400 | test_RMSE 0.1373 \n"
     ]
    },
    {
     "name": "stderr",
     "output_type": "stream",
     "text": [
      "\r",
      " 41%|████████████████                       | 1237/3000 [01:54<02:42, 10.82it/s]"
     ]
    },
    {
     "name": "stdout",
     "output_type": "stream",
     "text": [
      "19929\n",
      "80921\n",
      "Epoch 01236 | Loss 0.0295 | train_RMSE 0.1411 | test_RMSE 0.1381 \n",
      "19929\n",
      "80921\n",
      "Epoch 01237 | Loss 0.0295 | train_RMSE 0.1388 | test_RMSE 0.1359 \n",
      "19929\n"
     ]
    },
    {
     "name": "stderr",
     "output_type": "stream",
     "text": [
      " 41%|████████████████▏                      | 1241/3000 [01:55<02:42, 10.80it/s]"
     ]
    },
    {
     "name": "stdout",
     "output_type": "stream",
     "text": [
      "80921\n",
      "Epoch 01238 | Loss 0.0290 | train_RMSE 0.1385 | test_RMSE 0.1359 \n",
      "19929\n",
      "80921\n",
      "Epoch 01239 | Loss 0.0296 | train_RMSE 0.1413 | test_RMSE 0.1383 \n",
      "19929\n",
      "80921\n",
      "Epoch 01240 | Loss 0.0294 | train_RMSE 0.1408 | test_RMSE 0.1382 \n"
     ]
    },
    {
     "name": "stderr",
     "output_type": "stream",
     "text": [
      "\r",
      " 41%|████████████████▏                      | 1243/3000 [01:55<02:42, 10.81it/s]"
     ]
    },
    {
     "name": "stdout",
     "output_type": "stream",
     "text": [
      "19929\n",
      "80921\n",
      "Epoch 01241 | Loss 0.0294 | train_RMSE 0.1402 | test_RMSE 0.1372 \n",
      "19929\n",
      "80921\n",
      "Epoch 01242 | Loss 0.0295 | train_RMSE 0.1385 | test_RMSE 0.1358 \n",
      "19929\n"
     ]
    },
    {
     "name": "stderr",
     "output_type": "stream",
     "text": [
      "\r",
      " 42%|████████████████▏                      | 1245/3000 [01:55<02:42, 10.82it/s]"
     ]
    },
    {
     "name": "stdout",
     "output_type": "stream",
     "text": [
      "80921\n",
      "Epoch 01243 | Loss 0.0290 | train_RMSE 0.1394 | test_RMSE 0.1365 \n",
      "19929\n",
      "80921\n",
      "Epoch 01244 | Loss 0.0292 | train_RMSE 0.1393 | test_RMSE 0.1363 \n",
      "19929\n",
      "80921\n",
      "Epoch 01245 | Loss 0.0289 | train_RMSE 0.1384 | test_RMSE 0.1356 \n"
     ]
    },
    {
     "name": "stderr",
     "output_type": "stream",
     "text": [
      "\r",
      " 42%|████████████████▏                      | 1247/3000 [01:55<02:42, 10.79it/s]"
     ]
    },
    {
     "name": "stdout",
     "output_type": "stream",
     "text": [
      "19929\n",
      "80921\n",
      "Epoch 01246 | Loss 0.0292 | train_RMSE 0.1394 | test_RMSE 0.1364 \n",
      "19929\n",
      "80921\n",
      "Epoch 01247 | Loss 0.0295 | train_RMSE 0.1398 | test_RMSE 0.1370 \n",
      "19929\n"
     ]
    },
    {
     "name": "stderr",
     "output_type": "stream",
     "text": [
      " 42%|████████████████▎                      | 1251/3000 [01:56<02:41, 10.82it/s]"
     ]
    },
    {
     "name": "stdout",
     "output_type": "stream",
     "text": [
      "80921\n",
      "Epoch 01248 | Loss 0.0291 | train_RMSE 0.1405 | test_RMSE 0.1375 \n",
      "19929\n",
      "80921\n",
      "Epoch 01249 | Loss 0.0292 | train_RMSE 0.1384 | test_RMSE 0.1357 \n",
      "19929\n",
      "80921\n",
      "Epoch 01250 | Loss 0.0291 | train_RMSE 0.1387 | test_RMSE 0.1358 \n"
     ]
    },
    {
     "name": "stderr",
     "output_type": "stream",
     "text": [
      "\r",
      " 42%|████████████████▎                      | 1253/3000 [01:56<02:41, 10.81it/s]"
     ]
    },
    {
     "name": "stdout",
     "output_type": "stream",
     "text": [
      "19929\n",
      "80921\n",
      "Epoch 01251 | Loss 0.0290 | train_RMSE 0.1396 | test_RMSE 0.1368 \n",
      "19929\n",
      "80921\n",
      "Epoch 01252 | Loss 0.0292 | train_RMSE 0.1403 | test_RMSE 0.1373 \n",
      "19929\n"
     ]
    },
    {
     "name": "stderr",
     "output_type": "stream",
     "text": [
      "\r",
      " 42%|████████████████▎                      | 1255/3000 [01:56<02:41, 10.80it/s]"
     ]
    },
    {
     "name": "stdout",
     "output_type": "stream",
     "text": [
      "80921\n",
      "Epoch 01253 | Loss 0.0292 | train_RMSE 0.1385 | test_RMSE 0.1358 \n",
      "19929\n",
      "80921\n",
      "Epoch 01254 | Loss 0.0294 | train_RMSE 0.1387 | test_RMSE 0.1358 \n",
      "19929\n",
      "80921\n",
      "Epoch 01255 | Loss 0.0295 | train_RMSE 0.1394 | test_RMSE 0.1366 \n"
     ]
    },
    {
     "name": "stderr",
     "output_type": "stream",
     "text": [
      "\r",
      " 42%|████████████████▎                      | 1257/3000 [01:56<02:41, 10.80it/s]"
     ]
    },
    {
     "name": "stdout",
     "output_type": "stream",
     "text": [
      "19929\n",
      "80921\n",
      "Epoch 01256 | Loss 0.0291 | train_RMSE 0.1395 | test_RMSE 0.1366 \n",
      "19929\n",
      "80921\n",
      "Epoch 01257 | Loss 0.0291 | train_RMSE 0.1384 | test_RMSE 0.1357 \n",
      "19929\n"
     ]
    },
    {
     "name": "stderr",
     "output_type": "stream",
     "text": [
      " 42%|████████████████▍                      | 1261/3000 [01:57<02:40, 10.81it/s]"
     ]
    },
    {
     "name": "stdout",
     "output_type": "stream",
     "text": [
      "80921\n",
      "Epoch 01258 | Loss 0.0292 | train_RMSE 0.1384 | test_RMSE 0.1356 \n",
      "19929\n",
      "80921\n",
      "Epoch 01259 | Loss 0.0291 | train_RMSE 0.1389 | test_RMSE 0.1361 \n",
      "19929\n",
      "80921\n",
      "Epoch 01260 | Loss 0.0290 | train_RMSE 0.1390 | test_RMSE 0.1362 \n"
     ]
    },
    {
     "name": "stderr",
     "output_type": "stream",
     "text": [
      "\r",
      " 42%|████████████████▍                      | 1263/3000 [01:57<02:40, 10.80it/s]"
     ]
    },
    {
     "name": "stdout",
     "output_type": "stream",
     "text": [
      "19929\n",
      "80921\n",
      "Epoch 01261 | Loss 0.0290 | train_RMSE 0.1386 | test_RMSE 0.1358 \n",
      "19929\n",
      "80921\n",
      "Epoch 01262 | Loss 0.0292 | train_RMSE 0.1385 | test_RMSE 0.1357 \n",
      "19929\n"
     ]
    },
    {
     "name": "stderr",
     "output_type": "stream",
     "text": [
      "\r",
      " 42%|████████████████▍                      | 1265/3000 [01:57<02:40, 10.81it/s]"
     ]
    },
    {
     "name": "stdout",
     "output_type": "stream",
     "text": [
      "80921\n",
      "Epoch 01263 | Loss 0.0293 | train_RMSE 0.1387 | test_RMSE 0.1359 \n",
      "19929\n",
      "80921\n",
      "Epoch 01264 | Loss 0.0292 | train_RMSE 0.1402 | test_RMSE 0.1372 \n",
      "19929\n",
      "80921\n",
      "Epoch 01265 | Loss 0.0293 | train_RMSE 0.1396 | test_RMSE 0.1369 \n"
     ]
    },
    {
     "name": "stderr",
     "output_type": "stream",
     "text": [
      "\r",
      " 42%|████████████████▍                      | 1267/3000 [01:57<02:40, 10.80it/s]"
     ]
    },
    {
     "name": "stdout",
     "output_type": "stream",
     "text": [
      "19929\n",
      "80921\n",
      "Epoch 01266 | Loss 0.0295 | train_RMSE 0.1411 | test_RMSE 0.1381 \n",
      "19929\n",
      "80921\n",
      "Epoch 01267 | Loss 0.0296 | train_RMSE 0.1413 | test_RMSE 0.1387 \n",
      "19929\n"
     ]
    },
    {
     "name": "stderr",
     "output_type": "stream",
     "text": [
      " 42%|████████████████▌                      | 1271/3000 [01:57<02:39, 10.81it/s]"
     ]
    },
    {
     "name": "stdout",
     "output_type": "stream",
     "text": [
      "80921\n",
      "Epoch 01268 | Loss 0.0299 | train_RMSE 0.1437 | test_RMSE 0.1406 \n",
      "19929\n",
      "80921\n",
      "Epoch 01269 | Loss 0.0302 | train_RMSE 0.1410 | test_RMSE 0.1385 \n",
      "19929\n",
      "80921\n",
      "Epoch 01270 | Loss 0.0299 | train_RMSE 0.1418 | test_RMSE 0.1387 \n"
     ]
    },
    {
     "name": "stderr",
     "output_type": "stream",
     "text": [
      "\r",
      " 42%|████████████████▌                      | 1273/3000 [01:58<02:39, 10.81it/s]"
     ]
    },
    {
     "name": "stdout",
     "output_type": "stream",
     "text": [
      "19929\n",
      "80921\n",
      "Epoch 01271 | Loss 0.0295 | train_RMSE 0.1396 | test_RMSE 0.1370 \n",
      "19929\n",
      "80921\n",
      "Epoch 01272 | Loss 0.0292 | train_RMSE 0.1387 | test_RMSE 0.1359 \n",
      "19929\n"
     ]
    },
    {
     "name": "stderr",
     "output_type": "stream",
     "text": [
      "\r",
      " 42%|████████████████▌                      | 1275/3000 [01:58<02:39, 10.81it/s]"
     ]
    },
    {
     "name": "stdout",
     "output_type": "stream",
     "text": [
      "80921\n",
      "Epoch 01273 | Loss 0.0294 | train_RMSE 0.1382 | test_RMSE 0.1354 \n",
      "19929\n",
      "80921\n",
      "Epoch 01274 | Loss 0.0290 | train_RMSE 0.1390 | test_RMSE 0.1363 \n",
      "19929\n",
      "80921\n",
      "Epoch 01275 | Loss 0.0292 | train_RMSE 0.1403 | test_RMSE 0.1373 \n"
     ]
    },
    {
     "name": "stderr",
     "output_type": "stream",
     "text": [
      "\r",
      " 43%|████████████████▌                      | 1277/3000 [01:58<02:39, 10.80it/s]"
     ]
    },
    {
     "name": "stdout",
     "output_type": "stream",
     "text": [
      "19929\n",
      "80921\n",
      "Epoch 01276 | Loss 0.0290 | train_RMSE 0.1396 | test_RMSE 0.1370 \n",
      "19929\n",
      "80921\n",
      "Epoch 01277 | Loss 0.0294 | train_RMSE 0.1413 | test_RMSE 0.1383 \n",
      "19929\n"
     ]
    },
    {
     "name": "stderr",
     "output_type": "stream",
     "text": [
      " 43%|████████████████▋                      | 1281/3000 [01:58<02:39, 10.81it/s]"
     ]
    },
    {
     "name": "stdout",
     "output_type": "stream",
     "text": [
      "80921\n",
      "Epoch 01278 | Loss 0.0298 | train_RMSE 0.1404 | test_RMSE 0.1379 \n",
      "19929\n",
      "80921\n",
      "Epoch 01279 | Loss 0.0295 | train_RMSE 0.1414 | test_RMSE 0.1383 \n",
      "19929\n",
      "80921\n",
      "Epoch 01280 | Loss 0.0297 | train_RMSE 0.1389 | test_RMSE 0.1363 \n"
     ]
    },
    {
     "name": "stderr",
     "output_type": "stream",
     "text": [
      "\r",
      " 43%|████████████████▋                      | 1283/3000 [01:59<02:39, 10.80it/s]"
     ]
    },
    {
     "name": "stdout",
     "output_type": "stream",
     "text": [
      "19929\n",
      "80921\n",
      "Epoch 01281 | Loss 0.0293 | train_RMSE 0.1390 | test_RMSE 0.1361 \n",
      "19929\n",
      "80921\n",
      "Epoch 01282 | Loss 0.0291 | train_RMSE 0.1388 | test_RMSE 0.1360 \n",
      "19929\n"
     ]
    },
    {
     "name": "stderr",
     "output_type": "stream",
     "text": [
      "\r",
      " 43%|████████████████▋                      | 1285/3000 [01:59<02:38, 10.79it/s]"
     ]
    },
    {
     "name": "stdout",
     "output_type": "stream",
     "text": [
      "80921\n",
      "Epoch 01283 | Loss 0.0290 | train_RMSE 0.1391 | test_RMSE 0.1363 \n",
      "19929\n",
      "80921\n",
      "Epoch 01284 | Loss 0.0291 | train_RMSE 0.1393 | test_RMSE 0.1363 \n",
      "19929\n",
      "80921\n",
      "Epoch 01285 | Loss 0.0290 | train_RMSE 0.1384 | test_RMSE 0.1356 \n"
     ]
    },
    {
     "name": "stderr",
     "output_type": "stream",
     "text": [
      "\r",
      " 43%|████████████████▋                      | 1287/3000 [01:59<02:38, 10.79it/s]"
     ]
    },
    {
     "name": "stdout",
     "output_type": "stream",
     "text": [
      "19929\n",
      "80921\n",
      "Epoch 01286 | Loss 0.0293 | train_RMSE 0.1391 | test_RMSE 0.1362 \n",
      "19929\n",
      "80921\n",
      "Epoch 01287 | Loss 0.0289 | train_RMSE 0.1392 | test_RMSE 0.1364 \n",
      "19929\n"
     ]
    },
    {
     "name": "stderr",
     "output_type": "stream",
     "text": [
      " 43%|████████████████▊                      | 1291/3000 [01:59<02:38, 10.80it/s]"
     ]
    },
    {
     "name": "stdout",
     "output_type": "stream",
     "text": [
      "80921\n",
      "Epoch 01288 | Loss 0.0292 | train_RMSE 0.1397 | test_RMSE 0.1367 \n",
      "19929\n",
      "80921\n",
      "Epoch 01289 | Loss 0.0290 | train_RMSE 0.1385 | test_RMSE 0.1357 \n",
      "19929\n",
      "80921\n",
      "Epoch 01290 | Loss 0.0290 | train_RMSE 0.1384 | test_RMSE 0.1355 \n"
     ]
    },
    {
     "name": "stderr",
     "output_type": "stream",
     "text": [
      "\r",
      " 43%|████████████████▊                      | 1293/3000 [01:59<02:38, 10.77it/s]"
     ]
    },
    {
     "name": "stdout",
     "output_type": "stream",
     "text": [
      "19929\n",
      "80921\n",
      "Epoch 01291 | Loss 0.0288 | train_RMSE 0.1393 | test_RMSE 0.1364 \n",
      "19929\n",
      "80921\n",
      "Epoch 01292 | Loss 0.0292 | train_RMSE 0.1387 | test_RMSE 0.1359 \n",
      "19929\n"
     ]
    },
    {
     "name": "stderr",
     "output_type": "stream",
     "text": [
      "\r",
      " 43%|████████████████▊                      | 1295/3000 [02:00<02:38, 10.78it/s]"
     ]
    },
    {
     "name": "stdout",
     "output_type": "stream",
     "text": [
      "80921\n",
      "Epoch 01293 | Loss 0.0289 | train_RMSE 0.1388 | test_RMSE 0.1358 \n",
      "19929\n",
      "80921\n",
      "Epoch 01294 | Loss 0.0288 | train_RMSE 0.1387 | test_RMSE 0.1360 \n",
      "19929\n",
      "80921\n",
      "Epoch 01295 | Loss 0.0292 | train_RMSE 0.1400 | test_RMSE 0.1369 \n"
     ]
    },
    {
     "name": "stderr",
     "output_type": "stream",
     "text": [
      "\r",
      " 43%|████████████████▊                      | 1297/3000 [02:00<02:37, 10.78it/s]"
     ]
    },
    {
     "name": "stdout",
     "output_type": "stream",
     "text": [
      "19929\n",
      "80921\n",
      "Epoch 01296 | Loss 0.0291 | train_RMSE 0.1385 | test_RMSE 0.1358 \n",
      "19929\n",
      "80921\n",
      "Epoch 01297 | Loss 0.0294 | train_RMSE 0.1396 | test_RMSE 0.1366 \n",
      "19929\n"
     ]
    },
    {
     "name": "stderr",
     "output_type": "stream",
     "text": [
      " 43%|████████████████▉                      | 1301/3000 [02:00<02:37, 10.80it/s]"
     ]
    },
    {
     "name": "stdout",
     "output_type": "stream",
     "text": [
      "80921\n",
      "Epoch 01298 | Loss 0.0293 | train_RMSE 0.1400 | test_RMSE 0.1373 \n",
      "19929\n",
      "80921\n",
      "Epoch 01299 | Loss 0.0294 | train_RMSE 0.1402 | test_RMSE 0.1371 \n",
      "19929\n",
      "80921\n",
      "Epoch 01300 | Loss 0.0290 | train_RMSE 0.1384 | test_RMSE 0.1357 \n"
     ]
    },
    {
     "name": "stderr",
     "output_type": "stream",
     "text": [
      "\r",
      " 43%|████████████████▉                      | 1303/3000 [02:00<02:36, 10.82it/s]"
     ]
    },
    {
     "name": "stdout",
     "output_type": "stream",
     "text": [
      "19929\n",
      "80921\n",
      "Epoch 01301 | Loss 0.0292 | train_RMSE 0.1393 | test_RMSE 0.1363 \n",
      "19929\n",
      "80921\n",
      "Epoch 01302 | Loss 0.0288 | train_RMSE 0.1395 | test_RMSE 0.1366 \n",
      "19929\n"
     ]
    },
    {
     "name": "stderr",
     "output_type": "stream",
     "text": [
      "\r",
      " 44%|████████████████▉                      | 1305/3000 [02:01<02:36, 10.81it/s]"
     ]
    },
    {
     "name": "stdout",
     "output_type": "stream",
     "text": [
      "80921\n",
      "Epoch 01303 | Loss 0.0290 | train_RMSE 0.1384 | test_RMSE 0.1356 \n",
      "19929\n",
      "80921\n",
      "Epoch 01304 | Loss 0.0289 | train_RMSE 0.1385 | test_RMSE 0.1355 \n",
      "19929\n",
      "80921\n",
      "Epoch 01305 | Loss 0.0291 | train_RMSE 0.1388 | test_RMSE 0.1360 \n"
     ]
    },
    {
     "name": "stderr",
     "output_type": "stream",
     "text": [
      "\r",
      " 44%|████████████████▉                      | 1307/3000 [02:01<02:36, 10.80it/s]"
     ]
    },
    {
     "name": "stdout",
     "output_type": "stream",
     "text": [
      "19929\n",
      "80921\n",
      "Epoch 01306 | Loss 0.0288 | train_RMSE 0.1400 | test_RMSE 0.1370 \n",
      "19929\n",
      "80921\n",
      "Epoch 01307 | Loss 0.0290 | train_RMSE 0.1387 | test_RMSE 0.1360 \n",
      "19929\n"
     ]
    },
    {
     "name": "stderr",
     "output_type": "stream",
     "text": [
      " 44%|█████████████████                      | 1311/3000 [02:01<02:36, 10.82it/s]"
     ]
    },
    {
     "name": "stdout",
     "output_type": "stream",
     "text": [
      "80921\n",
      "Epoch 01308 | Loss 0.0293 | train_RMSE 0.1399 | test_RMSE 0.1368 \n",
      "19929\n",
      "80921\n",
      "Epoch 01309 | Loss 0.0294 | train_RMSE 0.1399 | test_RMSE 0.1373 \n",
      "19929\n",
      "80921\n",
      "Epoch 01310 | Loss 0.0294 | train_RMSE 0.1424 | test_RMSE 0.1392 \n"
     ]
    },
    {
     "name": "stderr",
     "output_type": "stream",
     "text": [
      "\r",
      " 44%|█████████████████                      | 1313/3000 [02:01<02:36, 10.81it/s]"
     ]
    },
    {
     "name": "stdout",
     "output_type": "stream",
     "text": [
      "19929\n",
      "80921\n",
      "Epoch 01311 | Loss 0.0298 | train_RMSE 0.1414 | test_RMSE 0.1389 \n",
      "19929\n",
      "80921\n",
      "Epoch 01312 | Loss 0.0299 | train_RMSE 0.1436 | test_RMSE 0.1404 \n",
      "19929\n"
     ]
    },
    {
     "name": "stderr",
     "output_type": "stream",
     "text": [
      "\r",
      " 44%|█████████████████                      | 1315/3000 [02:02<02:36, 10.80it/s]"
     ]
    },
    {
     "name": "stdout",
     "output_type": "stream",
     "text": [
      "80921\n",
      "Epoch 01313 | Loss 0.0302 | train_RMSE 0.1412 | test_RMSE 0.1387 \n",
      "19929\n",
      "80921\n",
      "Epoch 01314 | Loss 0.0300 | train_RMSE 0.1421 | test_RMSE 0.1389 \n",
      "19929\n",
      "80921\n",
      "Epoch 01315 | Loss 0.0297 | train_RMSE 0.1389 | test_RMSE 0.1362 \n"
     ]
    },
    {
     "name": "stderr",
     "output_type": "stream",
     "text": [
      "\r",
      " 44%|█████████████████                      | 1317/3000 [02:02<02:35, 10.81it/s]"
     ]
    },
    {
     "name": "stdout",
     "output_type": "stream",
     "text": [
      "19929\n",
      "80921\n",
      "Epoch 01316 | Loss 0.0292 | train_RMSE 0.1388 | test_RMSE 0.1358 \n",
      "19929\n",
      "80921\n",
      "Epoch 01317 | Loss 0.0291 | train_RMSE 0.1394 | test_RMSE 0.1364 \n",
      "19929\n"
     ]
    },
    {
     "name": "stderr",
     "output_type": "stream",
     "text": [
      " 44%|█████████████████▏                     | 1321/3000 [02:02<02:35, 10.81it/s]"
     ]
    },
    {
     "name": "stdout",
     "output_type": "stream",
     "text": [
      "80921\n",
      "Epoch 01318 | Loss 0.0285 | train_RMSE 0.1387 | test_RMSE 0.1359 \n",
      "19929\n",
      "80921\n",
      "Epoch 01319 | Loss 0.0290 | train_RMSE 0.1405 | test_RMSE 0.1374 \n",
      "19929\n",
      "80921\n",
      "Epoch 01320 | Loss 0.0294 | train_RMSE 0.1399 | test_RMSE 0.1373 \n"
     ]
    },
    {
     "name": "stderr",
     "output_type": "stream",
     "text": [
      "\r",
      " 44%|█████████████████▏                     | 1323/3000 [02:02<02:35, 10.81it/s]"
     ]
    },
    {
     "name": "stdout",
     "output_type": "stream",
     "text": [
      "19929\n",
      "80921\n",
      "Epoch 01321 | Loss 0.0297 | train_RMSE 0.1423 | test_RMSE 0.1392 \n",
      "19929\n",
      "80921\n",
      "Epoch 01322 | Loss 0.0298 | train_RMSE 0.1404 | test_RMSE 0.1378 \n",
      "19929\n"
     ]
    },
    {
     "name": "stderr",
     "output_type": "stream",
     "text": [
      "\r",
      " 44%|█████████████████▏                     | 1325/3000 [02:02<02:34, 10.81it/s]"
     ]
    },
    {
     "name": "stdout",
     "output_type": "stream",
     "text": [
      "80921\n",
      "Epoch 01323 | Loss 0.0293 | train_RMSE 0.1394 | test_RMSE 0.1364 \n",
      "19929\n",
      "80921\n",
      "Epoch 01324 | Loss 0.0292 | train_RMSE 0.1380 | test_RMSE 0.1352 \n",
      "19929\n",
      "80921\n",
      "Epoch 01325 | Loss 0.0291 | train_RMSE 0.1388 | test_RMSE 0.1360 \n"
     ]
    },
    {
     "name": "stderr",
     "output_type": "stream",
     "text": [
      "\r",
      " 44%|█████████████████▎                     | 1327/3000 [02:03<02:34, 10.82it/s]"
     ]
    },
    {
     "name": "stdout",
     "output_type": "stream",
     "text": [
      "19929\n",
      "80921\n",
      "Epoch 01326 | Loss 0.0290 | train_RMSE 0.1406 | test_RMSE 0.1375 \n",
      "19929\n",
      "80921\n",
      "Epoch 01327 | Loss 0.0291 | train_RMSE 0.1393 | test_RMSE 0.1367 \n",
      "19929\n"
     ]
    },
    {
     "name": "stderr",
     "output_type": "stream",
     "text": [
      " 44%|█████████████████▎                     | 1331/3000 [02:03<02:34, 10.82it/s]"
     ]
    },
    {
     "name": "stdout",
     "output_type": "stream",
     "text": [
      "80921\n",
      "Epoch 01328 | Loss 0.0295 | train_RMSE 0.1408 | test_RMSE 0.1377 \n",
      "19929\n",
      "80921\n",
      "Epoch 01329 | Loss 0.0293 | train_RMSE 0.1402 | test_RMSE 0.1375 \n",
      "19929\n",
      "80921\n",
      "Epoch 01330 | Loss 0.0292 | train_RMSE 0.1391 | test_RMSE 0.1361 \n"
     ]
    },
    {
     "name": "stderr",
     "output_type": "stream",
     "text": [
      "\r",
      " 44%|█████████████████▎                     | 1333/3000 [02:03<02:34, 10.82it/s]"
     ]
    },
    {
     "name": "stdout",
     "output_type": "stream",
     "text": [
      "19929\n",
      "80921\n",
      "Epoch 01331 | Loss 0.0289 | train_RMSE 0.1381 | test_RMSE 0.1352 \n",
      "19929\n",
      "80921\n",
      "Epoch 01332 | Loss 0.0288 | train_RMSE 0.1387 | test_RMSE 0.1359 \n",
      "19929\n"
     ]
    },
    {
     "name": "stderr",
     "output_type": "stream",
     "text": [
      "\r",
      " 44%|█████████████████▎                     | 1335/3000 [02:03<02:33, 10.82it/s]"
     ]
    },
    {
     "name": "stdout",
     "output_type": "stream",
     "text": [
      "80921\n",
      "Epoch 01333 | Loss 0.0288 | train_RMSE 0.1396 | test_RMSE 0.1366 \n",
      "19929\n",
      "80921\n",
      "Epoch 01334 | Loss 0.0290 | train_RMSE 0.1386 | test_RMSE 0.1359 \n",
      "19929\n",
      "80921\n",
      "Epoch 01335 | Loss 0.0294 | train_RMSE 0.1395 | test_RMSE 0.1364 \n"
     ]
    },
    {
     "name": "stderr",
     "output_type": "stream",
     "text": [
      "\r",
      " 45%|█████████████████▍                     | 1337/3000 [02:04<02:33, 10.82it/s]"
     ]
    },
    {
     "name": "stdout",
     "output_type": "stream",
     "text": [
      "19929\n",
      "80921\n",
      "Epoch 01336 | Loss 0.0293 | train_RMSE 0.1402 | test_RMSE 0.1374 \n",
      "19929\n",
      "80921\n",
      "Epoch 01337 | Loss 0.0292 | train_RMSE 0.1409 | test_RMSE 0.1378 \n",
      "19929\n"
     ]
    },
    {
     "name": "stderr",
     "output_type": "stream",
     "text": [
      " 45%|█████████████████▍                     | 1341/3000 [02:04<02:33, 10.84it/s]"
     ]
    },
    {
     "name": "stdout",
     "output_type": "stream",
     "text": [
      "80921\n",
      "Epoch 01338 | Loss 0.0294 | train_RMSE 0.1388 | test_RMSE 0.1361 \n",
      "19929\n",
      "80921\n",
      "Epoch 01339 | Loss 0.0295 | train_RMSE 0.1396 | test_RMSE 0.1365 \n",
      "19929\n",
      "80921\n",
      "Epoch 01340 | Loss 0.0294 | train_RMSE 0.1398 | test_RMSE 0.1370 \n"
     ]
    },
    {
     "name": "stderr",
     "output_type": "stream",
     "text": [
      "\r",
      " 45%|█████████████████▍                     | 1343/3000 [02:04<02:33, 10.83it/s]"
     ]
    },
    {
     "name": "stdout",
     "output_type": "stream",
     "text": [
      "19929\n",
      "80921\n",
      "Epoch 01341 | Loss 0.0289 | train_RMSE 0.1397 | test_RMSE 0.1367 \n",
      "19929\n",
      "80921\n",
      "Epoch 01342 | Loss 0.0287 | train_RMSE 0.1379 | test_RMSE 0.1351 \n",
      "19929\n"
     ]
    },
    {
     "name": "stderr",
     "output_type": "stream",
     "text": [
      "\r",
      " 45%|█████████████████▍                     | 1345/3000 [02:04<02:32, 10.82it/s]"
     ]
    },
    {
     "name": "stdout",
     "output_type": "stream",
     "text": [
      "80921\n",
      "Epoch 01343 | Loss 0.0285 | train_RMSE 0.1380 | test_RMSE 0.1352 \n",
      "19929\n",
      "80921\n",
      "Epoch 01344 | Loss 0.0287 | train_RMSE 0.1405 | test_RMSE 0.1374 \n",
      "19929\n",
      "80921\n",
      "Epoch 01345 | Loss 0.0290 | train_RMSE 0.1387 | test_RMSE 0.1359 \n"
     ]
    },
    {
     "name": "stderr",
     "output_type": "stream",
     "text": [
      "\r",
      " 45%|█████████████████▌                     | 1347/3000 [02:04<02:32, 10.82it/s]"
     ]
    },
    {
     "name": "stdout",
     "output_type": "stream",
     "text": [
      "19929\n",
      "80921\n",
      "Epoch 01346 | Loss 0.0288 | train_RMSE 0.1386 | test_RMSE 0.1356 \n",
      "19929\n",
      "80921\n",
      "Epoch 01347 | Loss 0.0287 | train_RMSE 0.1389 | test_RMSE 0.1361 \n",
      "19929\n"
     ]
    },
    {
     "name": "stderr",
     "output_type": "stream",
     "text": [
      " 45%|█████████████████▌                     | 1351/3000 [02:05<02:32, 10.84it/s]"
     ]
    },
    {
     "name": "stdout",
     "output_type": "stream",
     "text": [
      "80921\n",
      "Epoch 01348 | Loss 0.0291 | train_RMSE 0.1398 | test_RMSE 0.1367 \n",
      "19929\n",
      "80921\n",
      "Epoch 01349 | Loss 0.0289 | train_RMSE 0.1383 | test_RMSE 0.1354 \n",
      "19929\n",
      "80921\n",
      "Epoch 01350 | Loss 0.0287 | train_RMSE 0.1381 | test_RMSE 0.1352 \n"
     ]
    },
    {
     "name": "stderr",
     "output_type": "stream",
     "text": [
      "\r",
      " 45%|█████████████████▌                     | 1353/3000 [02:05<02:32, 10.83it/s]"
     ]
    },
    {
     "name": "stdout",
     "output_type": "stream",
     "text": [
      "19929\n",
      "80921\n",
      "Epoch 01351 | Loss 0.0286 | train_RMSE 0.1384 | test_RMSE 0.1355 \n",
      "19929\n",
      "80921\n",
      "Epoch 01352 | Loss 0.0288 | train_RMSE 0.1389 | test_RMSE 0.1361 \n",
      "19929\n"
     ]
    },
    {
     "name": "stderr",
     "output_type": "stream",
     "text": [
      "\r",
      " 45%|█████████████████▌                     | 1355/3000 [02:05<02:31, 10.82it/s]"
     ]
    },
    {
     "name": "stdout",
     "output_type": "stream",
     "text": [
      "80921\n",
      "Epoch 01353 | Loss 0.0289 | train_RMSE 0.1389 | test_RMSE 0.1360 \n",
      "19929\n",
      "80921\n",
      "Epoch 01354 | Loss 0.0288 | train_RMSE 0.1384 | test_RMSE 0.1357 \n",
      "19929\n",
      "80921\n",
      "Epoch 01355 | Loss 0.0288 | train_RMSE 0.1398 | test_RMSE 0.1368 \n"
     ]
    },
    {
     "name": "stderr",
     "output_type": "stream",
     "text": [
      "\r",
      " 45%|█████████████████▋                     | 1357/3000 [02:05<02:31, 10.82it/s]"
     ]
    },
    {
     "name": "stdout",
     "output_type": "stream",
     "text": [
      "19929\n",
      "80921\n",
      "Epoch 01356 | Loss 0.0287 | train_RMSE 0.1388 | test_RMSE 0.1360 \n",
      "19929\n",
      "80921\n",
      "Epoch 01357 | Loss 0.0293 | train_RMSE 0.1388 | test_RMSE 0.1359 \n",
      "19929\n"
     ]
    },
    {
     "name": "stderr",
     "output_type": "stream",
     "text": [
      " 45%|█████████████████▋                     | 1361/3000 [02:06<02:30, 10.86it/s]"
     ]
    },
    {
     "name": "stdout",
     "output_type": "stream",
     "text": [
      "80921\n",
      "Epoch 01358 | Loss 0.0291 | train_RMSE 0.1382 | test_RMSE 0.1354 \n",
      "19929\n",
      "80921\n",
      "Epoch 01359 | Loss 0.0288 | train_RMSE 0.1383 | test_RMSE 0.1354 \n",
      "19929\n",
      "80921\n",
      "Epoch 01360 | Loss 0.0288 | train_RMSE 0.1386 | test_RMSE 0.1358 \n"
     ]
    },
    {
     "name": "stderr",
     "output_type": "stream",
     "text": [
      "\r",
      " 45%|█████████████████▋                     | 1363/3000 [02:06<02:30, 10.90it/s]"
     ]
    },
    {
     "name": "stdout",
     "output_type": "stream",
     "text": [
      "19929\n",
      "80921\n",
      "Epoch 01361 | Loss 0.0289 | train_RMSE 0.1385 | test_RMSE 0.1355 \n",
      "19929\n",
      "80921\n",
      "Epoch 01362 | Loss 0.0289 | train_RMSE 0.1382 | test_RMSE 0.1354 \n",
      "19929\n"
     ]
    },
    {
     "name": "stderr",
     "output_type": "stream",
     "text": [
      "\r",
      " 46%|█████████████████▋                     | 1365/3000 [02:06<02:30, 10.90it/s]"
     ]
    },
    {
     "name": "stdout",
     "output_type": "stream",
     "text": [
      "80921\n",
      "Epoch 01363 | Loss 0.0290 | train_RMSE 0.1387 | test_RMSE 0.1357 \n",
      "19929\n",
      "80921\n",
      "Epoch 01364 | Loss 0.0290 | train_RMSE 0.1382 | test_RMSE 0.1354 \n",
      "19929\n",
      "80921\n",
      "Epoch 01365 | Loss 0.0287 | train_RMSE 0.1387 | test_RMSE 0.1358 \n"
     ]
    },
    {
     "name": "stderr",
     "output_type": "stream",
     "text": [
      "\r",
      " 46%|█████████████████▊                     | 1367/3000 [02:06<02:29, 10.91it/s]"
     ]
    },
    {
     "name": "stdout",
     "output_type": "stream",
     "text": [
      "19929\n",
      "80921\n",
      "Epoch 01366 | Loss 0.0286 | train_RMSE 0.1380 | test_RMSE 0.1352 \n",
      "19929\n",
      "80921\n",
      "Epoch 01367 | Loss 0.0288 | train_RMSE 0.1385 | test_RMSE 0.1356 \n",
      "19929\n"
     ]
    },
    {
     "name": "stderr",
     "output_type": "stream",
     "text": [
      " 46%|█████████████████▊                     | 1371/3000 [02:07<02:28, 10.94it/s]"
     ]
    },
    {
     "name": "stdout",
     "output_type": "stream",
     "text": [
      "80921\n",
      "Epoch 01368 | Loss 0.0285 | train_RMSE 0.1384 | test_RMSE 0.1356 \n",
      "19929\n",
      "80921\n",
      "Epoch 01369 | Loss 0.0287 | train_RMSE 0.1382 | test_RMSE 0.1353 \n",
      "19929\n",
      "80921\n",
      "Epoch 01370 | Loss 0.0288 | train_RMSE 0.1384 | test_RMSE 0.1355 \n"
     ]
    },
    {
     "name": "stderr",
     "output_type": "stream",
     "text": [
      "\r",
      " 46%|█████████████████▊                     | 1373/3000 [02:07<02:29, 10.91it/s]"
     ]
    },
    {
     "name": "stdout",
     "output_type": "stream",
     "text": [
      "19929\n",
      "80921\n",
      "Epoch 01371 | Loss 0.0288 | train_RMSE 0.1390 | test_RMSE 0.1361 \n",
      "19929\n",
      "80921\n",
      "Epoch 01372 | Loss 0.0291 | train_RMSE 0.1384 | test_RMSE 0.1355 \n",
      "19929\n"
     ]
    },
    {
     "name": "stderr",
     "output_type": "stream",
     "text": [
      "\r",
      " 46%|█████████████████▉                     | 1375/3000 [02:07<02:29, 10.90it/s]"
     ]
    },
    {
     "name": "stdout",
     "output_type": "stream",
     "text": [
      "80921\n",
      "Epoch 01373 | Loss 0.0286 | train_RMSE 0.1379 | test_RMSE 0.1351 \n",
      "19929\n",
      "80921\n",
      "Epoch 01374 | Loss 0.0289 | train_RMSE 0.1388 | test_RMSE 0.1358 \n",
      "19929\n",
      "80921\n",
      "Epoch 01375 | Loss 0.0288 | train_RMSE 0.1391 | test_RMSE 0.1362 \n"
     ]
    },
    {
     "name": "stderr",
     "output_type": "stream",
     "text": [
      "\r",
      " 46%|█████████████████▉                     | 1377/3000 [02:07<02:29, 10.88it/s]"
     ]
    },
    {
     "name": "stdout",
     "output_type": "stream",
     "text": [
      "19929\n",
      "80921\n",
      "Epoch 01376 | Loss 0.0288 | train_RMSE 0.1406 | test_RMSE 0.1375 \n",
      "19929\n",
      "80921\n",
      "Epoch 01377 | Loss 0.0291 | train_RMSE 0.1401 | test_RMSE 0.1375 \n",
      "19929\n"
     ]
    },
    {
     "name": "stderr",
     "output_type": "stream",
     "text": [
      " 46%|█████████████████▉                     | 1381/3000 [02:08<02:29, 10.86it/s]"
     ]
    },
    {
     "name": "stdout",
     "output_type": "stream",
     "text": [
      "80921\n",
      "Epoch 01378 | Loss 0.0295 | train_RMSE 0.1434 | test_RMSE 0.1403 \n",
      "19929\n",
      "80921\n",
      "Epoch 01379 | Loss 0.0299 | train_RMSE 0.1422 | test_RMSE 0.1397 \n",
      "19929\n",
      "80921\n",
      "Epoch 01380 | Loss 0.0298 | train_RMSE 0.1444 | test_RMSE 0.1412 \n"
     ]
    },
    {
     "name": "stderr",
     "output_type": "stream",
     "text": [
      "\r",
      " 46%|█████████████████▉                     | 1383/3000 [02:08<02:29, 10.84it/s]"
     ]
    },
    {
     "name": "stdout",
     "output_type": "stream",
     "text": [
      "19929\n",
      "80921\n",
      "Epoch 01381 | Loss 0.0301 | train_RMSE 0.1415 | test_RMSE 0.1390 \n",
      "19929\n",
      "80921\n",
      "Epoch 01382 | Loss 0.0299 | train_RMSE 0.1411 | test_RMSE 0.1380 \n",
      "19929\n"
     ]
    },
    {
     "name": "stderr",
     "output_type": "stream",
     "text": [
      "\r",
      " 46%|██████████████████                     | 1385/3000 [02:08<02:28, 10.85it/s]"
     ]
    },
    {
     "name": "stdout",
     "output_type": "stream",
     "text": [
      "80921\n",
      "Epoch 01383 | Loss 0.0291 | train_RMSE 0.1383 | test_RMSE 0.1355 \n",
      "19929\n",
      "80921\n",
      "Epoch 01384 | Loss 0.0288 | train_RMSE 0.1380 | test_RMSE 0.1352 \n",
      "19929\n",
      "80921\n",
      "Epoch 01385 | Loss 0.0288 | train_RMSE 0.1400 | test_RMSE 0.1369 \n"
     ]
    },
    {
     "name": "stderr",
     "output_type": "stream",
     "text": [
      "\r",
      " 46%|██████████████████                     | 1387/3000 [02:08<02:28, 10.85it/s]"
     ]
    },
    {
     "name": "stdout",
     "output_type": "stream",
     "text": [
      "19929\n",
      "80921\n",
      "Epoch 01386 | Loss 0.0288 | train_RMSE 0.1405 | test_RMSE 0.1377 \n",
      "19929\n",
      "80921\n",
      "Epoch 01387 | Loss 0.0293 | train_RMSE 0.1406 | test_RMSE 0.1375 \n",
      "19929\n"
     ]
    },
    {
     "name": "stderr",
     "output_type": "stream",
     "text": [
      " 46%|██████████████████                     | 1391/3000 [02:09<02:27, 10.87it/s]"
     ]
    },
    {
     "name": "stdout",
     "output_type": "stream",
     "text": [
      "80921\n",
      "Epoch 01388 | Loss 0.0293 | train_RMSE 0.1393 | test_RMSE 0.1367 \n",
      "19929\n",
      "80921\n",
      "Epoch 01389 | Loss 0.0296 | train_RMSE 0.1409 | test_RMSE 0.1378 \n",
      "19929\n",
      "80921\n",
      "Epoch 01390 | Loss 0.0293 | train_RMSE 0.1395 | test_RMSE 0.1367 \n"
     ]
    },
    {
     "name": "stderr",
     "output_type": "stream",
     "text": [
      "\r",
      " 46%|██████████████████                     | 1393/3000 [02:09<02:27, 10.87it/s]"
     ]
    },
    {
     "name": "stdout",
     "output_type": "stream",
     "text": [
      "19929\n",
      "80921\n",
      "Epoch 01391 | Loss 0.0294 | train_RMSE 0.1392 | test_RMSE 0.1362 \n",
      "19929\n",
      "80921\n",
      "Epoch 01392 | Loss 0.0288 | train_RMSE 0.1385 | test_RMSE 0.1356 \n",
      "19929\n"
     ]
    },
    {
     "name": "stderr",
     "output_type": "stream",
     "text": [
      "\r",
      " 46%|██████████████████▏                    | 1395/3000 [02:09<02:27, 10.86it/s]"
     ]
    },
    {
     "name": "stdout",
     "output_type": "stream",
     "text": [
      "80921\n",
      "Epoch 01393 | Loss 0.0288 | train_RMSE 0.1382 | test_RMSE 0.1354 \n",
      "19929\n",
      "80921\n",
      "Epoch 01394 | Loss 0.0288 | train_RMSE 0.1393 | test_RMSE 0.1362 \n",
      "19929\n",
      "80921\n",
      "Epoch 01395 | Loss 0.0290 | train_RMSE 0.1391 | test_RMSE 0.1363 \n"
     ]
    },
    {
     "name": "stderr",
     "output_type": "stream",
     "text": [
      "\r",
      " 47%|██████████████████▏                    | 1397/3000 [02:09<02:27, 10.87it/s]"
     ]
    },
    {
     "name": "stdout",
     "output_type": "stream",
     "text": [
      "19929\n",
      "80921\n",
      "Epoch 01396 | Loss 0.0293 | train_RMSE 0.1393 | test_RMSE 0.1363 \n",
      "19929\n",
      "80921\n",
      "Epoch 01397 | Loss 0.0290 | train_RMSE 0.1382 | test_RMSE 0.1354 \n",
      "19929\n"
     ]
    },
    {
     "name": "stderr",
     "output_type": "stream",
     "text": [
      " 47%|██████████████████▏                    | 1401/3000 [02:09<02:26, 10.89it/s]"
     ]
    },
    {
     "name": "stdout",
     "output_type": "stream",
     "text": [
      "80921\n",
      "Epoch 01398 | Loss 0.0291 | train_RMSE 0.1388 | test_RMSE 0.1358 \n",
      "19929\n",
      "80921\n",
      "Epoch 01399 | Loss 0.0289 | train_RMSE 0.1387 | test_RMSE 0.1358 \n",
      "19929\n",
      "80921\n",
      "Epoch 01400 | Loss 0.0290 | train_RMSE 0.1379 | test_RMSE 0.1351 \n"
     ]
    },
    {
     "name": "stderr",
     "output_type": "stream",
     "text": [
      "\r",
      " 47%|██████████████████▏                    | 1403/3000 [02:10<02:26, 10.88it/s]"
     ]
    },
    {
     "name": "stdout",
     "output_type": "stream",
     "text": [
      "19929\n",
      "80921\n",
      "Epoch 01401 | Loss 0.0289 | train_RMSE 0.1386 | test_RMSE 0.1357 \n",
      "19929\n",
      "80921\n",
      "Epoch 01402 | Loss 0.0292 | train_RMSE 0.1387 | test_RMSE 0.1359 \n",
      "19929\n"
     ]
    },
    {
     "name": "stderr",
     "output_type": "stream",
     "text": [
      "\r",
      " 47%|██████████████████▎                    | 1405/3000 [02:10<02:27, 10.85it/s]"
     ]
    },
    {
     "name": "stdout",
     "output_type": "stream",
     "text": [
      "80921\n",
      "Epoch 01403 | Loss 0.0286 | train_RMSE 0.1388 | test_RMSE 0.1358 \n",
      "19929\n",
      "80921\n",
      "Epoch 01404 | Loss 0.0288 | train_RMSE 0.1384 | test_RMSE 0.1357 \n",
      "19929\n",
      "80921\n",
      "Epoch 01405 | Loss 0.0288 | train_RMSE 0.1387 | test_RMSE 0.1358 \n"
     ]
    },
    {
     "name": "stderr",
     "output_type": "stream",
     "text": [
      "\r",
      " 47%|██████████████████▎                    | 1407/3000 [02:10<02:27, 10.82it/s]"
     ]
    },
    {
     "name": "stdout",
     "output_type": "stream",
     "text": [
      "19929\n",
      "80921\n",
      "Epoch 01406 | Loss 0.0288 | train_RMSE 0.1382 | test_RMSE 0.1354 \n",
      "19929\n",
      "80921\n",
      "Epoch 01407 | Loss 0.0288 | train_RMSE 0.1394 | test_RMSE 0.1363 \n",
      "19929\n"
     ]
    },
    {
     "name": "stderr",
     "output_type": "stream",
     "text": [
      " 47%|██████████████████▎                    | 1411/3000 [02:10<02:27, 10.75it/s]"
     ]
    },
    {
     "name": "stdout",
     "output_type": "stream",
     "text": [
      "80921\n",
      "Epoch 01408 | Loss 0.0288 | train_RMSE 0.1385 | test_RMSE 0.1357 \n",
      "19929\n",
      "80921\n",
      "Epoch 01409 | Loss 0.0289 | train_RMSE 0.1387 | test_RMSE 0.1357 \n",
      "19929\n",
      "80921\n",
      "Epoch 01410 | Loss 0.0287 | train_RMSE 0.1387 | test_RMSE 0.1359 \n"
     ]
    },
    {
     "name": "stderr",
     "output_type": "stream",
     "text": [
      "\r",
      " 47%|██████████████████▎                    | 1413/3000 [02:11<02:27, 10.75it/s]"
     ]
    },
    {
     "name": "stdout",
     "output_type": "stream",
     "text": [
      "19929\n",
      "80921\n",
      "Epoch 01411 | Loss 0.0287 | train_RMSE 0.1396 | test_RMSE 0.1366 \n",
      "19929\n",
      "80921\n",
      "Epoch 01412 | Loss 0.0289 | train_RMSE 0.1377 | test_RMSE 0.1349 \n",
      "19929\n"
     ]
    },
    {
     "name": "stderr",
     "output_type": "stream",
     "text": [
      "\r",
      " 47%|██████████████████▍                    | 1415/3000 [02:11<02:27, 10.74it/s]"
     ]
    },
    {
     "name": "stdout",
     "output_type": "stream",
     "text": [
      "80921\n",
      "Epoch 01413 | Loss 0.0289 | train_RMSE 0.1380 | test_RMSE 0.1351 \n",
      "19929\n",
      "80921\n",
      "Epoch 01414 | Loss 0.0286 | train_RMSE 0.1389 | test_RMSE 0.1360 \n",
      "19929\n",
      "80921\n",
      "Epoch 01415 | Loss 0.0287 | train_RMSE 0.1384 | test_RMSE 0.1355 \n"
     ]
    },
    {
     "name": "stderr",
     "output_type": "stream",
     "text": [
      "\r",
      " 47%|██████████████████▍                    | 1417/3000 [02:11<02:27, 10.73it/s]"
     ]
    },
    {
     "name": "stdout",
     "output_type": "stream",
     "text": [
      "19929\n",
      "80921\n",
      "Epoch 01416 | Loss 0.0288 | train_RMSE 0.1377 | test_RMSE 0.1348 \n",
      "19929\n",
      "80921\n",
      "Epoch 01417 | Loss 0.0290 | train_RMSE 0.1381 | test_RMSE 0.1353 \n",
      "19929\n"
     ]
    },
    {
     "name": "stderr",
     "output_type": "stream",
     "text": [
      " 47%|██████████████████▍                    | 1421/3000 [02:11<02:26, 10.74it/s]"
     ]
    },
    {
     "name": "stdout",
     "output_type": "stream",
     "text": [
      "80921\n",
      "Epoch 01418 | Loss 0.0290 | train_RMSE 0.1400 | test_RMSE 0.1370 \n",
      "19929\n",
      "80921\n",
      "Epoch 01419 | Loss 0.0288 | train_RMSE 0.1383 | test_RMSE 0.1355 \n",
      "19929\n",
      "80921\n",
      "Epoch 01420 | Loss 0.0288 | train_RMSE 0.1383 | test_RMSE 0.1354 \n"
     ]
    },
    {
     "name": "stderr",
     "output_type": "stream",
     "text": [
      "\r",
      " 47%|██████████████████▍                    | 1423/3000 [02:12<02:26, 10.73it/s]"
     ]
    },
    {
     "name": "stdout",
     "output_type": "stream",
     "text": [
      "19929\n",
      "80921\n",
      "Epoch 01421 | Loss 0.0288 | train_RMSE 0.1386 | test_RMSE 0.1358 \n",
      "19929\n",
      "80921\n",
      "Epoch 01422 | Loss 0.0292 | train_RMSE 0.1410 | test_RMSE 0.1379 \n",
      "19929\n"
     ]
    },
    {
     "name": "stderr",
     "output_type": "stream",
     "text": [
      "\r",
      " 48%|██████████████████▌                    | 1425/3000 [02:12<02:26, 10.73it/s]"
     ]
    },
    {
     "name": "stdout",
     "output_type": "stream",
     "text": [
      "80921\n",
      "Epoch 01423 | Loss 0.0291 | train_RMSE 0.1386 | test_RMSE 0.1359 \n",
      "19929\n",
      "80921\n",
      "Epoch 01424 | Loss 0.0292 | train_RMSE 0.1387 | test_RMSE 0.1357 \n",
      "19929\n",
      "80921\n",
      "Epoch 01425 | Loss 0.0292 | train_RMSE 0.1386 | test_RMSE 0.1358 \n"
     ]
    },
    {
     "name": "stderr",
     "output_type": "stream",
     "text": [
      "\r",
      " 48%|██████████████████▌                    | 1427/3000 [02:12<02:26, 10.71it/s]"
     ]
    },
    {
     "name": "stdout",
     "output_type": "stream",
     "text": [
      "19929\n",
      "80921\n",
      "Epoch 01426 | Loss 0.0289 | train_RMSE 0.1395 | test_RMSE 0.1364 \n",
      "19929\n",
      "80921\n",
      "Epoch 01427 | Loss 0.0289 | train_RMSE 0.1378 | test_RMSE 0.1350 \n",
      "19929\n"
     ]
    },
    {
     "name": "stderr",
     "output_type": "stream",
     "text": [
      " 48%|██████████████████▌                    | 1431/3000 [02:12<02:26, 10.73it/s]"
     ]
    },
    {
     "name": "stdout",
     "output_type": "stream",
     "text": [
      "80921\n",
      "Epoch 01428 | Loss 0.0289 | train_RMSE 0.1379 | test_RMSE 0.1350 \n",
      "19929\n",
      "80921\n",
      "Epoch 01429 | Loss 0.0287 | train_RMSE 0.1387 | test_RMSE 0.1359 \n",
      "19929\n",
      "80921\n",
      "Epoch 01430 | Loss 0.0288 | train_RMSE 0.1390 | test_RMSE 0.1360 \n"
     ]
    },
    {
     "name": "stderr",
     "output_type": "stream",
     "text": [
      "\r",
      " 48%|██████████████████▋                    | 1433/3000 [02:12<02:26, 10.69it/s]"
     ]
    },
    {
     "name": "stdout",
     "output_type": "stream",
     "text": [
      "19929\n",
      "80921\n",
      "Epoch 01431 | Loss 0.0286 | train_RMSE 0.1377 | test_RMSE 0.1348 \n",
      "19929\n",
      "80921\n",
      "Epoch 01432 | Loss 0.0286 | train_RMSE 0.1379 | test_RMSE 0.1349 \n",
      "19929\n"
     ]
    },
    {
     "name": "stderr",
     "output_type": "stream",
     "text": [
      "\r",
      " 48%|██████████████████▋                    | 1435/3000 [02:13<02:26, 10.70it/s]"
     ]
    },
    {
     "name": "stdout",
     "output_type": "stream",
     "text": [
      "80921\n",
      "Epoch 01433 | Loss 0.0287 | train_RMSE 0.1393 | test_RMSE 0.1364 \n",
      "19929\n",
      "80921\n",
      "Epoch 01434 | Loss 0.0287 | train_RMSE 0.1389 | test_RMSE 0.1359 \n",
      "19929\n",
      "80921\n",
      "Epoch 01435 | Loss 0.0288 | train_RMSE 0.1375 | test_RMSE 0.1347 \n"
     ]
    },
    {
     "name": "stderr",
     "output_type": "stream",
     "text": [
      "\r",
      " 48%|██████████████████▋                    | 1437/3000 [02:13<02:25, 10.71it/s]"
     ]
    },
    {
     "name": "stdout",
     "output_type": "stream",
     "text": [
      "19929\n",
      "80921\n",
      "Epoch 01436 | Loss 0.0289 | train_RMSE 0.1379 | test_RMSE 0.1350 \n",
      "19929\n",
      "80921\n",
      "Epoch 01437 | Loss 0.0289 | train_RMSE 0.1396 | test_RMSE 0.1365 \n",
      "19929\n"
     ]
    },
    {
     "name": "stderr",
     "output_type": "stream",
     "text": [
      " 48%|██████████████████▋                    | 1441/3000 [02:13<02:24, 10.75it/s]"
     ]
    },
    {
     "name": "stdout",
     "output_type": "stream",
     "text": [
      "80921\n",
      "Epoch 01438 | Loss 0.0288 | train_RMSE 0.1387 | test_RMSE 0.1360 \n",
      "19929\n",
      "80921\n",
      "Epoch 01439 | Loss 0.0292 | train_RMSE 0.1403 | test_RMSE 0.1372 \n",
      "19929\n",
      "80921\n",
      "Epoch 01440 | Loss 0.0293 | train_RMSE 0.1409 | test_RMSE 0.1384 \n"
     ]
    },
    {
     "name": "stderr",
     "output_type": "stream",
     "text": [
      "\r",
      " 48%|██████████████████▊                    | 1443/3000 [02:13<02:24, 10.74it/s]"
     ]
    },
    {
     "name": "stdout",
     "output_type": "stream",
     "text": [
      "19929\n",
      "80921\n",
      "Epoch 01441 | Loss 0.0296 | train_RMSE 0.1459 | test_RMSE 0.1426 \n",
      "19929\n",
      "80921\n",
      "Epoch 01442 | Loss 0.0306 | train_RMSE 0.1446 | test_RMSE 0.1422 \n",
      "19929\n"
     ]
    },
    {
     "name": "stderr",
     "output_type": "stream",
     "text": [
      "\r",
      " 48%|██████████████████▊                    | 1445/3000 [02:14<02:24, 10.73it/s]"
     ]
    },
    {
     "name": "stdout",
     "output_type": "stream",
     "text": [
      "80921\n",
      "Epoch 01443 | Loss 0.0311 | train_RMSE 0.1480 | test_RMSE 0.1447 \n",
      "19929\n",
      "80921\n",
      "Epoch 01444 | Loss 0.0311 | train_RMSE 0.1433 | test_RMSE 0.1409 \n",
      "19929\n",
      "80921\n",
      "Epoch 01445 | Loss 0.0306 | train_RMSE 0.1429 | test_RMSE 0.1397 \n"
     ]
    },
    {
     "name": "stderr",
     "output_type": "stream",
     "text": [
      "\r",
      " 48%|██████████████████▊                    | 1447/3000 [02:14<02:25, 10.71it/s]"
     ]
    },
    {
     "name": "stdout",
     "output_type": "stream",
     "text": [
      "19929\n",
      "80921\n",
      "Epoch 01446 | Loss 0.0297 | train_RMSE 0.1392 | test_RMSE 0.1365 \n",
      "19929\n",
      "80921\n",
      "Epoch 01447 | Loss 0.0291 | train_RMSE 0.1384 | test_RMSE 0.1354 \n",
      "19929\n"
     ]
    },
    {
     "name": "stderr",
     "output_type": "stream",
     "text": [
      " 48%|██████████████████▊                    | 1451/3000 [02:14<02:24, 10.75it/s]"
     ]
    },
    {
     "name": "stdout",
     "output_type": "stream",
     "text": [
      "80921\n",
      "Epoch 01448 | Loss 0.0288 | train_RMSE 0.1388 | test_RMSE 0.1357 \n",
      "19929\n",
      "80921\n",
      "Epoch 01449 | Loss 0.0289 | train_RMSE 0.1394 | test_RMSE 0.1367 \n",
      "19929\n",
      "80921\n",
      "Epoch 01450 | Loss 0.0292 | train_RMSE 0.1416 | test_RMSE 0.1385 \n"
     ]
    },
    {
     "name": "stderr",
     "output_type": "stream",
     "text": [
      "\r",
      " 48%|██████████████████▉                    | 1453/3000 [02:14<02:23, 10.77it/s]"
     ]
    },
    {
     "name": "stdout",
     "output_type": "stream",
     "text": [
      "19929\n",
      "80921\n",
      "Epoch 01451 | Loss 0.0295 | train_RMSE 0.1389 | test_RMSE 0.1363 \n",
      "19929\n",
      "80921\n",
      "Epoch 01452 | Loss 0.0294 | train_RMSE 0.1388 | test_RMSE 0.1358 \n",
      "19929\n"
     ]
    },
    {
     "name": "stderr",
     "output_type": "stream",
     "text": [
      "\r",
      " 48%|██████████████████▉                    | 1455/3000 [02:14<02:23, 10.73it/s]"
     ]
    },
    {
     "name": "stdout",
     "output_type": "stream",
     "text": [
      "80921\n",
      "Epoch 01453 | Loss 0.0286 | train_RMSE 0.1381 | test_RMSE 0.1352 \n",
      "19929\n",
      "80921\n",
      "Epoch 01454 | Loss 0.0284 | train_RMSE 0.1385 | test_RMSE 0.1358 \n",
      "19929\n",
      "80921\n",
      "Epoch 01455 | Loss 0.0289 | train_RMSE 0.1408 | test_RMSE 0.1377 \n"
     ]
    },
    {
     "name": "stderr",
     "output_type": "stream",
     "text": [
      "\r",
      " 49%|██████████████████▉                    | 1457/3000 [02:15<02:23, 10.74it/s]"
     ]
    },
    {
     "name": "stdout",
     "output_type": "stream",
     "text": [
      "19929\n",
      "80921\n",
      "Epoch 01456 | Loss 0.0289 | train_RMSE 0.1396 | test_RMSE 0.1370 \n",
      "19929\n",
      "80921\n",
      "Epoch 01457 | Loss 0.0291 | train_RMSE 0.1405 | test_RMSE 0.1374 \n",
      "19929\n"
     ]
    },
    {
     "name": "stderr",
     "output_type": "stream",
     "text": [
      " 49%|██████████████████▉                    | 1461/3000 [02:15<02:23, 10.76it/s]"
     ]
    },
    {
     "name": "stdout",
     "output_type": "stream",
     "text": [
      "80921\n",
      "Epoch 01458 | Loss 0.0293 | train_RMSE 0.1397 | test_RMSE 0.1370 \n",
      "19929\n",
      "80921\n",
      "Epoch 01459 | Loss 0.0291 | train_RMSE 0.1399 | test_RMSE 0.1368 \n",
      "19929\n",
      "80921\n",
      "Epoch 01460 | Loss 0.0291 | train_RMSE 0.1378 | test_RMSE 0.1349 \n"
     ]
    },
    {
     "name": "stderr",
     "output_type": "stream",
     "text": [
      "\r",
      " 49%|███████████████████                    | 1463/3000 [02:15<02:23, 10.75it/s]"
     ]
    },
    {
     "name": "stdout",
     "output_type": "stream",
     "text": [
      "19929\n",
      "80921\n",
      "Epoch 01461 | Loss 0.0288 | train_RMSE 0.1378 | test_RMSE 0.1349 \n",
      "19929\n",
      "80921\n",
      "Epoch 01462 | Loss 0.0285 | train_RMSE 0.1398 | test_RMSE 0.1368 \n",
      "19929\n"
     ]
    },
    {
     "name": "stderr",
     "output_type": "stream",
     "text": [
      "\r",
      " 49%|███████████████████                    | 1465/3000 [02:15<02:22, 10.77it/s]"
     ]
    },
    {
     "name": "stdout",
     "output_type": "stream",
     "text": [
      "80921\n",
      "Epoch 01463 | Loss 0.0286 | train_RMSE 0.1383 | test_RMSE 0.1356 \n",
      "19929\n",
      "80921\n",
      "Epoch 01464 | Loss 0.0285 | train_RMSE 0.1387 | test_RMSE 0.1357 \n",
      "19929\n",
      "80921\n",
      "Epoch 01465 | Loss 0.0290 | train_RMSE 0.1383 | test_RMSE 0.1355 \n"
     ]
    },
    {
     "name": "stderr",
     "output_type": "stream",
     "text": [
      "\r",
      " 49%|███████████████████                    | 1467/3000 [02:16<02:22, 10.75it/s]"
     ]
    },
    {
     "name": "stdout",
     "output_type": "stream",
     "text": [
      "19929\n",
      "80921\n",
      "Epoch 01466 | Loss 0.0289 | train_RMSE 0.1393 | test_RMSE 0.1363 \n",
      "19929\n",
      "80921\n",
      "Epoch 01467 | Loss 0.0287 | train_RMSE 0.1380 | test_RMSE 0.1351 \n",
      "19929\n"
     ]
    },
    {
     "name": "stderr",
     "output_type": "stream",
     "text": [
      " 49%|███████████████████                    | 1471/3000 [02:16<02:22, 10.75it/s]"
     ]
    },
    {
     "name": "stdout",
     "output_type": "stream",
     "text": [
      "80921\n",
      "Epoch 01468 | Loss 0.0286 | train_RMSE 0.1376 | test_RMSE 0.1348 \n",
      "19929\n",
      "80921\n",
      "Epoch 01469 | Loss 0.0286 | train_RMSE 0.1387 | test_RMSE 0.1357 \n",
      "19929\n",
      "80921\n",
      "Epoch 01470 | Loss 0.0287 | train_RMSE 0.1384 | test_RMSE 0.1356 \n"
     ]
    },
    {
     "name": "stderr",
     "output_type": "stream",
     "text": [
      "\r",
      " 49%|███████████████████▏                   | 1473/3000 [02:16<02:22, 10.73it/s]"
     ]
    },
    {
     "name": "stdout",
     "output_type": "stream",
     "text": [
      "19929\n",
      "80921\n",
      "Epoch 01471 | Loss 0.0285 | train_RMSE 0.1386 | test_RMSE 0.1356 \n",
      "19929\n",
      "80921\n",
      "Epoch 01472 | Loss 0.0286 | train_RMSE 0.1383 | test_RMSE 0.1354 \n",
      "19929\n"
     ]
    },
    {
     "name": "stderr",
     "output_type": "stream",
     "text": [
      "\r",
      " 49%|███████████████████▏                   | 1475/3000 [02:16<02:22, 10.71it/s]"
     ]
    },
    {
     "name": "stdout",
     "output_type": "stream",
     "text": [
      "80921\n",
      "Epoch 01473 | Loss 0.0287 | train_RMSE 0.1394 | test_RMSE 0.1363 \n",
      "19929\n",
      "80921\n",
      "Epoch 01474 | Loss 0.0289 | train_RMSE 0.1382 | test_RMSE 0.1354 \n",
      "19929\n",
      "80921\n",
      "Epoch 01475 | Loss 0.0288 | train_RMSE 0.1383 | test_RMSE 0.1354 \n"
     ]
    },
    {
     "name": "stderr",
     "output_type": "stream",
     "text": [
      "\r",
      " 49%|███████████████████▏                   | 1477/3000 [02:17<02:22, 10.68it/s]"
     ]
    },
    {
     "name": "stdout",
     "output_type": "stream",
     "text": [
      "19929\n",
      "80921\n",
      "Epoch 01476 | Loss 0.0282 | train_RMSE 0.1385 | test_RMSE 0.1356 \n",
      "19929\n",
      "80921\n",
      "Epoch 01477 | Loss 0.0286 | train_RMSE 0.1384 | test_RMSE 0.1355 \n",
      "19929\n"
     ]
    },
    {
     "name": "stderr",
     "output_type": "stream",
     "text": [
      " 49%|███████████████████▎                   | 1481/3000 [02:17<02:21, 10.73it/s]"
     ]
    },
    {
     "name": "stdout",
     "output_type": "stream",
     "text": [
      "80921\n",
      "Epoch 01478 | Loss 0.0287 | train_RMSE 0.1380 | test_RMSE 0.1351 \n",
      "19929\n",
      "80921\n",
      "Epoch 01479 | Loss 0.0288 | train_RMSE 0.1380 | test_RMSE 0.1352 \n",
      "19929\n",
      "80921\n",
      "Epoch 01480 | Loss 0.0285 | train_RMSE 0.1387 | test_RMSE 0.1357 \n"
     ]
    },
    {
     "name": "stderr",
     "output_type": "stream",
     "text": [
      "\r",
      " 49%|███████████████████▎                   | 1483/3000 [02:17<02:21, 10.73it/s]"
     ]
    },
    {
     "name": "stdout",
     "output_type": "stream",
     "text": [
      "19929\n",
      "80921\n",
      "Epoch 01481 | Loss 0.0289 | train_RMSE 0.1381 | test_RMSE 0.1352 \n",
      "19929\n",
      "80921\n",
      "Epoch 01482 | Loss 0.0286 | train_RMSE 0.1383 | test_RMSE 0.1353 \n",
      "19929\n"
     ]
    },
    {
     "name": "stderr",
     "output_type": "stream",
     "text": [
      "\r",
      " 50%|███████████████████▎                   | 1485/3000 [02:17<02:21, 10.73it/s]"
     ]
    },
    {
     "name": "stdout",
     "output_type": "stream",
     "text": [
      "80921\n",
      "Epoch 01483 | Loss 0.0286 | train_RMSE 0.1381 | test_RMSE 0.1352 \n",
      "19929\n",
      "80921\n",
      "Epoch 01484 | Loss 0.0286 | train_RMSE 0.1378 | test_RMSE 0.1349 \n",
      "19929\n",
      "80921\n",
      "Epoch 01485 | Loss 0.0287 | train_RMSE 0.1382 | test_RMSE 0.1354 \n"
     ]
    },
    {
     "name": "stderr",
     "output_type": "stream",
     "text": [
      "\r",
      " 50%|███████████████████▎                   | 1487/3000 [02:17<02:21, 10.72it/s]"
     ]
    },
    {
     "name": "stdout",
     "output_type": "stream",
     "text": [
      "19929\n",
      "80921\n",
      "Epoch 01486 | Loss 0.0285 | train_RMSE 0.1385 | test_RMSE 0.1356 \n",
      "19929\n",
      "80921\n",
      "Epoch 01487 | Loss 0.0286 | train_RMSE 0.1383 | test_RMSE 0.1354 \n",
      "19929\n"
     ]
    },
    {
     "name": "stderr",
     "output_type": "stream",
     "text": [
      " 50%|███████████████████▍                   | 1491/3000 [02:18<02:20, 10.73it/s]"
     ]
    },
    {
     "name": "stdout",
     "output_type": "stream",
     "text": [
      "80921\n",
      "Epoch 01488 | Loss 0.0287 | train_RMSE 0.1383 | test_RMSE 0.1353 \n",
      "19929\n",
      "80921\n",
      "Epoch 01489 | Loss 0.0284 | train_RMSE 0.1381 | test_RMSE 0.1353 \n",
      "19929\n",
      "80921\n",
      "Epoch 01490 | Loss 0.0289 | train_RMSE 0.1400 | test_RMSE 0.1369 \n"
     ]
    },
    {
     "name": "stderr",
     "output_type": "stream",
     "text": [
      "\r",
      " 50%|███████████████████▍                   | 1493/3000 [02:18<02:20, 10.74it/s]"
     ]
    },
    {
     "name": "stdout",
     "output_type": "stream",
     "text": [
      "19929\n",
      "80921\n",
      "Epoch 01491 | Loss 0.0287 | train_RMSE 0.1390 | test_RMSE 0.1362 \n",
      "19929\n",
      "80921\n",
      "Epoch 01492 | Loss 0.0286 | train_RMSE 0.1388 | test_RMSE 0.1358 \n",
      "19929\n"
     ]
    },
    {
     "name": "stderr",
     "output_type": "stream",
     "text": [
      "\r",
      " 50%|███████████████████▍                   | 1495/3000 [02:18<02:20, 10.74it/s]"
     ]
    },
    {
     "name": "stdout",
     "output_type": "stream",
     "text": [
      "80921\n",
      "Epoch 01493 | Loss 0.0289 | train_RMSE 0.1386 | test_RMSE 0.1358 \n",
      "19929\n",
      "80921\n",
      "Epoch 01494 | Loss 0.0287 | train_RMSE 0.1393 | test_RMSE 0.1363 \n",
      "19929\n",
      "80921\n",
      "Epoch 01495 | Loss 0.0289 | train_RMSE 0.1384 | test_RMSE 0.1356 \n"
     ]
    },
    {
     "name": "stderr",
     "output_type": "stream",
     "text": [
      "\r",
      " 50%|███████████████████▍                   | 1497/3000 [02:18<02:19, 10.74it/s]"
     ]
    },
    {
     "name": "stdout",
     "output_type": "stream",
     "text": [
      "19929\n",
      "80921\n",
      "Epoch 01496 | Loss 0.0285 | train_RMSE 0.1382 | test_RMSE 0.1353 \n",
      "19929\n",
      "80921\n",
      "Epoch 01497 | Loss 0.0285 | train_RMSE 0.1382 | test_RMSE 0.1353 \n",
      "19929\n"
     ]
    },
    {
     "name": "stderr",
     "output_type": "stream",
     "text": [
      " 50%|███████████████████▌                   | 1501/3000 [02:19<02:19, 10.75it/s]"
     ]
    },
    {
     "name": "stdout",
     "output_type": "stream",
     "text": [
      "80921\n",
      "Epoch 01498 | Loss 0.0286 | train_RMSE 0.1385 | test_RMSE 0.1356 \n",
      "19929\n",
      "80921\n",
      "Epoch 01499 | Loss 0.0285 | train_RMSE 0.1381 | test_RMSE 0.1352 \n",
      "19929\n",
      "80921\n",
      "Epoch 01500 | Loss 0.0285 | train_RMSE 0.1375 | test_RMSE 0.1346 \n"
     ]
    },
    {
     "name": "stderr",
     "output_type": "stream",
     "text": [
      "\r",
      " 50%|███████████████████▌                   | 1503/3000 [02:19<02:19, 10.76it/s]"
     ]
    },
    {
     "name": "stdout",
     "output_type": "stream",
     "text": [
      "19929\n",
      "80921\n",
      "Epoch 01501 | Loss 0.0287 | train_RMSE 0.1379 | test_RMSE 0.1350 \n",
      "19929\n",
      "80921\n",
      "Epoch 01502 | Loss 0.0288 | train_RMSE 0.1390 | test_RMSE 0.1360 \n",
      "19929\n"
     ]
    },
    {
     "name": "stderr",
     "output_type": "stream",
     "text": [
      "\r",
      " 50%|███████████████████▌                   | 1505/3000 [02:19<02:18, 10.76it/s]"
     ]
    },
    {
     "name": "stdout",
     "output_type": "stream",
     "text": [
      "80921\n",
      "Epoch 01503 | Loss 0.0286 | train_RMSE 0.1380 | test_RMSE 0.1351 \n",
      "19929\n",
      "80921\n",
      "Epoch 01504 | Loss 0.0289 | train_RMSE 0.1377 | test_RMSE 0.1349 \n",
      "19929\n",
      "80921\n",
      "Epoch 01505 | Loss 0.0286 | train_RMSE 0.1391 | test_RMSE 0.1360 \n"
     ]
    },
    {
     "name": "stderr",
     "output_type": "stream",
     "text": [
      "\r",
      " 50%|███████████████████▌                   | 1507/3000 [02:19<02:18, 10.76it/s]"
     ]
    },
    {
     "name": "stdout",
     "output_type": "stream",
     "text": [
      "19929\n",
      "80921\n",
      "Epoch 01506 | Loss 0.0287 | train_RMSE 0.1392 | test_RMSE 0.1364 \n",
      "19929\n",
      "80921\n",
      "Epoch 01507 | Loss 0.0289 | train_RMSE 0.1391 | test_RMSE 0.1360 \n",
      "19929\n"
     ]
    },
    {
     "name": "stderr",
     "output_type": "stream",
     "text": [
      " 50%|███████████████████▋                   | 1511/3000 [02:20<02:18, 10.76it/s]"
     ]
    },
    {
     "name": "stdout",
     "output_type": "stream",
     "text": [
      "80921\n",
      "Epoch 01508 | Loss 0.0290 | train_RMSE 0.1392 | test_RMSE 0.1365 \n",
      "19929\n",
      "80921\n",
      "Epoch 01509 | Loss 0.0290 | train_RMSE 0.1415 | test_RMSE 0.1383 \n",
      "19929\n",
      "80921\n",
      "Epoch 01510 | Loss 0.0292 | train_RMSE 0.1396 | test_RMSE 0.1371 \n"
     ]
    },
    {
     "name": "stderr",
     "output_type": "stream",
     "text": [
      "\r",
      " 50%|███████████████████▋                   | 1513/3000 [02:20<02:18, 10.76it/s]"
     ]
    },
    {
     "name": "stdout",
     "output_type": "stream",
     "text": [
      "19929\n",
      "80921\n",
      "Epoch 01511 | Loss 0.0292 | train_RMSE 0.1416 | test_RMSE 0.1385 \n",
      "19929\n",
      "80921\n",
      "Epoch 01512 | Loss 0.0293 | train_RMSE 0.1411 | test_RMSE 0.1384 \n",
      "19929\n"
     ]
    },
    {
     "name": "stderr",
     "output_type": "stream",
     "text": [
      "\r",
      " 50%|███████████████████▋                   | 1515/3000 [02:20<02:18, 10.76it/s]"
     ]
    },
    {
     "name": "stdout",
     "output_type": "stream",
     "text": [
      "80921\n",
      "Epoch 01513 | Loss 0.0294 | train_RMSE 0.1417 | test_RMSE 0.1386 \n",
      "19929\n",
      "80921\n",
      "Epoch 01514 | Loss 0.0293 | train_RMSE 0.1387 | test_RMSE 0.1361 \n",
      "19929\n",
      "80921\n",
      "Epoch 01515 | Loss 0.0291 | train_RMSE 0.1393 | test_RMSE 0.1362 \n"
     ]
    },
    {
     "name": "stderr",
     "output_type": "stream",
     "text": [
      "\r",
      " 51%|███████████████████▋                   | 1517/3000 [02:20<02:17, 10.76it/s]"
     ]
    },
    {
     "name": "stdout",
     "output_type": "stream",
     "text": [
      "19929\n",
      "80921\n",
      "Epoch 01516 | Loss 0.0291 | train_RMSE 0.1388 | test_RMSE 0.1360 \n",
      "19929\n",
      "80921\n",
      "Epoch 01517 | Loss 0.0287 | train_RMSE 0.1391 | test_RMSE 0.1361 \n",
      "19929\n"
     ]
    },
    {
     "name": "stderr",
     "output_type": "stream",
     "text": [
      " 51%|███████████████████▊                   | 1521/3000 [02:21<02:17, 10.77it/s]"
     ]
    },
    {
     "name": "stdout",
     "output_type": "stream",
     "text": [
      "80921\n",
      "Epoch 01518 | Loss 0.0287 | train_RMSE 0.1380 | test_RMSE 0.1351 \n",
      "19929\n",
      "80921\n",
      "Epoch 01519 | Loss 0.0286 | train_RMSE 0.1377 | test_RMSE 0.1349 \n",
      "19929\n",
      "80921\n",
      "Epoch 01520 | Loss 0.0285 | train_RMSE 0.1393 | test_RMSE 0.1363 \n"
     ]
    },
    {
     "name": "stderr",
     "output_type": "stream",
     "text": [
      "\r",
      " 51%|███████████████████▊                   | 1523/3000 [02:21<02:17, 10.77it/s]"
     ]
    },
    {
     "name": "stdout",
     "output_type": "stream",
     "text": [
      "19929\n",
      "80921\n",
      "Epoch 01521 | Loss 0.0288 | train_RMSE 0.1385 | test_RMSE 0.1357 \n",
      "19929\n",
      "80921\n",
      "Epoch 01522 | Loss 0.0287 | train_RMSE 0.1396 | test_RMSE 0.1365 \n",
      "19929\n"
     ]
    },
    {
     "name": "stderr",
     "output_type": "stream",
     "text": [
      "\r",
      " 51%|███████████████████▊                   | 1525/3000 [02:21<02:17, 10.76it/s]"
     ]
    },
    {
     "name": "stdout",
     "output_type": "stream",
     "text": [
      "80921\n",
      "Epoch 01523 | Loss 0.0289 | train_RMSE 0.1391 | test_RMSE 0.1364 \n",
      "19929\n",
      "80921\n",
      "Epoch 01524 | Loss 0.0291 | train_RMSE 0.1392 | test_RMSE 0.1362 \n",
      "19929\n",
      "80921\n",
      "Epoch 01525 | Loss 0.0288 | train_RMSE 0.1380 | test_RMSE 0.1352 \n"
     ]
    },
    {
     "name": "stderr",
     "output_type": "stream",
     "text": [
      "\r",
      " 51%|███████████████████▊                   | 1527/3000 [02:21<02:16, 10.76it/s]"
     ]
    },
    {
     "name": "stdout",
     "output_type": "stream",
     "text": [
      "19929\n",
      "80921\n",
      "Epoch 01526 | Loss 0.0284 | train_RMSE 0.1387 | test_RMSE 0.1357 \n",
      "19929\n",
      "80921\n",
      "Epoch 01527 | Loss 0.0284 | train_RMSE 0.1385 | test_RMSE 0.1355 \n",
      "19929\n"
     ]
    },
    {
     "name": "stderr",
     "output_type": "stream",
     "text": [
      " 51%|███████████████████▉                   | 1531/3000 [02:22<02:16, 10.77it/s]"
     ]
    },
    {
     "name": "stdout",
     "output_type": "stream",
     "text": [
      "80921\n",
      "Epoch 01528 | Loss 0.0288 | train_RMSE 0.1383 | test_RMSE 0.1356 \n",
      "19929\n",
      "80921\n",
      "Epoch 01529 | Loss 0.0288 | train_RMSE 0.1410 | test_RMSE 0.1379 \n",
      "19929\n",
      "80921\n",
      "Epoch 01530 | Loss 0.0292 | train_RMSE 0.1404 | test_RMSE 0.1377 \n"
     ]
    },
    {
     "name": "stderr",
     "output_type": "stream",
     "text": [
      "\r",
      " 51%|███████████████████▉                   | 1533/3000 [02:22<02:16, 10.76it/s]"
     ]
    },
    {
     "name": "stdout",
     "output_type": "stream",
     "text": [
      "19929\n",
      "80921\n",
      "Epoch 01531 | Loss 0.0292 | train_RMSE 0.1414 | test_RMSE 0.1383 \n",
      "19929\n",
      "80921\n",
      "Epoch 01532 | Loss 0.0293 | train_RMSE 0.1415 | test_RMSE 0.1390 \n",
      "19929\n"
     ]
    },
    {
     "name": "stderr",
     "output_type": "stream",
     "text": [
      "\r",
      " 51%|███████████████████▉                   | 1535/3000 [02:22<02:16, 10.76it/s]"
     ]
    },
    {
     "name": "stdout",
     "output_type": "stream",
     "text": [
      "80921\n",
      "Epoch 01533 | Loss 0.0297 | train_RMSE 0.1447 | test_RMSE 0.1415 \n",
      "19929\n",
      "80921\n",
      "Epoch 01534 | Loss 0.0297 | train_RMSE 0.1401 | test_RMSE 0.1376 \n",
      "19929\n",
      "80921\n",
      "Epoch 01535 | Loss 0.0296 | train_RMSE 0.1403 | test_RMSE 0.1372 \n"
     ]
    },
    {
     "name": "stderr",
     "output_type": "stream",
     "text": [
      "\r",
      " 51%|███████████████████▉                   | 1537/3000 [02:22<02:15, 10.76it/s]"
     ]
    },
    {
     "name": "stdout",
     "output_type": "stream",
     "text": [
      "19929\n",
      "80921\n",
      "Epoch 01536 | Loss 0.0292 | train_RMSE 0.1404 | test_RMSE 0.1376 \n",
      "19929\n",
      "80921\n",
      "Epoch 01537 | Loss 0.0288 | train_RMSE 0.1394 | test_RMSE 0.1365 \n",
      "19929\n"
     ]
    },
    {
     "name": "stderr",
     "output_type": "stream",
     "text": [
      " 51%|████████████████████                   | 1541/3000 [02:22<02:14, 10.81it/s]"
     ]
    },
    {
     "name": "stdout",
     "output_type": "stream",
     "text": [
      "80921\n",
      "Epoch 01538 | Loss 0.0284 | train_RMSE 0.1379 | test_RMSE 0.1350 \n",
      "19929\n",
      "80921\n",
      "Epoch 01539 | Loss 0.0289 | train_RMSE 0.1385 | test_RMSE 0.1359 \n",
      "19929\n",
      "80921\n",
      "Epoch 01540 | Loss 0.0288 | train_RMSE 0.1437 | test_RMSE 0.1405 \n"
     ]
    },
    {
     "name": "stderr",
     "output_type": "stream",
     "text": [
      "\r",
      " 51%|████████████████████                   | 1543/3000 [02:23<02:14, 10.82it/s]"
     ]
    },
    {
     "name": "stdout",
     "output_type": "stream",
     "text": [
      "19929\n",
      "80921\n",
      "Epoch 01541 | Loss 0.0296 | train_RMSE 0.1426 | test_RMSE 0.1401 \n",
      "19929\n",
      "80921\n",
      "Epoch 01542 | Loss 0.0302 | train_RMSE 0.1437 | test_RMSE 0.1405 \n",
      "19929\n"
     ]
    },
    {
     "name": "stderr",
     "output_type": "stream",
     "text": [
      "\r",
      " 52%|████████████████████                   | 1545/3000 [02:23<02:14, 10.84it/s]"
     ]
    },
    {
     "name": "stdout",
     "output_type": "stream",
     "text": [
      "80921\n",
      "Epoch 01543 | Loss 0.0301 | train_RMSE 0.1406 | test_RMSE 0.1381 \n",
      "19929\n",
      "80921\n",
      "Epoch 01544 | Loss 0.0296 | train_RMSE 0.1430 | test_RMSE 0.1397 \n",
      "19929\n",
      "80921\n",
      "Epoch 01545 | Loss 0.0298 | train_RMSE 0.1389 | test_RMSE 0.1362 \n"
     ]
    },
    {
     "name": "stderr",
     "output_type": "stream",
     "text": [
      "\r",
      " 52%|████████████████████                   | 1547/3000 [02:23<02:14, 10.83it/s]"
     ]
    },
    {
     "name": "stdout",
     "output_type": "stream",
     "text": [
      "19929\n",
      "80921\n",
      "Epoch 01546 | Loss 0.0291 | train_RMSE 0.1376 | test_RMSE 0.1348 \n",
      "19929\n",
      "80921\n",
      "Epoch 01547 | Loss 0.0287 | train_RMSE 0.1383 | test_RMSE 0.1353 \n",
      "19929\n"
     ]
    },
    {
     "name": "stderr",
     "output_type": "stream",
     "text": [
      " 52%|████████████████████▏                  | 1551/3000 [02:23<02:13, 10.84it/s]"
     ]
    },
    {
     "name": "stdout",
     "output_type": "stream",
     "text": [
      "80921\n",
      "Epoch 01548 | Loss 0.0286 | train_RMSE 0.1391 | test_RMSE 0.1364 \n",
      "19929\n",
      "80921\n",
      "Epoch 01549 | Loss 0.0290 | train_RMSE 0.1399 | test_RMSE 0.1368 \n",
      "19929\n",
      "80921\n",
      "Epoch 01550 | Loss 0.0289 | train_RMSE 0.1382 | test_RMSE 0.1355 \n"
     ]
    },
    {
     "name": "stderr",
     "output_type": "stream",
     "text": [
      "\r",
      " 52%|████████████████████▏                  | 1553/3000 [02:24<02:13, 10.86it/s]"
     ]
    },
    {
     "name": "stdout",
     "output_type": "stream",
     "text": [
      "19929\n",
      "80921\n",
      "Epoch 01551 | Loss 0.0292 | train_RMSE 0.1386 | test_RMSE 0.1356 \n",
      "19929\n",
      "80921\n",
      "Epoch 01552 | Loss 0.0289 | train_RMSE 0.1387 | test_RMSE 0.1358 \n",
      "19929\n"
     ]
    },
    {
     "name": "stderr",
     "output_type": "stream",
     "text": [
      "\r",
      " 52%|████████████████████▏                  | 1555/3000 [02:24<02:12, 10.88it/s]"
     ]
    },
    {
     "name": "stdout",
     "output_type": "stream",
     "text": [
      "80921\n",
      "Epoch 01553 | Loss 0.0286 | train_RMSE 0.1383 | test_RMSE 0.1354 \n",
      "19929\n",
      "80921\n",
      "Epoch 01554 | Loss 0.0288 | train_RMSE 0.1387 | test_RMSE 0.1357 \n",
      "19929\n",
      "80921\n",
      "Epoch 01555 | Loss 0.0290 | train_RMSE 0.1390 | test_RMSE 0.1363 \n"
     ]
    },
    {
     "name": "stderr",
     "output_type": "stream",
     "text": [
      "\r",
      " 52%|████████████████████▏                  | 1557/3000 [02:24<02:12, 10.89it/s]"
     ]
    },
    {
     "name": "stdout",
     "output_type": "stream",
     "text": [
      "19929\n",
      "80921\n",
      "Epoch 01556 | Loss 0.0289 | train_RMSE 0.1413 | test_RMSE 0.1381 \n",
      "19929\n",
      "80921\n",
      "Epoch 01557 | Loss 0.0291 | train_RMSE 0.1392 | test_RMSE 0.1366 \n",
      "19929\n"
     ]
    },
    {
     "name": "stderr",
     "output_type": "stream",
     "text": [
      " 52%|████████████████████▎                  | 1561/3000 [02:24<02:11, 10.92it/s]"
     ]
    },
    {
     "name": "stdout",
     "output_type": "stream",
     "text": [
      "80921\n",
      "Epoch 01558 | Loss 0.0290 | train_RMSE 0.1384 | test_RMSE 0.1354 \n",
      "19929\n",
      "80921\n",
      "Epoch 01559 | Loss 0.0291 | train_RMSE 0.1379 | test_RMSE 0.1351 \n",
      "19929\n",
      "80921\n",
      "Epoch 01560 | Loss 0.0287 | train_RMSE 0.1392 | test_RMSE 0.1362 \n"
     ]
    },
    {
     "name": "stderr",
     "output_type": "stream",
     "text": [
      "\r",
      " 52%|████████████████████▎                  | 1563/3000 [02:25<02:11, 10.91it/s]"
     ]
    },
    {
     "name": "stdout",
     "output_type": "stream",
     "text": [
      "19929\n",
      "80921\n",
      "Epoch 01561 | Loss 0.0284 | train_RMSE 0.1385 | test_RMSE 0.1355 \n",
      "19929\n",
      "80921\n",
      "Epoch 01562 | Loss 0.0288 | train_RMSE 0.1376 | test_RMSE 0.1349 \n",
      "19929\n"
     ]
    },
    {
     "name": "stderr",
     "output_type": "stream",
     "text": [
      "\r",
      " 52%|████████████████████▎                  | 1565/3000 [02:25<02:11, 10.88it/s]"
     ]
    },
    {
     "name": "stdout",
     "output_type": "stream",
     "text": [
      "80921\n",
      "Epoch 01563 | Loss 0.0289 | train_RMSE 0.1392 | test_RMSE 0.1361 \n",
      "19929\n",
      "80921\n",
      "Epoch 01564 | Loss 0.0289 | train_RMSE 0.1394 | test_RMSE 0.1365 \n",
      "19929\n",
      "80921\n",
      "Epoch 01565 | Loss 0.0289 | train_RMSE 0.1386 | test_RMSE 0.1355 \n"
     ]
    },
    {
     "name": "stderr",
     "output_type": "stream",
     "text": [
      "\r",
      " 52%|████████████████████▎                  | 1567/3000 [02:25<02:11, 10.86it/s]"
     ]
    },
    {
     "name": "stdout",
     "output_type": "stream",
     "text": [
      "19929\n",
      "80921\n",
      "Epoch 01566 | Loss 0.0286 | train_RMSE 0.1378 | test_RMSE 0.1349 \n",
      "19929\n",
      "80921\n",
      "Epoch 01567 | Loss 0.0287 | train_RMSE 0.1376 | test_RMSE 0.1347 \n",
      "19929\n"
     ]
    },
    {
     "name": "stderr",
     "output_type": "stream",
     "text": [
      " 52%|████████████████████▍                  | 1571/3000 [02:25<02:11, 10.85it/s]"
     ]
    },
    {
     "name": "stdout",
     "output_type": "stream",
     "text": [
      "80921\n",
      "Epoch 01568 | Loss 0.0283 | train_RMSE 0.1386 | test_RMSE 0.1355 \n",
      "19929\n",
      "80921\n",
      "Epoch 01569 | Loss 0.0284 | train_RMSE 0.1381 | test_RMSE 0.1352 \n",
      "19929\n",
      "80921\n",
      "Epoch 01570 | Loss 0.0289 | train_RMSE 0.1383 | test_RMSE 0.1353 \n"
     ]
    },
    {
     "name": "stderr",
     "output_type": "stream",
     "text": [
      "\r",
      " 52%|████████████████████▍                  | 1573/3000 [02:25<02:11, 10.84it/s]"
     ]
    },
    {
     "name": "stdout",
     "output_type": "stream",
     "text": [
      "19929\n",
      "80921\n",
      "Epoch 01571 | Loss 0.0284 | train_RMSE 0.1379 | test_RMSE 0.1352 \n",
      "19929\n",
      "80921\n",
      "Epoch 01572 | Loss 0.0286 | train_RMSE 0.1385 | test_RMSE 0.1355 \n",
      "19929\n"
     ]
    },
    {
     "name": "stderr",
     "output_type": "stream",
     "text": [
      "\r",
      " 52%|████████████████████▍                  | 1575/3000 [02:26<02:11, 10.83it/s]"
     ]
    },
    {
     "name": "stdout",
     "output_type": "stream",
     "text": [
      "80921\n",
      "Epoch 01573 | Loss 0.0284 | train_RMSE 0.1386 | test_RMSE 0.1357 \n",
      "19929\n",
      "80921\n",
      "Epoch 01574 | Loss 0.0285 | train_RMSE 0.1383 | test_RMSE 0.1352 \n",
      "19929\n",
      "80921\n",
      "Epoch 01575 | Loss 0.0287 | train_RMSE 0.1376 | test_RMSE 0.1347 \n"
     ]
    },
    {
     "name": "stderr",
     "output_type": "stream",
     "text": [
      "\r",
      " 53%|████████████████████▌                  | 1577/3000 [02:26<02:11, 10.83it/s]"
     ]
    },
    {
     "name": "stdout",
     "output_type": "stream",
     "text": [
      "19929\n",
      "80921\n",
      "Epoch 01576 | Loss 0.0288 | train_RMSE 0.1379 | test_RMSE 0.1350 \n",
      "19929\n",
      "80921\n",
      "Epoch 01577 | Loss 0.0284 | train_RMSE 0.1386 | test_RMSE 0.1356 \n",
      "19929\n"
     ]
    },
    {
     "name": "stderr",
     "output_type": "stream",
     "text": [
      " 53%|████████████████████▌                  | 1581/3000 [02:26<02:10, 10.84it/s]"
     ]
    },
    {
     "name": "stdout",
     "output_type": "stream",
     "text": [
      "80921\n",
      "Epoch 01578 | Loss 0.0284 | train_RMSE 0.1377 | test_RMSE 0.1349 \n",
      "19929\n",
      "80921\n",
      "Epoch 01579 | Loss 0.0285 | train_RMSE 0.1380 | test_RMSE 0.1350 \n",
      "19929\n",
      "80921\n",
      "Epoch 01580 | Loss 0.0288 | train_RMSE 0.1375 | test_RMSE 0.1348 \n"
     ]
    },
    {
     "name": "stderr",
     "output_type": "stream",
     "text": [
      "\r",
      " 53%|████████████████████▌                  | 1583/3000 [02:26<02:10, 10.84it/s]"
     ]
    },
    {
     "name": "stdout",
     "output_type": "stream",
     "text": [
      "19929\n",
      "80921\n",
      "Epoch 01581 | Loss 0.0285 | train_RMSE 0.1389 | test_RMSE 0.1359 \n",
      "19929\n",
      "80921\n",
      "Epoch 01582 | Loss 0.0284 | train_RMSE 0.1383 | test_RMSE 0.1353 \n",
      "19929\n"
     ]
    },
    {
     "name": "stderr",
     "output_type": "stream",
     "text": [
      "\r",
      " 53%|████████████████████▌                  | 1585/3000 [02:27<02:10, 10.82it/s]"
     ]
    },
    {
     "name": "stdout",
     "output_type": "stream",
     "text": [
      "80921\n",
      "Epoch 01583 | Loss 0.0286 | train_RMSE 0.1376 | test_RMSE 0.1347 \n",
      "19929\n",
      "80921\n",
      "Epoch 01584 | Loss 0.0284 | train_RMSE 0.1373 | test_RMSE 0.1345 \n",
      "19929\n",
      "80921\n",
      "Epoch 01585 | Loss 0.0282 | train_RMSE 0.1385 | test_RMSE 0.1356 \n"
     ]
    },
    {
     "name": "stderr",
     "output_type": "stream",
     "text": [
      "\r",
      " 53%|████████████████████▋                  | 1587/3000 [02:27<02:10, 10.82it/s]"
     ]
    },
    {
     "name": "stdout",
     "output_type": "stream",
     "text": [
      "19929\n",
      "80921\n",
      "Epoch 01586 | Loss 0.0284 | train_RMSE 0.1386 | test_RMSE 0.1356 \n",
      "19929\n",
      "80921\n",
      "Epoch 01587 | Loss 0.0284 | train_RMSE 0.1377 | test_RMSE 0.1348 \n",
      "19929\n"
     ]
    },
    {
     "name": "stderr",
     "output_type": "stream",
     "text": [
      " 53%|████████████████████▋                  | 1591/3000 [02:27<02:09, 10.85it/s]"
     ]
    },
    {
     "name": "stdout",
     "output_type": "stream",
     "text": [
      "80921\n",
      "Epoch 01588 | Loss 0.0288 | train_RMSE 0.1377 | test_RMSE 0.1347 \n",
      "19929\n",
      "80921\n",
      "Epoch 01589 | Loss 0.0283 | train_RMSE 0.1383 | test_RMSE 0.1354 \n",
      "19929\n",
      "80921\n",
      "Epoch 01590 | Loss 0.0282 | train_RMSE 0.1395 | test_RMSE 0.1364 \n"
     ]
    },
    {
     "name": "stderr",
     "output_type": "stream",
     "text": [
      "\r",
      " 53%|████████████████████▋                  | 1593/3000 [02:27<02:09, 10.86it/s]"
     ]
    },
    {
     "name": "stdout",
     "output_type": "stream",
     "text": [
      "19929\n",
      "80921\n",
      "Epoch 01591 | Loss 0.0286 | train_RMSE 0.1381 | test_RMSE 0.1353 \n",
      "19929\n",
      "80921\n",
      "Epoch 01592 | Loss 0.0287 | train_RMSE 0.1384 | test_RMSE 0.1353 \n",
      "19929\n"
     ]
    },
    {
     "name": "stderr",
     "output_type": "stream",
     "text": [
      "\r",
      " 53%|████████████████████▋                  | 1595/3000 [02:27<02:09, 10.87it/s]"
     ]
    },
    {
     "name": "stdout",
     "output_type": "stream",
     "text": [
      "80921\n",
      "Epoch 01593 | Loss 0.0288 | train_RMSE 0.1382 | test_RMSE 0.1355 \n",
      "19929\n",
      "80921\n",
      "Epoch 01594 | Loss 0.0286 | train_RMSE 0.1392 | test_RMSE 0.1362 \n",
      "19929\n",
      "80921\n",
      "Epoch 01595 | Loss 0.0288 | train_RMSE 0.1383 | test_RMSE 0.1355 \n"
     ]
    },
    {
     "name": "stderr",
     "output_type": "stream",
     "text": [
      "\r",
      " 53%|████████████████████▊                  | 1597/3000 [02:28<02:09, 10.86it/s]"
     ]
    },
    {
     "name": "stdout",
     "output_type": "stream",
     "text": [
      "19929\n",
      "80921\n",
      "Epoch 01596 | Loss 0.0290 | train_RMSE 0.1386 | test_RMSE 0.1355 \n",
      "19929\n",
      "80921\n",
      "Epoch 01597 | Loss 0.0287 | train_RMSE 0.1380 | test_RMSE 0.1351 \n",
      "19929\n"
     ]
    },
    {
     "name": "stderr",
     "output_type": "stream",
     "text": [
      " 53%|████████████████████▊                  | 1601/3000 [02:28<02:08, 10.90it/s]"
     ]
    },
    {
     "name": "stdout",
     "output_type": "stream",
     "text": [
      "80921\n",
      "Epoch 01598 | Loss 0.0283 | train_RMSE 0.1385 | test_RMSE 0.1355 \n",
      "19929\n",
      "80921\n",
      "Epoch 01599 | Loss 0.0283 | train_RMSE 0.1378 | test_RMSE 0.1349 \n",
      "19929\n",
      "80921\n",
      "Epoch 01600 | Loss 0.0284 | train_RMSE 0.1378 | test_RMSE 0.1350 \n"
     ]
    },
    {
     "name": "stderr",
     "output_type": "stream",
     "text": [
      "\r",
      " 53%|████████████████████▊                  | 1603/3000 [02:28<02:08, 10.90it/s]"
     ]
    },
    {
     "name": "stdout",
     "output_type": "stream",
     "text": [
      "19929\n",
      "80921\n",
      "Epoch 01601 | Loss 0.0284 | train_RMSE 0.1383 | test_RMSE 0.1353 \n",
      "19929\n",
      "80921\n",
      "Epoch 01602 | Loss 0.0286 | train_RMSE 0.1381 | test_RMSE 0.1353 \n",
      "19929\n"
     ]
    },
    {
     "name": "stderr",
     "output_type": "stream",
     "text": [
      "\r",
      " 54%|████████████████████▊                  | 1605/3000 [02:28<02:08, 10.87it/s]"
     ]
    },
    {
     "name": "stdout",
     "output_type": "stream",
     "text": [
      "80921\n",
      "Epoch 01603 | Loss 0.0281 | train_RMSE 0.1384 | test_RMSE 0.1354 \n",
      "19929\n",
      "80921\n",
      "Epoch 01604 | Loss 0.0286 | train_RMSE 0.1385 | test_RMSE 0.1357 \n",
      "19929\n",
      "80921\n",
      "Epoch 01605 | Loss 0.0286 | train_RMSE 0.1398 | test_RMSE 0.1366 \n"
     ]
    },
    {
     "name": "stderr",
     "output_type": "stream",
     "text": [
      "\r",
      " 54%|████████████████████▉                  | 1607/3000 [02:29<02:07, 10.89it/s]"
     ]
    },
    {
     "name": "stdout",
     "output_type": "stream",
     "text": [
      "19929\n",
      "80921\n",
      "Epoch 01606 | Loss 0.0290 | train_RMSE 0.1393 | test_RMSE 0.1366 \n",
      "19929\n",
      "80921\n",
      "Epoch 01607 | Loss 0.0288 | train_RMSE 0.1410 | test_RMSE 0.1378 \n",
      "19929\n"
     ]
    },
    {
     "name": "stderr",
     "output_type": "stream",
     "text": [
      " 54%|████████████████████▉                  | 1611/3000 [02:29<02:07, 10.87it/s]"
     ]
    },
    {
     "name": "stdout",
     "output_type": "stream",
     "text": [
      "80921\n",
      "Epoch 01608 | Loss 0.0293 | train_RMSE 0.1412 | test_RMSE 0.1385 \n",
      "19929\n",
      "80921\n",
      "Epoch 01609 | Loss 0.0294 | train_RMSE 0.1436 | test_RMSE 0.1404 \n",
      "19929\n",
      "80921\n",
      "Epoch 01610 | Loss 0.0296 | train_RMSE 0.1412 | test_RMSE 0.1388 \n"
     ]
    },
    {
     "name": "stderr",
     "output_type": "stream",
     "text": [
      "\r",
      " 54%|████████████████████▉                  | 1613/3000 [02:29<02:07, 10.88it/s]"
     ]
    },
    {
     "name": "stdout",
     "output_type": "stream",
     "text": [
      "19929\n",
      "80921\n",
      "Epoch 01611 | Loss 0.0296 | train_RMSE 0.1434 | test_RMSE 0.1401 \n",
      "19929\n",
      "80921\n",
      "Epoch 01612 | Loss 0.0297 | train_RMSE 0.1420 | test_RMSE 0.1394 \n",
      "19929\n"
     ]
    },
    {
     "name": "stderr",
     "output_type": "stream",
     "text": [
      "\r",
      " 54%|████████████████████▉                  | 1615/3000 [02:29<02:07, 10.89it/s]"
     ]
    },
    {
     "name": "stdout",
     "output_type": "stream",
     "text": [
      "80921\n",
      "Epoch 01613 | Loss 0.0297 | train_RMSE 0.1419 | test_RMSE 0.1387 \n",
      "19929\n",
      "80921\n",
      "Epoch 01614 | Loss 0.0291 | train_RMSE 0.1379 | test_RMSE 0.1352 \n",
      "19929\n",
      "80921\n",
      "Epoch 01615 | Loss 0.0290 | train_RMSE 0.1383 | test_RMSE 0.1353 \n"
     ]
    },
    {
     "name": "stderr",
     "output_type": "stream",
     "text": [
      "\r",
      " 54%|█████████████████████                  | 1617/3000 [02:29<02:06, 10.89it/s]"
     ]
    },
    {
     "name": "stdout",
     "output_type": "stream",
     "text": [
      "19929\n",
      "80921\n",
      "Epoch 01616 | Loss 0.0287 | train_RMSE 0.1402 | test_RMSE 0.1372 \n",
      "19929\n",
      "80921\n",
      "Epoch 01617 | Loss 0.0285 | train_RMSE 0.1387 | test_RMSE 0.1358 \n",
      "19929\n"
     ]
    },
    {
     "name": "stderr",
     "output_type": "stream",
     "text": [
      " 54%|█████████████████████                  | 1621/3000 [02:30<02:06, 10.90it/s]"
     ]
    },
    {
     "name": "stdout",
     "output_type": "stream",
     "text": [
      "80921\n",
      "Epoch 01618 | Loss 0.0287 | train_RMSE 0.1389 | test_RMSE 0.1358 \n",
      "19929\n",
      "80921\n",
      "Epoch 01619 | Loss 0.0287 | train_RMSE 0.1385 | test_RMSE 0.1358 \n",
      "19929\n",
      "80921\n",
      "Epoch 01620 | Loss 0.0286 | train_RMSE 0.1408 | test_RMSE 0.1377 \n"
     ]
    },
    {
     "name": "stderr",
     "output_type": "stream",
     "text": [
      "\r",
      " 54%|█████████████████████                  | 1623/3000 [02:30<02:06, 10.90it/s]"
     ]
    },
    {
     "name": "stdout",
     "output_type": "stream",
     "text": [
      "19929\n",
      "80921\n",
      "Epoch 01621 | Loss 0.0287 | train_RMSE 0.1386 | test_RMSE 0.1357 \n",
      "19929\n",
      "80921\n",
      "Epoch 01622 | Loss 0.0287 | train_RMSE 0.1378 | test_RMSE 0.1349 \n",
      "19929\n"
     ]
    },
    {
     "name": "stderr",
     "output_type": "stream",
     "text": [
      "\r",
      " 54%|█████████████████████▏                 | 1625/3000 [02:30<02:06, 10.91it/s]"
     ]
    },
    {
     "name": "stdout",
     "output_type": "stream",
     "text": [
      "80921\n",
      "Epoch 01623 | Loss 0.0287 | train_RMSE 0.1379 | test_RMSE 0.1351 \n",
      "19929\n",
      "80921\n",
      "Epoch 01624 | Loss 0.0284 | train_RMSE 0.1388 | test_RMSE 0.1358 \n",
      "19929\n",
      "80921\n",
      "Epoch 01625 | Loss 0.0283 | train_RMSE 0.1382 | test_RMSE 0.1352 \n"
     ]
    },
    {
     "name": "stderr",
     "output_type": "stream",
     "text": [
      "\r",
      " 54%|█████████████████████▏                 | 1627/3000 [02:30<02:05, 10.91it/s]"
     ]
    },
    {
     "name": "stdout",
     "output_type": "stream",
     "text": [
      "19929\n",
      "80921\n",
      "Epoch 01626 | Loss 0.0285 | train_RMSE 0.1375 | test_RMSE 0.1346 \n",
      "19929\n",
      "80921\n",
      "Epoch 01627 | Loss 0.0285 | train_RMSE 0.1377 | test_RMSE 0.1348 \n",
      "19929\n"
     ]
    },
    {
     "name": "stderr",
     "output_type": "stream",
     "text": [
      " 54%|█████████████████████▏                 | 1631/3000 [02:31<02:05, 10.90it/s]"
     ]
    },
    {
     "name": "stdout",
     "output_type": "stream",
     "text": [
      "80921\n",
      "Epoch 01628 | Loss 0.0283 | train_RMSE 0.1386 | test_RMSE 0.1356 \n",
      "19929\n",
      "80921\n",
      "Epoch 01629 | Loss 0.0287 | train_RMSE 0.1376 | test_RMSE 0.1347 \n",
      "19929\n",
      "80921\n",
      "Epoch 01630 | Loss 0.0282 | train_RMSE 0.1384 | test_RMSE 0.1353 \n"
     ]
    },
    {
     "name": "stderr",
     "output_type": "stream",
     "text": [
      "\r",
      " 54%|█████████████████████▏                 | 1633/3000 [02:31<02:05, 10.89it/s]"
     ]
    },
    {
     "name": "stdout",
     "output_type": "stream",
     "text": [
      "19929\n",
      "80921\n",
      "Epoch 01631 | Loss 0.0282 | train_RMSE 0.1384 | test_RMSE 0.1354 \n",
      "19929\n",
      "80921\n",
      "Epoch 01632 | Loss 0.0286 | train_RMSE 0.1378 | test_RMSE 0.1349 \n",
      "19929\n"
     ]
    },
    {
     "name": "stderr",
     "output_type": "stream",
     "text": [
      "\r",
      " 55%|█████████████████████▎                 | 1635/3000 [02:31<02:05, 10.88it/s]"
     ]
    },
    {
     "name": "stdout",
     "output_type": "stream",
     "text": [
      "80921\n",
      "Epoch 01633 | Loss 0.0286 | train_RMSE 0.1372 | test_RMSE 0.1344 \n",
      "19929\n",
      "80921\n",
      "Epoch 01634 | Loss 0.0286 | train_RMSE 0.1380 | test_RMSE 0.1350 \n",
      "19929\n",
      "80921\n",
      "Epoch 01635 | Loss 0.0282 | train_RMSE 0.1385 | test_RMSE 0.1356 \n"
     ]
    },
    {
     "name": "stderr",
     "output_type": "stream",
     "text": [
      "\r",
      " 55%|█████████████████████▎                 | 1637/3000 [02:31<02:05, 10.89it/s]"
     ]
    },
    {
     "name": "stdout",
     "output_type": "stream",
     "text": [
      "19929\n",
      "80921\n",
      "Epoch 01636 | Loss 0.0282 | train_RMSE 0.1381 | test_RMSE 0.1350 \n",
      "19929\n",
      "80921\n",
      "Epoch 01637 | Loss 0.0285 | train_RMSE 0.1373 | test_RMSE 0.1344 \n",
      "19929\n"
     ]
    },
    {
     "name": "stderr",
     "output_type": "stream",
     "text": [
      " 55%|█████████████████████▎                 | 1641/3000 [02:32<02:05, 10.87it/s]"
     ]
    },
    {
     "name": "stdout",
     "output_type": "stream",
     "text": [
      "80921\n",
      "Epoch 01638 | Loss 0.0282 | train_RMSE 0.1379 | test_RMSE 0.1350 \n",
      "19929\n",
      "80921\n",
      "Epoch 01639 | Loss 0.0281 | train_RMSE 0.1386 | test_RMSE 0.1357 \n",
      "19929\n",
      "80921\n",
      "Epoch 01640 | Loss 0.0282 | train_RMSE 0.1383 | test_RMSE 0.1353 \n"
     ]
    },
    {
     "name": "stderr",
     "output_type": "stream",
     "text": [
      "\r",
      " 55%|█████████████████████▎                 | 1643/3000 [02:32<02:04, 10.90it/s]"
     ]
    },
    {
     "name": "stdout",
     "output_type": "stream",
     "text": [
      "19929\n",
      "80921\n",
      "Epoch 01641 | Loss 0.0284 | train_RMSE 0.1376 | test_RMSE 0.1348 \n",
      "19929\n",
      "80921\n",
      "Epoch 01642 | Loss 0.0283 | train_RMSE 0.1396 | test_RMSE 0.1364 \n",
      "19929\n"
     ]
    },
    {
     "name": "stderr",
     "output_type": "stream",
     "text": [
      "\r",
      " 55%|█████████████████████▍                 | 1645/3000 [02:32<02:04, 10.91it/s]"
     ]
    },
    {
     "name": "stdout",
     "output_type": "stream",
     "text": [
      "80921\n",
      "Epoch 01643 | Loss 0.0286 | train_RMSE 0.1386 | test_RMSE 0.1357 \n",
      "19929\n",
      "80921\n",
      "Epoch 01644 | Loss 0.0285 | train_RMSE 0.1383 | test_RMSE 0.1352 \n",
      "19929\n",
      "80921\n",
      "Epoch 01645 | Loss 0.0285 | train_RMSE 0.1381 | test_RMSE 0.1354 \n"
     ]
    },
    {
     "name": "stderr",
     "output_type": "stream",
     "text": [
      "\r",
      " 55%|█████████████████████▍                 | 1647/3000 [02:32<02:04, 10.91it/s]"
     ]
    },
    {
     "name": "stdout",
     "output_type": "stream",
     "text": [
      "19929\n",
      "80921\n",
      "Epoch 01646 | Loss 0.0283 | train_RMSE 0.1399 | test_RMSE 0.1367 \n",
      "19929\n",
      "80921\n",
      "Epoch 01647 | Loss 0.0289 | train_RMSE 0.1389 | test_RMSE 0.1361 \n",
      "19929\n"
     ]
    },
    {
     "name": "stderr",
     "output_type": "stream",
     "text": [
      " 55%|█████████████████████▍                 | 1651/3000 [02:33<02:03, 10.88it/s]"
     ]
    },
    {
     "name": "stdout",
     "output_type": "stream",
     "text": [
      "80921\n",
      "Epoch 01648 | Loss 0.0287 | train_RMSE 0.1398 | test_RMSE 0.1366 \n",
      "19929\n",
      "80921\n",
      "Epoch 01649 | Loss 0.0290 | train_RMSE 0.1387 | test_RMSE 0.1360 \n",
      "19929\n",
      "80921\n",
      "Epoch 01650 | Loss 0.0290 | train_RMSE 0.1405 | test_RMSE 0.1374 \n"
     ]
    },
    {
     "name": "stderr",
     "output_type": "stream",
     "text": [
      "\r",
      " 55%|█████████████████████▍                 | 1653/3000 [02:33<02:03, 10.87it/s]"
     ]
    },
    {
     "name": "stdout",
     "output_type": "stream",
     "text": [
      "19929\n",
      "80921\n",
      "Epoch 01651 | Loss 0.0290 | train_RMSE 0.1383 | test_RMSE 0.1356 \n",
      "19929\n",
      "80921\n",
      "Epoch 01652 | Loss 0.0287 | train_RMSE 0.1387 | test_RMSE 0.1356 \n",
      "19929\n"
     ]
    },
    {
     "name": "stderr",
     "output_type": "stream",
     "text": [
      "\r",
      " 55%|█████████████████████▌                 | 1655/3000 [02:33<02:03, 10.87it/s]"
     ]
    },
    {
     "name": "stdout",
     "output_type": "stream",
     "text": [
      "80921\n",
      "Epoch 01653 | Loss 0.0286 | train_RMSE 0.1392 | test_RMSE 0.1363 \n",
      "19929\n",
      "80921\n",
      "Epoch 01654 | Loss 0.0283 | train_RMSE 0.1392 | test_RMSE 0.1361 \n",
      "19929\n",
      "80921\n",
      "Epoch 01655 | Loss 0.0286 | train_RMSE 0.1372 | test_RMSE 0.1344 \n"
     ]
    },
    {
     "name": "stderr",
     "output_type": "stream",
     "text": [
      "\r",
      " 55%|█████████████████████▌                 | 1657/3000 [02:33<02:03, 10.87it/s]"
     ]
    },
    {
     "name": "stdout",
     "output_type": "stream",
     "text": [
      "19929\n",
      "80921\n",
      "Epoch 01656 | Loss 0.0282 | train_RMSE 0.1374 | test_RMSE 0.1344 \n",
      "19929\n",
      "80921\n",
      "Epoch 01657 | Loss 0.0283 | train_RMSE 0.1385 | test_RMSE 0.1355 \n",
      "19929\n"
     ]
    },
    {
     "name": "stderr",
     "output_type": "stream",
     "text": [
      " 55%|█████████████████████▌                 | 1661/3000 [02:34<02:03, 10.88it/s]"
     ]
    },
    {
     "name": "stdout",
     "output_type": "stream",
     "text": [
      "80921\n",
      "Epoch 01658 | Loss 0.0285 | train_RMSE 0.1386 | test_RMSE 0.1358 \n",
      "19929\n",
      "80921\n",
      "Epoch 01659 | Loss 0.0286 | train_RMSE 0.1382 | test_RMSE 0.1352 \n",
      "19929\n",
      "80921\n",
      "Epoch 01660 | Loss 0.0287 | train_RMSE 0.1374 | test_RMSE 0.1346 \n"
     ]
    },
    {
     "name": "stderr",
     "output_type": "stream",
     "text": [
      "\r",
      " 55%|█████████████████████▌                 | 1663/3000 [02:34<02:02, 10.88it/s]"
     ]
    },
    {
     "name": "stdout",
     "output_type": "stream",
     "text": [
      "19929\n",
      "80921\n",
      "Epoch 01661 | Loss 0.0285 | train_RMSE 0.1385 | test_RMSE 0.1354 \n",
      "19929\n",
      "80921\n",
      "Epoch 01662 | Loss 0.0287 | train_RMSE 0.1391 | test_RMSE 0.1362 \n",
      "19929\n"
     ]
    },
    {
     "name": "stderr",
     "output_type": "stream",
     "text": [
      "\r",
      " 56%|█████████████████████▋                 | 1665/3000 [02:34<02:02, 10.89it/s]"
     ]
    },
    {
     "name": "stdout",
     "output_type": "stream",
     "text": [
      "80921\n",
      "Epoch 01663 | Loss 0.0288 | train_RMSE 0.1401 | test_RMSE 0.1370 \n",
      "19929\n",
      "80921\n",
      "Epoch 01664 | Loss 0.0289 | train_RMSE 0.1394 | test_RMSE 0.1367 \n",
      "19929\n",
      "80921\n",
      "Epoch 01665 | Loss 0.0290 | train_RMSE 0.1425 | test_RMSE 0.1394 \n"
     ]
    },
    {
     "name": "stderr",
     "output_type": "stream",
     "text": [
      "\r",
      " 56%|█████████████████████▋                 | 1667/3000 [02:34<02:02, 10.88it/s]"
     ]
    },
    {
     "name": "stdout",
     "output_type": "stream",
     "text": [
      "19929\n",
      "80921\n",
      "Epoch 01666 | Loss 0.0296 | train_RMSE 0.1438 | test_RMSE 0.1413 \n",
      "19929\n",
      "80921\n",
      "Epoch 01667 | Loss 0.0300 | train_RMSE 0.1478 | test_RMSE 0.1445 \n",
      "19929\n"
     ]
    },
    {
     "name": "stderr",
     "output_type": "stream",
     "text": [
      " 56%|█████████████████████▋                 | 1671/3000 [02:34<02:01, 10.91it/s]"
     ]
    },
    {
     "name": "stdout",
     "output_type": "stream",
     "text": [
      "80921\n",
      "Epoch 01668 | Loss 0.0306 | train_RMSE 0.1435 | test_RMSE 0.1411 \n",
      "19929\n",
      "80921\n",
      "Epoch 01669 | Loss 0.0306 | train_RMSE 0.1440 | test_RMSE 0.1408 \n",
      "19929\n",
      "80921\n",
      "Epoch 01670 | Loss 0.0299 | train_RMSE 0.1403 | test_RMSE 0.1377 \n"
     ]
    },
    {
     "name": "stderr",
     "output_type": "stream",
     "text": [
      "\r",
      " 56%|█████████████████████▋                 | 1673/3000 [02:35<02:01, 10.90it/s]"
     ]
    },
    {
     "name": "stdout",
     "output_type": "stream",
     "text": [
      "19929\n",
      "80921\n",
      "Epoch 01671 | Loss 0.0292 | train_RMSE 0.1390 | test_RMSE 0.1360 \n",
      "19929\n",
      "80921\n",
      "Epoch 01672 | Loss 0.0286 | train_RMSE 0.1379 | test_RMSE 0.1349 \n",
      "19929\n"
     ]
    },
    {
     "name": "stderr",
     "output_type": "stream",
     "text": [
      "\r",
      " 56%|█████████████████████▊                 | 1675/3000 [02:35<02:01, 10.91it/s]"
     ]
    },
    {
     "name": "stdout",
     "output_type": "stream",
     "text": [
      "80921\n",
      "Epoch 01673 | Loss 0.0285 | train_RMSE 0.1388 | test_RMSE 0.1361 \n",
      "19929\n",
      "80921\n",
      "Epoch 01674 | Loss 0.0287 | train_RMSE 0.1423 | test_RMSE 0.1391 \n",
      "19929\n",
      "80921\n",
      "Epoch 01675 | Loss 0.0293 | train_RMSE 0.1401 | test_RMSE 0.1375 \n"
     ]
    },
    {
     "name": "stderr",
     "output_type": "stream",
     "text": [
      "\r",
      " 56%|█████████████████████▊                 | 1677/3000 [02:35<02:01, 10.90it/s]"
     ]
    },
    {
     "name": "stdout",
     "output_type": "stream",
     "text": [
      "19929\n",
      "80921\n",
      "Epoch 01676 | Loss 0.0291 | train_RMSE 0.1399 | test_RMSE 0.1368 \n",
      "19929\n",
      "80921\n",
      "Epoch 01677 | Loss 0.0288 | train_RMSE 0.1379 | test_RMSE 0.1351 \n",
      "19929\n"
     ]
    },
    {
     "name": "stderr",
     "output_type": "stream",
     "text": [
      " 56%|█████████████████████▊                 | 1681/3000 [02:35<02:01, 10.90it/s]"
     ]
    },
    {
     "name": "stdout",
     "output_type": "stream",
     "text": [
      "80921\n",
      "Epoch 01678 | Loss 0.0285 | train_RMSE 0.1388 | test_RMSE 0.1358 \n",
      "19929\n",
      "80921\n",
      "Epoch 01679 | Loss 0.0283 | train_RMSE 0.1392 | test_RMSE 0.1361 \n",
      "19929\n",
      "80921\n",
      "Epoch 01680 | Loss 0.0286 | train_RMSE 0.1387 | test_RMSE 0.1360 \n"
     ]
    },
    {
     "name": "stderr",
     "output_type": "stream",
     "text": [
      "\r",
      " 56%|█████████████████████▉                 | 1683/3000 [02:36<02:00, 10.89it/s]"
     ]
    },
    {
     "name": "stdout",
     "output_type": "stream",
     "text": [
      "19929\n",
      "80921\n",
      "Epoch 01681 | Loss 0.0292 | train_RMSE 0.1414 | test_RMSE 0.1382 \n",
      "19929\n",
      "80921\n",
      "Epoch 01682 | Loss 0.0292 | train_RMSE 0.1415 | test_RMSE 0.1387 \n",
      "19929\n"
     ]
    },
    {
     "name": "stderr",
     "output_type": "stream",
     "text": [
      "\r",
      " 56%|█████████████████████▉                 | 1685/3000 [02:36<02:00, 10.89it/s]"
     ]
    },
    {
     "name": "stdout",
     "output_type": "stream",
     "text": [
      "80921\n",
      "Epoch 01683 | Loss 0.0292 | train_RMSE 0.1410 | test_RMSE 0.1378 \n",
      "19929\n",
      "80921\n",
      "Epoch 01684 | Loss 0.0288 | train_RMSE 0.1374 | test_RMSE 0.1346 \n",
      "19929\n",
      "80921\n",
      "Epoch 01685 | Loss 0.0282 | train_RMSE 0.1373 | test_RMSE 0.1344 \n"
     ]
    },
    {
     "name": "stderr",
     "output_type": "stream",
     "text": [
      "\r",
      " 56%|█████████████████████▉                 | 1687/3000 [02:36<02:00, 10.89it/s]"
     ]
    },
    {
     "name": "stdout",
     "output_type": "stream",
     "text": [
      "19929\n",
      "80921\n",
      "Epoch 01686 | Loss 0.0281 | train_RMSE 0.1400 | test_RMSE 0.1369 \n",
      "19929\n",
      "80921\n",
      "Epoch 01687 | Loss 0.0287 | train_RMSE 0.1394 | test_RMSE 0.1367 \n",
      "19929\n"
     ]
    },
    {
     "name": "stderr",
     "output_type": "stream",
     "text": [
      " 56%|█████████████████████▉                 | 1691/3000 [02:36<02:00, 10.88it/s]"
     ]
    },
    {
     "name": "stdout",
     "output_type": "stream",
     "text": [
      "80921\n",
      "Epoch 01688 | Loss 0.0287 | train_RMSE 0.1394 | test_RMSE 0.1363 \n",
      "19929\n",
      "80921\n",
      "Epoch 01689 | Loss 0.0289 | train_RMSE 0.1381 | test_RMSE 0.1354 \n",
      "19929\n",
      "80921\n",
      "Epoch 01690 | Loss 0.0285 | train_RMSE 0.1402 | test_RMSE 0.1371 \n"
     ]
    },
    {
     "name": "stderr",
     "output_type": "stream",
     "text": [
      "\r",
      " 56%|██████████████████████                 | 1693/3000 [02:36<02:00, 10.86it/s]"
     ]
    },
    {
     "name": "stdout",
     "output_type": "stream",
     "text": [
      "19929\n",
      "80921\n",
      "Epoch 01691 | Loss 0.0288 | train_RMSE 0.1378 | test_RMSE 0.1348 \n",
      "19929\n",
      "80921\n",
      "Epoch 01692 | Loss 0.0284 | train_RMSE 0.1373 | test_RMSE 0.1345 \n",
      "19929\n"
     ]
    },
    {
     "name": "stderr",
     "output_type": "stream",
     "text": [
      "\r",
      " 56%|██████████████████████                 | 1695/3000 [02:37<02:00, 10.86it/s]"
     ]
    },
    {
     "name": "stdout",
     "output_type": "stream",
     "text": [
      "80921\n",
      "Epoch 01693 | Loss 0.0286 | train_RMSE 0.1389 | test_RMSE 0.1358 \n",
      "19929\n",
      "80921\n",
      "Epoch 01694 | Loss 0.0290 | train_RMSE 0.1394 | test_RMSE 0.1366 \n",
      "19929\n",
      "80921\n",
      "Epoch 01695 | Loss 0.0287 | train_RMSE 0.1386 | test_RMSE 0.1355 \n"
     ]
    },
    {
     "name": "stderr",
     "output_type": "stream",
     "text": [
      "\r",
      " 57%|██████████████████████                 | 1697/3000 [02:37<02:00, 10.86it/s]"
     ]
    },
    {
     "name": "stdout",
     "output_type": "stream",
     "text": [
      "19929\n",
      "80921\n",
      "Epoch 01696 | Loss 0.0284 | train_RMSE 0.1374 | test_RMSE 0.1345 \n",
      "19929\n",
      "80921\n",
      "Epoch 01697 | Loss 0.0287 | train_RMSE 0.1378 | test_RMSE 0.1349 \n",
      "19929\n"
     ]
    },
    {
     "name": "stderr",
     "output_type": "stream",
     "text": [
      " 57%|██████████████████████                 | 1701/3000 [02:37<01:59, 10.86it/s]"
     ]
    },
    {
     "name": "stdout",
     "output_type": "stream",
     "text": [
      "80921\n",
      "Epoch 01698 | Loss 0.0284 | train_RMSE 0.1384 | test_RMSE 0.1355 \n",
      "19929\n",
      "80921\n",
      "Epoch 01699 | Loss 0.0283 | train_RMSE 0.1377 | test_RMSE 0.1348 \n",
      "19929\n",
      "80921\n",
      "Epoch 01700 | Loss 0.0284 | train_RMSE 0.1374 | test_RMSE 0.1344 \n"
     ]
    },
    {
     "name": "stderr",
     "output_type": "stream",
     "text": [
      "\r",
      " 57%|██████████████████████▏                | 1703/3000 [02:37<01:59, 10.84it/s]"
     ]
    },
    {
     "name": "stdout",
     "output_type": "stream",
     "text": [
      "19929\n",
      "80921\n",
      "Epoch 01701 | Loss 0.0284 | train_RMSE 0.1380 | test_RMSE 0.1351 \n",
      "19929\n",
      "80921\n",
      "Epoch 01702 | Loss 0.0282 | train_RMSE 0.1383 | test_RMSE 0.1353 \n",
      "19929\n"
     ]
    },
    {
     "name": "stderr",
     "output_type": "stream",
     "text": [
      "\r",
      " 57%|██████████████████████▏                | 1705/3000 [02:38<01:59, 10.84it/s]"
     ]
    },
    {
     "name": "stdout",
     "output_type": "stream",
     "text": [
      "80921\n",
      "Epoch 01703 | Loss 0.0284 | train_RMSE 0.1374 | test_RMSE 0.1346 \n",
      "19929\n",
      "80921\n",
      "Epoch 01704 | Loss 0.0282 | train_RMSE 0.1376 | test_RMSE 0.1346 \n",
      "19929\n",
      "80921\n",
      "Epoch 01705 | Loss 0.0286 | train_RMSE 0.1384 | test_RMSE 0.1354 \n"
     ]
    },
    {
     "name": "stderr",
     "output_type": "stream",
     "text": [
      "\r",
      " 57%|██████████████████████▏                | 1707/3000 [02:38<01:59, 10.83it/s]"
     ]
    },
    {
     "name": "stdout",
     "output_type": "stream",
     "text": [
      "19929\n",
      "80921\n",
      "Epoch 01706 | Loss 0.0284 | train_RMSE 0.1378 | test_RMSE 0.1348 \n",
      "19929\n",
      "80921\n",
      "Epoch 01707 | Loss 0.0284 | train_RMSE 0.1373 | test_RMSE 0.1344 \n",
      "19929\n"
     ]
    },
    {
     "name": "stderr",
     "output_type": "stream",
     "text": [
      " 57%|██████████████████████▏                | 1711/3000 [02:38<01:58, 10.84it/s]"
     ]
    },
    {
     "name": "stdout",
     "output_type": "stream",
     "text": [
      "80921\n",
      "Epoch 01708 | Loss 0.0282 | train_RMSE 0.1383 | test_RMSE 0.1355 \n",
      "19929\n",
      "80921\n",
      "Epoch 01709 | Loss 0.0287 | train_RMSE 0.1399 | test_RMSE 0.1368 \n",
      "19929\n",
      "80921\n",
      "Epoch 01710 | Loss 0.0288 | train_RMSE 0.1388 | test_RMSE 0.1360 \n"
     ]
    },
    {
     "name": "stderr",
     "output_type": "stream",
     "text": [
      "\r",
      " 57%|██████████████████████▎                | 1713/3000 [02:38<01:58, 10.83it/s]"
     ]
    },
    {
     "name": "stdout",
     "output_type": "stream",
     "text": [
      "19929\n",
      "80921\n",
      "Epoch 01711 | Loss 0.0290 | train_RMSE 0.1396 | test_RMSE 0.1365 \n",
      "19929\n",
      "80921\n",
      "Epoch 01712 | Loss 0.0287 | train_RMSE 0.1394 | test_RMSE 0.1367 \n",
      "19929\n"
     ]
    },
    {
     "name": "stderr",
     "output_type": "stream",
     "text": [
      "\r",
      " 57%|██████████████████████▎                | 1715/3000 [02:38<01:58, 10.82it/s]"
     ]
    },
    {
     "name": "stdout",
     "output_type": "stream",
     "text": [
      "80921\n",
      "Epoch 01713 | Loss 0.0290 | train_RMSE 0.1423 | test_RMSE 0.1390 \n",
      "19929\n",
      "80921\n",
      "Epoch 01714 | Loss 0.0291 | train_RMSE 0.1393 | test_RMSE 0.1366 \n",
      "19929\n",
      "80921\n",
      "Epoch 01715 | Loss 0.0291 | train_RMSE 0.1399 | test_RMSE 0.1368 \n"
     ]
    },
    {
     "name": "stderr",
     "output_type": "stream",
     "text": [
      "\r",
      " 57%|██████████████████████▎                | 1717/3000 [02:39<01:58, 10.82it/s]"
     ]
    },
    {
     "name": "stdout",
     "output_type": "stream",
     "text": [
      "19929\n",
      "80921\n",
      "Epoch 01716 | Loss 0.0291 | train_RMSE 0.1399 | test_RMSE 0.1371 \n",
      "19929\n",
      "80921\n",
      "Epoch 01717 | Loss 0.0289 | train_RMSE 0.1404 | test_RMSE 0.1373 \n",
      "19929\n"
     ]
    },
    {
     "name": "stderr",
     "output_type": "stream",
     "text": [
      " 57%|██████████████████████▎                | 1721/3000 [02:39<01:57, 10.87it/s]"
     ]
    },
    {
     "name": "stdout",
     "output_type": "stream",
     "text": [
      "80921\n",
      "Epoch 01718 | Loss 0.0284 | train_RMSE 0.1377 | test_RMSE 0.1349 \n",
      "19929\n",
      "80921\n",
      "Epoch 01719 | Loss 0.0282 | train_RMSE 0.1375 | test_RMSE 0.1346 \n",
      "19929\n",
      "80921\n",
      "Epoch 01720 | Loss 0.0282 | train_RMSE 0.1383 | test_RMSE 0.1353 \n"
     ]
    },
    {
     "name": "stderr",
     "output_type": "stream",
     "text": [
      "\r",
      " 57%|██████████████████████▍                | 1723/3000 [02:39<01:57, 10.87it/s]"
     ]
    },
    {
     "name": "stdout",
     "output_type": "stream",
     "text": [
      "19929\n",
      "80921\n",
      "Epoch 01721 | Loss 0.0284 | train_RMSE 0.1387 | test_RMSE 0.1359 \n",
      "19929\n",
      "80921\n",
      "Epoch 01722 | Loss 0.0286 | train_RMSE 0.1399 | test_RMSE 0.1368 \n",
      "19929\n"
     ]
    },
    {
     "name": "stderr",
     "output_type": "stream",
     "text": [
      "\r",
      " 57%|██████████████████████▍                | 1725/3000 [02:39<01:57, 10.86it/s]"
     ]
    },
    {
     "name": "stdout",
     "output_type": "stream",
     "text": [
      "80921\n",
      "Epoch 01723 | Loss 0.0286 | train_RMSE 0.1392 | test_RMSE 0.1366 \n",
      "19929\n",
      "80921\n",
      "Epoch 01724 | Loss 0.0287 | train_RMSE 0.1409 | test_RMSE 0.1377 \n",
      "19929\n",
      "80921\n",
      "Epoch 01725 | Loss 0.0288 | train_RMSE 0.1387 | test_RMSE 0.1359 \n"
     ]
    },
    {
     "name": "stderr",
     "output_type": "stream",
     "text": [
      "\r",
      " 58%|██████████████████████▍                | 1727/3000 [02:40<01:57, 10.85it/s]"
     ]
    },
    {
     "name": "stdout",
     "output_type": "stream",
     "text": [
      "19929\n",
      "80921\n",
      "Epoch 01726 | Loss 0.0288 | train_RMSE 0.1378 | test_RMSE 0.1348 \n",
      "19929\n",
      "80921\n",
      "Epoch 01727 | Loss 0.0283 | train_RMSE 0.1374 | test_RMSE 0.1345 \n",
      "19929\n"
     ]
    },
    {
     "name": "stderr",
     "output_type": "stream",
     "text": [
      " 58%|██████████████████████▌                | 1731/3000 [02:40<01:56, 10.87it/s]"
     ]
    },
    {
     "name": "stdout",
     "output_type": "stream",
     "text": [
      "80921\n",
      "Epoch 01728 | Loss 0.0284 | train_RMSE 0.1382 | test_RMSE 0.1354 \n",
      "19929\n",
      "80921\n",
      "Epoch 01729 | Loss 0.0286 | train_RMSE 0.1394 | test_RMSE 0.1363 \n",
      "19929\n",
      "80921\n",
      "Epoch 01730 | Loss 0.0286 | train_RMSE 0.1383 | test_RMSE 0.1357 \n"
     ]
    },
    {
     "name": "stderr",
     "output_type": "stream",
     "text": [
      "\r",
      " 58%|██████████████████████▌                | 1733/3000 [02:40<01:56, 10.88it/s]"
     ]
    },
    {
     "name": "stdout",
     "output_type": "stream",
     "text": [
      "19929\n",
      "80921\n",
      "Epoch 01731 | Loss 0.0287 | train_RMSE 0.1396 | test_RMSE 0.1365 \n",
      "19929\n",
      "80921\n",
      "Epoch 01732 | Loss 0.0287 | train_RMSE 0.1393 | test_RMSE 0.1364 \n",
      "19929\n"
     ]
    },
    {
     "name": "stderr",
     "output_type": "stream",
     "text": [
      "\r",
      " 58%|██████████████████████▌                | 1735/3000 [02:40<01:56, 10.87it/s]"
     ]
    },
    {
     "name": "stdout",
     "output_type": "stream",
     "text": [
      "80921\n",
      "Epoch 01733 | Loss 0.0287 | train_RMSE 0.1392 | test_RMSE 0.1360 \n",
      "19929\n",
      "80921\n",
      "Epoch 01734 | Loss 0.0284 | train_RMSE 0.1373 | test_RMSE 0.1345 \n",
      "19929\n",
      "80921\n",
      "Epoch 01735 | Loss 0.0284 | train_RMSE 0.1381 | test_RMSE 0.1351 \n"
     ]
    },
    {
     "name": "stderr",
     "output_type": "stream",
     "text": [
      "\r",
      " 58%|██████████████████████▌                | 1737/3000 [02:41<01:56, 10.85it/s]"
     ]
    },
    {
     "name": "stdout",
     "output_type": "stream",
     "text": [
      "19929\n",
      "80921\n",
      "Epoch 01736 | Loss 0.0281 | train_RMSE 0.1389 | test_RMSE 0.1359 \n",
      "19929\n",
      "80921\n",
      "Epoch 01737 | Loss 0.0282 | train_RMSE 0.1380 | test_RMSE 0.1351 \n",
      "19929\n"
     ]
    },
    {
     "name": "stderr",
     "output_type": "stream",
     "text": [
      " 58%|██████████████████████▋                | 1741/3000 [02:41<01:56, 10.85it/s]"
     ]
    },
    {
     "name": "stdout",
     "output_type": "stream",
     "text": [
      "80921\n",
      "Epoch 01738 | Loss 0.0282 | train_RMSE 0.1388 | test_RMSE 0.1357 \n",
      "19929\n",
      "80921\n",
      "Epoch 01739 | Loss 0.0286 | train_RMSE 0.1400 | test_RMSE 0.1373 \n",
      "19929\n",
      "80921\n",
      "Epoch 01740 | Loss 0.0289 | train_RMSE 0.1418 | test_RMSE 0.1386 \n"
     ]
    },
    {
     "name": "stderr",
     "output_type": "stream",
     "text": [
      "\r",
      " 58%|██████████████████████▋                | 1743/3000 [02:41<01:56, 10.84it/s]"
     ]
    },
    {
     "name": "stdout",
     "output_type": "stream",
     "text": [
      "19929\n",
      "80921\n",
      "Epoch 01741 | Loss 0.0289 | train_RMSE 0.1397 | test_RMSE 0.1371 \n",
      "19929\n",
      "80921\n",
      "Epoch 01742 | Loss 0.0292 | train_RMSE 0.1406 | test_RMSE 0.1374 \n",
      "19929\n"
     ]
    },
    {
     "name": "stderr",
     "output_type": "stream",
     "text": [
      "\r",
      " 58%|██████████████████████▋                | 1745/3000 [02:41<01:55, 10.83it/s]"
     ]
    },
    {
     "name": "stdout",
     "output_type": "stream",
     "text": [
      "80921\n",
      "Epoch 01743 | Loss 0.0293 | train_RMSE 0.1398 | test_RMSE 0.1370 \n",
      "19929\n",
      "80921\n",
      "Epoch 01744 | Loss 0.0286 | train_RMSE 0.1397 | test_RMSE 0.1366 \n",
      "19929\n",
      "80921\n",
      "Epoch 01745 | Loss 0.0286 | train_RMSE 0.1371 | test_RMSE 0.1344 \n"
     ]
    },
    {
     "name": "stderr",
     "output_type": "stream",
     "text": [
      "\r",
      " 58%|██████████████████████▋                | 1747/3000 [02:41<01:55, 10.83it/s]"
     ]
    },
    {
     "name": "stdout",
     "output_type": "stream",
     "text": [
      "19929\n",
      "80921\n",
      "Epoch 01746 | Loss 0.0285 | train_RMSE 0.1373 | test_RMSE 0.1345 \n",
      "19929\n",
      "80921\n",
      "Epoch 01747 | Loss 0.0284 | train_RMSE 0.1399 | test_RMSE 0.1368 \n",
      "19929\n"
     ]
    },
    {
     "name": "stderr",
     "output_type": "stream",
     "text": [
      " 58%|██████████████████████▊                | 1751/3000 [02:42<01:55, 10.81it/s]"
     ]
    },
    {
     "name": "stdout",
     "output_type": "stream",
     "text": [
      "80921\n",
      "Epoch 01748 | Loss 0.0284 | train_RMSE 0.1388 | test_RMSE 0.1360 \n",
      "19929\n",
      "80921\n",
      "Epoch 01749 | Loss 0.0284 | train_RMSE 0.1393 | test_RMSE 0.1361 \n",
      "19929\n",
      "80921\n",
      "Epoch 01750 | Loss 0.0291 | train_RMSE 0.1390 | test_RMSE 0.1363 \n"
     ]
    },
    {
     "name": "stderr",
     "output_type": "stream",
     "text": [
      "\r",
      " 58%|██████████████████████▊                | 1753/3000 [02:42<01:55, 10.82it/s]"
     ]
    },
    {
     "name": "stdout",
     "output_type": "stream",
     "text": [
      "19929\n",
      "80921\n",
      "Epoch 01751 | Loss 0.0288 | train_RMSE 0.1404 | test_RMSE 0.1372 \n",
      "19929\n",
      "80921\n",
      "Epoch 01752 | Loss 0.0286 | train_RMSE 0.1382 | test_RMSE 0.1355 \n",
      "19929\n"
     ]
    },
    {
     "name": "stderr",
     "output_type": "stream",
     "text": [
      "\r",
      " 58%|██████████████████████▊                | 1755/3000 [02:42<01:55, 10.81it/s]"
     ]
    },
    {
     "name": "stdout",
     "output_type": "stream",
     "text": [
      "80921\n",
      "Epoch 01753 | Loss 0.0286 | train_RMSE 0.1381 | test_RMSE 0.1351 \n",
      "19929\n",
      "80921\n",
      "Epoch 01754 | Loss 0.0284 | train_RMSE 0.1378 | test_RMSE 0.1349 \n",
      "19929\n",
      "80921\n",
      "Epoch 01755 | Loss 0.0282 | train_RMSE 0.1380 | test_RMSE 0.1351 \n"
     ]
    },
    {
     "name": "stderr",
     "output_type": "stream",
     "text": [
      "\r",
      " 59%|██████████████████████▊                | 1757/3000 [02:42<01:54, 10.82it/s]"
     ]
    },
    {
     "name": "stdout",
     "output_type": "stream",
     "text": [
      "19929\n",
      "80921\n",
      "Epoch 01756 | Loss 0.0282 | train_RMSE 0.1384 | test_RMSE 0.1354 \n",
      "19929\n",
      "80921\n",
      "Epoch 01757 | Loss 0.0286 | train_RMSE 0.1385 | test_RMSE 0.1358 \n",
      "19929\n"
     ]
    },
    {
     "name": "stderr",
     "output_type": "stream",
     "text": [
      " 59%|██████████████████████▉                | 1761/3000 [02:43<01:54, 10.84it/s]"
     ]
    },
    {
     "name": "stdout",
     "output_type": "stream",
     "text": [
      "80921\n",
      "Epoch 01758 | Loss 0.0286 | train_RMSE 0.1402 | test_RMSE 0.1370 \n",
      "19929\n",
      "80921\n",
      "Epoch 01759 | Loss 0.0287 | train_RMSE 0.1388 | test_RMSE 0.1360 \n",
      "19929\n",
      "80921\n",
      "Epoch 01760 | Loss 0.0286 | train_RMSE 0.1389 | test_RMSE 0.1358 \n"
     ]
    },
    {
     "name": "stderr",
     "output_type": "stream",
     "text": [
      "\r",
      " 59%|██████████████████████▉                | 1763/3000 [02:43<01:54, 10.81it/s]"
     ]
    },
    {
     "name": "stdout",
     "output_type": "stream",
     "text": [
      "19929\n",
      "80921\n",
      "Epoch 01761 | Loss 0.0288 | train_RMSE 0.1376 | test_RMSE 0.1348 \n",
      "19929\n",
      "80921\n",
      "Epoch 01762 | Loss 0.0282 | train_RMSE 0.1379 | test_RMSE 0.1349 \n",
      "19929\n"
     ]
    },
    {
     "name": "stderr",
     "output_type": "stream",
     "text": [
      "\r",
      " 59%|██████████████████████▉                | 1765/3000 [02:43<01:54, 10.80it/s]"
     ]
    },
    {
     "name": "stdout",
     "output_type": "stream",
     "text": [
      "80921\n",
      "Epoch 01763 | Loss 0.0282 | train_RMSE 0.1384 | test_RMSE 0.1354 \n",
      "19929\n",
      "80921\n",
      "Epoch 01764 | Loss 0.0285 | train_RMSE 0.1376 | test_RMSE 0.1346 \n",
      "19929\n",
      "80921\n",
      "Epoch 01765 | Loss 0.0282 | train_RMSE 0.1381 | test_RMSE 0.1350 \n"
     ]
    },
    {
     "name": "stderr",
     "output_type": "stream",
     "text": [
      "\r",
      " 59%|██████████████████████▉                | 1767/3000 [02:43<01:54, 10.81it/s]"
     ]
    },
    {
     "name": "stdout",
     "output_type": "stream",
     "text": [
      "19929\n",
      "80921\n",
      "Epoch 01766 | Loss 0.0281 | train_RMSE 0.1382 | test_RMSE 0.1354 \n",
      "19929\n",
      "80921\n",
      "Epoch 01767 | Loss 0.0283 | train_RMSE 0.1379 | test_RMSE 0.1349 \n",
      "19929\n"
     ]
    },
    {
     "name": "stderr",
     "output_type": "stream",
     "text": [
      " 59%|███████████████████████                | 1771/3000 [02:44<01:53, 10.82it/s]"
     ]
    },
    {
     "name": "stdout",
     "output_type": "stream",
     "text": [
      "80921\n",
      "Epoch 01768 | Loss 0.0281 | train_RMSE 0.1372 | test_RMSE 0.1344 \n",
      "19929\n",
      "80921\n",
      "Epoch 01769 | Loss 0.0284 | train_RMSE 0.1381 | test_RMSE 0.1352 \n",
      "19929\n",
      "80921\n",
      "Epoch 01770 | Loss 0.0284 | train_RMSE 0.1385 | test_RMSE 0.1355 \n"
     ]
    },
    {
     "name": "stderr",
     "output_type": "stream",
     "text": [
      "\r",
      " 59%|███████████████████████                | 1773/3000 [02:44<01:53, 10.82it/s]"
     ]
    },
    {
     "name": "stdout",
     "output_type": "stream",
     "text": [
      "19929\n",
      "80921\n",
      "Epoch 01771 | Loss 0.0282 | train_RMSE 0.1373 | test_RMSE 0.1344 \n",
      "19929\n",
      "80921\n",
      "Epoch 01772 | Loss 0.0283 | train_RMSE 0.1377 | test_RMSE 0.1347 \n",
      "19929\n"
     ]
    },
    {
     "name": "stderr",
     "output_type": "stream",
     "text": [
      "\r",
      " 59%|███████████████████████                | 1775/3000 [02:44<01:53, 10.80it/s]"
     ]
    },
    {
     "name": "stdout",
     "output_type": "stream",
     "text": [
      "80921\n",
      "Epoch 01773 | Loss 0.0283 | train_RMSE 0.1387 | test_RMSE 0.1358 \n",
      "19929\n",
      "80921\n",
      "Epoch 01774 | Loss 0.0284 | train_RMSE 0.1389 | test_RMSE 0.1359 \n",
      "19929\n",
      "80921\n",
      "Epoch 01775 | Loss 0.0284 | train_RMSE 0.1374 | test_RMSE 0.1347 \n"
     ]
    },
    {
     "name": "stderr",
     "output_type": "stream",
     "text": [
      "\r",
      " 59%|███████████████████████                | 1777/3000 [02:44<01:53, 10.81it/s]"
     ]
    },
    {
     "name": "stdout",
     "output_type": "stream",
     "text": [
      "19929\n",
      "80921\n",
      "Epoch 01776 | Loss 0.0285 | train_RMSE 0.1382 | test_RMSE 0.1351 \n",
      "19929\n",
      "80921\n",
      "Epoch 01777 | Loss 0.0288 | train_RMSE 0.1402 | test_RMSE 0.1374 \n",
      "19929\n"
     ]
    },
    {
     "name": "stderr",
     "output_type": "stream",
     "text": [
      " 59%|███████████████████████▏               | 1781/3000 [02:45<01:52, 10.82it/s]"
     ]
    },
    {
     "name": "stdout",
     "output_type": "stream",
     "text": [
      "80921\n",
      "Epoch 01778 | Loss 0.0286 | train_RMSE 0.1388 | test_RMSE 0.1357 \n",
      "19929\n",
      "80921\n",
      "Epoch 01779 | Loss 0.0285 | train_RMSE 0.1375 | test_RMSE 0.1347 \n",
      "19929\n",
      "80921\n",
      "Epoch 01780 | Loss 0.0286 | train_RMSE 0.1383 | test_RMSE 0.1353 \n"
     ]
    },
    {
     "name": "stderr",
     "output_type": "stream",
     "text": [
      "\r",
      " 59%|███████████████████████▏               | 1783/3000 [02:45<01:52, 10.82it/s]"
     ]
    },
    {
     "name": "stdout",
     "output_type": "stream",
     "text": [
      "19929\n",
      "80921\n",
      "Epoch 01781 | Loss 0.0281 | train_RMSE 0.1390 | test_RMSE 0.1360 \n",
      "19929\n",
      "80921\n",
      "Epoch 01782 | Loss 0.0286 | train_RMSE 0.1375 | test_RMSE 0.1346 \n",
      "19929\n"
     ]
    },
    {
     "name": "stderr",
     "output_type": "stream",
     "text": [
      "\r",
      " 60%|███████████████████████▏               | 1785/3000 [02:45<01:52, 10.80it/s]"
     ]
    },
    {
     "name": "stdout",
     "output_type": "stream",
     "text": [
      "80921\n",
      "Epoch 01783 | Loss 0.0285 | train_RMSE 0.1374 | test_RMSE 0.1345 \n",
      "19929\n",
      "80921\n",
      "Epoch 01784 | Loss 0.0284 | train_RMSE 0.1381 | test_RMSE 0.1352 \n",
      "19929\n",
      "80921\n",
      "Epoch 01785 | Loss 0.0283 | train_RMSE 0.1389 | test_RMSE 0.1360 \n"
     ]
    },
    {
     "name": "stderr",
     "output_type": "stream",
     "text": [
      "\r",
      " 60%|███████████████████████▏               | 1787/3000 [02:45<01:52, 10.81it/s]"
     ]
    },
    {
     "name": "stdout",
     "output_type": "stream",
     "text": [
      "19929\n",
      "80921\n",
      "Epoch 01786 | Loss 0.0287 | train_RMSE 0.1372 | test_RMSE 0.1343 \n",
      "19929\n",
      "80921\n",
      "Epoch 01787 | Loss 0.0283 | train_RMSE 0.1373 | test_RMSE 0.1344 \n",
      "19929\n"
     ]
    },
    {
     "name": "stderr",
     "output_type": "stream",
     "text": [
      " 60%|███████████████████████▎               | 1791/3000 [02:46<01:51, 10.82it/s]"
     ]
    },
    {
     "name": "stdout",
     "output_type": "stream",
     "text": [
      "80921\n",
      "Epoch 01788 | Loss 0.0281 | train_RMSE 0.1394 | test_RMSE 0.1364 \n",
      "19929\n",
      "80921\n",
      "Epoch 01789 | Loss 0.0283 | train_RMSE 0.1383 | test_RMSE 0.1355 \n",
      "19929\n",
      "80921\n",
      "Epoch 01790 | Loss 0.0288 | train_RMSE 0.1382 | test_RMSE 0.1351 \n"
     ]
    },
    {
     "name": "stderr",
     "output_type": "stream",
     "text": [
      "\r",
      " 60%|███████████████████████▎               | 1793/3000 [02:46<01:51, 10.82it/s]"
     ]
    },
    {
     "name": "stdout",
     "output_type": "stream",
     "text": [
      "19929\n",
      "80921\n",
      "Epoch 01791 | Loss 0.0284 | train_RMSE 0.1386 | test_RMSE 0.1358 \n",
      "19929\n",
      "80921\n",
      "Epoch 01792 | Loss 0.0286 | train_RMSE 0.1401 | test_RMSE 0.1369 \n",
      "19929\n"
     ]
    },
    {
     "name": "stderr",
     "output_type": "stream",
     "text": [
      "\r",
      " 60%|███████████████████████▎               | 1795/3000 [02:46<01:51, 10.82it/s]"
     ]
    },
    {
     "name": "stdout",
     "output_type": "stream",
     "text": [
      "80921\n",
      "Epoch 01793 | Loss 0.0287 | train_RMSE 0.1382 | test_RMSE 0.1355 \n",
      "19929\n",
      "80921\n",
      "Epoch 01794 | Loss 0.0285 | train_RMSE 0.1393 | test_RMSE 0.1362 \n",
      "19929\n",
      "80921\n",
      "Epoch 01795 | Loss 0.0286 | train_RMSE 0.1387 | test_RMSE 0.1359 \n"
     ]
    },
    {
     "name": "stderr",
     "output_type": "stream",
     "text": [
      "\r",
      " 60%|███████████████████████▎               | 1797/3000 [02:46<01:51, 10.83it/s]"
     ]
    },
    {
     "name": "stdout",
     "output_type": "stream",
     "text": [
      "19929\n",
      "80921\n",
      "Epoch 01796 | Loss 0.0284 | train_RMSE 0.1388 | test_RMSE 0.1358 \n",
      "19929\n",
      "80921\n",
      "Epoch 01797 | Loss 0.0286 | train_RMSE 0.1371 | test_RMSE 0.1343 \n",
      "19929\n"
     ]
    },
    {
     "name": "stderr",
     "output_type": "stream",
     "text": [
      " 60%|███████████████████████▍               | 1801/3000 [02:46<01:50, 10.82it/s]"
     ]
    },
    {
     "name": "stdout",
     "output_type": "stream",
     "text": [
      "80921\n",
      "Epoch 01798 | Loss 0.0284 | train_RMSE 0.1374 | test_RMSE 0.1345 \n",
      "19929\n",
      "80921\n",
      "Epoch 01799 | Loss 0.0285 | train_RMSE 0.1385 | test_RMSE 0.1355 \n",
      "19929\n",
      "80921\n",
      "Epoch 01800 | Loss 0.0282 | train_RMSE 0.1381 | test_RMSE 0.1353 \n"
     ]
    },
    {
     "name": "stderr",
     "output_type": "stream",
     "text": [
      "\r",
      " 60%|███████████████████████▍               | 1803/3000 [02:47<01:50, 10.82it/s]"
     ]
    },
    {
     "name": "stdout",
     "output_type": "stream",
     "text": [
      "19929\n",
      "80921\n",
      "Epoch 01801 | Loss 0.0284 | train_RMSE 0.1387 | test_RMSE 0.1356 \n",
      "19929\n",
      "80921\n",
      "Epoch 01802 | Loss 0.0285 | train_RMSE 0.1392 | test_RMSE 0.1366 \n",
      "19929\n"
     ]
    },
    {
     "name": "stderr",
     "output_type": "stream",
     "text": [
      "\r",
      " 60%|███████████████████████▍               | 1805/3000 [02:47<01:50, 10.82it/s]"
     ]
    },
    {
     "name": "stdout",
     "output_type": "stream",
     "text": [
      "80921\n",
      "Epoch 01803 | Loss 0.0290 | train_RMSE 0.1425 | test_RMSE 0.1393 \n",
      "19929\n",
      "80921\n",
      "Epoch 01804 | Loss 0.0294 | train_RMSE 0.1425 | test_RMSE 0.1400 \n",
      "19929\n",
      "80921\n",
      "Epoch 01805 | Loss 0.0298 | train_RMSE 0.1463 | test_RMSE 0.1431 \n"
     ]
    },
    {
     "name": "stderr",
     "output_type": "stream",
     "text": [
      "\r",
      " 60%|███████████████████████▍               | 1807/3000 [02:47<01:50, 10.81it/s]"
     ]
    },
    {
     "name": "stdout",
     "output_type": "stream",
     "text": [
      "19929\n",
      "80921\n",
      "Epoch 01806 | Loss 0.0303 | train_RMSE 0.1437 | test_RMSE 0.1413 \n",
      "19929\n",
      "80921\n",
      "Epoch 01807 | Loss 0.0302 | train_RMSE 0.1456 | test_RMSE 0.1423 \n",
      "19929\n"
     ]
    },
    {
     "name": "stderr",
     "output_type": "stream",
     "text": [
      " 60%|███████████████████████▌               | 1811/3000 [02:47<01:49, 10.83it/s]"
     ]
    },
    {
     "name": "stdout",
     "output_type": "stream",
     "text": [
      "80921\n",
      "Epoch 01808 | Loss 0.0302 | train_RMSE 0.1414 | test_RMSE 0.1389 \n",
      "19929\n",
      "80921\n",
      "Epoch 01809 | Loss 0.0296 | train_RMSE 0.1400 | test_RMSE 0.1369 \n",
      "19929\n",
      "80921\n",
      "Epoch 01810 | Loss 0.0289 | train_RMSE 0.1375 | test_RMSE 0.1347 \n"
     ]
    },
    {
     "name": "stderr",
     "output_type": "stream",
     "text": [
      "\r",
      " 60%|███████████████████████▌               | 1813/3000 [02:48<01:49, 10.83it/s]"
     ]
    },
    {
     "name": "stdout",
     "output_type": "stream",
     "text": [
      "19929\n",
      "80921\n",
      "Epoch 01811 | Loss 0.0282 | train_RMSE 0.1377 | test_RMSE 0.1349 \n",
      "19929\n",
      "80921\n",
      "Epoch 01812 | Loss 0.0285 | train_RMSE 0.1398 | test_RMSE 0.1367 \n",
      "19929\n"
     ]
    },
    {
     "name": "stderr",
     "output_type": "stream",
     "text": [
      "\r",
      " 60%|███████████████████████▌               | 1815/3000 [02:48<01:49, 10.83it/s]"
     ]
    },
    {
     "name": "stdout",
     "output_type": "stream",
     "text": [
      "80921\n",
      "Epoch 01813 | Loss 0.0283 | train_RMSE 0.1383 | test_RMSE 0.1355 \n",
      "19929\n",
      "80921\n",
      "Epoch 01814 | Loss 0.0288 | train_RMSE 0.1385 | test_RMSE 0.1355 \n",
      "19929\n",
      "80921\n",
      "Epoch 01815 | Loss 0.0284 | train_RMSE 0.1378 | test_RMSE 0.1350 \n"
     ]
    },
    {
     "name": "stderr",
     "output_type": "stream",
     "text": [
      "\r",
      " 61%|███████████████████████▌               | 1817/3000 [02:48<01:49, 10.82it/s]"
     ]
    },
    {
     "name": "stdout",
     "output_type": "stream",
     "text": [
      "19929\n",
      "80921\n",
      "Epoch 01816 | Loss 0.0283 | train_RMSE 0.1377 | test_RMSE 0.1348 \n",
      "19929\n",
      "80921\n",
      "Epoch 01817 | Loss 0.0283 | train_RMSE 0.1377 | test_RMSE 0.1347 \n",
      "19929\n"
     ]
    },
    {
     "name": "stderr",
     "output_type": "stream",
     "text": [
      " 61%|███████████████████████▋               | 1821/3000 [02:48<01:48, 10.82it/s]"
     ]
    },
    {
     "name": "stdout",
     "output_type": "stream",
     "text": [
      "80921\n",
      "Epoch 01818 | Loss 0.0285 | train_RMSE 0.1381 | test_RMSE 0.1353 \n",
      "19929\n",
      "80921\n",
      "Epoch 01819 | Loss 0.0281 | train_RMSE 0.1391 | test_RMSE 0.1361 \n",
      "19929\n",
      "80921\n",
      "Epoch 01820 | Loss 0.0283 | train_RMSE 0.1374 | test_RMSE 0.1346 \n"
     ]
    },
    {
     "name": "stderr",
     "output_type": "stream",
     "text": [
      "\r",
      " 61%|███████████████████████▋               | 1823/3000 [02:48<01:48, 10.82it/s]"
     ]
    },
    {
     "name": "stdout",
     "output_type": "stream",
     "text": [
      "19929\n",
      "80921\n",
      "Epoch 01821 | Loss 0.0285 | train_RMSE 0.1372 | test_RMSE 0.1344 \n",
      "19929\n",
      "80921\n",
      "Epoch 01822 | Loss 0.0283 | train_RMSE 0.1384 | test_RMSE 0.1355 \n",
      "19929\n"
     ]
    },
    {
     "name": "stderr",
     "output_type": "stream",
     "text": [
      "\r",
      " 61%|███████████████████████▋               | 1825/3000 [02:49<01:48, 10.78it/s]"
     ]
    },
    {
     "name": "stdout",
     "output_type": "stream",
     "text": [
      "80921\n",
      "Epoch 01823 | Loss 0.0281 | train_RMSE 0.1388 | test_RMSE 0.1359 \n",
      "19929\n",
      "80921\n",
      "Epoch 01824 | Loss 0.0283 | train_RMSE 0.1378 | test_RMSE 0.1347 \n",
      "19929\n",
      "80921\n",
      "Epoch 01825 | Loss 0.0283 | train_RMSE 0.1372 | test_RMSE 0.1344 \n"
     ]
    },
    {
     "name": "stderr",
     "output_type": "stream",
     "text": [
      "\r",
      " 61%|███████████████████████▊               | 1827/3000 [02:49<01:48, 10.79it/s]"
     ]
    },
    {
     "name": "stdout",
     "output_type": "stream",
     "text": [
      "19929\n",
      "80921\n",
      "Epoch 01826 | Loss 0.0286 | train_RMSE 0.1382 | test_RMSE 0.1352 \n",
      "19929\n",
      "80921\n",
      "Epoch 01827 | Loss 0.0284 | train_RMSE 0.1388 | test_RMSE 0.1359 \n",
      "19929\n"
     ]
    },
    {
     "name": "stderr",
     "output_type": "stream",
     "text": [
      " 61%|███████████████████████▊               | 1831/3000 [02:49<01:48, 10.80it/s]"
     ]
    },
    {
     "name": "stdout",
     "output_type": "stream",
     "text": [
      "80921\n",
      "Epoch 01828 | Loss 0.0283 | train_RMSE 0.1376 | test_RMSE 0.1346 \n",
      "19929\n",
      "80921\n",
      "Epoch 01829 | Loss 0.0281 | train_RMSE 0.1372 | test_RMSE 0.1343 \n",
      "19929\n",
      "80921\n",
      "Epoch 01830 | Loss 0.0283 | train_RMSE 0.1390 | test_RMSE 0.1360 \n"
     ]
    },
    {
     "name": "stderr",
     "output_type": "stream",
     "text": [
      "\r",
      " 61%|███████████████████████▊               | 1833/3000 [02:49<01:47, 10.81it/s]"
     ]
    },
    {
     "name": "stdout",
     "output_type": "stream",
     "text": [
      "19929\n",
      "80921\n",
      "Epoch 01831 | Loss 0.0286 | train_RMSE 0.1383 | test_RMSE 0.1354 \n",
      "19929\n",
      "80921\n",
      "Epoch 01832 | Loss 0.0282 | train_RMSE 0.1377 | test_RMSE 0.1348 \n",
      "19929\n"
     ]
    },
    {
     "name": "stderr",
     "output_type": "stream",
     "text": [
      "\r",
      " 61%|███████████████████████▊               | 1835/3000 [02:50<01:47, 10.80it/s]"
     ]
    },
    {
     "name": "stdout",
     "output_type": "stream",
     "text": [
      "80921\n",
      "Epoch 01833 | Loss 0.0282 | train_RMSE 0.1379 | test_RMSE 0.1349 \n",
      "19929\n",
      "80921\n",
      "Epoch 01834 | Loss 0.0282 | train_RMSE 0.1377 | test_RMSE 0.1348 \n",
      "19929\n",
      "80921\n",
      "Epoch 01835 | Loss 0.0281 | train_RMSE 0.1381 | test_RMSE 0.1352 \n"
     ]
    },
    {
     "name": "stderr",
     "output_type": "stream",
     "text": [
      "\r",
      " 61%|███████████████████████▉               | 1837/3000 [02:50<01:47, 10.80it/s]"
     ]
    },
    {
     "name": "stdout",
     "output_type": "stream",
     "text": [
      "19929\n",
      "80921\n",
      "Epoch 01836 | Loss 0.0284 | train_RMSE 0.1382 | test_RMSE 0.1353 \n",
      "19929\n",
      "80921\n",
      "Epoch 01837 | Loss 0.0284 | train_RMSE 0.1380 | test_RMSE 0.1350 \n",
      "19929\n"
     ]
    },
    {
     "name": "stderr",
     "output_type": "stream",
     "text": [
      " 61%|███████████████████████▉               | 1841/3000 [02:50<01:47, 10.81it/s]"
     ]
    },
    {
     "name": "stdout",
     "output_type": "stream",
     "text": [
      "80921\n",
      "Epoch 01838 | Loss 0.0286 | train_RMSE 0.1372 | test_RMSE 0.1343 \n",
      "19929\n",
      "80921\n",
      "Epoch 01839 | Loss 0.0284 | train_RMSE 0.1381 | test_RMSE 0.1350 \n",
      "19929\n",
      "80921\n",
      "Epoch 01840 | Loss 0.0282 | train_RMSE 0.1380 | test_RMSE 0.1351 \n"
     ]
    },
    {
     "name": "stderr",
     "output_type": "stream",
     "text": [
      "\r",
      " 61%|███████████████████████▉               | 1843/3000 [02:50<01:46, 10.81it/s]"
     ]
    },
    {
     "name": "stdout",
     "output_type": "stream",
     "text": [
      "19929\n",
      "80921\n",
      "Epoch 01841 | Loss 0.0282 | train_RMSE 0.1378 | test_RMSE 0.1349 \n",
      "19929\n",
      "80921\n",
      "Epoch 01842 | Loss 0.0285 | train_RMSE 0.1389 | test_RMSE 0.1358 \n",
      "19929\n"
     ]
    },
    {
     "name": "stderr",
     "output_type": "stream",
     "text": [
      "\r",
      " 62%|███████████████████████▉               | 1845/3000 [02:50<01:46, 10.81it/s]"
     ]
    },
    {
     "name": "stdout",
     "output_type": "stream",
     "text": [
      "80921\n",
      "Epoch 01843 | Loss 0.0282 | train_RMSE 0.1386 | test_RMSE 0.1358 \n",
      "19929\n",
      "80921\n",
      "Epoch 01844 | Loss 0.0285 | train_RMSE 0.1397 | test_RMSE 0.1366 \n",
      "19929\n",
      "80921\n",
      "Epoch 01845 | Loss 0.0289 | train_RMSE 0.1399 | test_RMSE 0.1373 \n"
     ]
    },
    {
     "name": "stderr",
     "output_type": "stream",
     "text": [
      "\r",
      " 62%|████████████████████████               | 1847/3000 [02:51<01:46, 10.81it/s]"
     ]
    },
    {
     "name": "stdout",
     "output_type": "stream",
     "text": [
      "19929\n",
      "80921\n",
      "Epoch 01846 | Loss 0.0290 | train_RMSE 0.1418 | test_RMSE 0.1386 \n",
      "19929\n",
      "80921\n",
      "Epoch 01847 | Loss 0.0294 | train_RMSE 0.1402 | test_RMSE 0.1376 \n",
      "19929\n"
     ]
    },
    {
     "name": "stderr",
     "output_type": "stream",
     "text": [
      " 62%|████████████████████████               | 1851/3000 [02:51<01:46, 10.82it/s]"
     ]
    },
    {
     "name": "stdout",
     "output_type": "stream",
     "text": [
      "80921\n",
      "Epoch 01848 | Loss 0.0292 | train_RMSE 0.1416 | test_RMSE 0.1384 \n",
      "19929\n",
      "80921\n",
      "Epoch 01849 | Loss 0.0292 | train_RMSE 0.1413 | test_RMSE 0.1387 \n",
      "19929\n",
      "80921\n",
      "Epoch 01850 | Loss 0.0294 | train_RMSE 0.1416 | test_RMSE 0.1385 \n"
     ]
    },
    {
     "name": "stderr",
     "output_type": "stream",
     "text": [
      "\r",
      " 62%|████████████████████████               | 1853/3000 [02:51<01:46, 10.81it/s]"
     ]
    },
    {
     "name": "stdout",
     "output_type": "stream",
     "text": [
      "19929\n",
      "80921\n",
      "Epoch 01851 | Loss 0.0289 | train_RMSE 0.1384 | test_RMSE 0.1358 \n",
      "19929\n",
      "80921\n",
      "Epoch 01852 | Loss 0.0291 | train_RMSE 0.1383 | test_RMSE 0.1353 \n",
      "19929\n"
     ]
    },
    {
     "name": "stderr",
     "output_type": "stream",
     "text": [
      "\r",
      " 62%|████████████████████████               | 1855/3000 [02:51<01:45, 10.81it/s]"
     ]
    },
    {
     "name": "stdout",
     "output_type": "stream",
     "text": [
      "80921\n",
      "Epoch 01853 | Loss 0.0287 | train_RMSE 0.1388 | test_RMSE 0.1359 \n",
      "19929\n",
      "80921\n",
      "Epoch 01854 | Loss 0.0284 | train_RMSE 0.1382 | test_RMSE 0.1354 \n",
      "19929\n",
      "80921\n",
      "Epoch 01855 | Loss 0.0282 | train_RMSE 0.1383 | test_RMSE 0.1353 \n"
     ]
    },
    {
     "name": "stderr",
     "output_type": "stream",
     "text": [
      "\r",
      " 62%|████████████████████████▏              | 1857/3000 [02:52<01:45, 10.81it/s]"
     ]
    },
    {
     "name": "stdout",
     "output_type": "stream",
     "text": [
      "19929\n",
      "80921\n",
      "Epoch 01856 | Loss 0.0287 | train_RMSE 0.1383 | test_RMSE 0.1355 \n",
      "19929\n",
      "80921\n",
      "Epoch 01857 | Loss 0.0289 | train_RMSE 0.1407 | test_RMSE 0.1375 \n",
      "19929\n"
     ]
    },
    {
     "name": "stderr",
     "output_type": "stream",
     "text": [
      " 62%|████████████████████████▏              | 1861/3000 [02:52<01:45, 10.82it/s]"
     ]
    },
    {
     "name": "stdout",
     "output_type": "stream",
     "text": [
      "80921\n",
      "Epoch 01858 | Loss 0.0286 | train_RMSE 0.1390 | test_RMSE 0.1363 \n",
      "19929\n",
      "80921\n",
      "Epoch 01859 | Loss 0.0283 | train_RMSE 0.1385 | test_RMSE 0.1354 \n",
      "19929\n",
      "80921\n",
      "Epoch 01860 | Loss 0.0283 | train_RMSE 0.1377 | test_RMSE 0.1349 \n"
     ]
    },
    {
     "name": "stderr",
     "output_type": "stream",
     "text": [
      "\r",
      " 62%|████████████████████████▏              | 1863/3000 [02:52<01:45, 10.81it/s]"
     ]
    },
    {
     "name": "stdout",
     "output_type": "stream",
     "text": [
      "19929\n",
      "80921\n",
      "Epoch 01861 | Loss 0.0283 | train_RMSE 0.1385 | test_RMSE 0.1355 \n",
      "19929\n",
      "80921\n",
      "Epoch 01862 | Loss 0.0284 | train_RMSE 0.1381 | test_RMSE 0.1352 \n",
      "19929\n"
     ]
    },
    {
     "name": "stderr",
     "output_type": "stream",
     "text": [
      "\r",
      " 62%|████████████████████████▏              | 1865/3000 [02:52<01:44, 10.81it/s]"
     ]
    },
    {
     "name": "stdout",
     "output_type": "stream",
     "text": [
      "80921\n",
      "Epoch 01863 | Loss 0.0283 | train_RMSE 0.1373 | test_RMSE 0.1344 \n",
      "19929\n",
      "80921\n",
      "Epoch 01864 | Loss 0.0284 | train_RMSE 0.1371 | test_RMSE 0.1342 \n",
      "19929\n",
      "80921\n",
      "Epoch 01865 | Loss 0.0283 | train_RMSE 0.1394 | test_RMSE 0.1364 \n"
     ]
    },
    {
     "name": "stderr",
     "output_type": "stream",
     "text": [
      "\r",
      " 62%|████████████████████████▎              | 1867/3000 [02:53<01:44, 10.81it/s]"
     ]
    },
    {
     "name": "stdout",
     "output_type": "stream",
     "text": [
      "19929\n",
      "80921\n",
      "Epoch 01866 | Loss 0.0282 | train_RMSE 0.1395 | test_RMSE 0.1365 \n",
      "19929\n",
      "80921\n",
      "Epoch 01867 | Loss 0.0285 | train_RMSE 0.1371 | test_RMSE 0.1343 \n",
      "19929\n"
     ]
    },
    {
     "name": "stderr",
     "output_type": "stream",
     "text": [
      " 62%|████████████████████████▎              | 1871/3000 [02:53<01:44, 10.83it/s]"
     ]
    },
    {
     "name": "stdout",
     "output_type": "stream",
     "text": [
      "80921\n",
      "Epoch 01868 | Loss 0.0283 | train_RMSE 0.1378 | test_RMSE 0.1348 \n",
      "19929\n",
      "80921\n",
      "Epoch 01869 | Loss 0.0282 | train_RMSE 0.1394 | test_RMSE 0.1366 \n",
      "19929\n",
      "80921\n",
      "Epoch 01870 | Loss 0.0286 | train_RMSE 0.1403 | test_RMSE 0.1372 \n"
     ]
    },
    {
     "name": "stderr",
     "output_type": "stream",
     "text": [
      "\r",
      " 62%|████████████████████████▎              | 1873/3000 [02:53<01:44, 10.82it/s]"
     ]
    },
    {
     "name": "stdout",
     "output_type": "stream",
     "text": [
      "19929\n",
      "80921\n",
      "Epoch 01871 | Loss 0.0286 | train_RMSE 0.1378 | test_RMSE 0.1351 \n",
      "19929\n",
      "80921\n",
      "Epoch 01872 | Loss 0.0284 | train_RMSE 0.1382 | test_RMSE 0.1352 \n",
      "19929\n"
     ]
    },
    {
     "name": "stderr",
     "output_type": "stream",
     "text": [
      "\r",
      " 62%|████████████████████████▍              | 1875/3000 [02:53<01:44, 10.81it/s]"
     ]
    },
    {
     "name": "stdout",
     "output_type": "stream",
     "text": [
      "80921\n",
      "Epoch 01873 | Loss 0.0284 | train_RMSE 0.1390 | test_RMSE 0.1361 \n",
      "19929\n",
      "80921\n",
      "Epoch 01874 | Loss 0.0286 | train_RMSE 0.1391 | test_RMSE 0.1359 \n",
      "19929\n",
      "80921\n",
      "Epoch 01875 | Loss 0.0283 | train_RMSE 0.1376 | test_RMSE 0.1347 \n"
     ]
    },
    {
     "name": "stderr",
     "output_type": "stream",
     "text": [
      "\r",
      " 63%|████████████████████████▍              | 1877/3000 [02:53<01:43, 10.81it/s]"
     ]
    },
    {
     "name": "stdout",
     "output_type": "stream",
     "text": [
      "19929\n",
      "80921\n",
      "Epoch 01876 | Loss 0.0282 | train_RMSE 0.1373 | test_RMSE 0.1344 \n",
      "19929\n",
      "80921\n",
      "Epoch 01877 | Loss 0.0283 | train_RMSE 0.1387 | test_RMSE 0.1358 \n",
      "19929\n"
     ]
    },
    {
     "name": "stderr",
     "output_type": "stream",
     "text": [
      " 63%|████████████████████████▍              | 1881/3000 [02:54<01:43, 10.82it/s]"
     ]
    },
    {
     "name": "stdout",
     "output_type": "stream",
     "text": [
      "80921\n",
      "Epoch 01878 | Loss 0.0284 | train_RMSE 0.1380 | test_RMSE 0.1350 \n",
      "19929\n",
      "80921\n",
      "Epoch 01879 | Loss 0.0282 | train_RMSE 0.1378 | test_RMSE 0.1349 \n",
      "19929\n",
      "80921\n",
      "Epoch 01880 | Loss 0.0285 | train_RMSE 0.1384 | test_RMSE 0.1354 \n"
     ]
    },
    {
     "name": "stderr",
     "output_type": "stream",
     "text": [
      "\r",
      " 63%|████████████████████████▍              | 1883/3000 [02:54<01:43, 10.83it/s]"
     ]
    },
    {
     "name": "stdout",
     "output_type": "stream",
     "text": [
      "19929\n",
      "80921\n",
      "Epoch 01881 | Loss 0.0282 | train_RMSE 0.1387 | test_RMSE 0.1360 \n",
      "19929\n",
      "80921\n",
      "Epoch 01882 | Loss 0.0288 | train_RMSE 0.1387 | test_RMSE 0.1357 \n",
      "19929\n"
     ]
    },
    {
     "name": "stderr",
     "output_type": "stream",
     "text": [
      "\r",
      " 63%|████████████████████████▌              | 1885/3000 [02:54<01:43, 10.82it/s]"
     ]
    },
    {
     "name": "stdout",
     "output_type": "stream",
     "text": [
      "80921\n",
      "Epoch 01883 | Loss 0.0285 | train_RMSE 0.1390 | test_RMSE 0.1363 \n",
      "19929\n",
      "80921\n",
      "Epoch 01884 | Loss 0.0289 | train_RMSE 0.1412 | test_RMSE 0.1380 \n",
      "19929\n",
      "80921\n",
      "Epoch 01885 | Loss 0.0289 | train_RMSE 0.1399 | test_RMSE 0.1373 \n"
     ]
    },
    {
     "name": "stderr",
     "output_type": "stream",
     "text": [
      "\r",
      " 63%|████████████████████████▌              | 1887/3000 [02:54<01:42, 10.82it/s]"
     ]
    },
    {
     "name": "stdout",
     "output_type": "stream",
     "text": [
      "19929\n",
      "80921\n",
      "Epoch 01886 | Loss 0.0290 | train_RMSE 0.1407 | test_RMSE 0.1376 \n",
      "19929\n",
      "80921\n",
      "Epoch 01887 | Loss 0.0292 | train_RMSE 0.1412 | test_RMSE 0.1386 \n",
      "19929\n"
     ]
    },
    {
     "name": "stderr",
     "output_type": "stream",
     "text": [
      " 63%|████████████████████████▌              | 1891/3000 [02:55<01:42, 10.83it/s]"
     ]
    },
    {
     "name": "stdout",
     "output_type": "stream",
     "text": [
      "80921\n",
      "Epoch 01888 | Loss 0.0293 | train_RMSE 0.1434 | test_RMSE 0.1402 \n",
      "19929\n",
      "80921\n",
      "Epoch 01889 | Loss 0.0294 | train_RMSE 0.1397 | test_RMSE 0.1372 \n",
      "19929\n",
      "80921\n",
      "Epoch 01890 | Loss 0.0294 | train_RMSE 0.1407 | test_RMSE 0.1375 \n"
     ]
    },
    {
     "name": "stderr",
     "output_type": "stream",
     "text": [
      "\r",
      " 63%|████████████████████████▌              | 1893/3000 [02:55<01:42, 10.83it/s]"
     ]
    },
    {
     "name": "stdout",
     "output_type": "stream",
     "text": [
      "19929\n",
      "80921\n",
      "Epoch 01891 | Loss 0.0292 | train_RMSE 0.1413 | test_RMSE 0.1385 \n",
      "19929\n",
      "80921\n",
      "Epoch 01892 | Loss 0.0289 | train_RMSE 0.1403 | test_RMSE 0.1372 \n",
      "19929\n"
     ]
    },
    {
     "name": "stderr",
     "output_type": "stream",
     "text": [
      "\r",
      " 63%|████████████████████████▋              | 1895/3000 [02:55<01:42, 10.82it/s]"
     ]
    },
    {
     "name": "stdout",
     "output_type": "stream",
     "text": [
      "80921\n",
      "Epoch 01893 | Loss 0.0289 | train_RMSE 0.1371 | test_RMSE 0.1343 \n",
      "19929\n",
      "80921\n",
      "Epoch 01894 | Loss 0.0285 | train_RMSE 0.1371 | test_RMSE 0.1343 \n",
      "19929\n",
      "80921\n",
      "Epoch 01895 | Loss 0.0284 | train_RMSE 0.1400 | test_RMSE 0.1370 \n"
     ]
    },
    {
     "name": "stderr",
     "output_type": "stream",
     "text": [
      "\r",
      " 63%|████████████████████████▋              | 1897/3000 [02:55<01:41, 10.82it/s]"
     ]
    },
    {
     "name": "stdout",
     "output_type": "stream",
     "text": [
      "19929\n",
      "80921\n",
      "Epoch 01896 | Loss 0.0286 | train_RMSE 0.1401 | test_RMSE 0.1374 \n",
      "19929\n",
      "80921\n",
      "Epoch 01897 | Loss 0.0288 | train_RMSE 0.1397 | test_RMSE 0.1366 \n",
      "19929\n"
     ]
    },
    {
     "name": "stderr",
     "output_type": "stream",
     "text": [
      " 63%|████████████████████████▋              | 1901/3000 [02:56<01:41, 10.82it/s]"
     ]
    },
    {
     "name": "stdout",
     "output_type": "stream",
     "text": [
      "80921\n",
      "Epoch 01898 | Loss 0.0288 | train_RMSE 0.1384 | test_RMSE 0.1358 \n",
      "19929\n",
      "80921\n",
      "Epoch 01899 | Loss 0.0289 | train_RMSE 0.1396 | test_RMSE 0.1366 \n",
      "19929\n",
      "80921\n",
      "Epoch 01900 | Loss 0.0288 | train_RMSE 0.1387 | test_RMSE 0.1359 \n"
     ]
    },
    {
     "name": "stderr",
     "output_type": "stream",
     "text": [
      "\r",
      " 63%|████████████████████████▋              | 1903/3000 [02:56<01:41, 10.82it/s]"
     ]
    },
    {
     "name": "stdout",
     "output_type": "stream",
     "text": [
      "19929\n",
      "80921\n",
      "Epoch 01901 | Loss 0.0285 | train_RMSE 0.1386 | test_RMSE 0.1355 \n",
      "19929\n",
      "80921\n",
      "Epoch 01902 | Loss 0.0283 | train_RMSE 0.1374 | test_RMSE 0.1346 \n",
      "19929\n"
     ]
    },
    {
     "name": "stderr",
     "output_type": "stream",
     "text": [
      "\r",
      " 64%|████████████████████████▊              | 1905/3000 [02:56<01:41, 10.82it/s]"
     ]
    },
    {
     "name": "stdout",
     "output_type": "stream",
     "text": [
      "80921\n",
      "Epoch 01903 | Loss 0.0284 | train_RMSE 0.1383 | test_RMSE 0.1353 \n",
      "19929\n",
      "80921\n",
      "Epoch 01904 | Loss 0.0284 | train_RMSE 0.1383 | test_RMSE 0.1353 \n",
      "19929\n",
      "80921\n",
      "Epoch 01905 | Loss 0.0283 | train_RMSE 0.1376 | test_RMSE 0.1347 \n"
     ]
    },
    {
     "name": "stderr",
     "output_type": "stream",
     "text": [
      "\r",
      " 64%|████████████████████████▊              | 1907/3000 [02:56<01:40, 10.83it/s]"
     ]
    },
    {
     "name": "stdout",
     "output_type": "stream",
     "text": [
      "19929\n",
      "80921\n",
      "Epoch 01906 | Loss 0.0283 | train_RMSE 0.1378 | test_RMSE 0.1349 \n",
      "19929\n",
      "80921\n",
      "Epoch 01907 | Loss 0.0280 | train_RMSE 0.1385 | test_RMSE 0.1357 \n",
      "19929\n"
     ]
    },
    {
     "name": "stderr",
     "output_type": "stream",
     "text": [
      " 64%|████████████████████████▊              | 1911/3000 [02:57<01:40, 10.81it/s]"
     ]
    },
    {
     "name": "stdout",
     "output_type": "stream",
     "text": [
      "80921\n",
      "Epoch 01908 | Loss 0.0285 | train_RMSE 0.1393 | test_RMSE 0.1362 \n",
      "19929\n",
      "80921\n",
      "Epoch 01909 | Loss 0.0285 | train_RMSE 0.1384 | test_RMSE 0.1357 \n",
      "19929\n",
      "80921\n",
      "Epoch 01910 | Loss 0.0287 | train_RMSE 0.1396 | test_RMSE 0.1365 \n"
     ]
    },
    {
     "name": "stderr",
     "output_type": "stream",
     "text": [
      "\r",
      " 64%|████████████████████████▊              | 1913/3000 [02:57<01:40, 10.81it/s]"
     ]
    },
    {
     "name": "stdout",
     "output_type": "stream",
     "text": [
      "19929\n",
      "80921\n",
      "Epoch 01911 | Loss 0.0287 | train_RMSE 0.1392 | test_RMSE 0.1365 \n",
      "19929\n",
      "80921\n",
      "Epoch 01912 | Loss 0.0286 | train_RMSE 0.1389 | test_RMSE 0.1358 \n",
      "19929\n"
     ]
    },
    {
     "name": "stderr",
     "output_type": "stream",
     "text": [
      "\r",
      " 64%|████████████████████████▉              | 1915/3000 [02:57<01:40, 10.81it/s]"
     ]
    },
    {
     "name": "stdout",
     "output_type": "stream",
     "text": [
      "80921\n",
      "Epoch 01913 | Loss 0.0286 | train_RMSE 0.1373 | test_RMSE 0.1345 \n",
      "19929\n",
      "80921\n",
      "Epoch 01914 | Loss 0.0283 | train_RMSE 0.1378 | test_RMSE 0.1349 \n",
      "19929\n",
      "80921\n",
      "Epoch 01915 | Loss 0.0282 | train_RMSE 0.1390 | test_RMSE 0.1359 \n"
     ]
    },
    {
     "name": "stderr",
     "output_type": "stream",
     "text": [
      "\r",
      " 64%|████████████████████████▉              | 1917/3000 [02:57<01:40, 10.82it/s]"
     ]
    },
    {
     "name": "stdout",
     "output_type": "stream",
     "text": [
      "19929\n",
      "80921\n",
      "Epoch 01916 | Loss 0.0282 | train_RMSE 0.1382 | test_RMSE 0.1354 \n",
      "19929\n",
      "80921\n",
      "Epoch 01917 | Loss 0.0284 | train_RMSE 0.1397 | test_RMSE 0.1365 \n",
      "19929\n"
     ]
    },
    {
     "name": "stderr",
     "output_type": "stream",
     "text": [
      " 64%|████████████████████████▉              | 1921/3000 [02:58<01:39, 10.83it/s]"
     ]
    },
    {
     "name": "stdout",
     "output_type": "stream",
     "text": [
      "80921\n",
      "Epoch 01918 | Loss 0.0287 | train_RMSE 0.1393 | test_RMSE 0.1366 \n",
      "19929\n",
      "80921\n",
      "Epoch 01919 | Loss 0.0286 | train_RMSE 0.1407 | test_RMSE 0.1375 \n",
      "19929\n",
      "80921\n",
      "Epoch 01920 | Loss 0.0290 | train_RMSE 0.1395 | test_RMSE 0.1369 \n"
     ]
    },
    {
     "name": "stderr",
     "output_type": "stream",
     "text": [
      "\r",
      " 64%|████████████████████████▉              | 1923/3000 [02:58<01:39, 10.82it/s]"
     ]
    },
    {
     "name": "stdout",
     "output_type": "stream",
     "text": [
      "19929\n",
      "80921\n",
      "Epoch 01921 | Loss 0.0289 | train_RMSE 0.1413 | test_RMSE 0.1381 \n",
      "19929\n",
      "80921\n",
      "Epoch 01922 | Loss 0.0290 | train_RMSE 0.1392 | test_RMSE 0.1365 \n",
      "19929\n"
     ]
    },
    {
     "name": "stderr",
     "output_type": "stream",
     "text": [
      "\r",
      " 64%|█████████████████████████              | 1925/3000 [02:58<01:39, 10.83it/s]"
     ]
    },
    {
     "name": "stdout",
     "output_type": "stream",
     "text": [
      "80921\n",
      "Epoch 01923 | Loss 0.0286 | train_RMSE 0.1385 | test_RMSE 0.1355 \n",
      "19929\n",
      "80921\n",
      "Epoch 01924 | Loss 0.0284 | train_RMSE 0.1377 | test_RMSE 0.1349 \n",
      "19929\n",
      "80921\n",
      "Epoch 01925 | Loss 0.0287 | train_RMSE 0.1393 | test_RMSE 0.1363 \n"
     ]
    },
    {
     "name": "stderr",
     "output_type": "stream",
     "text": [
      "\r",
      " 64%|█████████████████████████              | 1927/3000 [02:58<01:39, 10.84it/s]"
     ]
    },
    {
     "name": "stdout",
     "output_type": "stream",
     "text": [
      "19929\n",
      "80921\n",
      "Epoch 01926 | Loss 0.0286 | train_RMSE 0.1377 | test_RMSE 0.1348 \n",
      "19929\n",
      "80921\n",
      "Epoch 01927 | Loss 0.0284 | train_RMSE 0.1373 | test_RMSE 0.1346 \n",
      "19929\n"
     ]
    },
    {
     "name": "stderr",
     "output_type": "stream",
     "text": [
      " 64%|█████████████████████████              | 1931/3000 [02:58<01:38, 10.84it/s]"
     ]
    },
    {
     "name": "stdout",
     "output_type": "stream",
     "text": [
      "80921\n",
      "Epoch 01928 | Loss 0.0286 | train_RMSE 0.1394 | test_RMSE 0.1363 \n",
      "19929\n",
      "80921\n",
      "Epoch 01929 | Loss 0.0288 | train_RMSE 0.1401 | test_RMSE 0.1372 \n",
      "19929\n",
      "80921\n",
      "Epoch 01930 | Loss 0.0285 | train_RMSE 0.1393 | test_RMSE 0.1362 \n"
     ]
    },
    {
     "name": "stderr",
     "output_type": "stream",
     "text": [
      "\r",
      " 64%|█████████████████████████▏             | 1933/3000 [02:59<01:38, 10.84it/s]"
     ]
    },
    {
     "name": "stdout",
     "output_type": "stream",
     "text": [
      "19929\n",
      "80921\n",
      "Epoch 01931 | Loss 0.0284 | train_RMSE 0.1374 | test_RMSE 0.1347 \n",
      "19929\n",
      "80921\n",
      "Epoch 01932 | Loss 0.0285 | train_RMSE 0.1384 | test_RMSE 0.1354 \n",
      "19929\n"
     ]
    },
    {
     "name": "stderr",
     "output_type": "stream",
     "text": [
      "\r",
      " 64%|█████████████████████████▏             | 1935/3000 [02:59<01:38, 10.84it/s]"
     ]
    },
    {
     "name": "stdout",
     "output_type": "stream",
     "text": [
      "80921\n",
      "Epoch 01933 | Loss 0.0282 | train_RMSE 0.1388 | test_RMSE 0.1359 \n",
      "19929\n",
      "80921\n",
      "Epoch 01934 | Loss 0.0284 | train_RMSE 0.1378 | test_RMSE 0.1349 \n",
      "19929\n",
      "80921\n",
      "Epoch 01935 | Loss 0.0280 | train_RMSE 0.1371 | test_RMSE 0.1342 \n"
     ]
    },
    {
     "name": "stderr",
     "output_type": "stream",
     "text": [
      "\r",
      " 65%|█████████████████████████▏             | 1937/3000 [02:59<01:38, 10.80it/s]"
     ]
    },
    {
     "name": "stdout",
     "output_type": "stream",
     "text": [
      "19929\n",
      "80921\n",
      "Epoch 01936 | Loss 0.0283 | train_RMSE 0.1373 | test_RMSE 0.1345 \n",
      "19929\n",
      "80921\n",
      "Epoch 01937 | Loss 0.0286 | train_RMSE 0.1386 | test_RMSE 0.1355 \n",
      "19929\n"
     ]
    },
    {
     "name": "stderr",
     "output_type": "stream",
     "text": [
      " 65%|█████████████████████████▏             | 1941/3000 [02:59<01:37, 10.82it/s]"
     ]
    },
    {
     "name": "stdout",
     "output_type": "stream",
     "text": [
      "80921\n",
      "Epoch 01938 | Loss 0.0284 | train_RMSE 0.1381 | test_RMSE 0.1353 \n",
      "19929\n",
      "80921\n",
      "Epoch 01939 | Loss 0.0284 | train_RMSE 0.1395 | test_RMSE 0.1364 \n",
      "19929\n",
      "80921\n",
      "Epoch 01940 | Loss 0.0287 | train_RMSE 0.1393 | test_RMSE 0.1367 \n"
     ]
    },
    {
     "name": "stderr",
     "output_type": "stream",
     "text": [
      "\r",
      " 65%|█████████████████████████▎             | 1943/3000 [03:00<01:37, 10.82it/s]"
     ]
    },
    {
     "name": "stdout",
     "output_type": "stream",
     "text": [
      "19929\n",
      "80921\n",
      "Epoch 01941 | Loss 0.0288 | train_RMSE 0.1408 | test_RMSE 0.1376 \n",
      "19929\n",
      "80921\n",
      "Epoch 01942 | Loss 0.0288 | train_RMSE 0.1400 | test_RMSE 0.1373 \n",
      "19929\n"
     ]
    },
    {
     "name": "stderr",
     "output_type": "stream",
     "text": [
      "\r",
      " 65%|█████████████████████████▎             | 1945/3000 [03:00<01:37, 10.83it/s]"
     ]
    },
    {
     "name": "stdout",
     "output_type": "stream",
     "text": [
      "80921\n",
      "Epoch 01943 | Loss 0.0288 | train_RMSE 0.1403 | test_RMSE 0.1372 \n",
      "19929\n",
      "80921\n",
      "Epoch 01944 | Loss 0.0289 | train_RMSE 0.1376 | test_RMSE 0.1350 \n",
      "19929\n",
      "80921\n",
      "Epoch 01945 | Loss 0.0283 | train_RMSE 0.1377 | test_RMSE 0.1348 \n"
     ]
    },
    {
     "name": "stderr",
     "output_type": "stream",
     "text": [
      "\r",
      " 65%|█████████████████████████▎             | 1947/3000 [03:00<01:37, 10.82it/s]"
     ]
    },
    {
     "name": "stdout",
     "output_type": "stream",
     "text": [
      "19929\n",
      "80921\n",
      "Epoch 01946 | Loss 0.0282 | train_RMSE 0.1393 | test_RMSE 0.1363 \n",
      "19929\n",
      "80921\n",
      "Epoch 01947 | Loss 0.0281 | train_RMSE 0.1382 | test_RMSE 0.1354 \n",
      "19929\n"
     ]
    },
    {
     "name": "stderr",
     "output_type": "stream",
     "text": [
      " 65%|█████████████████████████▎             | 1951/3000 [03:00<01:36, 10.84it/s]"
     ]
    },
    {
     "name": "stdout",
     "output_type": "stream",
     "text": [
      "80921\n",
      "Epoch 01948 | Loss 0.0285 | train_RMSE 0.1392 | test_RMSE 0.1362 \n",
      "19929\n",
      "80921\n",
      "Epoch 01949 | Loss 0.0287 | train_RMSE 0.1398 | test_RMSE 0.1372 \n",
      "19929\n",
      "80921\n",
      "Epoch 01950 | Loss 0.0289 | train_RMSE 0.1426 | test_RMSE 0.1393 \n"
     ]
    },
    {
     "name": "stderr",
     "output_type": "stream",
     "text": [
      "\r",
      " 65%|█████████████████████████▍             | 1953/3000 [03:00<01:36, 10.84it/s]"
     ]
    },
    {
     "name": "stdout",
     "output_type": "stream",
     "text": [
      "19929\n",
      "80921\n",
      "Epoch 01951 | Loss 0.0291 | train_RMSE 0.1399 | test_RMSE 0.1373 \n",
      "19929\n",
      "80921\n",
      "Epoch 01952 | Loss 0.0291 | train_RMSE 0.1400 | test_RMSE 0.1369 \n",
      "19929\n"
     ]
    },
    {
     "name": "stderr",
     "output_type": "stream",
     "text": [
      "\r",
      " 65%|█████████████████████████▍             | 1955/3000 [03:01<01:36, 10.81it/s]"
     ]
    },
    {
     "name": "stdout",
     "output_type": "stream",
     "text": [
      "80921\n",
      "Epoch 01953 | Loss 0.0286 | train_RMSE 0.1379 | test_RMSE 0.1353 \n",
      "19929\n",
      "80921\n",
      "Epoch 01954 | Loss 0.0285 | train_RMSE 0.1387 | test_RMSE 0.1357 \n",
      "19929\n",
      "80921\n",
      "Epoch 01955 | Loss 0.0286 | train_RMSE 0.1382 | test_RMSE 0.1352 \n"
     ]
    },
    {
     "name": "stderr",
     "output_type": "stream",
     "text": [
      "\r",
      " 65%|█████████████████████████▍             | 1957/3000 [03:01<01:36, 10.82it/s]"
     ]
    },
    {
     "name": "stdout",
     "output_type": "stream",
     "text": [
      "19929\n",
      "80921\n",
      "Epoch 01956 | Loss 0.0282 | train_RMSE 0.1380 | test_RMSE 0.1353 \n",
      "19929\n",
      "80921\n",
      "Epoch 01957 | Loss 0.0282 | train_RMSE 0.1398 | test_RMSE 0.1367 \n",
      "19929\n"
     ]
    },
    {
     "name": "stderr",
     "output_type": "stream",
     "text": [
      " 65%|█████████████████████████▍             | 1961/3000 [03:01<01:35, 10.88it/s]"
     ]
    },
    {
     "name": "stdout",
     "output_type": "stream",
     "text": [
      "80921\n",
      "Epoch 01958 | Loss 0.0286 | train_RMSE 0.1395 | test_RMSE 0.1368 \n",
      "19929\n",
      "80921\n",
      "Epoch 01959 | Loss 0.0288 | train_RMSE 0.1402 | test_RMSE 0.1371 \n",
      "19929\n",
      "80921\n",
      "Epoch 01960 | Loss 0.0289 | train_RMSE 0.1381 | test_RMSE 0.1354 \n"
     ]
    },
    {
     "name": "stderr",
     "output_type": "stream",
     "text": [
      "\r",
      " 65%|█████████████████████████▌             | 1963/3000 [03:01<01:35, 10.89it/s]"
     ]
    },
    {
     "name": "stdout",
     "output_type": "stream",
     "text": [
      "19929\n",
      "80921\n",
      "Epoch 01961 | Loss 0.0285 | train_RMSE 0.1388 | test_RMSE 0.1357 \n",
      "19929\n",
      "80921\n",
      "Epoch 01962 | Loss 0.0281 | train_RMSE 0.1382 | test_RMSE 0.1353 \n",
      "19929\n"
     ]
    },
    {
     "name": "stderr",
     "output_type": "stream",
     "text": [
      "\r",
      " 66%|█████████████████████████▌             | 1965/3000 [03:02<01:34, 10.91it/s]"
     ]
    },
    {
     "name": "stdout",
     "output_type": "stream",
     "text": [
      "80921\n",
      "Epoch 01963 | Loss 0.0281 | train_RMSE 0.1374 | test_RMSE 0.1346 \n",
      "19929\n",
      "80921\n",
      "Epoch 01964 | Loss 0.0281 | train_RMSE 0.1383 | test_RMSE 0.1353 \n",
      "19929\n",
      "80921\n",
      "Epoch 01965 | Loss 0.0284 | train_RMSE 0.1386 | test_RMSE 0.1359 \n"
     ]
    },
    {
     "name": "stderr",
     "output_type": "stream",
     "text": [
      "\r",
      " 66%|█████████████████████████▌             | 1967/3000 [03:02<01:34, 10.93it/s]"
     ]
    },
    {
     "name": "stdout",
     "output_type": "stream",
     "text": [
      "19929\n",
      "80921\n",
      "Epoch 01966 | Loss 0.0286 | train_RMSE 0.1408 | test_RMSE 0.1376 \n",
      "19929\n",
      "80921\n",
      "Epoch 01967 | Loss 0.0287 | train_RMSE 0.1397 | test_RMSE 0.1371 \n",
      "19929\n"
     ]
    },
    {
     "name": "stderr",
     "output_type": "stream",
     "text": [
      " 66%|█████████████████████████▌             | 1971/3000 [03:02<01:34, 10.95it/s]"
     ]
    },
    {
     "name": "stdout",
     "output_type": "stream",
     "text": [
      "80921\n",
      "Epoch 01968 | Loss 0.0289 | train_RMSE 0.1417 | test_RMSE 0.1385 \n",
      "19929\n",
      "80921\n",
      "Epoch 01969 | Loss 0.0290 | train_RMSE 0.1401 | test_RMSE 0.1375 \n",
      "19929\n",
      "80921\n",
      "Epoch 01970 | Loss 0.0291 | train_RMSE 0.1406 | test_RMSE 0.1375 \n"
     ]
    },
    {
     "name": "stderr",
     "output_type": "stream",
     "text": [
      "\r",
      " 66%|█████████████████████████▋             | 1973/3000 [03:02<01:33, 10.94it/s]"
     ]
    },
    {
     "name": "stdout",
     "output_type": "stream",
     "text": [
      "19929\n",
      "80921\n",
      "Epoch 01971 | Loss 0.0291 | train_RMSE 0.1387 | test_RMSE 0.1360 \n",
      "19929\n",
      "80921\n",
      "Epoch 01972 | Loss 0.0286 | train_RMSE 0.1391 | test_RMSE 0.1361 \n",
      "19929\n"
     ]
    },
    {
     "name": "stderr",
     "output_type": "stream",
     "text": [
      "\r",
      " 66%|█████████████████████████▋             | 1975/3000 [03:02<01:34, 10.87it/s]"
     ]
    },
    {
     "name": "stdout",
     "output_type": "stream",
     "text": [
      "80921\n",
      "Epoch 01973 | Loss 0.0280 | train_RMSE 0.1384 | test_RMSE 0.1356 \n",
      "19929\n",
      "80921\n",
      "Epoch 01974 | Loss 0.0278 | train_RMSE 0.1374 | test_RMSE 0.1346 \n",
      "19929\n",
      "80921\n",
      "Epoch 01975 | Loss 0.0281 | train_RMSE 0.1378 | test_RMSE 0.1348 \n"
     ]
    },
    {
     "name": "stderr",
     "output_type": "stream",
     "text": [
      "\r",
      " 66%|█████████████████████████▋             | 1977/3000 [03:03<01:34, 10.87it/s]"
     ]
    },
    {
     "name": "stdout",
     "output_type": "stream",
     "text": [
      "19929\n",
      "80921\n",
      "Epoch 01976 | Loss 0.0281 | train_RMSE 0.1390 | test_RMSE 0.1363 \n",
      "19929\n",
      "80921\n",
      "Epoch 01977 | Loss 0.0284 | train_RMSE 0.1400 | test_RMSE 0.1369 \n",
      "19929\n"
     ]
    },
    {
     "name": "stderr",
     "output_type": "stream",
     "text": [
      " 66%|█████████████████████████▊             | 1981/3000 [03:03<01:33, 10.85it/s]"
     ]
    },
    {
     "name": "stdout",
     "output_type": "stream",
     "text": [
      "80921\n",
      "Epoch 01978 | Loss 0.0282 | train_RMSE 0.1374 | test_RMSE 0.1348 \n",
      "19929\n",
      "80921\n",
      "Epoch 01979 | Loss 0.0281 | train_RMSE 0.1378 | test_RMSE 0.1349 \n",
      "19929\n",
      "80921\n",
      "Epoch 01980 | Loss 0.0282 | train_RMSE 0.1391 | test_RMSE 0.1362 \n"
     ]
    },
    {
     "name": "stderr",
     "output_type": "stream",
     "text": [
      "\r",
      " 66%|█████████████████████████▊             | 1983/3000 [03:03<01:33, 10.87it/s]"
     ]
    },
    {
     "name": "stdout",
     "output_type": "stream",
     "text": [
      "19929\n",
      "80921\n",
      "Epoch 01981 | Loss 0.0282 | train_RMSE 0.1379 | test_RMSE 0.1350 \n",
      "19929\n",
      "80921\n",
      "Epoch 01982 | Loss 0.0278 | train_RMSE 0.1371 | test_RMSE 0.1342 \n",
      "19929\n"
     ]
    },
    {
     "name": "stderr",
     "output_type": "stream",
     "text": [
      "\r",
      " 66%|█████████████████████████▊             | 1985/3000 [03:03<01:33, 10.87it/s]"
     ]
    },
    {
     "name": "stdout",
     "output_type": "stream",
     "text": [
      "80921\n",
      "Epoch 01983 | Loss 0.0279 | train_RMSE 0.1380 | test_RMSE 0.1351 \n",
      "19929\n",
      "80921\n",
      "Epoch 01984 | Loss 0.0280 | train_RMSE 0.1388 | test_RMSE 0.1358 \n",
      "19929\n",
      "80921\n",
      "Epoch 01985 | Loss 0.0281 | train_RMSE 0.1374 | test_RMSE 0.1347 \n"
     ]
    },
    {
     "name": "stderr",
     "output_type": "stream",
     "text": [
      "\r",
      " 66%|█████████████████████████▊             | 1987/3000 [03:04<01:33, 10.87it/s]"
     ]
    },
    {
     "name": "stdout",
     "output_type": "stream",
     "text": [
      "19929\n",
      "80921\n",
      "Epoch 01986 | Loss 0.0281 | train_RMSE 0.1383 | test_RMSE 0.1353 \n",
      "19929\n",
      "80921\n",
      "Epoch 01987 | Loss 0.0281 | train_RMSE 0.1385 | test_RMSE 0.1357 \n",
      "19929\n"
     ]
    },
    {
     "name": "stderr",
     "output_type": "stream",
     "text": [
      " 66%|█████████████████████████▉             | 1991/3000 [03:04<01:32, 10.85it/s]"
     ]
    },
    {
     "name": "stdout",
     "output_type": "stream",
     "text": [
      "80921\n",
      "Epoch 01988 | Loss 0.0280 | train_RMSE 0.1383 | test_RMSE 0.1353 \n",
      "19929\n",
      "80921\n",
      "Epoch 01989 | Loss 0.0283 | train_RMSE 0.1374 | test_RMSE 0.1346 \n",
      "19929\n",
      "80921\n",
      "Epoch 01990 | Loss 0.0278 | train_RMSE 0.1378 | test_RMSE 0.1349 \n"
     ]
    },
    {
     "name": "stderr",
     "output_type": "stream",
     "text": [
      "\r",
      " 66%|█████████████████████████▉             | 1993/3000 [03:04<01:32, 10.84it/s]"
     ]
    },
    {
     "name": "stdout",
     "output_type": "stream",
     "text": [
      "19929\n",
      "80921\n",
      "Epoch 01991 | Loss 0.0277 | train_RMSE 0.1384 | test_RMSE 0.1354 \n",
      "19929\n",
      "80921\n",
      "Epoch 01992 | Loss 0.0280 | train_RMSE 0.1374 | test_RMSE 0.1346 \n",
      "19929\n"
     ]
    },
    {
     "name": "stderr",
     "output_type": "stream",
     "text": [
      "\r",
      " 66%|█████████████████████████▉             | 1995/3000 [03:04<01:32, 10.85it/s]"
     ]
    },
    {
     "name": "stdout",
     "output_type": "stream",
     "text": [
      "80921\n",
      "Epoch 01993 | Loss 0.0280 | train_RMSE 0.1377 | test_RMSE 0.1347 \n",
      "19929\n",
      "80921\n",
      "Epoch 01994 | Loss 0.0277 | train_RMSE 0.1383 | test_RMSE 0.1355 \n",
      "19929\n",
      "80921\n",
      "Epoch 01995 | Loss 0.0282 | train_RMSE 0.1398 | test_RMSE 0.1367 \n"
     ]
    },
    {
     "name": "stderr",
     "output_type": "stream",
     "text": [
      "\r",
      " 67%|█████████████████████████▉             | 1997/3000 [03:05<01:32, 10.86it/s]"
     ]
    },
    {
     "name": "stdout",
     "output_type": "stream",
     "text": [
      "19929\n",
      "80921\n",
      "Epoch 01996 | Loss 0.0282 | train_RMSE 0.1382 | test_RMSE 0.1355 \n",
      "19929\n",
      "80921\n",
      "Epoch 01997 | Loss 0.0280 | train_RMSE 0.1386 | test_RMSE 0.1355 \n",
      "19929\n"
     ]
    },
    {
     "name": "stderr",
     "output_type": "stream",
     "text": [
      " 67%|██████████████████████████             | 2001/3000 [03:05<01:31, 10.87it/s]"
     ]
    },
    {
     "name": "stdout",
     "output_type": "stream",
     "text": [
      "80921\n",
      "Epoch 01998 | Loss 0.0283 | train_RMSE 0.1386 | test_RMSE 0.1359 \n",
      "19929\n",
      "80921\n",
      "Epoch 01999 | Loss 0.0279 | train_RMSE 0.1389 | test_RMSE 0.1359 \n",
      "19929\n",
      "80921\n",
      "Epoch 02000 | Loss 0.0280 | train_RMSE 0.1373 | test_RMSE 0.1345 \n"
     ]
    },
    {
     "name": "stderr",
     "output_type": "stream",
     "text": [
      "\r",
      " 67%|██████████████████████████             | 2003/3000 [03:05<01:31, 10.84it/s]"
     ]
    },
    {
     "name": "stdout",
     "output_type": "stream",
     "text": [
      "19929\n",
      "80921\n",
      "Epoch 02001 | Loss 0.0279 | train_RMSE 0.1376 | test_RMSE 0.1346 \n",
      "19929\n",
      "80921\n",
      "Epoch 02002 | Loss 0.0279 | train_RMSE 0.1376 | test_RMSE 0.1347 \n",
      "19929\n"
     ]
    },
    {
     "name": "stderr",
     "output_type": "stream",
     "text": [
      "\r",
      " 67%|██████████████████████████             | 2005/3000 [03:05<01:32, 10.81it/s]"
     ]
    },
    {
     "name": "stdout",
     "output_type": "stream",
     "text": [
      "80921\n",
      "Epoch 02003 | Loss 0.0280 | train_RMSE 0.1379 | test_RMSE 0.1350 \n",
      "19929\n",
      "80921\n",
      "Epoch 02004 | Loss 0.0281 | train_RMSE 0.1378 | test_RMSE 0.1349 \n",
      "19929\n",
      "80921\n",
      "Epoch 02005 | Loss 0.0280 | train_RMSE 0.1375 | test_RMSE 0.1346 \n"
     ]
    },
    {
     "name": "stderr",
     "output_type": "stream",
     "text": [
      "\r",
      " 67%|██████████████████████████             | 2007/3000 [03:05<01:31, 10.80it/s]"
     ]
    },
    {
     "name": "stdout",
     "output_type": "stream",
     "text": [
      "19929\n",
      "80921\n",
      "Epoch 02006 | Loss 0.0280 | train_RMSE 0.1375 | test_RMSE 0.1347 \n",
      "19929\n",
      "80921\n",
      "Epoch 02007 | Loss 0.0279 | train_RMSE 0.1377 | test_RMSE 0.1349 \n",
      "19929\n"
     ]
    },
    {
     "name": "stderr",
     "output_type": "stream",
     "text": [
      " 67%|██████████████████████████▏            | 2011/3000 [03:06<01:31, 10.79it/s]"
     ]
    },
    {
     "name": "stdout",
     "output_type": "stream",
     "text": [
      "80921\n",
      "Epoch 02008 | Loss 0.0277 | train_RMSE 0.1375 | test_RMSE 0.1346 \n",
      "19929\n",
      "80921\n",
      "Epoch 02009 | Loss 0.0278 | train_RMSE 0.1374 | test_RMSE 0.1345 \n",
      "19929\n",
      "80921\n",
      "Epoch 02010 | Loss 0.0286 | train_RMSE 0.1381 | test_RMSE 0.1352 \n"
     ]
    },
    {
     "name": "stderr",
     "output_type": "stream",
     "text": [
      "\r",
      " 67%|██████████████████████████▏            | 2013/3000 [03:06<01:31, 10.77it/s]"
     ]
    },
    {
     "name": "stdout",
     "output_type": "stream",
     "text": [
      "19929\n",
      "80921\n",
      "Epoch 02011 | Loss 0.0279 | train_RMSE 0.1376 | test_RMSE 0.1347 \n",
      "19929\n",
      "80921\n",
      "Epoch 02012 | Loss 0.0278 | train_RMSE 0.1374 | test_RMSE 0.1345 \n",
      "19929\n"
     ]
    },
    {
     "name": "stderr",
     "output_type": "stream",
     "text": [
      "\r",
      " 67%|██████████████████████████▏            | 2015/3000 [03:06<01:31, 10.74it/s]"
     ]
    },
    {
     "name": "stdout",
     "output_type": "stream",
     "text": [
      "80921\n",
      "Epoch 02013 | Loss 0.0280 | train_RMSE 0.1376 | test_RMSE 0.1346 \n",
      "19929\n",
      "80921\n",
      "Epoch 02014 | Loss 0.0276 | train_RMSE 0.1380 | test_RMSE 0.1351 \n",
      "19929\n",
      "80921\n",
      "Epoch 02015 | Loss 0.0279 | train_RMSE 0.1377 | test_RMSE 0.1348 \n"
     ]
    },
    {
     "name": "stderr",
     "output_type": "stream",
     "text": [
      "\r",
      " 67%|██████████████████████████▏            | 2017/3000 [03:06<01:31, 10.75it/s]"
     ]
    },
    {
     "name": "stdout",
     "output_type": "stream",
     "text": [
      "19929\n",
      "80921\n",
      "Epoch 02016 | Loss 0.0280 | train_RMSE 0.1378 | test_RMSE 0.1349 \n",
      "19929\n",
      "80921\n",
      "Epoch 02017 | Loss 0.0279 | train_RMSE 0.1375 | test_RMSE 0.1347 \n",
      "19929\n"
     ]
    },
    {
     "name": "stderr",
     "output_type": "stream",
     "text": [
      " 67%|██████████████████████████▎            | 2021/3000 [03:07<01:30, 10.76it/s]"
     ]
    },
    {
     "name": "stdout",
     "output_type": "stream",
     "text": [
      "80921\n",
      "Epoch 02018 | Loss 0.0278 | train_RMSE 0.1378 | test_RMSE 0.1349 \n",
      "19929\n",
      "80921\n",
      "Epoch 02019 | Loss 0.0281 | train_RMSE 0.1372 | test_RMSE 0.1344 \n",
      "19929\n",
      "80921\n",
      "Epoch 02020 | Loss 0.0277 | train_RMSE 0.1382 | test_RMSE 0.1353 \n"
     ]
    },
    {
     "name": "stderr",
     "output_type": "stream",
     "text": [
      "\r",
      " 67%|██████████████████████████▎            | 2023/3000 [03:07<01:30, 10.74it/s]"
     ]
    },
    {
     "name": "stdout",
     "output_type": "stream",
     "text": [
      "19929\n",
      "80921\n",
      "Epoch 02021 | Loss 0.0280 | train_RMSE 0.1380 | test_RMSE 0.1350 \n",
      "19929\n",
      "80921\n",
      "Epoch 02022 | Loss 0.0276 | train_RMSE 0.1373 | test_RMSE 0.1343 \n",
      "19929\n"
     ]
    },
    {
     "name": "stderr",
     "output_type": "stream",
     "text": [
      "\r",
      " 68%|██████████████████████████▎            | 2025/3000 [03:07<01:31, 10.71it/s]"
     ]
    },
    {
     "name": "stdout",
     "output_type": "stream",
     "text": [
      "80921\n",
      "Epoch 02023 | Loss 0.0279 | train_RMSE 0.1375 | test_RMSE 0.1346 \n",
      "19929\n",
      "80921\n",
      "Epoch 02024 | Loss 0.0276 | train_RMSE 0.1375 | test_RMSE 0.1346 \n",
      "19929\n",
      "80921\n",
      "Epoch 02025 | Loss 0.0279 | train_RMSE 0.1375 | test_RMSE 0.1346 \n"
     ]
    },
    {
     "name": "stderr",
     "output_type": "stream",
     "text": [
      "\r",
      " 68%|██████████████████████████▎            | 2027/3000 [03:07<01:30, 10.73it/s]"
     ]
    },
    {
     "name": "stdout",
     "output_type": "stream",
     "text": [
      "19929\n",
      "80921\n",
      "Epoch 02026 | Loss 0.0279 | train_RMSE 0.1378 | test_RMSE 0.1348 \n",
      "19929\n",
      "80921\n",
      "Epoch 02027 | Loss 0.0279 | train_RMSE 0.1379 | test_RMSE 0.1350 \n",
      "19929\n"
     ]
    },
    {
     "name": "stderr",
     "output_type": "stream",
     "text": [
      " 68%|██████████████████████████▍            | 2031/3000 [03:08<01:30, 10.72it/s]"
     ]
    },
    {
     "name": "stdout",
     "output_type": "stream",
     "text": [
      "80921\n",
      "Epoch 02028 | Loss 0.0278 | train_RMSE 0.1374 | test_RMSE 0.1345 \n",
      "19929\n",
      "80921\n",
      "Epoch 02029 | Loss 0.0274 | train_RMSE 0.1376 | test_RMSE 0.1348 \n",
      "19929\n",
      "80921\n",
      "Epoch 02030 | Loss 0.0277 | train_RMSE 0.1385 | test_RMSE 0.1356 \n"
     ]
    },
    {
     "name": "stderr",
     "output_type": "stream",
     "text": [
      "\r",
      " 68%|██████████████████████████▍            | 2033/3000 [03:08<01:30, 10.73it/s]"
     ]
    },
    {
     "name": "stdout",
     "output_type": "stream",
     "text": [
      "19929\n",
      "80921\n",
      "Epoch 02031 | Loss 0.0278 | train_RMSE 0.1371 | test_RMSE 0.1343 \n",
      "19929\n",
      "80921\n",
      "Epoch 02032 | Loss 0.0280 | train_RMSE 0.1371 | test_RMSE 0.1343 \n",
      "19929\n"
     ]
    },
    {
     "name": "stderr",
     "output_type": "stream",
     "text": [
      "\r",
      " 68%|██████████████████████████▍            | 2035/3000 [03:08<01:29, 10.73it/s]"
     ]
    },
    {
     "name": "stdout",
     "output_type": "stream",
     "text": [
      "80921\n",
      "Epoch 02033 | Loss 0.0276 | train_RMSE 0.1385 | test_RMSE 0.1354 \n",
      "19929\n",
      "80921\n",
      "Epoch 02034 | Loss 0.0280 | train_RMSE 0.1380 | test_RMSE 0.1352 \n",
      "19929\n",
      "80921\n",
      "Epoch 02035 | Loss 0.0277 | train_RMSE 0.1382 | test_RMSE 0.1352 \n"
     ]
    },
    {
     "name": "stderr",
     "output_type": "stream",
     "text": [
      "\r",
      " 68%|██████████████████████████▍            | 2037/3000 [03:08<01:29, 10.75it/s]"
     ]
    },
    {
     "name": "stdout",
     "output_type": "stream",
     "text": [
      "19929\n",
      "80921\n",
      "Epoch 02036 | Loss 0.0280 | train_RMSE 0.1386 | test_RMSE 0.1360 \n",
      "19929\n",
      "80921\n",
      "Epoch 02037 | Loss 0.0280 | train_RMSE 0.1423 | test_RMSE 0.1391 \n",
      "19929\n"
     ]
    },
    {
     "name": "stderr",
     "output_type": "stream",
     "text": [
      " 68%|██████████████████████████▌            | 2041/3000 [03:09<01:29, 10.76it/s]"
     ]
    },
    {
     "name": "stdout",
     "output_type": "stream",
     "text": [
      "80921\n",
      "Epoch 02038 | Loss 0.0290 | train_RMSE 0.1428 | test_RMSE 0.1403 \n",
      "19929\n",
      "80921\n",
      "Epoch 02039 | Loss 0.0294 | train_RMSE 0.1514 | test_RMSE 0.1480 \n",
      "19929\n",
      "80921\n",
      "Epoch 02040 | Loss 0.0315 | train_RMSE 0.1570 | test_RMSE 0.1549 \n"
     ]
    },
    {
     "name": "stderr",
     "output_type": "stream",
     "text": [
      "\r",
      " 68%|██████████████████████████▌            | 2043/3000 [03:09<01:28, 10.76it/s]"
     ]
    },
    {
     "name": "stdout",
     "output_type": "stream",
     "text": [
      "19929\n",
      "80921\n",
      "Epoch 02041 | Loss 0.0335 | train_RMSE 0.1757 | test_RMSE 0.1721 \n",
      "19929\n",
      "80921\n",
      "Epoch 02042 | Loss 0.0389 | train_RMSE 0.1677 | test_RMSE 0.1660 \n",
      "19929\n"
     ]
    },
    {
     "name": "stderr",
     "output_type": "stream",
     "text": [
      "\r",
      " 68%|██████████████████████████▌            | 2045/3000 [03:09<01:28, 10.76it/s]"
     ]
    },
    {
     "name": "stdout",
     "output_type": "stream",
     "text": [
      "80921\n",
      "Epoch 02043 | Loss 0.0380 | train_RMSE 0.1690 | test_RMSE 0.1655 \n",
      "19929\n",
      "80921\n",
      "Epoch 02044 | Loss 0.0370 | train_RMSE 0.1487 | test_RMSE 0.1462 \n",
      "19929\n",
      "80921\n",
      "Epoch 02045 | Loss 0.0308 | train_RMSE 0.1394 | test_RMSE 0.1367 \n"
     ]
    },
    {
     "name": "stderr",
     "output_type": "stream",
     "text": [
      "\r",
      " 68%|██████████████████████████▌            | 2047/3000 [03:09<01:28, 10.76it/s]"
     ]
    },
    {
     "name": "stdout",
     "output_type": "stream",
     "text": [
      "19929\n",
      "80921\n",
      "Epoch 02046 | Loss 0.0282 | train_RMSE 0.1519 | test_RMSE 0.1488 \n",
      "19929\n",
      "80921\n",
      "Epoch 02047 | Loss 0.0318 | train_RMSE 0.1508 | test_RMSE 0.1487 \n",
      "19929\n"
     ]
    },
    {
     "name": "stderr",
     "output_type": "stream",
     "text": [
      " 68%|██████████████████████████▋            | 2051/3000 [03:10<01:28, 10.76it/s]"
     ]
    },
    {
     "name": "stdout",
     "output_type": "stream",
     "text": [
      "80921\n",
      "Epoch 02048 | Loss 0.0321 | train_RMSE 0.1444 | test_RMSE 0.1412 \n",
      "19929\n",
      "80921\n",
      "Epoch 02049 | Loss 0.0291 | train_RMSE 0.1403 | test_RMSE 0.1372 \n",
      "19929\n",
      "80921\n",
      "Epoch 02050 | Loss 0.0288 | train_RMSE 0.1463 | test_RMSE 0.1441 \n"
     ]
    },
    {
     "name": "stderr",
     "output_type": "stream",
     "text": [
      "\r",
      " 68%|██████████████████████████▋            | 2053/3000 [03:10<01:28, 10.74it/s]"
     ]
    },
    {
     "name": "stdout",
     "output_type": "stream",
     "text": [
      "19929\n",
      "80921\n",
      "Epoch 02051 | Loss 0.0307 | train_RMSE 0.1462 | test_RMSE 0.1430 \n",
      "19929\n",
      "80921\n",
      "Epoch 02052 | Loss 0.0302 | train_RMSE 0.1399 | test_RMSE 0.1369 \n",
      "19929\n"
     ]
    },
    {
     "name": "stderr",
     "output_type": "stream",
     "text": [
      "\r",
      " 68%|██████████████████████████▋            | 2055/3000 [03:10<01:27, 10.75it/s]"
     ]
    },
    {
     "name": "stdout",
     "output_type": "stream",
     "text": [
      "80921\n",
      "Epoch 02053 | Loss 0.0285 | train_RMSE 0.1436 | test_RMSE 0.1413 \n",
      "19929\n",
      "80921\n",
      "Epoch 02054 | Loss 0.0303 | train_RMSE 0.1463 | test_RMSE 0.1430 \n",
      "19929\n",
      "80921\n",
      "Epoch 02055 | Loss 0.0303 | train_RMSE 0.1402 | test_RMSE 0.1372 \n"
     ]
    },
    {
     "name": "stderr",
     "output_type": "stream",
     "text": [
      "\r",
      " 69%|██████████████████████████▋            | 2057/3000 [03:10<01:27, 10.77it/s]"
     ]
    },
    {
     "name": "stdout",
     "output_type": "stream",
     "text": [
      "19929\n",
      "80921\n",
      "Epoch 02056 | Loss 0.0283 | train_RMSE 0.1426 | test_RMSE 0.1400 \n",
      "19929\n",
      "80921\n",
      "Epoch 02057 | Loss 0.0294 | train_RMSE 0.1453 | test_RMSE 0.1421 \n",
      "19929\n"
     ]
    },
    {
     "name": "stderr",
     "output_type": "stream",
     "text": [
      " 69%|██████████████████████████▊            | 2061/3000 [03:10<01:27, 10.76it/s]"
     ]
    },
    {
     "name": "stdout",
     "output_type": "stream",
     "text": [
      "80921\n",
      "Epoch 02058 | Loss 0.0301 | train_RMSE 0.1376 | test_RMSE 0.1348 \n",
      "19929\n",
      "80921\n",
      "Epoch 02059 | Loss 0.0279 | train_RMSE 0.1433 | test_RMSE 0.1406 \n",
      "19929\n",
      "80921\n",
      "Epoch 02060 | Loss 0.0295 | train_RMSE 0.1447 | test_RMSE 0.1413 \n"
     ]
    },
    {
     "name": "stderr",
     "output_type": "stream",
     "text": [
      "\r",
      " 69%|██████████████████████████▊            | 2063/3000 [03:11<01:27, 10.75it/s]"
     ]
    },
    {
     "name": "stdout",
     "output_type": "stream",
     "text": [
      "19929\n",
      "80921\n",
      "Epoch 02061 | Loss 0.0296 | train_RMSE 0.1374 | test_RMSE 0.1345 \n",
      "19929\n",
      "80921\n",
      "Epoch 02062 | Loss 0.0283 | train_RMSE 0.1416 | test_RMSE 0.1391 \n",
      "19929\n"
     ]
    },
    {
     "name": "stderr",
     "output_type": "stream",
     "text": [
      "\r",
      " 69%|██████████████████████████▊            | 2065/3000 [03:11<01:26, 10.75it/s]"
     ]
    },
    {
     "name": "stdout",
     "output_type": "stream",
     "text": [
      "80921\n",
      "Epoch 02063 | Loss 0.0293 | train_RMSE 0.1458 | test_RMSE 0.1424 \n",
      "19929\n",
      "80921\n",
      "Epoch 02064 | Loss 0.0294 | train_RMSE 0.1386 | test_RMSE 0.1356 \n",
      "19929\n",
      "80921\n",
      "Epoch 02065 | Loss 0.0280 | train_RMSE 0.1409 | test_RMSE 0.1385 \n"
     ]
    },
    {
     "name": "stderr",
     "output_type": "stream",
     "text": [
      "\r",
      " 69%|██████████████████████████▊            | 2067/3000 [03:11<01:26, 10.76it/s]"
     ]
    },
    {
     "name": "stdout",
     "output_type": "stream",
     "text": [
      "19929\n",
      "80921\n",
      "Epoch 02066 | Loss 0.0294 | train_RMSE 0.1416 | test_RMSE 0.1384 \n",
      "19929\n",
      "80921\n",
      "Epoch 02067 | Loss 0.0289 | train_RMSE 0.1401 | test_RMSE 0.1370 \n",
      "19929\n"
     ]
    },
    {
     "name": "stderr",
     "output_type": "stream",
     "text": [
      " 69%|██████████████████████████▉            | 2071/3000 [03:11<01:26, 10.76it/s]"
     ]
    },
    {
     "name": "stdout",
     "output_type": "stream",
     "text": [
      "80921\n",
      "Epoch 02068 | Loss 0.0284 | train_RMSE 0.1419 | test_RMSE 0.1394 \n",
      "19929\n",
      "80921\n",
      "Epoch 02069 | Loss 0.0292 | train_RMSE 0.1407 | test_RMSE 0.1376 \n",
      "19929\n",
      "80921\n",
      "Epoch 02070 | Loss 0.0292 | train_RMSE 0.1395 | test_RMSE 0.1364 \n"
     ]
    },
    {
     "name": "stderr",
     "output_type": "stream",
     "text": [
      "\r",
      " 69%|██████████████████████████▉            | 2073/3000 [03:12<01:26, 10.75it/s]"
     ]
    },
    {
     "name": "stdout",
     "output_type": "stream",
     "text": [
      "19929\n",
      "80921\n",
      "Epoch 02071 | Loss 0.0282 | train_RMSE 0.1410 | test_RMSE 0.1383 \n",
      "19929\n",
      "80921\n",
      "Epoch 02072 | Loss 0.0290 | train_RMSE 0.1395 | test_RMSE 0.1364 \n",
      "19929\n"
     ]
    },
    {
     "name": "stderr",
     "output_type": "stream",
     "text": [
      "\r",
      " 69%|██████████████████████████▉            | 2075/3000 [03:12<01:26, 10.74it/s]"
     ]
    },
    {
     "name": "stdout",
     "output_type": "stream",
     "text": [
      "80921\n",
      "Epoch 02073 | Loss 0.0283 | train_RMSE 0.1378 | test_RMSE 0.1348 \n",
      "19929\n",
      "80921\n",
      "Epoch 02074 | Loss 0.0281 | train_RMSE 0.1403 | test_RMSE 0.1376 \n",
      "19929\n",
      "80921\n",
      "Epoch 02075 | Loss 0.0285 | train_RMSE 0.1398 | test_RMSE 0.1367 \n"
     ]
    },
    {
     "name": "stderr",
     "output_type": "stream",
     "text": [
      "\r",
      " 69%|███████████████████████████            | 2077/3000 [03:12<01:25, 10.75it/s]"
     ]
    },
    {
     "name": "stdout",
     "output_type": "stream",
     "text": [
      "19929\n",
      "80921\n",
      "Epoch 02076 | Loss 0.0283 | train_RMSE 0.1379 | test_RMSE 0.1350 \n",
      "19929\n",
      "80921\n",
      "Epoch 02077 | Loss 0.0279 | train_RMSE 0.1393 | test_RMSE 0.1367 \n",
      "19929\n"
     ]
    },
    {
     "name": "stderr",
     "output_type": "stream",
     "text": [
      " 69%|███████████████████████████            | 2081/3000 [03:12<01:25, 10.77it/s]"
     ]
    },
    {
     "name": "stdout",
     "output_type": "stream",
     "text": [
      "80921\n",
      "Epoch 02078 | Loss 0.0285 | train_RMSE 0.1396 | test_RMSE 0.1365 \n",
      "19929\n",
      "80921\n",
      "Epoch 02079 | Loss 0.0283 | train_RMSE 0.1386 | test_RMSE 0.1355 \n",
      "19929\n",
      "80921\n",
      "Epoch 02080 | Loss 0.0279 | train_RMSE 0.1387 | test_RMSE 0.1361 \n"
     ]
    },
    {
     "name": "stderr",
     "output_type": "stream",
     "text": [
      "\r",
      " 69%|███████████████████████████            | 2083/3000 [03:13<01:25, 10.76it/s]"
     ]
    },
    {
     "name": "stdout",
     "output_type": "stream",
     "text": [
      "19929\n",
      "80921\n",
      "Epoch 02081 | Loss 0.0287 | train_RMSE 0.1387 | test_RMSE 0.1357 \n",
      "19929\n",
      "80921\n",
      "Epoch 02082 | Loss 0.0278 | train_RMSE 0.1393 | test_RMSE 0.1362 \n",
      "19929\n"
     ]
    },
    {
     "name": "stderr",
     "output_type": "stream",
     "text": [
      "\r",
      " 70%|███████████████████████████            | 2085/3000 [03:13<01:25, 10.76it/s]"
     ]
    },
    {
     "name": "stdout",
     "output_type": "stream",
     "text": [
      "80921\n",
      "Epoch 02083 | Loss 0.0281 | train_RMSE 0.1385 | test_RMSE 0.1358 \n",
      "19929\n",
      "80921\n",
      "Epoch 02084 | Loss 0.0282 | train_RMSE 0.1378 | test_RMSE 0.1348 \n",
      "19929\n",
      "80921\n",
      "Epoch 02085 | Loss 0.0279 | train_RMSE 0.1386 | test_RMSE 0.1356 \n"
     ]
    },
    {
     "name": "stderr",
     "output_type": "stream",
     "text": [
      "\r",
      " 70%|███████████████████████████▏           | 2087/3000 [03:13<01:24, 10.77it/s]"
     ]
    },
    {
     "name": "stdout",
     "output_type": "stream",
     "text": [
      "19929\n",
      "80921\n",
      "Epoch 02086 | Loss 0.0281 | train_RMSE 0.1387 | test_RMSE 0.1359 \n",
      "19929\n",
      "80921\n",
      "Epoch 02087 | Loss 0.0281 | train_RMSE 0.1379 | test_RMSE 0.1350 \n",
      "19929\n"
     ]
    },
    {
     "name": "stderr",
     "output_type": "stream",
     "text": [
      " 70%|███████████████████████████▏           | 2091/3000 [03:13<01:24, 10.77it/s]"
     ]
    },
    {
     "name": "stdout",
     "output_type": "stream",
     "text": [
      "80921\n",
      "Epoch 02088 | Loss 0.0279 | train_RMSE 0.1380 | test_RMSE 0.1350 \n",
      "19929\n",
      "80921\n",
      "Epoch 02089 | Loss 0.0279 | train_RMSE 0.1384 | test_RMSE 0.1356 \n",
      "19929\n",
      "80921\n",
      "Epoch 02090 | Loss 0.0279 | train_RMSE 0.1382 | test_RMSE 0.1352 \n"
     ]
    },
    {
     "name": "stderr",
     "output_type": "stream",
     "text": [
      "\r",
      " 70%|███████████████████████████▏           | 2093/3000 [03:13<01:24, 10.77it/s]"
     ]
    },
    {
     "name": "stdout",
     "output_type": "stream",
     "text": [
      "19929\n",
      "80921\n",
      "Epoch 02091 | Loss 0.0280 | train_RMSE 0.1377 | test_RMSE 0.1347 \n",
      "19929\n",
      "80921\n",
      "Epoch 02092 | Loss 0.0281 | train_RMSE 0.1385 | test_RMSE 0.1358 \n",
      "19929\n"
     ]
    },
    {
     "name": "stderr",
     "output_type": "stream",
     "text": [
      "\r",
      " 70%|███████████████████████████▏           | 2095/3000 [03:14<01:24, 10.77it/s]"
     ]
    },
    {
     "name": "stdout",
     "output_type": "stream",
     "text": [
      "80921\n",
      "Epoch 02093 | Loss 0.0283 | train_RMSE 0.1387 | test_RMSE 0.1356 \n",
      "19929\n",
      "80921\n",
      "Epoch 02094 | Loss 0.0281 | train_RMSE 0.1376 | test_RMSE 0.1347 \n",
      "19929\n",
      "80921\n",
      "Epoch 02095 | Loss 0.0280 | train_RMSE 0.1376 | test_RMSE 0.1349 \n"
     ]
    },
    {
     "name": "stderr",
     "output_type": "stream",
     "text": [
      "\r",
      " 70%|███████████████████████████▎           | 2097/3000 [03:14<01:23, 10.77it/s]"
     ]
    },
    {
     "name": "stdout",
     "output_type": "stream",
     "text": [
      "19929\n",
      "80921\n",
      "Epoch 02096 | Loss 0.0283 | train_RMSE 0.1382 | test_RMSE 0.1352 \n",
      "19929\n",
      "80921\n",
      "Epoch 02097 | Loss 0.0282 | train_RMSE 0.1379 | test_RMSE 0.1349 \n",
      "19929\n"
     ]
    },
    {
     "name": "stderr",
     "output_type": "stream",
     "text": [
      " 70%|███████████████████████████▎           | 2101/3000 [03:14<01:23, 10.78it/s]"
     ]
    },
    {
     "name": "stdout",
     "output_type": "stream",
     "text": [
      "80921\n",
      "Epoch 02098 | Loss 0.0276 | train_RMSE 0.1382 | test_RMSE 0.1353 \n",
      "19929\n",
      "80921\n",
      "Epoch 02099 | Loss 0.0280 | train_RMSE 0.1382 | test_RMSE 0.1351 \n",
      "19929\n",
      "80921\n",
      "Epoch 02100 | Loss 0.0280 | train_RMSE 0.1381 | test_RMSE 0.1352 \n"
     ]
    },
    {
     "name": "stderr",
     "output_type": "stream",
     "text": [
      "\r",
      " 70%|███████████████████████████▎           | 2103/3000 [03:14<01:23, 10.77it/s]"
     ]
    },
    {
     "name": "stdout",
     "output_type": "stream",
     "text": [
      "19929\n",
      "80921\n",
      "Epoch 02101 | Loss 0.0278 | train_RMSE 0.1383 | test_RMSE 0.1355 \n",
      "19929\n",
      "80921\n",
      "Epoch 02102 | Loss 0.0281 | train_RMSE 0.1379 | test_RMSE 0.1349 \n",
      "19929\n"
     ]
    },
    {
     "name": "stderr",
     "output_type": "stream",
     "text": [
      "\r",
      " 70%|███████████████████████████▎           | 2105/3000 [03:15<01:23, 10.76it/s]"
     ]
    },
    {
     "name": "stdout",
     "output_type": "stream",
     "text": [
      "80921\n",
      "Epoch 02103 | Loss 0.0279 | train_RMSE 0.1373 | test_RMSE 0.1344 \n",
      "19929\n",
      "80921\n",
      "Epoch 02104 | Loss 0.0279 | train_RMSE 0.1380 | test_RMSE 0.1351 \n",
      "19929\n",
      "80921\n",
      "Epoch 02105 | Loss 0.0280 | train_RMSE 0.1387 | test_RMSE 0.1357 \n"
     ]
    },
    {
     "name": "stderr",
     "output_type": "stream",
     "text": [
      "\r",
      " 70%|███████████████████████████▍           | 2107/3000 [03:15<01:22, 10.77it/s]"
     ]
    },
    {
     "name": "stdout",
     "output_type": "stream",
     "text": [
      "19929\n",
      "80921\n",
      "Epoch 02106 | Loss 0.0277 | train_RMSE 0.1374 | test_RMSE 0.1345 \n",
      "19929\n",
      "80921\n",
      "Epoch 02107 | Loss 0.0278 | train_RMSE 0.1372 | test_RMSE 0.1343 \n",
      "19929\n"
     ]
    },
    {
     "name": "stderr",
     "output_type": "stream",
     "text": [
      " 70%|███████████████████████████▍           | 2111/3000 [03:15<01:22, 10.77it/s]"
     ]
    },
    {
     "name": "stdout",
     "output_type": "stream",
     "text": [
      "80921\n",
      "Epoch 02108 | Loss 0.0279 | train_RMSE 0.1382 | test_RMSE 0.1351 \n",
      "19929\n",
      "80921\n",
      "Epoch 02109 | Loss 0.0277 | train_RMSE 0.1379 | test_RMSE 0.1350 \n",
      "19929\n",
      "80921\n",
      "Epoch 02110 | Loss 0.0279 | train_RMSE 0.1376 | test_RMSE 0.1347 \n"
     ]
    },
    {
     "name": "stderr",
     "output_type": "stream",
     "text": [
      "\r",
      " 70%|███████████████████████████▍           | 2113/3000 [03:15<01:22, 10.77it/s]"
     ]
    },
    {
     "name": "stdout",
     "output_type": "stream",
     "text": [
      "19929\n",
      "80921\n",
      "Epoch 02111 | Loss 0.0275 | train_RMSE 0.1375 | test_RMSE 0.1346 \n",
      "19929\n",
      "80921\n",
      "Epoch 02112 | Loss 0.0279 | train_RMSE 0.1374 | test_RMSE 0.1346 \n",
      "19929\n"
     ]
    },
    {
     "name": "stderr",
     "output_type": "stream",
     "text": [
      "\r",
      " 70%|███████████████████████████▍           | 2115/3000 [03:15<01:22, 10.77it/s]"
     ]
    },
    {
     "name": "stdout",
     "output_type": "stream",
     "text": [
      "80921\n",
      "Epoch 02113 | Loss 0.0278 | train_RMSE 0.1379 | test_RMSE 0.1350 \n",
      "19929\n",
      "80921\n",
      "Epoch 02114 | Loss 0.0277 | train_RMSE 0.1379 | test_RMSE 0.1349 \n",
      "19929\n",
      "80921\n",
      "Epoch 02115 | Loss 0.0279 | train_RMSE 0.1375 | test_RMSE 0.1346 \n"
     ]
    },
    {
     "name": "stderr",
     "output_type": "stream",
     "text": [
      "\r",
      " 71%|███████████████████████████▌           | 2117/3000 [03:16<01:21, 10.77it/s]"
     ]
    },
    {
     "name": "stdout",
     "output_type": "stream",
     "text": [
      "19929\n",
      "80921\n",
      "Epoch 02116 | Loss 0.0279 | train_RMSE 0.1376 | test_RMSE 0.1346 \n",
      "19929\n",
      "80921\n",
      "Epoch 02117 | Loss 0.0280 | train_RMSE 0.1380 | test_RMSE 0.1351 \n",
      "19929\n"
     ]
    },
    {
     "name": "stderr",
     "output_type": "stream",
     "text": [
      " 71%|███████████████████████████▌           | 2121/3000 [03:16<01:21, 10.75it/s]"
     ]
    },
    {
     "name": "stdout",
     "output_type": "stream",
     "text": [
      "80921\n",
      "Epoch 02118 | Loss 0.0279 | train_RMSE 0.1373 | test_RMSE 0.1343 \n",
      "19929\n",
      "80921\n",
      "Epoch 02119 | Loss 0.0273 | train_RMSE 0.1375 | test_RMSE 0.1346 \n",
      "19929\n",
      "80921\n",
      "Epoch 02120 | Loss 0.0281 | train_RMSE 0.1385 | test_RMSE 0.1356 \n"
     ]
    },
    {
     "name": "stderr",
     "output_type": "stream",
     "text": [
      "\r",
      " 71%|███████████████████████████▌           | 2123/3000 [03:16<01:21, 10.75it/s]"
     ]
    },
    {
     "name": "stdout",
     "output_type": "stream",
     "text": [
      "19929\n",
      "80921\n",
      "Epoch 02121 | Loss 0.0278 | train_RMSE 0.1378 | test_RMSE 0.1349 \n",
      "19929\n",
      "80921\n",
      "Epoch 02122 | Loss 0.0278 | train_RMSE 0.1372 | test_RMSE 0.1343 \n",
      "19929\n"
     ]
    },
    {
     "name": "stderr",
     "output_type": "stream",
     "text": [
      "\r",
      " 71%|███████████████████████████▋           | 2125/3000 [03:16<01:21, 10.76it/s]"
     ]
    },
    {
     "name": "stdout",
     "output_type": "stream",
     "text": [
      "80921\n",
      "Epoch 02123 | Loss 0.0280 | train_RMSE 0.1378 | test_RMSE 0.1348 \n",
      "19929\n",
      "80921\n",
      "Epoch 02124 | Loss 0.0277 | train_RMSE 0.1381 | test_RMSE 0.1350 \n",
      "19929\n",
      "80921\n",
      "Epoch 02125 | Loss 0.0277 | train_RMSE 0.1370 | test_RMSE 0.1342 \n"
     ]
    },
    {
     "name": "stderr",
     "output_type": "stream",
     "text": [
      "\r",
      " 71%|███████████████████████████▋           | 2127/3000 [03:17<01:20, 10.78it/s]"
     ]
    },
    {
     "name": "stdout",
     "output_type": "stream",
     "text": [
      "19929\n",
      "80921\n",
      "Epoch 02126 | Loss 0.0279 | train_RMSE 0.1373 | test_RMSE 0.1343 \n",
      "19929\n",
      "80921\n",
      "Epoch 02127 | Loss 0.0279 | train_RMSE 0.1383 | test_RMSE 0.1353 \n",
      "19929\n"
     ]
    },
    {
     "name": "stderr",
     "output_type": "stream",
     "text": [
      " 71%|███████████████████████████▋           | 2131/3000 [03:17<01:20, 10.81it/s]"
     ]
    },
    {
     "name": "stdout",
     "output_type": "stream",
     "text": [
      "80921\n",
      "Epoch 02128 | Loss 0.0281 | train_RMSE 0.1377 | test_RMSE 0.1347 \n",
      "19929\n",
      "80921\n",
      "Epoch 02129 | Loss 0.0278 | train_RMSE 0.1374 | test_RMSE 0.1345 \n",
      "19929\n",
      "80921\n",
      "Epoch 02130 | Loss 0.0279 | train_RMSE 0.1376 | test_RMSE 0.1346 \n"
     ]
    },
    {
     "name": "stderr",
     "output_type": "stream",
     "text": [
      "\r",
      " 71%|███████████████████████████▋           | 2133/3000 [03:17<01:20, 10.83it/s]"
     ]
    },
    {
     "name": "stdout",
     "output_type": "stream",
     "text": [
      "19929\n",
      "80921\n",
      "Epoch 02131 | Loss 0.0281 | train_RMSE 0.1375 | test_RMSE 0.1346 \n",
      "19929\n",
      "80921\n",
      "Epoch 02132 | Loss 0.0277 | train_RMSE 0.1380 | test_RMSE 0.1351 \n",
      "19929\n"
     ]
    },
    {
     "name": "stderr",
     "output_type": "stream",
     "text": [
      "\r",
      " 71%|███████████████████████████▊           | 2135/3000 [03:17<01:19, 10.84it/s]"
     ]
    },
    {
     "name": "stdout",
     "output_type": "stream",
     "text": [
      "80921\n",
      "Epoch 02133 | Loss 0.0280 | train_RMSE 0.1373 | test_RMSE 0.1344 \n",
      "19929\n",
      "80921\n",
      "Epoch 02134 | Loss 0.0280 | train_RMSE 0.1375 | test_RMSE 0.1346 \n",
      "19929\n",
      "80921\n",
      "Epoch 02135 | Loss 0.0279 | train_RMSE 0.1379 | test_RMSE 0.1349 \n"
     ]
    },
    {
     "name": "stderr",
     "output_type": "stream",
     "text": [
      "\r",
      " 71%|███████████████████████████▊           | 2137/3000 [03:18<01:19, 10.85it/s]"
     ]
    },
    {
     "name": "stdout",
     "output_type": "stream",
     "text": [
      "19929\n",
      "80921\n",
      "Epoch 02136 | Loss 0.0275 | train_RMSE 0.1374 | test_RMSE 0.1346 \n",
      "19929\n",
      "80921\n",
      "Epoch 02137 | Loss 0.0279 | train_RMSE 0.1374 | test_RMSE 0.1345 \n",
      "19929\n"
     ]
    },
    {
     "name": "stderr",
     "output_type": "stream",
     "text": [
      " 71%|███████████████████████████▊           | 2141/3000 [03:18<01:18, 10.89it/s]"
     ]
    },
    {
     "name": "stdout",
     "output_type": "stream",
     "text": [
      "80921\n",
      "Epoch 02138 | Loss 0.0275 | train_RMSE 0.1381 | test_RMSE 0.1351 \n",
      "19929\n",
      "80921\n",
      "Epoch 02139 | Loss 0.0280 | train_RMSE 0.1376 | test_RMSE 0.1347 \n",
      "19929\n",
      "80921\n",
      "Epoch 02140 | Loss 0.0276 | train_RMSE 0.1371 | test_RMSE 0.1342 \n"
     ]
    },
    {
     "name": "stderr",
     "output_type": "stream",
     "text": [
      "\r",
      " 71%|███████████████████████████▊           | 2143/3000 [03:18<01:18, 10.89it/s]"
     ]
    },
    {
     "name": "stdout",
     "output_type": "stream",
     "text": [
      "19929\n",
      "80921\n",
      "Epoch 02141 | Loss 0.0276 | train_RMSE 0.1371 | test_RMSE 0.1341 \n",
      "19929\n",
      "80921\n",
      "Epoch 02142 | Loss 0.0279 | train_RMSE 0.1386 | test_RMSE 0.1357 \n",
      "19929\n"
     ]
    },
    {
     "name": "stderr",
     "output_type": "stream",
     "text": [
      "\r",
      " 72%|███████████████████████████▉           | 2145/3000 [03:18<01:18, 10.91it/s]"
     ]
    },
    {
     "name": "stdout",
     "output_type": "stream",
     "text": [
      "80921\n",
      "Epoch 02143 | Loss 0.0280 | train_RMSE 0.1381 | test_RMSE 0.1351 \n",
      "19929\n",
      "80921\n",
      "Epoch 02144 | Loss 0.0277 | train_RMSE 0.1369 | test_RMSE 0.1341 \n",
      "19929\n",
      "80921\n",
      "Epoch 02145 | Loss 0.0279 | train_RMSE 0.1369 | test_RMSE 0.1341 \n"
     ]
    },
    {
     "name": "stderr",
     "output_type": "stream",
     "text": [
      "\r",
      " 72%|███████████████████████████▉           | 2147/3000 [03:18<01:18, 10.92it/s]"
     ]
    },
    {
     "name": "stdout",
     "output_type": "stream",
     "text": [
      "19929\n",
      "80921\n",
      "Epoch 02146 | Loss 0.0279 | train_RMSE 0.1390 | test_RMSE 0.1360 \n",
      "19929\n",
      "80921\n",
      "Epoch 02147 | Loss 0.0277 | train_RMSE 0.1380 | test_RMSE 0.1351 \n",
      "19929\n"
     ]
    },
    {
     "name": "stderr",
     "output_type": "stream",
     "text": [
      " 72%|███████████████████████████▉           | 2151/3000 [03:19<01:17, 10.91it/s]"
     ]
    },
    {
     "name": "stdout",
     "output_type": "stream",
     "text": [
      "80921\n",
      "Epoch 02148 | Loss 0.0280 | train_RMSE 0.1372 | test_RMSE 0.1343 \n",
      "19929\n",
      "80921\n",
      "Epoch 02149 | Loss 0.0282 | train_RMSE 0.1372 | test_RMSE 0.1343 \n",
      "19929\n",
      "80921\n",
      "Epoch 02150 | Loss 0.0277 | train_RMSE 0.1383 | test_RMSE 0.1353 \n"
     ]
    },
    {
     "name": "stderr",
     "output_type": "stream",
     "text": [
      "\r",
      " 72%|███████████████████████████▉           | 2153/3000 [03:19<01:17, 10.87it/s]"
     ]
    },
    {
     "name": "stdout",
     "output_type": "stream",
     "text": [
      "19929\n",
      "80921\n",
      "Epoch 02151 | Loss 0.0277 | train_RMSE 0.1378 | test_RMSE 0.1348 \n",
      "19929\n",
      "80921\n",
      "Epoch 02152 | Loss 0.0278 | train_RMSE 0.1370 | test_RMSE 0.1342 \n",
      "19929\n"
     ]
    },
    {
     "name": "stderr",
     "output_type": "stream",
     "text": [
      "\r",
      " 72%|████████████████████████████           | 2155/3000 [03:19<01:17, 10.86it/s]"
     ]
    },
    {
     "name": "stdout",
     "output_type": "stream",
     "text": [
      "80921\n",
      "Epoch 02153 | Loss 0.0279 | train_RMSE 0.1380 | test_RMSE 0.1351 \n",
      "19929\n",
      "80921\n",
      "Epoch 02154 | Loss 0.0277 | train_RMSE 0.1393 | test_RMSE 0.1363 \n",
      "19929\n",
      "80921\n",
      "Epoch 02155 | Loss 0.0281 | train_RMSE 0.1375 | test_RMSE 0.1346 \n"
     ]
    },
    {
     "name": "stderr",
     "output_type": "stream",
     "text": [
      "\r",
      " 72%|████████████████████████████           | 2157/3000 [03:19<01:17, 10.85it/s]"
     ]
    },
    {
     "name": "stdout",
     "output_type": "stream",
     "text": [
      "19929\n",
      "80921\n",
      "Epoch 02156 | Loss 0.0278 | train_RMSE 0.1371 | test_RMSE 0.1342 \n",
      "19929\n",
      "80921\n",
      "Epoch 02157 | Loss 0.0282 | train_RMSE 0.1383 | test_RMSE 0.1354 \n",
      "19929\n"
     ]
    },
    {
     "name": "stderr",
     "output_type": "stream",
     "text": [
      " 72%|████████████████████████████           | 2161/3000 [03:20<01:17, 10.85it/s]"
     ]
    },
    {
     "name": "stdout",
     "output_type": "stream",
     "text": [
      "80921\n",
      "Epoch 02158 | Loss 0.0277 | train_RMSE 0.1388 | test_RMSE 0.1358 \n",
      "19929\n",
      "80921\n",
      "Epoch 02159 | Loss 0.0277 | train_RMSE 0.1372 | test_RMSE 0.1343 \n",
      "19929\n",
      "80921\n",
      "Epoch 02160 | Loss 0.0279 | train_RMSE 0.1368 | test_RMSE 0.1340 \n"
     ]
    },
    {
     "name": "stderr",
     "output_type": "stream",
     "text": [
      "\r",
      " 72%|████████████████████████████           | 2163/3000 [03:20<01:17, 10.84it/s]"
     ]
    },
    {
     "name": "stdout",
     "output_type": "stream",
     "text": [
      "19929\n",
      "80921\n",
      "Epoch 02161 | Loss 0.0279 | train_RMSE 0.1387 | test_RMSE 0.1357 \n",
      "19929\n",
      "80921\n",
      "Epoch 02162 | Loss 0.0279 | train_RMSE 0.1382 | test_RMSE 0.1353 \n",
      "19929\n"
     ]
    },
    {
     "name": "stderr",
     "output_type": "stream",
     "text": [
      "\r",
      " 72%|████████████████████████████▏          | 2165/3000 [03:20<01:17, 10.83it/s]"
     ]
    },
    {
     "name": "stdout",
     "output_type": "stream",
     "text": [
      "80921\n",
      "Epoch 02163 | Loss 0.0279 | train_RMSE 0.1373 | test_RMSE 0.1345 \n",
      "19929\n",
      "80921\n",
      "Epoch 02164 | Loss 0.0278 | train_RMSE 0.1372 | test_RMSE 0.1343 \n",
      "19929\n",
      "80921\n",
      "Epoch 02165 | Loss 0.0277 | train_RMSE 0.1380 | test_RMSE 0.1351 \n"
     ]
    },
    {
     "name": "stderr",
     "output_type": "stream",
     "text": [
      "\r",
      " 72%|████████████████████████████▏          | 2167/3000 [03:20<01:16, 10.83it/s]"
     ]
    },
    {
     "name": "stdout",
     "output_type": "stream",
     "text": [
      "19929\n",
      "80921\n",
      "Epoch 02166 | Loss 0.0275 | train_RMSE 0.1380 | test_RMSE 0.1351 \n",
      "19929\n",
      "80921\n",
      "Epoch 02167 | Loss 0.0276 | train_RMSE 0.1375 | test_RMSE 0.1346 \n",
      "19929\n"
     ]
    },
    {
     "name": "stderr",
     "output_type": "stream",
     "text": [
      " 72%|████████████████████████████▏          | 2171/3000 [03:21<01:16, 10.83it/s]"
     ]
    },
    {
     "name": "stdout",
     "output_type": "stream",
     "text": [
      "80921\n",
      "Epoch 02168 | Loss 0.0279 | train_RMSE 0.1371 | test_RMSE 0.1342 \n",
      "19929\n",
      "80921\n",
      "Epoch 02169 | Loss 0.0278 | train_RMSE 0.1381 | test_RMSE 0.1351 \n",
      "19929\n",
      "80921\n",
      "Epoch 02170 | Loss 0.0278 | train_RMSE 0.1379 | test_RMSE 0.1349 \n"
     ]
    },
    {
     "name": "stderr",
     "output_type": "stream",
     "text": [
      "\r",
      " 72%|████████████████████████████▏          | 2173/3000 [03:21<01:16, 10.83it/s]"
     ]
    },
    {
     "name": "stdout",
     "output_type": "stream",
     "text": [
      "19929\n",
      "80921\n",
      "Epoch 02171 | Loss 0.0276 | train_RMSE 0.1376 | test_RMSE 0.1347 \n",
      "19929\n",
      "80921\n",
      "Epoch 02172 | Loss 0.0277 | train_RMSE 0.1374 | test_RMSE 0.1346 \n",
      "19929\n"
     ]
    },
    {
     "name": "stderr",
     "output_type": "stream",
     "text": [
      "\r",
      " 72%|████████████████████████████▎          | 2175/3000 [03:21<01:16, 10.83it/s]"
     ]
    },
    {
     "name": "stdout",
     "output_type": "stream",
     "text": [
      "80921\n",
      "Epoch 02173 | Loss 0.0280 | train_RMSE 0.1377 | test_RMSE 0.1349 \n",
      "19929\n",
      "80921\n",
      "Epoch 02174 | Loss 0.0278 | train_RMSE 0.1379 | test_RMSE 0.1350 \n",
      "19929\n",
      "80921\n",
      "Epoch 02175 | Loss 0.0278 | train_RMSE 0.1376 | test_RMSE 0.1346 \n"
     ]
    },
    {
     "name": "stderr",
     "output_type": "stream",
     "text": [
      "\r",
      " 73%|████████████████████████████▎          | 2177/3000 [03:21<01:15, 10.84it/s]"
     ]
    },
    {
     "name": "stdout",
     "output_type": "stream",
     "text": [
      "19929\n",
      "80921\n",
      "Epoch 02176 | Loss 0.0275 | train_RMSE 0.1376 | test_RMSE 0.1347 \n",
      "19929\n",
      "80921\n",
      "Epoch 02177 | Loss 0.0274 | train_RMSE 0.1379 | test_RMSE 0.1349 \n",
      "19929\n"
     ]
    },
    {
     "name": "stderr",
     "output_type": "stream",
     "text": [
      " 73%|████████████████████████████▎          | 2181/3000 [03:22<01:15, 10.88it/s]"
     ]
    },
    {
     "name": "stdout",
     "output_type": "stream",
     "text": [
      "80921\n",
      "Epoch 02178 | Loss 0.0276 | train_RMSE 0.1371 | test_RMSE 0.1342 \n",
      "19929\n",
      "80921\n",
      "Epoch 02179 | Loss 0.0275 | train_RMSE 0.1377 | test_RMSE 0.1347 \n",
      "19929\n",
      "80921\n",
      "Epoch 02180 | Loss 0.0274 | train_RMSE 0.1378 | test_RMSE 0.1349 \n"
     ]
    },
    {
     "name": "stderr",
     "output_type": "stream",
     "text": [
      "\r",
      " 73%|████████████████████████████▍          | 2183/3000 [03:22<01:15, 10.85it/s]"
     ]
    },
    {
     "name": "stdout",
     "output_type": "stream",
     "text": [
      "19929\n",
      "80921\n",
      "Epoch 02181 | Loss 0.0274 | train_RMSE 0.1371 | test_RMSE 0.1342 \n",
      "19929\n",
      "80921\n",
      "Epoch 02182 | Loss 0.0274 | train_RMSE 0.1371 | test_RMSE 0.1342 \n",
      "19929\n"
     ]
    },
    {
     "name": "stderr",
     "output_type": "stream",
     "text": [
      "\r",
      " 73%|████████████████████████████▍          | 2185/3000 [03:22<01:14, 10.87it/s]"
     ]
    },
    {
     "name": "stdout",
     "output_type": "stream",
     "text": [
      "80921\n",
      "Epoch 02183 | Loss 0.0277 | train_RMSE 0.1376 | test_RMSE 0.1348 \n",
      "19929\n",
      "80921\n",
      "Epoch 02184 | Loss 0.0276 | train_RMSE 0.1379 | test_RMSE 0.1349 \n",
      "19929\n",
      "80921\n",
      "Epoch 02185 | Loss 0.0271 | train_RMSE 0.1370 | test_RMSE 0.1341 \n"
     ]
    },
    {
     "name": "stderr",
     "output_type": "stream",
     "text": [
      "\r",
      " 73%|████████████████████████████▍          | 2187/3000 [03:22<01:14, 10.86it/s]"
     ]
    },
    {
     "name": "stdout",
     "output_type": "stream",
     "text": [
      "19929\n",
      "80921\n",
      "Epoch 02186 | Loss 0.0273 | train_RMSE 0.1371 | test_RMSE 0.1341 \n",
      "19929\n",
      "80921\n",
      "Epoch 02187 | Loss 0.0276 | train_RMSE 0.1382 | test_RMSE 0.1352 \n",
      "19929\n"
     ]
    },
    {
     "name": "stderr",
     "output_type": "stream",
     "text": [
      " 73%|████████████████████████████▍          | 2191/3000 [03:22<01:14, 10.89it/s]"
     ]
    },
    {
     "name": "stdout",
     "output_type": "stream",
     "text": [
      "80921\n",
      "Epoch 02188 | Loss 0.0272 | train_RMSE 0.1374 | test_RMSE 0.1346 \n",
      "19929\n",
      "80921\n",
      "Epoch 02189 | Loss 0.0274 | train_RMSE 0.1371 | test_RMSE 0.1342 \n",
      "19929\n",
      "80921\n",
      "Epoch 02190 | Loss 0.0273 | train_RMSE 0.1378 | test_RMSE 0.1348 \n"
     ]
    },
    {
     "name": "stderr",
     "output_type": "stream",
     "text": [
      "\r",
      " 73%|████████████████████████████▌          | 2193/3000 [03:23<01:14, 10.87it/s]"
     ]
    },
    {
     "name": "stdout",
     "output_type": "stream",
     "text": [
      "19929\n",
      "80921\n",
      "Epoch 02191 | Loss 0.0271 | train_RMSE 0.1374 | test_RMSE 0.1345 \n",
      "19929\n",
      "80921\n",
      "Epoch 02192 | Loss 0.0276 | train_RMSE 0.1372 | test_RMSE 0.1343 \n",
      "19929\n"
     ]
    },
    {
     "name": "stderr",
     "output_type": "stream",
     "text": [
      "\r",
      " 73%|████████████████████████████▌          | 2195/3000 [03:23<01:14, 10.85it/s]"
     ]
    },
    {
     "name": "stdout",
     "output_type": "stream",
     "text": [
      "80921\n",
      "Epoch 02193 | Loss 0.0274 | train_RMSE 0.1372 | test_RMSE 0.1343 \n",
      "19929\n",
      "80921\n",
      "Epoch 02194 | Loss 0.0273 | train_RMSE 0.1375 | test_RMSE 0.1346 \n",
      "19929\n",
      "80921\n",
      "Epoch 02195 | Loss 0.0275 | train_RMSE 0.1380 | test_RMSE 0.1351 \n"
     ]
    },
    {
     "name": "stderr",
     "output_type": "stream",
     "text": [
      "\r",
      " 73%|████████████████████████████▌          | 2197/3000 [03:23<01:13, 10.86it/s]"
     ]
    },
    {
     "name": "stdout",
     "output_type": "stream",
     "text": [
      "19929\n",
      "80921\n",
      "Epoch 02196 | Loss 0.0275 | train_RMSE 0.1370 | test_RMSE 0.1341 \n",
      "19929\n",
      "80921\n",
      "Epoch 02197 | Loss 0.0275 | train_RMSE 0.1372 | test_RMSE 0.1344 \n",
      "19929\n"
     ]
    },
    {
     "name": "stderr",
     "output_type": "stream",
     "text": [
      " 73%|████████████████████████████▌          | 2201/3000 [03:23<01:13, 10.88it/s]"
     ]
    },
    {
     "name": "stdout",
     "output_type": "stream",
     "text": [
      "80921\n",
      "Epoch 02198 | Loss 0.0273 | train_RMSE 0.1388 | test_RMSE 0.1358 \n",
      "19929\n",
      "80921\n",
      "Epoch 02199 | Loss 0.0277 | train_RMSE 0.1370 | test_RMSE 0.1342 \n",
      "19929\n",
      "80921\n",
      "Epoch 02200 | Loss 0.0273 | train_RMSE 0.1369 | test_RMSE 0.1341 \n"
     ]
    },
    {
     "name": "stderr",
     "output_type": "stream",
     "text": [
      "\r",
      " 73%|████████████████████████████▋          | 2203/3000 [03:24<01:13, 10.87it/s]"
     ]
    },
    {
     "name": "stdout",
     "output_type": "stream",
     "text": [
      "19929\n",
      "80921\n",
      "Epoch 02201 | Loss 0.0277 | train_RMSE 0.1390 | test_RMSE 0.1359 \n",
      "19929\n",
      "80921\n",
      "Epoch 02202 | Loss 0.0274 | train_RMSE 0.1378 | test_RMSE 0.1349 \n",
      "19929\n"
     ]
    },
    {
     "name": "stderr",
     "output_type": "stream",
     "text": [
      "\r",
      " 74%|████████████████████████████▋          | 2205/3000 [03:24<01:13, 10.87it/s]"
     ]
    },
    {
     "name": "stdout",
     "output_type": "stream",
     "text": [
      "80921\n",
      "Epoch 02203 | Loss 0.0273 | train_RMSE 0.1373 | test_RMSE 0.1344 \n",
      "19929\n",
      "80921\n",
      "Epoch 02204 | Loss 0.0275 | train_RMSE 0.1380 | test_RMSE 0.1351 \n",
      "19929\n",
      "80921\n",
      "Epoch 02205 | Loss 0.0273 | train_RMSE 0.1389 | test_RMSE 0.1358 \n"
     ]
    },
    {
     "name": "stderr",
     "output_type": "stream",
     "text": [
      "\r",
      " 74%|████████████████████████████▋          | 2207/3000 [03:24<01:12, 10.87it/s]"
     ]
    },
    {
     "name": "stdout",
     "output_type": "stream",
     "text": [
      "19929\n",
      "80921\n",
      "Epoch 02206 | Loss 0.0276 | train_RMSE 0.1370 | test_RMSE 0.1343 \n",
      "19929\n",
      "80921\n",
      "Epoch 02207 | Loss 0.0276 | train_RMSE 0.1374 | test_RMSE 0.1345 \n",
      "19929\n"
     ]
    },
    {
     "name": "stderr",
     "output_type": "stream",
     "text": [
      " 74%|████████████████████████████▋          | 2211/3000 [03:24<01:12, 10.90it/s]"
     ]
    },
    {
     "name": "stdout",
     "output_type": "stream",
     "text": [
      "80921\n",
      "Epoch 02208 | Loss 0.0275 | train_RMSE 0.1387 | test_RMSE 0.1356 \n",
      "19929\n",
      "80921\n",
      "Epoch 02209 | Loss 0.0276 | train_RMSE 0.1369 | test_RMSE 0.1341 \n",
      "19929\n",
      "80921\n",
      "Epoch 02210 | Loss 0.0273 | train_RMSE 0.1373 | test_RMSE 0.1343 \n"
     ]
    },
    {
     "name": "stderr",
     "output_type": "stream",
     "text": [
      "\r",
      " 74%|████████████████████████████▊          | 2213/3000 [03:25<01:12, 10.90it/s]"
     ]
    },
    {
     "name": "stdout",
     "output_type": "stream",
     "text": [
      "19929\n",
      "80921\n",
      "Epoch 02211 | Loss 0.0275 | train_RMSE 0.1380 | test_RMSE 0.1352 \n",
      "19929\n",
      "80921\n",
      "Epoch 02212 | Loss 0.0273 | train_RMSE 0.1380 | test_RMSE 0.1351 \n",
      "19929\n"
     ]
    },
    {
     "name": "stderr",
     "output_type": "stream",
     "text": [
      "\r",
      " 74%|████████████████████████████▊          | 2215/3000 [03:25<01:11, 10.90it/s]"
     ]
    },
    {
     "name": "stdout",
     "output_type": "stream",
     "text": [
      "80921\n",
      "Epoch 02213 | Loss 0.0274 | train_RMSE 0.1368 | test_RMSE 0.1340 \n",
      "19929\n",
      "80921\n",
      "Epoch 02214 | Loss 0.0272 | train_RMSE 0.1370 | test_RMSE 0.1342 \n",
      "19929\n",
      "80921\n",
      "Epoch 02215 | Loss 0.0271 | train_RMSE 0.1398 | test_RMSE 0.1368 \n"
     ]
    },
    {
     "name": "stderr",
     "output_type": "stream",
     "text": [
      "\r",
      " 74%|████████████████████████████▊          | 2217/3000 [03:25<01:11, 10.89it/s]"
     ]
    },
    {
     "name": "stdout",
     "output_type": "stream",
     "text": [
      "19929\n",
      "80921\n",
      "Epoch 02216 | Loss 0.0281 | train_RMSE 0.1376 | test_RMSE 0.1348 \n",
      "19929\n",
      "80921\n",
      "Epoch 02217 | Loss 0.0278 | train_RMSE 0.1382 | test_RMSE 0.1352 \n",
      "19929\n"
     ]
    },
    {
     "name": "stderr",
     "output_type": "stream",
     "text": [
      " 74%|████████████████████████████▊          | 2221/3000 [03:25<01:11, 10.89it/s]"
     ]
    },
    {
     "name": "stdout",
     "output_type": "stream",
     "text": [
      "80921\n",
      "Epoch 02218 | Loss 0.0277 | train_RMSE 0.1394 | test_RMSE 0.1366 \n",
      "19929\n",
      "80921\n",
      "Epoch 02219 | Loss 0.0275 | train_RMSE 0.1399 | test_RMSE 0.1367 \n",
      "19929\n",
      "80921\n",
      "Epoch 02220 | Loss 0.0278 | train_RMSE 0.1371 | test_RMSE 0.1343 \n"
     ]
    },
    {
     "name": "stderr",
     "output_type": "stream",
     "text": [
      "\r",
      " 74%|████████████████████████████▉          | 2223/3000 [03:25<01:11, 10.89it/s]"
     ]
    },
    {
     "name": "stdout",
     "output_type": "stream",
     "text": [
      "19929\n",
      "80921\n",
      "Epoch 02221 | Loss 0.0275 | train_RMSE 0.1370 | test_RMSE 0.1341 \n",
      "19929\n",
      "80921\n",
      "Epoch 02222 | Loss 0.0276 | train_RMSE 0.1385 | test_RMSE 0.1356 \n",
      "19929\n"
     ]
    },
    {
     "name": "stderr",
     "output_type": "stream",
     "text": [
      "\r",
      " 74%|████████████████████████████▉          | 2225/3000 [03:26<01:11, 10.90it/s]"
     ]
    },
    {
     "name": "stdout",
     "output_type": "stream",
     "text": [
      "80921\n",
      "Epoch 02223 | Loss 0.0275 | train_RMSE 0.1388 | test_RMSE 0.1361 \n",
      "19929\n",
      "80921\n",
      "Epoch 02224 | Loss 0.0278 | train_RMSE 0.1382 | test_RMSE 0.1352 \n",
      "19929\n",
      "80921\n",
      "Epoch 02225 | Loss 0.0275 | train_RMSE 0.1382 | test_RMSE 0.1355 \n"
     ]
    },
    {
     "name": "stderr",
     "output_type": "stream",
     "text": [
      "\r",
      " 74%|████████████████████████████▉          | 2227/3000 [03:26<01:10, 10.91it/s]"
     ]
    },
    {
     "name": "stdout",
     "output_type": "stream",
     "text": [
      "19929\n",
      "80921\n",
      "Epoch 02226 | Loss 0.0277 | train_RMSE 0.1408 | test_RMSE 0.1376 \n",
      "19929\n",
      "80921\n",
      "Epoch 02227 | Loss 0.0278 | train_RMSE 0.1383 | test_RMSE 0.1355 \n",
      "19929\n"
     ]
    },
    {
     "name": "stderr",
     "output_type": "stream",
     "text": [
      " 74%|█████████████████████████████          | 2231/3000 [03:26<01:10, 10.92it/s]"
     ]
    },
    {
     "name": "stdout",
     "output_type": "stream",
     "text": [
      "80921\n",
      "Epoch 02228 | Loss 0.0275 | train_RMSE 0.1375 | test_RMSE 0.1345 \n",
      "19929\n",
      "80921\n",
      "Epoch 02229 | Loss 0.0274 | train_RMSE 0.1370 | test_RMSE 0.1342 \n",
      "19929\n",
      "80921\n",
      "Epoch 02230 | Loss 0.0274 | train_RMSE 0.1381 | test_RMSE 0.1353 \n"
     ]
    },
    {
     "name": "stderr",
     "output_type": "stream",
     "text": [
      "\r",
      " 74%|█████████████████████████████          | 2233/3000 [03:26<01:10, 10.92it/s]"
     ]
    },
    {
     "name": "stdout",
     "output_type": "stream",
     "text": [
      "19929\n",
      "80921\n",
      "Epoch 02231 | Loss 0.0277 | train_RMSE 0.1393 | test_RMSE 0.1362 \n",
      "19929\n",
      "80921\n",
      "Epoch 02232 | Loss 0.0277 | train_RMSE 0.1380 | test_RMSE 0.1354 \n",
      "19929\n"
     ]
    },
    {
     "name": "stderr",
     "output_type": "stream",
     "text": [
      "\r",
      " 74%|█████████████████████████████          | 2235/3000 [03:27<01:10, 10.90it/s]"
     ]
    },
    {
     "name": "stdout",
     "output_type": "stream",
     "text": [
      "80921\n",
      "Epoch 02233 | Loss 0.0279 | train_RMSE 0.1388 | test_RMSE 0.1357 \n",
      "19929\n",
      "80921\n",
      "Epoch 02234 | Loss 0.0276 | train_RMSE 0.1396 | test_RMSE 0.1368 \n",
      "19929\n",
      "80921\n",
      "Epoch 02235 | Loss 0.0280 | train_RMSE 0.1380 | test_RMSE 0.1350 \n"
     ]
    },
    {
     "name": "stderr",
     "output_type": "stream",
     "text": [
      "\r",
      " 75%|█████████████████████████████          | 2237/3000 [03:27<01:10, 10.87it/s]"
     ]
    },
    {
     "name": "stdout",
     "output_type": "stream",
     "text": [
      "19929\n",
      "80921\n",
      "Epoch 02236 | Loss 0.0273 | train_RMSE 0.1368 | test_RMSE 0.1340 \n",
      "19929\n",
      "80921\n",
      "Epoch 02237 | Loss 0.0276 | train_RMSE 0.1380 | test_RMSE 0.1351 \n",
      "19929\n"
     ]
    },
    {
     "name": "stderr",
     "output_type": "stream",
     "text": [
      " 75%|█████████████████████████████▏         | 2241/3000 [03:27<01:09, 10.88it/s]"
     ]
    },
    {
     "name": "stdout",
     "output_type": "stream",
     "text": [
      "80921\n",
      "Epoch 02238 | Loss 0.0272 | train_RMSE 0.1397 | test_RMSE 0.1366 \n",
      "19929\n",
      "80921\n",
      "Epoch 02239 | Loss 0.0280 | train_RMSE 0.1373 | test_RMSE 0.1344 \n",
      "19929\n",
      "80921\n",
      "Epoch 02240 | Loss 0.0274 | train_RMSE 0.1375 | test_RMSE 0.1345 \n"
     ]
    },
    {
     "name": "stderr",
     "output_type": "stream",
     "text": [
      "\r",
      " 75%|█████████████████████████████▏         | 2243/3000 [03:27<01:09, 10.87it/s]"
     ]
    },
    {
     "name": "stdout",
     "output_type": "stream",
     "text": [
      "19929\n",
      "80921\n",
      "Epoch 02241 | Loss 0.0275 | train_RMSE 0.1386 | test_RMSE 0.1358 \n",
      "19929\n",
      "80921\n",
      "Epoch 02242 | Loss 0.0274 | train_RMSE 0.1377 | test_RMSE 0.1348 \n",
      "19929\n"
     ]
    },
    {
     "name": "stderr",
     "output_type": "stream",
     "text": [
      "\r",
      " 75%|█████████████████████████████▏         | 2245/3000 [03:27<01:09, 10.87it/s]"
     ]
    },
    {
     "name": "stdout",
     "output_type": "stream",
     "text": [
      "80921\n",
      "Epoch 02243 | Loss 0.0271 | train_RMSE 0.1372 | test_RMSE 0.1344 \n",
      "19929\n",
      "80921\n",
      "Epoch 02244 | Loss 0.0272 | train_RMSE 0.1376 | test_RMSE 0.1346 \n",
      "19929\n",
      "80921\n",
      "Epoch 02245 | Loss 0.0273 | train_RMSE 0.1377 | test_RMSE 0.1347 \n"
     ]
    },
    {
     "name": "stderr",
     "output_type": "stream",
     "text": [
      "\r",
      " 75%|█████████████████████████████▏         | 2247/3000 [03:28<01:09, 10.88it/s]"
     ]
    },
    {
     "name": "stdout",
     "output_type": "stream",
     "text": [
      "19929\n",
      "80921\n",
      "Epoch 02246 | Loss 0.0273 | train_RMSE 0.1373 | test_RMSE 0.1343 \n",
      "19929\n",
      "80921\n",
      "Epoch 02247 | Loss 0.0273 | train_RMSE 0.1374 | test_RMSE 0.1345 \n",
      "19929\n"
     ]
    },
    {
     "name": "stderr",
     "output_type": "stream",
     "text": [
      " 75%|█████████████████████████████▎         | 2251/3000 [03:28<01:08, 10.90it/s]"
     ]
    },
    {
     "name": "stdout",
     "output_type": "stream",
     "text": [
      "80921\n",
      "Epoch 02248 | Loss 0.0272 | train_RMSE 0.1375 | test_RMSE 0.1346 \n",
      "19929\n",
      "80921\n",
      "Epoch 02249 | Loss 0.0273 | train_RMSE 0.1372 | test_RMSE 0.1342 \n",
      "19929\n",
      "80921\n",
      "Epoch 02250 | Loss 0.0275 | train_RMSE 0.1371 | test_RMSE 0.1342 \n"
     ]
    },
    {
     "name": "stderr",
     "output_type": "stream",
     "text": [
      "\r",
      " 75%|█████████████████████████████▎         | 2253/3000 [03:28<01:08, 10.90it/s]"
     ]
    },
    {
     "name": "stdout",
     "output_type": "stream",
     "text": [
      "19929\n",
      "80921\n",
      "Epoch 02251 | Loss 0.0274 | train_RMSE 0.1380 | test_RMSE 0.1349 \n",
      "19929\n",
      "80921\n",
      "Epoch 02252 | Loss 0.0276 | train_RMSE 0.1377 | test_RMSE 0.1349 \n",
      "19929\n"
     ]
    },
    {
     "name": "stderr",
     "output_type": "stream",
     "text": [
      "\r",
      " 75%|█████████████████████████████▎         | 2255/3000 [03:28<01:08, 10.90it/s]"
     ]
    },
    {
     "name": "stdout",
     "output_type": "stream",
     "text": [
      "80921\n",
      "Epoch 02253 | Loss 0.0275 | train_RMSE 0.1377 | test_RMSE 0.1347 \n",
      "19929\n",
      "80921\n",
      "Epoch 02254 | Loss 0.0275 | train_RMSE 0.1377 | test_RMSE 0.1350 \n",
      "19929\n",
      "80921\n",
      "Epoch 02255 | Loss 0.0274 | train_RMSE 0.1396 | test_RMSE 0.1365 \n"
     ]
    },
    {
     "name": "stderr",
     "output_type": "stream",
     "text": [
      "\r",
      " 75%|█████████████████████████████▎         | 2257/3000 [03:29<01:08, 10.92it/s]"
     ]
    },
    {
     "name": "stdout",
     "output_type": "stream",
     "text": [
      "19929\n",
      "80921\n",
      "Epoch 02256 | Loss 0.0276 | train_RMSE 0.1378 | test_RMSE 0.1351 \n",
      "19929\n",
      "80921\n",
      "Epoch 02257 | Loss 0.0275 | train_RMSE 0.1384 | test_RMSE 0.1354 \n",
      "19929\n"
     ]
    },
    {
     "name": "stderr",
     "output_type": "stream",
     "text": [
      " 75%|█████████████████████████████▍         | 2261/3000 [03:29<01:07, 10.92it/s]"
     ]
    },
    {
     "name": "stdout",
     "output_type": "stream",
     "text": [
      "80921\n",
      "Epoch 02258 | Loss 0.0276 | train_RMSE 0.1384 | test_RMSE 0.1356 \n",
      "19929\n",
      "80921\n",
      "Epoch 02259 | Loss 0.0276 | train_RMSE 0.1381 | test_RMSE 0.1351 \n",
      "19929\n",
      "80921\n",
      "Epoch 02260 | Loss 0.0272 | train_RMSE 0.1369 | test_RMSE 0.1341 \n"
     ]
    },
    {
     "name": "stderr",
     "output_type": "stream",
     "text": [
      "\r",
      " 75%|█████████████████████████████▍         | 2263/3000 [03:29<01:07, 10.91it/s]"
     ]
    },
    {
     "name": "stdout",
     "output_type": "stream",
     "text": [
      "19929\n",
      "80921\n",
      "Epoch 02261 | Loss 0.0273 | train_RMSE 0.1371 | test_RMSE 0.1342 \n",
      "19929\n",
      "80921\n",
      "Epoch 02262 | Loss 0.0273 | train_RMSE 0.1378 | test_RMSE 0.1349 \n",
      "19929\n"
     ]
    },
    {
     "name": "stderr",
     "output_type": "stream",
     "text": [
      "\r",
      " 76%|█████████████████████████████▍         | 2265/3000 [03:29<01:07, 10.88it/s]"
     ]
    },
    {
     "name": "stdout",
     "output_type": "stream",
     "text": [
      "80921\n",
      "Epoch 02263 | Loss 0.0272 | train_RMSE 0.1379 | test_RMSE 0.1351 \n",
      "19929\n",
      "80921\n",
      "Epoch 02264 | Loss 0.0273 | train_RMSE 0.1378 | test_RMSE 0.1349 \n",
      "19929\n",
      "80921\n",
      "Epoch 02265 | Loss 0.0274 | train_RMSE 0.1372 | test_RMSE 0.1344 \n"
     ]
    },
    {
     "name": "stderr",
     "output_type": "stream",
     "text": [
      "\r",
      " 76%|█████████████████████████████▍         | 2267/3000 [03:29<01:07, 10.89it/s]"
     ]
    },
    {
     "name": "stdout",
     "output_type": "stream",
     "text": [
      "19929\n",
      "80921\n",
      "Epoch 02266 | Loss 0.0274 | train_RMSE 0.1382 | test_RMSE 0.1352 \n",
      "19929\n",
      "80921\n",
      "Epoch 02267 | Loss 0.0274 | train_RMSE 0.1377 | test_RMSE 0.1348 \n",
      "19929\n"
     ]
    },
    {
     "name": "stderr",
     "output_type": "stream",
     "text": [
      " 76%|█████████████████████████████▌         | 2271/3000 [03:30<01:06, 10.90it/s]"
     ]
    },
    {
     "name": "stdout",
     "output_type": "stream",
     "text": [
      "80921\n",
      "Epoch 02268 | Loss 0.0275 | train_RMSE 0.1370 | test_RMSE 0.1341 \n",
      "19929\n",
      "80921\n",
      "Epoch 02269 | Loss 0.0275 | train_RMSE 0.1381 | test_RMSE 0.1351 \n",
      "19929\n",
      "80921\n",
      "Epoch 02270 | Loss 0.0273 | train_RMSE 0.1377 | test_RMSE 0.1348 \n"
     ]
    },
    {
     "name": "stderr",
     "output_type": "stream",
     "text": [
      "\r",
      " 76%|█████████████████████████████▌         | 2273/3000 [03:30<01:06, 10.89it/s]"
     ]
    },
    {
     "name": "stdout",
     "output_type": "stream",
     "text": [
      "19929\n",
      "80921\n",
      "Epoch 02271 | Loss 0.0275 | train_RMSE 0.1375 | test_RMSE 0.1345 \n",
      "19929\n",
      "80921\n",
      "Epoch 02272 | Loss 0.0274 | train_RMSE 0.1380 | test_RMSE 0.1351 \n",
      "19929\n"
     ]
    },
    {
     "name": "stderr",
     "output_type": "stream",
     "text": [
      "\r",
      " 76%|█████████████████████████████▌         | 2275/3000 [03:30<01:06, 10.87it/s]"
     ]
    },
    {
     "name": "stdout",
     "output_type": "stream",
     "text": [
      "80921\n",
      "Epoch 02273 | Loss 0.0274 | train_RMSE 0.1393 | test_RMSE 0.1361 \n",
      "19929\n",
      "80921\n",
      "Epoch 02274 | Loss 0.0278 | train_RMSE 0.1382 | test_RMSE 0.1356 \n",
      "19929\n",
      "80921\n",
      "Epoch 02275 | Loss 0.0278 | train_RMSE 0.1401 | test_RMSE 0.1370 \n"
     ]
    },
    {
     "name": "stderr",
     "output_type": "stream",
     "text": [
      "\r",
      " 76%|█████████████████████████████▌         | 2277/3000 [03:30<01:06, 10.87it/s]"
     ]
    },
    {
     "name": "stdout",
     "output_type": "stream",
     "text": [
      "19929\n",
      "80921\n",
      "Epoch 02276 | Loss 0.0280 | train_RMSE 0.1396 | test_RMSE 0.1369 \n",
      "19929\n",
      "80921\n",
      "Epoch 02277 | Loss 0.0281 | train_RMSE 0.1394 | test_RMSE 0.1363 \n",
      "19929\n"
     ]
    },
    {
     "name": "stderr",
     "output_type": "stream",
     "text": [
      " 76%|█████████████████████████████▋         | 2281/3000 [03:31<01:06, 10.84it/s]"
     ]
    },
    {
     "name": "stdout",
     "output_type": "stream",
     "text": [
      "80921\n",
      "Epoch 02278 | Loss 0.0277 | train_RMSE 0.1376 | test_RMSE 0.1349 \n",
      "19929\n",
      "80921\n",
      "Epoch 02279 | Loss 0.0277 | train_RMSE 0.1385 | test_RMSE 0.1355 \n",
      "19929\n",
      "80921\n",
      "Epoch 02280 | Loss 0.0276 | train_RMSE 0.1377 | test_RMSE 0.1349 \n"
     ]
    },
    {
     "name": "stderr",
     "output_type": "stream",
     "text": [
      "\r",
      " 76%|█████████████████████████████▋         | 2283/3000 [03:31<01:06, 10.83it/s]"
     ]
    },
    {
     "name": "stdout",
     "output_type": "stream",
     "text": [
      "19929\n",
      "80921\n",
      "Epoch 02281 | Loss 0.0274 | train_RMSE 0.1370 | test_RMSE 0.1342 \n",
      "19929\n",
      "80921\n",
      "Epoch 02282 | Loss 0.0272 | train_RMSE 0.1380 | test_RMSE 0.1350 \n",
      "19929\n"
     ]
    },
    {
     "name": "stderr",
     "output_type": "stream",
     "text": [
      "\r",
      " 76%|█████████████████████████████▋         | 2285/3000 [03:31<01:06, 10.82it/s]"
     ]
    },
    {
     "name": "stdout",
     "output_type": "stream",
     "text": [
      "80921\n",
      "Epoch 02283 | Loss 0.0274 | train_RMSE 0.1382 | test_RMSE 0.1354 \n",
      "19929\n",
      "80921\n",
      "Epoch 02284 | Loss 0.0276 | train_RMSE 0.1387 | test_RMSE 0.1356 \n",
      "19929\n",
      "80921\n",
      "Epoch 02285 | Loss 0.0275 | train_RMSE 0.1383 | test_RMSE 0.1356 \n"
     ]
    },
    {
     "name": "stderr",
     "output_type": "stream",
     "text": [
      "\r",
      " 76%|█████████████████████████████▋         | 2287/3000 [03:31<01:05, 10.81it/s]"
     ]
    },
    {
     "name": "stdout",
     "output_type": "stream",
     "text": [
      "19929\n",
      "80921\n",
      "Epoch 02286 | Loss 0.0276 | train_RMSE 0.1392 | test_RMSE 0.1361 \n",
      "19929\n",
      "80921\n",
      "Epoch 02287 | Loss 0.0278 | train_RMSE 0.1382 | test_RMSE 0.1355 \n",
      "19929\n"
     ]
    },
    {
     "name": "stderr",
     "output_type": "stream",
     "text": [
      " 76%|█████████████████████████████▊         | 2291/3000 [03:32<01:05, 10.82it/s]"
     ]
    },
    {
     "name": "stdout",
     "output_type": "stream",
     "text": [
      "80921\n",
      "Epoch 02288 | Loss 0.0276 | train_RMSE 0.1394 | test_RMSE 0.1363 \n",
      "19929\n",
      "80921\n",
      "Epoch 02289 | Loss 0.0278 | train_RMSE 0.1377 | test_RMSE 0.1349 \n",
      "19929\n",
      "80921\n",
      "Epoch 02290 | Loss 0.0277 | train_RMSE 0.1384 | test_RMSE 0.1353 \n"
     ]
    },
    {
     "name": "stderr",
     "output_type": "stream",
     "text": [
      "\r",
      " 76%|█████████████████████████████▊         | 2293/3000 [03:32<01:05, 10.82it/s]"
     ]
    },
    {
     "name": "stdout",
     "output_type": "stream",
     "text": [
      "19929\n",
      "80921\n",
      "Epoch 02291 | Loss 0.0275 | train_RMSE 0.1380 | test_RMSE 0.1352 \n",
      "19929\n",
      "80921\n",
      "Epoch 02292 | Loss 0.0272 | train_RMSE 0.1379 | test_RMSE 0.1349 \n",
      "19929\n"
     ]
    },
    {
     "name": "stderr",
     "output_type": "stream",
     "text": [
      "\r",
      " 76%|█████████████████████████████▊         | 2295/3000 [03:32<01:05, 10.80it/s]"
     ]
    },
    {
     "name": "stdout",
     "output_type": "stream",
     "text": [
      "80921\n",
      "Epoch 02293 | Loss 0.0271 | train_RMSE 0.1369 | test_RMSE 0.1340 \n",
      "19929\n",
      "80921\n",
      "Epoch 02294 | Loss 0.0275 | train_RMSE 0.1377 | test_RMSE 0.1349 \n",
      "19929\n",
      "80921\n",
      "Epoch 02295 | Loss 0.0275 | train_RMSE 0.1400 | test_RMSE 0.1369 \n"
     ]
    },
    {
     "name": "stderr",
     "output_type": "stream",
     "text": [
      "\r",
      " 77%|█████████████████████████████▊         | 2297/3000 [03:32<01:05, 10.80it/s]"
     ]
    },
    {
     "name": "stdout",
     "output_type": "stream",
     "text": [
      "19929\n",
      "80921\n",
      "Epoch 02296 | Loss 0.0278 | train_RMSE 0.1395 | test_RMSE 0.1369 \n",
      "19929\n",
      "80921\n",
      "Epoch 02297 | Loss 0.0279 | train_RMSE 0.1415 | test_RMSE 0.1383 \n",
      "19929\n"
     ]
    },
    {
     "name": "stderr",
     "output_type": "stream",
     "text": [
      " 77%|█████████████████████████████▉         | 2301/3000 [03:33<01:04, 10.78it/s]"
     ]
    },
    {
     "name": "stdout",
     "output_type": "stream",
     "text": [
      "80921\n",
      "Epoch 02298 | Loss 0.0284 | train_RMSE 0.1423 | test_RMSE 0.1397 \n",
      "19929\n",
      "80921\n",
      "Epoch 02299 | Loss 0.0286 | train_RMSE 0.1428 | test_RMSE 0.1395 \n",
      "19929\n",
      "80921\n",
      "Epoch 02300 | Loss 0.0283 | train_RMSE 0.1391 | test_RMSE 0.1366 \n"
     ]
    },
    {
     "name": "stderr",
     "output_type": "stream",
     "text": [
      "\r",
      " 77%|█████████████████████████████▉         | 2303/3000 [03:33<01:04, 10.77it/s]"
     ]
    },
    {
     "name": "stdout",
     "output_type": "stream",
     "text": [
      "19929\n",
      "80921\n",
      "Epoch 02301 | Loss 0.0284 | train_RMSE 0.1388 | test_RMSE 0.1358 \n",
      "19929\n",
      "80921\n",
      "Epoch 02302 | Loss 0.0278 | train_RMSE 0.1387 | test_RMSE 0.1357 \n",
      "19929\n"
     ]
    },
    {
     "name": "stderr",
     "output_type": "stream",
     "text": [
      "\r",
      " 77%|█████████████████████████████▉         | 2305/3000 [03:33<01:04, 10.74it/s]"
     ]
    },
    {
     "name": "stdout",
     "output_type": "stream",
     "text": [
      "80921\n",
      "Epoch 02303 | Loss 0.0275 | train_RMSE 0.1384 | test_RMSE 0.1354 \n",
      "19929\n",
      "80921\n",
      "Epoch 02304 | Loss 0.0275 | train_RMSE 0.1380 | test_RMSE 0.1350 \n",
      "19929\n",
      "80921\n",
      "Epoch 02305 | Loss 0.0278 | train_RMSE 0.1390 | test_RMSE 0.1363 \n"
     ]
    },
    {
     "name": "stderr",
     "output_type": "stream",
     "text": [
      "\r",
      " 77%|█████████████████████████████▉         | 2307/3000 [03:33<01:04, 10.76it/s]"
     ]
    },
    {
     "name": "stdout",
     "output_type": "stream",
     "text": [
      "19929\n",
      "80921\n",
      "Epoch 02306 | Loss 0.0281 | train_RMSE 0.1423 | test_RMSE 0.1391 \n",
      "19929\n",
      "80921\n",
      "Epoch 02307 | Loss 0.0283 | train_RMSE 0.1396 | test_RMSE 0.1371 \n",
      "19929\n"
     ]
    },
    {
     "name": "stderr",
     "output_type": "stream",
     "text": [
      " 77%|██████████████████████████████         | 2311/3000 [03:34<01:03, 10.77it/s]"
     ]
    },
    {
     "name": "stdout",
     "output_type": "stream",
     "text": [
      "80921\n",
      "Epoch 02308 | Loss 0.0281 | train_RMSE 0.1403 | test_RMSE 0.1371 \n",
      "19929\n",
      "80921\n",
      "Epoch 02309 | Loss 0.0282 | train_RMSE 0.1389 | test_RMSE 0.1363 \n",
      "19929\n",
      "80921\n",
      "Epoch 02310 | Loss 0.0276 | train_RMSE 0.1383 | test_RMSE 0.1353 \n"
     ]
    },
    {
     "name": "stderr",
     "output_type": "stream",
     "text": [
      "\r",
      " 77%|██████████████████████████████         | 2313/3000 [03:34<01:03, 10.75it/s]"
     ]
    },
    {
     "name": "stdout",
     "output_type": "stream",
     "text": [
      "19929\n",
      "80921\n",
      "Epoch 02311 | Loss 0.0274 | train_RMSE 0.1371 | test_RMSE 0.1342 \n",
      "19929\n",
      "80921\n",
      "Epoch 02312 | Loss 0.0276 | train_RMSE 0.1376 | test_RMSE 0.1348 \n",
      "19929\n"
     ]
    },
    {
     "name": "stderr",
     "output_type": "stream",
     "text": [
      "\r",
      " 77%|██████████████████████████████         | 2315/3000 [03:34<01:03, 10.78it/s]"
     ]
    },
    {
     "name": "stdout",
     "output_type": "stream",
     "text": [
      "80921\n",
      "Epoch 02313 | Loss 0.0274 | train_RMSE 0.1396 | test_RMSE 0.1365 \n",
      "19929\n",
      "80921\n",
      "Epoch 02314 | Loss 0.0275 | train_RMSE 0.1375 | test_RMSE 0.1347 \n",
      "19929\n",
      "80921\n",
      "Epoch 02315 | Loss 0.0275 | train_RMSE 0.1377 | test_RMSE 0.1347 \n"
     ]
    },
    {
     "name": "stderr",
     "output_type": "stream",
     "text": [
      "\r",
      " 77%|██████████████████████████████         | 2317/3000 [03:34<01:03, 10.75it/s]"
     ]
    },
    {
     "name": "stdout",
     "output_type": "stream",
     "text": [
      "19929\n",
      "80921\n",
      "Epoch 02316 | Loss 0.0274 | train_RMSE 0.1380 | test_RMSE 0.1350 \n",
      "19929\n",
      "80921\n",
      "Epoch 02317 | Loss 0.0273 | train_RMSE 0.1386 | test_RMSE 0.1356 \n",
      "19929\n"
     ]
    },
    {
     "name": "stderr",
     "output_type": "stream",
     "text": [
      " 77%|██████████████████████████████▏        | 2321/3000 [03:34<01:02, 10.78it/s]"
     ]
    },
    {
     "name": "stdout",
     "output_type": "stream",
     "text": [
      "80921\n",
      "Epoch 02318 | Loss 0.0272 | train_RMSE 0.1371 | test_RMSE 0.1341 \n",
      "19929\n",
      "80921\n",
      "Epoch 02319 | Loss 0.0275 | train_RMSE 0.1372 | test_RMSE 0.1344 \n",
      "19929\n",
      "80921\n",
      "Epoch 02320 | Loss 0.0273 | train_RMSE 0.1397 | test_RMSE 0.1367 \n"
     ]
    },
    {
     "name": "stderr",
     "output_type": "stream",
     "text": [
      "\r",
      " 77%|██████████████████████████████▏        | 2323/3000 [03:35<01:02, 10.79it/s]"
     ]
    },
    {
     "name": "stdout",
     "output_type": "stream",
     "text": [
      "19929\n",
      "80921\n",
      "Epoch 02321 | Loss 0.0276 | train_RMSE 0.1380 | test_RMSE 0.1353 \n",
      "19929\n",
      "80921\n",
      "Epoch 02322 | Loss 0.0273 | train_RMSE 0.1377 | test_RMSE 0.1347 \n",
      "19929\n"
     ]
    },
    {
     "name": "stderr",
     "output_type": "stream",
     "text": [
      "\r",
      " 78%|██████████████████████████████▏        | 2325/3000 [03:35<01:02, 10.80it/s]"
     ]
    },
    {
     "name": "stdout",
     "output_type": "stream",
     "text": [
      "80921\n",
      "Epoch 02323 | Loss 0.0278 | train_RMSE 0.1383 | test_RMSE 0.1354 \n",
      "19929\n",
      "80921\n",
      "Epoch 02324 | Loss 0.0273 | train_RMSE 0.1398 | test_RMSE 0.1367 \n",
      "19929\n",
      "80921\n",
      "Epoch 02325 | Loss 0.0275 | train_RMSE 0.1374 | test_RMSE 0.1347 \n"
     ]
    },
    {
     "name": "stderr",
     "output_type": "stream",
     "text": [
      "\r",
      " 78%|██████████████████████████████▎        | 2327/3000 [03:35<01:02, 10.77it/s]"
     ]
    },
    {
     "name": "stdout",
     "output_type": "stream",
     "text": [
      "19929\n",
      "80921\n",
      "Epoch 02326 | Loss 0.0274 | train_RMSE 0.1375 | test_RMSE 0.1345 \n",
      "19929\n",
      "80921\n",
      "Epoch 02327 | Loss 0.0274 | train_RMSE 0.1383 | test_RMSE 0.1353 \n",
      "19929\n"
     ]
    },
    {
     "name": "stderr",
     "output_type": "stream",
     "text": [
      " 78%|██████████████████████████████▎        | 2331/3000 [03:35<01:01, 10.79it/s]"
     ]
    },
    {
     "name": "stdout",
     "output_type": "stream",
     "text": [
      "80921\n",
      "Epoch 02328 | Loss 0.0275 | train_RMSE 0.1378 | test_RMSE 0.1348 \n",
      "19929\n",
      "80921\n",
      "Epoch 02329 | Loss 0.0273 | train_RMSE 0.1369 | test_RMSE 0.1341 \n",
      "19929\n",
      "80921\n",
      "Epoch 02330 | Loss 0.0272 | train_RMSE 0.1377 | test_RMSE 0.1349 \n"
     ]
    },
    {
     "name": "stderr",
     "output_type": "stream",
     "text": [
      "\r",
      " 78%|██████████████████████████████▎        | 2333/3000 [03:36<01:01, 10.80it/s]"
     ]
    },
    {
     "name": "stdout",
     "output_type": "stream",
     "text": [
      "19929\n",
      "80921\n",
      "Epoch 02331 | Loss 0.0273 | train_RMSE 0.1392 | test_RMSE 0.1362 \n",
      "19929\n",
      "80921\n",
      "Epoch 02332 | Loss 0.0274 | train_RMSE 0.1372 | test_RMSE 0.1344 \n",
      "19929\n"
     ]
    },
    {
     "name": "stderr",
     "output_type": "stream",
     "text": [
      "\r",
      " 78%|██████████████████████████████▎        | 2335/3000 [03:36<01:01, 10.80it/s]"
     ]
    },
    {
     "name": "stdout",
     "output_type": "stream",
     "text": [
      "80921\n",
      "Epoch 02333 | Loss 0.0276 | train_RMSE 0.1377 | test_RMSE 0.1347 \n",
      "19929\n",
      "80921\n",
      "Epoch 02334 | Loss 0.0278 | train_RMSE 0.1392 | test_RMSE 0.1363 \n",
      "19929\n",
      "80921\n",
      "Epoch 02335 | Loss 0.0279 | train_RMSE 0.1382 | test_RMSE 0.1351 \n"
     ]
    },
    {
     "name": "stderr",
     "output_type": "stream",
     "text": [
      "\r",
      " 78%|██████████████████████████████▍        | 2337/3000 [03:36<01:01, 10.80it/s]"
     ]
    },
    {
     "name": "stdout",
     "output_type": "stream",
     "text": [
      "19929\n",
      "80921\n",
      "Epoch 02336 | Loss 0.0276 | train_RMSE 0.1370 | test_RMSE 0.1343 \n",
      "19929\n",
      "80921\n",
      "Epoch 02337 | Loss 0.0277 | train_RMSE 0.1379 | test_RMSE 0.1350 \n",
      "19929\n"
     ]
    },
    {
     "name": "stderr",
     "output_type": "stream",
     "text": [
      " 78%|██████████████████████████████▍        | 2341/3000 [03:36<01:01, 10.80it/s]"
     ]
    },
    {
     "name": "stdout",
     "output_type": "stream",
     "text": [
      "80921\n",
      "Epoch 02338 | Loss 0.0275 | train_RMSE 0.1392 | test_RMSE 0.1362 \n",
      "19929\n",
      "80921\n",
      "Epoch 02339 | Loss 0.0275 | train_RMSE 0.1370 | test_RMSE 0.1341 \n",
      "19929\n",
      "80921\n",
      "Epoch 02340 | Loss 0.0275 | train_RMSE 0.1368 | test_RMSE 0.1339 \n"
     ]
    },
    {
     "name": "stderr",
     "output_type": "stream",
     "text": [
      "\r",
      " 78%|██████████████████████████████▍        | 2343/3000 [03:37<01:00, 10.80it/s]"
     ]
    },
    {
     "name": "stdout",
     "output_type": "stream",
     "text": [
      "19929\n",
      "80921\n",
      "Epoch 02341 | Loss 0.0275 | train_RMSE 0.1386 | test_RMSE 0.1357 \n",
      "19929\n",
      "80921\n",
      "Epoch 02342 | Loss 0.0272 | train_RMSE 0.1386 | test_RMSE 0.1356 \n",
      "19929\n"
     ]
    },
    {
     "name": "stderr",
     "output_type": "stream",
     "text": [
      "\r",
      " 78%|██████████████████████████████▍        | 2345/3000 [03:37<01:00, 10.79it/s]"
     ]
    },
    {
     "name": "stdout",
     "output_type": "stream",
     "text": [
      "80921\n",
      "Epoch 02343 | Loss 0.0275 | train_RMSE 0.1369 | test_RMSE 0.1340 \n",
      "19929\n",
      "80921\n",
      "Epoch 02344 | Loss 0.0273 | train_RMSE 0.1370 | test_RMSE 0.1342 \n",
      "19929\n",
      "80921\n",
      "Epoch 02345 | Loss 0.0274 | train_RMSE 0.1397 | test_RMSE 0.1367 \n"
     ]
    },
    {
     "name": "stderr",
     "output_type": "stream",
     "text": [
      "\r",
      " 78%|██████████████████████████████▌        | 2347/3000 [03:37<01:00, 10.81it/s]"
     ]
    },
    {
     "name": "stdout",
     "output_type": "stream",
     "text": [
      "19929\n",
      "80921\n",
      "Epoch 02346 | Loss 0.0276 | train_RMSE 0.1379 | test_RMSE 0.1350 \n",
      "19929\n",
      "80921\n",
      "Epoch 02347 | Loss 0.0273 | train_RMSE 0.1375 | test_RMSE 0.1346 \n",
      "19929\n"
     ]
    },
    {
     "name": "stderr",
     "output_type": "stream",
     "text": [
      " 78%|██████████████████████████████▌        | 2351/3000 [03:37<01:00, 10.81it/s]"
     ]
    },
    {
     "name": "stdout",
     "output_type": "stream",
     "text": [
      "80921\n",
      "Epoch 02348 | Loss 0.0275 | train_RMSE 0.1385 | test_RMSE 0.1357 \n",
      "19929\n",
      "80921\n",
      "Epoch 02349 | Loss 0.0275 | train_RMSE 0.1411 | test_RMSE 0.1379 \n",
      "19929\n",
      "80921\n",
      "Epoch 02350 | Loss 0.0278 | train_RMSE 0.1380 | test_RMSE 0.1354 \n"
     ]
    },
    {
     "name": "stderr",
     "output_type": "stream",
     "text": [
      "\r",
      " 78%|██████████████████████████████▌        | 2353/3000 [03:37<00:59, 10.82it/s]"
     ]
    },
    {
     "name": "stdout",
     "output_type": "stream",
     "text": [
      "19929\n",
      "80921\n",
      "Epoch 02351 | Loss 0.0277 | train_RMSE 0.1395 | test_RMSE 0.1364 \n",
      "19929\n",
      "80921\n",
      "Epoch 02352 | Loss 0.0284 | train_RMSE 0.1416 | test_RMSE 0.1389 \n",
      "19929\n"
     ]
    },
    {
     "name": "stderr",
     "output_type": "stream",
     "text": [
      "\r",
      " 78%|██████████████████████████████▌        | 2355/3000 [03:38<00:59, 10.81it/s]"
     ]
    },
    {
     "name": "stdout",
     "output_type": "stream",
     "text": [
      "80921\n",
      "Epoch 02353 | Loss 0.0287 | train_RMSE 0.1429 | test_RMSE 0.1396 \n",
      "19929\n",
      "80921\n",
      "Epoch 02354 | Loss 0.0284 | train_RMSE 0.1400 | test_RMSE 0.1376 \n",
      "19929\n",
      "80921\n",
      "Epoch 02355 | Loss 0.0288 | train_RMSE 0.1415 | test_RMSE 0.1383 \n"
     ]
    },
    {
     "name": "stderr",
     "output_type": "stream",
     "text": [
      "\r",
      " 79%|██████████████████████████████▋        | 2357/3000 [03:38<00:59, 10.81it/s]"
     ]
    },
    {
     "name": "stdout",
     "output_type": "stream",
     "text": [
      "19929\n",
      "80921\n",
      "Epoch 02356 | Loss 0.0283 | train_RMSE 0.1416 | test_RMSE 0.1389 \n",
      "19929\n",
      "80921\n",
      "Epoch 02357 | Loss 0.0284 | train_RMSE 0.1391 | test_RMSE 0.1360 \n",
      "19929\n"
     ]
    },
    {
     "name": "stderr",
     "output_type": "stream",
     "text": [
      " 79%|██████████████████████████████▋        | 2361/3000 [03:38<00:59, 10.81it/s]"
     ]
    },
    {
     "name": "stdout",
     "output_type": "stream",
     "text": [
      "80921\n",
      "Epoch 02358 | Loss 0.0279 | train_RMSE 0.1371 | test_RMSE 0.1343 \n",
      "19929\n",
      "80921\n",
      "Epoch 02359 | Loss 0.0277 | train_RMSE 0.1378 | test_RMSE 0.1350 \n",
      "19929\n",
      "80921\n",
      "Epoch 02360 | Loss 0.0274 | train_RMSE 0.1411 | test_RMSE 0.1380 \n"
     ]
    },
    {
     "name": "stderr",
     "output_type": "stream",
     "text": [
      "\r",
      " 79%|██████████████████████████████▋        | 2363/3000 [03:38<00:58, 10.80it/s]"
     ]
    },
    {
     "name": "stdout",
     "output_type": "stream",
     "text": [
      "19929\n",
      "80921\n",
      "Epoch 02361 | Loss 0.0280 | train_RMSE 0.1383 | test_RMSE 0.1357 \n",
      "19929\n",
      "80921\n",
      "Epoch 02362 | Loss 0.0276 | train_RMSE 0.1394 | test_RMSE 0.1363 \n",
      "19929\n"
     ]
    },
    {
     "name": "stderr",
     "output_type": "stream",
     "text": [
      "\r",
      " 79%|██████████████████████████████▋        | 2365/3000 [03:39<00:58, 10.81it/s]"
     ]
    },
    {
     "name": "stdout",
     "output_type": "stream",
     "text": [
      "80921\n",
      "Epoch 02363 | Loss 0.0282 | train_RMSE 0.1411 | test_RMSE 0.1384 \n",
      "19929\n",
      "80921\n",
      "Epoch 02364 | Loss 0.0284 | train_RMSE 0.1425 | test_RMSE 0.1392 \n",
      "19929\n",
      "80921\n",
      "Epoch 02365 | Loss 0.0284 | train_RMSE 0.1390 | test_RMSE 0.1364 \n"
     ]
    },
    {
     "name": "stderr",
     "output_type": "stream",
     "text": [
      "\r",
      " 79%|██████████████████████████████▊        | 2367/3000 [03:39<00:58, 10.80it/s]"
     ]
    },
    {
     "name": "stdout",
     "output_type": "stream",
     "text": [
      "19929\n",
      "80921\n",
      "Epoch 02366 | Loss 0.0283 | train_RMSE 0.1392 | test_RMSE 0.1362 \n",
      "19929\n",
      "80921\n",
      "Epoch 02367 | Loss 0.0279 | train_RMSE 0.1399 | test_RMSE 0.1371 \n",
      "19929\n"
     ]
    },
    {
     "name": "stderr",
     "output_type": "stream",
     "text": [
      " 79%|██████████████████████████████▊        | 2371/3000 [03:39<00:58, 10.81it/s]"
     ]
    },
    {
     "name": "stdout",
     "output_type": "stream",
     "text": [
      "80921\n",
      "Epoch 02368 | Loss 0.0278 | train_RMSE 0.1386 | test_RMSE 0.1355 \n",
      "19929\n",
      "80921\n",
      "Epoch 02369 | Loss 0.0273 | train_RMSE 0.1373 | test_RMSE 0.1344 \n",
      "19929\n",
      "80921\n",
      "Epoch 02370 | Loss 0.0279 | train_RMSE 0.1375 | test_RMSE 0.1348 \n"
     ]
    },
    {
     "name": "stderr",
     "output_type": "stream",
     "text": [
      "\r",
      " 79%|██████████████████████████████▊        | 2373/3000 [03:39<00:58, 10.81it/s]"
     ]
    },
    {
     "name": "stdout",
     "output_type": "stream",
     "text": [
      "19929\n",
      "80921\n",
      "Epoch 02371 | Loss 0.0273 | train_RMSE 0.1410 | test_RMSE 0.1380 \n",
      "19929\n",
      "80921\n",
      "Epoch 02372 | Loss 0.0279 | train_RMSE 0.1390 | test_RMSE 0.1364 \n",
      "19929\n"
     ]
    },
    {
     "name": "stderr",
     "output_type": "stream",
     "text": [
      "\r",
      " 79%|██████████████████████████████▉        | 2375/3000 [03:39<00:57, 10.78it/s]"
     ]
    },
    {
     "name": "stdout",
     "output_type": "stream",
     "text": [
      "80921\n",
      "Epoch 02373 | Loss 0.0279 | train_RMSE 0.1399 | test_RMSE 0.1367 \n",
      "19929\n",
      "80921\n",
      "Epoch 02374 | Loss 0.0279 | train_RMSE 0.1384 | test_RMSE 0.1357 \n",
      "19929\n",
      "80921\n",
      "Epoch 02375 | Loss 0.0278 | train_RMSE 0.1395 | test_RMSE 0.1364 \n"
     ]
    },
    {
     "name": "stderr",
     "output_type": "stream",
     "text": [
      "\r",
      " 79%|██████████████████████████████▉        | 2377/3000 [03:40<00:57, 10.79it/s]"
     ]
    },
    {
     "name": "stdout",
     "output_type": "stream",
     "text": [
      "19929\n",
      "80921\n",
      "Epoch 02376 | Loss 0.0278 | train_RMSE 0.1371 | test_RMSE 0.1343 \n",
      "19929\n",
      "80921\n",
      "Epoch 02377 | Loss 0.0272 | train_RMSE 0.1369 | test_RMSE 0.1340 \n",
      "19929\n"
     ]
    },
    {
     "name": "stderr",
     "output_type": "stream",
     "text": [
      " 79%|██████████████████████████████▉        | 2381/3000 [03:40<00:57, 10.79it/s]"
     ]
    },
    {
     "name": "stdout",
     "output_type": "stream",
     "text": [
      "80921\n",
      "Epoch 02378 | Loss 0.0273 | train_RMSE 0.1383 | test_RMSE 0.1352 \n",
      "19929\n",
      "80921\n",
      "Epoch 02379 | Loss 0.0275 | train_RMSE 0.1389 | test_RMSE 0.1361 \n",
      "19929\n",
      "80921\n",
      "Epoch 02380 | Loss 0.0275 | train_RMSE 0.1392 | test_RMSE 0.1361 \n"
     ]
    },
    {
     "name": "stderr",
     "output_type": "stream",
     "text": [
      "\r",
      " 79%|██████████████████████████████▉        | 2383/3000 [03:40<00:57, 10.80it/s]"
     ]
    },
    {
     "name": "stdout",
     "output_type": "stream",
     "text": [
      "19929\n",
      "80921\n",
      "Epoch 02381 | Loss 0.0277 | train_RMSE 0.1380 | test_RMSE 0.1355 \n",
      "19929\n",
      "80921\n",
      "Epoch 02382 | Loss 0.0277 | train_RMSE 0.1397 | test_RMSE 0.1366 \n",
      "19929\n"
     ]
    },
    {
     "name": "stderr",
     "output_type": "stream",
     "text": [
      "\r",
      " 80%|███████████████████████████████        | 2385/3000 [03:40<00:57, 10.78it/s]"
     ]
    },
    {
     "name": "stdout",
     "output_type": "stream",
     "text": [
      "80921\n",
      "Epoch 02383 | Loss 0.0279 | train_RMSE 0.1393 | test_RMSE 0.1364 \n",
      "19929\n",
      "80921\n",
      "Epoch 02384 | Loss 0.0275 | train_RMSE 0.1377 | test_RMSE 0.1347 \n",
      "19929\n",
      "80921\n",
      "Epoch 02385 | Loss 0.0274 | train_RMSE 0.1370 | test_RMSE 0.1341 \n"
     ]
    },
    {
     "name": "stderr",
     "output_type": "stream",
     "text": [
      "\r",
      " 80%|███████████████████████████████        | 2387/3000 [03:41<00:56, 10.79it/s]"
     ]
    },
    {
     "name": "stdout",
     "output_type": "stream",
     "text": [
      "19929\n",
      "80921\n",
      "Epoch 02386 | Loss 0.0276 | train_RMSE 0.1384 | test_RMSE 0.1357 \n",
      "19929\n",
      "80921\n",
      "Epoch 02387 | Loss 0.0276 | train_RMSE 0.1408 | test_RMSE 0.1376 \n",
      "19929\n"
     ]
    },
    {
     "name": "stderr",
     "output_type": "stream",
     "text": [
      " 80%|███████████████████████████████        | 2391/3000 [03:41<00:56, 10.80it/s]"
     ]
    },
    {
     "name": "stdout",
     "output_type": "stream",
     "text": [
      "80921\n",
      "Epoch 02388 | Loss 0.0281 | train_RMSE 0.1385 | test_RMSE 0.1359 \n",
      "19929\n",
      "80921\n",
      "Epoch 02389 | Loss 0.0283 | train_RMSE 0.1394 | test_RMSE 0.1363 \n",
      "19929\n",
      "80921\n",
      "Epoch 02390 | Loss 0.0279 | train_RMSE 0.1396 | test_RMSE 0.1368 \n"
     ]
    },
    {
     "name": "stderr",
     "output_type": "stream",
     "text": [
      "\r",
      " 80%|███████████████████████████████        | 2393/3000 [03:41<00:56, 10.81it/s]"
     ]
    },
    {
     "name": "stdout",
     "output_type": "stream",
     "text": [
      "19929\n",
      "80921\n",
      "Epoch 02391 | Loss 0.0279 | train_RMSE 0.1387 | test_RMSE 0.1357 \n",
      "19929\n",
      "80921\n",
      "Epoch 02392 | Loss 0.0276 | train_RMSE 0.1372 | test_RMSE 0.1343 \n",
      "19929\n"
     ]
    },
    {
     "name": "stderr",
     "output_type": "stream",
     "text": [
      "\r",
      " 80%|███████████████████████████████▏       | 2395/3000 [03:41<00:56, 10.80it/s]"
     ]
    },
    {
     "name": "stdout",
     "output_type": "stream",
     "text": [
      "80921\n",
      "Epoch 02393 | Loss 0.0275 | train_RMSE 0.1375 | test_RMSE 0.1349 \n",
      "19929\n",
      "80921\n",
      "Epoch 02394 | Loss 0.0277 | train_RMSE 0.1425 | test_RMSE 0.1393 \n",
      "19929\n",
      "80921\n",
      "Epoch 02395 | Loss 0.0281 | train_RMSE 0.1384 | test_RMSE 0.1357 \n"
     ]
    },
    {
     "name": "stderr",
     "output_type": "stream",
     "text": [
      "\r",
      " 80%|███████████████████████████████▏       | 2397/3000 [03:42<00:55, 10.78it/s]"
     ]
    },
    {
     "name": "stdout",
     "output_type": "stream",
     "text": [
      "19929\n",
      "80921\n",
      "Epoch 02396 | Loss 0.0277 | train_RMSE 0.1388 | test_RMSE 0.1356 \n",
      "19929\n",
      "80921\n",
      "Epoch 02397 | Loss 0.0280 | train_RMSE 0.1384 | test_RMSE 0.1357 \n",
      "19929\n"
     ]
    },
    {
     "name": "stderr",
     "output_type": "stream",
     "text": [
      " 80%|███████████████████████████████▏       | 2401/3000 [03:42<00:55, 10.79it/s]"
     ]
    },
    {
     "name": "stdout",
     "output_type": "stream",
     "text": [
      "80921\n",
      "Epoch 02398 | Loss 0.0272 | train_RMSE 0.1409 | test_RMSE 0.1378 \n",
      "19929\n",
      "80921\n",
      "Epoch 02399 | Loss 0.0278 | train_RMSE 0.1371 | test_RMSE 0.1343 \n",
      "19929\n",
      "80921\n",
      "Epoch 02400 | Loss 0.0274 | train_RMSE 0.1369 | test_RMSE 0.1340 \n"
     ]
    },
    {
     "name": "stderr",
     "output_type": "stream",
     "text": [
      "\r",
      " 80%|███████████████████████████████▏       | 2403/3000 [03:42<00:55, 10.79it/s]"
     ]
    },
    {
     "name": "stdout",
     "output_type": "stream",
     "text": [
      "19929\n",
      "80921\n",
      "Epoch 02401 | Loss 0.0277 | train_RMSE 0.1386 | test_RMSE 0.1355 \n",
      "19929\n",
      "80921\n",
      "Epoch 02402 | Loss 0.0275 | train_RMSE 0.1397 | test_RMSE 0.1368 \n",
      "19929\n"
     ]
    },
    {
     "name": "stderr",
     "output_type": "stream",
     "text": [
      "\r",
      " 80%|███████████████████████████████▎       | 2405/3000 [03:42<00:55, 10.79it/s]"
     ]
    },
    {
     "name": "stdout",
     "output_type": "stream",
     "text": [
      "80921\n",
      "Epoch 02403 | Loss 0.0277 | train_RMSE 0.1377 | test_RMSE 0.1347 \n",
      "19929\n",
      "80921\n",
      "Epoch 02404 | Loss 0.0273 | train_RMSE 0.1370 | test_RMSE 0.1344 \n",
      "19929\n",
      "80921\n",
      "Epoch 02405 | Loss 0.0277 | train_RMSE 0.1388 | test_RMSE 0.1357 \n"
     ]
    },
    {
     "name": "stderr",
     "output_type": "stream",
     "text": [
      "\r",
      " 80%|███████████████████████████████▎       | 2407/3000 [03:42<00:54, 10.80it/s]"
     ]
    },
    {
     "name": "stdout",
     "output_type": "stream",
     "text": [
      "19929\n",
      "80921\n",
      "Epoch 02406 | Loss 0.0274 | train_RMSE 0.1390 | test_RMSE 0.1361 \n",
      "19929\n",
      "80921\n",
      "Epoch 02407 | Loss 0.0276 | train_RMSE 0.1373 | test_RMSE 0.1343 \n",
      "19929\n"
     ]
    },
    {
     "name": "stderr",
     "output_type": "stream",
     "text": [
      " 80%|███████████████████████████████▎       | 2411/3000 [03:43<00:54, 10.78it/s]"
     ]
    },
    {
     "name": "stdout",
     "output_type": "stream",
     "text": [
      "80921\n",
      "Epoch 02408 | Loss 0.0271 | train_RMSE 0.1368 | test_RMSE 0.1339 \n",
      "19929\n",
      "80921\n",
      "Epoch 02409 | Loss 0.0274 | train_RMSE 0.1381 | test_RMSE 0.1353 \n",
      "19929\n",
      "80921\n",
      "Epoch 02410 | Loss 0.0278 | train_RMSE 0.1397 | test_RMSE 0.1366 \n"
     ]
    },
    {
     "name": "stderr",
     "output_type": "stream",
     "text": [
      "\r",
      " 80%|███████████████████████████████▎       | 2413/3000 [03:43<00:54, 10.80it/s]"
     ]
    },
    {
     "name": "stdout",
     "output_type": "stream",
     "text": [
      "19929\n",
      "80921\n",
      "Epoch 02411 | Loss 0.0276 | train_RMSE 0.1371 | test_RMSE 0.1344 \n",
      "19929\n",
      "80921\n",
      "Epoch 02412 | Loss 0.0275 | train_RMSE 0.1375 | test_RMSE 0.1345 \n",
      "19929\n"
     ]
    },
    {
     "name": "stderr",
     "output_type": "stream",
     "text": [
      "\r",
      " 80%|███████████████████████████████▍       | 2415/3000 [03:43<00:54, 10.80it/s]"
     ]
    },
    {
     "name": "stdout",
     "output_type": "stream",
     "text": [
      "80921\n",
      "Epoch 02413 | Loss 0.0274 | train_RMSE 0.1384 | test_RMSE 0.1356 \n",
      "19929\n",
      "80921\n",
      "Epoch 02414 | Loss 0.0277 | train_RMSE 0.1388 | test_RMSE 0.1358 \n",
      "19929\n",
      "80921\n",
      "Epoch 02415 | Loss 0.0274 | train_RMSE 0.1374 | test_RMSE 0.1347 \n"
     ]
    },
    {
     "name": "stderr",
     "output_type": "stream",
     "text": [
      "\r",
      " 81%|███████████████████████████████▍       | 2417/3000 [03:43<00:53, 10.80it/s]"
     ]
    },
    {
     "name": "stdout",
     "output_type": "stream",
     "text": [
      "19929\n",
      "80921\n",
      "Epoch 02416 | Loss 0.0279 | train_RMSE 0.1382 | test_RMSE 0.1352 \n",
      "19929\n",
      "80921\n",
      "Epoch 02417 | Loss 0.0271 | train_RMSE 0.1389 | test_RMSE 0.1361 \n",
      "19929\n"
     ]
    },
    {
     "name": "stderr",
     "output_type": "stream",
     "text": [
      " 81%|███████████████████████████████▍       | 2421/3000 [03:44<00:53, 10.81it/s]"
     ]
    },
    {
     "name": "stdout",
     "output_type": "stream",
     "text": [
      "80921\n",
      "Epoch 02418 | Loss 0.0277 | train_RMSE 0.1388 | test_RMSE 0.1357 \n",
      "19929\n",
      "80921\n",
      "Epoch 02419 | Loss 0.0274 | train_RMSE 0.1375 | test_RMSE 0.1348 \n",
      "19929\n",
      "80921\n",
      "Epoch 02420 | Loss 0.0281 | train_RMSE 0.1387 | test_RMSE 0.1357 \n"
     ]
    },
    {
     "name": "stderr",
     "output_type": "stream",
     "text": [
      "\r",
      " 81%|███████████████████████████████▍       | 2423/3000 [03:44<00:53, 10.82it/s]"
     ]
    },
    {
     "name": "stdout",
     "output_type": "stream",
     "text": [
      "19929\n",
      "80921\n",
      "Epoch 02421 | Loss 0.0281 | train_RMSE 0.1380 | test_RMSE 0.1353 \n",
      "19929\n",
      "80921\n",
      "Epoch 02422 | Loss 0.0275 | train_RMSE 0.1384 | test_RMSE 0.1353 \n",
      "19929\n"
     ]
    },
    {
     "name": "stderr",
     "output_type": "stream",
     "text": [
      "\r",
      " 81%|███████████████████████████████▌       | 2425/3000 [03:44<00:53, 10.78it/s]"
     ]
    },
    {
     "name": "stdout",
     "output_type": "stream",
     "text": [
      "80921\n",
      "Epoch 02423 | Loss 0.0270 | train_RMSE 0.1369 | test_RMSE 0.1342 \n",
      "19929\n",
      "80921\n",
      "Epoch 02424 | Loss 0.0275 | train_RMSE 0.1377 | test_RMSE 0.1349 \n",
      "19929\n",
      "80921\n",
      "Epoch 02425 | Loss 0.0273 | train_RMSE 0.1386 | test_RMSE 0.1357 \n"
     ]
    },
    {
     "name": "stderr",
     "output_type": "stream",
     "text": [
      "\r",
      " 81%|███████████████████████████████▌       | 2427/3000 [03:44<00:53, 10.78it/s]"
     ]
    },
    {
     "name": "stdout",
     "output_type": "stream",
     "text": [
      "19929\n",
      "80921\n",
      "Epoch 02426 | Loss 0.0273 | train_RMSE 0.1373 | test_RMSE 0.1344 \n",
      "19929\n",
      "80921\n",
      "Epoch 02427 | Loss 0.0272 | train_RMSE 0.1373 | test_RMSE 0.1343 \n",
      "19929\n"
     ]
    },
    {
     "name": "stderr",
     "output_type": "stream",
     "text": [
      " 81%|███████████████████████████████▌       | 2431/3000 [03:45<00:52, 10.81it/s]"
     ]
    },
    {
     "name": "stdout",
     "output_type": "stream",
     "text": [
      "80921\n",
      "Epoch 02428 | Loss 0.0271 | train_RMSE 0.1381 | test_RMSE 0.1352 \n",
      "19929\n",
      "80921\n",
      "Epoch 02429 | Loss 0.0276 | train_RMSE 0.1381 | test_RMSE 0.1350 \n",
      "19929\n",
      "80921\n",
      "Epoch 02430 | Loss 0.0273 | train_RMSE 0.1375 | test_RMSE 0.1347 \n"
     ]
    },
    {
     "name": "stderr",
     "output_type": "stream",
     "text": [
      "\r",
      " 81%|███████████████████████████████▋       | 2433/3000 [03:45<00:52, 10.80it/s]"
     ]
    },
    {
     "name": "stdout",
     "output_type": "stream",
     "text": [
      "19929\n",
      "80921\n",
      "Epoch 02431 | Loss 0.0277 | train_RMSE 0.1388 | test_RMSE 0.1357 \n",
      "19929\n",
      "80921\n",
      "Epoch 02432 | Loss 0.0275 | train_RMSE 0.1387 | test_RMSE 0.1359 \n",
      "19929\n"
     ]
    },
    {
     "name": "stderr",
     "output_type": "stream",
     "text": [
      "\r",
      " 81%|███████████████████████████████▋       | 2435/3000 [03:45<00:52, 10.78it/s]"
     ]
    },
    {
     "name": "stdout",
     "output_type": "stream",
     "text": [
      "80921\n",
      "Epoch 02433 | Loss 0.0274 | train_RMSE 0.1392 | test_RMSE 0.1361 \n",
      "19929\n",
      "80921\n",
      "Epoch 02434 | Loss 0.0278 | train_RMSE 0.1386 | test_RMSE 0.1360 \n",
      "19929\n",
      "80921\n",
      "Epoch 02435 | Loss 0.0277 | train_RMSE 0.1402 | test_RMSE 0.1371 \n"
     ]
    },
    {
     "name": "stderr",
     "output_type": "stream",
     "text": [
      "\r",
      " 81%|███████████████████████████████▋       | 2437/3000 [03:45<00:52, 10.79it/s]"
     ]
    },
    {
     "name": "stdout",
     "output_type": "stream",
     "text": [
      "19929\n",
      "80921\n",
      "Epoch 02436 | Loss 0.0279 | train_RMSE 0.1388 | test_RMSE 0.1363 \n",
      "19929\n",
      "80921\n",
      "Epoch 02437 | Loss 0.0281 | train_RMSE 0.1399 | test_RMSE 0.1368 \n",
      "19929\n"
     ]
    },
    {
     "name": "stderr",
     "output_type": "stream",
     "text": [
      " 81%|███████████████████████████████▋       | 2441/3000 [03:46<00:51, 10.80it/s]"
     ]
    },
    {
     "name": "stdout",
     "output_type": "stream",
     "text": [
      "80921\n",
      "Epoch 02438 | Loss 0.0278 | train_RMSE 0.1396 | test_RMSE 0.1368 \n",
      "19929\n",
      "80921\n",
      "Epoch 02439 | Loss 0.0279 | train_RMSE 0.1399 | test_RMSE 0.1368 \n",
      "19929\n",
      "80921\n",
      "Epoch 02440 | Loss 0.0278 | train_RMSE 0.1374 | test_RMSE 0.1347 \n"
     ]
    },
    {
     "name": "stderr",
     "output_type": "stream",
     "text": [
      "\r",
      " 81%|███████████████████████████████▊       | 2443/3000 [03:46<00:51, 10.80it/s]"
     ]
    },
    {
     "name": "stdout",
     "output_type": "stream",
     "text": [
      "19929\n",
      "80921\n",
      "Epoch 02441 | Loss 0.0278 | train_RMSE 0.1384 | test_RMSE 0.1354 \n",
      "19929\n",
      "80921\n",
      "Epoch 02442 | Loss 0.0274 | train_RMSE 0.1388 | test_RMSE 0.1359 \n",
      "19929\n"
     ]
    },
    {
     "name": "stderr",
     "output_type": "stream",
     "text": [
      "\r",
      " 82%|███████████████████████████████▊       | 2445/3000 [03:46<00:51, 10.80it/s]"
     ]
    },
    {
     "name": "stdout",
     "output_type": "stream",
     "text": [
      "80921\n",
      "Epoch 02443 | Loss 0.0274 | train_RMSE 0.1375 | test_RMSE 0.1347 \n",
      "19929\n",
      "80921\n",
      "Epoch 02444 | Loss 0.0274 | train_RMSE 0.1372 | test_RMSE 0.1342 \n",
      "19929\n",
      "80921\n",
      "Epoch 02445 | Loss 0.0276 | train_RMSE 0.1382 | test_RMSE 0.1355 \n"
     ]
    },
    {
     "name": "stderr",
     "output_type": "stream",
     "text": [
      "\r",
      " 82%|███████████████████████████████▊       | 2447/3000 [03:46<00:51, 10.80it/s]"
     ]
    },
    {
     "name": "stdout",
     "output_type": "stream",
     "text": [
      "19929\n",
      "80921\n",
      "Epoch 02446 | Loss 0.0278 | train_RMSE 0.1413 | test_RMSE 0.1381 \n",
      "19929\n",
      "80921\n",
      "Epoch 02447 | Loss 0.0279 | train_RMSE 0.1395 | test_RMSE 0.1370 \n",
      "19929\n"
     ]
    },
    {
     "name": "stderr",
     "output_type": "stream",
     "text": [
      " 82%|███████████████████████████████▊       | 2451/3000 [03:47<00:50, 10.80it/s]"
     ]
    },
    {
     "name": "stdout",
     "output_type": "stream",
     "text": [
      "80921\n",
      "Epoch 02448 | Loss 0.0285 | train_RMSE 0.1436 | test_RMSE 0.1403 \n",
      "19929\n",
      "80921\n",
      "Epoch 02449 | Loss 0.0289 | train_RMSE 0.1456 | test_RMSE 0.1431 \n",
      "19929\n",
      "80921\n",
      "Epoch 02450 | Loss 0.0295 | train_RMSE 0.1494 | test_RMSE 0.1460 \n"
     ]
    },
    {
     "name": "stderr",
     "output_type": "stream",
     "text": [
      "\r",
      " 82%|███████████████████████████████▉       | 2453/3000 [03:47<00:50, 10.81it/s]"
     ]
    },
    {
     "name": "stdout",
     "output_type": "stream",
     "text": [
      "19929\n",
      "80921\n",
      "Epoch 02451 | Loss 0.0301 | train_RMSE 0.1436 | test_RMSE 0.1413 \n",
      "19929\n",
      "80921\n",
      "Epoch 02452 | Loss 0.0294 | train_RMSE 0.1438 | test_RMSE 0.1405 \n",
      "19929\n"
     ]
    },
    {
     "name": "stderr",
     "output_type": "stream",
     "text": [
      "\r",
      " 82%|███████████████████████████████▉       | 2455/3000 [03:47<00:50, 10.80it/s]"
     ]
    },
    {
     "name": "stdout",
     "output_type": "stream",
     "text": [
      "80921\n",
      "Epoch 02453 | Loss 0.0289 | train_RMSE 0.1434 | test_RMSE 0.1406 \n",
      "19929\n",
      "80921\n",
      "Epoch 02454 | Loss 0.0288 | train_RMSE 0.1388 | test_RMSE 0.1358 \n",
      "19929\n",
      "80921\n",
      "Epoch 02455 | Loss 0.0273 | train_RMSE 0.1379 | test_RMSE 0.1351 \n"
     ]
    },
    {
     "name": "stderr",
     "output_type": "stream",
     "text": [
      "\r",
      " 82%|███████████████████████████████▉       | 2457/3000 [03:47<00:50, 10.77it/s]"
     ]
    },
    {
     "name": "stdout",
     "output_type": "stream",
     "text": [
      "19929\n",
      "80921\n",
      "Epoch 02456 | Loss 0.0280 | train_RMSE 0.1400 | test_RMSE 0.1375 \n",
      "19929\n",
      "80921\n",
      "Epoch 02457 | Loss 0.0284 | train_RMSE 0.1471 | test_RMSE 0.1438 \n",
      "19929\n"
     ]
    },
    {
     "name": "stderr",
     "output_type": "stream",
     "text": [
      " 82%|███████████████████████████████▉       | 2461/3000 [03:47<00:49, 10.79it/s]"
     ]
    },
    {
     "name": "stdout",
     "output_type": "stream",
     "text": [
      "80921\n",
      "Epoch 02458 | Loss 0.0296 | train_RMSE 0.1420 | test_RMSE 0.1396 \n",
      "19929\n",
      "80921\n",
      "Epoch 02459 | Loss 0.0288 | train_RMSE 0.1399 | test_RMSE 0.1367 \n",
      "19929\n",
      "80921\n",
      "Epoch 02460 | Loss 0.0282 | train_RMSE 0.1374 | test_RMSE 0.1345 \n"
     ]
    },
    {
     "name": "stderr",
     "output_type": "stream",
     "text": [
      "\r",
      " 82%|████████████████████████████████       | 2463/3000 [03:48<00:49, 10.79it/s]"
     ]
    },
    {
     "name": "stdout",
     "output_type": "stream",
     "text": [
      "19929\n",
      "80921\n",
      "Epoch 02461 | Loss 0.0272 | train_RMSE 0.1397 | test_RMSE 0.1368 \n",
      "19929\n",
      "80921\n",
      "Epoch 02462 | Loss 0.0277 | train_RMSE 0.1404 | test_RMSE 0.1372 \n",
      "19929\n"
     ]
    },
    {
     "name": "stderr",
     "output_type": "stream",
     "text": [
      "\r",
      " 82%|████████████████████████████████       | 2465/3000 [03:48<00:49, 10.78it/s]"
     ]
    },
    {
     "name": "stdout",
     "output_type": "stream",
     "text": [
      "80921\n",
      "Epoch 02463 | Loss 0.0278 | train_RMSE 0.1387 | test_RMSE 0.1362 \n",
      "19929\n",
      "80921\n",
      "Epoch 02464 | Loss 0.0280 | train_RMSE 0.1391 | test_RMSE 0.1360 \n",
      "19929\n",
      "80921\n",
      "Epoch 02465 | Loss 0.0278 | train_RMSE 0.1382 | test_RMSE 0.1354 \n"
     ]
    },
    {
     "name": "stderr",
     "output_type": "stream",
     "text": [
      "\r",
      " 82%|████████████████████████████████       | 2467/3000 [03:48<00:49, 10.80it/s]"
     ]
    },
    {
     "name": "stdout",
     "output_type": "stream",
     "text": [
      "19929\n",
      "80921\n",
      "Epoch 02466 | Loss 0.0272 | train_RMSE 0.1381 | test_RMSE 0.1353 \n",
      "19929\n",
      "80921\n",
      "Epoch 02467 | Loss 0.0277 | train_RMSE 0.1398 | test_RMSE 0.1367 \n",
      "19929\n"
     ]
    },
    {
     "name": "stderr",
     "output_type": "stream",
     "text": [
      " 82%|████████████████████████████████       | 2471/3000 [03:48<00:49, 10.79it/s]"
     ]
    },
    {
     "name": "stdout",
     "output_type": "stream",
     "text": [
      "80921\n",
      "Epoch 02468 | Loss 0.0279 | train_RMSE 0.1388 | test_RMSE 0.1362 \n",
      "19929\n",
      "80921\n",
      "Epoch 02469 | Loss 0.0280 | train_RMSE 0.1394 | test_RMSE 0.1363 \n",
      "19929\n",
      "80921\n",
      "Epoch 02470 | Loss 0.0277 | train_RMSE 0.1378 | test_RMSE 0.1350 \n"
     ]
    },
    {
     "name": "stderr",
     "output_type": "stream",
     "text": [
      "\r",
      " 82%|████████████████████████████████▏      | 2473/3000 [03:49<00:48, 10.80it/s]"
     ]
    },
    {
     "name": "stdout",
     "output_type": "stream",
     "text": [
      "19929\n",
      "80921\n",
      "Epoch 02471 | Loss 0.0275 | train_RMSE 0.1374 | test_RMSE 0.1345 \n",
      "19929\n",
      "80921\n",
      "Epoch 02472 | Loss 0.0271 | train_RMSE 0.1385 | test_RMSE 0.1354 \n",
      "19929\n"
     ]
    },
    {
     "name": "stderr",
     "output_type": "stream",
     "text": [
      "\r",
      " 82%|████████████████████████████████▏      | 2475/3000 [03:49<00:48, 10.80it/s]"
     ]
    },
    {
     "name": "stdout",
     "output_type": "stream",
     "text": [
      "80921\n",
      "Epoch 02473 | Loss 0.0280 | train_RMSE 0.1386 | test_RMSE 0.1358 \n",
      "19929\n",
      "80921\n",
      "Epoch 02474 | Loss 0.0278 | train_RMSE 0.1389 | test_RMSE 0.1359 \n",
      "19929\n",
      "80921\n",
      "Epoch 02475 | Loss 0.0275 | train_RMSE 0.1373 | test_RMSE 0.1345 \n"
     ]
    },
    {
     "name": "stderr",
     "output_type": "stream",
     "text": [
      "\r",
      " 83%|████████████████████████████████▏      | 2477/3000 [03:49<00:48, 10.77it/s]"
     ]
    },
    {
     "name": "stdout",
     "output_type": "stream",
     "text": [
      "19929\n",
      "80921\n",
      "Epoch 02476 | Loss 0.0272 | train_RMSE 0.1372 | test_RMSE 0.1344 \n",
      "19929\n",
      "80921\n",
      "Epoch 02477 | Loss 0.0274 | train_RMSE 0.1383 | test_RMSE 0.1353 \n",
      "19929\n"
     ]
    },
    {
     "name": "stderr",
     "output_type": "stream",
     "text": [
      " 83%|████████████████████████████████▎      | 2481/3000 [03:49<00:48, 10.78it/s]"
     ]
    },
    {
     "name": "stdout",
     "output_type": "stream",
     "text": [
      "80921\n",
      "Epoch 02478 | Loss 0.0272 | train_RMSE 0.1383 | test_RMSE 0.1355 \n",
      "19929\n",
      "80921\n",
      "Epoch 02479 | Loss 0.0277 | train_RMSE 0.1385 | test_RMSE 0.1355 \n",
      "19929\n",
      "80921\n",
      "Epoch 02480 | Loss 0.0276 | train_RMSE 0.1377 | test_RMSE 0.1349 \n"
     ]
    },
    {
     "name": "stderr",
     "output_type": "stream",
     "text": [
      "\r",
      " 83%|████████████████████████████████▎      | 2483/3000 [03:49<00:47, 10.79it/s]"
     ]
    },
    {
     "name": "stdout",
     "output_type": "stream",
     "text": [
      "19929\n",
      "80921\n",
      "Epoch 02481 | Loss 0.0275 | train_RMSE 0.1374 | test_RMSE 0.1345 \n",
      "19929\n",
      "80921\n",
      "Epoch 02482 | Loss 0.0273 | train_RMSE 0.1375 | test_RMSE 0.1346 \n",
      "19929\n"
     ]
    },
    {
     "name": "stderr",
     "output_type": "stream",
     "text": [
      "\r",
      " 83%|████████████████████████████████▎      | 2485/3000 [03:50<00:47, 10.80it/s]"
     ]
    },
    {
     "name": "stdout",
     "output_type": "stream",
     "text": [
      "80921\n",
      "Epoch 02483 | Loss 0.0272 | train_RMSE 0.1382 | test_RMSE 0.1354 \n",
      "19929\n",
      "80921\n",
      "Epoch 02484 | Loss 0.0273 | train_RMSE 0.1383 | test_RMSE 0.1352 \n",
      "19929\n",
      "80921\n",
      "Epoch 02485 | Loss 0.0274 | train_RMSE 0.1371 | test_RMSE 0.1344 \n"
     ]
    },
    {
     "name": "stderr",
     "output_type": "stream",
     "text": [
      "\r",
      " 83%|████████████████████████████████▎      | 2487/3000 [03:50<00:47, 10.80it/s]"
     ]
    },
    {
     "name": "stdout",
     "output_type": "stream",
     "text": [
      "19929\n",
      "80921\n",
      "Epoch 02486 | Loss 0.0274 | train_RMSE 0.1377 | test_RMSE 0.1347 \n",
      "19929\n",
      "80921\n",
      "Epoch 02487 | Loss 0.0272 | train_RMSE 0.1375 | test_RMSE 0.1346 \n",
      "19929\n"
     ]
    },
    {
     "name": "stderr",
     "output_type": "stream",
     "text": [
      " 83%|████████████████████████████████▍      | 2491/3000 [03:50<00:47, 10.80it/s]"
     ]
    },
    {
     "name": "stdout",
     "output_type": "stream",
     "text": [
      "80921\n",
      "Epoch 02488 | Loss 0.0272 | train_RMSE 0.1377 | test_RMSE 0.1348 \n",
      "19929\n",
      "80921\n",
      "Epoch 02489 | Loss 0.0273 | train_RMSE 0.1382 | test_RMSE 0.1351 \n",
      "19929\n",
      "80921\n",
      "Epoch 02490 | Loss 0.0276 | train_RMSE 0.1384 | test_RMSE 0.1357 \n"
     ]
    },
    {
     "name": "stderr",
     "output_type": "stream",
     "text": [
      "\r",
      " 83%|████████████████████████████████▍      | 2493/3000 [03:50<00:46, 10.81it/s]"
     ]
    },
    {
     "name": "stdout",
     "output_type": "stream",
     "text": [
      "19929\n",
      "80921\n",
      "Epoch 02491 | Loss 0.0278 | train_RMSE 0.1401 | test_RMSE 0.1370 \n",
      "19929\n",
      "80921\n",
      "Epoch 02492 | Loss 0.0280 | train_RMSE 0.1376 | test_RMSE 0.1349 \n",
      "19929\n"
     ]
    },
    {
     "name": "stderr",
     "output_type": "stream",
     "text": [
      "\r",
      " 83%|████████████████████████████████▍      | 2495/3000 [03:51<00:46, 10.80it/s]"
     ]
    },
    {
     "name": "stdout",
     "output_type": "stream",
     "text": [
      "80921\n",
      "Epoch 02493 | Loss 0.0277 | train_RMSE 0.1374 | test_RMSE 0.1344 \n",
      "19929\n",
      "80921\n",
      "Epoch 02494 | Loss 0.0273 | train_RMSE 0.1378 | test_RMSE 0.1348 \n",
      "19929\n",
      "80921\n",
      "Epoch 02495 | Loss 0.0273 | train_RMSE 0.1379 | test_RMSE 0.1351 \n"
     ]
    },
    {
     "name": "stderr",
     "output_type": "stream",
     "text": [
      "\r",
      " 83%|████████████████████████████████▍      | 2497/3000 [03:51<00:46, 10.80it/s]"
     ]
    },
    {
     "name": "stdout",
     "output_type": "stream",
     "text": [
      "19929\n",
      "80921\n",
      "Epoch 02496 | Loss 0.0274 | train_RMSE 0.1386 | test_RMSE 0.1355 \n",
      "19929\n",
      "80921\n",
      "Epoch 02497 | Loss 0.0275 | train_RMSE 0.1380 | test_RMSE 0.1353 \n",
      "19929\n"
     ]
    },
    {
     "name": "stderr",
     "output_type": "stream",
     "text": [
      " 83%|████████████████████████████████▌      | 2501/3000 [03:51<00:46, 10.81it/s]"
     ]
    },
    {
     "name": "stdout",
     "output_type": "stream",
     "text": [
      "80921\n",
      "Epoch 02498 | Loss 0.0273 | train_RMSE 0.1390 | test_RMSE 0.1358 \n",
      "19929\n",
      "80921\n",
      "Epoch 02499 | Loss 0.0277 | train_RMSE 0.1379 | test_RMSE 0.1351 \n",
      "19929\n",
      "80921\n",
      "Epoch 02500 | Loss 0.0274 | train_RMSE 0.1383 | test_RMSE 0.1353 \n"
     ]
    },
    {
     "name": "stderr",
     "output_type": "stream",
     "text": [
      "\r",
      " 83%|████████████████████████████████▌      | 2503/3000 [03:51<00:45, 10.81it/s]"
     ]
    },
    {
     "name": "stdout",
     "output_type": "stream",
     "text": [
      "19929\n",
      "80921\n",
      "Epoch 02501 | Loss 0.0273 | train_RMSE 0.1370 | test_RMSE 0.1342 \n",
      "19929\n",
      "80921\n",
      "Epoch 02502 | Loss 0.0272 | train_RMSE 0.1373 | test_RMSE 0.1345 \n",
      "19929\n"
     ]
    },
    {
     "name": "stderr",
     "output_type": "stream",
     "text": [
      "\r",
      " 84%|████████████████████████████████▌      | 2505/3000 [03:52<00:45, 10.82it/s]"
     ]
    },
    {
     "name": "stdout",
     "output_type": "stream",
     "text": [
      "80921\n",
      "Epoch 02503 | Loss 0.0272 | train_RMSE 0.1385 | test_RMSE 0.1355 \n",
      "19929\n",
      "80921\n",
      "Epoch 02504 | Loss 0.0273 | train_RMSE 0.1377 | test_RMSE 0.1350 \n",
      "19929\n",
      "80921\n",
      "Epoch 02505 | Loss 0.0277 | train_RMSE 0.1382 | test_RMSE 0.1352 \n"
     ]
    },
    {
     "name": "stderr",
     "output_type": "stream",
     "text": [
      "\r",
      " 84%|████████████████████████████████▌      | 2507/3000 [03:52<00:45, 10.82it/s]"
     ]
    },
    {
     "name": "stdout",
     "output_type": "stream",
     "text": [
      "19929\n",
      "80921\n",
      "Epoch 02506 | Loss 0.0275 | train_RMSE 0.1378 | test_RMSE 0.1350 \n",
      "19929\n",
      "80921\n",
      "Epoch 02507 | Loss 0.0274 | train_RMSE 0.1376 | test_RMSE 0.1346 \n",
      "19929\n"
     ]
    },
    {
     "name": "stderr",
     "output_type": "stream",
     "text": [
      " 84%|████████████████████████████████▋      | 2511/3000 [03:52<00:45, 10.78it/s]"
     ]
    },
    {
     "name": "stdout",
     "output_type": "stream",
     "text": [
      "80921\n",
      "Epoch 02508 | Loss 0.0272 | train_RMSE 0.1371 | test_RMSE 0.1341 \n",
      "19929\n",
      "80921\n",
      "Epoch 02509 | Loss 0.0273 | train_RMSE 0.1375 | test_RMSE 0.1345 \n",
      "19929\n",
      "80921\n",
      "Epoch 02510 | Loss 0.0274 | train_RMSE 0.1376 | test_RMSE 0.1346 \n"
     ]
    },
    {
     "name": "stderr",
     "output_type": "stream",
     "text": [
      "\r",
      " 84%|████████████████████████████████▋      | 2513/3000 [03:52<00:45, 10.77it/s]"
     ]
    },
    {
     "name": "stdout",
     "output_type": "stream",
     "text": [
      "19929\n",
      "80921\n",
      "Epoch 02511 | Loss 0.0273 | train_RMSE 0.1370 | test_RMSE 0.1342 \n",
      "19929\n",
      "80921\n",
      "Epoch 02512 | Loss 0.0272 | train_RMSE 0.1373 | test_RMSE 0.1343 \n",
      "19929\n"
     ]
    },
    {
     "name": "stderr",
     "output_type": "stream",
     "text": [
      "\r",
      " 84%|████████████████████████████████▋      | 2515/3000 [03:52<00:45, 10.62it/s]"
     ]
    },
    {
     "name": "stdout",
     "output_type": "stream",
     "text": [
      "80921\n",
      "Epoch 02513 | Loss 0.0274 | train_RMSE 0.1381 | test_RMSE 0.1352 \n",
      "19929\n",
      "80921\n",
      "Epoch 02514 | Loss 0.0274 | train_RMSE 0.1382 | test_RMSE 0.1351 \n",
      "19929\n",
      "80921\n",
      "Epoch 02515 | Loss 0.0275 | train_RMSE 0.1372 | test_RMSE 0.1345 \n"
     ]
    },
    {
     "name": "stderr",
     "output_type": "stream",
     "text": [
      "\r",
      " 84%|████████████████████████████████▋      | 2517/3000 [03:53<00:45, 10.66it/s]"
     ]
    },
    {
     "name": "stdout",
     "output_type": "stream",
     "text": [
      "19929\n",
      "80921\n",
      "Epoch 02516 | Loss 0.0274 | train_RMSE 0.1389 | test_RMSE 0.1358 \n",
      "19929\n",
      "80921\n",
      "Epoch 02517 | Loss 0.0275 | train_RMSE 0.1382 | test_RMSE 0.1354 \n",
      "19929\n"
     ]
    },
    {
     "name": "stderr",
     "output_type": "stream",
     "text": [
      " 84%|████████████████████████████████▊      | 2521/3000 [03:53<00:44, 10.73it/s]"
     ]
    },
    {
     "name": "stdout",
     "output_type": "stream",
     "text": [
      "80921\n",
      "Epoch 02518 | Loss 0.0275 | train_RMSE 0.1376 | test_RMSE 0.1346 \n",
      "19929\n",
      "80921\n",
      "Epoch 02519 | Loss 0.0271 | train_RMSE 0.1371 | test_RMSE 0.1343 \n",
      "19929\n",
      "80921\n",
      "Epoch 02520 | Loss 0.0274 | train_RMSE 0.1375 | test_RMSE 0.1345 \n"
     ]
    },
    {
     "name": "stderr",
     "output_type": "stream",
     "text": [
      "\r",
      " 84%|████████████████████████████████▊      | 2523/3000 [03:53<00:44, 10.73it/s]"
     ]
    },
    {
     "name": "stdout",
     "output_type": "stream",
     "text": [
      "19929\n",
      "80921\n",
      "Epoch 02521 | Loss 0.0273 | train_RMSE 0.1376 | test_RMSE 0.1347 \n",
      "19929\n",
      "80921\n",
      "Epoch 02522 | Loss 0.0269 | train_RMSE 0.1370 | test_RMSE 0.1341 \n",
      "19929\n"
     ]
    },
    {
     "name": "stderr",
     "output_type": "stream",
     "text": [
      "\r",
      " 84%|████████████████████████████████▊      | 2525/3000 [03:53<00:44, 10.73it/s]"
     ]
    },
    {
     "name": "stdout",
     "output_type": "stream",
     "text": [
      "80921\n",
      "Epoch 02523 | Loss 0.0270 | train_RMSE 0.1374 | test_RMSE 0.1344 \n",
      "19929\n",
      "80921\n",
      "Epoch 02524 | Loss 0.0270 | train_RMSE 0.1378 | test_RMSE 0.1350 \n",
      "19929\n",
      "80921\n",
      "Epoch 02525 | Loss 0.0272 | train_RMSE 0.1379 | test_RMSE 0.1349 \n"
     ]
    },
    {
     "name": "stderr",
     "output_type": "stream",
     "text": [
      "\r",
      " 84%|████████████████████████████████▊      | 2527/3000 [03:54<00:43, 10.75it/s]"
     ]
    },
    {
     "name": "stdout",
     "output_type": "stream",
     "text": [
      "19929\n",
      "80921\n",
      "Epoch 02526 | Loss 0.0273 | train_RMSE 0.1372 | test_RMSE 0.1344 \n",
      "19929\n",
      "80921\n",
      "Epoch 02527 | Loss 0.0272 | train_RMSE 0.1381 | test_RMSE 0.1352 \n",
      "19929\n"
     ]
    },
    {
     "name": "stderr",
     "output_type": "stream",
     "text": [
      " 84%|████████████████████████████████▉      | 2531/3000 [03:54<00:43, 10.83it/s]"
     ]
    },
    {
     "name": "stdout",
     "output_type": "stream",
     "text": [
      "80921\n",
      "Epoch 02528 | Loss 0.0273 | train_RMSE 0.1375 | test_RMSE 0.1346 \n",
      "19929\n",
      "80921\n",
      "Epoch 02529 | Loss 0.0272 | train_RMSE 0.1373 | test_RMSE 0.1343 \n",
      "19929\n",
      "80921\n",
      "Epoch 02530 | Loss 0.0275 | train_RMSE 0.1378 | test_RMSE 0.1349 \n"
     ]
    },
    {
     "name": "stderr",
     "output_type": "stream",
     "text": [
      "\r",
      " 84%|████████████████████████████████▉      | 2533/3000 [03:54<00:43, 10.84it/s]"
     ]
    },
    {
     "name": "stdout",
     "output_type": "stream",
     "text": [
      "19929\n",
      "80921\n",
      "Epoch 02531 | Loss 0.0271 | train_RMSE 0.1376 | test_RMSE 0.1347 \n",
      "19929\n",
      "80921\n",
      "Epoch 02532 | Loss 0.0273 | train_RMSE 0.1369 | test_RMSE 0.1340 \n",
      "19929\n"
     ]
    },
    {
     "name": "stderr",
     "output_type": "stream",
     "text": [
      "\r",
      " 84%|████████████████████████████████▉      | 2535/3000 [03:54<00:42, 10.86it/s]"
     ]
    },
    {
     "name": "stdout",
     "output_type": "stream",
     "text": [
      "80921\n",
      "Epoch 02533 | Loss 0.0273 | train_RMSE 0.1371 | test_RMSE 0.1341 \n",
      "19929\n",
      "80921\n",
      "Epoch 02534 | Loss 0.0273 | train_RMSE 0.1374 | test_RMSE 0.1345 \n",
      "19929\n",
      "80921\n",
      "Epoch 02535 | Loss 0.0272 | train_RMSE 0.1376 | test_RMSE 0.1346 \n"
     ]
    },
    {
     "name": "stderr",
     "output_type": "stream",
     "text": [
      "\r",
      " 85%|████████████████████████████████▉      | 2537/3000 [03:54<00:42, 10.87it/s]"
     ]
    },
    {
     "name": "stdout",
     "output_type": "stream",
     "text": [
      "19929\n",
      "80921\n",
      "Epoch 02536 | Loss 0.0273 | train_RMSE 0.1372 | test_RMSE 0.1343 \n",
      "19929\n",
      "80921\n",
      "Epoch 02537 | Loss 0.0273 | train_RMSE 0.1373 | test_RMSE 0.1344 \n",
      "19929\n"
     ]
    },
    {
     "name": "stderr",
     "output_type": "stream",
     "text": [
      " 85%|█████████████████████████████████      | 2541/3000 [03:55<00:42, 10.88it/s]"
     ]
    },
    {
     "name": "stdout",
     "output_type": "stream",
     "text": [
      "80921\n",
      "Epoch 02538 | Loss 0.0272 | train_RMSE 0.1382 | test_RMSE 0.1351 \n",
      "19929\n",
      "80921\n",
      "Epoch 02539 | Loss 0.0273 | train_RMSE 0.1377 | test_RMSE 0.1349 \n",
      "19929\n",
      "80921\n",
      "Epoch 02540 | Loss 0.0275 | train_RMSE 0.1379 | test_RMSE 0.1349 \n"
     ]
    },
    {
     "name": "stderr",
     "output_type": "stream",
     "text": [
      "\r",
      " 85%|█████████████████████████████████      | 2543/3000 [03:55<00:42, 10.87it/s]"
     ]
    },
    {
     "name": "stdout",
     "output_type": "stream",
     "text": [
      "19929\n",
      "80921\n",
      "Epoch 02541 | Loss 0.0274 | train_RMSE 0.1378 | test_RMSE 0.1351 \n",
      "19929\n",
      "80921\n",
      "Epoch 02542 | Loss 0.0273 | train_RMSE 0.1393 | test_RMSE 0.1362 \n",
      "19929\n"
     ]
    },
    {
     "name": "stderr",
     "output_type": "stream",
     "text": [
      "\r",
      " 85%|█████████████████████████████████      | 2545/3000 [03:55<00:41, 10.87it/s]"
     ]
    },
    {
     "name": "stdout",
     "output_type": "stream",
     "text": [
      "80921\n",
      "Epoch 02543 | Loss 0.0275 | train_RMSE 0.1392 | test_RMSE 0.1365 \n",
      "19929\n",
      "80921\n",
      "Epoch 02544 | Loss 0.0277 | train_RMSE 0.1411 | test_RMSE 0.1378 \n",
      "19929\n",
      "80921\n",
      "Epoch 02545 | Loss 0.0280 | train_RMSE 0.1405 | test_RMSE 0.1379 \n"
     ]
    },
    {
     "name": "stderr",
     "output_type": "stream",
     "text": [
      "\r",
      " 85%|█████████████████████████████████      | 2547/3000 [03:55<00:41, 10.84it/s]"
     ]
    },
    {
     "name": "stdout",
     "output_type": "stream",
     "text": [
      "19929\n",
      "80921\n",
      "Epoch 02546 | Loss 0.0279 | train_RMSE 0.1433 | test_RMSE 0.1400 \n",
      "19929\n",
      "80921\n",
      "Epoch 02547 | Loss 0.0287 | train_RMSE 0.1418 | test_RMSE 0.1393 \n",
      "19929\n"
     ]
    },
    {
     "name": "stderr",
     "output_type": "stream",
     "text": [
      " 85%|█████████████████████████████████▏     | 2551/3000 [03:56<00:41, 10.70it/s]"
     ]
    },
    {
     "name": "stdout",
     "output_type": "stream",
     "text": [
      "80921\n",
      "Epoch 02548 | Loss 0.0284 | train_RMSE 0.1437 | test_RMSE 0.1404 \n",
      "19929\n",
      "80921\n",
      "Epoch 02549 | Loss 0.0286 | train_RMSE 0.1395 | test_RMSE 0.1370 \n",
      "19929\n",
      "80921\n",
      "Epoch 02550 | Loss 0.0282 | train_RMSE 0.1395 | test_RMSE 0.1364 \n"
     ]
    },
    {
     "name": "stderr",
     "output_type": "stream",
     "text": [
      "\r",
      " 85%|█████████████████████████████████▏     | 2553/3000 [03:56<00:41, 10.72it/s]"
     ]
    },
    {
     "name": "stdout",
     "output_type": "stream",
     "text": [
      "19929\n",
      "80921\n",
      "Epoch 02551 | Loss 0.0274 | train_RMSE 0.1377 | test_RMSE 0.1349 \n",
      "19929\n",
      "80921\n",
      "Epoch 02552 | Loss 0.0273 | train_RMSE 0.1370 | test_RMSE 0.1341 \n",
      "19929\n"
     ]
    },
    {
     "name": "stderr",
     "output_type": "stream",
     "text": [
      "\r",
      " 85%|█████████████████████████████████▏     | 2555/3000 [03:56<00:41, 10.75it/s]"
     ]
    },
    {
     "name": "stdout",
     "output_type": "stream",
     "text": [
      "80921\n",
      "Epoch 02553 | Loss 0.0272 | train_RMSE 0.1380 | test_RMSE 0.1350 \n",
      "19929\n",
      "80921\n",
      "Epoch 02554 | Loss 0.0272 | train_RMSE 0.1379 | test_RMSE 0.1352 \n",
      "19929\n",
      "80921\n",
      "Epoch 02555 | Loss 0.0275 | train_RMSE 0.1385 | test_RMSE 0.1354 \n"
     ]
    },
    {
     "name": "stderr",
     "output_type": "stream",
     "text": [
      "\r",
      " 85%|█████████████████████████████████▏     | 2557/3000 [03:56<00:41, 10.76it/s]"
     ]
    },
    {
     "name": "stdout",
     "output_type": "stream",
     "text": [
      "19929\n",
      "80921\n",
      "Epoch 02556 | Loss 0.0275 | train_RMSE 0.1384 | test_RMSE 0.1356 \n",
      "19929\n",
      "80921\n",
      "Epoch 02557 | Loss 0.0274 | train_RMSE 0.1392 | test_RMSE 0.1361 \n",
      "19929\n"
     ]
    },
    {
     "name": "stderr",
     "output_type": "stream",
     "text": [
      " 85%|█████████████████████████████████▎     | 2561/3000 [03:57<00:40, 10.81it/s]"
     ]
    },
    {
     "name": "stdout",
     "output_type": "stream",
     "text": [
      "80921\n",
      "Epoch 02558 | Loss 0.0278 | train_RMSE 0.1378 | test_RMSE 0.1351 \n",
      "19929\n",
      "80921\n",
      "Epoch 02559 | Loss 0.0277 | train_RMSE 0.1387 | test_RMSE 0.1356 \n",
      "19929\n",
      "80921\n",
      "Epoch 02560 | Loss 0.0272 | train_RMSE 0.1375 | test_RMSE 0.1347 \n"
     ]
    },
    {
     "name": "stderr",
     "output_type": "stream",
     "text": [
      "\r",
      " 85%|█████████████████████████████████▎     | 2563/3000 [03:57<00:40, 10.82it/s]"
     ]
    },
    {
     "name": "stdout",
     "output_type": "stream",
     "text": [
      "19929\n",
      "80921\n",
      "Epoch 02561 | Loss 0.0273 | train_RMSE 0.1375 | test_RMSE 0.1345 \n",
      "19929\n",
      "80921\n",
      "Epoch 02562 | Loss 0.0273 | train_RMSE 0.1374 | test_RMSE 0.1344 \n",
      "19929\n"
     ]
    },
    {
     "name": "stderr",
     "output_type": "stream",
     "text": [
      "\r",
      " 86%|█████████████████████████████████▎     | 2565/3000 [03:57<00:40, 10.83it/s]"
     ]
    },
    {
     "name": "stdout",
     "output_type": "stream",
     "text": [
      "80921\n",
      "Epoch 02563 | Loss 0.0273 | train_RMSE 0.1372 | test_RMSE 0.1343 \n",
      "19929\n",
      "80921\n",
      "Epoch 02564 | Loss 0.0270 | train_RMSE 0.1380 | test_RMSE 0.1350 \n",
      "19929\n",
      "80921\n",
      "Epoch 02565 | Loss 0.0273 | train_RMSE 0.1380 | test_RMSE 0.1352 \n"
     ]
    },
    {
     "name": "stderr",
     "output_type": "stream",
     "text": [
      "\r",
      " 86%|█████████████████████████████████▎     | 2567/3000 [03:57<00:39, 10.84it/s]"
     ]
    },
    {
     "name": "stdout",
     "output_type": "stream",
     "text": [
      "19929\n",
      "80921\n",
      "Epoch 02566 | Loss 0.0275 | train_RMSE 0.1381 | test_RMSE 0.1351 \n",
      "19929\n",
      "80921\n",
      "Epoch 02567 | Loss 0.0275 | train_RMSE 0.1378 | test_RMSE 0.1350 \n",
      "19929\n"
     ]
    },
    {
     "name": "stderr",
     "output_type": "stream",
     "text": [
      " 86%|█████████████████████████████████▍     | 2571/3000 [03:58<00:39, 10.86it/s]"
     ]
    },
    {
     "name": "stdout",
     "output_type": "stream",
     "text": [
      "80921\n",
      "Epoch 02568 | Loss 0.0275 | train_RMSE 0.1385 | test_RMSE 0.1354 \n",
      "19929\n",
      "80921\n",
      "Epoch 02569 | Loss 0.0274 | train_RMSE 0.1373 | test_RMSE 0.1345 \n",
      "19929\n",
      "80921\n",
      "Epoch 02570 | Loss 0.0274 | train_RMSE 0.1379 | test_RMSE 0.1348 \n"
     ]
    },
    {
     "name": "stderr",
     "output_type": "stream",
     "text": [
      "\r",
      " 86%|█████████████████████████████████▍     | 2573/3000 [03:58<00:39, 10.85it/s]"
     ]
    },
    {
     "name": "stdout",
     "output_type": "stream",
     "text": [
      "19929\n",
      "80921\n",
      "Epoch 02571 | Loss 0.0274 | train_RMSE 0.1375 | test_RMSE 0.1347 \n",
      "19929\n",
      "80921\n",
      "Epoch 02572 | Loss 0.0270 | train_RMSE 0.1376 | test_RMSE 0.1346 \n",
      "19929\n"
     ]
    },
    {
     "name": "stderr",
     "output_type": "stream",
     "text": [
      "\r",
      " 86%|█████████████████████████████████▍     | 2575/3000 [03:58<00:39, 10.83it/s]"
     ]
    },
    {
     "name": "stdout",
     "output_type": "stream",
     "text": [
      "80921\n",
      "Epoch 02573 | Loss 0.0271 | train_RMSE 0.1369 | test_RMSE 0.1340 \n",
      "19929\n",
      "80921\n",
      "Epoch 02574 | Loss 0.0274 | train_RMSE 0.1372 | test_RMSE 0.1343 \n",
      "19929\n",
      "80921\n",
      "Epoch 02575 | Loss 0.0273 | train_RMSE 0.1381 | test_RMSE 0.1351 \n"
     ]
    },
    {
     "name": "stderr",
     "output_type": "stream",
     "text": [
      "\r",
      " 86%|█████████████████████████████████▌     | 2577/3000 [03:58<00:39, 10.81it/s]"
     ]
    },
    {
     "name": "stdout",
     "output_type": "stream",
     "text": [
      "19929\n",
      "80921\n",
      "Epoch 02576 | Loss 0.0274 | train_RMSE 0.1372 | test_RMSE 0.1344 \n",
      "19929\n",
      "80921\n",
      "Epoch 02577 | Loss 0.0269 | train_RMSE 0.1373 | test_RMSE 0.1343 \n",
      "19929\n"
     ]
    },
    {
     "name": "stderr",
     "output_type": "stream",
     "text": [
      " 86%|█████████████████████████████████▌     | 2581/3000 [03:59<00:38, 10.76it/s]"
     ]
    },
    {
     "name": "stdout",
     "output_type": "stream",
     "text": [
      "80921\n",
      "Epoch 02578 | Loss 0.0272 | train_RMSE 0.1375 | test_RMSE 0.1346 \n",
      "19929\n",
      "80921\n",
      "Epoch 02579 | Loss 0.0270 | train_RMSE 0.1385 | test_RMSE 0.1355 \n",
      "19929\n",
      "80921\n",
      "Epoch 02580 | Loss 0.0274 | train_RMSE 0.1387 | test_RMSE 0.1360 \n"
     ]
    },
    {
     "name": "stderr",
     "output_type": "stream",
     "text": [
      "\r",
      " 86%|█████████████████████████████████▌     | 2583/3000 [03:59<00:38, 10.75it/s]"
     ]
    },
    {
     "name": "stdout",
     "output_type": "stream",
     "text": [
      "19929\n",
      "80921\n",
      "Epoch 02581 | Loss 0.0276 | train_RMSE 0.1397 | test_RMSE 0.1365 \n",
      "19929\n",
      "80921\n",
      "Epoch 02582 | Loss 0.0279 | train_RMSE 0.1399 | test_RMSE 0.1373 \n",
      "19929\n"
     ]
    },
    {
     "name": "stderr",
     "output_type": "stream",
     "text": [
      "\r",
      " 86%|█████████████████████████████████▌     | 2585/3000 [03:59<00:38, 10.74it/s]"
     ]
    },
    {
     "name": "stdout",
     "output_type": "stream",
     "text": [
      "80921\n",
      "Epoch 02583 | Loss 0.0281 | train_RMSE 0.1434 | test_RMSE 0.1401 \n",
      "19929\n",
      "80921\n",
      "Epoch 02584 | Loss 0.0285 | train_RMSE 0.1407 | test_RMSE 0.1382 \n",
      "19929\n",
      "80921\n",
      "Epoch 02585 | Loss 0.0280 | train_RMSE 0.1419 | test_RMSE 0.1388 \n"
     ]
    },
    {
     "name": "stderr",
     "output_type": "stream",
     "text": [
      "\r",
      " 86%|█████████████████████████████████▋     | 2587/3000 [03:59<00:38, 10.74it/s]"
     ]
    },
    {
     "name": "stdout",
     "output_type": "stream",
     "text": [
      "19929\n",
      "80921\n",
      "Epoch 02586 | Loss 0.0288 | train_RMSE 0.1409 | test_RMSE 0.1383 \n",
      "19929\n",
      "80921\n",
      "Epoch 02587 | Loss 0.0282 | train_RMSE 0.1408 | test_RMSE 0.1375 \n",
      "19929\n"
     ]
    },
    {
     "name": "stderr",
     "output_type": "stream",
     "text": [
      " 86%|█████████████████████████████████▋     | 2591/3000 [03:59<00:38, 10.75it/s]"
     ]
    },
    {
     "name": "stdout",
     "output_type": "stream",
     "text": [
      "80921\n",
      "Epoch 02588 | Loss 0.0277 | train_RMSE 0.1373 | test_RMSE 0.1346 \n",
      "19929\n",
      "80921\n",
      "Epoch 02589 | Loss 0.0276 | train_RMSE 0.1378 | test_RMSE 0.1348 \n",
      "19929\n",
      "80921\n",
      "Epoch 02590 | Loss 0.0274 | train_RMSE 0.1393 | test_RMSE 0.1363 \n"
     ]
    },
    {
     "name": "stderr",
     "output_type": "stream",
     "text": [
      "\r",
      " 86%|█████████████████████████████████▋     | 2593/3000 [04:00<00:37, 10.75it/s]"
     ]
    },
    {
     "name": "stdout",
     "output_type": "stream",
     "text": [
      "19929\n",
      "80921\n",
      "Epoch 02591 | Loss 0.0275 | train_RMSE 0.1377 | test_RMSE 0.1349 \n",
      "19929\n",
      "80921\n",
      "Epoch 02592 | Loss 0.0274 | train_RMSE 0.1392 | test_RMSE 0.1361 \n",
      "19929\n"
     ]
    },
    {
     "name": "stderr",
     "output_type": "stream",
     "text": [
      "\r",
      " 86%|█████████████████████████████████▋     | 2595/3000 [04:00<00:37, 10.73it/s]"
     ]
    },
    {
     "name": "stdout",
     "output_type": "stream",
     "text": [
      "80921\n",
      "Epoch 02593 | Loss 0.0278 | train_RMSE 0.1401 | test_RMSE 0.1374 \n",
      "19929\n",
      "80921\n",
      "Epoch 02594 | Loss 0.0278 | train_RMSE 0.1421 | test_RMSE 0.1388 \n",
      "19929\n",
      "80921\n",
      "Epoch 02595 | Loss 0.0282 | train_RMSE 0.1383 | test_RMSE 0.1357 \n"
     ]
    },
    {
     "name": "stderr",
     "output_type": "stream",
     "text": [
      "\r",
      " 87%|█████████████████████████████████▊     | 2597/3000 [04:00<00:37, 10.72it/s]"
     ]
    },
    {
     "name": "stdout",
     "output_type": "stream",
     "text": [
      "19929\n",
      "80921\n",
      "Epoch 02596 | Loss 0.0275 | train_RMSE 0.1378 | test_RMSE 0.1349 \n",
      "19929\n",
      "80921\n",
      "Epoch 02597 | Loss 0.0277 | train_RMSE 0.1394 | test_RMSE 0.1365 \n",
      "19929\n"
     ]
    },
    {
     "name": "stderr",
     "output_type": "stream",
     "text": [
      " 87%|█████████████████████████████████▊     | 2601/3000 [04:00<00:37, 10.70it/s]"
     ]
    },
    {
     "name": "stdout",
     "output_type": "stream",
     "text": [
      "80921\n",
      "Epoch 02598 | Loss 0.0275 | train_RMSE 0.1375 | test_RMSE 0.1345 \n",
      "19929\n",
      "80921\n",
      "Epoch 02599 | Loss 0.0269 | train_RMSE 0.1372 | test_RMSE 0.1342 \n",
      "19929\n",
      "80921\n",
      "Epoch 02600 | Loss 0.0275 | train_RMSE 0.1376 | test_RMSE 0.1347 \n"
     ]
    },
    {
     "name": "stderr",
     "output_type": "stream",
     "text": [
      "\r",
      " 87%|█████████████████████████████████▊     | 2603/3000 [04:01<00:37, 10.71it/s]"
     ]
    },
    {
     "name": "stdout",
     "output_type": "stream",
     "text": [
      "19929\n",
      "80921\n",
      "Epoch 02601 | Loss 0.0277 | train_RMSE 0.1395 | test_RMSE 0.1365 \n",
      "19929\n",
      "80921\n",
      "Epoch 02602 | Loss 0.0272 | train_RMSE 0.1377 | test_RMSE 0.1349 \n",
      "19929\n"
     ]
    },
    {
     "name": "stderr",
     "output_type": "stream",
     "text": [
      "\r",
      " 87%|█████████████████████████████████▊     | 2605/3000 [04:01<00:36, 10.71it/s]"
     ]
    },
    {
     "name": "stdout",
     "output_type": "stream",
     "text": [
      "80921\n",
      "Epoch 02603 | Loss 0.0272 | train_RMSE 0.1380 | test_RMSE 0.1349 \n",
      "19929\n",
      "80921\n",
      "Epoch 02604 | Loss 0.0275 | train_RMSE 0.1377 | test_RMSE 0.1348 \n",
      "19929\n",
      "80921\n",
      "Epoch 02605 | Loss 0.0270 | train_RMSE 0.1381 | test_RMSE 0.1351 \n"
     ]
    },
    {
     "name": "stderr",
     "output_type": "stream",
     "text": [
      "\r",
      " 87%|█████████████████████████████████▉     | 2607/3000 [04:01<00:36, 10.72it/s]"
     ]
    },
    {
     "name": "stdout",
     "output_type": "stream",
     "text": [
      "19929\n",
      "80921\n",
      "Epoch 02606 | Loss 0.0275 | train_RMSE 0.1369 | test_RMSE 0.1341 \n",
      "19929\n",
      "80921\n",
      "Epoch 02607 | Loss 0.0273 | train_RMSE 0.1372 | test_RMSE 0.1343 \n",
      "19929\n"
     ]
    },
    {
     "name": "stderr",
     "output_type": "stream",
     "text": [
      " 87%|█████████████████████████████████▉     | 2611/3000 [04:01<00:36, 10.72it/s]"
     ]
    },
    {
     "name": "stdout",
     "output_type": "stream",
     "text": [
      "80921\n",
      "Epoch 02608 | Loss 0.0272 | train_RMSE 0.1384 | test_RMSE 0.1354 \n",
      "19929\n",
      "80921\n",
      "Epoch 02609 | Loss 0.0275 | train_RMSE 0.1371 | test_RMSE 0.1343 \n",
      "19929\n",
      "80921\n",
      "Epoch 02610 | Loss 0.0271 | train_RMSE 0.1373 | test_RMSE 0.1343 \n"
     ]
    },
    {
     "name": "stderr",
     "output_type": "stream",
     "text": [
      "\r",
      " 87%|█████████████████████████████████▉     | 2613/3000 [04:02<00:36, 10.72it/s]"
     ]
    },
    {
     "name": "stdout",
     "output_type": "stream",
     "text": [
      "19929\n",
      "80921\n",
      "Epoch 02611 | Loss 0.0274 | train_RMSE 0.1384 | test_RMSE 0.1354 \n",
      "19929\n",
      "80921\n",
      "Epoch 02612 | Loss 0.0277 | train_RMSE 0.1384 | test_RMSE 0.1352 \n",
      "19929\n"
     ]
    },
    {
     "name": "stderr",
     "output_type": "stream",
     "text": [
      "\r",
      " 87%|█████████████████████████████████▉     | 2615/3000 [04:02<00:35, 10.71it/s]"
     ]
    },
    {
     "name": "stdout",
     "output_type": "stream",
     "text": [
      "80921\n",
      "Epoch 02613 | Loss 0.0275 | train_RMSE 0.1370 | test_RMSE 0.1342 \n",
      "19929\n",
      "80921\n",
      "Epoch 02614 | Loss 0.0273 | train_RMSE 0.1377 | test_RMSE 0.1347 \n",
      "19929\n",
      "80921\n",
      "Epoch 02615 | Loss 0.0273 | train_RMSE 0.1392 | test_RMSE 0.1364 \n"
     ]
    },
    {
     "name": "stderr",
     "output_type": "stream",
     "text": [
      "\r",
      " 87%|██████████████████████████████████     | 2617/3000 [04:02<00:35, 10.70it/s]"
     ]
    },
    {
     "name": "stdout",
     "output_type": "stream",
     "text": [
      "19929\n",
      "80921\n",
      "Epoch 02616 | Loss 0.0275 | train_RMSE 0.1387 | test_RMSE 0.1356 \n",
      "19929\n",
      "80921\n",
      "Epoch 02617 | Loss 0.0274 | train_RMSE 0.1371 | test_RMSE 0.1344 \n",
      "19929\n"
     ]
    },
    {
     "name": "stderr",
     "output_type": "stream",
     "text": [
      " 87%|██████████████████████████████████     | 2621/3000 [04:02<00:35, 10.70it/s]"
     ]
    },
    {
     "name": "stdout",
     "output_type": "stream",
     "text": [
      "80921\n",
      "Epoch 02618 | Loss 0.0274 | train_RMSE 0.1379 | test_RMSE 0.1349 \n",
      "19929\n",
      "80921\n",
      "Epoch 02619 | Loss 0.0271 | train_RMSE 0.1384 | test_RMSE 0.1356 \n",
      "19929\n",
      "80921\n",
      "Epoch 02620 | Loss 0.0274 | train_RMSE 0.1383 | test_RMSE 0.1352 \n"
     ]
    },
    {
     "name": "stderr",
     "output_type": "stream",
     "text": [
      "\r",
      " 87%|██████████████████████████████████     | 2623/3000 [04:02<00:35, 10.71it/s]"
     ]
    },
    {
     "name": "stdout",
     "output_type": "stream",
     "text": [
      "19929\n",
      "80921\n",
      "Epoch 02621 | Loss 0.0274 | train_RMSE 0.1368 | test_RMSE 0.1338 \n",
      "19929\n",
      "80921\n",
      "Epoch 02622 | Loss 0.0272 | train_RMSE 0.1374 | test_RMSE 0.1345 \n",
      "19929\n"
     ]
    },
    {
     "name": "stderr",
     "output_type": "stream",
     "text": [
      "\r",
      " 88%|██████████████████████████████████▏    | 2625/3000 [04:03<00:35, 10.70it/s]"
     ]
    },
    {
     "name": "stdout",
     "output_type": "stream",
     "text": [
      "80921\n",
      "Epoch 02623 | Loss 0.0272 | train_RMSE 0.1393 | test_RMSE 0.1362 \n",
      "19929\n",
      "80921\n",
      "Epoch 02624 | Loss 0.0275 | train_RMSE 0.1371 | test_RMSE 0.1344 \n",
      "19929\n",
      "80921\n",
      "Epoch 02625 | Loss 0.0273 | train_RMSE 0.1379 | test_RMSE 0.1349 \n"
     ]
    },
    {
     "name": "stderr",
     "output_type": "stream",
     "text": [
      "\r",
      " 88%|██████████████████████████████████▏    | 2627/3000 [04:03<00:34, 10.72it/s]"
     ]
    },
    {
     "name": "stdout",
     "output_type": "stream",
     "text": [
      "19929\n",
      "80921\n",
      "Epoch 02626 | Loss 0.0277 | train_RMSE 0.1391 | test_RMSE 0.1365 \n",
      "19929\n",
      "80921\n",
      "Epoch 02627 | Loss 0.0275 | train_RMSE 0.1412 | test_RMSE 0.1380 \n",
      "19929\n"
     ]
    },
    {
     "name": "stderr",
     "output_type": "stream",
     "text": [
      " 88%|██████████████████████████████████▏    | 2631/3000 [04:03<00:34, 10.72it/s]"
     ]
    },
    {
     "name": "stdout",
     "output_type": "stream",
     "text": [
      "80921\n",
      "Epoch 02628 | Loss 0.0278 | train_RMSE 0.1385 | test_RMSE 0.1359 \n",
      "19929\n",
      "80921\n",
      "Epoch 02629 | Loss 0.0281 | train_RMSE 0.1402 | test_RMSE 0.1370 \n",
      "19929\n",
      "80921\n",
      "Epoch 02630 | Loss 0.0280 | train_RMSE 0.1416 | test_RMSE 0.1388 \n"
     ]
    },
    {
     "name": "stderr",
     "output_type": "stream",
     "text": [
      "\r",
      " 88%|██████████████████████████████████▏    | 2633/3000 [04:03<00:34, 10.73it/s]"
     ]
    },
    {
     "name": "stdout",
     "output_type": "stream",
     "text": [
      "19929\n",
      "80921\n",
      "Epoch 02631 | Loss 0.0282 | train_RMSE 0.1410 | test_RMSE 0.1377 \n",
      "19929\n",
      "80921\n",
      "Epoch 02632 | Loss 0.0283 | train_RMSE 0.1385 | test_RMSE 0.1359 \n",
      "19929\n"
     ]
    },
    {
     "name": "stderr",
     "output_type": "stream",
     "text": [
      "\r",
      " 88%|██████████████████████████████████▎    | 2635/3000 [04:04<00:34, 10.72it/s]"
     ]
    },
    {
     "name": "stdout",
     "output_type": "stream",
     "text": [
      "80921\n",
      "Epoch 02633 | Loss 0.0281 | train_RMSE 0.1399 | test_RMSE 0.1368 \n",
      "19929\n",
      "80921\n",
      "Epoch 02634 | Loss 0.0276 | train_RMSE 0.1393 | test_RMSE 0.1365 \n",
      "19929\n",
      "80921\n",
      "Epoch 02635 | Loss 0.0275 | train_RMSE 0.1379 | test_RMSE 0.1349 \n"
     ]
    },
    {
     "name": "stderr",
     "output_type": "stream",
     "text": [
      "\r",
      " 88%|██████████████████████████████████▎    | 2637/3000 [04:04<00:33, 10.73it/s]"
     ]
    },
    {
     "name": "stdout",
     "output_type": "stream",
     "text": [
      "19929\n",
      "80921\n",
      "Epoch 02636 | Loss 0.0276 | train_RMSE 0.1369 | test_RMSE 0.1340 \n",
      "19929\n",
      "80921\n",
      "Epoch 02637 | Loss 0.0271 | train_RMSE 0.1381 | test_RMSE 0.1352 \n",
      "19929\n"
     ]
    },
    {
     "name": "stderr",
     "output_type": "stream",
     "text": [
      " 88%|██████████████████████████████████▎    | 2641/3000 [04:04<00:33, 10.76it/s]"
     ]
    },
    {
     "name": "stdout",
     "output_type": "stream",
     "text": [
      "80921\n",
      "Epoch 02638 | Loss 0.0275 | train_RMSE 0.1381 | test_RMSE 0.1350 \n",
      "19929\n",
      "80921\n",
      "Epoch 02639 | Loss 0.0271 | train_RMSE 0.1376 | test_RMSE 0.1348 \n",
      "19929\n",
      "80921\n",
      "Epoch 02640 | Loss 0.0274 | train_RMSE 0.1391 | test_RMSE 0.1360 \n"
     ]
    },
    {
     "name": "stderr",
     "output_type": "stream",
     "text": [
      "\r",
      " 88%|██████████████████████████████████▎    | 2643/3000 [04:04<00:33, 10.76it/s]"
     ]
    },
    {
     "name": "stdout",
     "output_type": "stream",
     "text": [
      "19929\n",
      "80921\n",
      "Epoch 02641 | Loss 0.0277 | train_RMSE 0.1403 | test_RMSE 0.1377 \n",
      "19929\n",
      "80921\n",
      "Epoch 02642 | Loss 0.0279 | train_RMSE 0.1410 | test_RMSE 0.1378 \n",
      "19929\n"
     ]
    },
    {
     "name": "stderr",
     "output_type": "stream",
     "text": [
      "\r",
      " 88%|██████████████████████████████████▍    | 2645/3000 [04:05<00:33, 10.74it/s]"
     ]
    },
    {
     "name": "stdout",
     "output_type": "stream",
     "text": [
      "80921\n",
      "Epoch 02643 | Loss 0.0280 | train_RMSE 0.1396 | test_RMSE 0.1370 \n",
      "19929\n",
      "80921\n",
      "Epoch 02644 | Loss 0.0280 | train_RMSE 0.1424 | test_RMSE 0.1393 \n",
      "19929\n",
      "80921\n",
      "Epoch 02645 | Loss 0.0282 | train_RMSE 0.1402 | test_RMSE 0.1377 \n"
     ]
    },
    {
     "name": "stderr",
     "output_type": "stream",
     "text": [
      "\r",
      " 88%|██████████████████████████████████▍    | 2647/3000 [04:05<00:32, 10.74it/s]"
     ]
    },
    {
     "name": "stdout",
     "output_type": "stream",
     "text": [
      "19929\n",
      "80921\n",
      "Epoch 02646 | Loss 0.0282 | train_RMSE 0.1403 | test_RMSE 0.1372 \n",
      "19929\n",
      "80921\n",
      "Epoch 02647 | Loss 0.0280 | train_RMSE 0.1401 | test_RMSE 0.1372 \n",
      "19929\n"
     ]
    },
    {
     "name": "stderr",
     "output_type": "stream",
     "text": [
      " 88%|██████████████████████████████████▍    | 2651/3000 [04:05<00:32, 10.73it/s]"
     ]
    },
    {
     "name": "stdout",
     "output_type": "stream",
     "text": [
      "80921\n",
      "Epoch 02648 | Loss 0.0281 | train_RMSE 0.1396 | test_RMSE 0.1365 \n",
      "19929\n",
      "80921\n",
      "Epoch 02649 | Loss 0.0277 | train_RMSE 0.1370 | test_RMSE 0.1343 \n",
      "19929\n",
      "80921\n",
      "Epoch 02650 | Loss 0.0275 | train_RMSE 0.1375 | test_RMSE 0.1346 \n"
     ]
    },
    {
     "name": "stderr",
     "output_type": "stream",
     "text": [
      "\r",
      " 88%|██████████████████████████████████▍    | 2653/3000 [04:05<00:32, 10.73it/s]"
     ]
    },
    {
     "name": "stdout",
     "output_type": "stream",
     "text": [
      "19929\n",
      "80921\n",
      "Epoch 02651 | Loss 0.0273 | train_RMSE 0.1393 | test_RMSE 0.1362 \n",
      "19929\n",
      "80921\n",
      "Epoch 02652 | Loss 0.0275 | train_RMSE 0.1382 | test_RMSE 0.1355 \n",
      "19929\n"
     ]
    },
    {
     "name": "stderr",
     "output_type": "stream",
     "text": [
      "\r",
      " 88%|██████████████████████████████████▌    | 2655/3000 [04:05<00:32, 10.74it/s]"
     ]
    },
    {
     "name": "stdout",
     "output_type": "stream",
     "text": [
      "80921\n",
      "Epoch 02653 | Loss 0.0276 | train_RMSE 0.1394 | test_RMSE 0.1364 \n",
      "19929\n",
      "80921\n",
      "Epoch 02654 | Loss 0.0277 | train_RMSE 0.1390 | test_RMSE 0.1363 \n",
      "19929\n",
      "80921\n",
      "Epoch 02655 | Loss 0.0277 | train_RMSE 0.1408 | test_RMSE 0.1375 \n"
     ]
    },
    {
     "name": "stderr",
     "output_type": "stream",
     "text": [
      "\r",
      " 89%|██████████████████████████████████▌    | 2657/3000 [04:06<00:31, 10.75it/s]"
     ]
    },
    {
     "name": "stdout",
     "output_type": "stream",
     "text": [
      "19929\n",
      "80921\n",
      "Epoch 02656 | Loss 0.0278 | train_RMSE 0.1384 | test_RMSE 0.1357 \n",
      "19929\n",
      "80921\n",
      "Epoch 02657 | Loss 0.0277 | train_RMSE 0.1383 | test_RMSE 0.1353 \n",
      "19929\n"
     ]
    },
    {
     "name": "stderr",
     "output_type": "stream",
     "text": [
      " 89%|██████████████████████████████████▌    | 2661/3000 [04:06<00:31, 10.76it/s]"
     ]
    },
    {
     "name": "stdout",
     "output_type": "stream",
     "text": [
      "80921\n",
      "Epoch 02658 | Loss 0.0277 | train_RMSE 0.1379 | test_RMSE 0.1352 \n",
      "19929\n",
      "80921\n",
      "Epoch 02659 | Loss 0.0273 | train_RMSE 0.1389 | test_RMSE 0.1358 \n",
      "19929\n",
      "80921\n",
      "Epoch 02660 | Loss 0.0275 | train_RMSE 0.1372 | test_RMSE 0.1342 \n"
     ]
    },
    {
     "name": "stderr",
     "output_type": "stream",
     "text": [
      "\r",
      " 89%|██████████████████████████████████▌    | 2663/3000 [04:06<00:31, 10.74it/s]"
     ]
    },
    {
     "name": "stdout",
     "output_type": "stream",
     "text": [
      "19929\n",
      "80921\n",
      "Epoch 02661 | Loss 0.0274 | train_RMSE 0.1368 | test_RMSE 0.1339 \n",
      "19929\n",
      "80921\n",
      "Epoch 02662 | Loss 0.0274 | train_RMSE 0.1389 | test_RMSE 0.1359 \n",
      "19929\n"
     ]
    },
    {
     "name": "stderr",
     "output_type": "stream",
     "text": [
      "\r",
      " 89%|██████████████████████████████████▋    | 2665/3000 [04:06<00:31, 10.75it/s]"
     ]
    },
    {
     "name": "stdout",
     "output_type": "stream",
     "text": [
      "80921\n",
      "Epoch 02663 | Loss 0.0273 | train_RMSE 0.1389 | test_RMSE 0.1359 \n",
      "19929\n",
      "80921\n",
      "Epoch 02664 | Loss 0.0274 | train_RMSE 0.1376 | test_RMSE 0.1345 \n",
      "19929\n",
      "80921\n",
      "Epoch 02665 | Loss 0.0273 | train_RMSE 0.1376 | test_RMSE 0.1348 \n"
     ]
    },
    {
     "name": "stderr",
     "output_type": "stream",
     "text": [
      "\r",
      " 89%|██████████████████████████████████▋    | 2667/3000 [04:07<00:30, 10.75it/s]"
     ]
    },
    {
     "name": "stdout",
     "output_type": "stream",
     "text": [
      "19929\n",
      "80921\n",
      "Epoch 02666 | Loss 0.0273 | train_RMSE 0.1403 | test_RMSE 0.1371 \n",
      "19929\n",
      "80921\n",
      "Epoch 02667 | Loss 0.0277 | train_RMSE 0.1387 | test_RMSE 0.1361 \n",
      "19929\n"
     ]
    },
    {
     "name": "stderr",
     "output_type": "stream",
     "text": [
      " 89%|██████████████████████████████████▋    | 2671/3000 [04:07<00:30, 10.76it/s]"
     ]
    },
    {
     "name": "stdout",
     "output_type": "stream",
     "text": [
      "80921\n",
      "Epoch 02668 | Loss 0.0279 | train_RMSE 0.1389 | test_RMSE 0.1357 \n",
      "19929\n",
      "80921\n",
      "Epoch 02669 | Loss 0.0279 | train_RMSE 0.1376 | test_RMSE 0.1348 \n",
      "19929\n",
      "80921\n",
      "Epoch 02670 | Loss 0.0277 | train_RMSE 0.1391 | test_RMSE 0.1360 \n"
     ]
    },
    {
     "name": "stderr",
     "output_type": "stream",
     "text": [
      "\r",
      " 89%|██████████████████████████████████▋    | 2673/3000 [04:07<00:30, 10.75it/s]"
     ]
    },
    {
     "name": "stdout",
     "output_type": "stream",
     "text": [
      "19929\n",
      "80921\n",
      "Epoch 02671 | Loss 0.0275 | train_RMSE 0.1377 | test_RMSE 0.1350 \n",
      "19929\n",
      "80921\n",
      "Epoch 02672 | Loss 0.0273 | train_RMSE 0.1372 | test_RMSE 0.1342 \n",
      "19929\n"
     ]
    },
    {
     "name": "stderr",
     "output_type": "stream",
     "text": [
      "\r",
      " 89%|██████████████████████████████████▊    | 2675/3000 [04:07<00:30, 10.74it/s]"
     ]
    },
    {
     "name": "stdout",
     "output_type": "stream",
     "text": [
      "80921\n",
      "Epoch 02673 | Loss 0.0272 | train_RMSE 0.1371 | test_RMSE 0.1341 \n",
      "19929\n",
      "80921\n",
      "Epoch 02674 | Loss 0.0272 | train_RMSE 0.1375 | test_RMSE 0.1346 \n",
      "19929\n",
      "80921\n",
      "Epoch 02675 | Loss 0.0272 | train_RMSE 0.1376 | test_RMSE 0.1347 \n"
     ]
    },
    {
     "name": "stderr",
     "output_type": "stream",
     "text": [
      "\r",
      " 89%|██████████████████████████████████▊    | 2677/3000 [04:08<00:30, 10.74it/s]"
     ]
    },
    {
     "name": "stdout",
     "output_type": "stream",
     "text": [
      "19929\n",
      "80921\n",
      "Epoch 02676 | Loss 0.0271 | train_RMSE 0.1369 | test_RMSE 0.1341 \n",
      "19929\n",
      "80921\n",
      "Epoch 02677 | Loss 0.0275 | train_RMSE 0.1376 | test_RMSE 0.1346 \n",
      "19929\n"
     ]
    },
    {
     "name": "stderr",
     "output_type": "stream",
     "text": [
      " 89%|██████████████████████████████████▊    | 2681/3000 [04:08<00:29, 10.76it/s]"
     ]
    },
    {
     "name": "stdout",
     "output_type": "stream",
     "text": [
      "80921\n",
      "Epoch 02678 | Loss 0.0272 | train_RMSE 0.1377 | test_RMSE 0.1348 \n",
      "19929\n",
      "80921\n",
      "Epoch 02679 | Loss 0.0272 | train_RMSE 0.1376 | test_RMSE 0.1346 \n",
      "19929\n",
      "80921\n",
      "Epoch 02680 | Loss 0.0272 | train_RMSE 0.1369 | test_RMSE 0.1341 \n"
     ]
    },
    {
     "name": "stderr",
     "output_type": "stream",
     "text": [
      "\r",
      " 89%|██████████████████████████████████▉    | 2683/3000 [04:08<00:29, 10.75it/s]"
     ]
    },
    {
     "name": "stdout",
     "output_type": "stream",
     "text": [
      "19929\n",
      "80921\n",
      "Epoch 02681 | Loss 0.0271 | train_RMSE 0.1371 | test_RMSE 0.1341 \n",
      "19929\n",
      "80921\n",
      "Epoch 02682 | Loss 0.0270 | train_RMSE 0.1375 | test_RMSE 0.1346 \n",
      "19929\n"
     ]
    },
    {
     "name": "stderr",
     "output_type": "stream",
     "text": [
      "\r",
      " 90%|██████████████████████████████████▉    | 2685/3000 [04:08<00:29, 10.74it/s]"
     ]
    },
    {
     "name": "stdout",
     "output_type": "stream",
     "text": [
      "80921\n",
      "Epoch 02683 | Loss 0.0271 | train_RMSE 0.1370 | test_RMSE 0.1342 \n",
      "19929\n",
      "80921\n",
      "Epoch 02684 | Loss 0.0274 | train_RMSE 0.1372 | test_RMSE 0.1342 \n",
      "19929\n",
      "80921\n",
      "Epoch 02685 | Loss 0.0272 | train_RMSE 0.1378 | test_RMSE 0.1349 \n"
     ]
    },
    {
     "name": "stderr",
     "output_type": "stream",
     "text": [
      "\r",
      " 90%|██████████████████████████████████▉    | 2687/3000 [04:08<00:29, 10.74it/s]"
     ]
    },
    {
     "name": "stdout",
     "output_type": "stream",
     "text": [
      "19929\n",
      "80921\n",
      "Epoch 02686 | Loss 0.0273 | train_RMSE 0.1384 | test_RMSE 0.1353 \n",
      "19929\n",
      "80921\n",
      "Epoch 02687 | Loss 0.0272 | train_RMSE 0.1372 | test_RMSE 0.1345 \n",
      "19929\n"
     ]
    },
    {
     "name": "stderr",
     "output_type": "stream",
     "text": [
      " 90%|██████████████████████████████████▉    | 2691/3000 [04:09<00:28, 10.75it/s]"
     ]
    },
    {
     "name": "stdout",
     "output_type": "stream",
     "text": [
      "80921\n",
      "Epoch 02688 | Loss 0.0275 | train_RMSE 0.1387 | test_RMSE 0.1356 \n",
      "19929\n",
      "80921\n",
      "Epoch 02689 | Loss 0.0274 | train_RMSE 0.1391 | test_RMSE 0.1363 \n",
      "19929\n",
      "80921\n",
      "Epoch 02690 | Loss 0.0275 | train_RMSE 0.1388 | test_RMSE 0.1357 \n"
     ]
    },
    {
     "name": "stderr",
     "output_type": "stream",
     "text": [
      "\r",
      " 90%|███████████████████████████████████    | 2693/3000 [04:09<00:28, 10.75it/s]"
     ]
    },
    {
     "name": "stdout",
     "output_type": "stream",
     "text": [
      "19929\n",
      "80921\n",
      "Epoch 02691 | Loss 0.0273 | train_RMSE 0.1372 | test_RMSE 0.1345 \n",
      "19929\n",
      "80921\n",
      "Epoch 02692 | Loss 0.0278 | train_RMSE 0.1392 | test_RMSE 0.1361 \n",
      "19929\n"
     ]
    },
    {
     "name": "stderr",
     "output_type": "stream",
     "text": [
      "\r",
      " 90%|███████████████████████████████████    | 2695/3000 [04:09<00:28, 10.75it/s]"
     ]
    },
    {
     "name": "stdout",
     "output_type": "stream",
     "text": [
      "80921\n",
      "Epoch 02693 | Loss 0.0274 | train_RMSE 0.1388 | test_RMSE 0.1359 \n",
      "19929\n",
      "80921\n",
      "Epoch 02694 | Loss 0.0271 | train_RMSE 0.1369 | test_RMSE 0.1339 \n",
      "19929\n",
      "80921\n",
      "Epoch 02695 | Loss 0.0274 | train_RMSE 0.1370 | test_RMSE 0.1340 \n"
     ]
    },
    {
     "name": "stderr",
     "output_type": "stream",
     "text": [
      "\r",
      " 90%|███████████████████████████████████    | 2697/3000 [04:09<00:28, 10.76it/s]"
     ]
    },
    {
     "name": "stdout",
     "output_type": "stream",
     "text": [
      "19929\n",
      "80921\n",
      "Epoch 02696 | Loss 0.0273 | train_RMSE 0.1388 | test_RMSE 0.1360 \n",
      "19929\n",
      "80921\n",
      "Epoch 02697 | Loss 0.0276 | train_RMSE 0.1395 | test_RMSE 0.1364 \n",
      "19929\n"
     ]
    },
    {
     "name": "stderr",
     "output_type": "stream",
     "text": [
      " 90%|███████████████████████████████████    | 2701/3000 [04:10<00:27, 10.77it/s]"
     ]
    },
    {
     "name": "stdout",
     "output_type": "stream",
     "text": [
      "80921\n",
      "Epoch 02698 | Loss 0.0273 | train_RMSE 0.1385 | test_RMSE 0.1360 \n",
      "19929\n",
      "80921\n",
      "Epoch 02699 | Loss 0.0278 | train_RMSE 0.1418 | test_RMSE 0.1386 \n",
      "19929\n",
      "80921\n",
      "Epoch 02700 | Loss 0.0284 | train_RMSE 0.1435 | test_RMSE 0.1410 \n"
     ]
    },
    {
     "name": "stderr",
     "output_type": "stream",
     "text": [
      "\r",
      " 90%|███████████████████████████████████▏   | 2703/3000 [04:10<00:27, 10.80it/s]"
     ]
    },
    {
     "name": "stdout",
     "output_type": "stream",
     "text": [
      "19929\n",
      "80921\n",
      "Epoch 02701 | Loss 0.0288 | train_RMSE 0.1481 | test_RMSE 0.1447 \n",
      "19929\n",
      "80921\n",
      "Epoch 02702 | Loss 0.0301 | train_RMSE 0.1453 | test_RMSE 0.1431 \n",
      "19929\n"
     ]
    },
    {
     "name": "stderr",
     "output_type": "stream",
     "text": [
      "\r",
      " 90%|███████████████████████████████████▏   | 2705/3000 [04:10<00:27, 10.82it/s]"
     ]
    },
    {
     "name": "stdout",
     "output_type": "stream",
     "text": [
      "80921\n",
      "Epoch 02703 | Loss 0.0299 | train_RMSE 0.1501 | test_RMSE 0.1468 \n",
      "19929\n",
      "80921\n",
      "Epoch 02704 | Loss 0.0305 | train_RMSE 0.1467 | test_RMSE 0.1443 \n",
      "19929\n",
      "80921\n",
      "Epoch 02705 | Loss 0.0298 | train_RMSE 0.1453 | test_RMSE 0.1419 \n"
     ]
    },
    {
     "name": "stderr",
     "output_type": "stream",
     "text": [
      "\r",
      " 90%|███████████████████████████████████▏   | 2707/3000 [04:10<00:27, 10.84it/s]"
     ]
    },
    {
     "name": "stdout",
     "output_type": "stream",
     "text": [
      "19929\n",
      "80921\n",
      "Epoch 02706 | Loss 0.0290 | train_RMSE 0.1384 | test_RMSE 0.1358 \n",
      "19929\n",
      "80921\n",
      "Epoch 02707 | Loss 0.0280 | train_RMSE 0.1374 | test_RMSE 0.1347 \n",
      "19929\n"
     ]
    },
    {
     "name": "stderr",
     "output_type": "stream",
     "text": [
      " 90%|███████████████████████████████████▏   | 2711/3000 [04:11<00:26, 10.85it/s]"
     ]
    },
    {
     "name": "stdout",
     "output_type": "stream",
     "text": [
      "80921\n",
      "Epoch 02708 | Loss 0.0271 | train_RMSE 0.1412 | test_RMSE 0.1381 \n",
      "19929\n",
      "80921\n",
      "Epoch 02709 | Loss 0.0279 | train_RMSE 0.1405 | test_RMSE 0.1379 \n",
      "19929\n",
      "80921\n",
      "Epoch 02710 | Loss 0.0280 | train_RMSE 0.1417 | test_RMSE 0.1385 \n"
     ]
    },
    {
     "name": "stderr",
     "output_type": "stream",
     "text": [
      "\r",
      " 90%|███████████████████████████████████▎   | 2713/3000 [04:11<00:26, 10.86it/s]"
     ]
    },
    {
     "name": "stdout",
     "output_type": "stream",
     "text": [
      "19929\n",
      "80921\n",
      "Epoch 02711 | Loss 0.0282 | train_RMSE 0.1402 | test_RMSE 0.1375 \n",
      "19929\n",
      "80921\n",
      "Epoch 02712 | Loss 0.0280 | train_RMSE 0.1392 | test_RMSE 0.1361 \n",
      "19929\n"
     ]
    },
    {
     "name": "stderr",
     "output_type": "stream",
     "text": [
      "\r",
      " 90%|███████████████████████████████████▎   | 2715/3000 [04:11<00:26, 10.87it/s]"
     ]
    },
    {
     "name": "stdout",
     "output_type": "stream",
     "text": [
      "80921\n",
      "Epoch 02713 | Loss 0.0273 | train_RMSE 0.1376 | test_RMSE 0.1347 \n",
      "19929\n",
      "80921\n",
      "Epoch 02714 | Loss 0.0280 | train_RMSE 0.1387 | test_RMSE 0.1361 \n",
      "19929\n",
      "80921\n",
      "Epoch 02715 | Loss 0.0275 | train_RMSE 0.1435 | test_RMSE 0.1402 \n"
     ]
    },
    {
     "name": "stderr",
     "output_type": "stream",
     "text": [
      "\r",
      " 91%|███████████████████████████████████▎   | 2717/3000 [04:11<00:25, 10.90it/s]"
     ]
    },
    {
     "name": "stdout",
     "output_type": "stream",
     "text": [
      "19929\n",
      "80921\n",
      "Epoch 02716 | Loss 0.0283 | train_RMSE 0.1384 | test_RMSE 0.1357 \n",
      "19929\n",
      "80921\n",
      "Epoch 02717 | Loss 0.0278 | train_RMSE 0.1378 | test_RMSE 0.1348 \n",
      "19929\n"
     ]
    },
    {
     "name": "stderr",
     "output_type": "stream",
     "text": [
      " 91%|███████████████████████████████████▎   | 2721/3000 [04:12<00:25, 10.93it/s]"
     ]
    },
    {
     "name": "stdout",
     "output_type": "stream",
     "text": [
      "80921\n",
      "Epoch 02718 | Loss 0.0277 | train_RMSE 0.1386 | test_RMSE 0.1357 \n",
      "19929\n",
      "80921\n",
      "Epoch 02719 | Loss 0.0273 | train_RMSE 0.1386 | test_RMSE 0.1360 \n",
      "19929\n",
      "80921\n",
      "Epoch 02720 | Loss 0.0276 | train_RMSE 0.1386 | test_RMSE 0.1355 \n"
     ]
    },
    {
     "name": "stderr",
     "output_type": "stream",
     "text": [
      "\r",
      " 91%|███████████████████████████████████▍   | 2723/3000 [04:12<00:25, 10.93it/s]"
     ]
    },
    {
     "name": "stdout",
     "output_type": "stream",
     "text": [
      "19929\n",
      "80921\n",
      "Epoch 02721 | Loss 0.0275 | train_RMSE 0.1379 | test_RMSE 0.1351 \n",
      "19929\n",
      "80921\n",
      "Epoch 02722 | Loss 0.0273 | train_RMSE 0.1381 | test_RMSE 0.1350 \n",
      "19929\n"
     ]
    },
    {
     "name": "stderr",
     "output_type": "stream",
     "text": [
      "\r",
      " 91%|███████████████████████████████████▍   | 2725/3000 [04:12<00:25, 10.91it/s]"
     ]
    },
    {
     "name": "stdout",
     "output_type": "stream",
     "text": [
      "80921\n",
      "Epoch 02723 | Loss 0.0273 | train_RMSE 0.1378 | test_RMSE 0.1349 \n",
      "19929\n",
      "80921\n",
      "Epoch 02724 | Loss 0.0273 | train_RMSE 0.1372 | test_RMSE 0.1343 \n",
      "19929\n",
      "80921\n",
      "Epoch 02725 | Loss 0.0273 | train_RMSE 0.1379 | test_RMSE 0.1348 \n"
     ]
    },
    {
     "name": "stderr",
     "output_type": "stream",
     "text": [
      "\r",
      " 91%|███████████████████████████████████▍   | 2727/3000 [04:12<00:25, 10.88it/s]"
     ]
    },
    {
     "name": "stdout",
     "output_type": "stream",
     "text": [
      "19929\n",
      "80921\n",
      "Epoch 02726 | Loss 0.0274 | train_RMSE 0.1374 | test_RMSE 0.1346 \n",
      "19929\n",
      "80921\n",
      "Epoch 02727 | Loss 0.0272 | train_RMSE 0.1374 | test_RMSE 0.1345 \n",
      "19929\n"
     ]
    },
    {
     "name": "stderr",
     "output_type": "stream",
     "text": [
      " 91%|███████████████████████████████████▌   | 2731/3000 [04:12<00:24, 10.84it/s]"
     ]
    },
    {
     "name": "stdout",
     "output_type": "stream",
     "text": [
      "80921\n",
      "Epoch 02728 | Loss 0.0271 | train_RMSE 0.1372 | test_RMSE 0.1343 \n",
      "19929\n",
      "80921\n",
      "Epoch 02729 | Loss 0.0273 | train_RMSE 0.1375 | test_RMSE 0.1346 \n",
      "19929\n",
      "80921\n",
      "Epoch 02730 | Loss 0.0272 | train_RMSE 0.1375 | test_RMSE 0.1345 \n"
     ]
    },
    {
     "name": "stderr",
     "output_type": "stream",
     "text": [
      "\r",
      " 91%|███████████████████████████████████▌   | 2733/3000 [04:13<00:24, 10.84it/s]"
     ]
    },
    {
     "name": "stdout",
     "output_type": "stream",
     "text": [
      "19929\n",
      "80921\n",
      "Epoch 02731 | Loss 0.0271 | train_RMSE 0.1378 | test_RMSE 0.1349 \n",
      "19929\n",
      "80921\n",
      "Epoch 02732 | Loss 0.0272 | train_RMSE 0.1378 | test_RMSE 0.1348 \n",
      "19929\n"
     ]
    },
    {
     "name": "stderr",
     "output_type": "stream",
     "text": [
      "\r",
      " 91%|███████████████████████████████████▌   | 2735/3000 [04:13<00:24, 10.82it/s]"
     ]
    },
    {
     "name": "stdout",
     "output_type": "stream",
     "text": [
      "80921\n",
      "Epoch 02733 | Loss 0.0275 | train_RMSE 0.1369 | test_RMSE 0.1341 \n",
      "19929\n",
      "80921\n",
      "Epoch 02734 | Loss 0.0272 | train_RMSE 0.1374 | test_RMSE 0.1345 \n",
      "19929\n",
      "80921\n",
      "Epoch 02735 | Loss 0.0273 | train_RMSE 0.1379 | test_RMSE 0.1348 \n"
     ]
    },
    {
     "name": "stderr",
     "output_type": "stream",
     "text": [
      "\r",
      " 91%|███████████████████████████████████▌   | 2737/3000 [04:13<00:24, 10.82it/s]"
     ]
    },
    {
     "name": "stdout",
     "output_type": "stream",
     "text": [
      "19929\n",
      "80921\n",
      "Epoch 02736 | Loss 0.0273 | train_RMSE 0.1372 | test_RMSE 0.1344 \n",
      "19929\n",
      "80921\n",
      "Epoch 02737 | Loss 0.0271 | train_RMSE 0.1379 | test_RMSE 0.1348 \n",
      "19929\n"
     ]
    },
    {
     "name": "stderr",
     "output_type": "stream",
     "text": [
      " 91%|███████████████████████████████████▋   | 2741/3000 [04:13<00:23, 10.83it/s]"
     ]
    },
    {
     "name": "stdout",
     "output_type": "stream",
     "text": [
      "80921\n",
      "Epoch 02738 | Loss 0.0274 | train_RMSE 0.1374 | test_RMSE 0.1346 \n",
      "19929\n",
      "80921\n",
      "Epoch 02739 | Loss 0.0275 | train_RMSE 0.1373 | test_RMSE 0.1344 \n",
      "19929\n",
      "80921\n",
      "Epoch 02740 | Loss 0.0270 | train_RMSE 0.1373 | test_RMSE 0.1344 \n"
     ]
    },
    {
     "name": "stderr",
     "output_type": "stream",
     "text": [
      "\r",
      " 91%|███████████████████████████████████▋   | 2743/3000 [04:14<00:23, 10.81it/s]"
     ]
    },
    {
     "name": "stdout",
     "output_type": "stream",
     "text": [
      "19929\n",
      "80921\n",
      "Epoch 02741 | Loss 0.0269 | train_RMSE 0.1368 | test_RMSE 0.1339 \n",
      "19929\n",
      "80921\n",
      "Epoch 02742 | Loss 0.0272 | train_RMSE 0.1373 | test_RMSE 0.1343 \n",
      "19929\n"
     ]
    },
    {
     "name": "stderr",
     "output_type": "stream",
     "text": [
      "\r",
      " 92%|███████████████████████████████████▋   | 2745/3000 [04:14<00:23, 10.83it/s]"
     ]
    },
    {
     "name": "stdout",
     "output_type": "stream",
     "text": [
      "80921\n",
      "Epoch 02743 | Loss 0.0269 | train_RMSE 0.1380 | test_RMSE 0.1351 \n",
      "19929\n",
      "80921\n",
      "Epoch 02744 | Loss 0.0273 | train_RMSE 0.1373 | test_RMSE 0.1344 \n",
      "19929\n",
      "80921\n",
      "Epoch 02745 | Loss 0.0269 | train_RMSE 0.1370 | test_RMSE 0.1341 \n"
     ]
    },
    {
     "name": "stderr",
     "output_type": "stream",
     "text": [
      "\r",
      " 92%|███████████████████████████████████▋   | 2747/3000 [04:14<00:23, 10.78it/s]"
     ]
    },
    {
     "name": "stdout",
     "output_type": "stream",
     "text": [
      "19929\n",
      "80921\n",
      "Epoch 02746 | Loss 0.0270 | train_RMSE 0.1369 | test_RMSE 0.1341 \n",
      "19929\n",
      "80921\n",
      "Epoch 02747 | Loss 0.0272 | train_RMSE 0.1386 | test_RMSE 0.1355 \n",
      "19929\n"
     ]
    },
    {
     "name": "stderr",
     "output_type": "stream",
     "text": [
      " 92%|███████████████████████████████████▊   | 2751/3000 [04:14<00:23, 10.81it/s]"
     ]
    },
    {
     "name": "stdout",
     "output_type": "stream",
     "text": [
      "80921\n",
      "Epoch 02748 | Loss 0.0272 | train_RMSE 0.1375 | test_RMSE 0.1346 \n",
      "19929\n",
      "80921\n",
      "Epoch 02749 | Loss 0.0272 | train_RMSE 0.1369 | test_RMSE 0.1339 \n",
      "19929\n",
      "80921\n",
      "Epoch 02750 | Loss 0.0274 | train_RMSE 0.1374 | test_RMSE 0.1345 \n"
     ]
    },
    {
     "name": "stderr",
     "output_type": "stream",
     "text": [
      "\r",
      " 92%|███████████████████████████████████▊   | 2753/3000 [04:15<00:22, 10.82it/s]"
     ]
    },
    {
     "name": "stdout",
     "output_type": "stream",
     "text": [
      "19929\n",
      "80921\n",
      "Epoch 02751 | Loss 0.0271 | train_RMSE 0.1379 | test_RMSE 0.1350 \n",
      "19929\n",
      "80921\n",
      "Epoch 02752 | Loss 0.0274 | train_RMSE 0.1371 | test_RMSE 0.1342 \n",
      "19929\n"
     ]
    },
    {
     "name": "stderr",
     "output_type": "stream",
     "text": [
      "\r",
      " 92%|███████████████████████████████████▊   | 2755/3000 [04:15<00:22, 10.85it/s]"
     ]
    },
    {
     "name": "stdout",
     "output_type": "stream",
     "text": [
      "80921\n",
      "Epoch 02753 | Loss 0.0269 | train_RMSE 0.1368 | test_RMSE 0.1339 \n",
      "19929\n",
      "80921\n",
      "Epoch 02754 | Loss 0.0273 | train_RMSE 0.1376 | test_RMSE 0.1346 \n",
      "19929\n",
      "80921\n",
      "Epoch 02755 | Loss 0.0273 | train_RMSE 0.1375 | test_RMSE 0.1346 \n"
     ]
    },
    {
     "name": "stderr",
     "output_type": "stream",
     "text": [
      "\r",
      " 92%|███████████████████████████████████▊   | 2757/3000 [04:15<00:22, 10.85it/s]"
     ]
    },
    {
     "name": "stdout",
     "output_type": "stream",
     "text": [
      "19929\n",
      "80921\n",
      "Epoch 02756 | Loss 0.0275 | train_RMSE 0.1370 | test_RMSE 0.1341 \n",
      "19929\n",
      "80921\n",
      "Epoch 02757 | Loss 0.0269 | train_RMSE 0.1372 | test_RMSE 0.1343 \n",
      "19929\n"
     ]
    },
    {
     "name": "stderr",
     "output_type": "stream",
     "text": [
      " 92%|███████████████████████████████████▉   | 2761/3000 [04:15<00:21, 10.89it/s]"
     ]
    },
    {
     "name": "stdout",
     "output_type": "stream",
     "text": [
      "80921\n",
      "Epoch 02758 | Loss 0.0271 | train_RMSE 0.1377 | test_RMSE 0.1347 \n",
      "19929\n",
      "80921\n",
      "Epoch 02759 | Loss 0.0272 | train_RMSE 0.1370 | test_RMSE 0.1341 \n",
      "19929\n",
      "80921\n",
      "Epoch 02760 | Loss 0.0273 | train_RMSE 0.1370 | test_RMSE 0.1339 \n"
     ]
    },
    {
     "name": "stderr",
     "output_type": "stream",
     "text": [
      "\r",
      " 92%|███████████████████████████████████▉   | 2763/3000 [04:15<00:21, 10.91it/s]"
     ]
    },
    {
     "name": "stdout",
     "output_type": "stream",
     "text": [
      "19929\n",
      "80921\n",
      "Epoch 02761 | Loss 0.0272 | train_RMSE 0.1375 | test_RMSE 0.1344 \n",
      "19929\n",
      "80921\n",
      "Epoch 02762 | Loss 0.0270 | train_RMSE 0.1375 | test_RMSE 0.1345 \n",
      "19929\n"
     ]
    },
    {
     "name": "stderr",
     "output_type": "stream",
     "text": [
      "\r",
      " 92%|███████████████████████████████████▉   | 2765/3000 [04:16<00:21, 10.90it/s]"
     ]
    },
    {
     "name": "stdout",
     "output_type": "stream",
     "text": [
      "80921\n",
      "Epoch 02763 | Loss 0.0273 | train_RMSE 0.1368 | test_RMSE 0.1339 \n",
      "19929\n",
      "80921\n",
      "Epoch 02764 | Loss 0.0271 | train_RMSE 0.1372 | test_RMSE 0.1343 \n",
      "19929\n",
      "80921\n",
      "Epoch 02765 | Loss 0.0272 | train_RMSE 0.1381 | test_RMSE 0.1351 \n"
     ]
    },
    {
     "name": "stderr",
     "output_type": "stream",
     "text": [
      "\r",
      " 92%|███████████████████████████████████▉   | 2767/3000 [04:16<00:21, 10.89it/s]"
     ]
    },
    {
     "name": "stdout",
     "output_type": "stream",
     "text": [
      "19929\n",
      "80921\n",
      "Epoch 02766 | Loss 0.0274 | train_RMSE 0.1370 | test_RMSE 0.1341 \n",
      "19929\n",
      "80921\n",
      "Epoch 02767 | Loss 0.0274 | train_RMSE 0.1367 | test_RMSE 0.1338 \n",
      "19929\n"
     ]
    },
    {
     "name": "stderr",
     "output_type": "stream",
     "text": [
      " 92%|████████████████████████████████████   | 2771/3000 [04:16<00:21, 10.88it/s]"
     ]
    },
    {
     "name": "stdout",
     "output_type": "stream",
     "text": [
      "80921\n",
      "Epoch 02768 | Loss 0.0273 | train_RMSE 0.1377 | test_RMSE 0.1348 \n",
      "19929\n",
      "80921\n",
      "Epoch 02769 | Loss 0.0270 | train_RMSE 0.1374 | test_RMSE 0.1344 \n",
      "19929\n",
      "80921\n",
      "Epoch 02770 | Loss 0.0274 | train_RMSE 0.1370 | test_RMSE 0.1340 \n"
     ]
    },
    {
     "name": "stderr",
     "output_type": "stream",
     "text": [
      "\r",
      " 92%|████████████████████████████████████   | 2773/3000 [04:16<00:20, 10.90it/s]"
     ]
    },
    {
     "name": "stdout",
     "output_type": "stream",
     "text": [
      "19929\n",
      "80921\n",
      "Epoch 02771 | Loss 0.0272 | train_RMSE 0.1370 | test_RMSE 0.1341 \n",
      "19929\n",
      "80921\n",
      "Epoch 02772 | Loss 0.0272 | train_RMSE 0.1378 | test_RMSE 0.1347 \n",
      "19929\n"
     ]
    },
    {
     "name": "stderr",
     "output_type": "stream",
     "text": [
      "\r",
      " 92%|████████████████████████████████████   | 2775/3000 [04:17<00:20, 10.90it/s]"
     ]
    },
    {
     "name": "stdout",
     "output_type": "stream",
     "text": [
      "80921\n",
      "Epoch 02773 | Loss 0.0270 | train_RMSE 0.1377 | test_RMSE 0.1348 \n",
      "19929\n",
      "80921\n",
      "Epoch 02774 | Loss 0.0272 | train_RMSE 0.1381 | test_RMSE 0.1350 \n",
      "19929\n",
      "80921\n",
      "Epoch 02775 | Loss 0.0272 | train_RMSE 0.1383 | test_RMSE 0.1356 \n"
     ]
    },
    {
     "name": "stderr",
     "output_type": "stream",
     "text": [
      "\r",
      " 93%|████████████████████████████████████   | 2777/3000 [04:17<00:20, 10.90it/s]"
     ]
    },
    {
     "name": "stdout",
     "output_type": "stream",
     "text": [
      "19929\n",
      "80921\n",
      "Epoch 02776 | Loss 0.0273 | train_RMSE 0.1404 | test_RMSE 0.1372 \n",
      "19929\n",
      "80921\n",
      "Epoch 02777 | Loss 0.0280 | train_RMSE 0.1405 | test_RMSE 0.1380 \n",
      "19929\n"
     ]
    },
    {
     "name": "stderr",
     "output_type": "stream",
     "text": [
      " 93%|████████████████████████████████████▏  | 2781/3000 [04:17<00:20, 10.90it/s]"
     ]
    },
    {
     "name": "stdout",
     "output_type": "stream",
     "text": [
      "80921\n",
      "Epoch 02778 | Loss 0.0283 | train_RMSE 0.1443 | test_RMSE 0.1409 \n",
      "19929\n",
      "80921\n",
      "Epoch 02779 | Loss 0.0292 | train_RMSE 0.1448 | test_RMSE 0.1424 \n",
      "19929\n",
      "80921\n",
      "Epoch 02780 | Loss 0.0296 | train_RMSE 0.1504 | test_RMSE 0.1470 \n"
     ]
    },
    {
     "name": "stderr",
     "output_type": "stream",
     "text": [
      "\r",
      " 93%|████████████████████████████████████▏  | 2783/3000 [04:17<00:19, 10.89it/s]"
     ]
    },
    {
     "name": "stdout",
     "output_type": "stream",
     "text": [
      "19929\n",
      "80921\n",
      "Epoch 02781 | Loss 0.0307 | train_RMSE 0.1473 | test_RMSE 0.1451 \n",
      "19929\n",
      "80921\n",
      "Epoch 02782 | Loss 0.0303 | train_RMSE 0.1500 | test_RMSE 0.1466 \n",
      "19929\n"
     ]
    },
    {
     "name": "stderr",
     "output_type": "stream",
     "text": [
      "\r",
      " 93%|████████████████████████████████████▏  | 2785/3000 [04:17<00:19, 10.90it/s]"
     ]
    },
    {
     "name": "stdout",
     "output_type": "stream",
     "text": [
      "80921\n",
      "Epoch 02783 | Loss 0.0304 | train_RMSE 0.1421 | test_RMSE 0.1396 \n",
      "19929\n",
      "80921\n",
      "Epoch 02784 | Loss 0.0286 | train_RMSE 0.1389 | test_RMSE 0.1359 \n",
      "19929\n",
      "80921\n",
      "Epoch 02785 | Loss 0.0276 | train_RMSE 0.1376 | test_RMSE 0.1347 \n"
     ]
    },
    {
     "name": "stderr",
     "output_type": "stream",
     "text": [
      "\r",
      " 93%|████████████████████████████████████▏  | 2787/3000 [04:18<00:19, 10.90it/s]"
     ]
    },
    {
     "name": "stdout",
     "output_type": "stream",
     "text": [
      "19929\n",
      "80921\n",
      "Epoch 02786 | Loss 0.0270 | train_RMSE 0.1395 | test_RMSE 0.1369 \n",
      "19929\n",
      "80921\n",
      "Epoch 02787 | Loss 0.0276 | train_RMSE 0.1425 | test_RMSE 0.1391 \n",
      "19929\n"
     ]
    },
    {
     "name": "stderr",
     "output_type": "stream",
     "text": [
      " 93%|████████████████████████████████████▎  | 2791/3000 [04:18<00:19, 10.89it/s]"
     ]
    },
    {
     "name": "stdout",
     "output_type": "stream",
     "text": [
      "80921\n",
      "Epoch 02788 | Loss 0.0282 | train_RMSE 0.1401 | test_RMSE 0.1375 \n",
      "19929\n",
      "80921\n",
      "Epoch 02789 | Loss 0.0282 | train_RMSE 0.1394 | test_RMSE 0.1363 \n",
      "19929\n",
      "80921\n",
      "Epoch 02790 | Loss 0.0277 | train_RMSE 0.1373 | test_RMSE 0.1344 \n"
     ]
    },
    {
     "name": "stderr",
     "output_type": "stream",
     "text": [
      "\r",
      " 93%|████████████████████████████████████▎  | 2793/3000 [04:18<00:19, 10.88it/s]"
     ]
    },
    {
     "name": "stdout",
     "output_type": "stream",
     "text": [
      "19929\n",
      "80921\n",
      "Epoch 02791 | Loss 0.0270 | train_RMSE 0.1379 | test_RMSE 0.1351 \n",
      "19929\n",
      "80921\n",
      "Epoch 02792 | Loss 0.0275 | train_RMSE 0.1408 | test_RMSE 0.1375 \n",
      "19929\n"
     ]
    },
    {
     "name": "stderr",
     "output_type": "stream",
     "text": [
      "\r",
      " 93%|████████████████████████████████████▎  | 2795/3000 [04:18<00:18, 10.88it/s]"
     ]
    },
    {
     "name": "stdout",
     "output_type": "stream",
     "text": [
      "80921\n",
      "Epoch 02793 | Loss 0.0280 | train_RMSE 0.1390 | test_RMSE 0.1364 \n",
      "19929\n",
      "80921\n",
      "Epoch 02794 | Loss 0.0279 | train_RMSE 0.1382 | test_RMSE 0.1352 \n",
      "19929\n",
      "80921\n",
      "Epoch 02795 | Loss 0.0273 | train_RMSE 0.1372 | test_RMSE 0.1343 \n"
     ]
    },
    {
     "name": "stderr",
     "output_type": "stream",
     "text": [
      "\r",
      " 93%|████████████████████████████████████▎  | 2797/3000 [04:19<00:18, 10.88it/s]"
     ]
    },
    {
     "name": "stdout",
     "output_type": "stream",
     "text": [
      "19929\n",
      "80921\n",
      "Epoch 02796 | Loss 0.0271 | train_RMSE 0.1382 | test_RMSE 0.1354 \n",
      "19929\n",
      "80921\n",
      "Epoch 02797 | Loss 0.0274 | train_RMSE 0.1392 | test_RMSE 0.1361 \n",
      "19929\n"
     ]
    },
    {
     "name": "stderr",
     "output_type": "stream",
     "text": [
      " 93%|████████████████████████████████████▍  | 2801/3000 [04:19<00:18, 10.91it/s]"
     ]
    },
    {
     "name": "stdout",
     "output_type": "stream",
     "text": [
      "80921\n",
      "Epoch 02798 | Loss 0.0276 | train_RMSE 0.1386 | test_RMSE 0.1359 \n",
      "19929\n",
      "80921\n",
      "Epoch 02799 | Loss 0.0277 | train_RMSE 0.1385 | test_RMSE 0.1354 \n",
      "19929\n",
      "80921\n",
      "Epoch 02800 | Loss 0.0274 | train_RMSE 0.1372 | test_RMSE 0.1342 \n"
     ]
    },
    {
     "name": "stderr",
     "output_type": "stream",
     "text": [
      "\r",
      " 93%|████████████████████████████████████▍  | 2803/3000 [04:19<00:18, 10.91it/s]"
     ]
    },
    {
     "name": "stdout",
     "output_type": "stream",
     "text": [
      "19929\n",
      "80921\n",
      "Epoch 02801 | Loss 0.0271 | train_RMSE 0.1372 | test_RMSE 0.1344 \n",
      "19929\n",
      "80921\n",
      "Epoch 02802 | Loss 0.0274 | train_RMSE 0.1398 | test_RMSE 0.1366 \n",
      "19929\n"
     ]
    },
    {
     "name": "stderr",
     "output_type": "stream",
     "text": [
      "\r",
      " 94%|████████████████████████████████████▍  | 2805/3000 [04:19<00:17, 10.91it/s]"
     ]
    },
    {
     "name": "stdout",
     "output_type": "stream",
     "text": [
      "80921\n",
      "Epoch 02803 | Loss 0.0277 | train_RMSE 0.1387 | test_RMSE 0.1359 \n",
      "19929\n",
      "80921\n",
      "Epoch 02804 | Loss 0.0275 | train_RMSE 0.1376 | test_RMSE 0.1346 \n",
      "19929\n",
      "80921\n",
      "Epoch 02805 | Loss 0.0277 | train_RMSE 0.1376 | test_RMSE 0.1348 \n"
     ]
    },
    {
     "name": "stderr",
     "output_type": "stream",
     "text": [
      "\r",
      " 94%|████████████████████████████████████▍  | 2807/3000 [04:19<00:17, 10.92it/s]"
     ]
    },
    {
     "name": "stdout",
     "output_type": "stream",
     "text": [
      "19929\n",
      "80921\n",
      "Epoch 02806 | Loss 0.0275 | train_RMSE 0.1384 | test_RMSE 0.1354 \n",
      "19929\n",
      "80921\n",
      "Epoch 02807 | Loss 0.0272 | train_RMSE 0.1371 | test_RMSE 0.1341 \n",
      "19929\n"
     ]
    },
    {
     "name": "stderr",
     "output_type": "stream",
     "text": [
      " 94%|████████████████████████████████████▌  | 2811/3000 [04:20<00:17, 10.87it/s]"
     ]
    },
    {
     "name": "stdout",
     "output_type": "stream",
     "text": [
      "80921\n",
      "Epoch 02808 | Loss 0.0271 | train_RMSE 0.1369 | test_RMSE 0.1341 \n",
      "19929\n",
      "80921\n",
      "Epoch 02809 | Loss 0.0273 | train_RMSE 0.1385 | test_RMSE 0.1354 \n",
      "19929\n",
      "80921\n",
      "Epoch 02810 | Loss 0.0272 | train_RMSE 0.1375 | test_RMSE 0.1346 \n"
     ]
    },
    {
     "name": "stderr",
     "output_type": "stream",
     "text": [
      "\r",
      " 94%|████████████████████████████████████▌  | 2813/3000 [04:20<00:17, 10.87it/s]"
     ]
    },
    {
     "name": "stdout",
     "output_type": "stream",
     "text": [
      "19929\n",
      "80921\n",
      "Epoch 02811 | Loss 0.0273 | train_RMSE 0.1368 | test_RMSE 0.1339 \n",
      "19929\n",
      "80921\n",
      "Epoch 02812 | Loss 0.0273 | train_RMSE 0.1378 | test_RMSE 0.1349 \n",
      "19929\n"
     ]
    },
    {
     "name": "stderr",
     "output_type": "stream",
     "text": [
      "\r",
      " 94%|████████████████████████████████████▌  | 2815/3000 [04:20<00:17, 10.84it/s]"
     ]
    },
    {
     "name": "stdout",
     "output_type": "stream",
     "text": [
      "80921\n",
      "Epoch 02813 | Loss 0.0268 | train_RMSE 0.1372 | test_RMSE 0.1343 \n",
      "19929\n",
      "80921\n",
      "Epoch 02814 | Loss 0.0272 | train_RMSE 0.1375 | test_RMSE 0.1345 \n",
      "19929\n",
      "80921\n",
      "Epoch 02815 | Loss 0.0272 | train_RMSE 0.1383 | test_RMSE 0.1354 \n"
     ]
    },
    {
     "name": "stderr",
     "output_type": "stream",
     "text": [
      "\r",
      " 94%|████████████████████████████████████▌  | 2817/3000 [04:20<00:16, 10.84it/s]"
     ]
    },
    {
     "name": "stdout",
     "output_type": "stream",
     "text": [
      "19929\n",
      "80921\n",
      "Epoch 02816 | Loss 0.0272 | train_RMSE 0.1374 | test_RMSE 0.1344 \n",
      "19929\n",
      "80921\n",
      "Epoch 02817 | Loss 0.0273 | train_RMSE 0.1371 | test_RMSE 0.1342 \n",
      "19929\n"
     ]
    },
    {
     "name": "stderr",
     "output_type": "stream",
     "text": [
      " 94%|████████████████████████████████████▋  | 2821/3000 [04:21<00:16, 10.88it/s]"
     ]
    },
    {
     "name": "stdout",
     "output_type": "stream",
     "text": [
      "80921\n",
      "Epoch 02818 | Loss 0.0274 | train_RMSE 0.1383 | test_RMSE 0.1352 \n",
      "19929\n",
      "80921\n",
      "Epoch 02819 | Loss 0.0271 | train_RMSE 0.1374 | test_RMSE 0.1345 \n",
      "19929\n",
      "80921\n",
      "Epoch 02820 | Loss 0.0271 | train_RMSE 0.1367 | test_RMSE 0.1338 \n"
     ]
    },
    {
     "name": "stderr",
     "output_type": "stream",
     "text": [
      "\r",
      " 94%|████████████████████████████████████▋  | 2823/3000 [04:21<00:16, 10.88it/s]"
     ]
    },
    {
     "name": "stdout",
     "output_type": "stream",
     "text": [
      "19929\n",
      "80921\n",
      "Epoch 02821 | Loss 0.0272 | train_RMSE 0.1378 | test_RMSE 0.1347 \n",
      "19929\n",
      "80921\n",
      "Epoch 02822 | Loss 0.0271 | train_RMSE 0.1380 | test_RMSE 0.1350 \n",
      "19929\n"
     ]
    },
    {
     "name": "stderr",
     "output_type": "stream",
     "text": [
      "\r",
      " 94%|████████████████████████████████████▋  | 2825/3000 [04:21<00:16, 10.87it/s]"
     ]
    },
    {
     "name": "stdout",
     "output_type": "stream",
     "text": [
      "80921\n",
      "Epoch 02823 | Loss 0.0272 | train_RMSE 0.1372 | test_RMSE 0.1343 \n",
      "19929\n",
      "80921\n",
      "Epoch 02824 | Loss 0.0270 | train_RMSE 0.1370 | test_RMSE 0.1343 \n",
      "19929\n",
      "80921\n",
      "Epoch 02825 | Loss 0.0270 | train_RMSE 0.1383 | test_RMSE 0.1352 \n"
     ]
    },
    {
     "name": "stderr",
     "output_type": "stream",
     "text": [
      "\r",
      " 94%|████████████████████████████████████▊  | 2827/3000 [04:21<00:15, 10.89it/s]"
     ]
    },
    {
     "name": "stdout",
     "output_type": "stream",
     "text": [
      "19929\n",
      "80921\n",
      "Epoch 02826 | Loss 0.0273 | train_RMSE 0.1370 | test_RMSE 0.1342 \n",
      "19929\n",
      "80921\n",
      "Epoch 02827 | Loss 0.0270 | train_RMSE 0.1370 | test_RMSE 0.1339 \n",
      "19929\n"
     ]
    },
    {
     "name": "stderr",
     "output_type": "stream",
     "text": [
      " 94%|████████████████████████████████████▊  | 2831/3000 [04:22<00:15, 10.91it/s]"
     ]
    },
    {
     "name": "stdout",
     "output_type": "stream",
     "text": [
      "80921\n",
      "Epoch 02828 | Loss 0.0273 | train_RMSE 0.1375 | test_RMSE 0.1346 \n",
      "19929\n",
      "80921\n",
      "Epoch 02829 | Loss 0.0272 | train_RMSE 0.1381 | test_RMSE 0.1352 \n",
      "19929\n",
      "80921\n",
      "Epoch 02830 | Loss 0.0273 | train_RMSE 0.1368 | test_RMSE 0.1339 \n"
     ]
    },
    {
     "name": "stderr",
     "output_type": "stream",
     "text": [
      "\r",
      " 94%|████████████████████████████████████▊  | 2833/3000 [04:22<00:15, 10.91it/s]"
     ]
    },
    {
     "name": "stdout",
     "output_type": "stream",
     "text": [
      "19929\n",
      "80921\n",
      "Epoch 02831 | Loss 0.0270 | train_RMSE 0.1368 | test_RMSE 0.1338 \n",
      "19929\n",
      "80921\n",
      "Epoch 02832 | Loss 0.0275 | train_RMSE 0.1390 | test_RMSE 0.1358 \n",
      "19929\n"
     ]
    },
    {
     "name": "stderr",
     "output_type": "stream",
     "text": [
      "\r",
      " 94%|████████████████████████████████████▊  | 2835/3000 [04:22<00:15, 10.91it/s]"
     ]
    },
    {
     "name": "stdout",
     "output_type": "stream",
     "text": [
      "80921\n",
      "Epoch 02833 | Loss 0.0273 | train_RMSE 0.1373 | test_RMSE 0.1345 \n",
      "19929\n",
      "80921\n",
      "Epoch 02834 | Loss 0.0273 | train_RMSE 0.1374 | test_RMSE 0.1344 \n",
      "19929\n",
      "80921\n",
      "Epoch 02835 | Loss 0.0272 | train_RMSE 0.1375 | test_RMSE 0.1347 \n"
     ]
    },
    {
     "name": "stderr",
     "output_type": "stream",
     "text": [
      "\r",
      " 95%|████████████████████████████████████▉  | 2837/3000 [04:22<00:14, 10.88it/s]"
     ]
    },
    {
     "name": "stdout",
     "output_type": "stream",
     "text": [
      "19929\n",
      "80921\n",
      "Epoch 02836 | Loss 0.0271 | train_RMSE 0.1386 | test_RMSE 0.1354 \n",
      "19929\n",
      "80921\n",
      "Epoch 02837 | Loss 0.0273 | train_RMSE 0.1368 | test_RMSE 0.1340 \n",
      "19929\n"
     ]
    },
    {
     "name": "stderr",
     "output_type": "stream",
     "text": [
      " 95%|████████████████████████████████████▉  | 2841/3000 [04:23<00:14, 10.90it/s]"
     ]
    },
    {
     "name": "stdout",
     "output_type": "stream",
     "text": [
      "80921\n",
      "Epoch 02838 | Loss 0.0272 | train_RMSE 0.1375 | test_RMSE 0.1345 \n",
      "19929\n",
      "80921\n",
      "Epoch 02839 | Loss 0.0274 | train_RMSE 0.1386 | test_RMSE 0.1357 \n",
      "19929\n",
      "80921\n",
      "Epoch 02840 | Loss 0.0271 | train_RMSE 0.1371 | test_RMSE 0.1342 \n"
     ]
    },
    {
     "name": "stderr",
     "output_type": "stream",
     "text": [
      "\r",
      " 95%|████████████████████████████████████▉  | 2843/3000 [04:23<00:14, 10.90it/s]"
     ]
    },
    {
     "name": "stdout",
     "output_type": "stream",
     "text": [
      "19929\n",
      "80921\n",
      "Epoch 02841 | Loss 0.0270 | train_RMSE 0.1370 | test_RMSE 0.1340 \n",
      "19929\n",
      "80921\n",
      "Epoch 02842 | Loss 0.0271 | train_RMSE 0.1380 | test_RMSE 0.1350 \n",
      "19929\n"
     ]
    },
    {
     "name": "stderr",
     "output_type": "stream",
     "text": [
      "\r",
      " 95%|████████████████████████████████████▉  | 2845/3000 [04:23<00:14, 10.89it/s]"
     ]
    },
    {
     "name": "stdout",
     "output_type": "stream",
     "text": [
      "80921\n",
      "Epoch 02843 | Loss 0.0272 | train_RMSE 0.1385 | test_RMSE 0.1353 \n",
      "19929\n",
      "80921\n",
      "Epoch 02844 | Loss 0.0273 | train_RMSE 0.1371 | test_RMSE 0.1343 \n",
      "19929\n",
      "80921\n",
      "Epoch 02845 | Loss 0.0274 | train_RMSE 0.1385 | test_RMSE 0.1355 \n"
     ]
    },
    {
     "name": "stderr",
     "output_type": "stream",
     "text": [
      "\r",
      " 95%|█████████████████████████████████████  | 2847/3000 [04:23<00:14, 10.88it/s]"
     ]
    },
    {
     "name": "stdout",
     "output_type": "stream",
     "text": [
      "19929\n",
      "80921\n",
      "Epoch 02846 | Loss 0.0272 | train_RMSE 0.1386 | test_RMSE 0.1359 \n",
      "19929\n",
      "80921\n",
      "Epoch 02847 | Loss 0.0274 | train_RMSE 0.1387 | test_RMSE 0.1356 \n",
      "19929\n"
     ]
    },
    {
     "name": "stderr",
     "output_type": "stream",
     "text": [
      " 95%|█████████████████████████████████████  | 2851/3000 [04:24<00:13, 10.88it/s]"
     ]
    },
    {
     "name": "stdout",
     "output_type": "stream",
     "text": [
      "80921\n",
      "Epoch 02848 | Loss 0.0273 | train_RMSE 0.1383 | test_RMSE 0.1355 \n",
      "19929\n",
      "80921\n",
      "Epoch 02849 | Loss 0.0276 | train_RMSE 0.1405 | test_RMSE 0.1373 \n",
      "19929\n",
      "80921\n",
      "Epoch 02850 | Loss 0.0277 | train_RMSE 0.1389 | test_RMSE 0.1362 \n"
     ]
    },
    {
     "name": "stderr",
     "output_type": "stream",
     "text": [
      "\r",
      " 95%|█████████████████████████████████████  | 2853/3000 [04:24<00:13, 10.88it/s]"
     ]
    },
    {
     "name": "stdout",
     "output_type": "stream",
     "text": [
      "19929\n",
      "80921\n",
      "Epoch 02851 | Loss 0.0276 | train_RMSE 0.1393 | test_RMSE 0.1362 \n",
      "19929\n",
      "80921\n",
      "Epoch 02852 | Loss 0.0278 | train_RMSE 0.1392 | test_RMSE 0.1364 \n",
      "19929\n"
     ]
    },
    {
     "name": "stderr",
     "output_type": "stream",
     "text": [
      "\r",
      " 95%|█████████████████████████████████████  | 2855/3000 [04:24<00:13, 10.88it/s]"
     ]
    },
    {
     "name": "stdout",
     "output_type": "stream",
     "text": [
      "80921\n",
      "Epoch 02853 | Loss 0.0278 | train_RMSE 0.1403 | test_RMSE 0.1370 \n",
      "19929\n",
      "80921\n",
      "Epoch 02854 | Loss 0.0277 | train_RMSE 0.1377 | test_RMSE 0.1350 \n",
      "19929\n",
      "80921\n",
      "Epoch 02855 | Loss 0.0275 | train_RMSE 0.1382 | test_RMSE 0.1351 \n"
     ]
    },
    {
     "name": "stderr",
     "output_type": "stream",
     "text": [
      "\r",
      " 95%|█████████████████████████████████████▏ | 2857/3000 [04:24<00:13, 10.87it/s]"
     ]
    },
    {
     "name": "stdout",
     "output_type": "stream",
     "text": [
      "19929\n",
      "80921\n",
      "Epoch 02856 | Loss 0.0276 | train_RMSE 0.1382 | test_RMSE 0.1354 \n",
      "19929\n",
      "80921\n",
      "Epoch 02857 | Loss 0.0271 | train_RMSE 0.1373 | test_RMSE 0.1343 \n",
      "19929\n"
     ]
    },
    {
     "name": "stderr",
     "output_type": "stream",
     "text": [
      " 95%|█████████████████████████████████████▏ | 2861/3000 [04:24<00:12, 10.85it/s]"
     ]
    },
    {
     "name": "stdout",
     "output_type": "stream",
     "text": [
      "80921\n",
      "Epoch 02858 | Loss 0.0271 | train_RMSE 0.1366 | test_RMSE 0.1337 \n",
      "19929\n",
      "80921\n",
      "Epoch 02859 | Loss 0.0272 | train_RMSE 0.1384 | test_RMSE 0.1354 \n",
      "19929\n",
      "80921\n",
      "Epoch 02860 | Loss 0.0272 | train_RMSE 0.1382 | test_RMSE 0.1351 \n"
     ]
    },
    {
     "name": "stderr",
     "output_type": "stream",
     "text": [
      "\r",
      " 95%|█████████████████████████████████████▏ | 2863/3000 [04:25<00:12, 10.84it/s]"
     ]
    },
    {
     "name": "stdout",
     "output_type": "stream",
     "text": [
      "19929\n",
      "80921\n",
      "Epoch 02861 | Loss 0.0273 | train_RMSE 0.1371 | test_RMSE 0.1344 \n",
      "19929\n",
      "80921\n",
      "Epoch 02862 | Loss 0.0275 | train_RMSE 0.1389 | test_RMSE 0.1358 \n",
      "19929\n"
     ]
    },
    {
     "name": "stderr",
     "output_type": "stream",
     "text": [
      "\r",
      " 96%|█████████████████████████████████████▏ | 2865/3000 [04:25<00:12, 10.81it/s]"
     ]
    },
    {
     "name": "stdout",
     "output_type": "stream",
     "text": [
      "80921\n",
      "Epoch 02863 | Loss 0.0274 | train_RMSE 0.1408 | test_RMSE 0.1380 \n",
      "19929\n",
      "80921\n",
      "Epoch 02864 | Loss 0.0277 | train_RMSE 0.1407 | test_RMSE 0.1374 \n",
      "19929\n",
      "80921\n",
      "Epoch 02865 | Loss 0.0277 | train_RMSE 0.1377 | test_RMSE 0.1350 \n"
     ]
    },
    {
     "name": "stderr",
     "output_type": "stream",
     "text": [
      "\r",
      " 96%|█████████████████████████████████████▎ | 2867/3000 [04:25<00:12, 10.82it/s]"
     ]
    },
    {
     "name": "stdout",
     "output_type": "stream",
     "text": [
      "19929\n",
      "80921\n",
      "Epoch 02866 | Loss 0.0279 | train_RMSE 0.1384 | test_RMSE 0.1354 \n",
      "19929\n",
      "80921\n",
      "Epoch 02867 | Loss 0.0276 | train_RMSE 0.1410 | test_RMSE 0.1382 \n",
      "19929\n"
     ]
    },
    {
     "name": "stderr",
     "output_type": "stream",
     "text": [
      " 96%|█████████████████████████████████████▎ | 2871/3000 [04:25<00:11, 10.77it/s]"
     ]
    },
    {
     "name": "stdout",
     "output_type": "stream",
     "text": [
      "80921\n",
      "Epoch 02868 | Loss 0.0277 | train_RMSE 0.1378 | test_RMSE 0.1347 \n",
      "19929\n",
      "80921\n",
      "Epoch 02869 | Loss 0.0273 | train_RMSE 0.1370 | test_RMSE 0.1342 \n",
      "19929\n",
      "80921\n",
      "Epoch 02870 | Loss 0.0276 | train_RMSE 0.1401 | test_RMSE 0.1370 \n"
     ]
    },
    {
     "name": "stderr",
     "output_type": "stream",
     "text": [
      "\r",
      " 96%|█████████████████████████████████████▎ | 2873/3000 [04:26<00:11, 10.76it/s]"
     ]
    },
    {
     "name": "stdout",
     "output_type": "stream",
     "text": [
      "19929\n",
      "80921\n",
      "Epoch 02871 | Loss 0.0274 | train_RMSE 0.1403 | test_RMSE 0.1371 \n",
      "19929\n",
      "80921\n",
      "Epoch 02872 | Loss 0.0275 | train_RMSE 0.1387 | test_RMSE 0.1361 \n",
      "19929\n"
     ]
    },
    {
     "name": "stderr",
     "output_type": "stream",
     "text": [
      "\r",
      " 96%|█████████████████████████████████████▍ | 2875/3000 [04:26<00:11, 10.76it/s]"
     ]
    },
    {
     "name": "stdout",
     "output_type": "stream",
     "text": [
      "80921\n",
      "Epoch 02873 | Loss 0.0281 | train_RMSE 0.1426 | test_RMSE 0.1393 \n",
      "19929\n",
      "80921\n",
      "Epoch 02874 | Loss 0.0286 | train_RMSE 0.1451 | test_RMSE 0.1425 \n",
      "19929\n",
      "80921\n",
      "Epoch 02875 | Loss 0.0291 | train_RMSE 0.1473 | test_RMSE 0.1439 \n"
     ]
    },
    {
     "name": "stderr",
     "output_type": "stream",
     "text": [
      "\r",
      " 96%|█████████████████████████████████████▍ | 2877/3000 [04:26<00:11, 10.78it/s]"
     ]
    },
    {
     "name": "stdout",
     "output_type": "stream",
     "text": [
      "19929\n",
      "80921\n",
      "Epoch 02876 | Loss 0.0298 | train_RMSE 0.1428 | test_RMSE 0.1405 \n",
      "19929\n",
      "80921\n",
      "Epoch 02877 | Loss 0.0294 | train_RMSE 0.1452 | test_RMSE 0.1418 \n",
      "19929\n"
     ]
    },
    {
     "name": "stderr",
     "output_type": "stream",
     "text": [
      " 96%|█████████████████████████████████████▍ | 2881/3000 [04:26<00:11, 10.79it/s]"
     ]
    },
    {
     "name": "stdout",
     "output_type": "stream",
     "text": [
      "80921\n",
      "Epoch 02878 | Loss 0.0291 | train_RMSE 0.1428 | test_RMSE 0.1402 \n",
      "19929\n",
      "80921\n",
      "Epoch 02879 | Loss 0.0286 | train_RMSE 0.1398 | test_RMSE 0.1367 \n",
      "19929\n",
      "80921\n",
      "Epoch 02880 | Loss 0.0279 | train_RMSE 0.1370 | test_RMSE 0.1343 \n"
     ]
    },
    {
     "name": "stderr",
     "output_type": "stream",
     "text": [
      "\r",
      " 96%|█████████████████████████████████████▍ | 2883/3000 [04:26<00:10, 10.79it/s]"
     ]
    },
    {
     "name": "stdout",
     "output_type": "stream",
     "text": [
      "19929\n",
      "80921\n",
      "Epoch 02881 | Loss 0.0275 | train_RMSE 0.1382 | test_RMSE 0.1355 \n",
      "19929\n",
      "80921\n",
      "Epoch 02882 | Loss 0.0276 | train_RMSE 0.1408 | test_RMSE 0.1375 \n",
      "19929\n"
     ]
    },
    {
     "name": "stderr",
     "output_type": "stream",
     "text": [
      "\r",
      " 96%|█████████████████████████████████████▌ | 2885/3000 [04:27<00:10, 10.79it/s]"
     ]
    },
    {
     "name": "stdout",
     "output_type": "stream",
     "text": [
      "80921\n",
      "Epoch 02883 | Loss 0.0277 | train_RMSE 0.1398 | test_RMSE 0.1372 \n",
      "19929\n",
      "80921\n",
      "Epoch 02884 | Loss 0.0279 | train_RMSE 0.1403 | test_RMSE 0.1371 \n",
      "19929\n",
      "80921\n",
      "Epoch 02885 | Loss 0.0281 | train_RMSE 0.1386 | test_RMSE 0.1359 \n"
     ]
    },
    {
     "name": "stderr",
     "output_type": "stream",
     "text": [
      "\r",
      " 96%|█████████████████████████████████████▌ | 2887/3000 [04:27<00:10, 10.80it/s]"
     ]
    },
    {
     "name": "stdout",
     "output_type": "stream",
     "text": [
      "19929\n",
      "80921\n",
      "Epoch 02886 | Loss 0.0276 | train_RMSE 0.1382 | test_RMSE 0.1351 \n",
      "19929\n",
      "80921\n",
      "Epoch 02887 | Loss 0.0271 | train_RMSE 0.1376 | test_RMSE 0.1346 \n",
      "19929\n"
     ]
    },
    {
     "name": "stderr",
     "output_type": "stream",
     "text": [
      " 96%|█████████████████████████████████████▌ | 2891/3000 [04:27<00:10, 10.79it/s]"
     ]
    },
    {
     "name": "stdout",
     "output_type": "stream",
     "text": [
      "80921\n",
      "Epoch 02888 | Loss 0.0273 | train_RMSE 0.1381 | test_RMSE 0.1353 \n",
      "19929\n",
      "80921\n",
      "Epoch 02889 | Loss 0.0274 | train_RMSE 0.1393 | test_RMSE 0.1362 \n",
      "19929\n",
      "80921\n",
      "Epoch 02890 | Loss 0.0276 | train_RMSE 0.1386 | test_RMSE 0.1358 \n"
     ]
    },
    {
     "name": "stderr",
     "output_type": "stream",
     "text": [
      "\r",
      " 96%|█████████████████████████████████████▌ | 2893/3000 [04:27<00:09, 10.78it/s]"
     ]
    },
    {
     "name": "stdout",
     "output_type": "stream",
     "text": [
      "19929\n",
      "80921\n",
      "Epoch 02891 | Loss 0.0276 | train_RMSE 0.1386 | test_RMSE 0.1354 \n",
      "19929\n",
      "80921\n",
      "Epoch 02892 | Loss 0.0274 | train_RMSE 0.1370 | test_RMSE 0.1341 \n",
      "19929\n"
     ]
    },
    {
     "name": "stderr",
     "output_type": "stream",
     "text": [
      "\r",
      " 96%|█████████████████████████████████████▋ | 2895/3000 [04:28<00:09, 10.79it/s]"
     ]
    },
    {
     "name": "stdout",
     "output_type": "stream",
     "text": [
      "80921\n",
      "Epoch 02893 | Loss 0.0270 | train_RMSE 0.1369 | test_RMSE 0.1339 \n",
      "19929\n",
      "80921\n",
      "Epoch 02894 | Loss 0.0274 | train_RMSE 0.1383 | test_RMSE 0.1353 \n",
      "19929\n",
      "80921\n",
      "Epoch 02895 | Loss 0.0273 | train_RMSE 0.1382 | test_RMSE 0.1354 \n"
     ]
    },
    {
     "name": "stderr",
     "output_type": "stream",
     "text": [
      "\r",
      " 97%|█████████████████████████████████████▋ | 2897/3000 [04:28<00:09, 10.78it/s]"
     ]
    },
    {
     "name": "stdout",
     "output_type": "stream",
     "text": [
      "19929\n",
      "80921\n",
      "Epoch 02896 | Loss 0.0275 | train_RMSE 0.1383 | test_RMSE 0.1351 \n",
      "19929\n",
      "80921\n",
      "Epoch 02897 | Loss 0.0271 | train_RMSE 0.1385 | test_RMSE 0.1356 \n",
      "19929\n"
     ]
    },
    {
     "name": "stderr",
     "output_type": "stream",
     "text": [
      " 97%|█████████████████████████████████████▋ | 2901/3000 [04:28<00:09, 10.79it/s]"
     ]
    },
    {
     "name": "stdout",
     "output_type": "stream",
     "text": [
      "80921\n",
      "Epoch 02898 | Loss 0.0273 | train_RMSE 0.1378 | test_RMSE 0.1347 \n",
      "19929\n",
      "80921\n",
      "Epoch 02899 | Loss 0.0272 | train_RMSE 0.1367 | test_RMSE 0.1338 \n",
      "19929\n",
      "80921\n",
      "Epoch 02900 | Loss 0.0271 | train_RMSE 0.1376 | test_RMSE 0.1348 \n"
     ]
    },
    {
     "name": "stderr",
     "output_type": "stream",
     "text": [
      "\r",
      " 97%|█████████████████████████████████████▋ | 2903/3000 [04:28<00:08, 10.78it/s]"
     ]
    },
    {
     "name": "stdout",
     "output_type": "stream",
     "text": [
      "19929\n",
      "80921\n",
      "Epoch 02901 | Loss 0.0273 | train_RMSE 0.1389 | test_RMSE 0.1358 \n",
      "19929\n",
      "80921\n",
      "Epoch 02902 | Loss 0.0272 | train_RMSE 0.1378 | test_RMSE 0.1350 \n",
      "19929\n"
     ]
    },
    {
     "name": "stderr",
     "output_type": "stream",
     "text": [
      "\r",
      " 97%|█████████████████████████████████████▊ | 2905/3000 [04:29<00:08, 10.78it/s]"
     ]
    },
    {
     "name": "stdout",
     "output_type": "stream",
     "text": [
      "80921\n",
      "Epoch 02903 | Loss 0.0276 | train_RMSE 0.1390 | test_RMSE 0.1358 \n",
      "19929\n",
      "80921\n",
      "Epoch 02904 | Loss 0.0274 | train_RMSE 0.1382 | test_RMSE 0.1354 \n",
      "19929\n",
      "80921\n",
      "Epoch 02905 | Loss 0.0276 | train_RMSE 0.1375 | test_RMSE 0.1345 \n"
     ]
    },
    {
     "name": "stderr",
     "output_type": "stream",
     "text": [
      "\r",
      " 97%|█████████████████████████████████████▊ | 2907/3000 [04:29<00:08, 10.77it/s]"
     ]
    },
    {
     "name": "stdout",
     "output_type": "stream",
     "text": [
      "19929\n",
      "80921\n",
      "Epoch 02906 | Loss 0.0269 | train_RMSE 0.1374 | test_RMSE 0.1345 \n",
      "19929\n",
      "80921\n",
      "Epoch 02907 | Loss 0.0272 | train_RMSE 0.1377 | test_RMSE 0.1348 \n",
      "19929\n"
     ]
    },
    {
     "name": "stderr",
     "output_type": "stream",
     "text": [
      " 97%|█████████████████████████████████████▊ | 2911/3000 [04:29<00:08, 10.79it/s]"
     ]
    },
    {
     "name": "stdout",
     "output_type": "stream",
     "text": [
      "80921\n",
      "Epoch 02908 | Loss 0.0272 | train_RMSE 0.1371 | test_RMSE 0.1341 \n",
      "19929\n",
      "80921\n",
      "Epoch 02909 | Loss 0.0273 | train_RMSE 0.1368 | test_RMSE 0.1340 \n",
      "19929\n",
      "80921\n",
      "Epoch 02910 | Loss 0.0273 | train_RMSE 0.1383 | test_RMSE 0.1352 \n"
     ]
    },
    {
     "name": "stderr",
     "output_type": "stream",
     "text": [
      "\r",
      " 97%|█████████████████████████████████████▊ | 2913/3000 [04:29<00:08, 10.79it/s]"
     ]
    },
    {
     "name": "stdout",
     "output_type": "stream",
     "text": [
      "19929\n",
      "80921\n",
      "Epoch 02911 | Loss 0.0272 | train_RMSE 0.1379 | test_RMSE 0.1350 \n",
      "19929\n",
      "80921\n",
      "Epoch 02912 | Loss 0.0273 | train_RMSE 0.1369 | test_RMSE 0.1340 \n",
      "19929\n"
     ]
    },
    {
     "name": "stderr",
     "output_type": "stream",
     "text": [
      "\r",
      " 97%|█████████████████████████████████████▉ | 2915/3000 [04:29<00:07, 10.78it/s]"
     ]
    },
    {
     "name": "stdout",
     "output_type": "stream",
     "text": [
      "80921\n",
      "Epoch 02913 | Loss 0.0272 | train_RMSE 0.1368 | test_RMSE 0.1339 \n",
      "19929\n",
      "80921\n",
      "Epoch 02914 | Loss 0.0270 | train_RMSE 0.1376 | test_RMSE 0.1346 \n",
      "19929\n",
      "80921\n",
      "Epoch 02915 | Loss 0.0270 | train_RMSE 0.1379 | test_RMSE 0.1348 \n"
     ]
    },
    {
     "name": "stderr",
     "output_type": "stream",
     "text": [
      "\r",
      " 97%|█████████████████████████████████████▉ | 2917/3000 [04:30<00:07, 10.78it/s]"
     ]
    },
    {
     "name": "stdout",
     "output_type": "stream",
     "text": [
      "19929\n",
      "80921\n",
      "Epoch 02916 | Loss 0.0272 | train_RMSE 0.1366 | test_RMSE 0.1337 \n",
      "19929\n",
      "80921\n",
      "Epoch 02917 | Loss 0.0271 | train_RMSE 0.1370 | test_RMSE 0.1340 \n",
      "19929\n"
     ]
    },
    {
     "name": "stderr",
     "output_type": "stream",
     "text": [
      " 97%|█████████████████████████████████████▉ | 2921/3000 [04:30<00:07, 10.79it/s]"
     ]
    },
    {
     "name": "stdout",
     "output_type": "stream",
     "text": [
      "80921\n",
      "Epoch 02918 | Loss 0.0272 | train_RMSE 0.1386 | test_RMSE 0.1357 \n",
      "19929\n",
      "80921\n",
      "Epoch 02919 | Loss 0.0270 | train_RMSE 0.1377 | test_RMSE 0.1347 \n",
      "19929\n",
      "80921\n",
      "Epoch 02920 | Loss 0.0270 | train_RMSE 0.1365 | test_RMSE 0.1337 \n"
     ]
    },
    {
     "name": "stderr",
     "output_type": "stream",
     "text": [
      "\r",
      " 97%|█████████████████████████████████████▉ | 2923/3000 [04:30<00:07, 10.79it/s]"
     ]
    },
    {
     "name": "stdout",
     "output_type": "stream",
     "text": [
      "19929\n",
      "80921\n",
      "Epoch 02921 | Loss 0.0272 | train_RMSE 0.1374 | test_RMSE 0.1345 \n",
      "19929\n",
      "80921\n",
      "Epoch 02922 | Loss 0.0270 | train_RMSE 0.1383 | test_RMSE 0.1353 \n",
      "19929\n"
     ]
    },
    {
     "name": "stderr",
     "output_type": "stream",
     "text": [
      "\r",
      " 98%|██████████████████████████████████████ | 2925/3000 [04:30<00:06, 10.78it/s]"
     ]
    },
    {
     "name": "stdout",
     "output_type": "stream",
     "text": [
      "80921\n",
      "Epoch 02923 | Loss 0.0273 | train_RMSE 0.1373 | test_RMSE 0.1344 \n",
      "19929\n",
      "80921\n",
      "Epoch 02924 | Loss 0.0271 | train_RMSE 0.1371 | test_RMSE 0.1341 \n",
      "19929\n",
      "80921\n",
      "Epoch 02925 | Loss 0.0269 | train_RMSE 0.1377 | test_RMSE 0.1348 \n"
     ]
    },
    {
     "name": "stderr",
     "output_type": "stream",
     "text": [
      "\r",
      " 98%|██████████████████████████████████████ | 2927/3000 [04:31<00:06, 10.78it/s]"
     ]
    },
    {
     "name": "stdout",
     "output_type": "stream",
     "text": [
      "19929\n",
      "80921\n",
      "Epoch 02926 | Loss 0.0270 | train_RMSE 0.1383 | test_RMSE 0.1352 \n",
      "19929\n",
      "80921\n",
      "Epoch 02927 | Loss 0.0274 | train_RMSE 0.1373 | test_RMSE 0.1345 \n",
      "19929\n"
     ]
    },
    {
     "name": "stderr",
     "output_type": "stream",
     "text": [
      " 98%|██████████████████████████████████████ | 2931/3000 [04:31<00:06, 10.79it/s]"
     ]
    },
    {
     "name": "stdout",
     "output_type": "stream",
     "text": [
      "80921\n",
      "Epoch 02928 | Loss 0.0273 | train_RMSE 0.1380 | test_RMSE 0.1350 \n",
      "19929\n",
      "80921\n",
      "Epoch 02929 | Loss 0.0273 | train_RMSE 0.1381 | test_RMSE 0.1353 \n",
      "19929\n",
      "80921\n",
      "Epoch 02930 | Loss 0.0271 | train_RMSE 0.1382 | test_RMSE 0.1351 \n"
     ]
    },
    {
     "name": "stderr",
     "output_type": "stream",
     "text": [
      "\r",
      " 98%|██████████████████████████████████████▏| 2933/3000 [04:31<00:06, 10.79it/s]"
     ]
    },
    {
     "name": "stdout",
     "output_type": "stream",
     "text": [
      "19929\n",
      "80921\n",
      "Epoch 02931 | Loss 0.0273 | train_RMSE 0.1376 | test_RMSE 0.1347 \n",
      "19929\n",
      "80921\n",
      "Epoch 02932 | Loss 0.0272 | train_RMSE 0.1384 | test_RMSE 0.1353 \n",
      "19929\n"
     ]
    },
    {
     "name": "stderr",
     "output_type": "stream",
     "text": [
      "\r",
      " 98%|██████████████████████████████████████▏| 2935/3000 [04:31<00:06, 10.78it/s]"
     ]
    },
    {
     "name": "stdout",
     "output_type": "stream",
     "text": [
      "80921\n",
      "Epoch 02933 | Loss 0.0272 | train_RMSE 0.1377 | test_RMSE 0.1349 \n",
      "19929\n",
      "80921\n",
      "Epoch 02934 | Loss 0.0274 | train_RMSE 0.1393 | test_RMSE 0.1361 \n",
      "19929\n",
      "80921\n",
      "Epoch 02935 | Loss 0.0277 | train_RMSE 0.1383 | test_RMSE 0.1356 \n"
     ]
    },
    {
     "name": "stderr",
     "output_type": "stream",
     "text": [
      "\r",
      " 98%|██████████████████████████████████████▏| 2937/3000 [04:31<00:05, 10.78it/s]"
     ]
    },
    {
     "name": "stdout",
     "output_type": "stream",
     "text": [
      "19929\n",
      "80921\n",
      "Epoch 02936 | Loss 0.0277 | train_RMSE 0.1398 | test_RMSE 0.1367 \n",
      "19929\n",
      "80921\n",
      "Epoch 02937 | Loss 0.0278 | train_RMSE 0.1398 | test_RMSE 0.1371 \n",
      "19929\n"
     ]
    },
    {
     "name": "stderr",
     "output_type": "stream",
     "text": [
      " 98%|██████████████████████████████████████▏| 2941/3000 [04:32<00:05, 10.79it/s]"
     ]
    },
    {
     "name": "stdout",
     "output_type": "stream",
     "text": [
      "80921\n",
      "Epoch 02938 | Loss 0.0278 | train_RMSE 0.1419 | test_RMSE 0.1386 \n",
      "19929\n",
      "80921\n",
      "Epoch 02939 | Loss 0.0282 | train_RMSE 0.1410 | test_RMSE 0.1385 \n",
      "19929\n",
      "80921\n",
      "Epoch 02940 | Loss 0.0285 | train_RMSE 0.1445 | test_RMSE 0.1412 \n"
     ]
    },
    {
     "name": "stderr",
     "output_type": "stream",
     "text": [
      "\r",
      " 98%|██████████████████████████████████████▎| 2943/3000 [04:32<00:05, 10.78it/s]"
     ]
    },
    {
     "name": "stdout",
     "output_type": "stream",
     "text": [
      "19929\n",
      "80921\n",
      "Epoch 02941 | Loss 0.0288 | train_RMSE 0.1432 | test_RMSE 0.1408 \n",
      "19929\n",
      "80921\n",
      "Epoch 02942 | Loss 0.0293 | train_RMSE 0.1438 | test_RMSE 0.1405 \n",
      "19929\n"
     ]
    },
    {
     "name": "stderr",
     "output_type": "stream",
     "text": [
      "\r",
      " 98%|██████████████████████████████████████▎| 2945/3000 [04:32<00:05, 10.78it/s]"
     ]
    },
    {
     "name": "stdout",
     "output_type": "stream",
     "text": [
      "80921\n",
      "Epoch 02943 | Loss 0.0288 | train_RMSE 0.1400 | test_RMSE 0.1373 \n",
      "19929\n",
      "80921\n",
      "Epoch 02944 | Loss 0.0281 | train_RMSE 0.1393 | test_RMSE 0.1362 \n",
      "19929\n",
      "80921\n",
      "Epoch 02945 | Loss 0.0274 | train_RMSE 0.1378 | test_RMSE 0.1350 \n"
     ]
    },
    {
     "name": "stderr",
     "output_type": "stream",
     "text": [
      "\r",
      " 98%|██████████████████████████████████████▎| 2947/3000 [04:32<00:04, 10.79it/s]"
     ]
    },
    {
     "name": "stdout",
     "output_type": "stream",
     "text": [
      "19929\n",
      "80921\n",
      "Epoch 02946 | Loss 0.0274 | train_RMSE 0.1371 | test_RMSE 0.1342 \n",
      "19929\n",
      "80921\n",
      "Epoch 02947 | Loss 0.0272 | train_RMSE 0.1381 | test_RMSE 0.1350 \n",
      "19929\n"
     ]
    },
    {
     "name": "stderr",
     "output_type": "stream",
     "text": [
      " 98%|██████████████████████████████████████▎| 2951/3000 [04:33<00:04, 10.79it/s]"
     ]
    },
    {
     "name": "stdout",
     "output_type": "stream",
     "text": [
      "80921\n",
      "Epoch 02948 | Loss 0.0273 | train_RMSE 0.1392 | test_RMSE 0.1364 \n",
      "19929\n",
      "80921\n",
      "Epoch 02949 | Loss 0.0274 | train_RMSE 0.1406 | test_RMSE 0.1374 \n",
      "19929\n",
      "80921\n",
      "Epoch 02950 | Loss 0.0279 | train_RMSE 0.1389 | test_RMSE 0.1363 \n"
     ]
    },
    {
     "name": "stderr",
     "output_type": "stream",
     "text": [
      "\r",
      " 98%|██████████████████████████████████████▍| 2953/3000 [04:33<00:04, 10.80it/s]"
     ]
    },
    {
     "name": "stdout",
     "output_type": "stream",
     "text": [
      "19929\n",
      "80921\n",
      "Epoch 02951 | Loss 0.0278 | train_RMSE 0.1389 | test_RMSE 0.1358 \n",
      "19929\n",
      "80921\n",
      "Epoch 02952 | Loss 0.0274 | train_RMSE 0.1379 | test_RMSE 0.1350 \n",
      "19929\n"
     ]
    },
    {
     "name": "stderr",
     "output_type": "stream",
     "text": [
      "\r",
      " 98%|██████████████████████████████████████▍| 2955/3000 [04:33<00:04, 10.79it/s]"
     ]
    },
    {
     "name": "stdout",
     "output_type": "stream",
     "text": [
      "80921\n",
      "Epoch 02953 | Loss 0.0273 | train_RMSE 0.1379 | test_RMSE 0.1349 \n",
      "19929\n",
      "80921\n",
      "Epoch 02954 | Loss 0.0272 | train_RMSE 0.1373 | test_RMSE 0.1343 \n",
      "19929\n",
      "80921\n",
      "Epoch 02955 | Loss 0.0271 | train_RMSE 0.1389 | test_RMSE 0.1361 \n"
     ]
    },
    {
     "name": "stderr",
     "output_type": "stream",
     "text": [
      "\r",
      " 99%|██████████████████████████████████████▍| 2957/3000 [04:33<00:03, 10.78it/s]"
     ]
    },
    {
     "name": "stdout",
     "output_type": "stream",
     "text": [
      "19929\n",
      "80921\n",
      "Epoch 02956 | Loss 0.0276 | train_RMSE 0.1407 | test_RMSE 0.1374 \n",
      "19929\n",
      "80921\n",
      "Epoch 02957 | Loss 0.0276 | train_RMSE 0.1385 | test_RMSE 0.1359 \n",
      "19929\n"
     ]
    },
    {
     "name": "stderr",
     "output_type": "stream",
     "text": [
      " 99%|██████████████████████████████████████▍| 2961/3000 [04:34<00:03, 10.78it/s]"
     ]
    },
    {
     "name": "stdout",
     "output_type": "stream",
     "text": [
      "80921\n",
      "Epoch 02958 | Loss 0.0279 | train_RMSE 0.1397 | test_RMSE 0.1365 \n",
      "19929\n",
      "80921\n",
      "Epoch 02959 | Loss 0.0275 | train_RMSE 0.1395 | test_RMSE 0.1367 \n",
      "19929\n",
      "80921\n",
      "Epoch 02960 | Loss 0.0274 | train_RMSE 0.1377 | test_RMSE 0.1347 \n"
     ]
    },
    {
     "name": "stderr",
     "output_type": "stream",
     "text": [
      "\r",
      " 99%|██████████████████████████████████████▌| 2963/3000 [04:34<00:03, 10.79it/s]"
     ]
    },
    {
     "name": "stdout",
     "output_type": "stream",
     "text": [
      "19929\n",
      "80921\n",
      "Epoch 02961 | Loss 0.0275 | train_RMSE 0.1372 | test_RMSE 0.1342 \n",
      "19929\n",
      "80921\n",
      "Epoch 02962 | Loss 0.0270 | train_RMSE 0.1372 | test_RMSE 0.1344 \n",
      "19929\n"
     ]
    },
    {
     "name": "stderr",
     "output_type": "stream",
     "text": [
      "\r",
      " 99%|██████████████████████████████████████▌| 2965/3000 [04:34<00:03, 10.78it/s]"
     ]
    },
    {
     "name": "stdout",
     "output_type": "stream",
     "text": [
      "80921\n",
      "Epoch 02963 | Loss 0.0274 | train_RMSE 0.1386 | test_RMSE 0.1355 \n",
      "19929\n",
      "80921\n",
      "Epoch 02964 | Loss 0.0277 | train_RMSE 0.1388 | test_RMSE 0.1360 \n",
      "19929\n",
      "80921\n",
      "Epoch 02965 | Loss 0.0276 | train_RMSE 0.1393 | test_RMSE 0.1360 \n"
     ]
    },
    {
     "name": "stderr",
     "output_type": "stream",
     "text": [
      "\r",
      " 99%|██████████████████████████████████████▌| 2967/3000 [04:34<00:03, 10.79it/s]"
     ]
    },
    {
     "name": "stdout",
     "output_type": "stream",
     "text": [
      "19929\n",
      "80921\n",
      "Epoch 02966 | Loss 0.0274 | train_RMSE 0.1374 | test_RMSE 0.1346 \n",
      "19929\n",
      "80921\n",
      "Epoch 02967 | Loss 0.0276 | train_RMSE 0.1376 | test_RMSE 0.1346 \n",
      "19929\n"
     ]
    },
    {
     "name": "stderr",
     "output_type": "stream",
     "text": [
      " 99%|██████████████████████████████████████▌| 2971/3000 [04:35<00:02, 10.79it/s]"
     ]
    },
    {
     "name": "stdout",
     "output_type": "stream",
     "text": [
      "80921\n",
      "Epoch 02968 | Loss 0.0275 | train_RMSE 0.1374 | test_RMSE 0.1344 \n",
      "19929\n",
      "80921\n",
      "Epoch 02969 | Loss 0.0270 | train_RMSE 0.1375 | test_RMSE 0.1346 \n",
      "19929\n",
      "80921\n",
      "Epoch 02970 | Loss 0.0272 | train_RMSE 0.1385 | test_RMSE 0.1353 \n"
     ]
    },
    {
     "name": "stderr",
     "output_type": "stream",
     "text": [
      "\r",
      " 99%|██████████████████████████████████████▋| 2973/3000 [04:35<00:02, 10.80it/s]"
     ]
    },
    {
     "name": "stdout",
     "output_type": "stream",
     "text": [
      "19929\n",
      "80921\n",
      "Epoch 02971 | Loss 0.0274 | train_RMSE 0.1383 | test_RMSE 0.1356 \n",
      "19929\n",
      "80921\n",
      "Epoch 02972 | Loss 0.0276 | train_RMSE 0.1396 | test_RMSE 0.1364 \n",
      "19929\n"
     ]
    },
    {
     "name": "stderr",
     "output_type": "stream",
     "text": [
      "\r",
      " 99%|██████████████████████████████████████▋| 2975/3000 [04:35<00:02, 10.80it/s]"
     ]
    },
    {
     "name": "stdout",
     "output_type": "stream",
     "text": [
      "80921\n",
      "Epoch 02973 | Loss 0.0276 | train_RMSE 0.1379 | test_RMSE 0.1351 \n",
      "19929\n",
      "80921\n",
      "Epoch 02974 | Loss 0.0272 | train_RMSE 0.1373 | test_RMSE 0.1342 \n",
      "19929\n",
      "80921\n",
      "Epoch 02975 | Loss 0.0273 | train_RMSE 0.1380 | test_RMSE 0.1351 \n"
     ]
    },
    {
     "name": "stderr",
     "output_type": "stream",
     "text": [
      "\r",
      " 99%|██████████████████████████████████████▋| 2977/3000 [04:35<00:02, 10.80it/s]"
     ]
    },
    {
     "name": "stdout",
     "output_type": "stream",
     "text": [
      "19929\n",
      "80921\n",
      "Epoch 02976 | Loss 0.0270 | train_RMSE 0.1373 | test_RMSE 0.1343 \n",
      "19929\n",
      "80921\n",
      "Epoch 02977 | Loss 0.0271 | train_RMSE 0.1374 | test_RMSE 0.1343 \n",
      "19929\n"
     ]
    },
    {
     "name": "stderr",
     "output_type": "stream",
     "text": [
      " 99%|██████████████████████████████████████▊| 2981/3000 [04:36<00:01, 10.78it/s]"
     ]
    },
    {
     "name": "stdout",
     "output_type": "stream",
     "text": [
      "80921\n",
      "Epoch 02978 | Loss 0.0274 | train_RMSE 0.1376 | test_RMSE 0.1348 \n",
      "19929\n",
      "80921\n",
      "Epoch 02979 | Loss 0.0274 | train_RMSE 0.1392 | test_RMSE 0.1360 \n",
      "19929\n",
      "80921\n",
      "Epoch 02980 | Loss 0.0275 | train_RMSE 0.1375 | test_RMSE 0.1347 \n"
     ]
    },
    {
     "name": "stderr",
     "output_type": "stream",
     "text": [
      "\r",
      " 99%|██████████████████████████████████████▊| 2983/3000 [04:36<00:01, 10.77it/s]"
     ]
    },
    {
     "name": "stdout",
     "output_type": "stream",
     "text": [
      "19929\n",
      "80921\n",
      "Epoch 02981 | Loss 0.0273 | train_RMSE 0.1384 | test_RMSE 0.1353 \n",
      "19929\n",
      "80921\n",
      "Epoch 02982 | Loss 0.0272 | train_RMSE 0.1382 | test_RMSE 0.1354 \n",
      "19929\n"
     ]
    },
    {
     "name": "stderr",
     "output_type": "stream",
     "text": [
      "\r",
      "100%|██████████████████████████████████████▊| 2985/3000 [04:36<00:01, 10.77it/s]"
     ]
    },
    {
     "name": "stdout",
     "output_type": "stream",
     "text": [
      "80921\n",
      "Epoch 02983 | Loss 0.0273 | train_RMSE 0.1374 | test_RMSE 0.1345 \n",
      "19929\n",
      "80921\n",
      "Epoch 02984 | Loss 0.0270 | train_RMSE 0.1370 | test_RMSE 0.1341 \n",
      "19929\n",
      "80921\n",
      "Epoch 02985 | Loss 0.0270 | train_RMSE 0.1375 | test_RMSE 0.1345 \n"
     ]
    },
    {
     "name": "stderr",
     "output_type": "stream",
     "text": [
      "\r",
      "100%|██████████████████████████████████████▊| 2987/3000 [04:36<00:01, 10.77it/s]"
     ]
    },
    {
     "name": "stdout",
     "output_type": "stream",
     "text": [
      "19929\n",
      "80921\n",
      "Epoch 02986 | Loss 0.0269 | train_RMSE 0.1374 | test_RMSE 0.1343 \n",
      "19929\n",
      "80921\n",
      "Epoch 02987 | Loss 0.0273 | train_RMSE 0.1372 | test_RMSE 0.1343 \n",
      "19929\n"
     ]
    },
    {
     "name": "stderr",
     "output_type": "stream",
     "text": [
      "100%|██████████████████████████████████████▉| 2991/3000 [04:37<00:00, 10.78it/s]"
     ]
    },
    {
     "name": "stdout",
     "output_type": "stream",
     "text": [
      "80921\n",
      "Epoch 02988 | Loss 0.0272 | train_RMSE 0.1382 | test_RMSE 0.1351 \n",
      "19929\n",
      "80921\n",
      "Epoch 02989 | Loss 0.0274 | train_RMSE 0.1376 | test_RMSE 0.1348 \n",
      "19929\n",
      "80921\n",
      "Epoch 02990 | Loss 0.0273 | train_RMSE 0.1381 | test_RMSE 0.1350 \n"
     ]
    },
    {
     "name": "stderr",
     "output_type": "stream",
     "text": [
      "\r",
      "100%|██████████████████████████████████████▉| 2993/3000 [04:37<00:00, 10.77it/s]"
     ]
    },
    {
     "name": "stdout",
     "output_type": "stream",
     "text": [
      "19929\n",
      "80921\n",
      "Epoch 02991 | Loss 0.0272 | train_RMSE 0.1376 | test_RMSE 0.1347 \n",
      "19929\n",
      "80921\n",
      "Epoch 02992 | Loss 0.0274 | train_RMSE 0.1388 | test_RMSE 0.1357 \n",
      "19929\n"
     ]
    },
    {
     "name": "stderr",
     "output_type": "stream",
     "text": [
      "\r",
      "100%|██████████████████████████████████████▉| 2995/3000 [04:37<00:00, 10.77it/s]"
     ]
    },
    {
     "name": "stdout",
     "output_type": "stream",
     "text": [
      "80921\n",
      "Epoch 02993 | Loss 0.0272 | train_RMSE 0.1381 | test_RMSE 0.1353 \n",
      "19929\n",
      "80921\n",
      "Epoch 02994 | Loss 0.0271 | train_RMSE 0.1383 | test_RMSE 0.1351 \n",
      "19929\n",
      "80921\n",
      "Epoch 02995 | Loss 0.0273 | train_RMSE 0.1388 | test_RMSE 0.1359 \n"
     ]
    },
    {
     "name": "stderr",
     "output_type": "stream",
     "text": [
      "\r",
      "100%|██████████████████████████████████████▉| 2997/3000 [04:37<00:00, 10.78it/s]"
     ]
    },
    {
     "name": "stdout",
     "output_type": "stream",
     "text": [
      "19929\n",
      "80921\n",
      "Epoch 02996 | Loss 0.0276 | train_RMSE 0.1385 | test_RMSE 0.1354 \n",
      "19929\n",
      "80921\n",
      "Epoch 02997 | Loss 0.0277 | train_RMSE 0.1368 | test_RMSE 0.1340 \n",
      "19929\n"
     ]
    },
    {
     "name": "stderr",
     "output_type": "stream",
     "text": [
      "100%|███████████████████████████████████████| 3000/3000 [04:37<00:00, 10.80it/s]"
     ]
    },
    {
     "name": "stdout",
     "output_type": "stream",
     "text": [
      "80921\n",
      "Epoch 02998 | Loss 0.0272 | train_RMSE 0.1377 | test_RMSE 0.1346 \n",
      "19929\n",
      "80921\n",
      "Epoch 02999 | Loss 0.0270 | train_RMSE 0.1390 | test_RMSE 0.1359 \n",
      "best loss: 0.02680950239300728\n",
      "Testing...\n"
     ]
    },
    {
     "name": "stderr",
     "output_type": "stream",
     "text": [
      "\n"
     ]
    },
    {
     "name": "stdout",
     "output_type": "stream",
     "text": [
      "80921\n",
      "19929\n",
      "train RMSE 0.1372\n",
      "test RMSE 0.1343\n"
     ]
    }
   ],
   "source": [
    "device = torch.device(\"cuda\" if torch.cuda.is_available() else \"cpu\")\n",
    "\n",
    "g = g.to(device)\n",
    "\n",
    "# train_carbon_mask.to(device)\n",
    "# test_carbon_mask.to(device)\n",
    "# labels.to(device)\n",
    "# features.to(device)\n",
    "\n",
    "features = g.ndata[\"feat\"]\n",
    "labels = g.ndata[\"shift_value\"]\n",
    "masks = g.ndata['train_mask'], g.ndata['test_mask']\n",
    "\n",
    "\n",
    "masks = g.ndata['train_hydrogen_mask'], g.ndata['test_hydrogen_mask']\n",
    "# masks = g.ndata['train_carbon_mask'], g.ndata['test_carbon_mask']\n",
    "# masks = train_carbon_mask, test_carbon_mask\n",
    "\n",
    "print(features.dtype)\n",
    "print(labels.dtype)\n",
    "\n",
    "model = NMR_GCN(in_size=in_size, hid_size=[hidden_size_1, hidden_size_2,\n",
    "                                       hidden_size_3, hidden_size_4], out_size=1).to(device)\n",
    "\n",
    "# model =  GATv2(in_feats=in_size).to(device)\n",
    "\n",
    "\n",
    "# NMR_prediction = NMR_prediction(results_dir='dataset/Godess_final_data/results/training_carbon.csv',\n",
    "#                                 results_dir_test = 'dataset/Godess_final_data/results/testing_carbon.csv',\n",
    "#                                 model_dir='dataset/Godess_final_data/results/Model_Godess_carbon.pt',\n",
    "#                                 num_epoch = num_epoch, \n",
    "#                                 lr = lr)\n",
    "\n",
    "\n",
    "NMR_prediction = NMR_prediction(results_dir='dataset/Godess_final_data/results/training_hydrogen.csv',\n",
    "                                results_dir_test = 'dataset/Godess_final_data/results/testing_hydrogen.csv',\n",
    "                                model_dir='dataset/Godess_final_data/results/Model_Godess_hydrogen.pt',\n",
    "                                num_epoch = num_epoch, \n",
    "                                lr = lr)\n",
    "\n",
    "\n",
    "\n",
    "\n",
    "print(\"Training...\")\n",
    "NMR_prediction.train(g, features, labels, masks, model)\n",
    "\n",
    "# test the model\n",
    "print(\"Testing...\")\n",
    "saved_model = NMR_GCN(in_size=in_size, hid_size=[hidden_size_1, hidden_size_2,\n",
    "                                                 hidden_size_3, hidden_size_4], out_size=1).to(device)\n",
    "saved_model.load_state_dict(torch.load(NMR_prediction.model_dir))\n",
    "\n",
    "acc1 = NMR_prediction.evaluate(g, features, labels, masks[0], saved_model, save_train=True, save_test = False)\n",
    "\n",
    "acc2 = NMR_prediction.evaluate(g, features, labels, masks[1], saved_model, save_train=False, save_test = True)\n",
    "\n",
    "\n",
    "print(\"train RMSE {:.4f}\".format(acc1))\n",
    "print(\"test RMSE {:.4f}\".format(acc2))"
   ]
  },
  {
   "cell_type": "code",
   "execution_count": null,
   "id": "d881bdcd",
   "metadata": {},
   "outputs": [],
   "source": [
    "sum(p.numel() for p in saved_model.parameters())"
   ]
  },
  {
   "cell_type": "code",
   "execution_count": null,
   "id": "7567b356",
   "metadata": {},
   "outputs": [],
   "source": [
    "g.ndata['test_carbon_mask'].cpu().detach().numpy().sum()"
   ]
  },
  {
   "cell_type": "code",
   "execution_count": null,
   "id": "3a6785ee",
   "metadata": {},
   "outputs": [],
   "source": [
    "# df_visulize = pd.read_csv('dataset/Godess_final_data/results/training_carbon.csv')\n",
    "# df_visulize = pd.read_csv('dataset/Godess_final_data/results/testing_carbon.csv')\n",
    "\n",
    "\n",
    "# df_visulize = pd.read_csv('dataset/Godess_final_data/results/training_hydrogen.csv')\n",
    "df_visulize = pd.read_csv('dataset/Godess_final_data/results/testing_hydrogen.csv')\n",
    "\n",
    "\n",
    "data_dir = 'dataset/Godess_final_data/Godess_data_rev/'\n",
    "files_labels_list = os.listdir(data_dir)"
   ]
  },
  {
   "cell_type": "code",
   "execution_count": null,
   "id": "5f7e70e7",
   "metadata": {},
   "outputs": [],
   "source": [
    "test_index = list(pd.read_csv('dataset/Godess_final_data/graph/save_graph/test_index_experiment.csv')['0'])"
   ]
  },
  {
   "cell_type": "code",
   "execution_count": null,
   "id": "aecff9f3",
   "metadata": {},
   "outputs": [],
   "source": [
    "(np.array(test_index) == -1.0).sum()"
   ]
  },
  {
   "cell_type": "code",
   "execution_count": null,
   "id": "a2ed8933",
   "metadata": {},
   "outputs": [],
   "source": [
    "atom_test_list = []\n",
    "residue_test_list = []\n",
    "atom_name_test_list = []\n",
    "residue_name_test_list = []\n",
    "# hydrogen_list_1_6 = ['H1', 'H11', 'H2', 'H3', 'H31', 'H4', 'H5', 'H51', 'H6', 'H61', 'H7', 'H8', 'H9', 'H91']\n",
    "# hydrogen_list_1_6 = ['H1', 'H11', 'H2', 'H3', 'H31', 'H4', 'H5', 'H51', 'H6', 'H61',\n",
    "#                      'Neup_H2', 'Neup_H3', 'Neup_H31', 'Neup_H4', 'Neup_H5', 'Neup_H6', \n",
    "#                      'Neup_H7', 'Neup_H8', 'Neup_H9', 'Neup_H91']\n",
    "\n",
    "\n",
    "hydrogen_list_1_6 = ['H1', 'H11', 'H2', 'H3', 'H4', 'H41', 'H5', 'H51', 'H6', 'H61',\n",
    "                     'H7', 'Kdo_H3', 'Kdo_H31', 'Kdo_H4', 'Kdo_H5', 'Kdo_H6', 'Kdo_H7',\n",
    "                     'Kdo_H8', 'Kdo_H81', 'Neup_H2', 'Neup_H3', 'Neup_H31', 'Neup_H4',\n",
    "                     'Neup_H5', 'Neup_H6', 'Neup_H7', 'Neup_H8', 'Neup_H9', 'Neup_H91']\n",
    "\n",
    "# carbon_list = ['C1', 'C11', 'C2', 'C21', 'C3', 'C4', 'C5', 'C6', 'C7', 'C8', 'C9']\n",
    "# carbon_list = ['C1', 'C11', 'C2', 'C21', 'C3', 'C4', 'C5', 'C6',\n",
    "#                'Neup_C1','Neup_C11', 'Neup_C2', 'Neup_C21', 'Neup_C3', 'Neup_C4',\n",
    "#                'Neup_C5', 'Neup_C6', 'Neup_C7', 'Neup_C8', 'Neup_C9']\n",
    "\n",
    "carbon_list = ['C1', 'C2', 'C3', 'C4', 'C5', 'C6', 'C7', 'C8', 'C9', 'Kdo_C1',\n",
    "               'Kdo_C2', 'Kdo_C3', 'Kdo_C4', 'Kdo_C5', 'Kdo_C6', 'Kdo_C7',\n",
    "               'Kdo_C8', 'Neup_C1', 'Neup_C2', 'Neup_C3', 'Neup_C4', 'Neup_C5',\n",
    "               'Neup_C6', 'Neup_C7', 'Neup_C8', 'Neup_C9']\n",
    "\n",
    "for i in range(len(files_labels_list)):\n",
    "    if test_index[i] == 1:\n",
    "#     if test_index[i] == 0:\n",
    "        temp_df = pd.read_csv(os.path.join(data_dir, files_labels_list[i]))\n",
    "    \n",
    "    \n",
    "        temp_atom_list = list(temp_df.loc[(temp_df['main_ring_shift'] !=-1)]['New_Atom_name'].values)\n",
    "        \n",
    "        temp_atom_list_hydrogen = [i for i in temp_atom_list if i in hydrogen_list_1_6]\n",
    "        atom_test_list.extend(temp_atom_list_hydrogen)\n",
    "        \n",
    "        atom_name_test_list.extend(np.repeat(files_labels_list[i], len(temp_atom_list_hydrogen)))\n",
    "        \n",
    "        \n",
    "        temp_residue_list = temp_df.loc[(temp_df['main_ring_shift'] !=-1)]['Residual_accurate_name'].values\n",
    "        \n",
    "        temp_residue_list_hydrogen = []\n",
    "        for m in range(len(temp_residue_list)):\n",
    "            if temp_atom_list[m] in hydrogen_list_1_6:\n",
    "                temp_residue_list_hydrogen.append(temp_residue_list[m])\n",
    "        \n",
    "        residue_test_list.extend(temp_residue_list_hydrogen)\n",
    "        \n",
    "        \n",
    "        \n",
    "        \n",
    "#         temp_atom_list = list(temp_df.loc[(temp_df['main_ring_shift'] !=-1) & ((temp_df['main_ring_shift'] > 10))]['New_Atom_name'].values)\n",
    "        \n",
    "#         temp_atom_list_carbon = [i for i in temp_atom_list if i in carbon_list]\n",
    "#         atom_test_list.extend(temp_atom_list_carbon)\n",
    "        \n",
    "        \n",
    "#         atom_name_test_list.extend(np.repeat(files_labels_list[i], len(temp_atom_list_carbon)))\n",
    "        \n",
    "        \n",
    "#         temp_residue_list = list(temp_df.loc[(temp_df['main_ring_shift'] !=-1) & ((temp_df['main_ring_shift'] > 10))]['Residual_accurate_name'].values)\n",
    "        \n",
    "#         temp_residue_list_carbon = []\n",
    "#         for m in range(len(temp_residue_list)):\n",
    "#             if temp_atom_list[m] in carbon_list:\n",
    "#                 temp_residue_list_carbon.append(temp_residue_list[m])\n",
    "        \n",
    "#         residue_test_list.extend(temp_residue_list_carbon)"
   ]
  },
  {
   "cell_type": "code",
   "execution_count": null,
   "id": "a79c538b",
   "metadata": {},
   "outputs": [],
   "source": [
    "len(atom_test_list), len(df_visulize), len(residue_test_list)"
   ]
  },
  {
   "cell_type": "code",
   "execution_count": null,
   "id": "e2f0b810",
   "metadata": {},
   "outputs": [],
   "source": [
    "df_visulize['atom_type'] = atom_test_list\n",
    "\n",
    "df_visulize['residue_name'] = residue_test_list\n",
    "\n",
    "df_visulize['glycan_name'] = atom_name_test_list\n",
    "\n",
    "df_visulize['difference'] = np.abs(df_visulize['1'] - df_visulize['0'])\n",
    "\n",
    "df_visulize = df_visulize.sort_values(by = ['difference'], ascending=False)\n",
    "\n",
    "df_visulize.index = range(len(df_visulize))"
   ]
  },
  {
   "cell_type": "code",
   "execution_count": null,
   "id": "9946db94",
   "metadata": {},
   "outputs": [],
   "source": [
    "# df_visulize"
   ]
  },
  {
   "cell_type": "code",
   "execution_count": null,
   "id": "b91739fa",
   "metadata": {},
   "outputs": [],
   "source": [
    "# df_visulize.to_csv('dataset/Godess_final_data/visulize/carbon/train_carbon.csv', index = False)\n",
    "\n",
    "# df_visulize.to_csv('dataset/Godess_final_data/visulize/carbon/testing_carbon.csv', index = False) \n",
    "\n",
    "# df_visulize.to_csv('dataset/Godess_final_data/visulize/hydrogen/train_hydrogen.csv', index = False)\n",
    "\n",
    "# df_visulize.to_csv('dataset/Godess_final_data/visulize/hydrogen/testing_hydrogen.csv', index = False)"
   ]
  },
  {
   "cell_type": "code",
   "execution_count": null,
   "id": "9b5ae479",
   "metadata": {},
   "outputs": [],
   "source": [
    "# df_visulize.to_csv('dataset/Godess_final_data/visulize/carbon/train_carbon_extra_feature.csv', index = False)\n",
    "\n",
    "# df_visulize.to_csv('dataset/Godess_final_data/visulize/carbon/testing_carbon_extra_feature.csv', index = False) \n",
    "\n",
    "# df_visulize.to_csv('dataset/Godess_final_data/visulize/hydrogen/train_hydrogen_extra_feature.csv', index = False)\n",
    "\n",
    "# df_visulize.to_csv('dataset/Godess_final_data/visulize/hydrogen/testing_hydrogen_extra_feature.csv', index = False)"
   ]
  },
  {
   "cell_type": "code",
   "execution_count": null,
   "id": "d2170d24",
   "metadata": {},
   "outputs": [],
   "source": [
    "# np.unique(df_visulize['atom_type'])"
   ]
  },
  {
   "cell_type": "code",
   "execution_count": null,
   "id": "4191104d",
   "metadata": {},
   "outputs": [],
   "source": [
    "# num_test = 462\n",
    "# # 399\n",
    "\n",
    "# atom_name_dim=256\n",
    "\n",
    "# bound_orig_dim=32\n",
    "\n",
    "# atom_type_dim=32\n",
    "\n",
    "# ab_dim=64\n",
    "\n",
    "# dl_dim=64\n",
    "\n",
    "# pf_dim=64\n",
    "\n",
    "# mono_accurate_dim=128\n",
    "\n",
    "# mono_simple_dim=256\n",
    "\n",
    "# me_dim=32\n",
    "\n",
    "# ser_dim=32\n",
    "\n",
    "# s_dim=64\n",
    "\n",
    "# ac_dim=64\n",
    "\n",
    "# gc_dim=32\n",
    "\n",
    "\n",
    "# in_size = atom_name_dim + bound_orig_dim + atom_type_dim + ab_dim + dl_dim + \\\n",
    "#             pf_dim + mono_accurate_dim + mono_simple_dim + me_dim + ser_dim + \\\n",
    "#             s_dim + ac_dim + gc_dim\n",
    "\n",
    "# hidden_size_1 = int(in_size / 2)\n",
    "# hidden_size_2 = int(hidden_size_1 / 2)\n",
    "# hidden_size_3 = 256\n",
    "# hidden_size_4 = 128\n",
    "\n",
    "# num_epoch = 3000\n",
    "# lr = 1e-3\n",
    "\n",
    "# # num_epoch = 5000\n",
    "# # lr = 1e-4\n",
    "\n",
    "# threshold_carbon=1.65\n",
    "# threshold_hydrogen=1.18\n",
    "# threshold_general=1.5\n",
    "# threshold_interaction=5.0\n",
    "\n",
    "\n",
    "# seed=97211\n",
    "\n",
    "\n",
    "# data_dir = 'dataset/Godess_final_data/Godess_data_rev/'\n"
   ]
  }
 ],
 "metadata": {
  "kernelspec": {
   "display_name": "Python 3 (ipykernel)",
   "language": "python",
   "name": "python3"
  },
  "language_info": {
   "codemirror_mode": {
    "name": "ipython",
    "version": 3
   },
   "file_extension": ".py",
   "mimetype": "text/x-python",
   "name": "python",
   "nbconvert_exporter": "python",
   "pygments_lexer": "ipython3",
   "version": "3.8.15"
  }
 },
 "nbformat": 4,
 "nbformat_minor": 5
}
