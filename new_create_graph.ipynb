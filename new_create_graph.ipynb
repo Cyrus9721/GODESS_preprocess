{
 "cells": [
  {
   "cell_type": "code",
   "execution_count": 1,
   "id": "00d3359f",
   "metadata": {},
   "outputs": [],
   "source": [
    "import numpy as np\n",
    "import pandas as pd\n",
    "import os\n",
    "from tqdm import tqdm\n",
    "import torch\n",
    "import torch.nn as nn\n",
    "\n",
    "from train_evaluate import NMR_prediction\n",
    "import torch.nn.functional as F\n",
    "import dgl\n",
    "import dgl.nn as dglnn\n",
    "import torch.nn as nn\n",
    "from dgl import AddSelfLoop\n",
    "from model_zoo.NMR_gcn import NMR_GCN\n",
    "from create_graph_data import create_graph\n",
    "from node_embeddings import create_node_embeddings\n",
    "from create_adjaency_matrix_from_labeled_pdb import build_adjacency_matrix\n",
    "from dgl import save_graphs, load_graphs\n",
    "from tqdm import tqdm"
   ]
  },
  {
   "cell_type": "code",
   "execution_count": 2,
   "id": "a3a6848b",
   "metadata": {},
   "outputs": [],
   "source": [
    "num_test = 462\n",
    "# 399\n",
    "\n",
    "atom_name_dim=256\n",
    "\n",
    "bound_orig_dim=32\n",
    "\n",
    "atom_type_dim=32\n",
    "\n",
    "ab_dim=64\n",
    "\n",
    "dl_dim=64\n",
    "\n",
    "pf_dim=64\n",
    "\n",
    "mono_accurate_dim=128\n",
    "\n",
    "mono_simple_dim=256\n",
    "\n",
    "me_dim=32\n",
    "\n",
    "ser_dim=32\n",
    "\n",
    "s_dim=64\n",
    "\n",
    "ac_dim=64\n",
    "\n",
    "gc_dim=32\n",
    "\n",
    "\n",
    "in_size = atom_name_dim + bound_orig_dim + atom_type_dim + ab_dim + dl_dim + \\\n",
    "            pf_dim + mono_accurate_dim + mono_simple_dim + me_dim + ser_dim + \\\n",
    "            s_dim + ac_dim + gc_dim\n",
    "\n",
    "hidden_size_1 = int(in_size / 2)\n",
    "hidden_size_2 = int(hidden_size_1 / 2)\n",
    "hidden_size_3 = 256\n",
    "hidden_size_4 = 128\n",
    "\n",
    "num_epoch = 20000\n",
    "lr = 1e-4\n",
    "\n",
    "# num_epoch = 5000\n",
    "# lr = 1e-4\n",
    "\n",
    "threshold_carbon=1.65\n",
    "threshold_hydrogen=1.18\n",
    "threshold_general=1.5\n",
    "threshold_interaction=5.0\n",
    "\n",
    "\n",
    "seed=97211\n",
    "\n",
    "\n",
    "data_dir = 'dataset/Godess_final_data/Godess_data_rev/'\n",
    "\n",
    "additional_drop = [221, 325, 2304, 1184, 1408, 1984, 1976, 1506, 525, 1531, 746, 2000, 1053, 1328, 2114, 94, 929, \n",
    "                  2134, 2287, 1575, 501, 1034, 839, 646, 1602, 2403, 1857]\n",
    "\n",
    "Create = create_graph(data_dir=data_dir, \n",
    "                      num_test=num_test, \n",
    "                      additional_drop=additional_drop, \n",
    "                      seed=seed)"
   ]
  },
  {
   "cell_type": "code",
   "execution_count": 3,
   "id": "b94ce180",
   "metadata": {},
   "outputs": [],
   "source": [
    "g = dgl.DGLGraph()\n",
    "\n",
    "train_test_indicator = Create.generate_train_test_split()"
   ]
  },
  {
   "cell_type": "code",
   "execution_count": 4,
   "id": "cfe4a20e",
   "metadata": {},
   "outputs": [],
   "source": [
    "data_dir= 'dataset/Godess_final_data/Godess_data_rev/'\n",
    "num_test = 462\n",
    "additional_drop = [221, 325, 2304, 1184, 1408, 1984, 1976, 1506, 525, 1531, \n",
    "                   746, 2000, 1053, 1328, 2114, 94, 929, 2134, 2287, 1575, \n",
    "                   501, 1034, 839, 646, 1602, 2403, 1857]\n",
    "seed = 97211"
   ]
  },
  {
   "cell_type": "code",
   "execution_count": 5,
   "id": "d385ff78",
   "metadata": {},
   "outputs": [],
   "source": [
    "from GODDESS import GODESSDataset"
   ]
  },
  {
   "cell_type": "code",
   "execution_count": 6,
   "id": "2b8437e3",
   "metadata": {},
   "outputs": [
    {
     "data": {
      "text/plain": [
       "GODDESS.GODESSDataset"
      ]
     },
     "execution_count": 6,
     "metadata": {},
     "output_type": "execute_result"
    }
   ],
   "source": [
    "GODESSDataset"
   ]
  },
  {
   "cell_type": "code",
   "execution_count": 7,
   "id": "267cf48b",
   "metadata": {},
   "outputs": [],
   "source": [
    "# import dgl\n",
    "# from dgl.data import DGLDataset\n",
    "# import torch\n",
    "\n",
    "# class GODESSDataset(DGLDataset):\n",
    "#     def __init__(self):\n",
    "#         super(GODESSDataset, self).__init__(name = 'GlycoNMR_GODESS')\n",
    "    \n",
    "#     def process(self):\n",
    "#         # Implement the processing logic to generate your graphs\n",
    "#         self.graphs = []\n",
    "        \n",
    "#         self.train_test_indicator = []\n",
    "        \n",
    "#         self.glycan_name = []\n",
    "        \n",
    "#         C = create_graph(data_dir=data_dir, \n",
    "#                          num_test=num_test, \n",
    "#                          additional_drop=additional_drop, \n",
    "#                          seed=seed)\n",
    "        \n",
    "#         train_test_indicator = C.generate_train_test_split()\n",
    "        \n",
    "#         for i in tqdm(range(len(C.files_labels_list))):\n",
    "#             f = C.files_labels_list[i]\n",
    "#             if train_test_indicator[i] == 1:\n",
    "#                 temp_g = C.create_single_graph(f, in_train_set=False, in_test_set=True)\n",
    "#                 self.train_test_indicator.append(1)\n",
    "#                 self.glycan_name.append(f)\n",
    "#             elif train_test_indicator[i] == 0:\n",
    "#                 temp_g = C.create_single_graph(f, in_train_set=True, in_test_set=False)\n",
    "#                 self.train_test_indicator.append(0)\n",
    "#                 self.glycan_name.append(f)\n",
    "                \n",
    "                \n",
    "#             elif train_test_indicator[i] == -1:\n",
    "#                 print(f, 'is dropped due to rare monosaccharide appearance')\n",
    "#                 continue\n",
    "                \n",
    "#             self.graphs.append(temp_g)\n",
    "        \n",
    "#     def __getitem__(self, idx):\n",
    "#         return self.graphs[idx], self.train_test_indicator[idx], self.glycan_name[idx]\n",
    "#     def __len__(self):\n",
    "#         return len(self.graphs)\n"
   ]
  },
  {
   "cell_type": "code",
   "execution_count": 8,
   "id": "0bbf7283",
   "metadata": {},
   "outputs": [
    {
     "name": "stderr",
     "output_type": "stream",
     "text": [
      "  0%|▏                                        | 10/2399 [00:00<00:31, 76.77it/s]"
     ]
    },
    {
     "name": "stdout",
     "output_type": "stream",
     "text": [
      "labeled_all_325.pdb.csv is dropped due to rare monosaccharide appearance\n",
      "labeled_all_2304.pdb.csv is dropped due to rare monosaccharide appearance\n",
      "labeled_all_1184.pdb.csv is dropped due to rare monosaccharide appearance\n",
      "labeled_all_1408.pdb.csv is dropped due to rare monosaccharide appearance\n",
      "labeled_all_1984.pdb.csv is dropped due to rare monosaccharide appearance\n",
      "labeled_all_1976.pdb.csv is dropped due to rare monosaccharide appearance\n",
      "labeled_all_1506.pdb.csv is dropped due to rare monosaccharide appearance\n",
      "labeled_all_525.pdb.csv is dropped due to rare monosaccharide appearance\n",
      "labeled_all_1531.pdb.csv is dropped due to rare monosaccharide appearance\n",
      "labeled_all_746.pdb.csv is dropped due to rare monosaccharide appearance\n",
      "labeled_all_2000.pdb.csv is dropped due to rare monosaccharide appearance\n"
     ]
    },
    {
     "name": "stderr",
     "output_type": "stream",
     "text": [
      "  1%|▍                                        | 29/2399 [00:00<00:27, 85.09it/s]"
     ]
    },
    {
     "name": "stdout",
     "output_type": "stream",
     "text": [
      "labeled_all_1053.pdb.csv is dropped due to rare monosaccharide appearance\n",
      "labeled_all_1328.pdb.csv is dropped due to rare monosaccharide appearance\n",
      "labeled_all_2114.pdb.csv is dropped due to rare monosaccharide appearance\n",
      "labeled_all_94.pdb.csv is dropped due to rare monosaccharide appearance\n",
      "labeled_all_929.pdb.csv is dropped due to rare monosaccharide appearance\n",
      "labeled_all_2403.pdb.csv is dropped due to rare monosaccharide appearance\n"
     ]
    },
    {
     "name": "stderr",
     "output_type": "stream",
     "text": [
      "  3%|█▏                                       | 72/2399 [00:01<00:45, 51.64it/s]"
     ]
    },
    {
     "name": "stdout",
     "output_type": "stream",
     "text": [
      "labeled_all_2163.pdb.csv is dropped due to rare monosaccharide appearance\n",
      "labeled_all_2261.pdb.csv is dropped due to rare monosaccharide appearance\n"
     ]
    },
    {
     "name": "stderr",
     "output_type": "stream",
     "text": [
      "  4%|█▋                                      | 103/2399 [00:01<00:46, 49.73it/s]"
     ]
    },
    {
     "name": "stdout",
     "output_type": "stream",
     "text": [
      "labeled_all_519.pdb.csv is dropped due to rare monosaccharide appearance\n"
     ]
    },
    {
     "name": "stderr",
     "output_type": "stream",
     "text": [
      "  5%|██                                      | 120/2399 [00:02<00:51, 44.22it/s]"
     ]
    },
    {
     "name": "stdout",
     "output_type": "stream",
     "text": [
      "labeled_all_2371.pdb.csv is dropped due to rare monosaccharide appearance\n"
     ]
    },
    {
     "name": "stderr",
     "output_type": "stream",
     "text": [
      "  6%|██▌                                     | 151/2399 [00:03<00:51, 44.05it/s]"
     ]
    },
    {
     "name": "stdout",
     "output_type": "stream",
     "text": [
      "labeled_all_1602.pdb.csv is dropped due to rare monosaccharide appearance\n"
     ]
    },
    {
     "name": "stderr",
     "output_type": "stream",
     "text": [
      "  8%|███                                     | 186/2399 [00:03<00:54, 40.55it/s]"
     ]
    },
    {
     "name": "stdout",
     "output_type": "stream",
     "text": [
      "labeled_all_2289.pdb.csv is dropped due to rare monosaccharide appearance\n"
     ]
    },
    {
     "name": "stderr",
     "output_type": "stream",
     "text": [
      " 10%|████                                    | 243/2399 [00:05<00:43, 49.86it/s]"
     ]
    },
    {
     "name": "stdout",
     "output_type": "stream",
     "text": [
      "labeled_all_2332.pdb.csv is dropped due to rare monosaccharide appearance\n"
     ]
    },
    {
     "name": "stderr",
     "output_type": "stream",
     "text": [
      " 12%|████▊                                   | 290/2399 [00:06<00:47, 44.00it/s]"
     ]
    },
    {
     "name": "stdout",
     "output_type": "stream",
     "text": [
      "labeled_all_2297.pdb.csv is dropped due to rare monosaccharide appearance\n"
     ]
    },
    {
     "name": "stderr",
     "output_type": "stream",
     "text": [
      " 15%|██████▏                                 | 369/2399 [00:07<00:38, 52.38it/s]"
     ]
    },
    {
     "name": "stdout",
     "output_type": "stream",
     "text": [
      "labeled_all_2365.pdb.csv is dropped due to rare monosaccharide appearance\n"
     ]
    },
    {
     "name": "stderr",
     "output_type": "stream",
     "text": [
      " 18%|███████▏                                | 428/2399 [00:09<00:44, 44.75it/s]"
     ]
    },
    {
     "name": "stdout",
     "output_type": "stream",
     "text": [
      "labeled_all_2182.pdb.csv is dropped due to rare monosaccharide appearance\n",
      "labeled_all_2164.pdb.csv is dropped due to rare monosaccharide appearance\n"
     ]
    },
    {
     "name": "stderr",
     "output_type": "stream",
     "text": [
      " 19%|███████▍                                | 446/2399 [00:09<00:37, 51.64it/s]"
     ]
    },
    {
     "name": "stdout",
     "output_type": "stream",
     "text": [
      "labeled_all_2344.pdb.csv is dropped due to rare monosaccharide appearance\n"
     ]
    },
    {
     "name": "stderr",
     "output_type": "stream",
     "text": [
      " 19%|███████▋                                | 464/2399 [00:10<00:37, 51.21it/s]"
     ]
    },
    {
     "name": "stdout",
     "output_type": "stream",
     "text": [
      "labeled_all_839.pdb.csv is dropped due to rare monosaccharide appearance\n"
     ]
    },
    {
     "name": "stderr",
     "output_type": "stream",
     "text": [
      " 21%|████████▏                               | 492/2399 [00:10<00:32, 59.19it/s]"
     ]
    },
    {
     "name": "stdout",
     "output_type": "stream",
     "text": [
      "labeled_all_8.pdb.csv is dropped due to rare monosaccharide appearance\n"
     ]
    },
    {
     "name": "stderr",
     "output_type": "stream",
     "text": [
      " 21%|████████▌                               | 510/2399 [00:10<00:32, 58.81it/s]"
     ]
    },
    {
     "name": "stdout",
     "output_type": "stream",
     "text": [
      "labeled_all_2340.pdb.csv is dropped due to rare monosaccharide appearance\n",
      "labeled_all_2047.pdb.csv is dropped due to rare monosaccharide appearance\n"
     ]
    },
    {
     "name": "stderr",
     "output_type": "stream",
     "text": [
      " 23%|█████████▏                              | 551/2399 [00:11<00:39, 46.74it/s]"
     ]
    },
    {
     "name": "stdout",
     "output_type": "stream",
     "text": [
      "labeled_all_1575.pdb.csv is dropped due to rare monosaccharide appearance\n"
     ]
    },
    {
     "name": "stderr",
     "output_type": "stream",
     "text": [
      " 26%|██████████▍                             | 624/2399 [00:13<00:43, 40.96it/s]"
     ]
    },
    {
     "name": "stdout",
     "output_type": "stream",
     "text": [
      "labeled_all_2156.pdb.csv is dropped due to rare monosaccharide appearance\n"
     ]
    },
    {
     "name": "stderr",
     "output_type": "stream",
     "text": [
      " 27%|██████████▊                             | 652/2399 [00:13<00:37, 47.09it/s]"
     ]
    },
    {
     "name": "stdout",
     "output_type": "stream",
     "text": [
      "labeled_all_2288.pdb.csv is dropped due to rare monosaccharide appearance\n"
     ]
    },
    {
     "name": "stderr",
     "output_type": "stream",
     "text": [
      " 31%|████████████▎                           | 736/2399 [00:15<00:30, 54.49it/s]"
     ]
    },
    {
     "name": "stdout",
     "output_type": "stream",
     "text": [
      "labeled_all_221.pdb.csv is dropped due to rare monosaccharide appearance\n",
      "labeled_all_361.pdb.csv is dropped due to rare monosaccharide appearance\n"
     ]
    },
    {
     "name": "stderr",
     "output_type": "stream",
     "text": [
      " 33%|█████████████                           | 783/2399 [00:16<00:39, 40.70it/s]"
     ]
    },
    {
     "name": "stdout",
     "output_type": "stream",
     "text": [
      "labeled_all_1034.pdb.csv is dropped due to rare monosaccharide appearance\n"
     ]
    },
    {
     "name": "stderr",
     "output_type": "stream",
     "text": [
      " 36%|██████████████▌                         | 875/2399 [00:18<00:31, 48.38it/s]"
     ]
    },
    {
     "name": "stdout",
     "output_type": "stream",
     "text": [
      "labeled_all_2377.pdb.csv is dropped due to rare monosaccharide appearance\n"
     ]
    },
    {
     "name": "stderr",
     "output_type": "stream",
     "text": [
      " 37%|██████████████▉                         | 893/2399 [00:18<00:29, 51.24it/s]"
     ]
    },
    {
     "name": "stdout",
     "output_type": "stream",
     "text": [
      "labeled_all_57.pdb.csv is dropped due to rare monosaccharide appearance\n",
      "labeled_all_51.pdb.csv is dropped due to rare monosaccharide appearance\n"
     ]
    },
    {
     "name": "stderr",
     "output_type": "stream",
     "text": [
      " 39%|███████████████▍                        | 929/2399 [00:19<00:28, 52.49it/s]"
     ]
    },
    {
     "name": "stdout",
     "output_type": "stream",
     "text": [
      "labeled_all_2134.pdb.csv is dropped due to rare monosaccharide appearance\n",
      "labeled_all_82.pdb.csv is dropped due to rare monosaccharide appearance\n"
     ]
    },
    {
     "name": "stderr",
     "output_type": "stream",
     "text": [
      " 42%|████████████████▌                      | 1016/2399 [00:21<00:27, 50.18it/s]"
     ]
    },
    {
     "name": "stdout",
     "output_type": "stream",
     "text": [
      "labeled_all_646.pdb.csv is dropped due to rare monosaccharide appearance\n"
     ]
    },
    {
     "name": "stderr",
     "output_type": "stream",
     "text": [
      " 43%|████████████████▊                      | 1035/2399 [00:21<00:27, 49.43it/s]"
     ]
    },
    {
     "name": "stdout",
     "output_type": "stream",
     "text": [
      "labeled_all_2414.pdb.csv is dropped due to rare monosaccharide appearance\n"
     ]
    },
    {
     "name": "stderr",
     "output_type": "stream",
     "text": [
      " 44%|█████████████████▏                     | 1057/2399 [00:22<00:29, 44.87it/s]"
     ]
    },
    {
     "name": "stdout",
     "output_type": "stream",
     "text": [
      "labeled_all_11.pdb.csv is dropped due to rare monosaccharide appearance\n"
     ]
    },
    {
     "name": "stderr",
     "output_type": "stream",
     "text": [
      " 46%|█████████████████▉                     | 1102/2399 [00:23<00:26, 48.09it/s]"
     ]
    },
    {
     "name": "stdout",
     "output_type": "stream",
     "text": [
      "labeled_all_2322.pdb.csv is dropped due to rare monosaccharide appearance\n",
      "labeled_all_2263.pdb.csv is dropped due to rare monosaccharide appearance\n"
     ]
    },
    {
     "name": "stderr",
     "output_type": "stream",
     "text": [
      " 48%|██████████████████▋                    | 1151/2399 [00:24<00:27, 45.87it/s]"
     ]
    },
    {
     "name": "stdout",
     "output_type": "stream",
     "text": [
      "labeled_all_2392.pdb.csv is dropped due to rare monosaccharide appearance\n"
     ]
    },
    {
     "name": "stderr",
     "output_type": "stream",
     "text": [
      " 48%|██████████████████▉                    | 1162/2399 [00:24<00:27, 45.26it/s]"
     ]
    },
    {
     "name": "stdout",
     "output_type": "stream",
     "text": [
      "labeled_all_25.pdb.csv is dropped due to rare monosaccharide appearance\n"
     ]
    },
    {
     "name": "stderr",
     "output_type": "stream",
     "text": [
      " 49%|███████████████████▎                   | 1185/2399 [00:25<00:25, 47.30it/s]"
     ]
    },
    {
     "name": "stdout",
     "output_type": "stream",
     "text": [
      "labeled_all_2360.pdb.csv is dropped due to rare monosaccharide appearance\n"
     ]
    },
    {
     "name": "stderr",
     "output_type": "stream",
     "text": [
      " 51%|███████████████████▊                   | 1216/2399 [00:25<00:20, 57.22it/s]"
     ]
    },
    {
     "name": "stdout",
     "output_type": "stream",
     "text": [
      "labeled_all_2318.pdb.csv is dropped due to rare monosaccharide appearance\n"
     ]
    },
    {
     "name": "stderr",
     "output_type": "stream",
     "text": [
      " 51%|███████████████████▉                   | 1230/2399 [00:26<00:20, 58.02it/s]"
     ]
    },
    {
     "name": "stdout",
     "output_type": "stream",
     "text": [
      "labeled_all_2298.pdb.csv is dropped due to rare monosaccharide appearance\n"
     ]
    },
    {
     "name": "stderr",
     "output_type": "stream",
     "text": [
      " 52%|████████████████████▍                  | 1255/2399 [00:26<00:21, 52.59it/s]"
     ]
    },
    {
     "name": "stdout",
     "output_type": "stream",
     "text": [
      "labeled_all_2105.pdb.csv is dropped due to rare monosaccharide appearance\n",
      "labeled_all_2287.pdb.csv is dropped due to rare monosaccharide appearance\n",
      "labeled_all_2198.pdb.csv is dropped due to rare monosaccharide appearance\n"
     ]
    },
    {
     "name": "stderr",
     "output_type": "stream",
     "text": [
      " 54%|█████████████████████                  | 1296/2399 [00:27<00:19, 56.28it/s]"
     ]
    },
    {
     "name": "stdout",
     "output_type": "stream",
     "text": [
      "labeled_all_184.pdb.csv is dropped due to rare monosaccharide appearance\n"
     ]
    },
    {
     "name": "stderr",
     "output_type": "stream",
     "text": [
      " 55%|█████████████████████▎                 | 1308/2399 [00:27<00:20, 53.71it/s]"
     ]
    },
    {
     "name": "stdout",
     "output_type": "stream",
     "text": [
      "labeled_all_2258.pdb.csv is dropped due to rare monosaccharide appearance\n"
     ]
    },
    {
     "name": "stderr",
     "output_type": "stream",
     "text": [
      " 56%|█████████████████████▊                 | 1340/2399 [00:28<00:19, 53.43it/s]"
     ]
    },
    {
     "name": "stdout",
     "output_type": "stream",
     "text": [
      "labeled_all_2157.pdb.csv is dropped due to rare monosaccharide appearance\n",
      "labeled_all_2280.pdb.csv is dropped due to rare monosaccharide appearance\n"
     ]
    },
    {
     "name": "stderr",
     "output_type": "stream",
     "text": [
      " 57%|██████████████████████▎                | 1374/2399 [00:28<00:16, 61.77it/s]"
     ]
    },
    {
     "name": "stdout",
     "output_type": "stream",
     "text": [
      "labeled_all_2350.pdb.csv is dropped due to rare monosaccharide appearance\n"
     ]
    },
    {
     "name": "stderr",
     "output_type": "stream",
     "text": [
      " 59%|███████████████████████                | 1418/2399 [00:29<00:21, 45.69it/s]"
     ]
    },
    {
     "name": "stdout",
     "output_type": "stream",
     "text": [
      "labeled_all_2185.pdb.csv is dropped due to rare monosaccharide appearance\n"
     ]
    },
    {
     "name": "stderr",
     "output_type": "stream",
     "text": [
      " 64%|█████████████████████████              | 1544/2399 [00:32<00:17, 49.89it/s]"
     ]
    },
    {
     "name": "stdout",
     "output_type": "stream",
     "text": [
      "labeled_all_2363.pdb.csv is dropped due to rare monosaccharide appearance\n"
     ]
    },
    {
     "name": "stderr",
     "output_type": "stream",
     "text": [
      " 65%|█████████████████████████▌             | 1569/2399 [00:32<00:16, 49.10it/s]"
     ]
    },
    {
     "name": "stdout",
     "output_type": "stream",
     "text": [
      "labeled_all_2242.pdb.csv is dropped due to rare monosaccharide appearance\n"
     ]
    },
    {
     "name": "stderr",
     "output_type": "stream",
     "text": [
      " 66%|█████████████████████████▋             | 1581/2399 [00:33<00:17, 47.69it/s]"
     ]
    },
    {
     "name": "stdout",
     "output_type": "stream",
     "text": [
      "labeled_all_2345.pdb.csv is dropped due to rare monosaccharide appearance\n"
     ]
    },
    {
     "name": "stderr",
     "output_type": "stream",
     "text": [
      " 68%|██████████████████████████▍            | 1630/2399 [00:34<00:16, 46.12it/s]"
     ]
    },
    {
     "name": "stdout",
     "output_type": "stream",
     "text": [
      "labeled_all_2204.pdb.csv is dropped due to rare monosaccharide appearance\n"
     ]
    },
    {
     "name": "stderr",
     "output_type": "stream",
     "text": [
      " 69%|██████████████████████████▊            | 1650/2399 [00:34<00:17, 43.22it/s]"
     ]
    },
    {
     "name": "stdout",
     "output_type": "stream",
     "text": [
      "labeled_all_2295.pdb.csv is dropped due to rare monosaccharide appearance\n"
     ]
    },
    {
     "name": "stderr",
     "output_type": "stream",
     "text": [
      " 70%|███████████████████████████▍           | 1685/2399 [00:35<00:13, 54.07it/s]"
     ]
    },
    {
     "name": "stdout",
     "output_type": "stream",
     "text": [
      "labeled_all_2405.pdb.csv is dropped due to rare monosaccharide appearance\n"
     ]
    },
    {
     "name": "stderr",
     "output_type": "stream",
     "text": [
      " 71%|███████████████████████████▌           | 1697/2399 [00:35<00:14, 49.69it/s]"
     ]
    },
    {
     "name": "stdout",
     "output_type": "stream",
     "text": [
      "labeled_all_2253.pdb.csv is dropped due to rare monosaccharide appearance\n",
      "labeled_all_2317.pdb.csv is dropped due to rare monosaccharide appearance\n"
     ]
    },
    {
     "name": "stderr",
     "output_type": "stream",
     "text": [
      " 74%|█████████████████████████████          | 1784/2399 [00:37<00:11, 54.91it/s]"
     ]
    },
    {
     "name": "stdout",
     "output_type": "stream",
     "text": [
      "labeled_all_2355.pdb.csv is dropped due to rare monosaccharide appearance\n"
     ]
    },
    {
     "name": "stderr",
     "output_type": "stream",
     "text": [
      " 77%|█████████████████████████████▉         | 1844/2399 [00:38<00:11, 47.56it/s]"
     ]
    },
    {
     "name": "stdout",
     "output_type": "stream",
     "text": [
      "labeled_all_1857.pdb.csv is dropped due to rare monosaccharide appearance\n"
     ]
    },
    {
     "name": "stderr",
     "output_type": "stream",
     "text": [
      " 78%|██████████████████████████████▎        | 1866/2399 [00:39<00:08, 60.29it/s]"
     ]
    },
    {
     "name": "stdout",
     "output_type": "stream",
     "text": [
      "labeled_all_2382.pdb.csv is dropped due to rare monosaccharide appearance\n"
     ]
    },
    {
     "name": "stderr",
     "output_type": "stream",
     "text": [
      " 81%|███████████████████████████████▋       | 1948/2399 [00:40<00:07, 58.68it/s]"
     ]
    },
    {
     "name": "stdout",
     "output_type": "stream",
     "text": [
      "labeled_all_311.pdb.csv is dropped due to rare monosaccharide appearance\n"
     ]
    },
    {
     "name": "stderr",
     "output_type": "stream",
     "text": [
      " 83%|████████████████████████████████▌      | 2001/2399 [00:41<00:07, 53.57it/s]"
     ]
    },
    {
     "name": "stdout",
     "output_type": "stream",
     "text": [
      "labeled_all_2397.pdb.csv is dropped due to rare monosaccharide appearance\n"
     ]
    },
    {
     "name": "stderr",
     "output_type": "stream",
     "text": [
      " 86%|█████████████████████████████████▌     | 2062/2399 [00:43<00:07, 46.66it/s]"
     ]
    },
    {
     "name": "stdout",
     "output_type": "stream",
     "text": [
      "labeled_all_2199.pdb.csv is dropped due to rare monosaccharide appearance\n",
      "labeled_all_501.pdb.csv is dropped due to rare monosaccharide appearance\n"
     ]
    },
    {
     "name": "stderr",
     "output_type": "stream",
     "text": [
      " 87%|█████████████████████████████████▉     | 2084/2399 [00:43<00:06, 46.33it/s]"
     ]
    },
    {
     "name": "stdout",
     "output_type": "stream",
     "text": [
      "labeled_all_2283.pdb.csv is dropped due to rare monosaccharide appearance\n"
     ]
    },
    {
     "name": "stderr",
     "output_type": "stream",
     "text": [
      " 88%|██████████████████████████████████▏    | 2106/2399 [00:44<00:06, 45.84it/s]"
     ]
    },
    {
     "name": "stdout",
     "output_type": "stream",
     "text": [
      "labeled_all_2384.pdb.csv is dropped due to rare monosaccharide appearance\n",
      "labeled_all_2270.pdb.csv is dropped due to rare monosaccharide appearance\n"
     ]
    },
    {
     "name": "stderr",
     "output_type": "stream",
     "text": [
      " 89%|██████████████████████████████████▌    | 2126/2399 [00:44<00:05, 54.29it/s]"
     ]
    },
    {
     "name": "stdout",
     "output_type": "stream",
     "text": [
      "labeled_all_2225.pdb.csv is dropped due to rare monosaccharide appearance\n"
     ]
    },
    {
     "name": "stderr",
     "output_type": "stream",
     "text": [
      "\r",
      " 89%|██████████████████████████████████▋    | 2133/2399 [00:44<00:04, 57.88it/s]"
     ]
    },
    {
     "name": "stdout",
     "output_type": "stream",
     "text": [
      "labeled_all_347.pdb.csv is dropped due to rare monosaccharide appearance\n"
     ]
    },
    {
     "name": "stderr",
     "output_type": "stream",
     "text": [
      " 89%|██████████████████████████████████▊    | 2145/2399 [00:44<00:04, 53.86it/s]"
     ]
    },
    {
     "name": "stdout",
     "output_type": "stream",
     "text": [
      "labeled_all_2385.pdb.csv is dropped due to rare monosaccharide appearance\n"
     ]
    },
    {
     "name": "stderr",
     "output_type": "stream",
     "text": [
      " 94%|████████████████████████████████████▋  | 2260/2399 [00:46<00:02, 60.49it/s]"
     ]
    },
    {
     "name": "stdout",
     "output_type": "stream",
     "text": [
      "labeled_all_2211.pdb.csv is dropped due to rare monosaccharide appearance\n"
     ]
    },
    {
     "name": "stderr",
     "output_type": "stream",
     "text": [
      " 97%|█████████████████████████████████████▊ | 2326/2399 [00:48<00:01, 55.97it/s]"
     ]
    },
    {
     "name": "stdout",
     "output_type": "stream",
     "text": [
      "labeled_all_429.pdb.csv is dropped due to rare monosaccharide appearance\n"
     ]
    },
    {
     "name": "stderr",
     "output_type": "stream",
     "text": [
      " 98%|██████████████████████████████████████▎| 2356/2399 [00:48<00:00, 50.85it/s]"
     ]
    },
    {
     "name": "stdout",
     "output_type": "stream",
     "text": [
      "labeled_all_2241.pdb.csv is dropped due to rare monosaccharide appearance\n"
     ]
    },
    {
     "name": "stderr",
     "output_type": "stream",
     "text": [
      " 99%|██████████████████████████████████████▌| 2369/2399 [00:49<00:00, 56.48it/s]"
     ]
    },
    {
     "name": "stdout",
     "output_type": "stream",
     "text": [
      "labeled_all_2334.pdb.csv is dropped due to rare monosaccharide appearance\n"
     ]
    },
    {
     "name": "stderr",
     "output_type": "stream",
     "text": [
      "100%|███████████████████████████████████████| 2399/2399 [00:49<00:00, 48.26it/s]"
     ]
    },
    {
     "name": "stdout",
     "output_type": "stream",
     "text": [
      "labeled_all_2284.pdb.csv is dropped due to rare monosaccharide appearance\n"
     ]
    },
    {
     "name": "stderr",
     "output_type": "stream",
     "text": [
      "\n"
     ]
    }
   ],
   "source": [
    "dataset = GODESSDataset()"
   ]
  },
  {
   "cell_type": "code",
   "execution_count": 12,
   "id": "8222055e",
   "metadata": {},
   "outputs": [],
   "source": [
    "g1, train_test_id, g1_name = dataset[1]"
   ]
  },
  {
   "cell_type": "code",
   "execution_count": 13,
   "id": "bb651376",
   "metadata": {},
   "outputs": [
    {
     "data": {
      "text/plain": [
       "Graph(num_nodes=99, num_edges=303,\n",
       "      ndata_schemes={'feat': Scheme(shape=(1120,), dtype=torch.float32), 'shift_value': Scheme(shape=(), dtype=torch.float32), 'Carbon_Hydrogen_mask': Scheme(shape=(), dtype=torch.bool), 'train_mask': Scheme(shape=(), dtype=torch.bool), 'test_mask': Scheme(shape=(), dtype=torch.bool), 'train_carbon_mask': Scheme(shape=(), dtype=torch.bool), 'test_carbon_mask': Scheme(shape=(), dtype=torch.bool), 'train_hydrogen_mask': Scheme(shape=(), dtype=torch.bool), 'test_hydrogen_mask': Scheme(shape=(), dtype=torch.bool), 'coordinate': Scheme(shape=(3,), dtype=torch.float64)}\n",
       "      edata_schemes={})"
      ]
     },
     "execution_count": 13,
     "metadata": {},
     "output_type": "execute_result"
    }
   ],
   "source": [
    "g1"
   ]
  },
  {
   "cell_type": "code",
   "execution_count": null,
   "id": "dba35f51",
   "metadata": {},
   "outputs": [],
   "source": [
    "import torch_geometric"
   ]
  },
  {
   "cell_type": "code",
   "execution_count": null,
   "id": "eac20aed",
   "metadata": {},
   "outputs": [],
   "source": []
  }
 ],
 "metadata": {
  "kernelspec": {
   "display_name": "Python 3 (ipykernel)",
   "language": "python",
   "name": "python3"
  },
  "language_info": {
   "codemirror_mode": {
    "name": "ipython",
    "version": 3
   },
   "file_extension": ".py",
   "mimetype": "text/x-python",
   "name": "python",
   "nbconvert_exporter": "python",
   "pygments_lexer": "ipython3",
   "version": "3.8.15"
  }
 },
 "nbformat": 4,
 "nbformat_minor": 5
}
