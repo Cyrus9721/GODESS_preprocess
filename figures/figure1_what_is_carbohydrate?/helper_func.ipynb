{
 "cells": [
  {
   "cell_type": "code",
   "execution_count": 42,
   "id": "660b2a51",
   "metadata": {},
   "outputs": [],
   "source": [
    "import pandas as pd\n",
    "import numpy as np\n",
    "import os"
   ]
  },
  {
   "cell_type": "code",
   "execution_count": 43,
   "id": "37fd91f8",
   "metadata": {},
   "outputs": [],
   "source": [
    "from PIL import Image, ImageChops\n",
    "\n",
    "def trim(im):\n",
    "    bg = Image.new(im.mode, im.size, im.getpixel((0,0)))\n",
    "    diff = ImageChops.difference(im, bg)\n",
    "    diff = ImageChops.add(diff, diff, 2.0, -100)\n",
    "    bbox = diff.getbbox()\n",
    "    bbox = list(bbox)\n",
    "    print(bbox)\n",
    "    bbox[0] -= 10\n",
    "    bbox[1] -= 2\n",
    "    bbox[2] += 10\n",
    "    bbox[3] += 5\n",
    "    print(bbox)\n",
    "    if bbox:\n",
    "        return im.crop(bbox)\n",
    "\n",
    "# im = Image.open(\"Jmol.png\")\n",
    "# im = trim(im)\n",
    "# im.show()"
   ]
  },
  {
   "cell_type": "code",
   "execution_count": 44,
   "id": "fbf2d9ae",
   "metadata": {},
   "outputs": [],
   "source": [
    "# im = Image.open(\"2d_v3.png\")\n",
    "# im = trim(im)\n",
    "# im.show()"
   ]
  },
  {
   "cell_type": "code",
   "execution_count": 46,
   "id": "01f864fb",
   "metadata": {},
   "outputs": [
    {
     "name": "stdout",
     "output_type": "stream",
     "text": [
      "[0, 0, 512, 142]\n",
      "[-10, -2, 522, 147]\n"
     ]
    }
   ],
   "source": [
    "im = Image.open(\"fig1_v3.png\")\n",
    "im = trim(im)\n",
    "im.show()"
   ]
  },
  {
   "cell_type": "code",
   "execution_count": 47,
   "id": "9c442358",
   "metadata": {},
   "outputs": [],
   "source": [
    "im.save(\"fig1_v3_corp.png\")"
   ]
  }
 ],
 "metadata": {
  "kernelspec": {
   "display_name": "Python [conda env:root] *",
   "language": "python",
   "name": "conda-root-py"
  },
  "language_info": {
   "codemirror_mode": {
    "name": "ipython",
    "version": 3
   },
   "file_extension": ".py",
   "mimetype": "text/x-python",
   "name": "python",
   "nbconvert_exporter": "python",
   "pygments_lexer": "ipython3",
   "version": "3.8.15"
  }
 },
 "nbformat": 4,
 "nbformat_minor": 5
}
