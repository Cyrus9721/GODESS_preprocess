{
 "cells": [
  {
   "cell_type": "code",
   "execution_count": 57,
   "id": "978a0c42",
   "metadata": {},
   "outputs": [],
   "source": [
    "import pandas as pd\n",
    "import numpy as np\n",
    "import json\n",
    "import os\n",
    "from collections import deque\n",
    "from tqdm import tqdm\n",
    "pd.set_option('display.max_rows', 1000+1)\n",
    "pd.set_option('display.max_columns', 1000+1)\n"
   ]
  },
  {
   "cell_type": "markdown",
   "id": "a911c10a",
   "metadata": {},
   "source": [
    "##### 1, Replace or remove outlier"
   ]
  },
  {
   "cell_type": "code",
   "execution_count": 2,
   "id": "8a895e89",
   "metadata": {},
   "outputs": [],
   "source": [
    "# replace the value of the shift\n",
    "\n",
    "data_dir = 'dataset/Godess_final_data/Godess_data/'\n",
    "out_data_dir = 'dataset/Godess_final_data/Godess_data_rev/'\n",
    "label_dir = 'dataset/Godess_gnn/preprocess_data/Godess_carbon_unmatched_carbon_csv/'\n",
    "connection_dir = 'dataset/Godess_gnn/preprocess_data/Godess_carbon_connection_dict/'\n",
    "pdb_files = os.listdir(data_dir)"
   ]
  },
  {
   "cell_type": "code",
   "execution_count": 3,
   "id": "efcac885",
   "metadata": {},
   "outputs": [],
   "source": [
    "# from ananymous's comment\n",
    "# labeled_all_1591.pdb.csv, row 6 in test-carbon, the C2 seems very wrong in this glycan for that major outlier\n",
    "# 97.2 -> 79.4\n",
    "\n",
    "# Use _hyb for 888 instead of _stat for train-carbon. Another anomaly that shows up just in the stat file.\n",
    "\n",
    "# Etc......\n",
    "\n",
    "\n",
    "def replace_values(df_pdb, shift_idx, atom_name, old_shift, new_shift):\n",
    "    \n",
    "    df_pdb_out = df_pdb.copy()\n",
    "    \n",
    "    df_pdb_out.loc[(df_pdb_out['Atom_name'] == atom_name) & \n",
    "                   (df_pdb_out['shift'] == old_shift) & \n",
    "                   (df_pdb_out.index == shift_idx), ['shift']] = new_shift\n",
    "    \n",
    "    return df_pdb_out"
   ]
  },
  {
   "cell_type": "code",
   "execution_count": 4,
   "id": "b5255617",
   "metadata": {},
   "outputs": [],
   "source": [
    "# replace values by whole monosacchaide\n",
    "def replace_values_monosaccharide(df_pdb, old_shift_list, new_shift_list, Residual_accurate_name, trust_val, \n",
    "                                 carbon_list = ['C1', 'C2', 'C3', 'C4', 'C5', 'C6']):\n",
    "    df_pdb_out = df_pdb.copy()\n",
    "    assert(len(new_shift_list) == len(carbon_list))\n",
    "    for i in range(len(old_shift_list)):\n",
    "        \n",
    "        idx0 = df_pdb_out.loc[(df_pdb_out['Residual_accurate_name'] == Residual_accurate_name) & \n",
    "                           (df_pdb_out['trust'] == trust_val) & \n",
    "                           (df_pdb_out['Atom_name'] == carbon_list[i]) & \n",
    "                           (df_pdb_out['shift'] == old_shift_list[i]), ['shift']].empty\n",
    "        \n",
    "        if idx0:\n",
    "            print(old_shift_list)\n",
    "            print(i, old_shift_list[i], Residual_accurate_name, trust_val, 'empty monosaccharide')\n",
    "        \n",
    "        \n",
    "        df_pdb_out.loc[(df_pdb_out['Residual_accurate_name'] == Residual_accurate_name) & \n",
    "                       (df_pdb_out['trust'] == trust_val) & \n",
    "                       (df_pdb_out['Atom_name'] == carbon_list[i]) & \n",
    "                       (df_pdb_out['shift'] == old_shift_list[i]), ['shift']] = new_shift_list[i]\n",
    "        \n",
    "        idx1 = df_pdb_out.loc[(df_pdb_out['Residual_accurate_name'] == Residual_accurate_name) & \n",
    "                           (df_pdb_out['trust'] == trust_val) & \n",
    "                           (df_pdb_out['Atom_name'] == carbon_list[i]) & \n",
    "                           (df_pdb_out['shift'] == new_shift_list[i]), ['shift']].empty\n",
    "        \n",
    "        if idx1:\n",
    "            print(old_shift_list)\n",
    "            print(i, old_shift_list[i], Residual_accurate_name, trust_val, 'empty monosaccharide')\n",
    "        \n",
    "    return df_pdb_out\n",
    "    \n",
    "    "
   ]
  },
  {
   "cell_type": "markdown",
   "id": "cf3fe1f6",
   "metadata": {},
   "source": [
    "##### 2, Check abnormal shifts"
   ]
  },
  {
   "cell_type": "code",
   "execution_count": 5,
   "id": "29f16b7c",
   "metadata": {},
   "outputs": [],
   "source": [
    "pdb_name_list = []\n",
    "atom_name_list = []\n",
    "mono_name_list = []\n",
    "shift_list = []\n",
    "idx_list = []"
   ]
  },
  {
   "cell_type": "markdown",
   "id": "5ba91c91",
   "metadata": {},
   "source": [
    "##### 2.1 Check lineage"
   ]
  },
  {
   "cell_type": "code",
   "execution_count": 6,
   "id": "e8b23942",
   "metadata": {},
   "outputs": [],
   "source": [
    "def check_and_reformulate_lineage(df_pdb):\n",
    "    new_lineage_list = []\n",
    "    for lineage in df_pdb['Lineage'].values:\n",
    "        if (isinstance(lineage, float)) and ('.0' in str(lineage)):\n",
    "            new_lineage = str(lineage).replace('.0', '')\n",
    "            new_lineage_list.append(new_lineage)\n",
    "        else:\n",
    "            new_lineage_list.append(lineage)\n",
    "    \n",
    "    df_pdb_copy = df_pdb.copy()\n",
    "    \n",
    "    df_pdb_copy['Lineage'] = new_lineage_list\n",
    "    \n",
    "    return df_pdb_copy"
   ]
  },
  {
   "cell_type": "markdown",
   "id": "37f34552",
   "metadata": {},
   "source": [
    "##### 3, Add new features for root Me, Ser"
   ]
  },
  {
   "cell_type": "code",
   "execution_count": 7,
   "id": "0a113f38",
   "metadata": {},
   "outputs": [],
   "source": [
    "initial_list = []\n",
    "root_list = []\n",
    "me_lineage_list = []\n",
    "asn_lineage_list = []\n",
    "ser_lineage_list = []"
   ]
  },
  {
   "cell_type": "code",
   "execution_count": 8,
   "id": "fdc922ca",
   "metadata": {},
   "outputs": [],
   "source": [
    "# old function, create interaction features by missing monosaccharide.\n",
    "def create_root_effect_feature(df_pdb, root_residue = 'Me', num_interaction = 2):\n",
    "    \n",
    "    df_lineage_list = df_pdb['Lineage'].values\n",
    "    df_residue_list = df_pdb['Residual_accurate_name'].values\n",
    "\n",
    "    new_interaction_list = [root_residue + '_' + str(i) for i in range(1, 2 + 1)]\n",
    "    new_interaction_list.insert(0, root_residue)\n",
    "    \n",
    "    df_interaction_list = np.repeat('no_interaction', len(df_lineage_list))\n",
    "\n",
    "    idx = 0\n",
    "\n",
    "    prev_root = 'Missing root'\n",
    "    \n",
    "    root_indicator = 0\n",
    "\n",
    "    for i in range(len(df_lineage_list)):\n",
    "\n",
    "        current_lineage = df_lineage_list[i]\n",
    "        \n",
    "        if isinstance(current_lineage, float):\n",
    "            current_lineage = int(current_lineage)\n",
    "            current_lineage = str(current_lineage)\n",
    "            \n",
    "        current_residue = df_residue_list[i]\n",
    "        \n",
    "        if current_residue == root_residue:\n",
    "\n",
    "            df_interaction_list[i] = new_interaction_list[0]\n",
    "            \n",
    "            prev_root = current_lineage\n",
    "            \n",
    "            assert(prev_root == '')\n",
    "            \n",
    "            root_indicator = 1\n",
    "            \n",
    "        elif (len(current_lineage) == 1) and (root_indicator):\n",
    "            \n",
    "            prev_root = current_lineage\n",
    "            \n",
    "            df_interaction_list[i] = new_interaction_list[1]\n",
    "\n",
    "        elif (len(current_lineage) == 3) and (current_lineage.split(',')[0] == prev_root) and (root_indicator):\n",
    "\n",
    "            df_interaction_list[i] = new_interaction_list[2]\n",
    "#             df_interaction_list[i] = 'no_interaction'\n",
    "    \n",
    "    df_pdb_copy = df_pdb.copy()\n",
    "    \n",
    "    column_name = root_residue + \"_interaction\"\n",
    "    \n",
    "    df_pdb_copy[column_name] = df_interaction_list\n",
    "    \n",
    "    return df_pdb_copy"
   ]
  },
  {
   "cell_type": "markdown",
   "id": "1b25092d",
   "metadata": {},
   "source": [
    "##### 3.1, Revised Add new features for root Me, Ser, in distance, based on the Me interaction. "
   ]
  },
  {
   "cell_type": "code",
   "execution_count": 9,
   "id": "1a88c730",
   "metadata": {},
   "outputs": [],
   "source": [
    "# The connection information from the pdb file is cannot be fully trusted, some file have the patterns that A -> B, but B is not connected to A\n",
    "def check_and_modify_graph(graph):\n",
    "    \"\"\"\n",
    "    Checks if a graph satisfies the property that if node A is connected to node B, then node B is connected to node A.\n",
    "    If the property is not satisfied, modifies the graph by adding the missing connections.\n",
    "    \n",
    "    Arguments:\n",
    "    graph -- a dictionary representing a graph where the keys are the nodes and the values are lists of connected nodes\n",
    "    \n",
    "    Returns:\n",
    "    The modified graph.\n",
    "    \"\"\"\n",
    "    for node in graph:\n",
    "        for neighbor in graph[node]:\n",
    "            if node not in graph[neighbor]:\n",
    "                graph[neighbor].append(node)\n",
    "    return graph"
   ]
  },
  {
   "cell_type": "code",
   "execution_count": 10,
   "id": "e3d5724d",
   "metadata": {},
   "outputs": [],
   "source": [
    "# read in connection from step 2 (create linkage for pdb file)\n",
    "def read_in_connection(connection_dir, pdb_name):\n",
    "    \n",
    "    name = pdb_name.split('labeled_all_')[1].split('.pdb')[0]\n",
    "    \n",
    "    connect_name = str(name) + '_connection.json'\n",
    "    \n",
    "    dict_f_path = os.path.join(connection_dir, connect_name)\n",
    "    \n",
    "    with open(dict_f_path) as dict_f_json:\n",
    "        dict_f = json.load(dict_f_json)\n",
    "    \n",
    "    dict_f = {int(k):v for k,v in dict_f.items()}\n",
    "    \n",
    "    dict_f = check_and_modify_graph(dict_f)\n",
    "    \n",
    "    return dict_f"
   ]
  },
  {
   "cell_type": "code",
   "execution_count": 11,
   "id": "51a82942",
   "metadata": {},
   "outputs": [],
   "source": [
    "# given target root, for each atom, find the shortest distance to the root atom (Carbon) using BFS\n",
    "def bfs_shortest_path(graph, start_node, end_node):\n",
    "    \"\"\"\n",
    "    Compute the shortest path from start_node to end_node in graph using Breadth-First Search.\n",
    "    \n",
    "    Arguments:\n",
    "    graph -- a dictionary representing the graph, where keys are nodes and values are lists of neighbors\n",
    "    start_node -- the node to start the search from\n",
    "    end_node -- the node to search for\n",
    "    \n",
    "    Returns:\n",
    "    A list containing the shortest path as a list of nodes.\n",
    "    \"\"\"\n",
    "    # Initialize the visited set, the queue, and the parent dictionary with start_node as the only node visited.\n",
    "    visited = set([start_node])\n",
    "    queue = deque([(start_node, [])])\n",
    "    parent = {start_node: None}\n",
    "    \n",
    "    while queue:\n",
    "        # Dequeue the next node and its path.\n",
    "        current_node, path = queue.popleft()\n",
    "        \n",
    "        # If we've found the end_node, return its path.\n",
    "        if current_node == end_node:\n",
    "            return path + [end_node]\n",
    "        \n",
    "        # Loop through the neighbors of the current_node and enqueue them if they haven't been visited.\n",
    "        for neighbor in graph[current_node]:\n",
    "            if neighbor not in visited:\n",
    "                visited.add(neighbor)\n",
    "                queue.append((neighbor, path + [current_node]))\n",
    "                parent[neighbor] = current_node\n",
    "    \n",
    "    # If we've gone through all the nodes and haven't found the end_node, return an empty path.\n",
    "    return []"
   ]
  },
  {
   "cell_type": "code",
   "execution_count": 12,
   "id": "a3e5139d",
   "metadata": {},
   "outputs": [],
   "source": [
    "# create atom distance feature for root components, \n",
    "#1, distance, 2, categorical value with number of bounds as threshold, # exact shortest atom path\n",
    "def create_atom_distance_feature_root(connection_dir, pdb_name, df_pdb, root, threshold):\n",
    "    \n",
    "    if root in df_pdb['Residual_accurate_name'].values:\n",
    "    \n",
    "        dict_f = read_in_connection(connection_dir, pdb_name)\n",
    "\n",
    "        atom_num_root = df_pdb.loc[df_pdb['Residual_accurate_name'] == root, :]['Atom_num'].values\n",
    "\n",
    "        all_atom_num_list = df_pdb['Atom_num'].values\n",
    "\n",
    "        all_atom_name_list = df_pdb['Atom_name'].values\n",
    "\n",
    "        residue_interaction_list = np.repeat(999, len(df_pdb))\n",
    "\n",
    "        max_atom = np.max(atom_num_root)\n",
    "#         print(atom_num_root)\n",
    "        connect_atom_outside_list = []\n",
    "\n",
    "\n",
    "        for i in atom_num_root:\n",
    "            current_connect_atom = dict_f[i]\n",
    "            for j in current_connect_atom:\n",
    "                \n",
    "                # current atom not belongs to the root group, then it should connect to the other group\n",
    "                \n",
    "                if j not in atom_num_root:\n",
    "                    connect_atom_outside_list.append(i)\n",
    "#         print(connect_atom_outside_list)\n",
    "        print(connect_atom_outside_list)\n",
    "        assert(len(connect_atom_outside_list) == 1)\n",
    "        \n",
    "        target_distance_list = []\n",
    "\n",
    "        target_distance_atom_list = []\n",
    "\n",
    "\n",
    "        for k in connect_atom_outside_list:\n",
    "\n",
    "            for l in all_atom_num_list:\n",
    "\n",
    "                current_shortest_path = bfs_shortest_path(dict_f, k, l)\n",
    "                \n",
    "                # set distance to 0 for atoms within the same root group\n",
    "                if k == l:\n",
    "                    target_distance_list.append(0)\n",
    "\n",
    "                elif l in atom_num_root:\n",
    "\n",
    "                    target_distance_list.append(0)\n",
    "                # set the distance to other atoms \n",
    "                else:\n",
    "                    target_distance_list.append(len(current_shortest_path) - 1)\n",
    "\n",
    "\n",
    "                current_shortest_path_atom_type = [all_atom_name_list[m - 1] for m in current_shortest_path]\n",
    "\n",
    "                target_distance_atom_list.append(current_shortest_path_atom_type)\n",
    "\n",
    "        target_distance_list = np.array(target_distance_list)\n",
    "\n",
    "        target_distance_list_threshold = target_distance_list.copy()\n",
    "\n",
    "        target_distance_list_threshold[(target_distance_list_threshold <= threshold) & (target_distance_list_threshold > 0)] = 1\n",
    "\n",
    "        target_distance_list_threshold[target_distance_list_threshold > threshold] = 2\n",
    "\n",
    "        df_pdb_copy = df_pdb.copy()\n",
    "\n",
    "        df_pdb_copy[root + '_atom_distance'] = target_distance_list\n",
    "\n",
    "        df_pdb_copy[root + '_atom_distance_threshold'] = target_distance_list_threshold\n",
    "\n",
    "        df_pdb_copy[root + '_atom_path'] = target_distance_atom_list\n",
    "    \n",
    "    else:\n",
    "        df_pdb_copy = df_pdb.copy()\n",
    "        \n",
    "        df_pdb_copy[root + '_atom_distance'] = 999\n",
    "\n",
    "        df_pdb_copy[root + '_atom_distance_threshold'] = 2\n",
    "\n",
    "        df_pdb_copy[root + '_atom_path'] = [['No ' + root + ' included'] for _ in range(len(df_pdb))]\n",
    "        \n",
    "        \n",
    "    \n",
    "    return df_pdb_copy\n"
   ]
  },
  {
   "cell_type": "markdown",
   "id": "6fa96c43",
   "metadata": {},
   "source": [
    "##### 4, Add new features for root Ac, Gc, S. residue level."
   ]
  },
  {
   "cell_type": "code",
   "execution_count": 13,
   "id": "485ee400",
   "metadata": {},
   "outputs": [],
   "source": [
    "ac_list = []\n",
    "gc_list = []\n",
    "s_list = []\n",
    "all_ac_list = []"
   ]
  },
  {
   "cell_type": "code",
   "execution_count": 14,
   "id": "af003ea0",
   "metadata": {},
   "outputs": [],
   "source": [
    "# old function, create Ac/S/Gc feature by monosaccharide names and distance\n",
    "def create_residue_effect_feature(df_pdb, df_label, target_residue = 'S'):\n",
    "\n",
    "    df_pdb_copy = df_pdb.copy()\n",
    "\n",
    "    df_effect_list = np.repeat('no_effect', len(df_pdb_copy))\n",
    "\n",
    "    for i in range(len(df_label)):\n",
    "        current_linkage = df_label.loc[i, :]['Linkage']\n",
    "        \n",
    "        if isinstance(current_linkage, float):\n",
    "            current_linkage = int(current_linkage)\n",
    "            current_linkage = str(current_linkage)\n",
    "        \n",
    "        current_residue = df_label.loc[i, :]['Residue']\n",
    "        if (current_residue == target_residue):\n",
    "            \n",
    "            current_index = df_pdb_copy.loc[df_pdb_copy['Lineage'] == current_linkage].index\n",
    "            \n",
    "            if len(df_label.loc[df_label['Linkage'] == current_linkage]) == 1:\n",
    "            \n",
    "                df_effect_list[current_index] = target_residue\n",
    "\n",
    "            attached_linkage = current_linkage[0:-2]\n",
    "\n",
    "            attached_index = df_pdb_copy.loc[df_pdb_copy['Lineage'] == attached_linkage].index\n",
    "\n",
    "            df_effect_list[attached_index] = target_residue + '_1'\n",
    "\n",
    "    column_name = target_residue + '_effect'\n",
    "\n",
    "    df_pdb_copy[column_name] = df_effect_list\n",
    "    \n",
    "    return df_pdb_copy"
   ]
  },
  {
   "cell_type": "markdown",
   "id": "9755fc6a",
   "metadata": {},
   "source": [
    "##### 4.1 Identify Ac components in atom level, \n",
    "\n",
    "Most Ac components do not have a specific residue label in the pdb file, therefore, we can only identify them by atom names. Also, the Ac compoenets in the labeled csv file contain the branch information, this can help for the atom level idenfication. "
   ]
  },
  {
   "cell_type": "markdown",
   "id": "5ba610f7",
   "metadata": {},
   "source": [
    "##### The connection file failed in some files like 251, atom A to B but no B to A"
   ]
  },
  {
   "cell_type": "code",
   "execution_count": 15,
   "id": "665796cf",
   "metadata": {
    "scrolled": true
   },
   "outputs": [],
   "source": [
    "# identify Ac components with the help of connection information, branched info from labedled csv and pdb residue names\n",
    "def identify_AC_components(df_pdb, df_pdb_name, df_label, connection_dir, j):\n",
    "\n",
    "    dict_f = read_in_connection(connection_dir, df_pdb_name)\n",
    "\n",
    "    df_pdb_copy = df_pdb.copy()\n",
    "\n",
    "    df_label = df_label\n",
    "\n",
    "    Ac_components_list = np.repeat(0, len(df_pdb_copy))\n",
    "\n",
    "    for i in range(len(df_label)):\n",
    "        current_linkage = df_label.loc[i, :]['Linkage']\n",
    "\n",
    "        if isinstance(current_linkage, float):\n",
    "            current_linkage = int(current_linkage)\n",
    "            current_linkage = str(current_linkage)\n",
    "\n",
    "        current_residue = df_label.loc[i, :]['Residue']\n",
    "\n",
    "        if current_residue == 'Ac':\n",
    "\n",
    "            attached_linkage = current_linkage[0:-2]\n",
    "\n",
    "            attached_index = df_pdb_copy.loc[df_pdb_copy['Lineage'] == attached_linkage].index\n",
    "\n",
    "            attached_atom_name = df_pdb_copy.loc[df_pdb_copy['Lineage'] == attached_linkage, :]['Atom_name'].values\n",
    "\n",
    "            if 'C11' in attached_atom_name:\n",
    "                c11_index_list = np.where(attached_atom_name == 'C11')[0]\n",
    "\n",
    "                # Attached only one monosaccharide\n",
    "                if len(c11_index_list) == 1:\n",
    "\n",
    "                    # c11 index in csv\n",
    "                    c11_index = attached_index[c11_index_list[0]]\n",
    "\n",
    "                    # c11 index in atom names\n",
    "                    c11_atom_num = df_pdb_copy.loc[c11_index, :]['Atom_num']\n",
    "\n",
    "                    c11_connection_list = dict_f[c11_atom_num]\n",
    "\n",
    "                    Ac_residue_index_list = [c11_atom_num]\n",
    "\n",
    "                    for atom_num in c11_connection_list:\n",
    "\n",
    "                        current_atom_connect = dict_f[atom_num]\n",
    "                        \n",
    "                        # in case of the connection file failed\n",
    "                        if c11_atom_num in current_atom_connect:\n",
    "                            current_atom_connect.remove(c11_atom_num)\n",
    "\n",
    "                        # identify the Oxx\n",
    "                        if len(current_atom_connect) == 0:\n",
    "\n",
    "                            Ac_residue_index_list.append(atom_num)\n",
    "\n",
    "                        else:\n",
    "                            len_atom_connect = 0\n",
    "                            for atom_num_connect in current_atom_connect:\n",
    "\n",
    "\n",
    "                                atom_num_connect_atom_list = dict_f[atom_num_connect]\n",
    "                                \n",
    "                                if atom_num in atom_num_connect_atom_list:\n",
    "\n",
    "                                    atom_num_connect_atom_list.remove(atom_num)\n",
    "    #                             print(atom_num_connect, atom_num_connect_atom_list, atom_num)\n",
    "\n",
    "                                len_atom_connect += len(atom_num_connect_atom_list)\n",
    "\n",
    "                            # identify the C21, and three HXXs \n",
    "                            if len_atom_connect == 0:\n",
    "\n",
    "                                Ac_residue_index_list.append(atom_num)\n",
    "                                Ac_residue_index_list.extend(dict_f[atom_num])\n",
    "\n",
    "                    Ac_residue_index_list = df_pdb_copy.loc[df_pdb_copy['Atom_num'].isin(Ac_residue_index_list)].index\n",
    "                    Ac_components_list[Ac_residue_index_list] = 1\n",
    "    #                     print(atom_num, current_atom_connect)\n",
    "                else:\n",
    "                    print(df_pdb_name, j, 'contain more than one C11')\n",
    "\n",
    "\n",
    "            else:\n",
    "\n",
    "                print(df_pdb_name, j, current_residue, 'the attached monosaccharides does not contain a C11')\n",
    "\n",
    "                current_index = df_pdb_copy.loc[df_pdb_copy['Lineage'] == current_linkage].index\n",
    "\n",
    "                current_three_letter_residual = df_pdb_copy.loc[current_index, :]['Residual_name'].values\n",
    "\n",
    "                # the attached monosaccharide \n",
    "                assert(np.all(current_three_letter_residual == 'ACY'))\n",
    "\n",
    "    # some ACs are behave like are separate components\n",
    "    if not df_pdb_copy.loc[df_pdb_copy['Residual_name'] == 'ACY'].empty:\n",
    "        ACY_index = df_pdb_copy.loc[df_pdb_copy['Residual_name'] == 'ACY'].index\n",
    "        Ac_components_list[ACY_index] = 1\n",
    "\n",
    "    df_pdb_copy['Ac_component'] = Ac_components_list\n",
    "    \n",
    "    return df_pdb_copy"
   ]
  },
  {
   "cell_type": "markdown",
   "id": "7acc3996",
   "metadata": {},
   "source": [
    "##### 4.2 Based on the identified Acs, for each Ac, find the shortest distance between the current Ac "
   ]
  },
  {
   "cell_type": "code",
   "execution_count": 16,
   "id": "a6e2d126",
   "metadata": {},
   "outputs": [],
   "source": [
    "def create_atom_distance_feature_Ac(df_pdb, pdb_name, threshold = 5):\n",
    "\n",
    "    df_pdb_copy = df_pdb.copy()\n",
    "\n",
    "    dict_f = read_in_connection(connection_dir, pdb_name)\n",
    "\n",
    "    df_c11 = df_pdb_copy.loc[(df_pdb_copy['Ac_component'] == 1) & \n",
    "                             ((df_pdb_copy['Atom_name'] == 'C11') | \n",
    "                              (df_pdb_copy['Atom_name'] == 'C1'))]\n",
    "    if not df_c11.empty:\n",
    "        df_c11.index = range(len(df_c11))\n",
    "\n",
    "        # since there could be multiple Acs in a glycan, each glycan corresponds to a glycan list\n",
    "        # therefore, need to first retrieve list of glycan distance list\n",
    "\n",
    "        all_Ac_distance_list_list = []\n",
    "\n",
    "        all_Ac_distance_threshold_list_list = []\n",
    "\n",
    "        all_Ac_atom_name_list_list_list = []\n",
    "\n",
    "        all_atom_num_list = df_pdb_copy['Atom_num'].values\n",
    "\n",
    "        all_atom_name_list = df_pdb_copy['Atom_name'].values\n",
    "\n",
    "        for i in range(len(df_c11)):\n",
    "\n",
    "            current_target_distance_list = []\n",
    "\n",
    "            current_target_atom_name_list_list = []\n",
    "\n",
    "            current_atom_num = df_c11.loc[i, :]['Atom_num']\n",
    "\n",
    "            for j in all_atom_num_list:\n",
    "\n",
    "                current_atom_num_path = bfs_shortest_path(dict_f, current_atom_num, j)\n",
    "\n",
    "                current_atom_name_path = [all_atom_name_list[k-1] for k in current_atom_num_path]\n",
    "\n",
    "                # 3, list of list of atom paths, index + 1 = atom num\n",
    "                current_target_atom_name_list_list.append(current_atom_name_path)\n",
    "\n",
    "                # 2, Assign distance \n",
    "                if current_atom_num == j:\n",
    "\n",
    "                    current_target_distance_list.append(0)\n",
    "\n",
    "                # atom with in the same Ac component labeled as 0\n",
    "                elif ((len(current_atom_num_path) - 1) <= 2) and (df_pdb_copy.loc[j-1, :]['Ac_component'] == 1):\n",
    "\n",
    "                    current_target_distance_list.append(0)\n",
    "\n",
    "                else:\n",
    "                    current_target_distance_list.append(len(current_atom_num_path) - 1)\n",
    "\n",
    "            # 1, Assign categorical value by threshold as distance bound\n",
    "            current_target_distance_list_threshold = np.array(current_target_distance_list.copy())\n",
    "\n",
    "            current_target_distance_list_threshold[(current_target_distance_list_threshold <= threshold) & (current_target_distance_list_threshold > 0)] = 1\n",
    "\n",
    "            current_target_distance_list_threshold[current_target_distance_list_threshold > threshold] = 2\n",
    "\n",
    "            current_target_distance_list_threshold = list(current_target_distance_list_threshold)\n",
    "\n",
    "            # list of list stores distance to each Acs in a glycan\n",
    "        #     print(current_target_distance_list)\n",
    "            all_Ac_distance_list_list.append(current_target_distance_list)\n",
    "\n",
    "            # this is not used in this function, but may be used in the future if other method is developed\n",
    "            all_Ac_distance_threshold_list_list.append(current_target_distance_list_threshold)\n",
    "\n",
    "            all_Ac_atom_name_list_list_list.append(current_target_atom_name_list_list)\n",
    "\n",
    "        all_Ac_distance_list_list = np.array(all_Ac_distance_list_list)\n",
    "\n",
    "        # find the minimum distance\n",
    "        new_all_index = all_Ac_distance_list_list.argmin(axis=0)\n",
    "\n",
    "        minimum_all_Ac_distance_list_list = [all_Ac_distance_list_list[new_all_index[m]][m] for m in range(len(new_all_index))]\n",
    "\n",
    "        # find the corresponding minimum threshold\n",
    "        minimum_all_Ac_distance_list_list_threshold = np.array(minimum_all_Ac_distance_list_list.copy())\n",
    "\n",
    "        minimum_all_Ac_distance_list_list_threshold[(minimum_all_Ac_distance_list_list_threshold <= threshold) & (minimum_all_Ac_distance_list_list_threshold > 0)] = 1\n",
    "\n",
    "        minimum_all_Ac_distance_list_list_threshold[minimum_all_Ac_distance_list_list_threshold > threshold] = 2\n",
    "\n",
    "        minimum_all_Ac_distance_list_list_threshold = list(minimum_all_Ac_distance_list_list_threshold)\n",
    "\n",
    "        # find the corresponding minimum atom names\n",
    "\n",
    "        minimum_all_Ac_atom_name_list_list_list = [all_Ac_atom_name_list_list_list[new_all_index[m]][m] for m in range(len(new_all_index))]\n",
    "\n",
    "\n",
    "        df_pdb_copy['Ac' + '_min_atom_distance'] = minimum_all_Ac_distance_list_list\n",
    "\n",
    "        df_pdb_copy['Ac' + '_min_atom_distance_threshold'] = minimum_all_Ac_distance_list_list_threshold\n",
    "\n",
    "        df_pdb_copy['Ac' + '_min_atom_path'] = minimum_all_Ac_atom_name_list_list_list\n",
    "    \n",
    "    else:\n",
    "        # not containing any Ac components\n",
    "        df_pdb_copy['Ac' + '_min_atom_distance'] = 999\n",
    "\n",
    "        df_pdb_copy['Ac' + '_min_atom_distance_threshold'] = 2\n",
    "\n",
    "        df_pdb_copy['Ac' + '_min_atom_path'] = [['No ' + '_Ac_' + ' included'] for _ in range(len(df_pdb))]\n",
    "    \n",
    "    return df_pdb_copy"
   ]
  },
  {
   "cell_type": "markdown",
   "id": "5767709f",
   "metadata": {},
   "source": [
    "##### 4.3 Indentiy the Sulfur components from the pdb file, then create distance by atom path distances, similar process as Ac"
   ]
  },
  {
   "cell_type": "code",
   "execution_count": 17,
   "id": "9a45fea1",
   "metadata": {},
   "outputs": [],
   "source": [
    "def create_atom_distance_feature_S(df_pdb, df_pdb_name, df_label, threshold = 5):\n",
    "\n",
    "    df_pdb_copy = df_pdb.copy()\n",
    "\n",
    "    dict_f = read_in_connection(connection_dir, df_pdb_name)\n",
    "\n",
    "    df_s = df_pdb_copy.loc[(df_pdb_copy['Residual_name'] == 'SO4') & \n",
    "                             (df_pdb_copy['Atom_type'] == 'S')]\n",
    "    df_s.index = range(len(df_s))\n",
    "\n",
    "    if (not df_s.empty) and ('S' in df_label['Residue'].values):\n",
    "\n",
    "        all_S_distance_list_list = []\n",
    "\n",
    "        all_S_distance_threshold_list_list = []\n",
    "\n",
    "        all_S_atom_name_list_list_list = []\n",
    "\n",
    "        all_atom_num_list = df_pdb_copy['Atom_num'].values\n",
    "\n",
    "        all_atom_name_list = df_pdb_copy['Atom_name'].values\n",
    "\n",
    "        for i in range(len(df_s)):\n",
    "\n",
    "            current_target_distance_list = []\n",
    "\n",
    "            current_target_atom_name_list_list = []\n",
    "\n",
    "            current_atom_num = df_s.loc[i, :]['Atom_num']\n",
    "\n",
    "            for j in all_atom_num_list:\n",
    "\n",
    "                current_atom_num_path = bfs_shortest_path(dict_f, current_atom_num, j)\n",
    "\n",
    "                current_atom_name_path = [all_atom_name_list[k-1] for k in current_atom_num_path]\n",
    "\n",
    "                # 3, list of list of atom paths, index + 1 = atom num\n",
    "                current_target_atom_name_list_list.append(current_atom_name_path)\n",
    "\n",
    "                # 2, Assign distance \n",
    "                if current_atom_num == j:\n",
    "\n",
    "                    current_target_distance_list.append(0)\n",
    "\n",
    "                # atom with in the same S component labeled as 0\n",
    "                elif ((len(current_atom_num_path) - 1) <= 2) and (df_pdb_copy.loc[j-1, :]['Residual_accurate_name'] == 'S'):\n",
    "\n",
    "                    current_target_distance_list.append(0)\n",
    "\n",
    "                else:\n",
    "                    current_target_distance_list.append(len(current_atom_num_path) - 1)\n",
    "\n",
    "\n",
    "             # 1, Assign categorical value by threshold as distance bound\n",
    "            current_target_distance_list_threshold = np.array(current_target_distance_list.copy())\n",
    "\n",
    "            current_target_distance_list_threshold[(current_target_distance_list_threshold <= threshold) & (current_target_distance_list_threshold > 0)] = 1\n",
    "\n",
    "            current_target_distance_list_threshold[current_target_distance_list_threshold > threshold] = 2\n",
    "\n",
    "            current_target_distance_list_threshold = list(current_target_distance_list_threshold)\n",
    "\n",
    "            # list of list stores distance to each Ss in a glycan\n",
    "    #         print(current_target_distance_list)\n",
    "\n",
    "            all_S_distance_list_list.append(current_target_distance_list)\n",
    "\n",
    "            # this is not used in this function, but may be used in the future if other method is developed\n",
    "            all_S_distance_threshold_list_list.append(current_target_distance_list_threshold)\n",
    "\n",
    "            all_S_atom_name_list_list_list.append(current_target_atom_name_list_list)\n",
    "\n",
    "\n",
    "        all_S_distance_list_list = np.array(all_S_distance_list_list)\n",
    "\n",
    "        # find the minimum distance\n",
    "        new_all_index = all_S_distance_list_list.argmin(axis=0)\n",
    "\n",
    "        minimum_all_S_distance_list_list = [all_S_distance_list_list[new_all_index[m]][m] for m in range(len(new_all_index))]\n",
    "\n",
    "        # find the corresponding minimum threshold\n",
    "        minimum_all_S_distance_list_list_threshold = np.array(minimum_all_S_distance_list_list.copy())\n",
    "\n",
    "        minimum_all_S_distance_list_list_threshold[(minimum_all_S_distance_list_list_threshold <= threshold) & (minimum_all_S_distance_list_list_threshold > 0)] = 1\n",
    "\n",
    "        minimum_all_S_distance_list_list_threshold[minimum_all_S_distance_list_list_threshold > threshold] = 2\n",
    "\n",
    "        minimum_all_S_distance_list_list_threshold = list(minimum_all_S_distance_list_list_threshold)\n",
    "\n",
    "        # find the corresponding minimum atom names\n",
    "\n",
    "        minimum_all_S_atom_name_list_list_list = [all_S_atom_name_list_list_list[new_all_index[m]][m] for m in range(len(new_all_index))]\n",
    "\n",
    "\n",
    "        df_pdb_copy['S' + '_min_atom_distance'] = minimum_all_S_distance_list_list\n",
    "\n",
    "        df_pdb_copy['S' + '_min_atom_distance_threshold'] = minimum_all_S_distance_list_list_threshold\n",
    "\n",
    "        df_pdb_copy['S' + '_min_atom_path'] = minimum_all_S_atom_name_list_list_list\n",
    "\n",
    "    else:\n",
    "        # not containing any S components\n",
    "        df_pdb_copy['S' + '_min_atom_distance'] = 999\n",
    "\n",
    "        df_pdb_copy['S' + '_min_atom_distance_threshold'] = 2\n",
    "\n",
    "        df_pdb_copy['S' + '_min_atom_path'] = [['No ' + '_S_' + ' included'] for _ in range(len(df_pdb))]\n",
    "    \n",
    "    return df_pdb_copy"
   ]
  },
  {
   "cell_type": "markdown",
   "id": "ba3a470f",
   "metadata": {},
   "source": [
    "##### 4.4, Indentiy the GC components from the pdb file, then create distance by atom path distances, similar process as Ac¶"
   ]
  },
  {
   "cell_type": "code",
   "execution_count": 18,
   "id": "33bd2ed4",
   "metadata": {},
   "outputs": [],
   "source": [
    "def create_atom_distance_feature_Gc(df_pdb, pdb_name, threshold = 5):\n",
    "\n",
    "    df_pdb_copy = df_pdb.copy()\n",
    "\n",
    "    dict_f = read_in_connection(connection_dir, pdb_name)\n",
    "\n",
    "    df_c11 = df_pdb_copy.loc[(df_pdb_copy['Residual_accurate_name'] == 'Gc') & \n",
    "                             ((df_pdb_copy['Atom_name'] == 'C11') | \n",
    "                              (df_pdb_copy['Atom_name'] == 'C1'))]\n",
    "    if not df_c11.empty:\n",
    "        df_c11.index = range(len(df_c11))\n",
    "\n",
    "        # since there could be multiple Gcs in a glycan, eGch glycan corresponds to a glycan list\n",
    "        # therefore, need to first retrieve list of glycan distance list\n",
    "\n",
    "        all_Gc_distance_list_list = []\n",
    "\n",
    "        all_Gc_distance_threshold_list_list = []\n",
    "\n",
    "        all_Gc_atom_name_list_list_list = []\n",
    "\n",
    "        all_atom_num_list = df_pdb_copy['Atom_num'].values\n",
    "\n",
    "        all_atom_name_list = df_pdb_copy['Atom_name'].values\n",
    "\n",
    "        for i in range(len(df_c11)):\n",
    "\n",
    "            current_target_distance_list = []\n",
    "\n",
    "            current_target_atom_name_list_list = []\n",
    "\n",
    "            current_atom_num = df_c11.loc[i, :]['Atom_num']\n",
    "\n",
    "            for j in all_atom_num_list:\n",
    "\n",
    "                current_atom_num_path = bfs_shortest_path(dict_f, current_atom_num, j)\n",
    "\n",
    "                current_atom_name_path = [all_atom_name_list[k-1] for k in current_atom_num_path]\n",
    "\n",
    "                # 3, list of list of atom paths, index + 1 = atom num\n",
    "                current_target_atom_name_list_list.append(current_atom_name_path)\n",
    "\n",
    "                # 2, Assign distance \n",
    "                if current_atom_num == j:\n",
    "\n",
    "                    current_target_distance_list.append(0)\n",
    "\n",
    "                # atom with in the same Gc component labeled as 0\n",
    "                elif ((len(current_atom_num_path) - 1) <= 3) and (df_pdb_copy.loc[j-1, :]['Residual_accurate_name'] == 'Gc'):\n",
    "\n",
    "                    current_target_distance_list.append(0)\n",
    "\n",
    "                else:\n",
    "                    current_target_distance_list.append(len(current_atom_num_path) - 1)\n",
    "\n",
    "            # 1, Assign categorical value by threshold as distance bound\n",
    "            current_target_distance_list_threshold = np.array(current_target_distance_list.copy())\n",
    "\n",
    "            current_target_distance_list_threshold[(current_target_distance_list_threshold <= threshold) & (current_target_distance_list_threshold > 0)] = 1\n",
    "\n",
    "            current_target_distance_list_threshold[current_target_distance_list_threshold > threshold] = 2\n",
    "\n",
    "            current_target_distance_list_threshold = list(current_target_distance_list_threshold)\n",
    "\n",
    "            # list of list stores distance to eGch Gcs in a glycan\n",
    "        #     print(current_target_distance_list)\n",
    "            all_Gc_distance_list_list.append(current_target_distance_list)\n",
    "\n",
    "            # this is not used in this function, but may be used in the future if other method is developed\n",
    "            all_Gc_distance_threshold_list_list.append(current_target_distance_list_threshold)\n",
    "\n",
    "            all_Gc_atom_name_list_list_list.append(current_target_atom_name_list_list)\n",
    "\n",
    "        all_Gc_distance_list_list = np.array(all_Gc_distance_list_list)\n",
    "\n",
    "        # find the minimum distance\n",
    "        new_all_index = all_Gc_distance_list_list.argmin(axis=0)\n",
    "\n",
    "        minimum_all_Gc_distance_list_list = [all_Gc_distance_list_list[new_all_index[m]][m] for m in range(len(new_all_index))]\n",
    "\n",
    "        # find the corresponding minimum threshold\n",
    "        minimum_all_Gc_distance_list_list_threshold = np.array(minimum_all_Gc_distance_list_list.copy())\n",
    "\n",
    "        minimum_all_Gc_distance_list_list_threshold[(minimum_all_Gc_distance_list_list_threshold <= threshold) & (minimum_all_Gc_distance_list_list_threshold > 0)] = 1\n",
    "\n",
    "        minimum_all_Gc_distance_list_list_threshold[minimum_all_Gc_distance_list_list_threshold > threshold] = 2\n",
    "\n",
    "        minimum_all_Gc_distance_list_list_threshold = list(minimum_all_Gc_distance_list_list_threshold)\n",
    "\n",
    "        # find the corresponding minimum atom names\n",
    "\n",
    "        minimum_all_Gc_atom_name_list_list_list = [all_Gc_atom_name_list_list_list[new_all_index[m]][m] for m in range(len(new_all_index))]\n",
    "\n",
    "\n",
    "        df_pdb_copy['Gc' + '_min_atom_distance'] = minimum_all_Gc_distance_list_list\n",
    "\n",
    "        df_pdb_copy['Gc' + '_min_atom_distance_threshold'] = minimum_all_Gc_distance_list_list_threshold\n",
    "\n",
    "        df_pdb_copy['Gc' + '_min_atom_path'] = minimum_all_Gc_atom_name_list_list_list\n",
    "    \n",
    "    else:\n",
    "        # not containing any Gc components\n",
    "        df_pdb_copy['Gc' + '_min_atom_distance'] = 999\n",
    "\n",
    "        df_pdb_copy['Gc' + '_min_atom_distance_threshold'] = 2\n",
    "\n",
    "        df_pdb_copy['Gc' + '_min_atom_path'] = [['No ' + '_Gc_' + ' included'] for _ in range(len(df_pdb))]\n",
    "    \n",
    "    return df_pdb_copy"
   ]
  },
  {
   "cell_type": "markdown",
   "id": "08a84a44",
   "metadata": {},
   "source": [
    "##### 4.5, Indentiy the Me components from the pdb file, then create distance by atom path distances, similar process as Ac¶"
   ]
  },
  {
   "cell_type": "code",
   "execution_count": 19,
   "id": "3fe7eb19",
   "metadata": {},
   "outputs": [],
   "source": [
    "def create_atom_distance_feature_Me(df_pdb, pdb_name, threshold = 4):\n",
    "\n",
    "    df_pdb_copy = df_pdb.copy()\n",
    "\n",
    "    dict_f = read_in_connection(connection_dir, pdb_name)\n",
    "    \n",
    "    # connection parts\n",
    "    df_c11 = df_pdb_copy.loc[(df_pdb_copy['Residual_accurate_name'] == 'Me') & \n",
    "                             ((df_pdb_copy['Atom_name'] == 'C11') | \n",
    "                              (df_pdb_copy['Atom_name'] == 'C1'))]\n",
    "    if not df_c11.empty:\n",
    "        df_c11.index = range(len(df_c11))\n",
    "\n",
    "        # since there could be multiple Gcs in a glycan, eGch glycan corresponds to a glycan list\n",
    "        # therefore, need to first retrieve list of glycan distance list\n",
    "\n",
    "        all_Gc_distance_list_list = []\n",
    "\n",
    "        all_Gc_distance_threshold_list_list = []\n",
    "\n",
    "        all_Gc_atom_name_list_list_list = []\n",
    "\n",
    "        all_atom_num_list = df_pdb_copy['Atom_num'].values\n",
    "\n",
    "        all_atom_name_list = df_pdb_copy['Atom_name'].values\n",
    "\n",
    "        for i in range(len(df_c11)):\n",
    "\n",
    "            current_target_distance_list = []\n",
    "\n",
    "            current_target_atom_name_list_list = []\n",
    "\n",
    "            current_atom_num = df_c11.loc[i, :]['Atom_num']\n",
    "\n",
    "            for j in all_atom_num_list:\n",
    "\n",
    "                current_atom_num_path = bfs_shortest_path(dict_f, current_atom_num, j)\n",
    "\n",
    "                current_atom_name_path = [all_atom_name_list[k-1] for k in current_atom_num_path]\n",
    "\n",
    "                # 3, list of list of atom paths, index + 1 = atom num\n",
    "                current_target_atom_name_list_list.append(current_atom_name_path)\n",
    "\n",
    "                # 2, Assign distance \n",
    "                if current_atom_num == j:\n",
    "\n",
    "                    current_target_distance_list.append(0)\n",
    "\n",
    "                # atom with in the same Gc component labeled as 0\n",
    "                elif ((len(current_atom_num_path) - 1) <= 2) and (df_pdb_copy.loc[j-1, :]['Residual_accurate_name'] == 'Me'):\n",
    "\n",
    "                    current_target_distance_list.append(0)\n",
    "\n",
    "                else:\n",
    "                    current_target_distance_list.append(len(current_atom_num_path) - 1)\n",
    "\n",
    "            # 1, Assign categorical value by threshold as distance bound\n",
    "            current_target_distance_list_threshold = np.array(current_target_distance_list.copy())\n",
    "\n",
    "            current_target_distance_list_threshold[(current_target_distance_list_threshold <= threshold) & (current_target_distance_list_threshold > 0)] = 1\n",
    "\n",
    "            current_target_distance_list_threshold[current_target_distance_list_threshold > threshold] = 2\n",
    "\n",
    "            current_target_distance_list_threshold = list(current_target_distance_list_threshold)\n",
    "\n",
    "            # list of list stores distance to eGch Gcs in a glycan\n",
    "        #     print(current_target_distance_list)\n",
    "            all_Gc_distance_list_list.append(current_target_distance_list)\n",
    "\n",
    "            # this is not used in this function, but may be used in the future if other method is developed\n",
    "            all_Gc_distance_threshold_list_list.append(current_target_distance_list_threshold)\n",
    "\n",
    "            all_Gc_atom_name_list_list_list.append(current_target_atom_name_list_list)\n",
    "\n",
    "        all_Gc_distance_list_list = np.array(all_Gc_distance_list_list)\n",
    "\n",
    "        # find the minimum distance\n",
    "        new_all_index = all_Gc_distance_list_list.argmin(axis=0)\n",
    "\n",
    "        minimum_all_Gc_distance_list_list = [all_Gc_distance_list_list[new_all_index[m]][m] for m in range(len(new_all_index))]\n",
    "\n",
    "        # find the corresponding minimum threshold\n",
    "        minimum_all_Gc_distance_list_list_threshold = np.array(minimum_all_Gc_distance_list_list.copy())\n",
    "\n",
    "        minimum_all_Gc_distance_list_list_threshold[(minimum_all_Gc_distance_list_list_threshold <= threshold) & (minimum_all_Gc_distance_list_list_threshold > 0)] = 1\n",
    "\n",
    "        minimum_all_Gc_distance_list_list_threshold[minimum_all_Gc_distance_list_list_threshold > threshold] = 2\n",
    "\n",
    "        minimum_all_Gc_distance_list_list_threshold = list(minimum_all_Gc_distance_list_list_threshold)\n",
    "\n",
    "        # find the corresponding minimum atom names\n",
    "\n",
    "        minimum_all_Gc_atom_name_list_list_list = [all_Gc_atom_name_list_list_list[new_all_index[m]][m] for m in range(len(new_all_index))]\n",
    "\n",
    "\n",
    "        df_pdb_copy['Me' + '_min_atom_distance'] = minimum_all_Gc_distance_list_list\n",
    "\n",
    "        df_pdb_copy['Me' + '_min_atom_distance_threshold'] = minimum_all_Gc_distance_list_list_threshold\n",
    "\n",
    "        df_pdb_copy['Me' + '_min_atom_path'] = minimum_all_Gc_atom_name_list_list_list\n",
    "    \n",
    "    else:\n",
    "        # not containing any Gc components\n",
    "        df_pdb_copy['Me' + '_min_atom_distance'] = 999\n",
    "\n",
    "        df_pdb_copy['Me' + '_min_atom_distance_threshold'] = 2\n",
    "\n",
    "        df_pdb_copy['Me' + '_min_atom_path'] = [['No ' + '_Me_' + ' included'] for _ in range(len(df_pdb))]\n",
    "    \n",
    "    return df_pdb_copy"
   ]
  },
  {
   "cell_type": "markdown",
   "id": "017c29ef",
   "metadata": {},
   "source": [
    "##### 5, Checkings, including save some test files, verify Gc components"
   ]
  },
  {
   "cell_type": "markdown",
   "id": "d9ea4f81",
   "metadata": {},
   "source": [
    "##### 6, Create Neup atom names"
   ]
  },
  {
   "cell_type": "code",
   "execution_count": 20,
   "id": "8a18d4da",
   "metadata": {},
   "outputs": [],
   "source": [
    "def create_neup_feature(df_pdb):\n",
    "\n",
    "    carbon_list = ['C1', 'C11', 'C2', 'C21', 'C3', 'C4', 'C5', 'C6', 'C7', 'C8', 'C9']\n",
    "\n",
    "    hydrogen_list = ['H1', 'H11', 'H2', 'H3', 'H31', 'H4', 'H5', 'H51', 'H6', 'H61', 'H7', 'H8', 'H9', 'H91']\n",
    "\n",
    "    df_pdb_copy = df_pdb.copy()\n",
    "    \n",
    "    new_atom_list = []\n",
    "    for i in range(len(df_pdb)):\n",
    "        current_atom_name = df_pdb_copy.loc[i, :]['Atom_name']\n",
    "        current_residue_name = df_pdb_copy.loc[i, :]['Residual_accurate_name']\n",
    "\n",
    "        if ('Neup' in current_residue_name) and ((current_atom_name in carbon_list) or \\\n",
    "                                                 (current_atom_name in hydrogen_list)):\n",
    "            new_atom = 'Neup_' + current_atom_name\n",
    "        else:\n",
    "            new_atom = current_atom_name\n",
    "        new_atom_list.append(new_atom)\n",
    "    \n",
    "    df_pdb_copy['New_Atom_name'] = new_atom_list\n",
    "    \n",
    "    return df_pdb_copy"
   ]
  },
  {
   "cell_type": "markdown",
   "id": "b59b147d",
   "metadata": {},
   "source": [
    "##### 7, create Ac atom names based on step 6"
   ]
  },
  {
   "cell_type": "code",
   "execution_count": 21,
   "id": "26f19ef0",
   "metadata": {},
   "outputs": [],
   "source": [
    "def reformuate_atom_name_Ac(df_pdb):\n",
    "\n",
    "    df_pdb_copy = df_pdb.copy()\n",
    "\n",
    "    df_ac = df_pdb_copy.loc[df_pdb_copy['Ac_component'] == 1]\n",
    "\n",
    "    for i in df_ac.index:\n",
    "\n",
    "        df_pdb_copy.loc[i, ['New_Atom_name']] = df_pdb_copy.loc[i, ['New_Atom_name']] + '_Ac'\n",
    "        \n",
    "    return df_pdb_copy"
   ]
  },
  {
   "cell_type": "code",
   "execution_count": 22,
   "id": "abdf9931",
   "metadata": {},
   "outputs": [],
   "source": [
    "def reformulate_atom_name_kdop(df_pdb, kdo_list = ['Kdo-ol', 'a-Kdop', 'b-Kdop']):\n",
    "    idx_list = []\n",
    "    for kdo in kdo_list:\n",
    "        if kdo in df_pdb['Residual_accurate_name'].values:\n",
    "            idx_list.extend(list(df_pdb.loc[df_pdb['Residual_accurate_name'] == kdo].index))\n",
    "    \n",
    "    df_pdb_copy = df_pdb.copy()\n",
    "    df_pdb_copy.loc[idx_list, ['New_Atom_name']] = 'Kdo_' + df_pdb_copy.loc[idx_list, ['New_Atom_name']]\n",
    "    \n",
    "    return df_pdb_copy"
   ]
  },
  {
   "cell_type": "code",
   "execution_count": 23,
   "id": "e04368dd",
   "metadata": {},
   "outputs": [],
   "source": [
    "def create_main_ring_shift(df_pdb, non_mono_components = ['17HOOle', 'Ac', 'Allyl', 'Asn', 'Bu', 'Bz', 'Caf', 'Cho', \n",
    "                                                            'Fer', 'Gallic', 'Gc', 'Mal', 'Me','Missing Monosaccharide', \n",
    "                                                             'P', 'Pr', 'S', 'Ser', 'myoIno', 'pCoum', 'myoIno', 'pCoum']):\n",
    "    df_pdb_copy = df_pdb.copy()\n",
    "    \n",
    "    main_ring_shift = df_pdb_copy['shift'].values\n",
    "    for i in range(len(df_pdb_copy)):\n",
    "        current_mono = df_pdb.loc[i, :]['Residual_accurate_name']\n",
    "        current_shift = df_pdb.loc[i, :]['shift']\n",
    "        ac_indicator = df_pdb.loc[i, :]['Ac_component']\n",
    "        if current_mono in non_mono_components:\n",
    "            main_ring_shift[i] = -1.\n",
    "            \n",
    "        if ac_indicator == 1:\n",
    "            main_ring_shift[i] = -1.\n",
    "    \n",
    "    df_pdb_copy['main_ring_shift'] = main_ring_shift\n",
    "    \n",
    "    return df_pdb_copy"
   ]
  },
  {
   "cell_type": "markdown",
   "id": "3c2e7e62",
   "metadata": {},
   "source": [
    "### Implement all the above steps"
   ]
  },
  {
   "cell_type": "code",
   "execution_count": 24,
   "id": "2ae55b58",
   "metadata": {},
   "outputs": [
    {
     "name": "stderr",
     "output_type": "stream",
     "text": [
      "  1%|▌                                        | 31/2399 [00:04<05:30,  7.16it/s]"
     ]
    },
    {
     "name": "stdout",
     "output_type": "stream",
     "text": [
      "labeled_all_2403.pdb.csv 30 Ac the attached monosaccharides does not contain a C11\n"
     ]
    },
    {
     "name": "stderr",
     "output_type": "stream",
     "text": [
      "  3%|█▏                                       | 66/2399 [00:08<03:00, 12.90it/s]"
     ]
    },
    {
     "name": "stdout",
     "output_type": "stream",
     "text": [
      "[1]\n",
      "labeled_all_2066.pdb.csv 64 Ac the attached monosaccharides does not contain a C11\n"
     ]
    },
    {
     "name": "stderr",
     "output_type": "stream",
     "text": [
      "\r",
      "  3%|█▏                                       | 68/2399 [00:08<02:57, 13.15it/s]"
     ]
    },
    {
     "name": "stdout",
     "output_type": "stream",
     "text": [
      "labeled_all_2165.pdb.csv 67 Ac the attached monosaccharides does not contain a C11\n",
      "labeled_all_2361.pdb.csv 68 Ac the attached monosaccharides does not contain a C11\n"
     ]
    },
    {
     "name": "stderr",
     "output_type": "stream",
     "text": [
      "  3%|█▎                                       | 74/2399 [00:09<04:01,  9.61it/s]"
     ]
    },
    {
     "name": "stdout",
     "output_type": "stream",
     "text": [
      "labeled_all_237.pdb.csv 72 Ac the attached monosaccharides does not contain a C11\n"
     ]
    },
    {
     "name": "stderr",
     "output_type": "stream",
     "text": [
      "  5%|██                                      | 121/2399 [00:16<05:07,  7.41it/s]"
     ]
    },
    {
     "name": "stdout",
     "output_type": "stream",
     "text": [
      "labeled_all_2020.pdb.csv 120 Ac the attached monosaccharides does not contain a C11\n"
     ]
    },
    {
     "name": "stderr",
     "output_type": "stream",
     "text": [
      "  7%|██▋                                     | 159/2399 [00:22<06:26,  5.80it/s]"
     ]
    },
    {
     "name": "stdout",
     "output_type": "stream",
     "text": [
      "labeled_all_2331.pdb.csv 157 Ac the attached monosaccharides does not contain a C11\n"
     ]
    },
    {
     "name": "stderr",
     "output_type": "stream",
     "text": [
      "  8%|███▍                                    | 203/2399 [00:28<04:03,  9.00it/s]"
     ]
    },
    {
     "name": "stdout",
     "output_type": "stream",
     "text": [
      "labeled_all_2071.pdb.csv 202 Ac the attached monosaccharides does not contain a C11\n",
      "labeled_all_2071.pdb.csv 202 Ac the attached monosaccharides does not contain a C11\n"
     ]
    },
    {
     "name": "stderr",
     "output_type": "stream",
     "text": [
      " 10%|███▉                                    | 237/2399 [00:32<05:25,  6.65it/s]"
     ]
    },
    {
     "name": "stdout",
     "output_type": "stream",
     "text": [
      "labeled_all_2332.pdb.csv 235 Ac the attached monosaccharides does not contain a C11\n"
     ]
    },
    {
     "name": "stderr",
     "output_type": "stream",
     "text": [
      " 11%|████▏                                   | 253/2399 [00:34<04:05,  8.73it/s]"
     ]
    },
    {
     "name": "stdout",
     "output_type": "stream",
     "text": [
      "labeled_all_2025.pdb.csv 251 Ac the attached monosaccharides does not contain a C11\n"
     ]
    },
    {
     "name": "stderr",
     "output_type": "stream",
     "text": [
      " 12%|████▉                                   | 299/2399 [00:40<03:44,  9.35it/s]"
     ]
    },
    {
     "name": "stdout",
     "output_type": "stream",
     "text": [
      "labeled_all_2063.pdb.csv 297 Ac the attached monosaccharides does not contain a C11\n",
      "labeled_all_2063.pdb.csv 297 Ac the attached monosaccharides does not contain a C11\n",
      "labeled_all_2063.pdb.csv 297 Ac the attached monosaccharides does not contain a C11\n"
     ]
    },
    {
     "name": "stderr",
     "output_type": "stream",
     "text": [
      " 14%|█████▋                                  | 340/2399 [00:46<04:30,  7.62it/s]"
     ]
    },
    {
     "name": "stdout",
     "output_type": "stream",
     "text": [
      "labeled_all_2133.pdb.csv 339 Ac the attached monosaccharides does not contain a C11\n",
      "labeled_all_2133.pdb.csv 339 Ac the attached monosaccharides does not contain a C11\n"
     ]
    },
    {
     "name": "stderr",
     "output_type": "stream",
     "text": [
      " 18%|███████                                 | 426/2399 [00:57<04:18,  7.63it/s]"
     ]
    },
    {
     "name": "stdout",
     "output_type": "stream",
     "text": [
      "labeled_all_2164.pdb.csv 426 Ac the attached monosaccharides does not contain a C11\n",
      "labeled_all_2164.pdb.csv 426 Ac the attached monosaccharides does not contain a C11\n"
     ]
    },
    {
     "name": "stderr",
     "output_type": "stream",
     "text": [
      " 19%|███████▌                                | 456/2399 [01:00<03:17,  9.84it/s]"
     ]
    },
    {
     "name": "stdout",
     "output_type": "stream",
     "text": [
      "[1]\n"
     ]
    },
    {
     "name": "stderr",
     "output_type": "stream",
     "text": [
      " 20%|███████▉                                | 477/2399 [01:02<02:17, 13.98it/s]"
     ]
    },
    {
     "name": "stdout",
     "output_type": "stream",
     "text": [
      "labeled_all_2136.pdb.csv 475 Ac the attached monosaccharides does not contain a C11\n"
     ]
    },
    {
     "name": "stderr",
     "output_type": "stream",
     "text": [
      " 27%|██████████▌                             | 637/2399 [01:22<02:41, 10.89it/s]"
     ]
    },
    {
     "name": "stdout",
     "output_type": "stream",
     "text": [
      "[12]\n"
     ]
    },
    {
     "name": "stderr",
     "output_type": "stream",
     "text": [
      " 27%|██████████▊                             | 648/2399 [01:23<03:15,  8.95it/s]"
     ]
    },
    {
     "name": "stdout",
     "output_type": "stream",
     "text": [
      "labeled_all_2288.pdb.csv 647 Ac the attached monosaccharides does not contain a C11\n",
      "labeled_all_2288.pdb.csv 647 Ac the attached monosaccharides does not contain a C11\n",
      "labeled_all_2288.pdb.csv 647 Ac the attached monosaccharides does not contain a C11\n"
     ]
    },
    {
     "name": "stderr",
     "output_type": "stream",
     "text": [
      " 27%|██████████▊                             | 652/2399 [01:24<03:30,  8.28it/s]"
     ]
    },
    {
     "name": "stdout",
     "output_type": "stream",
     "text": [
      "labeled_all_2249.pdb.csv 651 Ac the attached monosaccharides does not contain a C11\n"
     ]
    },
    {
     "name": "stderr",
     "output_type": "stream",
     "text": [
      " 32%|████████████▊                           | 770/2399 [01:36<02:55,  9.31it/s]"
     ]
    },
    {
     "name": "stdout",
     "output_type": "stream",
     "text": [
      "labeled_all_2219.pdb.csv 770 Ac the attached monosaccharides does not contain a C11\n"
     ]
    },
    {
     "name": "stderr",
     "output_type": "stream",
     "text": [
      " 34%|█████████████▌                          | 817/2399 [01:42<02:24, 10.95it/s]"
     ]
    },
    {
     "name": "stdout",
     "output_type": "stream",
     "text": [
      "labeled_all_2024.pdb.csv 816 Ac the attached monosaccharides does not contain a C11\n"
     ]
    },
    {
     "name": "stderr",
     "output_type": "stream",
     "text": [
      " 35%|██████████████                          | 843/2399 [01:46<03:18,  7.82it/s]"
     ]
    },
    {
     "name": "stdout",
     "output_type": "stream",
     "text": [
      "[15]\n"
     ]
    },
    {
     "name": "stderr",
     "output_type": "stream",
     "text": [
      " 40%|████████████████▏                       | 971/2399 [02:01<02:51,  8.31it/s]"
     ]
    },
    {
     "name": "stdout",
     "output_type": "stream",
     "text": [
      "labeled_all_2126.pdb.csv 968 Ac the attached monosaccharides does not contain a C11\n",
      "labeled_all_2126.pdb.csv 968 Ac the attached monosaccharides does not contain a C11\n",
      "labeled_all_2126.pdb.csv 968 Ac the attached monosaccharides does not contain a C11\n"
     ]
    },
    {
     "name": "stderr",
     "output_type": "stream",
     "text": [
      " 41%|████████████████▎                       | 975/2399 [02:02<02:30,  9.45it/s]"
     ]
    },
    {
     "name": "stdout",
     "output_type": "stream",
     "text": [
      "labeled_all_171.pdb.csv 974 Ac the attached monosaccharides does not contain a C11\n",
      "labeled_all_171.pdb.csv 974 Ac the attached monosaccharides does not contain a C11\n",
      "labeled_all_171.pdb.csv 974 Ac the attached monosaccharides does not contain a C11\n"
     ]
    },
    {
     "name": "stderr",
     "output_type": "stream",
     "text": [
      " 41%|████████████████▌                       | 992/2399 [02:04<02:05, 11.25it/s]"
     ]
    },
    {
     "name": "stdout",
     "output_type": "stream",
     "text": [
      "[1]\n"
     ]
    },
    {
     "name": "stderr",
     "output_type": "stream",
     "text": [
      " 42%|████████████████▎                      | 1003/2399 [02:05<02:54,  8.02it/s]"
     ]
    },
    {
     "name": "stdout",
     "output_type": "stream",
     "text": [
      "[1]\n"
     ]
    },
    {
     "name": "stderr",
     "output_type": "stream",
     "text": [
      " 45%|█████████████████▌                     | 1081/2399 [02:15<02:06, 10.43it/s]"
     ]
    },
    {
     "name": "stdout",
     "output_type": "stream",
     "text": [
      "[1]\n"
     ]
    },
    {
     "name": "stderr",
     "output_type": "stream",
     "text": [
      " 47%|██████████████████▏                    | 1122/2399 [02:20<02:21,  9.04it/s]"
     ]
    },
    {
     "name": "stdout",
     "output_type": "stream",
     "text": [
      "labeled_all_2137.pdb.csv 1121 Ac the attached monosaccharides does not contain a C11\n",
      "labeled_all_2137.pdb.csv 1121 Ac the attached monosaccharides does not contain a C11\n"
     ]
    },
    {
     "name": "stderr",
     "output_type": "stream",
     "text": [
      " 48%|██████████████████▌                    | 1143/2399 [02:23<01:57, 10.69it/s]"
     ]
    },
    {
     "name": "stdout",
     "output_type": "stream",
     "text": [
      "labeled_all_2392.pdb.csv 1141 Ac the attached monosaccharides does not contain a C11\n"
     ]
    },
    {
     "name": "stderr",
     "output_type": "stream",
     "text": [
      " 49%|██████████████████▉                    | 1166/2399 [02:26<01:51, 11.08it/s]"
     ]
    },
    {
     "name": "stdout",
     "output_type": "stream",
     "text": [
      "labeled_all_2325.pdb.csv 1165 Ac the attached monosaccharides does not contain a C11\n"
     ]
    },
    {
     "name": "stderr",
     "output_type": "stream",
     "text": [
      " 49%|███████████████████▏                   | 1180/2399 [02:28<02:26,  8.32it/s]"
     ]
    },
    {
     "name": "stdout",
     "output_type": "stream",
     "text": [
      "labeled_all_2360.pdb.csv 1179 Ac the attached monosaccharides does not contain a C11\n",
      "labeled_all_2360.pdb.csv 1179 Ac the attached monosaccharides does not contain a C11\n"
     ]
    },
    {
     "name": "stderr",
     "output_type": "stream",
     "text": [
      " 49%|███████████████████▎                   | 1186/2399 [02:28<02:08,  9.44it/s]"
     ]
    },
    {
     "name": "stdout",
     "output_type": "stream",
     "text": [
      "labeled_all_2183.pdb.csv 1185 Ac the attached monosaccharides does not contain a C11\n",
      "labeled_all_2183.pdb.csv 1185 Ac the attached monosaccharides does not contain a C11\n"
     ]
    },
    {
     "name": "stderr",
     "output_type": "stream",
     "text": [
      " 54%|█████████████████████                  | 1297/2399 [02:40<01:26, 12.72it/s]"
     ]
    },
    {
     "name": "stdout",
     "output_type": "stream",
     "text": [
      "labeled_all_2130.pdb.csv 1293 Ac the attached monosaccharides does not contain a C11\n",
      "labeled_all_2130.pdb.csv 1293 Ac the attached monosaccharides does not contain a C11\n",
      "labeled_all_2130.pdb.csv 1293 Ac the attached monosaccharides does not contain a C11\n"
     ]
    },
    {
     "name": "stderr",
     "output_type": "stream",
     "text": [
      " 55%|█████████████████████▌                 | 1324/2399 [02:45<04:14,  4.23it/s]"
     ]
    },
    {
     "name": "stdout",
     "output_type": "stream",
     "text": [
      "labeled_all_2002.pdb.csv 1324 Ac the attached monosaccharides does not contain a C11\n",
      "labeled_all_2002.pdb.csv 1324 Ac the attached monosaccharides does not contain a C11\n"
     ]
    },
    {
     "name": "stderr",
     "output_type": "stream",
     "text": [
      " 57%|██████████████████████▎                | 1370/2399 [02:49<02:02,  8.39it/s]"
     ]
    },
    {
     "name": "stdout",
     "output_type": "stream",
     "text": [
      "labeled_all_2115.pdb.csv 1369 Ac the attached monosaccharides does not contain a C11\n"
     ]
    },
    {
     "name": "stderr",
     "output_type": "stream",
     "text": [
      " 59%|██████████████████████▉                | 1412/2399 [02:55<01:39,  9.92it/s]"
     ]
    },
    {
     "name": "stdout",
     "output_type": "stream",
     "text": [
      "labeled_all_2185.pdb.csv 1409 Ac the attached monosaccharides does not contain a C11\n"
     ]
    },
    {
     "name": "stderr",
     "output_type": "stream",
     "text": [
      " 60%|███████████████████████▎               | 1431/2399 [02:58<02:21,  6.83it/s]"
     ]
    },
    {
     "name": "stdout",
     "output_type": "stream",
     "text": [
      "labeled_all_2336.pdb.csv 1429 Ac the attached monosaccharides does not contain a C11\n",
      "labeled_all_2084.pdb.csv 1430 Ac the attached monosaccharides does not contain a C11\n",
      "labeled_all_2084.pdb.csv 1430 Ac the attached monosaccharides does not contain a C11\n",
      "labeled_all_2084.pdb.csv 1430 Ac the attached monosaccharides does not contain a C11\n"
     ]
    },
    {
     "name": "stderr",
     "output_type": "stream",
     "text": [
      " 60%|███████████████████████▌               | 1448/2399 [03:00<01:31, 10.39it/s]"
     ]
    },
    {
     "name": "stdout",
     "output_type": "stream",
     "text": [
      "labeled_all_2143.pdb.csv 1447 Ac the attached monosaccharides does not contain a C11\n",
      "labeled_all_2143.pdb.csv 1447 Ac the attached monosaccharides does not contain a C11\n"
     ]
    },
    {
     "name": "stderr",
     "output_type": "stream",
     "text": [
      " 63%|████████████████████████▌              | 1513/2399 [03:09<01:47,  8.27it/s]"
     ]
    },
    {
     "name": "stdout",
     "output_type": "stream",
     "text": [
      "labeled_all_2087.pdb.csv 1512 Ac the attached monosaccharides does not contain a C11\n",
      "labeled_all_2087.pdb.csv 1512 Ac the attached monosaccharides does not contain a C11\n",
      "labeled_all_2087.pdb.csv 1512 Ac the attached monosaccharides does not contain a C11\n",
      "labeled_all_2087.pdb.csv 1512 Ac the attached monosaccharides does not contain a C11\n",
      "labeled_all_2087.pdb.csv 1512 Ac the attached monosaccharides does not contain a C11\n",
      "labeled_all_2087.pdb.csv 1512 Ac the attached monosaccharides does not contain a C11\n",
      "labeled_all_2087.pdb.csv 1512 Ac the attached monosaccharides does not contain a C11\n"
     ]
    },
    {
     "name": "stderr",
     "output_type": "stream",
     "text": [
      " 64%|████████████████████████▊              | 1529/2399 [03:11<01:54,  7.59it/s]"
     ]
    },
    {
     "name": "stdout",
     "output_type": "stream",
     "text": [
      "labeled_all_2005.pdb.csv 1529 Ac the attached monosaccharides does not contain a C11\n"
     ]
    },
    {
     "name": "stderr",
     "output_type": "stream",
     "text": [
      " 64%|█████████████████████████              | 1539/2399 [03:12<01:45,  8.15it/s]"
     ]
    },
    {
     "name": "stdout",
     "output_type": "stream",
     "text": [
      "labeled_all_2363.pdb.csv 1538 Ac the attached monosaccharides does not contain a C11\n",
      "labeled_all_2363.pdb.csv 1538 Ac the attached monosaccharides does not contain a C11\n"
     ]
    },
    {
     "name": "stderr",
     "output_type": "stream",
     "text": [
      " 65%|█████████████████████████▍             | 1565/2399 [03:16<01:46,  7.82it/s]"
     ]
    },
    {
     "name": "stdout",
     "output_type": "stream",
     "text": [
      "labeled_all_2242.pdb.csv 1564 Ac the attached monosaccharides does not contain a C11\n"
     ]
    },
    {
     "name": "stderr",
     "output_type": "stream",
     "text": [
      " 66%|█████████████████████████▋             | 1577/2399 [03:17<01:36,  8.55it/s]"
     ]
    },
    {
     "name": "stdout",
     "output_type": "stream",
     "text": [
      "labeled_all_2345.pdb.csv 1575 Ac the attached monosaccharides does not contain a C11\n"
     ]
    },
    {
     "name": "stderr",
     "output_type": "stream",
     "text": [
      " 68%|██████████████████████████▋            | 1643/2399 [03:27<02:32,  4.96it/s]"
     ]
    },
    {
     "name": "stdout",
     "output_type": "stream",
     "text": [
      "labeled_all_2401.pdb.csv 1643 Ac the attached monosaccharides does not contain a C11\n"
     ]
    },
    {
     "name": "stderr",
     "output_type": "stream",
     "text": [
      " 71%|███████████████████████████▌           | 1694/2399 [03:32<00:56, 12.42it/s]"
     ]
    },
    {
     "name": "stdout",
     "output_type": "stream",
     "text": [
      "labeled_all_2121.pdb.csv 1693 Ac the attached monosaccharides does not contain a C11\n",
      "labeled_all_2121.pdb.csv 1693 Ac the attached monosaccharides does not contain a C11\n"
     ]
    },
    {
     "name": "stderr",
     "output_type": "stream",
     "text": [
      " 74%|████████████████████████████▉          | 1779/2399 [03:42<00:58, 10.60it/s]"
     ]
    },
    {
     "name": "stdout",
     "output_type": "stream",
     "text": [
      "labeled_all_2355.pdb.csv 1778 Ac the attached monosaccharides does not contain a C11\n"
     ]
    },
    {
     "name": "stderr",
     "output_type": "stream",
     "text": [
      " 76%|█████████████████████████████▌         | 1822/2399 [03:47<00:56, 10.16it/s]"
     ]
    },
    {
     "name": "stdout",
     "output_type": "stream",
     "text": [
      "labeled_all_2030.pdb.csv 1822 Ac the attached monosaccharides does not contain a C11\n",
      "labeled_all_2030.pdb.csv 1822 Ac the attached monosaccharides does not contain a C11\n",
      "labeled_all_2030.pdb.csv 1822 Ac the attached monosaccharides does not contain a C11\n",
      "labeled_all_2030.pdb.csv 1822 Ac the attached monosaccharides does not contain a C11\n",
      "labeled_all_2030.pdb.csv 1822 Ac the attached monosaccharides does not contain a C11\n"
     ]
    },
    {
     "name": "stderr",
     "output_type": "stream",
     "text": [
      " 76%|█████████████████████████████▊         | 1832/2399 [03:49<01:23,  6.81it/s]"
     ]
    },
    {
     "name": "stdout",
     "output_type": "stream",
     "text": [
      "labeled_all_2018.pdb.csv 1831 Ac the attached monosaccharides does not contain a C11\n"
     ]
    },
    {
     "name": "stderr",
     "output_type": "stream",
     "text": [
      " 77%|██████████████████████████████         | 1851/2399 [03:52<01:22,  6.63it/s]"
     ]
    },
    {
     "name": "stdout",
     "output_type": "stream",
     "text": [
      "labeled_all_2103.pdb.csv 1849 Ac the attached monosaccharides does not contain a C11\n",
      "labeled_all_2103.pdb.csv 1849 Ac the attached monosaccharides does not contain a C11\n"
     ]
    },
    {
     "name": "stderr",
     "output_type": "stream",
     "text": [
      " 77%|██████████████████████████████▏        | 1859/2399 [03:52<00:45, 11.79it/s]"
     ]
    },
    {
     "name": "stdout",
     "output_type": "stream",
     "text": [
      "labeled_all_2227.pdb.csv 1858 Ac the attached monosaccharides does not contain a C11\n",
      "labeled_all_2227.pdb.csv 1858 Ac the attached monosaccharides does not contain a C11\n"
     ]
    },
    {
     "name": "stderr",
     "output_type": "stream",
     "text": [
      " 78%|██████████████████████████████▎        | 1864/2399 [03:53<00:40, 13.26it/s]"
     ]
    },
    {
     "name": "stdout",
     "output_type": "stream",
     "text": [
      "labeled_all_2382.pdb.csv 1862 Ac the attached monosaccharides does not contain a C11\n"
     ]
    },
    {
     "name": "stderr",
     "output_type": "stream",
     "text": [
      " 79%|██████████████████████████████▊        | 1898/2399 [03:56<00:40, 12.24it/s]"
     ]
    },
    {
     "name": "stdout",
     "output_type": "stream",
     "text": [
      "labeled_all_2079.pdb.csv 1898 Ac the attached monosaccharides does not contain a C11\n",
      "labeled_all_2079.pdb.csv 1898 Ac the attached monosaccharides does not contain a C11\n",
      "labeled_all_2079.pdb.csv 1898 Ac the attached monosaccharides does not contain a C11\n"
     ]
    },
    {
     "name": "stderr",
     "output_type": "stream",
     "text": [
      " 80%|███████████████████████████████▏       | 1918/2399 [03:59<01:18,  6.12it/s]"
     ]
    },
    {
     "name": "stdout",
     "output_type": "stream",
     "text": [
      "labeled_all_2107.pdb.csv 1917 Ac the attached monosaccharides does not contain a C11\n",
      "labeled_all_2107.pdb.csv 1917 Ac the attached monosaccharides does not contain a C11\n"
     ]
    },
    {
     "name": "stderr",
     "output_type": "stream",
     "text": [
      " 81%|███████████████████████████████▌       | 1942/2399 [04:01<00:34, 13.26it/s]"
     ]
    },
    {
     "name": "stdout",
     "output_type": "stream",
     "text": [
      "labeled_all_2043.pdb.csv 1941 Ac the attached monosaccharides does not contain a C11\n"
     ]
    },
    {
     "name": "stderr",
     "output_type": "stream",
     "text": [
      " 82%|███████████████████████████████▉       | 1968/2399 [04:04<01:14,  5.80it/s]"
     ]
    },
    {
     "name": "stdout",
     "output_type": "stream",
     "text": [
      "labeled_all_2395.pdb.csv 1967 Ac the attached monosaccharides does not contain a C11\n",
      "labeled_all_2395.pdb.csv 1967 Ac the attached monosaccharides does not contain a C11\n"
     ]
    },
    {
     "name": "stderr",
     "output_type": "stream",
     "text": [
      " 83%|████████████████████████████████▍      | 1992/2399 [04:06<00:55,  7.33it/s]"
     ]
    },
    {
     "name": "stdout",
     "output_type": "stream",
     "text": [
      "labeled_all_2397.pdb.csv 1991 Ac the attached monosaccharides does not contain a C11\n"
     ]
    },
    {
     "name": "stderr",
     "output_type": "stream",
     "text": [
      " 86%|█████████████████████████████████▍     | 2060/2399 [04:15<00:41,  8.20it/s]"
     ]
    },
    {
     "name": "stdout",
     "output_type": "stream",
     "text": [
      "[1]\n"
     ]
    },
    {
     "name": "stderr",
     "output_type": "stream",
     "text": [
      " 87%|█████████████████████████████████▉     | 2086/2399 [04:19<00:34,  8.99it/s]"
     ]
    },
    {
     "name": "stdout",
     "output_type": "stream",
     "text": [
      "labeled_all_2402.pdb.csv 2085 Ac the attached monosaccharides does not contain a C11\n"
     ]
    },
    {
     "name": "stderr",
     "output_type": "stream",
     "text": [
      " 88%|██████████████████████████████████▏    | 2101/2399 [04:20<00:26, 11.30it/s]"
     ]
    },
    {
     "name": "stdout",
     "output_type": "stream",
     "text": [
      "labeled_all_2300.pdb.csv 2099 Ac the attached monosaccharides does not contain a C11\n"
     ]
    },
    {
     "name": "stderr",
     "output_type": "stream",
     "text": [
      " 89%|██████████████████████████████████▊    | 2141/2399 [04:25<00:33,  7.80it/s]"
     ]
    },
    {
     "name": "stdout",
     "output_type": "stream",
     "text": [
      "labeled_all_2385.pdb.csv 2141 Ac the attached monosaccharides does not contain a C11\n"
     ]
    },
    {
     "name": "stderr",
     "output_type": "stream",
     "text": [
      " 91%|███████████████████████████████████▍   | 2178/2399 [04:29<00:27,  8.11it/s]"
     ]
    },
    {
     "name": "stdout",
     "output_type": "stream",
     "text": [
      "labeled_all_315.pdb.csv 2176 Ac the attached monosaccharides does not contain a C11\n"
     ]
    },
    {
     "name": "stderr",
     "output_type": "stream",
     "text": [
      " 93%|████████████████████████████████████▏  | 2228/2399 [04:34<00:21,  7.92it/s]"
     ]
    },
    {
     "name": "stdout",
     "output_type": "stream",
     "text": [
      "labeled_all_2407.pdb.csv 2228 Ac the attached monosaccharides does not contain a C11\n"
     ]
    },
    {
     "name": "stderr",
     "output_type": "stream",
     "text": [
      " 93%|████████████████████████████████████▎  | 2236/2399 [04:35<00:15, 10.60it/s]"
     ]
    },
    {
     "name": "stdout",
     "output_type": "stream",
     "text": [
      "labeled_all_2037.pdb.csv 2234 Ac the attached monosaccharides does not contain a C11\n"
     ]
    },
    {
     "name": "stderr",
     "output_type": "stream",
     "text": [
      " 95%|█████████████████████████████████████  | 2276/2399 [04:40<00:10, 11.28it/s]"
     ]
    },
    {
     "name": "stdout",
     "output_type": "stream",
     "text": [
      "labeled_all_2065.pdb.csv 2275 Ac the attached monosaccharides does not contain a C11\n",
      "labeled_all_2065.pdb.csv 2275 Ac the attached monosaccharides does not contain a C11\n"
     ]
    },
    {
     "name": "stderr",
     "output_type": "stream",
     "text": [
      " 95%|█████████████████████████████████████  | 2282/2399 [04:42<00:28,  4.17it/s]"
     ]
    },
    {
     "name": "stdout",
     "output_type": "stream",
     "text": [
      "[12]\n",
      "labeled_all_317.pdb.csv 2282 Ac the attached monosaccharides does not contain a C11\n"
     ]
    },
    {
     "name": "stderr",
     "output_type": "stream",
     "text": [
      " 95%|█████████████████████████████████████▏ | 2289/2399 [04:42<00:14,  7.62it/s]"
     ]
    },
    {
     "name": "stdout",
     "output_type": "stream",
     "text": [
      "labeled_all_366.pdb.csv 2287 Ac the attached monosaccharides does not contain a C11\n"
     ]
    },
    {
     "name": "stderr",
     "output_type": "stream",
     "text": [
      " 98%|██████████████████████████████████████▍| 2363/2399 [04:51<00:03, 11.85it/s]"
     ]
    },
    {
     "name": "stdout",
     "output_type": "stream",
     "text": [
      "labeled_all_2334.pdb.csv 2363 Ac the attached monosaccharides does not contain a C11\n",
      "labeled_all_2334.pdb.csv 2363 Ac the attached monosaccharides does not contain a C11\n",
      "labeled_all_457.pdb.csv 2364 Ac the attached monosaccharides does not contain a C11\n"
     ]
    },
    {
     "name": "stderr",
     "output_type": "stream",
     "text": [
      "100%|███████████████████████████████████████| 2399/2399 [04:55<00:00,  8.11it/s]\n"
     ]
    }
   ],
   "source": [
    "for i in tqdm(range(len(pdb_files))):\n",
    "\n",
    "# for i in [1]:\n",
    "# for i in [730]:\n",
    "# for i in [59]:\n",
    "\n",
    "# for i in [7]:\n",
    "# for i in [2]:\n",
    "# for i in [1894]:\n",
    "\n",
    "# for i in [517]:\n",
    "\n",
    "# for i in [962]:\n",
    "\n",
    "# for i in [179]:\n",
    "# for i in [2398]:\n",
    "\n",
    "    pdb_name = pdb_files[i]\n",
    "    \n",
    "    pdb_path = os.path.join(data_dir, pdb_name)\n",
    "    \n",
    "    out_pdb_path = os.path.join(out_data_dir, pdb_name)\n",
    "    \n",
    "    df_pdb = pd.read_csv(pdb_path)\n",
    "    \n",
    "    \n",
    "    ##############################\n",
    "    ### 1, replace, drop value ###\n",
    "    ##############################\n",
    "    \n",
    "    \n",
    "    # replace value of carbon outliers by hyb file\n",
    "    \n",
    "    if pdb_name == 'labeled_all_1591.pdb.csv':\n",
    "        df_pdb = replace_values(df_pdb, 54, 'C2', 97.2, 79.4)\n",
    "    \n",
    "    if pdb_name == 'labeled_all_888.pdb.csv':\n",
    "        df_pdb = replace_values_monosaccharide(df_pdb, [95.1, 70.6, 73.4, 79.5, 77.4, 175.9], \n",
    "                                              [95.1, 71.0, 73.4, 79.7, 77.2, 176.1], 'b-D-ManpA', 69)\n",
    "        \n",
    "        df_pdb = replace_values_monosaccharide(df_pdb, [101.1, 75.8, 73.6, 69.5, 76.6, 176.5], \n",
    "                                              [101.2, 77.3, 74.3, 69.7, 76.9, 176.7], 'b-D-ManpA', 52)\n",
    "        \n",
    "        df_pdb = replace_values_monosaccharide(df_pdb, [100.8, 77.8, 69.7, 70.5, 71.9, 62.0], \n",
    "                                              [100.7, 79.1, 69.4, 70.6, 72.2, 62.3], 'a-D-Galp', 48)\n",
    "        \n",
    "        df_pdb = replace_values_monosaccharide(df_pdb, [105.2, 72.5, 73.8, 78.6, 74.0, 64.2], \n",
    "                                              [105.3, 72.2, 73.8, 78.5, 74.6, 64.5], 'b-D-Galp', 65)\n",
    "        \n",
    "        df_pdb = replace_values_monosaccharide(df_pdb, [99.3, 77.4, 69.5, 66.4, 74.3, 170.0], \n",
    "                                              [100.4, 78.4, 70.7, 67.5, 74.3, 87.2], 'a-D-Manp', 79)\n",
    "        \n",
    "        df_pdb = replace_values_monosaccharide(df_pdb, [103.3, 74.1, 75.1, 82.5, 76.6, 175.8], \n",
    "                                              [103.5, 74.1, 76.4, 80.3, 76.1, 174.5], 'b-D-GlcpA', 60)\n",
    "        \n",
    "        df_pdb = replace_values_monosaccharide(df_pdb, [101.9, 71.7, 73.7, 69.5, 73.2, 175.8], \n",
    "                                              [102.2, 71.4, 71.9, 70.3, 74.5, 177.6], 'a-D-ManpA', 59)\n",
    "    \n",
    "    if pdb_name == 'labeled_all_1417.pdb.csv':\n",
    "        #1\n",
    "        df_pdb = replace_values_monosaccharide(df_pdb, [95.9, 70.3, 77.6, 70.2, 36.6, 62.5], \n",
    "                                              [92.4, 73.1, 78.5, 70.3, 71.7, 62.4], 'a-D-Galp', 62)\n",
    "        #2\n",
    "        df_pdb = replace_values_monosaccharide(df_pdb, [96.6, 69.3, 70.4, 70.5, 72.1, 62.0], \n",
    "                                              [97.2, 69.5, 70.4, 70.6, 72.1, 62.3], 'a-D-Galp', 88)\n",
    "        #3\n",
    "        df_pdb = replace_values_monosaccharide(df_pdb, [103.6, 81.6, 76.9, 71.2, 76.9, 62.0], \n",
    "                                              [103.3, 81.3, 77.3, 70.9, 76.9, 61.8], 'b-D-Glcp', 74)\n",
    "        #4\n",
    "        df_pdb = replace_values_monosaccharide(df_pdb, [102.2, 57.0, 82.7, 70.2, 75.9, 66.0], \n",
    "                                              [102.2, 56.0, 82.6, 69.8, 76.3, 64.9], 'b-D-GlcpN', 54)\n",
    "        #5\n",
    "        df_pdb = replace_values_monosaccharide(df_pdb, [101.5, 56.7, 77.9, 71.1, 77.0, 62.3], \n",
    "                                              [101.5, 56.7, 81.1, 71.1, 77.0, 62.3], 'b-D-GlcpN', 49)\n",
    "        #6\n",
    "        df_pdb = replace_values_monosaccharide(df_pdb, [175.5, 96.9, 40.2, 67.4, 54.2, 70.7, 69.8, 73.1, 64.1], \n",
    "                                              [175.6, 100.8, 40.0, 73.1, 52.3, 70.8, 69.8, 73.1, 64.1], \n",
    "                                               'b-Neup', 31, \n",
    "                                               carbon_list=['C1', 'C2', 'C3', 'C4', 'C5', 'C6', 'C7', 'C8', 'C9'])\n",
    "        #7\n",
    "        df_pdb = replace_values_monosaccharide(df_pdb, [174.5, 96.9, 37.1, 72.9, 50.8, 70.7, 69.8, 73.1, 64.1], \n",
    "                                              [175.7, 101.4, 39.0, 73.7, 52.2, 71.1, 69.6, 72.5, 64.3], \n",
    "                                               'b-Neup', 47, \n",
    "                                              carbon_list=['C1', 'C2', 'C3', 'C4', 'C5', 'C6', 'C7', 'C8', 'C9'])\n",
    "        #8\n",
    "        df_pdb = replace_values_monosaccharide(df_pdb, [95.7, 68.7, 79.5, 69.9, 71.8, 61.8], \n",
    "                                              [99.8, 68.9, 79.5, 70.2, 72.1, 62.2], 'a-D-Galp', 57)\n",
    "        #9\n",
    "        df_pdb = replace_values_monosaccharide(df_pdb, [101.9, 71.1, 82.3, 73.4, 75.2, 61.1], \n",
    "                                              [102.5, 71.3, 81.3, 75.0, 75.9, 61.4], 'b-D-Manp', 53)\n",
    "        #10\n",
    "        df_pdb = replace_values_monosaccharide(df_pdb, [101.8, 69.8, 70.5, 70.7, 72.7, 62.2], \n",
    "                                              [101.8, 69.7, 70.4, 70.7, 72.4, 62.4], 'a-D-Galp', 74)\n",
    "        #11\n",
    "        df_pdb = replace_values_monosaccharide(df_pdb, [103.6, 79.0, 72.6, 71.4, 76.0, 65.3], \n",
    "                                              [103.1, 79.5, 73.5, 70.3, 75.5, 65.5], 'b-D-Galp', 57)\n",
    "        #12\n",
    "        df_pdb = replace_values_monosaccharide(df_pdb, [102.5, 82.8, 78.4, 70.1, 75.6, 175.0], \n",
    "                                              [102.6, 82.3, 76.7, 72.1, 75.9, 174.5], 'b-D-GlcpA', 64)\n",
    "        #13\n",
    "        df_pdb = replace_values_monosaccharide(df_pdb, [101.1, 75.1, 76.9, 73.4, 77.6, 176.3], \n",
    "                                      [103.6, 73.5, 76.5, 72.5, 75.9, 174.6], 'b-D-GlcpA', 57)\n",
    "        \n",
    "    \n",
    "    # remove hydrogen outlier \n",
    "    \n",
    "    if pdb_name == 'labeled_all_847.pdb.csv':\n",
    "        df_pdb = replace_values(df_pdb, 104, 'H3', 0.89, -1)\n",
    "#         df_pdb_w = df_pdb\n",
    "    \n",
    "    \n",
    "    ################################\n",
    "    ### 2, Check abnormal shifts ###\n",
    "    ################################\n",
    "    \n",
    "    \n",
    "    idx = np.where(df_pdb['shift'] > 150)[0]\n",
    "    \n",
    "    if len(idx) > 0:\n",
    "        \n",
    "        idx_list.extend(list(idx))\n",
    "        \n",
    "        atom_name_list.extend(list(df_pdb.loc[idx, :]['Atom_name'].values))\n",
    "        \n",
    "        mono_name_list.extend(list(df_pdb.loc[idx, :]['Residual_accurate_name'].values))\n",
    "        \n",
    "        shift_list.extend(list(df_pdb.loc[idx, :]['shift'].values))\n",
    "        \n",
    "        pdb_name_list.extend(list(np.repeat(pdb_name, len(idx))))\n",
    "        pass\n",
    "    \n",
    "    \n",
    "    ###############################################\n",
    "    ### 3, create new feature for root, Me, Ser ###\n",
    "    ###############################################\n",
    "    \n",
    "    df_pdb['Lineage'] = df_pdb['Lineage'].fillna('')\n",
    "    df_pdb = check_and_reformulate_lineage(df_pdb)\n",
    "    \n",
    "    idx = np.where(df_pdb['Lineage'].values == '')[0][0]\n",
    "    \n",
    "    root_list.append(df_pdb.loc[idx, :]['Lineage'])\n",
    "    initial_list.append(df_pdb.loc[idx, :]['Residual_accurate_name'])\n",
    "    \n",
    "#     df_pdb = create_root_effect_feature(df_pdb, root_residue = 'Me')\n",
    "    \n",
    "    df_pdb = create_atom_distance_feature_Me(df_pdb, pdb_name, threshold = 4)\n",
    "#     df_pdb = create_atom_distance_feature_root(connection_dir, pdb_name, df_pdb, root = 'Me', threshold = 4)\n",
    "    \n",
    "#     df_pdb = create_root_effect_feature(df_pdb, root_residue = 'Ser')\n",
    "    \n",
    "    df_pdb = create_atom_distance_feature_root(connection_dir, pdb_name, df_pdb, root = 'Ser', threshold = 4)\n",
    "\n",
    "#     if 'Me' in df_pdb['Residual_accurate_name'].values:\n",
    "#         df_pdb_w = df_pdb\n",
    "#         print(pdb_name)\n",
    "#         me_lineage_list.extend(list(df_pdb.loc[df_pdb['Residual_accurate_name'] == 'Me', :]['Lineage'].values))\n",
    "        \n",
    "#     if 'Asn' in df_pdb['Residual_accurate_name'].values:\n",
    "#         print(pdb_name)\n",
    "#         asn_lineage_list.extend(list(df_pdb.loc[df_pdb['Residual_accurate_name'] == 'Asn', :]['Lineage'].values))\n",
    "        \n",
    "#     if 'Ser' in df_pdb['Residual_accurate_name'].values:\n",
    "#         print(pdb_name)\n",
    "#         df_pdb_w = df_pdb\n",
    "#         ser_lineage_list.extend(list(df_pdb.loc[df_pdb['Residual_accurate_name'] == 'Ser', :]['Lineage'].values))\n",
    "\n",
    "    \n",
    "    \n",
    "    ###############################################\n",
    "    ### 4, create new feature for Ac, Gc, S #######\n",
    "    ###############################################\n",
    "    \n",
    "#     if 'S' in df_pdb['Residual_accurate_name'].values:\n",
    "#         print(pdb_name, i)\n",
    "#         df_pdb_w = df_pdb\n",
    "#         s_list.extend(list(df_pdb.loc[df_pdb['Residual_accurate_name'] == 'S', :]['Lineage'].values))\n",
    "\n",
    "#     if 'Ac' in df_pdb['Residual_accurate_name'].values:\n",
    "#     if 'ACY' in df_pdb['Residual_name'].values:\n",
    "#         print(pdb_name, i)\n",
    "#         df_pdb_w = df_pdb\n",
    "#         ac_list.extend(list(df_pdb.loc[df_pdb['Residual_accurate_name'] == 'S', :]['Lineage'].values))\n",
    "    \n",
    "#     if 'Gc' in df_pdb['Residual_accurate_name'].values:\n",
    "#         print(pdb_name, i)\n",
    "#         df_pdb_w = df_pdb\n",
    "#         ac_list.extend(list(df_pdb.loc[df_pdb['Residual_accurate_name'] == 'S', :]['Lineage'].values))\n",
    "    \n",
    "    \n",
    "    # read in label file\n",
    "    df_label_name = pdb_name.split('labeled_all_')[1].split('.pdb')[0] + '.csv'\n",
    "    \n",
    "    df_label_path = os.path.join(label_dir, df_label_name)\n",
    "    \n",
    "    df_label = pd.read_csv(df_label_path)\n",
    "    \n",
    "    df_label['Linkage'] = df_label['Linkage'].fillna('')\n",
    "    \n",
    "    # create feature\n",
    "    df_pdb = identify_AC_components(df_pdb, pdb_name, df_label, connection_dir, i)\n",
    "    \n",
    "    df_pdb = create_atom_distance_feature_Ac(df_pdb, pdb_name, threshold = 5)\n",
    "    \n",
    "    df_pdb = create_atom_distance_feature_S(df_pdb, pdb_name, df_label, threshold = 5)\n",
    "    \n",
    "    df_pdb = create_atom_distance_feature_Gc(df_pdb, pdb_name, threshold = 5)\n",
    "    \n",
    "#     if np.sum('Ac' == df_label['Residue'].values) >= 2:\n",
    "#         print(i)\n",
    "    \n",
    "#     df_pdb = create_residue_effect_feature(df_pdb, df_label, target_residue = 'S')\n",
    "    \n",
    "#     df_pdb = create_residue_effect_feature(df_pdb, df_label, target_residue = 'Ac')\n",
    "    \n",
    "#     df_pdb = create_residue_effect_feature(df_pdb, df_label, target_residue = 'Gc')\n",
    "    \n",
    "    \n",
    "    ###################################################\n",
    "    ### 5, Reformulate Ac monosaccharides: Neup #######\n",
    "    ###################################################\n",
    "    \n",
    "    # generate few pdb, label files for testing\n",
    "    for idx in range(len(df_pdb)):\n",
    "        if df_pdb.loc[idx, 'Atom_name'] == 'C11':\n",
    "            c11_list = list(df_pdb.loc[idx:(idx + 5), 'Atom_name'])\n",
    "#             print(list(df_pdb.loc[idx:(idx + 5), 'Atom_name']))\n",
    "            all_ac_list.append(c11_list)\n",
    "            \n",
    "            if c11_list == ['C11', 'O12', 'H2', 'H21', 'H22', 'C2']:\n",
    "                df_pdb_1 = df_pdb\n",
    "                df_pdb_name_1 = pdb_name\n",
    "                df_label_1 = df_label\n",
    "                \n",
    "            if c11_list == ['C11', 'C21', 'O1', 'C1', 'O3', 'C3']:\n",
    "                df_pdb_2 = df_pdb\n",
    "                df_pdb_name_2 = pdb_name\n",
    "                df_label_2 = df_label\n",
    "                \n",
    "            if c11_list == ['C11', 'C21', 'O1', 'C1', 'O3', 'C3']:\n",
    "                df_pdb_3 = df_pdb\n",
    "                df_pdb_name_3 = pdb_name\n",
    "                df_label_3 = df_label\n",
    "    \n",
    "    if 'ACY' in df_pdb['Residual_name'].values:\n",
    "        df_pdb_4 = df_pdb\n",
    "        df_pdb_name_4 = pdb_name\n",
    "        df_label_4 = df_label\n",
    "#     df_pdb = reformulate_ac_monosaccarides(df_pdb, df_label, pdb_name, i)\n",
    "    \n",
    "    # generate S test case, so many glycans contain Sulfur components\n",
    "    # Gc information is contained and only contained in the PDB\n",
    "    # verify: A Sulfur contain 5 atoms, if all S labeled in 'Residual_accurate_name', \n",
    "    # then the correspondoing number of atoms divided by 5 should match with the number of s components in label file\n",
    "    if 'S' in df_label['Residue'].values:\n",
    "        \n",
    "        num_S = len(np.where(df_label['Residue'].values == 'S')[0])\n",
    "        \n",
    "        df_S = df_pdb.loc[df_pdb['Residual_accurate_name'] == 'S']\n",
    "        \n",
    "        assert((len(df_S) / 5) == num_S)\n",
    "        \n",
    "#         print(num_S, i, pdb_name)\n",
    "        \n",
    "        df_pdb_5 = df_pdb\n",
    "        df_pdb_name_5 = pdb_name\n",
    "        df_label_5 = df_label\n",
    "    \n",
    "    # generate Gc test case, only 8 glycans contain Gc components, this is a rare components\n",
    "    # Gc information is contained and only contained in the PDB\n",
    "    # similar verification process as Sulfur\n",
    "    if 'Gc' in df_label['Residue'].values:\n",
    "        \n",
    "        num_Gc = len(np.where(df_label['Residue'].values == 'Gc')[0])\n",
    "#         print(num_Gc, i, pdb_name)\n",
    "        \n",
    "        df_Gc = df_pdb.loc[df_pdb['Residual_accurate_name'] == 'Gc']\n",
    "        \n",
    "        assert((len(df_Gc) / 7) == num_Gc)\n",
    "        \n",
    "        df_pdb_6 = df_pdb\n",
    "        df_pdb_name_6 = pdb_name\n",
    "        df_label_6 = df_label\n",
    "        \n",
    "    ###################################################\n",
    "    ### 6, Create Neup features #######################\n",
    "    ###################################################\n",
    "    \n",
    "    df_pdb = create_neup_feature(df_pdb)\n",
    "    \n",
    "    df_pdb = reformulate_atom_name_kdop(df_pdb, kdo_list = ['Kdo-ol', 'a-Kdop', 'b-Kdop'])\n",
    "    ############################################\n",
    "    ### 7, Reformulate Atom name by AC #########\n",
    "    ############################################\n",
    "    \n",
    "    df_pdb = reformuate_atom_name_Ac(df_pdb)\n",
    "    \n",
    "    df_pdb = create_main_ring_shift(df_pdb)\n",
    "    \n",
    "    ##############################\n",
    "    ### 8, Write out pdb #########\n",
    "    ##############################\n",
    "    \n",
    "    df_pdb.to_csv(out_pdb_path, index = False)"
   ]
  },
  {
   "cell_type": "code",
   "execution_count": 25,
   "id": "26ee664d",
   "metadata": {},
   "outputs": [
    {
     "data": {
      "text/html": [
       "<div>\n",
       "<style scoped>\n",
       "    .dataframe tbody tr th:only-of-type {\n",
       "        vertical-align: middle;\n",
       "    }\n",
       "\n",
       "    .dataframe tbody tr th {\n",
       "        vertical-align: top;\n",
       "    }\n",
       "\n",
       "    .dataframe thead th {\n",
       "        text-align: right;\n",
       "    }\n",
       "</style>\n",
       "<table border=\"1\" class=\"dataframe\">\n",
       "  <thead>\n",
       "    <tr style=\"text-align: right;\">\n",
       "      <th></th>\n",
       "      <th>HETATM</th>\n",
       "      <th>Atom_num</th>\n",
       "      <th>Atom_name</th>\n",
       "      <th>Residual_name</th>\n",
       "      <th>Bound</th>\n",
       "      <th>Residual_num</th>\n",
       "      <th>x</th>\n",
       "      <th>y</th>\n",
       "      <th>z</th>\n",
       "      <th>Atom_type</th>\n",
       "      <th>Residual_accurate_name</th>\n",
       "      <th>Lineage</th>\n",
       "      <th>shift</th>\n",
       "      <th>trust</th>\n",
       "      <th>Ac_component</th>\n",
       "      <th>Trust</th>\n",
       "      <th>bound_AB</th>\n",
       "      <th>fischer_projection_DL</th>\n",
       "      <th>origin_mono</th>\n",
       "      <th>reformulated_standard_mono</th>\n",
       "      <th>carbon_number_PF</th>\n",
       "      <th>Me_min_atom_distance</th>\n",
       "      <th>Me_min_atom_distance_threshold</th>\n",
       "      <th>Me_min_atom_path</th>\n",
       "      <th>Ser_atom_distance</th>\n",
       "      <th>Ser_atom_distance_threshold</th>\n",
       "      <th>Ser_atom_path</th>\n",
       "      <th>Ac_min_atom_distance</th>\n",
       "      <th>Ac_min_atom_distance_threshold</th>\n",
       "      <th>Ac_min_atom_path</th>\n",
       "      <th>S_min_atom_distance</th>\n",
       "      <th>S_min_atom_distance_threshold</th>\n",
       "      <th>S_min_atom_path</th>\n",
       "      <th>Gc_min_atom_distance</th>\n",
       "      <th>Gc_min_atom_distance_threshold</th>\n",
       "      <th>Gc_min_atom_path</th>\n",
       "      <th>New_Atom_name</th>\n",
       "      <th>main_ring_shift</th>\n",
       "    </tr>\n",
       "  </thead>\n",
       "  <tbody>\n",
       "    <tr>\n",
       "      <th>109</th>\n",
       "      <td>HETATM</td>\n",
       "      <td>110</td>\n",
       "      <td>C11</td>\n",
       "      <td>NAG</td>\n",
       "      <td>A</td>\n",
       "      <td>7</td>\n",
       "      <td>-6.462</td>\n",
       "      <td>8.748</td>\n",
       "      <td>-5.451</td>\n",
       "      <td>C</td>\n",
       "      <td>a-D-GlcpN</td>\n",
       "      <td>1,4,4,3,4</td>\n",
       "      <td>-1.0</td>\n",
       "      <td>-1</td>\n",
       "      <td>1</td>\n",
       "      <td>83.0</td>\n",
       "      <td>a</td>\n",
       "      <td>d</td>\n",
       "      <td>glcpn</td>\n",
       "      <td>glcn</td>\n",
       "      <td>P</td>\n",
       "      <td>24</td>\n",
       "      <td>2</td>\n",
       "      <td>[C1, O1, C1, C2, C3, C4, O4, C1, C2, C3, C4, O...</td>\n",
       "      <td>999</td>\n",
       "      <td>2</td>\n",
       "      <td>[No Ser included]</td>\n",
       "      <td>0</td>\n",
       "      <td>0</td>\n",
       "      <td>[C11]</td>\n",
       "      <td>8</td>\n",
       "      <td>2</td>\n",
       "      <td>[S1, O6, C6, C5, O5, C1, C2, N2, C11]</td>\n",
       "      <td>999</td>\n",
       "      <td>2</td>\n",
       "      <td>[No _Gc_ included]</td>\n",
       "      <td>C11_Ac</td>\n",
       "      <td>-1.0</td>\n",
       "    </tr>\n",
       "    <tr>\n",
       "      <th>110</th>\n",
       "      <td>HETATM</td>\n",
       "      <td>111</td>\n",
       "      <td>C21</td>\n",
       "      <td>NAG</td>\n",
       "      <td>A</td>\n",
       "      <td>7</td>\n",
       "      <td>-5.040</td>\n",
       "      <td>8.298</td>\n",
       "      <td>-5.642</td>\n",
       "      <td>C</td>\n",
       "      <td>a-D-GlcpN</td>\n",
       "      <td>1,4,4,3,4</td>\n",
       "      <td>-1.0</td>\n",
       "      <td>-1</td>\n",
       "      <td>1</td>\n",
       "      <td>NaN</td>\n",
       "      <td>a</td>\n",
       "      <td>d</td>\n",
       "      <td>glcpn</td>\n",
       "      <td>glcn</td>\n",
       "      <td>P</td>\n",
       "      <td>25</td>\n",
       "      <td>2</td>\n",
       "      <td>[C1, O1, C1, C2, C3, C4, O4, C1, C2, C3, C4, O...</td>\n",
       "      <td>999</td>\n",
       "      <td>2</td>\n",
       "      <td>[No Ser included]</td>\n",
       "      <td>0</td>\n",
       "      <td>0</td>\n",
       "      <td>[C11, C21]</td>\n",
       "      <td>9</td>\n",
       "      <td>2</td>\n",
       "      <td>[S1, O6, C6, C5, O5, C1, C2, N2, C11, C21]</td>\n",
       "      <td>999</td>\n",
       "      <td>2</td>\n",
       "      <td>[No _Gc_ included]</td>\n",
       "      <td>C21_Ac</td>\n",
       "      <td>-1.0</td>\n",
       "    </tr>\n",
       "    <tr>\n",
       "      <th>111</th>\n",
       "      <td>HETATM</td>\n",
       "      <td>112</td>\n",
       "      <td>O1</td>\n",
       "      <td>NAG</td>\n",
       "      <td>A</td>\n",
       "      <td>7</td>\n",
       "      <td>-6.872</td>\n",
       "      <td>9.834</td>\n",
       "      <td>-5.851</td>\n",
       "      <td>O</td>\n",
       "      <td>a-D-GlcpN</td>\n",
       "      <td>1,4,4,3,4</td>\n",
       "      <td>-1.0</td>\n",
       "      <td>-1</td>\n",
       "      <td>1</td>\n",
       "      <td>NaN</td>\n",
       "      <td>a</td>\n",
       "      <td>d</td>\n",
       "      <td>glcpn</td>\n",
       "      <td>glcn</td>\n",
       "      <td>P</td>\n",
       "      <td>25</td>\n",
       "      <td>2</td>\n",
       "      <td>[C1, O1, C1, C2, C3, C4, O4, C1, C2, C3, C4, O...</td>\n",
       "      <td>999</td>\n",
       "      <td>2</td>\n",
       "      <td>[No Ser included]</td>\n",
       "      <td>0</td>\n",
       "      <td>0</td>\n",
       "      <td>[C11, O1]</td>\n",
       "      <td>9</td>\n",
       "      <td>2</td>\n",
       "      <td>[S1, O6, C6, C5, O5, C1, C2, N2, C11, O1]</td>\n",
       "      <td>999</td>\n",
       "      <td>2</td>\n",
       "      <td>[No _Gc_ included]</td>\n",
       "      <td>O1_Ac</td>\n",
       "      <td>-1.0</td>\n",
       "    </tr>\n",
       "    <tr>\n",
       "      <th>112</th>\n",
       "      <td>HETATM</td>\n",
       "      <td>113</td>\n",
       "      <td>H21</td>\n",
       "      <td>NAG</td>\n",
       "      <td>A</td>\n",
       "      <td>7</td>\n",
       "      <td>-4.881</td>\n",
       "      <td>7.289</td>\n",
       "      <td>-5.254</td>\n",
       "      <td>H</td>\n",
       "      <td>a-D-GlcpN</td>\n",
       "      <td>1,4,4,3,4</td>\n",
       "      <td>-1.0</td>\n",
       "      <td>-1</td>\n",
       "      <td>1</td>\n",
       "      <td>98.0</td>\n",
       "      <td>a</td>\n",
       "      <td>d</td>\n",
       "      <td>glcpn</td>\n",
       "      <td>glcn</td>\n",
       "      <td>P</td>\n",
       "      <td>26</td>\n",
       "      <td>2</td>\n",
       "      <td>[C1, O1, C1, C2, C3, C4, O4, C1, C2, C3, C4, O...</td>\n",
       "      <td>999</td>\n",
       "      <td>2</td>\n",
       "      <td>[No Ser included]</td>\n",
       "      <td>0</td>\n",
       "      <td>0</td>\n",
       "      <td>[C11, C21, H21]</td>\n",
       "      <td>10</td>\n",
       "      <td>2</td>\n",
       "      <td>[S1, O6, C6, C5, O5, C1, C2, N2, C11, C21, H21]</td>\n",
       "      <td>999</td>\n",
       "      <td>2</td>\n",
       "      <td>[No _Gc_ included]</td>\n",
       "      <td>H21_Ac</td>\n",
       "      <td>-1.0</td>\n",
       "    </tr>\n",
       "    <tr>\n",
       "      <th>113</th>\n",
       "      <td>HETATM</td>\n",
       "      <td>114</td>\n",
       "      <td>H22</td>\n",
       "      <td>NAG</td>\n",
       "      <td>A</td>\n",
       "      <td>7</td>\n",
       "      <td>-4.811</td>\n",
       "      <td>8.304</td>\n",
       "      <td>-6.711</td>\n",
       "      <td>H</td>\n",
       "      <td>a-D-GlcpN</td>\n",
       "      <td>1,4,4,3,4</td>\n",
       "      <td>-1.0</td>\n",
       "      <td>-1</td>\n",
       "      <td>1</td>\n",
       "      <td>NaN</td>\n",
       "      <td>a</td>\n",
       "      <td>d</td>\n",
       "      <td>glcpn</td>\n",
       "      <td>glcn</td>\n",
       "      <td>P</td>\n",
       "      <td>26</td>\n",
       "      <td>2</td>\n",
       "      <td>[C1, O1, C1, C2, C3, C4, O4, C1, C2, C3, C4, O...</td>\n",
       "      <td>999</td>\n",
       "      <td>2</td>\n",
       "      <td>[No Ser included]</td>\n",
       "      <td>0</td>\n",
       "      <td>0</td>\n",
       "      <td>[C11, C21, H22]</td>\n",
       "      <td>10</td>\n",
       "      <td>2</td>\n",
       "      <td>[S1, O6, C6, C5, O5, C1, C2, N2, C11, C21, H22]</td>\n",
       "      <td>999</td>\n",
       "      <td>2</td>\n",
       "      <td>[No _Gc_ included]</td>\n",
       "      <td>H22_Ac</td>\n",
       "      <td>-1.0</td>\n",
       "    </tr>\n",
       "    <tr>\n",
       "      <th>114</th>\n",
       "      <td>HETATM</td>\n",
       "      <td>115</td>\n",
       "      <td>H23</td>\n",
       "      <td>NAG</td>\n",
       "      <td>A</td>\n",
       "      <td>7</td>\n",
       "      <td>-4.373</td>\n",
       "      <td>8.986</td>\n",
       "      <td>-5.116</td>\n",
       "      <td>H</td>\n",
       "      <td>a-D-GlcpN</td>\n",
       "      <td>1,4,4,3,4</td>\n",
       "      <td>-1.0</td>\n",
       "      <td>-1</td>\n",
       "      <td>1</td>\n",
       "      <td>NaN</td>\n",
       "      <td>a</td>\n",
       "      <td>d</td>\n",
       "      <td>glcpn</td>\n",
       "      <td>glcn</td>\n",
       "      <td>P</td>\n",
       "      <td>26</td>\n",
       "      <td>2</td>\n",
       "      <td>[C1, O1, C1, C2, C3, C4, O4, C1, C2, C3, C4, O...</td>\n",
       "      <td>999</td>\n",
       "      <td>2</td>\n",
       "      <td>[No Ser included]</td>\n",
       "      <td>0</td>\n",
       "      <td>0</td>\n",
       "      <td>[C11, C21, H23]</td>\n",
       "      <td>10</td>\n",
       "      <td>2</td>\n",
       "      <td>[S1, O6, C6, C5, O5, C1, C2, N2, C11, C21, H23]</td>\n",
       "      <td>999</td>\n",
       "      <td>2</td>\n",
       "      <td>[No _Gc_ included]</td>\n",
       "      <td>H23_Ac</td>\n",
       "      <td>-1.0</td>\n",
       "    </tr>\n",
       "    <tr>\n",
       "      <th>165</th>\n",
       "      <td>HETATM</td>\n",
       "      <td>166</td>\n",
       "      <td>C11</td>\n",
       "      <td>NAG</td>\n",
       "      <td>A</td>\n",
       "      <td>11</td>\n",
       "      <td>-7.233</td>\n",
       "      <td>8.537</td>\n",
       "      <td>1.706</td>\n",
       "      <td>C</td>\n",
       "      <td>a-D-GlcpN</td>\n",
       "      <td>1,4,4,3,4,4,2</td>\n",
       "      <td>-1.0</td>\n",
       "      <td>-1</td>\n",
       "      <td>1</td>\n",
       "      <td>83.0</td>\n",
       "      <td>a</td>\n",
       "      <td>d</td>\n",
       "      <td>glcpn</td>\n",
       "      <td>glcn</td>\n",
       "      <td>P</td>\n",
       "      <td>32</td>\n",
       "      <td>2</td>\n",
       "      <td>[C1, O1, C1, C2, C3, C4, O4, C1, C2, C3, C4, O...</td>\n",
       "      <td>999</td>\n",
       "      <td>2</td>\n",
       "      <td>[No Ser included]</td>\n",
       "      <td>0</td>\n",
       "      <td>0</td>\n",
       "      <td>[C11]</td>\n",
       "      <td>8</td>\n",
       "      <td>2</td>\n",
       "      <td>[S1, O6, C6, C5, O5, C1, C2, N2, C11]</td>\n",
       "      <td>999</td>\n",
       "      <td>2</td>\n",
       "      <td>[No _Gc_ included]</td>\n",
       "      <td>C11_Ac</td>\n",
       "      <td>-1.0</td>\n",
       "    </tr>\n",
       "    <tr>\n",
       "      <th>166</th>\n",
       "      <td>HETATM</td>\n",
       "      <td>167</td>\n",
       "      <td>C21</td>\n",
       "      <td>NAG</td>\n",
       "      <td>A</td>\n",
       "      <td>11</td>\n",
       "      <td>-5.983</td>\n",
       "      <td>8.932</td>\n",
       "      <td>2.443</td>\n",
       "      <td>C</td>\n",
       "      <td>a-D-GlcpN</td>\n",
       "      <td>1,4,4,3,4,4,2</td>\n",
       "      <td>-1.0</td>\n",
       "      <td>-1</td>\n",
       "      <td>1</td>\n",
       "      <td>NaN</td>\n",
       "      <td>a</td>\n",
       "      <td>d</td>\n",
       "      <td>glcpn</td>\n",
       "      <td>glcn</td>\n",
       "      <td>P</td>\n",
       "      <td>33</td>\n",
       "      <td>2</td>\n",
       "      <td>[C1, O1, C1, C2, C3, C4, O4, C1, C2, C3, C4, O...</td>\n",
       "      <td>999</td>\n",
       "      <td>2</td>\n",
       "      <td>[No Ser included]</td>\n",
       "      <td>0</td>\n",
       "      <td>0</td>\n",
       "      <td>[C11, C21]</td>\n",
       "      <td>9</td>\n",
       "      <td>2</td>\n",
       "      <td>[S1, O6, C6, C5, O5, C1, C2, N2, C11, C21]</td>\n",
       "      <td>999</td>\n",
       "      <td>2</td>\n",
       "      <td>[No _Gc_ included]</td>\n",
       "      <td>C21_Ac</td>\n",
       "      <td>-1.0</td>\n",
       "    </tr>\n",
       "    <tr>\n",
       "      <th>167</th>\n",
       "      <td>HETATM</td>\n",
       "      <td>168</td>\n",
       "      <td>O1</td>\n",
       "      <td>NAG</td>\n",
       "      <td>A</td>\n",
       "      <td>11</td>\n",
       "      <td>-7.358</td>\n",
       "      <td>7.442</td>\n",
       "      <td>1.161</td>\n",
       "      <td>O</td>\n",
       "      <td>a-D-GlcpN</td>\n",
       "      <td>1,4,4,3,4,4,2</td>\n",
       "      <td>-1.0</td>\n",
       "      <td>-1</td>\n",
       "      <td>1</td>\n",
       "      <td>NaN</td>\n",
       "      <td>a</td>\n",
       "      <td>d</td>\n",
       "      <td>glcpn</td>\n",
       "      <td>glcn</td>\n",
       "      <td>P</td>\n",
       "      <td>33</td>\n",
       "      <td>2</td>\n",
       "      <td>[C1, O1, C1, C2, C3, C4, O4, C1, C2, C3, C4, O...</td>\n",
       "      <td>999</td>\n",
       "      <td>2</td>\n",
       "      <td>[No Ser included]</td>\n",
       "      <td>0</td>\n",
       "      <td>0</td>\n",
       "      <td>[C11, O1]</td>\n",
       "      <td>9</td>\n",
       "      <td>2</td>\n",
       "      <td>[S1, O6, C6, C5, O5, C1, C2, N2, C11, O1]</td>\n",
       "      <td>999</td>\n",
       "      <td>2</td>\n",
       "      <td>[No _Gc_ included]</td>\n",
       "      <td>O1_Ac</td>\n",
       "      <td>-1.0</td>\n",
       "    </tr>\n",
       "    <tr>\n",
       "      <th>168</th>\n",
       "      <td>HETATM</td>\n",
       "      <td>169</td>\n",
       "      <td>H21</td>\n",
       "      <td>NAG</td>\n",
       "      <td>A</td>\n",
       "      <td>11</td>\n",
       "      <td>-5.516</td>\n",
       "      <td>9.792</td>\n",
       "      <td>1.955</td>\n",
       "      <td>H</td>\n",
       "      <td>a-D-GlcpN</td>\n",
       "      <td>1,4,4,3,4,4,2</td>\n",
       "      <td>-1.0</td>\n",
       "      <td>-1</td>\n",
       "      <td>1</td>\n",
       "      <td>98.0</td>\n",
       "      <td>a</td>\n",
       "      <td>d</td>\n",
       "      <td>glcpn</td>\n",
       "      <td>glcn</td>\n",
       "      <td>P</td>\n",
       "      <td>34</td>\n",
       "      <td>2</td>\n",
       "      <td>[C1, O1, C1, C2, C3, C4, O4, C1, C2, C3, C4, O...</td>\n",
       "      <td>999</td>\n",
       "      <td>2</td>\n",
       "      <td>[No Ser included]</td>\n",
       "      <td>0</td>\n",
       "      <td>0</td>\n",
       "      <td>[C11, C21, H21]</td>\n",
       "      <td>10</td>\n",
       "      <td>2</td>\n",
       "      <td>[S1, O6, C6, C5, O5, C1, C2, N2, C11, C21, H21]</td>\n",
       "      <td>999</td>\n",
       "      <td>2</td>\n",
       "      <td>[No _Gc_ included]</td>\n",
       "      <td>H21_Ac</td>\n",
       "      <td>-1.0</td>\n",
       "    </tr>\n",
       "    <tr>\n",
       "      <th>169</th>\n",
       "      <td>HETATM</td>\n",
       "      <td>170</td>\n",
       "      <td>H22</td>\n",
       "      <td>NAG</td>\n",
       "      <td>A</td>\n",
       "      <td>11</td>\n",
       "      <td>-6.205</td>\n",
       "      <td>9.166</td>\n",
       "      <td>3.485</td>\n",
       "      <td>H</td>\n",
       "      <td>a-D-GlcpN</td>\n",
       "      <td>1,4,4,3,4,4,2</td>\n",
       "      <td>-1.0</td>\n",
       "      <td>-1</td>\n",
       "      <td>1</td>\n",
       "      <td>NaN</td>\n",
       "      <td>a</td>\n",
       "      <td>d</td>\n",
       "      <td>glcpn</td>\n",
       "      <td>glcn</td>\n",
       "      <td>P</td>\n",
       "      <td>34</td>\n",
       "      <td>2</td>\n",
       "      <td>[C1, O1, C1, C2, C3, C4, O4, C1, C2, C3, C4, O...</td>\n",
       "      <td>999</td>\n",
       "      <td>2</td>\n",
       "      <td>[No Ser included]</td>\n",
       "      <td>0</td>\n",
       "      <td>0</td>\n",
       "      <td>[C11, C21, H22]</td>\n",
       "      <td>10</td>\n",
       "      <td>2</td>\n",
       "      <td>[S1, O6, C6, C5, O5, C1, C2, N2, C11, C21, H22]</td>\n",
       "      <td>999</td>\n",
       "      <td>2</td>\n",
       "      <td>[No _Gc_ included]</td>\n",
       "      <td>H22_Ac</td>\n",
       "      <td>-1.0</td>\n",
       "    </tr>\n",
       "    <tr>\n",
       "      <th>170</th>\n",
       "      <td>HETATM</td>\n",
       "      <td>171</td>\n",
       "      <td>H23</td>\n",
       "      <td>NAG</td>\n",
       "      <td>A</td>\n",
       "      <td>11</td>\n",
       "      <td>-5.274</td>\n",
       "      <td>8.100</td>\n",
       "      <td>2.424</td>\n",
       "      <td>H</td>\n",
       "      <td>a-D-GlcpN</td>\n",
       "      <td>1,4,4,3,4,4,2</td>\n",
       "      <td>-1.0</td>\n",
       "      <td>-1</td>\n",
       "      <td>1</td>\n",
       "      <td>NaN</td>\n",
       "      <td>a</td>\n",
       "      <td>d</td>\n",
       "      <td>glcpn</td>\n",
       "      <td>glcn</td>\n",
       "      <td>P</td>\n",
       "      <td>34</td>\n",
       "      <td>2</td>\n",
       "      <td>[C1, O1, C1, C2, C3, C4, O4, C1, C2, C3, C4, O...</td>\n",
       "      <td>999</td>\n",
       "      <td>2</td>\n",
       "      <td>[No Ser included]</td>\n",
       "      <td>0</td>\n",
       "      <td>0</td>\n",
       "      <td>[C11, C21, H23]</td>\n",
       "      <td>10</td>\n",
       "      <td>2</td>\n",
       "      <td>[S1, O6, C6, C5, O5, C1, C2, N2, C11, C21, H23]</td>\n",
       "      <td>999</td>\n",
       "      <td>2</td>\n",
       "      <td>[No _Gc_ included]</td>\n",
       "      <td>H23_Ac</td>\n",
       "      <td>-1.0</td>\n",
       "    </tr>\n",
       "  </tbody>\n",
       "</table>\n",
       "</div>"
      ],
      "text/plain": [
       "     HETATM  Atom_num Atom_name Residual_name Bound  Residual_num      x  \\\n",
       "109  HETATM       110       C11           NAG     A             7 -6.462   \n",
       "110  HETATM       111       C21           NAG     A             7 -5.040   \n",
       "111  HETATM       112        O1           NAG     A             7 -6.872   \n",
       "112  HETATM       113       H21           NAG     A             7 -4.881   \n",
       "113  HETATM       114       H22           NAG     A             7 -4.811   \n",
       "114  HETATM       115       H23           NAG     A             7 -4.373   \n",
       "165  HETATM       166       C11           NAG     A            11 -7.233   \n",
       "166  HETATM       167       C21           NAG     A            11 -5.983   \n",
       "167  HETATM       168        O1           NAG     A            11 -7.358   \n",
       "168  HETATM       169       H21           NAG     A            11 -5.516   \n",
       "169  HETATM       170       H22           NAG     A            11 -6.205   \n",
       "170  HETATM       171       H23           NAG     A            11 -5.274   \n",
       "\n",
       "         y      z Atom_type Residual_accurate_name        Lineage  shift  \\\n",
       "109  8.748 -5.451         C              a-D-GlcpN      1,4,4,3,4   -1.0   \n",
       "110  8.298 -5.642         C              a-D-GlcpN      1,4,4,3,4   -1.0   \n",
       "111  9.834 -5.851         O              a-D-GlcpN      1,4,4,3,4   -1.0   \n",
       "112  7.289 -5.254         H              a-D-GlcpN      1,4,4,3,4   -1.0   \n",
       "113  8.304 -6.711         H              a-D-GlcpN      1,4,4,3,4   -1.0   \n",
       "114  8.986 -5.116         H              a-D-GlcpN      1,4,4,3,4   -1.0   \n",
       "165  8.537  1.706         C              a-D-GlcpN  1,4,4,3,4,4,2   -1.0   \n",
       "166  8.932  2.443         C              a-D-GlcpN  1,4,4,3,4,4,2   -1.0   \n",
       "167  7.442  1.161         O              a-D-GlcpN  1,4,4,3,4,4,2   -1.0   \n",
       "168  9.792  1.955         H              a-D-GlcpN  1,4,4,3,4,4,2   -1.0   \n",
       "169  9.166  3.485         H              a-D-GlcpN  1,4,4,3,4,4,2   -1.0   \n",
       "170  8.100  2.424         H              a-D-GlcpN  1,4,4,3,4,4,2   -1.0   \n",
       "\n",
       "     trust  Ac_component  Trust bound_AB fischer_projection_DL origin_mono  \\\n",
       "109     -1             1   83.0        a                     d       glcpn   \n",
       "110     -1             1    NaN        a                     d       glcpn   \n",
       "111     -1             1    NaN        a                     d       glcpn   \n",
       "112     -1             1   98.0        a                     d       glcpn   \n",
       "113     -1             1    NaN        a                     d       glcpn   \n",
       "114     -1             1    NaN        a                     d       glcpn   \n",
       "165     -1             1   83.0        a                     d       glcpn   \n",
       "166     -1             1    NaN        a                     d       glcpn   \n",
       "167     -1             1    NaN        a                     d       glcpn   \n",
       "168     -1             1   98.0        a                     d       glcpn   \n",
       "169     -1             1    NaN        a                     d       glcpn   \n",
       "170     -1             1    NaN        a                     d       glcpn   \n",
       "\n",
       "    reformulated_standard_mono carbon_number_PF  Me_min_atom_distance  \\\n",
       "109                       glcn                P                    24   \n",
       "110                       glcn                P                    25   \n",
       "111                       glcn                P                    25   \n",
       "112                       glcn                P                    26   \n",
       "113                       glcn                P                    26   \n",
       "114                       glcn                P                    26   \n",
       "165                       glcn                P                    32   \n",
       "166                       glcn                P                    33   \n",
       "167                       glcn                P                    33   \n",
       "168                       glcn                P                    34   \n",
       "169                       glcn                P                    34   \n",
       "170                       glcn                P                    34   \n",
       "\n",
       "     Me_min_atom_distance_threshold  \\\n",
       "109                               2   \n",
       "110                               2   \n",
       "111                               2   \n",
       "112                               2   \n",
       "113                               2   \n",
       "114                               2   \n",
       "165                               2   \n",
       "166                               2   \n",
       "167                               2   \n",
       "168                               2   \n",
       "169                               2   \n",
       "170                               2   \n",
       "\n",
       "                                      Me_min_atom_path  Ser_atom_distance  \\\n",
       "109  [C1, O1, C1, C2, C3, C4, O4, C1, C2, C3, C4, O...                999   \n",
       "110  [C1, O1, C1, C2, C3, C4, O4, C1, C2, C3, C4, O...                999   \n",
       "111  [C1, O1, C1, C2, C3, C4, O4, C1, C2, C3, C4, O...                999   \n",
       "112  [C1, O1, C1, C2, C3, C4, O4, C1, C2, C3, C4, O...                999   \n",
       "113  [C1, O1, C1, C2, C3, C4, O4, C1, C2, C3, C4, O...                999   \n",
       "114  [C1, O1, C1, C2, C3, C4, O4, C1, C2, C3, C4, O...                999   \n",
       "165  [C1, O1, C1, C2, C3, C4, O4, C1, C2, C3, C4, O...                999   \n",
       "166  [C1, O1, C1, C2, C3, C4, O4, C1, C2, C3, C4, O...                999   \n",
       "167  [C1, O1, C1, C2, C3, C4, O4, C1, C2, C3, C4, O...                999   \n",
       "168  [C1, O1, C1, C2, C3, C4, O4, C1, C2, C3, C4, O...                999   \n",
       "169  [C1, O1, C1, C2, C3, C4, O4, C1, C2, C3, C4, O...                999   \n",
       "170  [C1, O1, C1, C2, C3, C4, O4, C1, C2, C3, C4, O...                999   \n",
       "\n",
       "     Ser_atom_distance_threshold      Ser_atom_path  Ac_min_atom_distance  \\\n",
       "109                            2  [No Ser included]                     0   \n",
       "110                            2  [No Ser included]                     0   \n",
       "111                            2  [No Ser included]                     0   \n",
       "112                            2  [No Ser included]                     0   \n",
       "113                            2  [No Ser included]                     0   \n",
       "114                            2  [No Ser included]                     0   \n",
       "165                            2  [No Ser included]                     0   \n",
       "166                            2  [No Ser included]                     0   \n",
       "167                            2  [No Ser included]                     0   \n",
       "168                            2  [No Ser included]                     0   \n",
       "169                            2  [No Ser included]                     0   \n",
       "170                            2  [No Ser included]                     0   \n",
       "\n",
       "     Ac_min_atom_distance_threshold Ac_min_atom_path  S_min_atom_distance  \\\n",
       "109                               0            [C11]                    8   \n",
       "110                               0       [C11, C21]                    9   \n",
       "111                               0        [C11, O1]                    9   \n",
       "112                               0  [C11, C21, H21]                   10   \n",
       "113                               0  [C11, C21, H22]                   10   \n",
       "114                               0  [C11, C21, H23]                   10   \n",
       "165                               0            [C11]                    8   \n",
       "166                               0       [C11, C21]                    9   \n",
       "167                               0        [C11, O1]                    9   \n",
       "168                               0  [C11, C21, H21]                   10   \n",
       "169                               0  [C11, C21, H22]                   10   \n",
       "170                               0  [C11, C21, H23]                   10   \n",
       "\n",
       "     S_min_atom_distance_threshold  \\\n",
       "109                              2   \n",
       "110                              2   \n",
       "111                              2   \n",
       "112                              2   \n",
       "113                              2   \n",
       "114                              2   \n",
       "165                              2   \n",
       "166                              2   \n",
       "167                              2   \n",
       "168                              2   \n",
       "169                              2   \n",
       "170                              2   \n",
       "\n",
       "                                     S_min_atom_path  Gc_min_atom_distance  \\\n",
       "109            [S1, O6, C6, C5, O5, C1, C2, N2, C11]                   999   \n",
       "110       [S1, O6, C6, C5, O5, C1, C2, N2, C11, C21]                   999   \n",
       "111        [S1, O6, C6, C5, O5, C1, C2, N2, C11, O1]                   999   \n",
       "112  [S1, O6, C6, C5, O5, C1, C2, N2, C11, C21, H21]                   999   \n",
       "113  [S1, O6, C6, C5, O5, C1, C2, N2, C11, C21, H22]                   999   \n",
       "114  [S1, O6, C6, C5, O5, C1, C2, N2, C11, C21, H23]                   999   \n",
       "165            [S1, O6, C6, C5, O5, C1, C2, N2, C11]                   999   \n",
       "166       [S1, O6, C6, C5, O5, C1, C2, N2, C11, C21]                   999   \n",
       "167        [S1, O6, C6, C5, O5, C1, C2, N2, C11, O1]                   999   \n",
       "168  [S1, O6, C6, C5, O5, C1, C2, N2, C11, C21, H21]                   999   \n",
       "169  [S1, O6, C6, C5, O5, C1, C2, N2, C11, C21, H22]                   999   \n",
       "170  [S1, O6, C6, C5, O5, C1, C2, N2, C11, C21, H23]                   999   \n",
       "\n",
       "     Gc_min_atom_distance_threshold    Gc_min_atom_path New_Atom_name  \\\n",
       "109                               2  [No _Gc_ included]        C11_Ac   \n",
       "110                               2  [No _Gc_ included]        C21_Ac   \n",
       "111                               2  [No _Gc_ included]         O1_Ac   \n",
       "112                               2  [No _Gc_ included]        H21_Ac   \n",
       "113                               2  [No _Gc_ included]        H22_Ac   \n",
       "114                               2  [No _Gc_ included]        H23_Ac   \n",
       "165                               2  [No _Gc_ included]        C11_Ac   \n",
       "166                               2  [No _Gc_ included]        C21_Ac   \n",
       "167                               2  [No _Gc_ included]         O1_Ac   \n",
       "168                               2  [No _Gc_ included]        H21_Ac   \n",
       "169                               2  [No _Gc_ included]        H22_Ac   \n",
       "170                               2  [No _Gc_ included]        H23_Ac   \n",
       "\n",
       "     main_ring_shift  \n",
       "109             -1.0  \n",
       "110             -1.0  \n",
       "111             -1.0  \n",
       "112             -1.0  \n",
       "113             -1.0  \n",
       "114             -1.0  \n",
       "165             -1.0  \n",
       "166             -1.0  \n",
       "167             -1.0  \n",
       "168             -1.0  \n",
       "169             -1.0  \n",
       "170             -1.0  "
      ]
     },
     "execution_count": 25,
     "metadata": {},
     "output_type": "execute_result"
    }
   ],
   "source": [
    "df_pdb.loc[df_pdb['Ac_component'] == 1]"
   ]
  },
  {
   "cell_type": "code",
   "execution_count": 26,
   "id": "3e847348",
   "metadata": {
    "scrolled": false
   },
   "outputs": [
    {
     "data": {
      "text/plain": [
       "'labeled_all_1494.pdb.csv'"
      ]
     },
     "execution_count": 26,
     "metadata": {},
     "output_type": "execute_result"
    }
   ],
   "source": [
    "pdb_name"
   ]
  },
  {
   "cell_type": "markdown",
   "id": "38d04a52",
   "metadata": {},
   "source": [
    "##### Testing parts, no main content"
   ]
  },
  {
   "cell_type": "code",
   "execution_count": 27,
   "id": "d2ce1263",
   "metadata": {},
   "outputs": [],
   "source": [
    "# len(pdb_files)"
   ]
  },
  {
   "cell_type": "code",
   "execution_count": 28,
   "id": "4fe66fd1",
   "metadata": {},
   "outputs": [],
   "source": [
    "# df_pdb_name_5"
   ]
  },
  {
   "cell_type": "code",
   "execution_count": 29,
   "id": "a63e653b",
   "metadata": {},
   "outputs": [],
   "source": [
    "# df_pdb_copy"
   ]
  },
  {
   "cell_type": "code",
   "execution_count": 30,
   "id": "f01d23eb",
   "metadata": {},
   "outputs": [],
   "source": [
    "# df_label"
   ]
  },
  {
   "cell_type": "code",
   "execution_count": 31,
   "id": "e3d67003",
   "metadata": {},
   "outputs": [],
   "source": [
    "# current_target_distance_list[149]"
   ]
  },
  {
   "cell_type": "code",
   "execution_count": 32,
   "id": "f392a424",
   "metadata": {
    "scrolled": true
   },
   "outputs": [],
   "source": [
    "# df_pdb"
   ]
  },
  {
   "cell_type": "code",
   "execution_count": 33,
   "id": "ee53bbd5",
   "metadata": {},
   "outputs": [],
   "source": [
    "# np.array(minimum_all_Ac_distance_list_list)"
   ]
  },
  {
   "cell_type": "code",
   "execution_count": 34,
   "id": "e757ac92",
   "metadata": {
    "scrolled": true
   },
   "outputs": [],
   "source": [
    "# dict_f"
   ]
  },
  {
   "cell_type": "code",
   "execution_count": 35,
   "id": "9ff4e044",
   "metadata": {},
   "outputs": [],
   "source": [
    "# pd.read_csv('dataset/Godess_gnn/preprocess_data/Godess_carbon_unmatched_carbon_csv/237.csv')"
   ]
  },
  {
   "cell_type": "code",
   "execution_count": 36,
   "id": "696161ed",
   "metadata": {},
   "outputs": [],
   "source": [
    "# pdb_name"
   ]
  },
  {
   "cell_type": "code",
   "execution_count": 37,
   "id": "b0839ba5",
   "metadata": {},
   "outputs": [],
   "source": [
    "# read_in_connection(connection_dir, pdb_name)"
   ]
  },
  {
   "cell_type": "code",
   "execution_count": 38,
   "id": "6a6b753c",
   "metadata": {
    "scrolled": false
   },
   "outputs": [],
   "source": [
    "# df_pdb_1"
   ]
  },
  {
   "cell_type": "code",
   "execution_count": 39,
   "id": "3cfaff74",
   "metadata": {},
   "outputs": [],
   "source": [
    "# current_atom_connect, c11_atom_num, atom_num, df_label_name"
   ]
  },
  {
   "cell_type": "code",
   "execution_count": 40,
   "id": "b918919c",
   "metadata": {},
   "outputs": [],
   "source": [
    "# dict_f"
   ]
  },
  {
   "cell_type": "code",
   "execution_count": 41,
   "id": "3e615c74",
   "metadata": {
    "scrolled": false
   },
   "outputs": [
    {
     "name": "stdout",
     "output_type": "stream",
     "text": [
      "[[list(['C11', 'C10', 'C9', 'C8', 'C7', 'C6']) 1]\n",
      " [list(['C11', 'C12', 'C13', 'C14', 'C15', 'C16']) 7]\n",
      " [list(['C11', 'C12', 'C3', 'O3', 'H8', 'H6']) 2]\n",
      " [list(['C11', 'C12', 'C3', 'O3', 'H8', 'H7O']) 3]\n",
      " [list(['C11', 'C12', 'H', 'H1', 'H8', 'H6']) 2]\n",
      " [list(['C11', 'C12', 'H', 'H1', 'H8', 'H7O']) 1]\n",
      " [list(['C11', 'C21', 'O1', 'C1', 'O3', 'C3']) 4]\n",
      " [list(['C11', 'C21', 'O1', 'C2', 'O2', 'C3']) 3]\n",
      " [list(['C11', 'C21', 'O1', 'C3', 'O3', 'C1']) 13]\n",
      " [list(['C11', 'C21', 'O1', 'C4', 'O4', 'O5']) 3]\n",
      " [list(['C11', 'C21', 'O1', 'H21', 'H22', 'H23']) 1544]\n",
      " [list(['C11', 'C21', 'O11', 'C1', 'O1', 'O5']) 1]\n",
      " [list(['C11', 'C21', 'O11', 'C3', 'O3', 'C1']) 2]\n",
      " [list(['C11', 'C21', 'O11', 'H2', 'H21', 'H22']) 20]\n",
      " [list(['C11', 'C21', 'O11', 'H21', 'H22', 'H23']) 9]\n",
      " [list(['C11', 'C21', 'O12', 'C6', 'C7', 'O7']) 14]\n",
      " [list(['C11', 'C21', 'O12', 'H2', 'H21', 'H22']) 501]\n",
      " [list(['C11', 'C3', 'O3', 'H8', 'H6', 'H5O']) 4]\n",
      " [list(['C11', 'C3', 'O3', 'H8', 'H7O', 'H6']) 8]\n",
      " [list(['C11', 'C54', 'O54', 'C53', 'O53', 'C12']) 4]\n",
      " [list(['C11', 'C54', 'O54', 'H', 'H8', 'H6']) 1]\n",
      " [list(['C11', 'C54', 'O54', 'H', 'H8', 'H7O']) 2]\n",
      " [list(['C11', 'C8', 'H6', 'H5O', 'H', 'H1']) 4]\n",
      " [list(['C11', 'C8', 'H6', 'H5O', 'H3O', 'H']) 1]\n",
      " [list(['C11', 'O1', 'C12', 'C8', 'H6', 'H5O']) 8]\n",
      " [list(['C11', 'O1', 'C12', 'H6', 'H7O', 'H8']) 2]\n",
      " [list(['C11', 'O1', 'H21', 'H22', 'H23']) 29]\n",
      " [list(['C11', 'O1', 'H21', 'H22', 'H23', 'C1']) 226]\n",
      " [list(['C11', 'O1', 'H21', 'H22', 'H23', 'C2']) 14]\n",
      " [list(['C11', 'O1', 'H21', 'H22', 'H23', 'P1']) 8]\n",
      " [list(['C11', 'O1', 'H21', 'H22', 'H23', 'S1']) 95]\n",
      " [list(['C11', 'O1', 'N2', 'C2', 'C1', 'O3']) 4]\n",
      " [list(['C11', 'O1', 'N2', 'C2', 'C1', 'O6']) 8]\n",
      " [list(['C11', 'O11', 'H21', 'H22', 'H23']) 5]\n",
      " [list(['C11', 'O11', 'H21', 'H22', 'H23', 'C1']) 130]\n",
      " [list(['C11', 'O11', 'H21', 'H22', 'H23', 'C2']) 1]\n",
      " [list(['C11', 'O11', 'H21', 'H22', 'H23', 'P1']) 3]\n",
      " [list(['C11', 'O12', 'H2', 'H21', 'H22']) 18]\n",
      " [list(['C11', 'O12', 'H2', 'H21', 'H22', 'C1']) 62]\n",
      " [list(['C11', 'O12', 'H2', 'H21', 'H22', 'C2']) 11]\n",
      " [list(['C11', 'O12', 'N5', 'C5', 'C4', 'O4']) 12]]\n"
     ]
    },
    {
     "name": "stderr",
     "output_type": "stream",
     "text": [
      "/tmp/ipykernel_82618/543948076.py:2: VisibleDeprecationWarning: Creating an ndarray from ragged nested sequences (which is a list-or-tuple of lists-or-tuples-or ndarrays with different lengths or shapes) is deprecated. If you meant to do this, you must specify 'dtype=object' when creating the ndarray.\n",
      "  unique, counts = np.unique(np.array(all_ac_list), return_counts=True)\n"
     ]
    }
   ],
   "source": [
    "# so many Ac patterns here, need to use connection dictionary\n",
    "unique, counts = np.unique(np.array(all_ac_list), return_counts=True)\n",
    "\n",
    "print(np.asarray((unique, counts)).T)"
   ]
  },
  {
   "cell_type": "code",
   "execution_count": 42,
   "id": "c8a98039",
   "metadata": {},
   "outputs": [],
   "source": [
    "# df_pdb_name_1"
   ]
  },
  {
   "cell_type": "code",
   "execution_count": 43,
   "id": "f6a4cf5f",
   "metadata": {
    "scrolled": true
   },
   "outputs": [],
   "source": [
    "# df_pdb_1.loc[df_pdb_1['Atom_name'] == 'C11']"
   ]
  },
  {
   "cell_type": "code",
   "execution_count": 44,
   "id": "facaaf26",
   "metadata": {},
   "outputs": [],
   "source": [
    "df_150 = pd.DataFrame([pdb_name_list, idx_list, atom_name_list, mono_name_list, shift_list]).T\n",
    "df_150.loc[(df_150[2] == 'C1')].to_csv('shift_150_C1.csv', index = False)"
   ]
  },
  {
   "cell_type": "code",
   "execution_count": 45,
   "id": "bbd92b3b",
   "metadata": {},
   "outputs": [
    {
     "data": {
      "text/plain": [
       "array(['17HOOle', 'Ac', 'Gc', 'Kdo-ol', 'Mal', 'Ser', 'a-Kdop', 'a-Neup',\n",
       "       'b-Kdop', 'b-Neup'], dtype=object)"
      ]
     },
     "execution_count": 45,
     "metadata": {},
     "output_type": "execute_result"
    }
   ],
   "source": [
    "np.unique(df_150.loc[(df_150[2] == 'C1')][3].values)"
   ]
  },
  {
   "cell_type": "code",
   "execution_count": 46,
   "id": "07845e67",
   "metadata": {},
   "outputs": [],
   "source": [
    "# def create_neup_feature(df_pdb):\n",
    "\n",
    "#     carbon_list = ['C1', 'C11', 'C2', 'C21', 'C3', 'C4', 'C5', 'C6', 'C7', 'C8', 'C9']\n",
    "\n",
    "#     hydrogen_list = ['H1', 'H11', 'H2', 'H3', 'H31', 'H4', 'H5', 'H51', 'H6', 'H61', 'H7', 'H8', 'H9', 'H91']\n",
    "\n",
    "#     df_pdb_copy = df_pdb.copy()\n",
    "    \n",
    "#     new_atom_list = []\n",
    "#     for i in range(len(df_pdb)):\n",
    "#         current_atom_name = df_pdb_copy.loc[i, :]['Atom_name']\n",
    "#         current_residue_name = df_pdb_copy.loc[i, :]['Residual_accurate_name']\n",
    "\n",
    "#         if ('Neup' in current_residue_name) and ((current_atom_name in carbon_list) or \\\n",
    "#                                                  (current_atom_name in hydrogen_list)):\n",
    "#             new_atom = 'Neup_' + current_atom_name\n",
    "#         else:\n",
    "#             new_atom = current_atom_name\n",
    "#         new_atom_list.append(new_atom)\n",
    "    \n",
    "#     df_pdb_copy['New_Atom_name'] = new_atom_list\n",
    "    \n",
    "#     return df_pdb_copy"
   ]
  },
  {
   "cell_type": "code",
   "execution_count": null,
   "id": "be60c401",
   "metadata": {},
   "outputs": [],
   "source": []
  },
  {
   "cell_type": "code",
   "execution_count": 47,
   "id": "5c687d26",
   "metadata": {},
   "outputs": [],
   "source": [
    "# df_pdb = pd.read_csv('dataset/Godess_final_data/Godess_data/labeled_all_1417.pdb.csv')\n",
    "# df_pdb_out = df_pdb.copy()"
   ]
  },
  {
   "cell_type": "code",
   "execution_count": 48,
   "id": "58bca821",
   "metadata": {},
   "outputs": [],
   "source": [
    "# df_pdb_out.loc[(df_pdb_out['Residual_accurate_name'] == 'b-D-ManpA') & \n",
    "#                            (df_pdb_out['trust'] == 69) & \n",
    "#                            (df_pdb_out['Atom_name'] == 'C2') & \n",
    "#                            (df_pdb_out['shift'] == 70.6), ['shift']]"
   ]
  },
  {
   "cell_type": "code",
   "execution_count": 49,
   "id": "b04f61c4",
   "metadata": {
    "scrolled": true
   },
   "outputs": [],
   "source": [
    "# df_pdb"
   ]
  },
  {
   "cell_type": "code",
   "execution_count": 50,
   "id": "ae6863d5",
   "metadata": {
    "scrolled": true
   },
   "outputs": [],
   "source": [
    "# df_pdb_w"
   ]
  },
  {
   "cell_type": "code",
   "execution_count": 51,
   "id": "5ddcfe69",
   "metadata": {},
   "outputs": [],
   "source": [
    "# a = pd.read_csv('dataset/Godess_final_data/visulize/carbon/train_carbon.csv').sort_values(['1'], ascending = False, ignore_index=True)\n",
    "\n",
    "# A = a.loc[a['atom_type'] == 'C1']"
   ]
  },
  {
   "cell_type": "code",
   "execution_count": 52,
   "id": "03b877cf",
   "metadata": {},
   "outputs": [],
   "source": [
    "# matching_table = pd.read_csv('new_matching_table.csv')\n",
    "# matching_table.loc[matching_table['2'] == 1591]\n",
    "\n",
    "# matching_table.loc[matching_table['2'] == 888]\n",
    "\n",
    "# matching_table.loc[matching_table['2'] == 1417]"
   ]
  },
  {
   "cell_type": "markdown",
   "id": "9f5a9c3c",
   "metadata": {},
   "source": [
    "##### old formula, test codes"
   ]
  },
  {
   "cell_type": "code",
   "execution_count": 53,
   "id": "2471a0ac",
   "metadata": {},
   "outputs": [],
   "source": [
    "2, # # old formula, identify Ac monosacchaide by atom pattern H21, H22, H23\n",
    "# def reformulate_ac_monosaccarides(df_pdb, df_label, pdb_name, j):\n",
    "\n",
    "#     df_pdb_copy = df_pdb.copy()\n",
    "\n",
    "#     for i in range(len(df_label)):\n",
    "#         current_linkage = df_label.loc[i, :]['Linkage']\n",
    "\n",
    "#         if isinstance(current_linkage, float):\n",
    "#             current_linkage = int(current_linkage)\n",
    "#             current_linkage = str(current_linkage)\n",
    "\n",
    "#         current_residue = df_label.loc[i, :]['Residue']\n",
    "\n",
    "#         if (current_residue == 'Ac'):\n",
    "#             attached_linkage = current_linkage[0:-2]\n",
    "\n",
    "#             df_attached_linkage = df_pdb_copy.loc[df_pdb_copy['Lineage'] == attached_linkage]\n",
    "\n",
    "            \n",
    "#             if df_attached_linkage.empty:\n",
    "                \n",
    "#                 print(pdb_name, j)\n",
    "#                 continue\n",
    "\n",
    "#             c11_idx = df_attached_linkage.loc[df_attached_linkage['Atom_name'] == 'C11'].index\n",
    "#             c21_idx = df_attached_linkage.loc[df_attached_linkage['Atom_name'] == 'C21'].index\n",
    "#             o1_idx = c21_idx + 1\n",
    "#             h21_idx = df_attached_linkage.loc[df_attached_linkage['Atom_name'] == 'H21'].index\n",
    "#             h22_idx = df_attached_linkage.loc[df_attached_linkage['Atom_name'] == 'H22'].index\n",
    "#             h23_idx = df_attached_linkage.loc[df_attached_linkage['Atom_name'] == 'H23'].index\n",
    "            \n",
    "#             h2_neup_idx = df_attached_linkage.loc[df_attached_linkage['Atom_name'] == 'H2'].index\n",
    "#             h21_neup_idx = df_attached_linkage.loc[df_attached_linkage['Atom_name'] == 'H21'].index\n",
    "#             h22_neup_idx = df_attached_linkage.loc[df_attached_linkage['Atom_name'] == 'H22'].index\n",
    "            \n",
    "#             if ((c21_idx - c11_idx) == (h21_idx - o1_idx) == (h22_idx - h21_idx) == (h23_idx - h22_idx)) and \\\n",
    "#                 ('O' in df_attached_linkage.loc[o1_idx, :]['Atom_name'].values[0]):\n",
    "                \n",
    "\n",
    "# #                 df_pdb_copy.loc[c11_idx, ['Residual_accurate_name']] = 'Ac'\n",
    "# #                 df_pdb_copy.loc[c11_idx, ['bound_AB']] = 'missing_a_b'\n",
    "# #                 df_pdb_copy.loc[c11_idx, ['fischer_projection_DL']] = 'missing_L_D'\n",
    "# #                 df_pdb_copy.loc[c11_idx, ['origin_mono']] = 'ac'\n",
    "# #                 df_pdb_copy.loc[c11_idx, ['reformulated_standard_mono']] = 'ac'\n",
    "# #                 df_pdb_copy.loc[c11_idx, ['carbon_number_PF']] = 'missing_carbon_number'\n",
    "#                 df_pdb_copy.loc[c11_idx, ['Ac_effect']] = 'Ac'\n",
    "\n",
    "\n",
    "# #                 df_pdb_copy.loc[c21_idx, ['Residual_accurate_name']] = 'Ac'\n",
    "# #                 df_pdb_copy.loc[c21_idx, ['bound_AB']] = 'missing_a_b'\n",
    "# #                 df_pdb_copy.loc[c21_idx, ['fischer_projection_DL']] = 'missing_L_D'\n",
    "# #                 df_pdb_copy.loc[c21_idx, ['origin_mono']] = 'ac'\n",
    "# #                 df_pdb_copy.loc[c21_idx, ['reformulated_standard_mono']] = 'ac'\n",
    "# #                 df_pdb_copy.loc[c21_idx, ['carbon_number_PF']] = 'missing_carbon_number'\n",
    "#                 df_pdb_copy.loc[c21_idx, ['Ac_effect']] = 'Ac'\n",
    "\n",
    "# #                 df_pdb_copy.loc[o1_idx, ['Residual_accurate_name']] = 'Ac'\n",
    "# #                 df_pdb_copy.loc[o1_idx, ['bound_AB']] = 'missing_a_b'\n",
    "# #                 df_pdb_copy.loc[o1_idx, ['fischer_projection_DL']] = 'missing_L_D'\n",
    "# #                 df_pdb_copy.loc[o1_idx, ['origin_mono']] = 'ac'\n",
    "# #                 df_pdb_copy.loc[o1_idx, ['reformulated_standard_mono']] = 'ac'\n",
    "# #                 df_pdb_copy.loc[o1_idx, ['carbon_number_PF']] = 'missing_carbon_number'\n",
    "#                 df_pdb_copy.loc[o1_idx, ['Ac_effect']] = 'Ac'\n",
    "\n",
    "# #                 df_pdb_copy.loc[h21_idx, ['Residual_accurate_name']] = 'Ac'\n",
    "# #                 df_pdb_copy.loc[h21_idx, ['bound_AB']] = 'missing_a_b'\n",
    "# #                 df_pdb_copy.loc[h21_idx, ['fischer_projection_DL']] = 'missing_L_D'\n",
    "# #                 df_pdb_copy.loc[h21_idx, ['origin_mono']] = 'ac'\n",
    "# #                 df_pdb_copy.loc[h21_idx, ['reformulated_standard_mono']] = 'ac'\n",
    "# #                 df_pdb_copy.loc[h21_idx, ['carbon_number_PF']] = 'missing_carbon_number'\n",
    "#                 df_pdb_copy.loc[h21_idx, ['Ac_effect']] = 'Ac'\n",
    "\n",
    "# #                 df_pdb_copy.loc[h22_idx, ['Residual_accurate_name']] = 'Ac'\n",
    "# #                 df_pdb_copy.loc[h22_idx, ['bound_AB']] = 'missing_a_b'\n",
    "# #                 df_pdb_copy.loc[h22_idx, ['fischer_projection_DL']] = 'missing_L_D'\n",
    "# #                 df_pdb_copy.loc[h22_idx, ['origin_mono']] = 'ac'\n",
    "# #                 df_pdb_copy.loc[h22_idx, ['reformulated_standard_mono']] = 'ac'\n",
    "# #                 df_pdb_copy.loc[h22_idx, ['carbon_number_PF']] = 'missing_carbon_number'\n",
    "#                 df_pdb_copy.loc[h22_idx, ['Ac_effect']] = 'Ac'\n",
    "\n",
    "# #                 df_pdb_copy.loc[h23_idx, ['Residual_accurate_name']] = 'Ac'\n",
    "# #                 df_pdb_copy.loc[h23_idx, ['bound_AB']] = 'missing_a_b'\n",
    "# #                 df_pdb_copy.loc[h23_idx, ['fischer_projection_DL']] = 'missing_L_D'\n",
    "# #                 df_pdb_copy.loc[h23_idx, ['origin_mono']] = 'ac'\n",
    "# #                 df_pdb_copy.loc[h23_idx, ['reformulated_standard_mono']] = 'ac'\n",
    "# #                 df_pdb_copy.loc[h23_idx, ['carbon_number_PF']] = 'missing_carbon_number'\n",
    "#                 df_pdb_copy.loc[h23_idx, ['Ac_effect']] = 'Ac'\n",
    "    \n",
    "#             elif ((c21_idx - c11_idx) == (h2_neup_idx - o1_idx) == (h21_neup_idx - h2_neup_idx) == (h22_neup_idx - h21_neup_idx)) and \\\n",
    "#                     ('O' in df_attached_linkage.loc[o1_idx, :]['Atom_name'].values[0]):\n",
    "\n",
    "\n",
    "#     #                 df_pdb_copy.loc[c11_idx, ['Residual_accurate_name']] = 'Ac'\n",
    "#     #                 df_pdb_copy.loc[c11_idx, ['bound_AB']] = 'missing_a_b'\n",
    "#     #                 df_pdb_copy.loc[c11_idx, ['fischer_projection_DL']] = 'missing_L_D'\n",
    "#     #                 df_pdb_copy.loc[c11_idx, ['origin_mono']] = 'ac'\n",
    "#     #                 df_pdb_copy.loc[c11_idx, ['reformulated_standard_mono']] = 'ac'\n",
    "#     #                 df_pdb_copy.loc[c11_idx, ['carbon_number_PF']] = 'missing_carbon_number'\n",
    "#                     df_pdb_copy.loc[c11_idx, ['Ac_effect']] = 'Ac'\n",
    "\n",
    "\n",
    "#     #                 df_pdb_copy.loc[c21_idx, ['Residual_accurate_name']] = 'Ac'\n",
    "#     #                 df_pdb_copy.loc[c21_idx, ['bound_AB']] = 'missing_a_b'\n",
    "#     #                 df_pdb_copy.loc[c21_idx, ['fischer_projection_DL']] = 'missing_L_D'\n",
    "#     #                 df_pdb_copy.loc[c21_idx, ['origin_mono']] = 'ac'\n",
    "#     #                 df_pdb_copy.loc[c21_idx, ['reformulated_standard_mono']] = 'ac'\n",
    "#     #                 df_pdb_copy.loc[c21_idx, ['carbon_number_PF']] = 'missing_carbon_number'\n",
    "#                     df_pdb_copy.loc[c21_idx, ['Ac_effect']] = 'Ac'\n",
    "\n",
    "#     #                 df_pdb_copy.loc[o1_idx, ['Residual_accurate_name']] = 'Ac'\n",
    "#     #                 df_pdb_copy.loc[o1_idx, ['bound_AB']] = 'missing_a_b'\n",
    "#     #                 df_pdb_copy.loc[o1_idx, ['fischer_projection_DL']] = 'missing_L_D'\n",
    "#     #                 df_pdb_copy.loc[o1_idx, ['origin_mono']] = 'ac'\n",
    "#     #                 df_pdb_copy.loc[o1_idx, ['reformulated_standard_mono']] = 'ac'\n",
    "#     #                 df_pdb_copy.loc[o1_idx, ['carbon_number_PF']] = 'missing_carbon_number'\n",
    "#                     df_pdb_copy.loc[o1_idx, ['Ac_effect']] = 'Ac'\n",
    "\n",
    "#     #                 df_pdb_copy.loc[h21_idx, ['Residual_accurate_name']] = 'Ac'\n",
    "#     #                 df_pdb_copy.loc[h21_idx, ['bound_AB']] = 'missing_a_b'\n",
    "#     #                 df_pdb_copy.loc[h21_idx, ['fischer_projection_DL']] = 'missing_L_D'\n",
    "#     #                 df_pdb_copy.loc[h21_idx, ['origin_mono']] = 'ac'\n",
    "#     #                 df_pdb_copy.loc[h21_idx, ['reformulated_standard_mono']] = 'ac'\n",
    "#     #                 df_pdb_copy.loc[h21_idx, ['carbon_number_PF']] = 'missing_carbon_number'\n",
    "#                     df_pdb_copy.loc[h2_neup_idx, ['Ac_effect']] = 'Ac'\n",
    "\n",
    "#     #                 df_pdb_copy.loc[h22_idx, ['Residual_accurate_name']] = 'Ac'\n",
    "#     #                 df_pdb_copy.loc[h22_idx, ['bound_AB']] = 'missing_a_b'\n",
    "#     #                 df_pdb_copy.loc[h22_idx, ['fischer_projection_DL']] = 'missing_L_D'\n",
    "#     #                 df_pdb_copy.loc[h22_idx, ['origin_mono']] = 'ac'\n",
    "#     #                 df_pdb_copy.loc[h22_idx, ['reformulated_standard_mono']] = 'ac'\n",
    "#     #                 df_pdb_copy.loc[h22_idx, ['carbon_number_PF']] = 'missing_carbon_number'\n",
    "#                     df_pdb_copy.loc[h21_neup_idx, ['Ac_effect']] = 'Ac'\n",
    "\n",
    "#     #                 df_pdb_copy.loc[h23_idx, ['Residual_accurate_name']] = 'Ac'\n",
    "#     #                 df_pdb_copy.loc[h23_idx, ['bound_AB']] = 'missing_a_b'\n",
    "#     #                 df_pdb_copy.loc[h23_idx, ['fischer_projection_DL']] = 'missing_L_D'\n",
    "#     #                 df_pdb_copy.loc[h23_idx, ['origin_mono']] = 'ac'\n",
    "#     #                 df_pdb_copy.loc[h23_idx, ['reformulated_standard_mono']] = 'ac'\n",
    "#     #                 df_pdb_copy.loc[h23_idx, ['carbon_number_PF']] = 'missing_carbon_number'\n",
    "#                     df_pdb_copy.loc[h22_neup_idx, ['Ac_effect']] = 'Ac'\n",
    "\n",
    "\n",
    "#     return df_pdb_copy"
   ]
  },
  {
   "cell_type": "code",
   "execution_count": 54,
   "id": "635522e6",
   "metadata": {},
   "outputs": [],
   "source": [
    "# dict_f = read_in_connection(connection_dir, df_pdb_name_4)\n",
    "\n",
    "# df_pdb_copy = df_pdb_4.copy()\n",
    "\n",
    "# df_label = df_label_4\n",
    "\n",
    "# Ac_components_list = np.repeat(0, len(df_pdb_copy))\n",
    "\n",
    "# for i in range(len(df_label)):\n",
    "#     current_linkage = df_label.loc[i, :]['Linkage']\n",
    "\n",
    "#     if isinstance(current_linkage, float):\n",
    "#         current_linkage = int(current_linkage)\n",
    "#         current_linkage = str(current_linkage)\n",
    "\n",
    "#     current_residue = df_label.loc[i, :]['Residue']\n",
    "    \n",
    "#     if current_residue == 'Ac':\n",
    "        \n",
    "#         attached_linkage = current_linkage[0:-2]\n",
    "\n",
    "#         attached_index = df_pdb_copy.loc[df_pdb_copy['Lineage'] == attached_linkage].index\n",
    "        \n",
    "#         attached_atom_name = df_pdb_copy.loc[df_pdb_copy['Lineage'] == attached_linkage, :]['Atom_name'].values\n",
    "        \n",
    "#         if 'C11' in attached_atom_name:\n",
    "#             c11_index_list = np.where(attached_atom_name == 'C11')[0]\n",
    "            \n",
    "#             # Attached only one monosaccharide\n",
    "#             if len(c11_index_list) == 1:\n",
    "\n",
    "#                 # c11 index in csv\n",
    "#                 c11_index = attached_index[c11_index_list[0]]\n",
    "                \n",
    "#                 #c11 index in atom names\n",
    "#                 c11_atom_num = df_pdb_copy.loc[c11_index, :]['Atom_num']\n",
    "                \n",
    "#                 c11_connection_list = dict_f[c11_atom_num]\n",
    "                \n",
    "#                 Ac_residue_index_list = [c11_atom_num]\n",
    "                \n",
    "#                 for atom_num in c11_connection_list:\n",
    "                    \n",
    "#                     current_atom_connect = dict_f[atom_num]\n",
    "                    \n",
    "#                     current_atom_connect.remove(c11_atom_num)\n",
    "                    \n",
    "#                     # identify the Oxx\n",
    "#                     if len(current_atom_connect) == 0:\n",
    "                        \n",
    "#                         Ac_residue_index_list.append(atom_num)\n",
    "                    \n",
    "#                     else:\n",
    "#                         len_atom_connect = 0\n",
    "#                         for atom_num_connect in current_atom_connect:\n",
    "                            \n",
    "                            \n",
    "#                             atom_num_connect_atom_list = dict_f[atom_num_connect]\n",
    "                            \n",
    "#                             atom_num_connect_atom_list.remove(atom_num)\n",
    "# #                             print(atom_num_connect, atom_num_connect_atom_list, atom_num)\n",
    "    \n",
    "#                             len_atom_connect += len(atom_num_connect_atom_list)\n",
    "                        \n",
    "#                         # identify the C21, and three HXXs \n",
    "#                         if len_atom_connect == 0:\n",
    "                            \n",
    "#                             Ac_residue_index_list.append(atom_num)\n",
    "#                             Ac_residue_index_list.extend(dict_f[atom_num])\n",
    "                            \n",
    "#                 Ac_residue_index_list = df_pdb_copy.loc[df_pdb_copy['Atom_num'].isin(Ac_residue_index_list)].index\n",
    "#                 Ac_components_list[Ac_residue_index_list] = 1\n",
    "# #                     print(atom_num, current_atom_connect)\n",
    "#             else:\n",
    "#                 print(df_pdb_name_4, i, 'contain more than one C11')\n",
    "            \n",
    "            \n",
    "#         else:\n",
    "            \n",
    "#             print(df_pdb_name_4, i, current_residue, 'the attached monosaccharides does not contain a C11')\n",
    "            \n",
    "#             current_index = df_pdb_copy.loc[df_pdb_copy['Lineage'] == current_linkage].index\n",
    "            \n",
    "#             current_three_letter_residual = df_pdb_copy.loc[current_index, :]['Residual_name'].values\n",
    "            \n",
    "#             # the attached monosaccharide \n",
    "#             assert(np.all(current_three_letter_residual == 'ACY'))\n",
    "            \n",
    "# # some ACs are behave like are separate components\n",
    "# if not df_pdb_copy.loc[df_pdb_copy['Residual_name'] == 'ACY'].empty:\n",
    "#     ACY_index = df_pdb_copy.loc[df_pdb_copy['Residual_name'] == 'ACY'].index\n",
    "#     Ac_components_list[ACY_index] = 1\n",
    "\n",
    "# df_pdb_copy['Ac_component'] = Ac_components_list"
   ]
  },
  {
   "cell_type": "code",
   "execution_count": 55,
   "id": "c3ffcede",
   "metadata": {},
   "outputs": [],
   "source": [
    "# threshold = 5\n",
    "\n",
    "# df_pdb_copy = df_pdb_1.copy()\n",
    "\n",
    "# dict_f = read_in_connection(connection_dir, df_pdb_name_1)\n",
    "\n",
    "# df_c11 = df_pdb_copy.loc[(df_pdb_copy['Ac_component'] == 1) & \n",
    "#                          ((df_pdb_copy['Atom_name'] == 'C11') | \n",
    "#                           (df_pdb_copy['Atom_name'] == 'C1'))]\n",
    "\n",
    "# df_c11.index = range(len(df_c11))\n",
    "\n",
    "# # since there could be multiple Acs in a glycan, each glycan corresponds to a glycan list\n",
    "# # therefore, need to first retrieve list of glycan distance list\n",
    "\n",
    "# all_Ac_distance_list_list = []\n",
    "\n",
    "# all_Ac_distance_threshold_list_list = []\n",
    "\n",
    "# all_Ac_atom_name_list_list_list = []\n",
    "\n",
    "# all_atom_num_list = df_pdb_copy['Atom_num'].values\n",
    "\n",
    "# all_atom_name_list = df_pdb_copy['Atom_name'].values\n",
    "\n",
    "# for i in range(len(df_c11)):\n",
    "    \n",
    "#     current_target_distance_list = []\n",
    "    \n",
    "#     current_target_atom_name_list_list = []\n",
    "    \n",
    "#     current_atom_num = df_c11.loc[i, :]['Atom_num']\n",
    "    \n",
    "#     for j in all_atom_num_list:\n",
    "        \n",
    "#         current_atom_num_path = bfs_shortest_path(dict_f, current_atom_num, j)\n",
    "        \n",
    "#         current_atom_name_path = [all_atom_name_list[k-1] for k in current_atom_num_path]\n",
    "        \n",
    "#         # 3, list of list of atom paths, index + 1 = atom num\n",
    "#         current_target_atom_name_list_list.append(current_atom_name_path)\n",
    "        \n",
    "#         # 2, Assign distance \n",
    "#         if current_atom_num == j:\n",
    "            \n",
    "#             current_target_distance_list.append(0)\n",
    "        \n",
    "#         # atom with in the same Ac component labeled as 0\n",
    "#         elif ((len(current_atom_num_path) - 1) <= 2) and (df_pdb_copy.loc[j-1, :]['Ac_component'] == 1):\n",
    "             \n",
    "#             current_target_distance_list.append(0)\n",
    "        \n",
    "#         else:\n",
    "#             current_target_distance_list.append(len(current_atom_num_path) - 1)\n",
    "            \n",
    "#     # 1, Assign categorical value by threshold as distance bound\n",
    "#     current_target_distance_list_threshold = np.array(current_target_distance_list.copy())\n",
    "\n",
    "#     current_target_distance_list_threshold[(current_target_distance_list_threshold <= threshold) & (current_target_distance_list_threshold > 0)] = 1\n",
    "\n",
    "#     current_target_distance_list_threshold[current_target_distance_list_threshold > threshold] = 2\n",
    "    \n",
    "#     current_target_distance_list_threshold = list(current_target_distance_list_threshold)\n",
    "\n",
    "#     # list of list stores distance to each Acs in a glycan\n",
    "# #     print(current_target_distance_list)\n",
    "#     all_Ac_distance_list_list.append(current_target_distance_list)\n",
    "    \n",
    "#     # this is not used in this function, but may be used in the future if other method is developed\n",
    "#     all_Ac_distance_threshold_list_list.append(current_target_distance_list_threshold)\n",
    "\n",
    "#     all_Ac_atom_name_list_list_list.append(current_target_atom_name_list_list)\n",
    "    \n",
    "# all_Ac_distance_list_list = np.array(all_Ac_distance_list_list)\n",
    "\n",
    "# # find the minimum distance\n",
    "# new_all_index = all_Ac_distance_list_list.argmin(axis=0)\n",
    "\n",
    "# minimum_all_Ac_distance_list_list = [all_Ac_distance_list_list[new_all_index[m]][m] for m in range(len(new_all_index))]\n",
    "\n",
    "# # find the corresponding minimum threshold\n",
    "# minimum_all_Ac_distance_list_list_threshold = np.array(minimum_all_Ac_distance_list_list.copy())\n",
    "\n",
    "# minimum_all_Ac_distance_list_list_threshold[(minimum_all_Ac_distance_list_list_threshold <= threshold) & (minimum_all_Ac_distance_list_list_threshold > 0)] = 1\n",
    "\n",
    "# minimum_all_Ac_distance_list_list_threshold[minimum_all_Ac_distance_list_list_threshold > threshold] = 2\n",
    "\n",
    "# minimum_all_Ac_distance_list_list_threshold = list(minimum_all_Ac_distance_list_list_threshold)\n",
    "\n",
    "# # find the corresponding minimum atom names\n",
    "\n",
    "# minimum_all_Ac_atom_name_list_list_list = [all_Ac_atom_name_list_list_list[new_all_index[m]][m] for m in range(len(new_all_index))]"
   ]
  },
  {
   "cell_type": "code",
   "execution_count": 56,
   "id": "7430d880",
   "metadata": {},
   "outputs": [],
   "source": [
    "# df_pdb_copy = df_pdb_5.copy()\n",
    "\n",
    "# dict_f = read_in_connection(connection_dir, df_pdb_name_5)\n",
    "\n",
    "# df_label = df_label_5\n",
    "\n",
    "# threshold = 5\n",
    "\n",
    "# df_s = df_pdb_copy.loc[(df_pdb_copy['Residual_name'] == 'SO4') & \n",
    "#                          (df_pdb_copy['Atom_type'] == 'S')]\n",
    "# df_s.index = range(len(df_s))\n",
    "\n",
    "# if (not df_s.empty) and ('S' in df_label['Residue'].values):\n",
    "\n",
    "#     all_S_distance_list_list = []\n",
    "\n",
    "#     all_S_distance_threshold_list_list = []\n",
    "\n",
    "#     all_S_atom_name_list_list_list = []\n",
    "\n",
    "#     all_atom_num_list = df_pdb_copy['Atom_num'].values\n",
    "\n",
    "#     all_atom_name_list = df_pdb_copy['Atom_name'].values\n",
    "    \n",
    "#     for i in range(len(df_s)):\n",
    "\n",
    "#         current_target_distance_list = []\n",
    "\n",
    "#         current_target_atom_name_list_list = []\n",
    "\n",
    "#         current_atom_num = df_s.loc[i, :]['Atom_num']\n",
    "        \n",
    "#         for j in all_atom_num_list:\n",
    "\n",
    "#             current_atom_num_path = bfs_shortest_path(dict_f, current_atom_num, j)\n",
    "\n",
    "#             current_atom_name_path = [all_atom_name_list[k-1] for k in current_atom_num_path]\n",
    "\n",
    "#             # 3, list of list of atom paths, index + 1 = atom num\n",
    "#             current_target_atom_name_list_list.append(current_atom_name_path)\n",
    "\n",
    "#             # 2, Assign distance \n",
    "#             if current_atom_num == j:\n",
    "\n",
    "#                 current_target_distance_list.append(0)\n",
    "\n",
    "#             # atom with in the same S component labeled as 0\n",
    "#             elif ((len(current_atom_num_path) - 1) <= 2) and (df_pdb_copy.loc[j-1, :]['Residual_accurate_name'] == 'S'):\n",
    "\n",
    "#                 current_target_distance_list.append(0)\n",
    "\n",
    "#             else:\n",
    "#                 current_target_distance_list.append(len(current_atom_num_path) - 1)\n",
    "                \n",
    "        \n",
    "#          # 1, Assign categorical value by threshold as distance bound\n",
    "#         current_target_distance_list_threshold = np.array(current_target_distance_list.copy())\n",
    "\n",
    "#         current_target_distance_list_threshold[(current_target_distance_list_threshold <= threshold) & (current_target_distance_list_threshold > 0)] = 1\n",
    "\n",
    "#         current_target_distance_list_threshold[current_target_distance_list_threshold > threshold] = 2\n",
    "\n",
    "#         current_target_distance_list_threshold = list(current_target_distance_list_threshold)\n",
    "        \n",
    "#         # list of list stores distance to each Ss in a glycan\n",
    "# #         print(current_target_distance_list)\n",
    "\n",
    "#         all_S_distance_list_list.append(current_target_distance_list)\n",
    "\n",
    "#         # this is not used in this function, but may be used in the future if other method is developed\n",
    "#         all_S_distance_threshold_list_list.append(current_target_distance_list_threshold)\n",
    "\n",
    "#         all_S_atom_name_list_list_list.append(current_target_atom_name_list_list)\n",
    "    \n",
    "    \n",
    "#     all_S_distance_list_list = np.array(all_S_distance_list_list)\n",
    "\n",
    "#     # find the minimum distance\n",
    "#     new_all_index = all_S_distance_list_list.argmin(axis=0)\n",
    "\n",
    "#     minimum_all_S_distance_list_list = [all_S_distance_list_list[new_all_index[m]][m] for m in range(len(new_all_index))]\n",
    "\n",
    "#     # find the corresponding minimum threshold\n",
    "#     minimum_all_S_distance_list_list_threshold = np.array(minimum_all_S_distance_list_list.copy())\n",
    "\n",
    "#     minimum_all_S_distance_list_list_threshold[(minimum_all_S_distance_list_list_threshold <= threshold) & (minimum_all_S_distance_list_list_threshold > 0)] = 1\n",
    "\n",
    "#     minimum_all_S_distance_list_list_threshold[minimum_all_S_distance_list_list_threshold > threshold] = 2\n",
    "\n",
    "#     minimum_all_S_distance_list_list_threshold = list(minimum_all_S_distance_list_list_threshold)\n",
    "\n",
    "#     # find the corresponding minimum atom names\n",
    "\n",
    "#     minimum_all_S_atom_name_list_list_list = [all_S_atom_name_list_list_list[new_all_index[m]][m] for m in range(len(new_all_index))]\n",
    "\n",
    "\n",
    "#     df_pdb_copy['S' + '_min_atom_distance'] = minimum_all_S_distance_list_list\n",
    "\n",
    "#     df_pdb_copy['S' + '_min_atom_distance_threshold'] = minimum_all_S_distance_list_list_threshold\n",
    "\n",
    "#     df_pdb_copy['S' + '_min_atom_path'] = minimum_all_S_atom_name_list_list_list\n",
    "    \n",
    "# else:\n",
    "#     # not containing any S components\n",
    "#     df_pdb_copy['S' + '_min_atom_distance'] = 999\n",
    "\n",
    "#     df_pdb_copy['S' + '_min_atom_distance_threshold'] = 2\n",
    "\n",
    "#     df_pdb_copy['S' + '_min_atom_path'] = [['No ' + '_S_' + ' included'] for _ in range(len(df_pdb))]"
   ]
  }
 ],
 "metadata": {
  "kernelspec": {
   "display_name": "Python 3 (ipykernel)",
   "language": "python",
   "name": "python3"
  },
  "language_info": {
   "codemirror_mode": {
    "name": "ipython",
    "version": 3
   },
   "file_extension": ".py",
   "mimetype": "text/x-python",
   "name": "python",
   "nbconvert_exporter": "python",
   "pygments_lexer": "ipython3",
   "version": "3.8.15"
  }
 },
 "nbformat": 4,
 "nbformat_minor": 5
}
