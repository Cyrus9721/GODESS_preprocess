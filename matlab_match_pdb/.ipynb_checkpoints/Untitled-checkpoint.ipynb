{
 "cells": [
  {
   "cell_type": "code",
   "execution_count": 40,
   "id": "0ba74672",
   "metadata": {},
   "outputs": [],
   "source": [
    "import Bio\n",
    "import Bio.PDB\n",
    "import Bio.SeqRecord"
   ]
  },
  {
   "cell_type": "code",
   "execution_count": 41,
   "id": "392a669b",
   "metadata": {},
   "outputs": [],
   "source": [
    "pdbparser = Bio.PDB.PDBParser(QUIET=True)\n",
    "structure = pdbparser.get_structure('PDB_1.pdb', 'PDB_1.pdb')"
   ]
  },
  {
   "cell_type": "code",
   "execution_count": 42,
   "id": "f4829994",
   "metadata": {},
   "outputs": [
    {
     "data": {
      "text/plain": [
       "<generator object Structure.get_atoms at 0x7fbe22597f20>"
      ]
     },
     "execution_count": 42,
     "metadata": {},
     "output_type": "execute_result"
    }
   ],
   "source": [
    "structure.get_atoms()"
   ]
  },
  {
   "cell_type": "code",
   "execution_count": 43,
   "id": "da7b2265",
   "metadata": {},
   "outputs": [
    {
     "name": "stdout",
     "output_type": "stream",
     "text": [
      "<Atom O4>\n",
      "<Atom C4>\n",
      "<Atom C3>\n",
      "<Atom O3>\n",
      "<Atom C2>\n",
      "<Atom O2>\n",
      "<Atom C1>\n",
      "<Atom O1>\n",
      "<Atom O5>\n",
      "<Atom C5>\n",
      "<Atom C6>\n",
      "<Atom O6>\n",
      "<Atom H4>\n",
      "<Atom H3>\n",
      "<Atom H3O>\n",
      "<Atom H2>\n",
      "<Atom H2O>\n",
      "<Atom H1>\n",
      "<Atom H1O>\n",
      "<Atom H5>\n",
      "<Atom H6>\n",
      "<Atom H61>\n",
      "<Atom H6O>\n",
      "<Atom O3>\n",
      "<Atom C3>\n",
      "<Atom C2>\n",
      "<Atom O2>\n",
      "<Atom C1>\n",
      "<Atom O5>\n",
      "<Atom C5>\n",
      "<Atom C6>\n",
      "<Atom O6>\n",
      "<Atom C4>\n",
      "<Atom O4>\n",
      "<Atom H3>\n",
      "<Atom H2>\n",
      "<Atom H2O>\n",
      "<Atom H1>\n",
      "<Atom H5>\n",
      "<Atom H6>\n",
      "<Atom H61>\n",
      "<Atom H6O>\n",
      "<Atom H4>\n",
      "<Atom H4O>\n",
      "<Atom N2>\n",
      "<Atom C2>\n",
      "<Atom C1>\n",
      "<Atom O5>\n",
      "<Atom C5>\n",
      "<Atom C6>\n",
      "<Atom O6>\n",
      "<Atom C4>\n",
      "<Atom O4>\n",
      "<Atom C3>\n",
      "<Atom O3>\n",
      "<Atom H2N>\n",
      "<Atom H2>\n",
      "<Atom H1>\n",
      "<Atom H5>\n",
      "<Atom H6>\n",
      "<Atom H61>\n",
      "<Atom H6O>\n",
      "<Atom H4>\n",
      "<Atom H3>\n",
      "<Atom C21>\n",
      "<Atom C11>\n",
      "<Atom O1>\n",
      "<Atom H21>\n",
      "<Atom H22>\n",
      "<Atom H23>\n",
      "<Atom C1>\n",
      "<Atom O5>\n",
      "<Atom C5>\n",
      "<Atom C6>\n",
      "<Atom O6>\n",
      "<Atom C4>\n",
      "<Atom O4>\n",
      "<Atom C3>\n",
      "<Atom O3>\n",
      "<Atom C2>\n",
      "<Atom O2>\n",
      "<Atom H1>\n",
      "<Atom H5>\n",
      "<Atom H6>\n",
      "<Atom H61>\n",
      "<Atom H6O>\n",
      "<Atom H4>\n",
      "<Atom H4O>\n",
      "<Atom H3>\n",
      "<Atom H3O>\n",
      "<Atom H2>\n",
      "<Atom H2O>\n",
      "<Atom C1>\n",
      "<Atom O5>\n",
      "<Atom C5>\n",
      "<Atom C6>\n",
      "<Atom C4>\n",
      "<Atom O4>\n",
      "<Atom C3>\n",
      "<Atom O3>\n",
      "<Atom C2>\n",
      "<Atom O2>\n",
      "<Atom H1>\n",
      "<Atom H5>\n",
      "<Atom H6>\n",
      "<Atom H61>\n",
      "<Atom H62>\n",
      "<Atom H4>\n",
      "<Atom H4O>\n",
      "<Atom H3>\n",
      "<Atom H3O>\n",
      "<Atom H2>\n",
      "<Atom H2O>\n"
     ]
    }
   ],
   "source": [
    "for model in structure:\n",
    "    for chain in model:\n",
    "        for residue in chain:\n",
    "            for atom in residue:\n",
    "                print(atom)"
   ]
  },
  {
   "cell_type": "code",
   "execution_count": 44,
   "id": "d4462017",
   "metadata": {},
   "outputs": [
    {
     "name": "stdout",
     "output_type": "stream",
     "text": [
      "<Atom O4>\n",
      "<Atom C4>\n",
      "<Atom C3>\n",
      "<Atom O3>\n",
      "<Atom C2>\n",
      "<Atom O2>\n",
      "<Atom C1>\n",
      "<Atom O1>\n",
      "<Atom O5>\n",
      "<Atom C5>\n",
      "<Atom C6>\n",
      "<Atom O6>\n",
      "<Atom H4>\n",
      "<Atom H3>\n",
      "<Atom H3O>\n",
      "<Atom H2>\n",
      "<Atom H2O>\n",
      "<Atom H1>\n",
      "<Atom H1O>\n",
      "<Atom H5>\n",
      "<Atom H6>\n",
      "<Atom H61>\n",
      "<Atom H6O>\n",
      "<Atom O3>\n",
      "<Atom C3>\n",
      "<Atom C2>\n",
      "<Atom O2>\n",
      "<Atom C1>\n",
      "<Atom O5>\n",
      "<Atom C5>\n",
      "<Atom C6>\n",
      "<Atom O6>\n",
      "<Atom C4>\n",
      "<Atom O4>\n",
      "<Atom H3>\n",
      "<Atom H2>\n",
      "<Atom H2O>\n",
      "<Atom H1>\n",
      "<Atom H5>\n",
      "<Atom H6>\n",
      "<Atom H61>\n",
      "<Atom H6O>\n",
      "<Atom H4>\n",
      "<Atom H4O>\n",
      "<Atom N2>\n",
      "<Atom C2>\n",
      "<Atom C1>\n",
      "<Atom O5>\n",
      "<Atom C5>\n",
      "<Atom C6>\n",
      "<Atom O6>\n",
      "<Atom C4>\n",
      "<Atom O4>\n",
      "<Atom C3>\n",
      "<Atom O3>\n",
      "<Atom H2N>\n",
      "<Atom H2>\n",
      "<Atom H1>\n",
      "<Atom H5>\n",
      "<Atom H6>\n",
      "<Atom H61>\n",
      "<Atom H6O>\n",
      "<Atom H4>\n",
      "<Atom H3>\n",
      "<Atom C21>\n",
      "<Atom C11>\n",
      "<Atom O1>\n",
      "<Atom H21>\n",
      "<Atom H22>\n",
      "<Atom H23>\n",
      "<Atom C1>\n",
      "<Atom O5>\n",
      "<Atom C5>\n",
      "<Atom C6>\n",
      "<Atom O6>\n",
      "<Atom C4>\n",
      "<Atom O4>\n",
      "<Atom C3>\n",
      "<Atom O3>\n",
      "<Atom C2>\n",
      "<Atom O2>\n",
      "<Atom H1>\n",
      "<Atom H5>\n",
      "<Atom H6>\n",
      "<Atom H61>\n",
      "<Atom H6O>\n",
      "<Atom H4>\n",
      "<Atom H4O>\n",
      "<Atom H3>\n",
      "<Atom H3O>\n",
      "<Atom H2>\n",
      "<Atom H2O>\n",
      "<Atom C1>\n",
      "<Atom O5>\n",
      "<Atom C5>\n",
      "<Atom C6>\n",
      "<Atom C4>\n",
      "<Atom O4>\n",
      "<Atom C3>\n",
      "<Atom O3>\n",
      "<Atom C2>\n",
      "<Atom O2>\n",
      "<Atom H1>\n",
      "<Atom H5>\n",
      "<Atom H6>\n",
      "<Atom H61>\n",
      "<Atom H62>\n",
      "<Atom H4>\n",
      "<Atom H4O>\n",
      "<Atom H3>\n",
      "<Atom H3O>\n",
      "<Atom H2>\n",
      "<Atom H2O>\n"
     ]
    }
   ],
   "source": [
    "for atom in structure.get_atoms():\n",
    "    print(atom)"
   ]
  },
  {
   "cell_type": "code",
   "execution_count": 45,
   "id": "58380db2",
   "metadata": {},
   "outputs": [
    {
     "name": "stdout",
     "output_type": "stream",
     "text": [
      "<Residue GLC het=H_GLC resseq=1 icode= >\n",
      "<Residue GAL het=H_GAL resseq=2 icode= >\n",
      "<Residue NBG het=H_NBG resseq=3 icode= >\n",
      "<Residue GAL het=H_GAL resseq=4 icode= >\n",
      "<Residue FUC het=H_FUC resseq=5 icode= >\n"
     ]
    }
   ],
   "source": [
    "for residue in model.get_residues():\n",
    "    print(residue)"
   ]
  },
  {
   "cell_type": "code",
   "execution_count": 46,
   "id": "7a00b782",
   "metadata": {},
   "outputs": [
    {
     "data": {
      "text/plain": [
       "{'name': '',\n",
       " 'head': '',\n",
       " 'idcode': '',\n",
       " 'deposition_date': '1909-01-08',\n",
       " 'release_date': '1909-01-08',\n",
       " 'structure_method': 'unknown',\n",
       " 'resolution': None,\n",
       " 'structure_reference': [],\n",
       " 'journal_reference': '',\n",
       " 'author': '',\n",
       " 'compound': {'1': {'misc': 'alfucp(1-3)[bdgalp(1-4),ac(1-2)]bdglcpn(1-3)bdgalp(1-4)adglcp '}},\n",
       " 'source': {'1': {'misc': ''}},\n",
       " 'has_missing_residues': False,\n",
       " 'missing_residues': []}"
      ]
     },
     "execution_count": 46,
     "metadata": {},
     "output_type": "execute_result"
    }
   ],
   "source": [
    "structure.header"
   ]
  },
  {
   "cell_type": "code",
   "execution_count": 47,
   "id": "ea780e98",
   "metadata": {},
   "outputs": [],
   "source": [
    "model = structure[0]\n",
    "chain = model[\"A\"]"
   ]
  },
  {
   "cell_type": "code",
   "execution_count": 24,
   "id": "1c4c608f",
   "metadata": {},
   "outputs": [],
   "source": [
    "atoms = structure.get_atoms()\n",
    "residues = structure.get_residues()"
   ]
  },
  {
   "cell_type": "code",
   "execution_count": 31,
   "id": "fce3b9df",
   "metadata": {},
   "outputs": [
    {
     "data": {
      "text/plain": [
       "<Chain id=A>"
      ]
     },
     "execution_count": 31,
     "metadata": {},
     "output_type": "execute_result"
    }
   ],
   "source": [
    "chain"
   ]
  },
  {
   "cell_type": "code",
   "execution_count": null,
   "id": "8aecd902",
   "metadata": {},
   "outputs": [],
   "source": []
  }
 ],
 "metadata": {
  "kernelspec": {
   "display_name": "Python 3 (ipykernel)",
   "language": "python",
   "name": "python3"
  },
  "language_info": {
   "codemirror_mode": {
    "name": "ipython",
    "version": 3
   },
   "file_extension": ".py",
   "mimetype": "text/x-python",
   "name": "python",
   "nbconvert_exporter": "python",
   "pygments_lexer": "ipython3",
   "version": "3.8.15"
  }
 },
 "nbformat": 4,
 "nbformat_minor": 5
}
