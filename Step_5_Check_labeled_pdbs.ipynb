{
 "cells": [
  {
   "cell_type": "code",
   "execution_count": 2,
   "id": "873d4928",
   "metadata": {},
   "outputs": [],
   "source": [
    "import pandas as pd\n",
    "import numpy as np\n",
    "import os\n",
    "from tqdm import tqdm\n",
    "# from dgl import save_graphs, load_graphs\n",
    "pd.set_option('display.max_rows', 1000+1)\n",
    "pd.set_option('display.max_columns', 1000+1)"
   ]
  },
  {
   "cell_type": "code",
   "execution_count": 3,
   "id": "6420df04",
   "metadata": {},
   "outputs": [],
   "source": [
    "pdb_dir = 'dataset/Godess_final_data/Godess_data_rev/'\n",
    "pdb_files_list = os.listdir(pdb_dir)"
   ]
  },
  {
   "cell_type": "code",
   "execution_count": 5,
   "id": "cad25319",
   "metadata": {
    "scrolled": true
   },
   "outputs": [
    {
     "name": "stderr",
     "output_type": "stream",
     "text": [
      "  1%|          | 27/2399 [00:00<00:08, 264.65it/s]"
     ]
    },
    {
     "name": "stdout",
     "output_type": "stream",
     "text": [
      "labeled_all_100.pdb.csv 2 H2 contained in monosaccharide list shoud double check this\n",
      "labeled_all_1001.pdb.csv 4 H2 contained in monosaccharide list shoud double check this\n",
      "labeled_all_1002.pdb.csv 5 H2 contained in monosaccharide list shoud double check this\n",
      "labeled_all_1003.pdb.csv 6 H2 contained in monosaccharide list shoud double check this\n",
      "labeled_all_1006.pdb.csv 9 H2 contained in monosaccharide list shoud double check this\n",
      "labeled_all_1011.pdb.csv 15 H2 contained in monosaccharide list shoud double check this\n",
      "labeled_all_1013.pdb.csv 17 H2 contained in monosaccharide list shoud double check this\n",
      "labeled_all_1028.pdb.csv 33 H2 contained in monosaccharide list shoud double check this\n",
      "labeled_all_1029.pdb.csv 34 H2 contained in monosaccharide list shoud double check this\n",
      "labeled_all_1030.pdb.csv 36 H2 contained in monosaccharide list shoud double check this\n",
      "labeled_all_1031.pdb.csv 37 H2 contained in monosaccharide list shoud double check this\n",
      "labeled_all_1036.pdb.csv 42 H2 contained in monosaccharide list shoud double check this\n"
     ]
    },
    {
     "name": "stderr",
     "output_type": "stream",
     "text": [
      "  3%|▎         | 82/2399 [00:00<00:08, 263.21it/s]"
     ]
    },
    {
     "name": "stdout",
     "output_type": "stream",
     "text": [
      "labeled_all_1046.pdb.csv 53 H2 contained in monosaccharide list shoud double check this\n",
      "labeled_all_1047.pdb.csv 54 H2 contained in monosaccharide list shoud double check this\n",
      "labeled_all_1049.pdb.csv 56 H2 contained in monosaccharide list shoud double check this\n",
      "labeled_all_1050.pdb.csv 58 H2 contained in monosaccharide list shoud double check this\n",
      "labeled_all_1051.pdb.csv 59 H2 contained in monosaccharide list shoud double check this\n",
      "labeled_all_1054.pdb.csv 62 H2 contained in monosaccharide list shoud double check this\n",
      "labeled_all_1056.pdb.csv 64 H2 contained in monosaccharide list shoud double check this\n",
      "labeled_all_1065.pdb.csv 74 H2 contained in monosaccharide list shoud double check this\n",
      "labeled_all_1067.pdb.csv 76 H2 contained in monosaccharide list shoud double check this\n",
      "labeled_all_1069.pdb.csv 78 H2 contained in monosaccharide list shoud double check this\n",
      "labeled_all_1073.pdb.csv 83 H2 contained in monosaccharide list shoud double check this\n",
      "labeled_all_1077.pdb.csv 87 H2 contained in monosaccharide list shoud double check this\n",
      "labeled_all_1079.pdb.csv 89 H2 contained in monosaccharide list shoud double check this\n",
      "labeled_all_1082.pdb.csv 93 H2 contained in monosaccharide list shoud double check this\n",
      "labeled_all_1086.pdb.csv 97 H2 contained in monosaccharide list shoud double check this\n",
      "labeled_all_1087.pdb.csv 98 H2 contained in monosaccharide list shoud double check this\n",
      "labeled_all_1092.pdb.csv 104 H2 contained in monosaccharide list shoud double check this\n",
      "labeled_all_1093.pdb.csv 105 H2 contained in monosaccharide list shoud double check this\n"
     ]
    },
    {
     "name": "stderr",
     "output_type": "stream",
     "text": [
      "  7%|▋         | 166/2399 [00:00<00:08, 267.96it/s]"
     ]
    },
    {
     "name": "stdout",
     "output_type": "stream",
     "text": [
      "labeled_all_1100.pdb.csv 113 H2 contained in monosaccharide list shoud double check this\n",
      "labeled_all_1104.pdb.csv 117 H2 contained in monosaccharide list shoud double check this\n",
      "labeled_all_1106.pdb.csv 119 H2 contained in monosaccharide list shoud double check this\n",
      "labeled_all_1109.pdb.csv 122 H2 contained in monosaccharide list shoud double check this\n",
      "labeled_all_111.pdb.csv 123 H2 contained in monosaccharide list shoud double check this\n",
      "labeled_all_1119.pdb.csv 133 H2 contained in monosaccharide list shoud double check this\n",
      "labeled_all_1131.pdb.csv 147 H2 contained in monosaccharide list shoud double check this\n",
      "labeled_all_1132.pdb.csv 148 H2 contained in monosaccharide list shoud double check this\n",
      "labeled_all_1134.pdb.csv 150 H2 contained in monosaccharide list shoud double check this\n",
      "labeled_all_1142.pdb.csv 159 H2 contained in monosaccharide list shoud double check this\n",
      "labeled_all_1144.pdb.csv 161 H2 contained in monosaccharide list shoud double check this\n",
      "labeled_all_1145.pdb.csv 162 H2 contained in monosaccharide list shoud double check this\n",
      "labeled_all_1146.pdb.csv 163 H2 contained in monosaccharide list shoud double check this\n"
     ]
    },
    {
     "name": "stderr",
     "output_type": "stream",
     "text": [
      "  9%|▉         | 220/2399 [00:00<00:08, 267.46it/s]"
     ]
    },
    {
     "name": "stdout",
     "output_type": "stream",
     "text": [
      "labeled_all_1157.pdb.csv 175 H2 contained in monosaccharide list shoud double check this\n",
      "labeled_all_1159.pdb.csv 177 H2 contained in monosaccharide list shoud double check this\n",
      "labeled_all_116.pdb.csv 178 H2 contained in monosaccharide list shoud double check this\n",
      "labeled_all_1161.pdb.csv 180 H2 contained in monosaccharide list shoud double check this\n",
      "labeled_all_1162.pdb.csv 181 H2 contained in monosaccharide list shoud double check this\n",
      "labeled_all_1165.pdb.csv 184 H2 contained in monosaccharide list shoud double check this\n",
      "labeled_all_1168.pdb.csv 187 H2 contained in monosaccharide list shoud double check this\n",
      "labeled_all_1173.pdb.csv 193 H2 contained in monosaccharide list shoud double check this\n",
      "labeled_all_1176.pdb.csv 196 H2 contained in monosaccharide list shoud double check this\n",
      "labeled_all_1177.pdb.csv 197 H2 contained in monosaccharide list shoud double check this\n",
      "labeled_all_1178.pdb.csv 198 H2 contained in monosaccharide list shoud double check this\n",
      "labeled_all_1180.pdb.csv 201 H2 contained in monosaccharide list shoud double check this\n",
      "labeled_all_1184.pdb.csv 205 H2 contained in monosaccharide list shoud double check this\n",
      "labeled_all_1185.pdb.csv 206 H2 contained in monosaccharide list shoud double check this\n",
      "labeled_all_1186.pdb.csv 207 H2 contained in monosaccharide list shoud double check this\n",
      "labeled_all_1188.pdb.csv 209 H2 contained in monosaccharide list shoud double check this\n",
      "labeled_all_1194.pdb.csv 216 H2 contained in monosaccharide list shoud double check this\n",
      "labeled_all_1196.pdb.csv 218 H2 contained in monosaccharide list shoud double check this\n",
      "labeled_all_1197.pdb.csv 219 H2 contained in monosaccharide list shoud double check this\n",
      "labeled_all_12.pdb.csv 222 H2 contained in monosaccharide list shoud double check this\n",
      "labeled_all_121.pdb.csv 234 H2 contained in monosaccharide list shoud double check this\n"
     ]
    },
    {
     "name": "stderr",
     "output_type": "stream",
     "text": [
      " 12%|█▏        | 277/2399 [00:01<00:07, 271.35it/s]"
     ]
    },
    {
     "name": "stdout",
     "output_type": "stream",
     "text": [
      "labeled_all_1214.pdb.csv 239 H2 contained in monosaccharide list shoud double check this\n",
      "labeled_all_1215.pdb.csv 240 H2 contained in monosaccharide list shoud double check this\n",
      "labeled_all_1222.pdb.csv 248 H2 contained in monosaccharide list shoud double check this\n",
      "labeled_all_1223.pdb.csv 249 H2 contained in monosaccharide list shoud double check this\n",
      "labeled_all_1231.pdb.csv 258 H2 contained in monosaccharide list shoud double check this\n",
      "labeled_all_1232.pdb.csv 259 H2 contained in monosaccharide list shoud double check this\n",
      "labeled_all_1238.pdb.csv 265 H2 contained in monosaccharide list shoud double check this\n",
      "labeled_all_1240.pdb.csv 268 H2 contained in monosaccharide list shoud double check this\n",
      "labeled_all_1242.pdb.csv 270 H2 contained in monosaccharide list shoud double check this\n",
      "labeled_all_1243.pdb.csv 271 H2 contained in monosaccharide list shoud double check this\n",
      "labeled_all_1245.pdb.csv 273 H2 contained in monosaccharide list shoud double check this\n",
      "labeled_all_1249.pdb.csv 277 H2 contained in monosaccharide list shoud double check this\n",
      "labeled_all_1259.pdb.csv 288 H2 contained in monosaccharide list shoud double check this\n",
      "labeled_all_1260.pdb.csv 290 H2 contained in monosaccharide list shoud double check this\n",
      "labeled_all_1261.pdb.csv 291 H2 contained in monosaccharide list shoud double check this\n",
      "labeled_all_1262.pdb.csv 292 H2 contained in monosaccharide list shoud double check this\n",
      "labeled_all_1264.pdb.csv 294 H2 contained in monosaccharide list shoud double check this\n"
     ]
    },
    {
     "name": "stderr",
     "output_type": "stream",
     "text": [
      " 14%|█▍        | 335/2399 [00:01<00:07, 280.00it/s]"
     ]
    },
    {
     "name": "stdout",
     "output_type": "stream",
     "text": [
      "labeled_all_1268.pdb.csv 298 H2 contained in monosaccharide list shoud double check this\n",
      "labeled_all_1269.pdb.csv 299 H2 contained in monosaccharide list shoud double check this\n",
      "labeled_all_127.pdb.csv 300 H2 contained in monosaccharide list shoud double check this\n",
      "labeled_all_1272.pdb.csv 303 H2 contained in monosaccharide list shoud double check this\n",
      "labeled_all_1277.pdb.csv 308 H2 contained in monosaccharide list shoud double check this\n",
      "labeled_all_1287.pdb.csv 319 H2 contained in monosaccharide list shoud double check this\n",
      "labeled_all_1289.pdb.csv 321 H2 contained in monosaccharide list shoud double check this\n",
      "labeled_all_1290.pdb.csv 323 H2 contained in monosaccharide list shoud double check this\n",
      "labeled_all_130.pdb.csv 334 H2 contained in monosaccharide list shoud double check this\n",
      "labeled_all_1316.pdb.csv 352 H2 contained in monosaccharide list shoud double check this\n",
      "labeled_all_1319.pdb.csv 355 H2 contained in monosaccharide list shoud double check this\n",
      "labeled_all_1320.pdb.csv 357 H2 contained in monosaccharide list shoud double check this\n"
     ]
    },
    {
     "name": "stderr",
     "output_type": "stream",
     "text": [
      " 16%|█▋        | 392/2399 [00:01<00:07, 267.12it/s]"
     ]
    },
    {
     "name": "stdout",
     "output_type": "stream",
     "text": [
      "labeled_all_1321.pdb.csv 358 H2 contained in monosaccharide list shoud double check this\n",
      "labeled_all_1322.pdb.csv 359 H2 contained in monosaccharide list shoud double check this\n",
      "labeled_all_1324.pdb.csv 361 H2 contained in monosaccharide list shoud double check this\n",
      "labeled_all_1328.pdb.csv 365 H2 contained in monosaccharide list shoud double check this\n",
      "labeled_all_1329.pdb.csv 366 H2 contained in monosaccharide list shoud double check this\n",
      "labeled_all_1330.pdb.csv 368 H2 contained in monosaccharide list shoud double check this\n",
      "labeled_all_1332.pdb.csv 370 H2 contained in monosaccharide list shoud double check this\n",
      "labeled_all_1333.pdb.csv 371 H2 contained in monosaccharide list shoud double check this\n",
      "labeled_all_1337.pdb.csv 375 H2 contained in monosaccharide list shoud double check this\n",
      "labeled_all_1340.pdb.csv 379 H2 contained in monosaccharide list shoud double check this\n",
      "labeled_all_1341.pdb.csv 380 H2 contained in monosaccharide list shoud double check this\n",
      "labeled_all_1343.pdb.csv 382 H2 contained in monosaccharide list shoud double check this\n",
      "labeled_all_1346.pdb.csv 385 H2 contained in monosaccharide list shoud double check this\n",
      "labeled_all_1347.pdb.csv 386 H2 contained in monosaccharide list shoud double check this\n",
      "labeled_all_1349.pdb.csv 388 H2 contained in monosaccharide list shoud double check this\n",
      "labeled_all_1355.pdb.csv 395 H2 contained in monosaccharide list shoud double check this\n",
      "labeled_all_1361.pdb.csv 402 H2 contained in monosaccharide list shoud double check this\n",
      "labeled_all_1366.pdb.csv 407 H2 contained in monosaccharide list shoud double check this\n"
     ]
    },
    {
     "name": "stderr",
     "output_type": "stream",
     "text": [
      " 19%|█▊        | 448/2399 [00:01<00:07, 270.56it/s]"
     ]
    },
    {
     "name": "stdout",
     "output_type": "stream",
     "text": [
      "labeled_all_1371.pdb.csv 413 H2 contained in monosaccharide list shoud double check this\n",
      "labeled_all_1377.pdb.csv 419 H2 contained in monosaccharide list shoud double check this\n",
      "labeled_all_1378.pdb.csv 420 H2 contained in monosaccharide list shoud double check this\n",
      "labeled_all_1386.pdb.csv 429 H2 contained in monosaccharide list shoud double check this\n",
      "labeled_all_1394.pdb.csv 438 H2 contained in monosaccharide list shoud double check this\n",
      "labeled_all_1398.pdb.csv 442 H2 contained in monosaccharide list shoud double check this\n",
      "labeled_all_1404.pdb.csv 450 H2 contained in monosaccharide list shoud double check this\n",
      "labeled_all_1416.pdb.csv 463 H2 contained in monosaccharide list shoud double check this\n",
      "labeled_all_1417.pdb.csv 464 H2 contained in monosaccharide list shoud double check this\n",
      "labeled_all_1421.pdb.csv 469 H2 contained in monosaccharide list shoud double check this\n"
     ]
    },
    {
     "name": "stderr",
     "output_type": "stream",
     "text": [
      " 21%|██        | 503/2399 [00:01<00:07, 259.94it/s]"
     ]
    },
    {
     "name": "stdout",
     "output_type": "stream",
     "text": [
      "labeled_all_1422.pdb.csv 470 H2 contained in monosaccharide list shoud double check this\n",
      "labeled_all_1425.pdb.csv 473 H2 contained in monosaccharide list shoud double check this\n",
      "labeled_all_1434.pdb.csv 483 H2 contained in monosaccharide list shoud double check this\n",
      "labeled_all_1436.pdb.csv 485 H2 contained in monosaccharide list shoud double check this\n",
      "labeled_all_144.pdb.csv 489 H2 contained in monosaccharide list shoud double check this\n",
      "labeled_all_1440.pdb.csv 490 H2 contained in monosaccharide list shoud double check this\n",
      "labeled_all_1441.pdb.csv 491 H2 contained in monosaccharide list shoud double check this\n",
      "labeled_all_1442.pdb.csv 492 H2 contained in monosaccharide list shoud double check this\n",
      "labeled_all_1445.pdb.csv 495 H2 contained in monosaccharide list shoud double check this\n",
      "labeled_all_1450.pdb.csv 501 H2 contained in monosaccharide list shoud double check this\n",
      "labeled_all_1454.pdb.csv 505 H2 contained in monosaccharide list shoud double check this\n",
      "labeled_all_1460.pdb.csv 512 H2 contained in monosaccharide list shoud double check this\n",
      "labeled_all_1461.pdb.csv 513 H2 contained in monosaccharide list shoud double check this\n"
     ]
    },
    {
     "name": "stderr",
     "output_type": "stream",
     "text": [
      " 23%|██▎       | 560/2399 [00:02<00:06, 268.28it/s]"
     ]
    },
    {
     "name": "stdout",
     "output_type": "stream",
     "text": [
      "labeled_all_1467.pdb.csv 519 H2 contained in monosaccharide list shoud double check this\n",
      "labeled_all_1474.pdb.csv 527 H2 contained in monosaccharide list shoud double check this\n",
      "labeled_all_1479.pdb.csv 532 H2 contained in monosaccharide list shoud double check this\n",
      "labeled_all_148.pdb.csv 533 H2 contained in monosaccharide list shoud double check this\n",
      "labeled_all_1485.pdb.csv 539 H2 contained in monosaccharide list shoud double check this\n",
      "labeled_all_1488.pdb.csv 542 H2 contained in monosaccharide list shoud double check this\n",
      "labeled_all_1489.pdb.csv 543 H2 contained in monosaccharide list shoud double check this\n",
      "labeled_all_1500.pdb.csv 557 H2 contained in monosaccharide list shoud double check this\n",
      "labeled_all_1502.pdb.csv 559 H2 contained in monosaccharide list shoud double check this\n",
      "labeled_all_1503.pdb.csv 560 H2 contained in monosaccharide list shoud double check this\n",
      "labeled_all_1505.pdb.csv 562 H2 contained in monosaccharide list shoud double check this\n",
      "labeled_all_1506.pdb.csv 563 H2 contained in monosaccharide list shoud double check this\n",
      "labeled_all_1511.pdb.csv 569 H2 contained in monosaccharide list shoud double check this\n",
      "labeled_all_1512.pdb.csv 570 H2 contained in monosaccharide list shoud double check this\n",
      "labeled_all_1513.pdb.csv 571 H2 contained in monosaccharide list shoud double check this\n",
      "labeled_all_1517.pdb.csv 575 H2 contained in monosaccharide list shoud double check this\n",
      "labeled_all_1519.pdb.csv 577 H2 contained in monosaccharide list shoud double check this\n"
     ]
    },
    {
     "name": "stderr",
     "output_type": "stream",
     "text": [
      " 27%|██▋       | 646/2399 [00:02<00:06, 274.93it/s]"
     ]
    },
    {
     "name": "stdout",
     "output_type": "stream",
     "text": [
      "labeled_all_1526.pdb.csv 585 H2 contained in monosaccharide list shoud double check this\n",
      "labeled_all_153.pdb.csv 589 H2 contained in monosaccharide list shoud double check this\n",
      "labeled_all_1532.pdb.csv 592 H2 contained in monosaccharide list shoud double check this\n",
      "labeled_all_1538.pdb.csv 598 H2 contained in monosaccharide list shoud double check this\n",
      "labeled_all_1540.pdb.csv 601 H2 contained in monosaccharide list shoud double check this\n",
      "labeled_all_1541.pdb.csv 602 H2 contained in monosaccharide list shoud double check this\n",
      "labeled_all_1543.pdb.csv 604 H2 contained in monosaccharide list shoud double check this\n",
      "labeled_all_1548.pdb.csv 609 H2 contained in monosaccharide list shoud double check this\n",
      "labeled_all_1549.pdb.csv 610 H2 contained in monosaccharide list shoud double check this\n",
      "labeled_all_155.pdb.csv 611 H2 contained in monosaccharide list shoud double check this\n",
      "labeled_all_1556.pdb.csv 618 H2 contained in monosaccharide list shoud double check this\n",
      "labeled_all_1557.pdb.csv 619 H2 contained in monosaccharide list shoud double check this\n",
      "labeled_all_156.pdb.csv 622 H2 contained in monosaccharide list shoud double check this\n",
      "labeled_all_1563.pdb.csv 626 H2 contained in monosaccharide list shoud double check this\n",
      "labeled_all_1567.pdb.csv 630 H2 contained in monosaccharide list shoud double check this\n",
      "labeled_all_1569.pdb.csv 632 H2 contained in monosaccharide list shoud double check this\n",
      "labeled_all_1570.pdb.csv 634 H2 contained in monosaccharide list shoud double check this\n"
     ]
    },
    {
     "name": "stderr",
     "output_type": "stream",
     "text": [
      "\r",
      " 28%|██▊       | 674/2399 [00:02<00:06, 270.09it/s]"
     ]
    },
    {
     "name": "stdout",
     "output_type": "stream",
     "text": [
      "labeled_all_1581.pdb.csv 646 H2 contained in monosaccharide list shoud double check this\n",
      "labeled_all_1593.pdb.csv 659 H2 contained in monosaccharide list shoud double check this\n",
      "labeled_all_1595.pdb.csv 661 H2 contained in monosaccharide list shoud double check this\n",
      "labeled_all_1605.pdb.csv 673 H2 contained in monosaccharide list shoud double check this\n",
      "labeled_all_1607.pdb.csv 675 H2 contained in monosaccharide list shoud double check this\n",
      "labeled_all_161.pdb.csv 678 H2 contained in monosaccharide list shoud double check this\n",
      "labeled_all_1621.pdb.csv 691 H2 contained in monosaccharide list shoud double check this\n",
      "labeled_all_1622.pdb.csv 692 H2 contained in monosaccharide list shoud double check this\n",
      "labeled_all_1625.pdb.csv 695 H2 contained in monosaccharide list shoud double check this\n",
      "labeled_all_1627.pdb.csv 697 H2 contained in monosaccharide list shoud double check this\n",
      "labeled_all_1628.pdb.csv 698 H2 contained in monosaccharide list shoud double check this\n"
     ]
    },
    {
     "name": "stderr",
     "output_type": "stream",
     "text": [
      " 31%|███       | 735/2399 [00:02<00:05, 286.96it/s]"
     ]
    },
    {
     "name": "stdout",
     "output_type": "stream",
     "text": [
      "labeled_all_1633.pdb.csv 704 H2 contained in monosaccharide list shoud double check this\n",
      "labeled_all_1635.pdb.csv 706 H2 contained in monosaccharide list shoud double check this\n",
      "labeled_all_1636.pdb.csv 707 H2 contained in monosaccharide list shoud double check this\n",
      "labeled_all_1651.pdb.csv 724 H2 contained in monosaccharide list shoud double check this\n",
      "labeled_all_1652.pdb.csv 725 H2 contained in monosaccharide list shoud double check this\n",
      "labeled_all_1660.pdb.csv 734 H2 contained in monosaccharide list shoud double check this\n",
      "labeled_all_1664.pdb.csv 738 H2 contained in monosaccharide list shoud double check this\n",
      "labeled_all_1665.pdb.csv 739 H2 contained in monosaccharide list shoud double check this\n",
      "labeled_all_1672.pdb.csv 747 H2 contained in monosaccharide list shoud double check this\n",
      "labeled_all_1673.pdb.csv 748 H2 contained in monosaccharide list shoud double check this\n",
      "labeled_all_168.pdb.csv 755 H2 contained in monosaccharide list shoud double check this\n",
      "labeled_all_1684.pdb.csv 760 H2 contained in monosaccharide list shoud double check this\n",
      "labeled_all_1685.pdb.csv 761 H2 contained in monosaccharide list shoud double check this\n"
     ]
    },
    {
     "name": "stderr",
     "output_type": "stream",
     "text": [
      " 33%|███▎      | 793/2399 [00:02<00:05, 278.16it/s]"
     ]
    },
    {
     "name": "stdout",
     "output_type": "stream",
     "text": [
      "labeled_all_1686.pdb.csv 762 H2 contained in monosaccharide list shoud double check this\n",
      "labeled_all_1687.pdb.csv 763 H2 contained in monosaccharide list shoud double check this\n",
      "labeled_all_1688.pdb.csv 764 H2 contained in monosaccharide list shoud double check this\n",
      "labeled_all_1692.pdb.csv 769 H2 contained in monosaccharide list shoud double check this\n",
      "labeled_all_1702.pdb.csv 780 H2 contained in monosaccharide list shoud double check this\n",
      "labeled_all_1707.pdb.csv 785 H2 contained in monosaccharide list shoud double check this\n",
      "labeled_all_1714.pdb.csv 793 H2 contained in monosaccharide list shoud double check this\n",
      "labeled_all_1723.pdb.csv 803 H2 contained in monosaccharide list shoud double check this\n",
      "labeled_all_1731.pdb.csv 812 H2 contained in monosaccharide list shoud double check this\n",
      "labeled_all_1733.pdb.csv 814 H2 contained in monosaccharide list shoud double check this\n",
      "labeled_all_174.pdb.csv 821 H2 contained in monosaccharide list shoud double check this\n",
      "labeled_all_1740.pdb.csv 822 H2 contained in monosaccharide list shoud double check this\n",
      "labeled_all_1741.pdb.csv 823 H2 contained in monosaccharide list shoud double check this\n"
     ]
    },
    {
     "name": "stderr",
     "output_type": "stream",
     "text": [
      " 37%|███▋      | 882/2399 [00:03<00:05, 283.39it/s]"
     ]
    },
    {
     "name": "stdout",
     "output_type": "stream",
     "text": [
      "labeled_all_1742.pdb.csv 824 H2 contained in monosaccharide list shoud double check this\n",
      "labeled_all_1743.pdb.csv 825 H2 contained in monosaccharide list shoud double check this\n",
      "labeled_all_1747.pdb.csv 829 H2 contained in monosaccharide list shoud double check this\n",
      "labeled_all_1748.pdb.csv 830 H2 contained in monosaccharide list shoud double check this\n",
      "labeled_all_1749.pdb.csv 831 H2 contained in monosaccharide list shoud double check this\n",
      "labeled_all_1752.pdb.csv 835 H2 contained in monosaccharide list shoud double check this\n",
      "labeled_all_1756.pdb.csv 839 H2 contained in monosaccharide list shoud double check this\n",
      "labeled_all_1758.pdb.csv 841 H2 contained in monosaccharide list shoud double check this\n",
      "labeled_all_1759.pdb.csv 842 H2 contained in monosaccharide list shoud double check this\n",
      "labeled_all_1760.pdb.csv 844 H2 contained in monosaccharide list shoud double check this\n",
      "labeled_all_1763.pdb.csv 847 H2 contained in monosaccharide list shoud double check this\n",
      "labeled_all_1765.pdb.csv 849 H2 contained in monosaccharide list shoud double check this\n",
      "labeled_all_1767.pdb.csv 851 H2 contained in monosaccharide list shoud double check this\n",
      "labeled_all_1769.pdb.csv 853 H2 contained in monosaccharide list shoud double check this\n",
      "labeled_all_1773.pdb.csv 858 H2 contained in monosaccharide list shoud double check this\n",
      "labeled_all_1777.pdb.csv 862 H2 contained in monosaccharide list shoud double check this\n",
      "labeled_all_1781.pdb.csv 867 H2 contained in monosaccharide list shoud double check this\n",
      "labeled_all_1784.pdb.csv 870 H2 contained in monosaccharide list shoud double check this\n",
      "labeled_all_1788.pdb.csv 874 H2 contained in monosaccharide list shoud double check this\n",
      "labeled_all_1791.pdb.csv 878 H2 contained in monosaccharide list shoud double check this\n",
      "labeled_all_1792.pdb.csv 879 H2 contained in monosaccharide list shoud double check this\n"
     ]
    },
    {
     "name": "stderr",
     "output_type": "stream",
     "text": [
      "\r",
      " 38%|███▊      | 911/2399 [00:03<00:05, 272.55it/s]"
     ]
    },
    {
     "name": "stdout",
     "output_type": "stream",
     "text": [
      "labeled_all_1795.pdb.csv 882 H2 contained in monosaccharide list shoud double check this\n",
      "labeled_all_1797.pdb.csv 884 H2 contained in monosaccharide list shoud double check this\n",
      "labeled_all_1798.pdb.csv 885 H2 contained in monosaccharide list shoud double check this\n",
      "labeled_all_18.pdb.csv 887 H2 contained in monosaccharide list shoud double check this\n",
      "labeled_all_180.pdb.csv 888 H2 contained in monosaccharide list shoud double check this\n",
      "labeled_all_1800.pdb.csv 889 H2 contained in monosaccharide list shoud double check this\n",
      "labeled_all_1803.pdb.csv 892 H2 contained in monosaccharide list shoud double check this\n",
      "labeled_all_1809.pdb.csv 898 H2 contained in monosaccharide list shoud double check this\n",
      "labeled_all_1824.pdb.csv 915 H2 contained in monosaccharide list shoud double check this\n",
      "labeled_all_1825.pdb.csv 916 H2 contained in monosaccharide list shoud double check this\n",
      "labeled_all_1830.pdb.csv 922 H2 contained in monosaccharide list shoud double check this\n",
      "labeled_all_1831.pdb.csv 923 H2 contained in monosaccharide list shoud double check this\n",
      "labeled_all_1834.pdb.csv 926 H2 contained in monosaccharide list shoud double check this\n",
      "labeled_all_1835.pdb.csv 927 H2 contained in monosaccharide list shoud double check this\n",
      "labeled_all_1836.pdb.csv 928 H2 contained in monosaccharide list shoud double check this\n",
      "labeled_all_1838.pdb.csv 930 H2 contained in monosaccharide list shoud double check this\n",
      "labeled_all_1840.pdb.csv 933 H2 contained in monosaccharide list shoud double check this\n"
     ]
    },
    {
     "name": "stderr",
     "output_type": "stream",
     "text": [
      " 41%|████▏     | 995/2399 [00:03<00:05, 272.00it/s]"
     ]
    },
    {
     "name": "stdout",
     "output_type": "stream",
     "text": [
      "labeled_all_1841.pdb.csv 934 H2 contained in monosaccharide list shoud double check this\n",
      "labeled_all_1844.pdb.csv 937 H2 contained in monosaccharide list shoud double check this\n",
      "labeled_all_1849.pdb.csv 942 H2 contained in monosaccharide list shoud double check this\n",
      "labeled_all_1850.pdb.csv 944 H2 contained in monosaccharide list shoud double check this\n",
      "labeled_all_1856.pdb.csv 950 H2 contained in monosaccharide list shoud double check this\n",
      "labeled_all_1857.pdb.csv 951 H2 contained in monosaccharide list shoud double check this\n",
      "labeled_all_1859.pdb.csv 953 H2 contained in monosaccharide list shoud double check this\n",
      "labeled_all_1862.pdb.csv 957 H2 contained in monosaccharide list shoud double check this\n",
      "labeled_all_1863.pdb.csv 958 H2 contained in monosaccharide list shoud double check this\n",
      "labeled_all_1864.pdb.csv 959 H2 contained in monosaccharide list shoud double check this\n",
      "labeled_all_1869.pdb.csv 964 H2 contained in monosaccharide list shoud double check this\n",
      "labeled_all_1870.pdb.csv 966 H2 contained in monosaccharide list shoud double check this\n",
      "labeled_all_1873.pdb.csv 969 H2 contained in monosaccharide list shoud double check this\n",
      "labeled_all_1876.pdb.csv 972 H2 contained in monosaccharide list shoud double check this\n",
      "labeled_all_1882.pdb.csv 979 H2 contained in monosaccharide list shoud double check this\n",
      "labeled_all_1883.pdb.csv 980 H2 contained in monosaccharide list shoud double check this\n",
      "labeled_all_1887.pdb.csv 984 H2 contained in monosaccharide list shoud double check this\n",
      "labeled_all_1890.pdb.csv 988 H2 contained in monosaccharide list shoud double check this\n",
      "labeled_all_1894.pdb.csv 992 H2 contained in monosaccharide list shoud double check this\n"
     ]
    },
    {
     "name": "stderr",
     "output_type": "stream",
     "text": [
      " 44%|████▍     | 1053/2399 [00:03<00:04, 279.61it/s]"
     ]
    },
    {
     "name": "stdout",
     "output_type": "stream",
     "text": [
      "labeled_all_1900.pdb.csv 1000 H2 contained in monosaccharide list shoud double check this\n",
      "labeled_all_1910.pdb.csv 1011 H2 contained in monosaccharide list shoud double check this\n",
      "labeled_all_1916.pdb.csv 1017 H2 contained in monosaccharide list shoud double check this\n",
      "labeled_all_1917.pdb.csv 1018 H2 contained in monosaccharide list shoud double check this\n",
      "labeled_all_1918.pdb.csv 1019 H2 contained in monosaccharide list shoud double check this\n",
      "labeled_all_1925.pdb.csv 1027 H2 contained in monosaccharide list shoud double check this\n",
      "labeled_all_1927.pdb.csv 1029 H2 contained in monosaccharide list shoud double check this\n",
      "labeled_all_1932.pdb.csv 1035 H2 contained in monosaccharide list shoud double check this\n",
      "labeled_all_1934.pdb.csv 1037 H2 contained in monosaccharide list shoud double check this\n",
      "labeled_all_1935.pdb.csv 1038 H2 contained in monosaccharide list shoud double check this\n",
      "labeled_all_1937.pdb.csv 1040 H2 contained in monosaccharide list shoud double check this\n",
      "labeled_all_1945.pdb.csv 1049 H2 contained in monosaccharide list shoud double check this\n"
     ]
    },
    {
     "name": "stderr",
     "output_type": "stream",
     "text": [
      "\r",
      " 45%|████▌     | 1081/2399 [00:03<00:04, 274.03it/s]"
     ]
    },
    {
     "name": "stdout",
     "output_type": "stream",
     "text": [
      "labeled_all_1955.pdb.csv 1060 H2 contained in monosaccharide list shoud double check this\n",
      "labeled_all_1956.pdb.csv 1061 H2 contained in monosaccharide list shoud double check this\n",
      "labeled_all_1957.pdb.csv 1062 H2 contained in monosaccharide list shoud double check this\n",
      "labeled_all_1959.pdb.csv 1064 H2 contained in monosaccharide list shoud double check this\n",
      "labeled_all_1963.pdb.csv 1069 H2 contained in monosaccharide list shoud double check this\n",
      "labeled_all_1964.pdb.csv 1070 H2 contained in monosaccharide list shoud double check this\n",
      "labeled_all_1967.pdb.csv 1073 H2 contained in monosaccharide list shoud double check this\n",
      "labeled_all_1970.pdb.csv 1077 H2 contained in monosaccharide list shoud double check this\n",
      "labeled_all_1971.pdb.csv 1078 H2 contained in monosaccharide list shoud double check this\n",
      "labeled_all_1973.pdb.csv 1080 H2 contained in monosaccharide list shoud double check this\n",
      "labeled_all_1974.pdb.csv 1081 H2 contained in monosaccharide list shoud double check this\n",
      "labeled_all_1977.pdb.csv 1084 H2 contained in monosaccharide list shoud double check this\n",
      "labeled_all_1978.pdb.csv 1085 H2 contained in monosaccharide list shoud double check this\n",
      "labeled_all_1983.pdb.csv 1091 H2 contained in monosaccharide list shoud double check this\n",
      "labeled_all_1990.pdb.csv 1099 H2 contained in monosaccharide list shoud double check this\n",
      "labeled_all_1991.pdb.csv 1100 H2 contained in monosaccharide list shoud double check this\n",
      "labeled_all_1993.pdb.csv 1102 H2 contained in monosaccharide list shoud double check this\n",
      "labeled_all_1996.pdb.csv 1105 H2 contained in monosaccharide list shoud double check this\n"
     ]
    },
    {
     "name": "stderr",
     "output_type": "stream",
     "text": [
      " 49%|████▉     | 1186/2399 [00:04<00:03, 323.14it/s]"
     ]
    },
    {
     "name": "stdout",
     "output_type": "stream",
     "text": [
      "labeled_all_2000.pdb.csv 1112 H2 contained in monosaccharide list shoud double check this\n",
      "labeled_all_2002.pdb.csv 1114 H2 contained in monosaccharide list shoud double check this\n",
      "labeled_all_2005.pdb.csv 1117 H2 contained in monosaccharide list shoud double check this\n",
      "labeled_all_201.pdb.csv 1122 H2 contained in monosaccharide list shoud double check this\n",
      "labeled_all_2018.pdb.csv 1131 H2 contained in monosaccharide list shoud double check this\n",
      "labeled_all_2020.pdb.csv 1134 H2 contained in monosaccharide list shoud double check this\n",
      "labeled_all_2024.pdb.csv 1138 H2 contained in monosaccharide list shoud double check this\n",
      "labeled_all_2025.pdb.csv 1139 H2 contained in monosaccharide list shoud double check this\n",
      "labeled_all_2030.pdb.csv 1145 H2 contained in monosaccharide list shoud double check this\n",
      "labeled_all_2037.pdb.csv 1152 H2 contained in monosaccharide list shoud double check this\n",
      "labeled_all_204.pdb.csv 1155 H2 contained in monosaccharide list shoud double check this\n",
      "labeled_all_2043.pdb.csv 1159 H2 contained in monosaccharide list shoud double check this\n",
      "labeled_all_2063.pdb.csv 1179 H2 contained in monosaccharide list shoud double check this\n",
      "labeled_all_2065.pdb.csv 1181 H2 contained in monosaccharide list shoud double check this\n",
      "labeled_all_2066.pdb.csv 1182 H2 contained in monosaccharide list shoud double check this\n"
     ]
    },
    {
     "name": "stderr",
     "output_type": "stream",
     "text": [
      " 53%|█████▎    | 1262/2399 [00:04<00:03, 350.79it/s]"
     ]
    },
    {
     "name": "stdout",
     "output_type": "stream",
     "text": [
      "labeled_all_2071.pdb.csv 1188 H2 contained in monosaccharide list shoud double check this\n",
      "labeled_all_2079.pdb.csv 1195 H2 contained in monosaccharide list shoud double check this\n",
      "labeled_all_2084.pdb.csv 1201 H2 contained in monosaccharide list shoud double check this\n",
      "labeled_all_2087.pdb.csv 1204 H2 contained in monosaccharide list shoud double check this\n",
      "labeled_all_209.pdb.csv 1207 H2 contained in monosaccharide list shoud double check this\n",
      "labeled_all_2103.pdb.csv 1222 H2 contained in monosaccharide list shoud double check this\n",
      "labeled_all_2107.pdb.csv 1226 H2 contained in monosaccharide list shoud double check this\n",
      "labeled_all_2115.pdb.csv 1235 H2 contained in monosaccharide list shoud double check this\n",
      "labeled_all_2121.pdb.csv 1242 H2 contained in monosaccharide list shoud double check this\n",
      "labeled_all_2126.pdb.csv 1244 H2 contained in monosaccharide list shoud double check this\n",
      "labeled_all_213.pdb.csv 1248 H2 contained in monosaccharide list shoud double check this\n",
      "labeled_all_2130.pdb.csv 1249 H2 contained in monosaccharide list shoud double check this\n",
      "labeled_all_2133.pdb.csv 1252 H2 contained in monosaccharide list shoud double check this\n",
      "labeled_all_2136.pdb.csv 1254 H2 contained in monosaccharide list shoud double check this\n",
      "labeled_all_2137.pdb.csv 1255 H2 contained in monosaccharide list shoud double check this\n",
      "labeled_all_2143.pdb.csv 1261 H2 contained in monosaccharide list shoud double check this\n"
     ]
    },
    {
     "name": "stderr",
     "output_type": "stream",
     "text": [
      " 56%|█████▌    | 1335/2399 [00:04<00:03, 336.50it/s]"
     ]
    },
    {
     "name": "stdout",
     "output_type": "stream",
     "text": [
      "labeled_all_215.pdb.csv 1268 H2 contained in monosaccharide list shoud double check this\n",
      "labeled_all_2164.pdb.csv 1284 H2 contained in monosaccharide list shoud double check this\n",
      "labeled_all_2165.pdb.csv 1285 H2 contained in monosaccharide list shoud double check this\n",
      "labeled_all_2183.pdb.csv 1305 H2 contained in monosaccharide list shoud double check this\n",
      "labeled_all_2185.pdb.csv 1307 H2 contained in monosaccharide list shoud double check this\n"
     ]
    },
    {
     "name": "stderr",
     "output_type": "stream",
     "text": [
      "\r",
      " 57%|█████▋    | 1369/2399 [00:04<00:04, 232.39it/s]"
     ]
    },
    {
     "name": "stdout",
     "output_type": "stream",
     "text": [
      "labeled_all_2219.pdb.csv 1345 H2 contained in monosaccharide list shoud double check this\n",
      "labeled_all_2227.pdb.csv 1354 H2 contained in monosaccharide list shoud double check this\n",
      "labeled_all_2242.pdb.csv 1371 H2 contained in monosaccharide list shoud double check this\n"
     ]
    },
    {
     "name": "stderr",
     "output_type": "stream",
     "text": [
      "\r",
      " 58%|█████▊    | 1397/2399 [00:05<00:05, 195.36it/s]"
     ]
    },
    {
     "name": "stdout",
     "output_type": "stream",
     "text": [
      "labeled_all_2249.pdb.csv 1378 H2 contained in monosaccharide list shoud double check this\n",
      "labeled_all_226.pdb.csv 1390 H2 contained in monosaccharide list shoud double check this\n"
     ]
    },
    {
     "name": "stderr",
     "output_type": "stream",
     "text": [
      " 60%|██████    | 1442/2399 [00:05<00:05, 160.47it/s]"
     ]
    },
    {
     "name": "stdout",
     "output_type": "stream",
     "text": [
      "labeled_all_2288.pdb.csv 1420 H2 contained in monosaccharide list shoud double check this\n",
      "labeled_all_2300.pdb.csv 1435 H2 contained in monosaccharide list shoud double check this\n",
      "labeled_all_2305.pdb.csv 1440 H2 contained in monosaccharide list shoud double check this\n"
     ]
    },
    {
     "name": "stderr",
     "output_type": "stream",
     "text": [
      "\r",
      " 61%|██████    | 1460/2399 [00:05<00:06, 148.10it/s]"
     ]
    },
    {
     "name": "stdout",
     "output_type": "stream",
     "text": [
      "labeled_all_231.pdb.csv 1445 H2 contained in monosaccharide list shoud double check this\n",
      "labeled_all_2325.pdb.csv 1461 H2 contained in monosaccharide list shoud double check this\n",
      "labeled_all_2331.pdb.csv 1468 H2 contained in monosaccharide list shoud double check this\n"
     ]
    },
    {
     "name": "stderr",
     "output_type": "stream",
     "text": [
      " 62%|██████▏   | 1492/2399 [00:05<00:06, 136.53it/s]"
     ]
    },
    {
     "name": "stdout",
     "output_type": "stream",
     "text": [
      "labeled_all_2332.pdb.csv 1469 H2 contained in monosaccharide list shoud double check this\n",
      "labeled_all_2334.pdb.csv 1471 H2 contained in monosaccharide list shoud double check this\n",
      "labeled_all_2336.pdb.csv 1473 H2 contained in monosaccharide list shoud double check this\n",
      "labeled_all_2345.pdb.csv 1483 H2 contained in monosaccharide list shoud double check this\n",
      "labeled_all_2355.pdb.csv 1494 H2 contained in monosaccharide list shoud double check this\n"
     ]
    },
    {
     "name": "stderr",
     "output_type": "stream",
     "text": [
      " 63%|██████▎   | 1521/2399 [00:06<00:06, 126.66it/s]"
     ]
    },
    {
     "name": "stdout",
     "output_type": "stream",
     "text": [
      "labeled_all_2360.pdb.csv 1500 H2 contained in monosaccharide list shoud double check this\n",
      "labeled_all_2361.pdb.csv 1501 H2 contained in monosaccharide list shoud double check this\n",
      "labeled_all_2363.pdb.csv 1503 H2 contained in monosaccharide list shoud double check this\n",
      "labeled_all_237.pdb.csv 1510 H2 contained in monosaccharide list shoud double check this\n"
     ]
    },
    {
     "name": "stderr",
     "output_type": "stream",
     "text": [
      "\r",
      " 64%|██████▍   | 1534/2399 [00:06<00:06, 125.91it/s]"
     ]
    },
    {
     "name": "stdout",
     "output_type": "stream",
     "text": [
      "labeled_all_2382.pdb.csv 1524 H2 contained in monosaccharide list shoud double check this\n",
      "labeled_all_2385.pdb.csv 1527 H2 contained in monosaccharide list shoud double check this\n",
      "labeled_all_239.pdb.csv 1531 H2 contained in monosaccharide list shoud double check this\n",
      "labeled_all_2392.pdb.csv 1534 H2 contained in monosaccharide list shoud double check this\n",
      "labeled_all_2395.pdb.csv 1537 H2 contained in monosaccharide list shoud double check this\n",
      "labeled_all_2397.pdb.csv 1539 H2 contained in monosaccharide list shoud double check this\n",
      "labeled_all_24.pdb.csv 1542 H2 contained in monosaccharide list shoud double check this\n",
      "labeled_all_2401.pdb.csv 1545 H2 contained in monosaccharide list shoud double check this\n",
      "labeled_all_2402.pdb.csv 1546 H2 contained in monosaccharide list shoud double check this\n"
     ]
    },
    {
     "name": "stderr",
     "output_type": "stream",
     "text": [
      " 66%|██████▌   | 1573/2399 [00:06<00:06, 121.42it/s]"
     ]
    },
    {
     "name": "stdout",
     "output_type": "stream",
     "text": [
      "labeled_all_2403.pdb.csv 1547 H2 contained in monosaccharide list shoud double check this\n",
      "labeled_all_2407.pdb.csv 1551 H2 contained in monosaccharide list shoud double check this\n",
      "labeled_all_2410.pdb.csv 1555 H2 contained in monosaccharide list shoud double check this\n",
      "labeled_all_251.pdb.csv 1572 H2 contained in monosaccharide list shoud double check this\n"
     ]
    },
    {
     "name": "stderr",
     "output_type": "stream",
     "text": [
      "\r",
      " 66%|██████▌   | 1586/2399 [00:06<00:06, 121.86it/s]"
     ]
    },
    {
     "name": "stdout",
     "output_type": "stream",
     "text": [
      "labeled_all_254.pdb.csv 1575 H2 contained in monosaccharide list shoud double check this\n",
      "labeled_all_257.pdb.csv 1578 H2 contained in monosaccharide list shoud double check this\n",
      "labeled_all_263.pdb.csv 1585 H2 contained in monosaccharide list shoud double check this\n",
      "labeled_all_267.pdb.csv 1589 H2 contained in monosaccharide list shoud double check this\n",
      "labeled_all_269.pdb.csv 1591 H2 contained in monosaccharide list shoud double check this\n",
      "labeled_all_271.pdb.csv 1594 H2 contained in monosaccharide list shoud double check this\n"
     ]
    },
    {
     "name": "stderr",
     "output_type": "stream",
     "text": [
      " 67%|██████▋   | 1612/2399 [00:06<00:06, 124.28it/s]"
     ]
    },
    {
     "name": "stdout",
     "output_type": "stream",
     "text": [
      "labeled_all_275.pdb.csv 1598 H2 contained in monosaccharide list shoud double check this\n",
      "labeled_all_283.pdb.csv 1607 H2 contained in monosaccharide list shoud double check this\n"
     ]
    },
    {
     "name": "stderr",
     "output_type": "stream",
     "text": [
      " 68%|██████▊   | 1638/2399 [00:07<00:06, 123.09it/s]"
     ]
    },
    {
     "name": "stdout",
     "output_type": "stream",
     "text": [
      "labeled_all_301.pdb.csv 1628 H2 contained in monosaccharide list shoud double check this\n",
      "labeled_all_305.pdb.csv 1632 H2 contained in monosaccharide list shoud double check this\n",
      "labeled_all_312.pdb.csv 1640 H2 contained in monosaccharide list shoud double check this\n",
      "labeled_all_314.pdb.csv 1642 H2 contained in monosaccharide list shoud double check this\n",
      "labeled_all_315.pdb.csv 1643 H2 contained in monosaccharide list shoud double check this\n"
     ]
    },
    {
     "name": "stderr",
     "output_type": "stream",
     "text": [
      " 70%|██████▉   | 1677/2399 [00:07<00:06, 119.47it/s]"
     ]
    },
    {
     "name": "stdout",
     "output_type": "stream",
     "text": [
      "labeled_all_326.pdb.csv 1655 H2 contained in monosaccharide list shoud double check this\n",
      "labeled_all_330.pdb.csv 1660 H2 contained in monosaccharide list shoud double check this\n",
      "labeled_all_337.pdb.csv 1667 H2 contained in monosaccharide list shoud double check this\n",
      "labeled_all_338.pdb.csv 1668 H2 contained in monosaccharide list shoud double check this\n",
      "labeled_all_340.pdb.csv 1671 H2 contained in monosaccharide list shoud double check this\n",
      "labeled_all_342.pdb.csv 1673 H2 contained in monosaccharide list shoud double check this\n",
      "labeled_all_344.pdb.csv 1675 H2 contained in monosaccharide list shoud double check this\n"
     ]
    },
    {
     "name": "stderr",
     "output_type": "stream",
     "text": [
      " 71%|███████   | 1702/2399 [00:07<00:05, 118.36it/s]"
     ]
    },
    {
     "name": "stdout",
     "output_type": "stream",
     "text": [
      "labeled_all_357.pdb.csv 1689 H2 contained in monosaccharide list shoud double check this\n",
      "labeled_all_358.pdb.csv 1690 H2 contained in monosaccharide list shoud double check this\n",
      "labeled_all_36.pdb.csv 1692 H2 contained in monosaccharide list shoud double check this\n",
      "labeled_all_360.pdb.csv 1693 H2 contained in monosaccharide list shoud double check this\n",
      "labeled_all_363.pdb.csv 1696 H2 contained in monosaccharide list shoud double check this\n",
      "labeled_all_364.pdb.csv 1697 H2 contained in monosaccharide list shoud double check this\n",
      "labeled_all_367.pdb.csv 1700 H2 contained in monosaccharide list shoud double check this\n",
      "labeled_all_370.pdb.csv 1704 H2 contained in monosaccharide list shoud double check this\n",
      "labeled_all_376.pdb.csv 1710 H2 contained in monosaccharide list shoud double check this\n"
     ]
    },
    {
     "name": "stderr",
     "output_type": "stream",
     "text": [
      " 73%|███████▎  | 1741/2399 [00:08<00:05, 124.22it/s]"
     ]
    },
    {
     "name": "stdout",
     "output_type": "stream",
     "text": [
      "labeled_all_383.pdb.csv 1718 H2 contained in monosaccharide list shoud double check this\n",
      "labeled_all_396.pdb.csv 1732 H2 contained in monosaccharide list shoud double check this\n",
      "labeled_all_40.pdb.csv 1737 H2 contained in monosaccharide list shoud double check this\n"
     ]
    },
    {
     "name": "stderr",
     "output_type": "stream",
     "text": [
      " 74%|███████▎  | 1767/2399 [00:08<00:05, 123.89it/s]"
     ]
    },
    {
     "name": "stdout",
     "output_type": "stream",
     "text": [
      "labeled_all_409.pdb.csv 1746 H2 contained in monosaccharide list shoud double check this\n",
      "labeled_all_412.pdb.csv 1750 H2 contained in monosaccharide list shoud double check this\n",
      "labeled_all_428.pdb.csv 1767 H2 contained in monosaccharide list shoud double check this\n",
      "labeled_all_431.pdb.csv 1771 H2 contained in monosaccharide list shoud double check this\n"
     ]
    },
    {
     "name": "stderr",
     "output_type": "stream",
     "text": [
      " 75%|███████▍  | 1793/2399 [00:08<00:04, 123.37it/s]"
     ]
    },
    {
     "name": "stdout",
     "output_type": "stream",
     "text": [
      "labeled_all_433.pdb.csv 1773 H2 contained in monosaccharide list shoud double check this\n",
      "labeled_all_437.pdb.csv 1777 H2 contained in monosaccharide list shoud double check this\n",
      "labeled_all_445.pdb.csv 1786 H2 contained in monosaccharide list shoud double check this\n",
      "labeled_all_45.pdb.csv 1791 H2 contained in monosaccharide list shoud double check this\n",
      "labeled_all_452.pdb.csv 1794 H2 contained in monosaccharide list shoud double check this\n",
      "labeled_all_453.pdb.csv 1795 H2 contained in monosaccharide list shoud double check this\n"
     ]
    },
    {
     "name": "stderr",
     "output_type": "stream",
     "text": [
      " 76%|███████▌  | 1819/2399 [00:08<00:04, 122.43it/s]"
     ]
    },
    {
     "name": "stdout",
     "output_type": "stream",
     "text": [
      "labeled_all_457.pdb.csv 1799 H2 contained in monosaccharide list shoud double check this\n",
      "labeled_all_459.pdb.csv 1801 H2 contained in monosaccharide list shoud double check this\n",
      "labeled_all_461.pdb.csv 1804 H2 contained in monosaccharide list shoud double check this\n",
      "labeled_all_462.pdb.csv 1805 H2 contained in monosaccharide list shoud double check this\n",
      "labeled_all_468.pdb.csv 1811 H2 contained in monosaccharide list shoud double check this\n",
      "labeled_all_47.pdb.csv 1813 H2 contained in monosaccharide list shoud double check this\n",
      "labeled_all_472.pdb.csv 1816 H2 contained in monosaccharide list shoud double check this\n",
      "labeled_all_474.pdb.csv 1818 H2 contained in monosaccharide list shoud double check this\n",
      "labeled_all_476.pdb.csv 1820 H2 contained in monosaccharide list shoud double check this\n"
     ]
    },
    {
     "name": "stderr",
     "output_type": "stream",
     "text": [
      " 77%|███████▋  | 1845/2399 [00:08<00:04, 121.11it/s]"
     ]
    },
    {
     "name": "stdout",
     "output_type": "stream",
     "text": [
      "labeled_all_484.pdb.csv 1829 H2 contained in monosaccharide list shoud double check this\n",
      "labeled_all_49.pdb.csv 1835 H2 contained in monosaccharide list shoud double check this\n",
      "labeled_all_492.pdb.csv 1838 H2 contained in monosaccharide list shoud double check this\n",
      "labeled_all_496.pdb.csv 1842 H2 contained in monosaccharide list shoud double check this\n"
     ]
    },
    {
     "name": "stderr",
     "output_type": "stream",
     "text": [
      " 79%|███████▊  | 1884/2399 [00:09<00:04, 120.74it/s]"
     ]
    },
    {
     "name": "stdout",
     "output_type": "stream",
     "text": [
      "labeled_all_515.pdb.csv 1864 H2 contained in monosaccharide list shoud double check this\n",
      "labeled_all_522.pdb.csv 1871 H2 contained in monosaccharide list shoud double check this\n",
      "labeled_all_523.pdb.csv 1872 H2 contained in monosaccharide list shoud double check this\n",
      "labeled_all_525.pdb.csv 1874 H2 contained in monosaccharide list shoud double check this\n",
      "labeled_all_53.pdb.csv 1879 H2 contained in monosaccharide list shoud double check this\n",
      "labeled_all_537.pdb.csv 1887 H2 contained in monosaccharide list shoud double check this\n",
      "labeled_all_538.pdb.csv 1888 H2 contained in monosaccharide list shoud double check this\n"
     ]
    },
    {
     "name": "stderr",
     "output_type": "stream",
     "text": [
      " 80%|███████▉  | 1910/2399 [00:09<00:04, 120.41it/s]"
     ]
    },
    {
     "name": "stdout",
     "output_type": "stream",
     "text": [
      "labeled_all_548.pdb.csv 1899 H2 contained in monosaccharide list shoud double check this\n",
      "labeled_all_552.pdb.csv 1903 H2 contained in monosaccharide list shoud double check this\n",
      "labeled_all_553.pdb.csv 1904 H2 contained in monosaccharide list shoud double check this\n",
      "labeled_all_556.pdb.csv 1907 H2 contained in monosaccharide list shoud double check this\n",
      "labeled_all_562.pdb.csv 1914 H2 contained in monosaccharide list shoud double check this\n"
     ]
    },
    {
     "name": "stderr",
     "output_type": "stream",
     "text": [
      " 81%|████████  | 1936/2399 [00:09<00:03, 119.96it/s]"
     ]
    },
    {
     "name": "stdout",
     "output_type": "stream",
     "text": [
      "labeled_all_570.pdb.csv 1923 H2 contained in monosaccharide list shoud double check this\n",
      "labeled_all_577.pdb.csv 1930 H2 contained in monosaccharide list shoud double check this\n",
      "labeled_all_58.pdb.csv 1933 H2 contained in monosaccharide list shoud double check this\n",
      "labeled_all_580.pdb.csv 1934 H2 contained in monosaccharide list shoud double check this\n",
      "labeled_all_582.pdb.csv 1936 H2 contained in monosaccharide list shoud double check this\n",
      "labeled_all_589.pdb.csv 1943 H2 contained in monosaccharide list shoud double check this\n",
      "labeled_all_590.pdb.csv 1945 H2 contained in monosaccharide list shoud double check this\n"
     ]
    },
    {
     "name": "stderr",
     "output_type": "stream",
     "text": [
      " 82%|████████▏ | 1960/2399 [00:09<00:03, 114.33it/s]"
     ]
    },
    {
     "name": "stdout",
     "output_type": "stream",
     "text": [
      "labeled_all_592.pdb.csv 1947 H2 contained in monosaccharide list shoud double check this\n",
      "labeled_all_595.pdb.csv 1950 H2 contained in monosaccharide list shoud double check this\n",
      "labeled_all_597.pdb.csv 1952 H2 contained in monosaccharide list shoud double check this\n",
      "labeled_all_598.pdb.csv 1953 H2 contained in monosaccharide list shoud double check this\n",
      "labeled_all_602.pdb.csv 1959 H2 contained in monosaccharide list shoud double check this\n",
      "labeled_all_610.pdb.csv 1968 H2 contained in monosaccharide list shoud double check this\n",
      "labeled_all_612.pdb.csv 1970 H2 contained in monosaccharide list shoud double check this\n"
     ]
    },
    {
     "name": "stderr",
     "output_type": "stream",
     "text": [
      " 83%|████████▎ | 1984/2399 [00:10<00:03, 110.92it/s]"
     ]
    },
    {
     "name": "stdout",
     "output_type": "stream",
     "text": [
      "labeled_all_613.pdb.csv 1971 H2 contained in monosaccharide list shoud double check this\n",
      "labeled_all_615.pdb.csv 1973 H2 contained in monosaccharide list shoud double check this\n",
      "labeled_all_617.pdb.csv 1975 H2 contained in monosaccharide list shoud double check this\n",
      "labeled_all_618.pdb.csv 1976 H2 contained in monosaccharide list shoud double check this\n",
      "labeled_all_621.pdb.csv 1980 H2 contained in monosaccharide list shoud double check this\n",
      "labeled_all_622.pdb.csv 1981 H2 contained in monosaccharide list shoud double check this\n",
      "labeled_all_623.pdb.csv 1982 H2 contained in monosaccharide list shoud double check this\n",
      "labeled_all_625.pdb.csv 1984 H2 contained in monosaccharide list shoud double check this\n",
      "labeled_all_630.pdb.csv 1990 H2 contained in monosaccharide list shoud double check this\n",
      "labeled_all_631.pdb.csv 1991 H2 contained in monosaccharide list shoud double check this\n",
      "labeled_all_633.pdb.csv 1993 H2 contained in monosaccharide list shoud double check this\n"
     ]
    },
    {
     "name": "stderr",
     "output_type": "stream",
     "text": [
      " 84%|████████▎ | 2008/2399 [00:10<00:03, 112.59it/s]"
     ]
    },
    {
     "name": "stdout",
     "output_type": "stream",
     "text": [
      "labeled_all_634.pdb.csv 1994 H2 contained in monosaccharide list shoud double check this\n",
      "labeled_all_635.pdb.csv 1995 H2 contained in monosaccharide list shoud double check this\n",
      "labeled_all_637.pdb.csv 1997 H2 contained in monosaccharide list shoud double check this\n",
      "labeled_all_639.pdb.csv 1999 H2 contained in monosaccharide list shoud double check this\n",
      "labeled_all_641.pdb.csv 2002 H2 contained in monosaccharide list shoud double check this\n",
      "labeled_all_644.pdb.csv 2005 H2 contained in monosaccharide list shoud double check this\n",
      "labeled_all_654.pdb.csv 2016 H2 contained in monosaccharide list shoud double check this\n"
     ]
    },
    {
     "name": "stderr",
     "output_type": "stream",
     "text": [
      " 85%|████████▍ | 2032/2399 [00:10<00:03, 111.15it/s]"
     ]
    },
    {
     "name": "stdout",
     "output_type": "stream",
     "text": [
      "labeled_all_656.pdb.csv 2018 H2 contained in monosaccharide list shoud double check this\n",
      "labeled_all_658.pdb.csv 2020 H2 contained in monosaccharide list shoud double check this\n",
      "labeled_all_661.pdb.csv 2024 H2 contained in monosaccharide list shoud double check this\n",
      "labeled_all_664.pdb.csv 2027 H2 contained in monosaccharide list shoud double check this\n",
      "labeled_all_667.pdb.csv 2030 H2 contained in monosaccharide list shoud double check this\n",
      "labeled_all_672.pdb.csv 2036 H2 contained in monosaccharide list shoud double check this\n",
      "labeled_all_676.pdb.csv 2040 H2 contained in monosaccharide list shoud double check this\n",
      "labeled_all_677.pdb.csv 2041 H2 contained in monosaccharide list shoud double check this\n"
     ]
    },
    {
     "name": "stderr",
     "output_type": "stream",
     "text": [
      " 86%|████████▌ | 2056/2399 [00:10<00:03, 110.67it/s]"
     ]
    },
    {
     "name": "stdout",
     "output_type": "stream",
     "text": [
      "labeled_all_680.pdb.csv 2045 H2 contained in monosaccharide list shoud double check this\n",
      "labeled_all_682.pdb.csv 2047 H2 contained in monosaccharide list shoud double check this\n",
      "labeled_all_686.pdb.csv 2051 H2 contained in monosaccharide list shoud double check this\n",
      "labeled_all_69.pdb.csv 2055 H2 contained in monosaccharide list shoud double check this\n",
      "labeled_all_693.pdb.csv 2059 H2 contained in monosaccharide list shoud double check this\n",
      "labeled_all_699.pdb.csv 2065 H2 contained in monosaccharide list shoud double check this\n"
     ]
    },
    {
     "name": "stderr",
     "output_type": "stream",
     "text": [
      " 88%|████████▊ | 2104/2399 [00:11<00:02, 112.60it/s]"
     ]
    },
    {
     "name": "stdout",
     "output_type": "stream",
     "text": [
      "labeled_all_715.pdb.csv 2084 H2 contained in monosaccharide list shoud double check this\n",
      "labeled_all_717.pdb.csv 2086 H2 contained in monosaccharide list shoud double check this\n",
      "labeled_all_719.pdb.csv 2088 H2 contained in monosaccharide list shoud double check this\n",
      "labeled_all_72.pdb.csv 2089 H2 contained in monosaccharide list shoud double check this\n",
      "labeled_all_724.pdb.csv 2094 H2 contained in monosaccharide list shoud double check this\n",
      "labeled_all_736.pdb.csv 2107 H2 contained in monosaccharide list shoud double check this\n"
     ]
    },
    {
     "name": "stderr",
     "output_type": "stream",
     "text": [
      " 89%|████████▊ | 2128/2399 [00:11<00:02, 111.27it/s]"
     ]
    },
    {
     "name": "stdout",
     "output_type": "stream",
     "text": [
      "labeled_all_741.pdb.csv 2113 H2 contained in monosaccharide list shoud double check this\n",
      "labeled_all_743.pdb.csv 2115 H2 contained in monosaccharide list shoud double check this\n",
      "labeled_all_746.pdb.csv 2118 H2 contained in monosaccharide list shoud double check this\n",
      "labeled_all_750.pdb.csv 2123 H2 contained in monosaccharide list shoud double check this\n",
      "labeled_all_754.pdb.csv 2127 H2 contained in monosaccharide list shoud double check this\n",
      "labeled_all_757.pdb.csv 2130 H2 contained in monosaccharide list shoud double check this\n",
      "labeled_all_759.pdb.csv 2132 H2 contained in monosaccharide list shoud double check this\n"
     ]
    },
    {
     "name": "stderr",
     "output_type": "stream",
     "text": [
      " 90%|████████▉ | 2152/2399 [00:11<00:02, 108.73it/s]"
     ]
    },
    {
     "name": "stdout",
     "output_type": "stream",
     "text": [
      "labeled_all_765.pdb.csv 2139 H2 contained in monosaccharide list shoud double check this\n",
      "labeled_all_771.pdb.csv 2146 H2 contained in monosaccharide list shoud double check this\n",
      "labeled_all_772.pdb.csv 2147 H2 contained in monosaccharide list shoud double check this\n",
      "labeled_all_777.pdb.csv 2152 H2 contained in monosaccharide list shoud double check this\n",
      "labeled_all_778.pdb.csv 2153 H2 contained in monosaccharide list shoud double check this\n",
      "labeled_all_78.pdb.csv 2155 H2 contained in monosaccharide list shoud double check this\n"
     ]
    },
    {
     "name": "stderr",
     "output_type": "stream",
     "text": [
      " 91%|█████████ | 2174/2399 [00:11<00:02, 108.08it/s]"
     ]
    },
    {
     "name": "stdout",
     "output_type": "stream",
     "text": [
      "labeled_all_787.pdb.csv 2163 H2 contained in monosaccharide list shoud double check this\n",
      "labeled_all_788.pdb.csv 2164 H2 contained in monosaccharide list shoud double check this\n",
      "labeled_all_789.pdb.csv 2165 H2 contained in monosaccharide list shoud double check this\n",
      "labeled_all_793.pdb.csv 2170 H2 contained in monosaccharide list shoud double check this\n",
      "labeled_all_795.pdb.csv 2172 H2 contained in monosaccharide list shoud double check this\n",
      "labeled_all_796.pdb.csv 2173 H2 contained in monosaccharide list shoud double check this\n",
      "labeled_all_798.pdb.csv 2175 H2 contained in monosaccharide list shoud double check this\n",
      "labeled_all_799.pdb.csv 2176 H2 contained in monosaccharide list shoud double check this\n",
      "labeled_all_803.pdb.csv 2182 H2 contained in monosaccharide list shoud double check this\n"
     ]
    },
    {
     "name": "stderr",
     "output_type": "stream",
     "text": [
      " 92%|█████████▏| 2198/2399 [00:12<00:01, 105.33it/s]"
     ]
    },
    {
     "name": "stdout",
     "output_type": "stream",
     "text": [
      "labeled_all_808.pdb.csv 2187 H2 contained in monosaccharide list shoud double check this\n",
      "labeled_all_810.pdb.csv 2190 H2 contained in monosaccharide list shoud double check this\n",
      "labeled_all_821.pdb.csv 2202 H2 contained in monosaccharide list shoud double check this\n",
      "labeled_all_822.pdb.csv 2203 H2 contained in monosaccharide list shoud double check this\n",
      "labeled_all_824.pdb.csv 2205 H2 contained in monosaccharide list shoud double check this\n"
     ]
    },
    {
     "name": "stderr",
     "output_type": "stream",
     "text": [
      " 93%|█████████▎| 2220/2399 [00:12<00:01, 106.43it/s]"
     ]
    },
    {
     "name": "stdout",
     "output_type": "stream",
     "text": [
      "labeled_all_825.pdb.csv 2206 H2 contained in monosaccharide list shoud double check this\n",
      "labeled_all_832.pdb.csv 2214 H2 contained in monosaccharide list shoud double check this\n",
      "labeled_all_833.pdb.csv 2215 H2 contained in monosaccharide list shoud double check this\n",
      "labeled_all_837.pdb.csv 2219 H2 contained in monosaccharide list shoud double check this\n",
      "labeled_all_839.pdb.csv 2221 H2 contained in monosaccharide list shoud double check this\n",
      "labeled_all_842.pdb.csv 2225 H2 contained in monosaccharide list shoud double check this\n",
      "labeled_all_843.pdb.csv 2226 H2 contained in monosaccharide list shoud double check this\n",
      "labeled_all_844.pdb.csv 2227 H2 contained in monosaccharide list shoud double check this\n"
     ]
    },
    {
     "name": "stderr",
     "output_type": "stream",
     "text": [
      " 94%|█████████▍| 2255/2399 [00:12<00:01, 107.52it/s]"
     ]
    },
    {
     "name": "stdout",
     "output_type": "stream",
     "text": [
      "labeled_all_848.pdb.csv 2231 H2 contained in monosaccharide list shoud double check this\n",
      "labeled_all_854.pdb.csv 2238 H2 contained in monosaccharide list shoud double check this\n",
      "labeled_all_857.pdb.csv 2241 H2 contained in monosaccharide list shoud double check this\n",
      "labeled_all_858.pdb.csv 2242 H2 contained in monosaccharide list shoud double check this\n",
      "labeled_all_863.pdb.csv 2248 H2 contained in monosaccharide list shoud double check this\n",
      "labeled_all_867.pdb.csv 2252 H2 contained in monosaccharide list shoud double check this\n",
      "labeled_all_868.pdb.csv 2253 H2 contained in monosaccharide list shoud double check this\n",
      "labeled_all_869.pdb.csv 2254 H2 contained in monosaccharide list shoud double check this\n"
     ]
    },
    {
     "name": "stderr",
     "output_type": "stream",
     "text": [
      "\r",
      " 94%|█████████▍| 2266/2399 [00:12<00:01, 103.09it/s]"
     ]
    },
    {
     "name": "stdout",
     "output_type": "stream",
     "text": [
      "labeled_all_873.pdb.csv 2259 H2 contained in monosaccharide list shoud double check this\n",
      "labeled_all_876.pdb.csv 2262 H2 contained in monosaccharide list shoud double check this\n",
      "labeled_all_883.pdb.csv 2270 H2 contained in monosaccharide list shoud double check this\n",
      "labeled_all_889.pdb.csv 2276 H2 contained in monosaccharide list shoud double check this\n"
     ]
    },
    {
     "name": "stderr",
     "output_type": "stream",
     "text": [
      " 96%|█████████▌| 2302/2399 [00:12<00:00, 109.90it/s]"
     ]
    },
    {
     "name": "stdout",
     "output_type": "stream",
     "text": [
      "labeled_all_894.pdb.csv 2282 H2 contained in monosaccharide list shoud double check this\n",
      "labeled_all_897.pdb.csv 2285 H2 contained in monosaccharide list shoud double check this\n",
      "labeled_all_898.pdb.csv 2286 H2 contained in monosaccharide list shoud double check this\n",
      "labeled_all_908.pdb.csv 2298 H2 contained in monosaccharide list shoud double check this\n",
      "labeled_all_914.pdb.csv 2305 H2 contained in monosaccharide list shoud double check this\n"
     ]
    },
    {
     "name": "stderr",
     "output_type": "stream",
     "text": [
      " 97%|█████████▋| 2326/2399 [00:13<00:00, 110.28it/s]"
     ]
    },
    {
     "name": "stdout",
     "output_type": "stream",
     "text": [
      "labeled_all_916.pdb.csv 2307 H2 contained in monosaccharide list shoud double check this\n",
      "labeled_all_917.pdb.csv 2308 H2 contained in monosaccharide list shoud double check this\n",
      "labeled_all_922.pdb.csv 2314 H2 contained in monosaccharide list shoud double check this\n"
     ]
    },
    {
     "name": "stderr",
     "output_type": "stream",
     "text": [
      " 98%|█████████▊| 2349/2399 [00:13<00:00, 107.43it/s]"
     ]
    },
    {
     "name": "stdout",
     "output_type": "stream",
     "text": [
      "labeled_all_938.pdb.csv 2331 H2 contained in monosaccharide list shoud double check this\n",
      "labeled_all_94.pdb.csv 2333 H2 contained in monosaccharide list shoud double check this\n",
      "labeled_all_941.pdb.csv 2335 H2 contained in monosaccharide list shoud double check this\n",
      "labeled_all_946.pdb.csv 2340 H2 contained in monosaccharide list shoud double check this\n",
      "labeled_all_947.pdb.csv 2341 H2 contained in monosaccharide list shoud double check this\n",
      "labeled_all_948.pdb.csv 2342 H2 contained in monosaccharide list shoud double check this\n",
      "labeled_all_950.pdb.csv 2345 H2 contained in monosaccharide list shoud double check this\n",
      "labeled_all_956.pdb.csv 2351 H2 contained in monosaccharide list shoud double check this\n"
     ]
    },
    {
     "name": "stderr",
     "output_type": "stream",
     "text": [
      " 99%|█████████▉| 2372/2399 [00:13<00:00, 108.13it/s]"
     ]
    },
    {
     "name": "stdout",
     "output_type": "stream",
     "text": [
      "labeled_all_963.pdb.csv 2359 H2 contained in monosaccharide list shoud double check this\n",
      "labeled_all_964.pdb.csv 2360 H2 contained in monosaccharide list shoud double check this\n",
      "labeled_all_968.pdb.csv 2364 H2 contained in monosaccharide list shoud double check this\n",
      "labeled_all_973.pdb.csv 2370 H2 contained in monosaccharide list shoud double check this\n",
      "labeled_all_978.pdb.csv 2375 H2 contained in monosaccharide list shoud double check this\n"
     ]
    },
    {
     "name": "stderr",
     "output_type": "stream",
     "text": [
      "100%|██████████| 2399/2399 [00:13<00:00, 172.61it/s]"
     ]
    },
    {
     "name": "stdout",
     "output_type": "stream",
     "text": [
      "labeled_all_984.pdb.csv 2382 H2 contained in monosaccharide list shoud double check this\n",
      "labeled_all_997.pdb.csv 2396 H2 contained in monosaccharide list shoud double check this\n"
     ]
    },
    {
     "name": "stderr",
     "output_type": "stream",
     "text": [
      "\n"
     ]
    }
   ],
   "source": [
    "atom_name_list = []\n",
    "shift_list = []\n",
    "wierd_list_h2 = []\n",
    "wierd_list_h2_ci = []\n",
    "wierd_list_h2_ci = []\n",
    "\n",
    "ac_list = []\n",
    "\n",
    "for i in tqdm(range(len(pdb_files_list))):\n",
    "    \n",
    "    pdb_name = pdb_files_list[i]\n",
    "    \n",
    "    pdb_name_path = os.path.join(pdb_dir, pdb_name)\n",
    "    \n",
    "    pdb_f = pd.read_csv(pdb_name_path)\n",
    "    \n",
    "    current_atom_names = list(pdb_f['New_Atom_name'].values)\n",
    "    atom_name_list.extend(current_atom_names)\n",
    "    \n",
    "    current_shift_names = list(pdb_f['main_ring_shift'].values)\n",
    "    shift_list.extend(current_shift_names)\n",
    "    \n",
    "    current_ac_atoms = list(pdb_f.loc[pdb_f['Ac_component'] == 1, :]['Atom_name'].values)\n",
    "    ac_list.extend(current_ac_atoms)\n",
    "    \n",
    "    if ('H2' in current_ac_atoms):\n",
    "        print(pdb_name, i, 'H2 contained in monosaccharide list shoud double check this')\n",
    "    \n",
    "    if 'C11' in pdb_f['New_Atom_name'].values:\n",
    "        \n",
    "        if pdb_f.loc[pdb_f['New_Atom_name'] == 'C11', :]['main_ring_shift'].values[0] != -1:\n",
    "#             print(i, pdb_name, len(pdb_f))\n",
    "            pdb_f_w = pdb_f\n",
    "            \n",
    "    if 'glcn' in pdb_f['reformulated_standard_mono'].values:\n",
    "        wierd_list_h2.extend(list(pdb_f.loc[(pdb_f['reformulated_standard_mono'] == 'glcn') & \n",
    "          (pdb_f['Atom_name'] == 'H2'), :]['shift'].values))\n",
    "        wierd_list_h2_ci.extend(list(pdb_f.loc[(pdb_f['reformulated_standard_mono'] == 'glcn') & \n",
    "          (pdb_f['Atom_name'] == 'H2'), :]['trust'].values))"
   ]
  },
  {
   "cell_type": "code",
   "execution_count": 6,
   "id": "7ac338fa",
   "metadata": {},
   "outputs": [
    {
     "data": {
      "text/html": [
       "<div>\n",
       "<style scoped>\n",
       "    .dataframe tbody tr th:only-of-type {\n",
       "        vertical-align: middle;\n",
       "    }\n",
       "\n",
       "    .dataframe tbody tr th {\n",
       "        vertical-align: top;\n",
       "    }\n",
       "\n",
       "    .dataframe thead th {\n",
       "        text-align: right;\n",
       "    }\n",
       "</style>\n",
       "<table border=\"1\" class=\"dataframe\">\n",
       "  <thead>\n",
       "    <tr style=\"text-align: right;\">\n",
       "      <th></th>\n",
       "      <th>HETATM</th>\n",
       "      <th>Atom_num</th>\n",
       "      <th>Atom_name</th>\n",
       "      <th>Residual_name</th>\n",
       "      <th>Bound</th>\n",
       "      <th>Residual_num</th>\n",
       "      <th>x</th>\n",
       "      <th>y</th>\n",
       "      <th>z</th>\n",
       "      <th>Atom_type</th>\n",
       "      <th>Residual_accurate_name</th>\n",
       "      <th>Lineage</th>\n",
       "      <th>shift</th>\n",
       "      <th>trust</th>\n",
       "      <th>Ac_component</th>\n",
       "      <th>Trust</th>\n",
       "      <th>bound_AB</th>\n",
       "      <th>fischer_projection_DL</th>\n",
       "      <th>origin_mono</th>\n",
       "      <th>reformulated_standard_mono</th>\n",
       "      <th>carbon_number_PF</th>\n",
       "      <th>Me_min_atom_distance</th>\n",
       "      <th>Me_min_atom_distance_threshold</th>\n",
       "      <th>Me_min_atom_path</th>\n",
       "      <th>Ser_atom_distance</th>\n",
       "      <th>Ser_atom_distance_threshold</th>\n",
       "      <th>Ser_atom_path</th>\n",
       "      <th>Ac_min_atom_distance</th>\n",
       "      <th>Ac_min_atom_distance_threshold</th>\n",
       "      <th>Ac_min_atom_path</th>\n",
       "      <th>S_min_atom_distance</th>\n",
       "      <th>S_min_atom_distance_threshold</th>\n",
       "      <th>S_min_atom_path</th>\n",
       "      <th>Gc_min_atom_distance</th>\n",
       "      <th>Gc_min_atom_distance_threshold</th>\n",
       "      <th>Gc_min_atom_path</th>\n",
       "      <th>New_Atom_name</th>\n",
       "      <th>main_ring_shift</th>\n",
       "    </tr>\n",
       "  </thead>\n",
       "  <tbody>\n",
       "    <tr>\n",
       "      <th>66</th>\n",
       "      <td>HETATM</td>\n",
       "      <td>67</td>\n",
       "      <td>C11</td>\n",
       "      <td>NBG</td>\n",
       "      <td>A</td>\n",
       "      <td>4</td>\n",
       "      <td>-2.284</td>\n",
       "      <td>0.826</td>\n",
       "      <td>1.942</td>\n",
       "      <td>C</td>\n",
       "      <td>b-D-GlcpN</td>\n",
       "      <td>1,2</td>\n",
       "      <td>-1.0</td>\n",
       "      <td>-1</td>\n",
       "      <td>1</td>\n",
       "      <td>88.0</td>\n",
       "      <td>b</td>\n",
       "      <td>d</td>\n",
       "      <td>glcpn</td>\n",
       "      <td>glcn</td>\n",
       "      <td>P</td>\n",
       "      <td>8</td>\n",
       "      <td>2</td>\n",
       "      <td>['C1', 'O1', 'C1', 'C2', 'O2', 'C1', 'C2', 'N2...</td>\n",
       "      <td>999</td>\n",
       "      <td>2</td>\n",
       "      <td>['No Ser included']</td>\n",
       "      <td>0</td>\n",
       "      <td>0</td>\n",
       "      <td>['C11']</td>\n",
       "      <td>27</td>\n",
       "      <td>2</td>\n",
       "      <td>['S1', 'O6', 'C6', 'C5', 'O5', 'C1', 'O4', 'C4...</td>\n",
       "      <td>999</td>\n",
       "      <td>2</td>\n",
       "      <td>['No _Gc_ included']</td>\n",
       "      <td>C11_Ac</td>\n",
       "      <td>-1.0</td>\n",
       "    </tr>\n",
       "    <tr>\n",
       "      <th>67</th>\n",
       "      <td>HETATM</td>\n",
       "      <td>68</td>\n",
       "      <td>C21</td>\n",
       "      <td>NBG</td>\n",
       "      <td>A</td>\n",
       "      <td>4</td>\n",
       "      <td>-1.255</td>\n",
       "      <td>0.159</td>\n",
       "      <td>2.807</td>\n",
       "      <td>C</td>\n",
       "      <td>b-D-GlcpN</td>\n",
       "      <td>1,2</td>\n",
       "      <td>-1.0</td>\n",
       "      <td>-1</td>\n",
       "      <td>1</td>\n",
       "      <td>NaN</td>\n",
       "      <td>b</td>\n",
       "      <td>d</td>\n",
       "      <td>glcpn</td>\n",
       "      <td>glcn</td>\n",
       "      <td>P</td>\n",
       "      <td>9</td>\n",
       "      <td>2</td>\n",
       "      <td>['C1', 'O1', 'C1', 'C2', 'O2', 'C1', 'C2', 'N2...</td>\n",
       "      <td>999</td>\n",
       "      <td>2</td>\n",
       "      <td>['No Ser included']</td>\n",
       "      <td>0</td>\n",
       "      <td>0</td>\n",
       "      <td>['C11', 'C21']</td>\n",
       "      <td>28</td>\n",
       "      <td>2</td>\n",
       "      <td>['S1', 'O6', 'C6', 'C5', 'O5', 'C1', 'O4', 'C4...</td>\n",
       "      <td>999</td>\n",
       "      <td>2</td>\n",
       "      <td>['No _Gc_ included']</td>\n",
       "      <td>C21_Ac</td>\n",
       "      <td>-1.0</td>\n",
       "    </tr>\n",
       "    <tr>\n",
       "      <th>68</th>\n",
       "      <td>HETATM</td>\n",
       "      <td>69</td>\n",
       "      <td>O1</td>\n",
       "      <td>NBG</td>\n",
       "      <td>A</td>\n",
       "      <td>4</td>\n",
       "      <td>-2.064</td>\n",
       "      <td>1.140</td>\n",
       "      <td>0.762</td>\n",
       "      <td>O</td>\n",
       "      <td>b-D-GlcpN</td>\n",
       "      <td>1,2</td>\n",
       "      <td>-1.0</td>\n",
       "      <td>-1</td>\n",
       "      <td>1</td>\n",
       "      <td>NaN</td>\n",
       "      <td>b</td>\n",
       "      <td>d</td>\n",
       "      <td>glcpn</td>\n",
       "      <td>glcn</td>\n",
       "      <td>P</td>\n",
       "      <td>9</td>\n",
       "      <td>2</td>\n",
       "      <td>['C1', 'O1', 'C1', 'C2', 'O2', 'C1', 'C2', 'N2...</td>\n",
       "      <td>999</td>\n",
       "      <td>2</td>\n",
       "      <td>['No Ser included']</td>\n",
       "      <td>0</td>\n",
       "      <td>0</td>\n",
       "      <td>['C11', 'O1']</td>\n",
       "      <td>28</td>\n",
       "      <td>2</td>\n",
       "      <td>['S1', 'O6', 'C6', 'C5', 'O5', 'C1', 'O4', 'C4...</td>\n",
       "      <td>999</td>\n",
       "      <td>2</td>\n",
       "      <td>['No _Gc_ included']</td>\n",
       "      <td>O1_Ac</td>\n",
       "      <td>-1.0</td>\n",
       "    </tr>\n",
       "    <tr>\n",
       "      <th>69</th>\n",
       "      <td>HETATM</td>\n",
       "      <td>70</td>\n",
       "      <td>H21</td>\n",
       "      <td>NBG</td>\n",
       "      <td>A</td>\n",
       "      <td>4</td>\n",
       "      <td>-0.626</td>\n",
       "      <td>0.901</td>\n",
       "      <td>3.298</td>\n",
       "      <td>H</td>\n",
       "      <td>b-D-GlcpN</td>\n",
       "      <td>1,2</td>\n",
       "      <td>-1.0</td>\n",
       "      <td>-1</td>\n",
       "      <td>1</td>\n",
       "      <td>98.0</td>\n",
       "      <td>b</td>\n",
       "      <td>d</td>\n",
       "      <td>glcpn</td>\n",
       "      <td>glcn</td>\n",
       "      <td>P</td>\n",
       "      <td>10</td>\n",
       "      <td>2</td>\n",
       "      <td>['C1', 'O1', 'C1', 'C2', 'O2', 'C1', 'C2', 'N2...</td>\n",
       "      <td>999</td>\n",
       "      <td>2</td>\n",
       "      <td>['No Ser included']</td>\n",
       "      <td>0</td>\n",
       "      <td>0</td>\n",
       "      <td>['C11', 'C21', 'H21']</td>\n",
       "      <td>29</td>\n",
       "      <td>2</td>\n",
       "      <td>['S1', 'O6', 'C6', 'C5', 'O5', 'C1', 'O4', 'C4...</td>\n",
       "      <td>999</td>\n",
       "      <td>2</td>\n",
       "      <td>['No _Gc_ included']</td>\n",
       "      <td>H21_Ac</td>\n",
       "      <td>-1.0</td>\n",
       "    </tr>\n",
       "    <tr>\n",
       "      <th>70</th>\n",
       "      <td>HETATM</td>\n",
       "      <td>71</td>\n",
       "      <td>H22</td>\n",
       "      <td>NBG</td>\n",
       "      <td>A</td>\n",
       "      <td>4</td>\n",
       "      <td>-1.737</td>\n",
       "      <td>-0.476</td>\n",
       "      <td>3.558</td>\n",
       "      <td>H</td>\n",
       "      <td>b-D-GlcpN</td>\n",
       "      <td>1,2</td>\n",
       "      <td>-1.0</td>\n",
       "      <td>-1</td>\n",
       "      <td>1</td>\n",
       "      <td>NaN</td>\n",
       "      <td>b</td>\n",
       "      <td>d</td>\n",
       "      <td>glcpn</td>\n",
       "      <td>glcn</td>\n",
       "      <td>P</td>\n",
       "      <td>10</td>\n",
       "      <td>2</td>\n",
       "      <td>['C1', 'O1', 'C1', 'C2', 'O2', 'C1', 'C2', 'N2...</td>\n",
       "      <td>999</td>\n",
       "      <td>2</td>\n",
       "      <td>['No Ser included']</td>\n",
       "      <td>0</td>\n",
       "      <td>0</td>\n",
       "      <td>['C11', 'C21', 'H22']</td>\n",
       "      <td>29</td>\n",
       "      <td>2</td>\n",
       "      <td>['S1', 'O6', 'C6', 'C5', 'O5', 'C1', 'O4', 'C4...</td>\n",
       "      <td>999</td>\n",
       "      <td>2</td>\n",
       "      <td>['No _Gc_ included']</td>\n",
       "      <td>H22_Ac</td>\n",
       "      <td>-1.0</td>\n",
       "    </tr>\n",
       "    <tr>\n",
       "      <th>71</th>\n",
       "      <td>HETATM</td>\n",
       "      <td>72</td>\n",
       "      <td>H23</td>\n",
       "      <td>NBG</td>\n",
       "      <td>A</td>\n",
       "      <td>4</td>\n",
       "      <td>-0.645</td>\n",
       "      <td>-0.500</td>\n",
       "      <td>2.180</td>\n",
       "      <td>H</td>\n",
       "      <td>b-D-GlcpN</td>\n",
       "      <td>1,2</td>\n",
       "      <td>-1.0</td>\n",
       "      <td>-1</td>\n",
       "      <td>1</td>\n",
       "      <td>NaN</td>\n",
       "      <td>b</td>\n",
       "      <td>d</td>\n",
       "      <td>glcpn</td>\n",
       "      <td>glcn</td>\n",
       "      <td>P</td>\n",
       "      <td>10</td>\n",
       "      <td>2</td>\n",
       "      <td>['C1', 'O1', 'C1', 'C2', 'O2', 'C1', 'C2', 'N2...</td>\n",
       "      <td>999</td>\n",
       "      <td>2</td>\n",
       "      <td>['No Ser included']</td>\n",
       "      <td>0</td>\n",
       "      <td>0</td>\n",
       "      <td>['C11', 'C21', 'H23']</td>\n",
       "      <td>29</td>\n",
       "      <td>2</td>\n",
       "      <td>['S1', 'O6', 'C6', 'C5', 'O5', 'C1', 'O4', 'C4...</td>\n",
       "      <td>999</td>\n",
       "      <td>2</td>\n",
       "      <td>['No _Gc_ included']</td>\n",
       "      <td>H23_Ac</td>\n",
       "      <td>-1.0</td>\n",
       "    </tr>\n",
       "    <tr>\n",
       "      <th>209</th>\n",
       "      <td>HETATM</td>\n",
       "      <td>210</td>\n",
       "      <td>C11</td>\n",
       "      <td>SLB</td>\n",
       "      <td>A</td>\n",
       "      <td>11</td>\n",
       "      <td>-6.495</td>\n",
       "      <td>-24.868</td>\n",
       "      <td>-5.098</td>\n",
       "      <td>C</td>\n",
       "      <td>b-Neup</td>\n",
       "      <td>1,2,4,3,3,2,4,3</td>\n",
       "      <td>-1.0</td>\n",
       "      <td>-1</td>\n",
       "      <td>1</td>\n",
       "      <td>83.0</td>\n",
       "      <td>b</td>\n",
       "      <td>missing_L_D</td>\n",
       "      <td>neup</td>\n",
       "      <td>neu</td>\n",
       "      <td>P</td>\n",
       "      <td>35</td>\n",
       "      <td>2</td>\n",
       "      <td>['C1', 'O1', 'C1', 'C2', 'O2', 'C1', 'C2', 'C3...</td>\n",
       "      <td>999</td>\n",
       "      <td>2</td>\n",
       "      <td>['No Ser included']</td>\n",
       "      <td>0</td>\n",
       "      <td>0</td>\n",
       "      <td>['C11']</td>\n",
       "      <td>9</td>\n",
       "      <td>2</td>\n",
       "      <td>['S1', 'O3', 'C3', 'C2', 'C1', 'O4', 'C4', 'C5...</td>\n",
       "      <td>999</td>\n",
       "      <td>2</td>\n",
       "      <td>['No _Gc_ included']</td>\n",
       "      <td>Neup_C11_Ac</td>\n",
       "      <td>-1.0</td>\n",
       "    </tr>\n",
       "    <tr>\n",
       "      <th>210</th>\n",
       "      <td>HETATM</td>\n",
       "      <td>211</td>\n",
       "      <td>C21</td>\n",
       "      <td>SLB</td>\n",
       "      <td>A</td>\n",
       "      <td>11</td>\n",
       "      <td>-6.755</td>\n",
       "      <td>-26.303</td>\n",
       "      <td>-4.770</td>\n",
       "      <td>C</td>\n",
       "      <td>b-Neup</td>\n",
       "      <td>1,2,4,3,3,2,4,3</td>\n",
       "      <td>-1.0</td>\n",
       "      <td>-1</td>\n",
       "      <td>1</td>\n",
       "      <td>NaN</td>\n",
       "      <td>b</td>\n",
       "      <td>missing_L_D</td>\n",
       "      <td>neup</td>\n",
       "      <td>neu</td>\n",
       "      <td>P</td>\n",
       "      <td>36</td>\n",
       "      <td>2</td>\n",
       "      <td>['C1', 'O1', 'C1', 'C2', 'O2', 'C1', 'C2', 'C3...</td>\n",
       "      <td>999</td>\n",
       "      <td>2</td>\n",
       "      <td>['No Ser included']</td>\n",
       "      <td>0</td>\n",
       "      <td>0</td>\n",
       "      <td>['C11', 'C21']</td>\n",
       "      <td>10</td>\n",
       "      <td>2</td>\n",
       "      <td>['S1', 'O3', 'C3', 'C2', 'C1', 'O4', 'C4', 'C5...</td>\n",
       "      <td>999</td>\n",
       "      <td>2</td>\n",
       "      <td>['No _Gc_ included']</td>\n",
       "      <td>Neup_C21_Ac</td>\n",
       "      <td>-1.0</td>\n",
       "    </tr>\n",
       "    <tr>\n",
       "      <th>211</th>\n",
       "      <td>HETATM</td>\n",
       "      <td>212</td>\n",
       "      <td>O12</td>\n",
       "      <td>SLB</td>\n",
       "      <td>A</td>\n",
       "      <td>11</td>\n",
       "      <td>-5.607</td>\n",
       "      <td>-24.529</td>\n",
       "      <td>-5.903</td>\n",
       "      <td>O</td>\n",
       "      <td>b-Neup</td>\n",
       "      <td>1,2,4,3,3,2,4,3</td>\n",
       "      <td>-1.0</td>\n",
       "      <td>-1</td>\n",
       "      <td>1</td>\n",
       "      <td>NaN</td>\n",
       "      <td>b</td>\n",
       "      <td>missing_L_D</td>\n",
       "      <td>neup</td>\n",
       "      <td>neu</td>\n",
       "      <td>P</td>\n",
       "      <td>36</td>\n",
       "      <td>2</td>\n",
       "      <td>['C1', 'O1', 'C1', 'C2', 'O2', 'C1', 'C2', 'C3...</td>\n",
       "      <td>999</td>\n",
       "      <td>2</td>\n",
       "      <td>['No Ser included']</td>\n",
       "      <td>0</td>\n",
       "      <td>0</td>\n",
       "      <td>['C11', 'O12']</td>\n",
       "      <td>10</td>\n",
       "      <td>2</td>\n",
       "      <td>['S1', 'O3', 'C3', 'C2', 'C1', 'O4', 'C4', 'C5...</td>\n",
       "      <td>999</td>\n",
       "      <td>2</td>\n",
       "      <td>['No _Gc_ included']</td>\n",
       "      <td>O12_Ac</td>\n",
       "      <td>-1.0</td>\n",
       "    </tr>\n",
       "    <tr>\n",
       "      <th>212</th>\n",
       "      <td>HETATM</td>\n",
       "      <td>213</td>\n",
       "      <td>H2</td>\n",
       "      <td>SLB</td>\n",
       "      <td>A</td>\n",
       "      <td>11</td>\n",
       "      <td>-7.434</td>\n",
       "      <td>-26.401</td>\n",
       "      <td>-3.917</td>\n",
       "      <td>H</td>\n",
       "      <td>b-Neup</td>\n",
       "      <td>1,2,4,3,3,2,4,3</td>\n",
       "      <td>-1.0</td>\n",
       "      <td>36</td>\n",
       "      <td>1</td>\n",
       "      <td>95.0</td>\n",
       "      <td>b</td>\n",
       "      <td>missing_L_D</td>\n",
       "      <td>neup</td>\n",
       "      <td>neu</td>\n",
       "      <td>P</td>\n",
       "      <td>37</td>\n",
       "      <td>2</td>\n",
       "      <td>['C1', 'O1', 'C1', 'C2', 'O2', 'C1', 'C2', 'C3...</td>\n",
       "      <td>999</td>\n",
       "      <td>2</td>\n",
       "      <td>['No Ser included']</td>\n",
       "      <td>0</td>\n",
       "      <td>0</td>\n",
       "      <td>['C11', 'C21', 'H2']</td>\n",
       "      <td>11</td>\n",
       "      <td>2</td>\n",
       "      <td>['S1', 'O3', 'C3', 'C2', 'C1', 'O4', 'C4', 'C5...</td>\n",
       "      <td>999</td>\n",
       "      <td>2</td>\n",
       "      <td>['No _Gc_ included']</td>\n",
       "      <td>Neup_H2_Ac</td>\n",
       "      <td>-1.0</td>\n",
       "    </tr>\n",
       "    <tr>\n",
       "      <th>213</th>\n",
       "      <td>HETATM</td>\n",
       "      <td>214</td>\n",
       "      <td>H21</td>\n",
       "      <td>SLB</td>\n",
       "      <td>A</td>\n",
       "      <td>11</td>\n",
       "      <td>-7.176</td>\n",
       "      <td>-26.826</td>\n",
       "      <td>-5.631</td>\n",
       "      <td>H</td>\n",
       "      <td>b-Neup</td>\n",
       "      <td>1,2,4,3,3,2,4,3</td>\n",
       "      <td>-1.0</td>\n",
       "      <td>-1</td>\n",
       "      <td>1</td>\n",
       "      <td>NaN</td>\n",
       "      <td>b</td>\n",
       "      <td>missing_L_D</td>\n",
       "      <td>neup</td>\n",
       "      <td>neu</td>\n",
       "      <td>P</td>\n",
       "      <td>37</td>\n",
       "      <td>2</td>\n",
       "      <td>['C1', 'O1', 'C1', 'C2', 'O2', 'C1', 'C2', 'C3...</td>\n",
       "      <td>999</td>\n",
       "      <td>2</td>\n",
       "      <td>['No Ser included']</td>\n",
       "      <td>0</td>\n",
       "      <td>0</td>\n",
       "      <td>['C11', 'C21', 'H21']</td>\n",
       "      <td>11</td>\n",
       "      <td>2</td>\n",
       "      <td>['S1', 'O3', 'C3', 'C2', 'C1', 'O4', 'C4', 'C5...</td>\n",
       "      <td>999</td>\n",
       "      <td>2</td>\n",
       "      <td>['No _Gc_ included']</td>\n",
       "      <td>H21_Ac</td>\n",
       "      <td>-1.0</td>\n",
       "    </tr>\n",
       "    <tr>\n",
       "      <th>214</th>\n",
       "      <td>HETATM</td>\n",
       "      <td>215</td>\n",
       "      <td>H22</td>\n",
       "      <td>SLB</td>\n",
       "      <td>A</td>\n",
       "      <td>11</td>\n",
       "      <td>-5.800</td>\n",
       "      <td>-26.760</td>\n",
       "      <td>-4.482</td>\n",
       "      <td>H</td>\n",
       "      <td>b-Neup</td>\n",
       "      <td>1,2,4,3,3,2,4,3</td>\n",
       "      <td>-1.0</td>\n",
       "      <td>-1</td>\n",
       "      <td>1</td>\n",
       "      <td>NaN</td>\n",
       "      <td>b</td>\n",
       "      <td>missing_L_D</td>\n",
       "      <td>neup</td>\n",
       "      <td>neu</td>\n",
       "      <td>P</td>\n",
       "      <td>37</td>\n",
       "      <td>2</td>\n",
       "      <td>['C1', 'O1', 'C1', 'C2', 'O2', 'C1', 'C2', 'C3...</td>\n",
       "      <td>999</td>\n",
       "      <td>2</td>\n",
       "      <td>['No Ser included']</td>\n",
       "      <td>0</td>\n",
       "      <td>0</td>\n",
       "      <td>['C11', 'C21', 'H22']</td>\n",
       "      <td>11</td>\n",
       "      <td>2</td>\n",
       "      <td>['S1', 'O3', 'C3', 'C2', 'C1', 'O4', 'C4', 'C5...</td>\n",
       "      <td>999</td>\n",
       "      <td>2</td>\n",
       "      <td>['No _Gc_ included']</td>\n",
       "      <td>H22_Ac</td>\n",
       "      <td>-1.0</td>\n",
       "    </tr>\n",
       "    <tr>\n",
       "      <th>286</th>\n",
       "      <td>HETATM</td>\n",
       "      <td>287</td>\n",
       "      <td>C11</td>\n",
       "      <td>NAG</td>\n",
       "      <td>A</td>\n",
       "      <td>16</td>\n",
       "      <td>-11.796</td>\n",
       "      <td>-29.911</td>\n",
       "      <td>2.845</td>\n",
       "      <td>C</td>\n",
       "      <td>a-D-GlcpN</td>\n",
       "      <td>1,2,4,3,3,2,4,3,4,4,2</td>\n",
       "      <td>-1.0</td>\n",
       "      <td>-1</td>\n",
       "      <td>1</td>\n",
       "      <td>83.0</td>\n",
       "      <td>a</td>\n",
       "      <td>d</td>\n",
       "      <td>glcpn</td>\n",
       "      <td>glcn</td>\n",
       "      <td>P</td>\n",
       "      <td>45</td>\n",
       "      <td>2</td>\n",
       "      <td>['C1', 'O1', 'C1', 'C2', 'O2', 'C1', 'C2', 'C3...</td>\n",
       "      <td>999</td>\n",
       "      <td>2</td>\n",
       "      <td>['No Ser included']</td>\n",
       "      <td>0</td>\n",
       "      <td>0</td>\n",
       "      <td>['C11']</td>\n",
       "      <td>11</td>\n",
       "      <td>2</td>\n",
       "      <td>['S1', 'O3', 'C3', 'C4', 'O4', 'C1', 'C2', 'O2...</td>\n",
       "      <td>999</td>\n",
       "      <td>2</td>\n",
       "      <td>['No _Gc_ included']</td>\n",
       "      <td>C11_Ac</td>\n",
       "      <td>-1.0</td>\n",
       "    </tr>\n",
       "    <tr>\n",
       "      <th>287</th>\n",
       "      <td>HETATM</td>\n",
       "      <td>288</td>\n",
       "      <td>C21</td>\n",
       "      <td>NAG</td>\n",
       "      <td>A</td>\n",
       "      <td>16</td>\n",
       "      <td>-10.901</td>\n",
       "      <td>-30.885</td>\n",
       "      <td>2.134</td>\n",
       "      <td>C</td>\n",
       "      <td>a-D-GlcpN</td>\n",
       "      <td>1,2,4,3,3,2,4,3,4,4,2</td>\n",
       "      <td>-1.0</td>\n",
       "      <td>-1</td>\n",
       "      <td>1</td>\n",
       "      <td>NaN</td>\n",
       "      <td>a</td>\n",
       "      <td>d</td>\n",
       "      <td>glcpn</td>\n",
       "      <td>glcn</td>\n",
       "      <td>P</td>\n",
       "      <td>46</td>\n",
       "      <td>2</td>\n",
       "      <td>['C1', 'O1', 'C1', 'C2', 'O2', 'C1', 'C2', 'C3...</td>\n",
       "      <td>999</td>\n",
       "      <td>2</td>\n",
       "      <td>['No Ser included']</td>\n",
       "      <td>0</td>\n",
       "      <td>0</td>\n",
       "      <td>['C11', 'C21']</td>\n",
       "      <td>12</td>\n",
       "      <td>2</td>\n",
       "      <td>['S1', 'O3', 'C3', 'C4', 'O4', 'C1', 'C2', 'O2...</td>\n",
       "      <td>999</td>\n",
       "      <td>2</td>\n",
       "      <td>['No _Gc_ included']</td>\n",
       "      <td>C21_Ac</td>\n",
       "      <td>-1.0</td>\n",
       "    </tr>\n",
       "    <tr>\n",
       "      <th>288</th>\n",
       "      <td>HETATM</td>\n",
       "      <td>289</td>\n",
       "      <td>O1</td>\n",
       "      <td>NAG</td>\n",
       "      <td>A</td>\n",
       "      <td>16</td>\n",
       "      <td>-12.832</td>\n",
       "      <td>-30.272</td>\n",
       "      <td>3.430</td>\n",
       "      <td>O</td>\n",
       "      <td>a-D-GlcpN</td>\n",
       "      <td>1,2,4,3,3,2,4,3,4,4,2</td>\n",
       "      <td>-1.0</td>\n",
       "      <td>-1</td>\n",
       "      <td>1</td>\n",
       "      <td>NaN</td>\n",
       "      <td>a</td>\n",
       "      <td>d</td>\n",
       "      <td>glcpn</td>\n",
       "      <td>glcn</td>\n",
       "      <td>P</td>\n",
       "      <td>46</td>\n",
       "      <td>2</td>\n",
       "      <td>['C1', 'O1', 'C1', 'C2', 'O2', 'C1', 'C2', 'C3...</td>\n",
       "      <td>999</td>\n",
       "      <td>2</td>\n",
       "      <td>['No Ser included']</td>\n",
       "      <td>0</td>\n",
       "      <td>0</td>\n",
       "      <td>['C11', 'O1']</td>\n",
       "      <td>12</td>\n",
       "      <td>2</td>\n",
       "      <td>['S1', 'O3', 'C3', 'C4', 'O4', 'C1', 'C2', 'O2...</td>\n",
       "      <td>999</td>\n",
       "      <td>2</td>\n",
       "      <td>['No _Gc_ included']</td>\n",
       "      <td>O1_Ac</td>\n",
       "      <td>-1.0</td>\n",
       "    </tr>\n",
       "    <tr>\n",
       "      <th>289</th>\n",
       "      <td>HETATM</td>\n",
       "      <td>290</td>\n",
       "      <td>H21</td>\n",
       "      <td>NAG</td>\n",
       "      <td>A</td>\n",
       "      <td>16</td>\n",
       "      <td>-11.513</td>\n",
       "      <td>-31.432</td>\n",
       "      <td>1.409</td>\n",
       "      <td>H</td>\n",
       "      <td>a-D-GlcpN</td>\n",
       "      <td>1,2,4,3,3,2,4,3,4,4,2</td>\n",
       "      <td>-1.0</td>\n",
       "      <td>-1</td>\n",
       "      <td>1</td>\n",
       "      <td>98.0</td>\n",
       "      <td>a</td>\n",
       "      <td>d</td>\n",
       "      <td>glcpn</td>\n",
       "      <td>glcn</td>\n",
       "      <td>P</td>\n",
       "      <td>47</td>\n",
       "      <td>2</td>\n",
       "      <td>['C1', 'O1', 'C1', 'C2', 'O2', 'C1', 'C2', 'C3...</td>\n",
       "      <td>999</td>\n",
       "      <td>2</td>\n",
       "      <td>['No Ser included']</td>\n",
       "      <td>0</td>\n",
       "      <td>0</td>\n",
       "      <td>['C11', 'C21', 'H21']</td>\n",
       "      <td>13</td>\n",
       "      <td>2</td>\n",
       "      <td>['S1', 'O3', 'C3', 'C4', 'O4', 'C1', 'C2', 'O2...</td>\n",
       "      <td>999</td>\n",
       "      <td>2</td>\n",
       "      <td>['No _Gc_ included']</td>\n",
       "      <td>H21_Ac</td>\n",
       "      <td>-1.0</td>\n",
       "    </tr>\n",
       "    <tr>\n",
       "      <th>290</th>\n",
       "      <td>HETATM</td>\n",
       "      <td>291</td>\n",
       "      <td>H22</td>\n",
       "      <td>NAG</td>\n",
       "      <td>A</td>\n",
       "      <td>16</td>\n",
       "      <td>-10.487</td>\n",
       "      <td>-31.590</td>\n",
       "      <td>2.863</td>\n",
       "      <td>H</td>\n",
       "      <td>a-D-GlcpN</td>\n",
       "      <td>1,2,4,3,3,2,4,3,4,4,2</td>\n",
       "      <td>-1.0</td>\n",
       "      <td>-1</td>\n",
       "      <td>1</td>\n",
       "      <td>NaN</td>\n",
       "      <td>a</td>\n",
       "      <td>d</td>\n",
       "      <td>glcpn</td>\n",
       "      <td>glcn</td>\n",
       "      <td>P</td>\n",
       "      <td>47</td>\n",
       "      <td>2</td>\n",
       "      <td>['C1', 'O1', 'C1', 'C2', 'O2', 'C1', 'C2', 'C3...</td>\n",
       "      <td>999</td>\n",
       "      <td>2</td>\n",
       "      <td>['No Ser included']</td>\n",
       "      <td>0</td>\n",
       "      <td>0</td>\n",
       "      <td>['C11', 'C21', 'H22']</td>\n",
       "      <td>13</td>\n",
       "      <td>2</td>\n",
       "      <td>['S1', 'O3', 'C3', 'C4', 'O4', 'C1', 'C2', 'O2...</td>\n",
       "      <td>999</td>\n",
       "      <td>2</td>\n",
       "      <td>['No _Gc_ included']</td>\n",
       "      <td>H22_Ac</td>\n",
       "      <td>-1.0</td>\n",
       "    </tr>\n",
       "    <tr>\n",
       "      <th>291</th>\n",
       "      <td>HETATM</td>\n",
       "      <td>292</td>\n",
       "      <td>H23</td>\n",
       "      <td>NAG</td>\n",
       "      <td>A</td>\n",
       "      <td>16</td>\n",
       "      <td>-10.090</td>\n",
       "      <td>-30.375</td>\n",
       "      <td>1.601</td>\n",
       "      <td>H</td>\n",
       "      <td>a-D-GlcpN</td>\n",
       "      <td>1,2,4,3,3,2,4,3,4,4,2</td>\n",
       "      <td>-1.0</td>\n",
       "      <td>-1</td>\n",
       "      <td>1</td>\n",
       "      <td>NaN</td>\n",
       "      <td>a</td>\n",
       "      <td>d</td>\n",
       "      <td>glcpn</td>\n",
       "      <td>glcn</td>\n",
       "      <td>P</td>\n",
       "      <td>47</td>\n",
       "      <td>2</td>\n",
       "      <td>['C1', 'O1', 'C1', 'C2', 'O2', 'C1', 'C2', 'C3...</td>\n",
       "      <td>999</td>\n",
       "      <td>2</td>\n",
       "      <td>['No Ser included']</td>\n",
       "      <td>0</td>\n",
       "      <td>0</td>\n",
       "      <td>['C11', 'C21', 'H23']</td>\n",
       "      <td>13</td>\n",
       "      <td>2</td>\n",
       "      <td>['S1', 'O3', 'C3', 'C4', 'O4', 'C1', 'C2', 'O2...</td>\n",
       "      <td>999</td>\n",
       "      <td>2</td>\n",
       "      <td>['No _Gc_ included']</td>\n",
       "      <td>H23_Ac</td>\n",
       "      <td>-1.0</td>\n",
       "    </tr>\n",
       "    <tr>\n",
       "      <th>313</th>\n",
       "      <td>HETATM</td>\n",
       "      <td>314</td>\n",
       "      <td>C11</td>\n",
       "      <td>NBG</td>\n",
       "      <td>A</td>\n",
       "      <td>17</td>\n",
       "      <td>-11.277</td>\n",
       "      <td>-28.410</td>\n",
       "      <td>-1.913</td>\n",
       "      <td>C</td>\n",
       "      <td>b-D-GlcpN</td>\n",
       "      <td>1,2,4,3,3,2,4,3,4,4,2,3</td>\n",
       "      <td>-1.0</td>\n",
       "      <td>-1</td>\n",
       "      <td>1</td>\n",
       "      <td>88.0</td>\n",
       "      <td>b</td>\n",
       "      <td>d</td>\n",
       "      <td>glcpn</td>\n",
       "      <td>glcn</td>\n",
       "      <td>P</td>\n",
       "      <td>49</td>\n",
       "      <td>2</td>\n",
       "      <td>['C1', 'O1', 'C1', 'C2', 'O2', 'C1', 'C2', 'C3...</td>\n",
       "      <td>999</td>\n",
       "      <td>2</td>\n",
       "      <td>['No Ser included']</td>\n",
       "      <td>0</td>\n",
       "      <td>0</td>\n",
       "      <td>['C11']</td>\n",
       "      <td>14</td>\n",
       "      <td>2</td>\n",
       "      <td>['S1', 'O6', 'C6', 'C5', 'O5', 'C1', 'O2', 'C2...</td>\n",
       "      <td>999</td>\n",
       "      <td>2</td>\n",
       "      <td>['No _Gc_ included']</td>\n",
       "      <td>C11_Ac</td>\n",
       "      <td>-1.0</td>\n",
       "    </tr>\n",
       "    <tr>\n",
       "      <th>314</th>\n",
       "      <td>HETATM</td>\n",
       "      <td>315</td>\n",
       "      <td>C21</td>\n",
       "      <td>NBG</td>\n",
       "      <td>A</td>\n",
       "      <td>17</td>\n",
       "      <td>-11.313</td>\n",
       "      <td>-29.879</td>\n",
       "      <td>-2.182</td>\n",
       "      <td>C</td>\n",
       "      <td>b-D-GlcpN</td>\n",
       "      <td>1,2,4,3,3,2,4,3,4,4,2,3</td>\n",
       "      <td>-1.0</td>\n",
       "      <td>-1</td>\n",
       "      <td>1</td>\n",
       "      <td>NaN</td>\n",
       "      <td>b</td>\n",
       "      <td>d</td>\n",
       "      <td>glcpn</td>\n",
       "      <td>glcn</td>\n",
       "      <td>P</td>\n",
       "      <td>50</td>\n",
       "      <td>2</td>\n",
       "      <td>['C1', 'O1', 'C1', 'C2', 'O2', 'C1', 'C2', 'C3...</td>\n",
       "      <td>999</td>\n",
       "      <td>2</td>\n",
       "      <td>['No Ser included']</td>\n",
       "      <td>0</td>\n",
       "      <td>0</td>\n",
       "      <td>['C11', 'C21']</td>\n",
       "      <td>15</td>\n",
       "      <td>2</td>\n",
       "      <td>['S1', 'O6', 'C6', 'C5', 'O5', 'C1', 'O2', 'C2...</td>\n",
       "      <td>999</td>\n",
       "      <td>2</td>\n",
       "      <td>['No _Gc_ included']</td>\n",
       "      <td>C21_Ac</td>\n",
       "      <td>-1.0</td>\n",
       "    </tr>\n",
       "    <tr>\n",
       "      <th>315</th>\n",
       "      <td>HETATM</td>\n",
       "      <td>316</td>\n",
       "      <td>O1</td>\n",
       "      <td>NBG</td>\n",
       "      <td>A</td>\n",
       "      <td>17</td>\n",
       "      <td>-10.373</td>\n",
       "      <td>-27.656</td>\n",
       "      <td>-2.319</td>\n",
       "      <td>O</td>\n",
       "      <td>b-D-GlcpN</td>\n",
       "      <td>1,2,4,3,3,2,4,3,4,4,2,3</td>\n",
       "      <td>-1.0</td>\n",
       "      <td>-1</td>\n",
       "      <td>1</td>\n",
       "      <td>NaN</td>\n",
       "      <td>b</td>\n",
       "      <td>d</td>\n",
       "      <td>glcpn</td>\n",
       "      <td>glcn</td>\n",
       "      <td>P</td>\n",
       "      <td>50</td>\n",
       "      <td>2</td>\n",
       "      <td>['C1', 'O1', 'C1', 'C2', 'O2', 'C1', 'C2', 'C3...</td>\n",
       "      <td>999</td>\n",
       "      <td>2</td>\n",
       "      <td>['No Ser included']</td>\n",
       "      <td>0</td>\n",
       "      <td>0</td>\n",
       "      <td>['C11', 'O1']</td>\n",
       "      <td>15</td>\n",
       "      <td>2</td>\n",
       "      <td>['S1', 'O6', 'C6', 'C5', 'O5', 'C1', 'O2', 'C2...</td>\n",
       "      <td>999</td>\n",
       "      <td>2</td>\n",
       "      <td>['No _Gc_ included']</td>\n",
       "      <td>O1_Ac</td>\n",
       "      <td>-1.0</td>\n",
       "    </tr>\n",
       "    <tr>\n",
       "      <th>316</th>\n",
       "      <td>HETATM</td>\n",
       "      <td>317</td>\n",
       "      <td>H21</td>\n",
       "      <td>NBG</td>\n",
       "      <td>A</td>\n",
       "      <td>17</td>\n",
       "      <td>-10.284</td>\n",
       "      <td>-30.251</td>\n",
       "      <td>-2.245</td>\n",
       "      <td>H</td>\n",
       "      <td>b-D-GlcpN</td>\n",
       "      <td>1,2,4,3,3,2,4,3,4,4,2,3</td>\n",
       "      <td>-1.0</td>\n",
       "      <td>-1</td>\n",
       "      <td>1</td>\n",
       "      <td>98.0</td>\n",
       "      <td>b</td>\n",
       "      <td>d</td>\n",
       "      <td>glcpn</td>\n",
       "      <td>glcn</td>\n",
       "      <td>P</td>\n",
       "      <td>51</td>\n",
       "      <td>2</td>\n",
       "      <td>['C1', 'O1', 'C1', 'C2', 'O2', 'C1', 'C2', 'C3...</td>\n",
       "      <td>999</td>\n",
       "      <td>2</td>\n",
       "      <td>['No Ser included']</td>\n",
       "      <td>0</td>\n",
       "      <td>0</td>\n",
       "      <td>['C11', 'C21', 'H21']</td>\n",
       "      <td>16</td>\n",
       "      <td>2</td>\n",
       "      <td>['S1', 'O6', 'C6', 'C5', 'O5', 'C1', 'O2', 'C2...</td>\n",
       "      <td>999</td>\n",
       "      <td>2</td>\n",
       "      <td>['No _Gc_ included']</td>\n",
       "      <td>H21_Ac</td>\n",
       "      <td>-1.0</td>\n",
       "    </tr>\n",
       "    <tr>\n",
       "      <th>317</th>\n",
       "      <td>HETATM</td>\n",
       "      <td>318</td>\n",
       "      <td>H22</td>\n",
       "      <td>NBG</td>\n",
       "      <td>A</td>\n",
       "      <td>17</td>\n",
       "      <td>-11.835</td>\n",
       "      <td>-30.053</td>\n",
       "      <td>-3.124</td>\n",
       "      <td>H</td>\n",
       "      <td>b-D-GlcpN</td>\n",
       "      <td>1,2,4,3,3,2,4,3,4,4,2,3</td>\n",
       "      <td>-1.0</td>\n",
       "      <td>-1</td>\n",
       "      <td>1</td>\n",
       "      <td>NaN</td>\n",
       "      <td>b</td>\n",
       "      <td>d</td>\n",
       "      <td>glcpn</td>\n",
       "      <td>glcn</td>\n",
       "      <td>P</td>\n",
       "      <td>51</td>\n",
       "      <td>2</td>\n",
       "      <td>['C1', 'O1', 'C1', 'C2', 'O2', 'C1', 'C2', 'C3...</td>\n",
       "      <td>999</td>\n",
       "      <td>2</td>\n",
       "      <td>['No Ser included']</td>\n",
       "      <td>0</td>\n",
       "      <td>0</td>\n",
       "      <td>['C11', 'C21', 'H22']</td>\n",
       "      <td>16</td>\n",
       "      <td>2</td>\n",
       "      <td>['S1', 'O6', 'C6', 'C5', 'O5', 'C1', 'O2', 'C2...</td>\n",
       "      <td>999</td>\n",
       "      <td>2</td>\n",
       "      <td>['No _Gc_ included']</td>\n",
       "      <td>H22_Ac</td>\n",
       "      <td>-1.0</td>\n",
       "    </tr>\n",
       "    <tr>\n",
       "      <th>318</th>\n",
       "      <td>HETATM</td>\n",
       "      <td>319</td>\n",
       "      <td>H23</td>\n",
       "      <td>NBG</td>\n",
       "      <td>A</td>\n",
       "      <td>17</td>\n",
       "      <td>-11.816</td>\n",
       "      <td>-30.419</td>\n",
       "      <td>-1.372</td>\n",
       "      <td>H</td>\n",
       "      <td>b-D-GlcpN</td>\n",
       "      <td>1,2,4,3,3,2,4,3,4,4,2,3</td>\n",
       "      <td>-1.0</td>\n",
       "      <td>-1</td>\n",
       "      <td>1</td>\n",
       "      <td>NaN</td>\n",
       "      <td>b</td>\n",
       "      <td>d</td>\n",
       "      <td>glcpn</td>\n",
       "      <td>glcn</td>\n",
       "      <td>P</td>\n",
       "      <td>51</td>\n",
       "      <td>2</td>\n",
       "      <td>['C1', 'O1', 'C1', 'C2', 'O2', 'C1', 'C2', 'C3...</td>\n",
       "      <td>999</td>\n",
       "      <td>2</td>\n",
       "      <td>['No Ser included']</td>\n",
       "      <td>0</td>\n",
       "      <td>0</td>\n",
       "      <td>['C11', 'C21', 'H23']</td>\n",
       "      <td>16</td>\n",
       "      <td>2</td>\n",
       "      <td>['S1', 'O6', 'C6', 'C5', 'O5', 'C1', 'O2', 'C2...</td>\n",
       "      <td>999</td>\n",
       "      <td>2</td>\n",
       "      <td>['No _Gc_ included']</td>\n",
       "      <td>H23_Ac</td>\n",
       "      <td>-1.0</td>\n",
       "    </tr>\n",
       "  </tbody>\n",
       "</table>\n",
       "</div>"
      ],
      "text/plain": [
       "     HETATM  Atom_num Atom_name Residual_name Bound  Residual_num       x  \\\n",
       "66   HETATM        67       C11           NBG     A             4  -2.284   \n",
       "67   HETATM        68       C21           NBG     A             4  -1.255   \n",
       "68   HETATM        69        O1           NBG     A             4  -2.064   \n",
       "69   HETATM        70       H21           NBG     A             4  -0.626   \n",
       "70   HETATM        71       H22           NBG     A             4  -1.737   \n",
       "71   HETATM        72       H23           NBG     A             4  -0.645   \n",
       "209  HETATM       210       C11           SLB     A            11  -6.495   \n",
       "210  HETATM       211       C21           SLB     A            11  -6.755   \n",
       "211  HETATM       212       O12           SLB     A            11  -5.607   \n",
       "212  HETATM       213        H2           SLB     A            11  -7.434   \n",
       "213  HETATM       214       H21           SLB     A            11  -7.176   \n",
       "214  HETATM       215       H22           SLB     A            11  -5.800   \n",
       "286  HETATM       287       C11           NAG     A            16 -11.796   \n",
       "287  HETATM       288       C21           NAG     A            16 -10.901   \n",
       "288  HETATM       289        O1           NAG     A            16 -12.832   \n",
       "289  HETATM       290       H21           NAG     A            16 -11.513   \n",
       "290  HETATM       291       H22           NAG     A            16 -10.487   \n",
       "291  HETATM       292       H23           NAG     A            16 -10.090   \n",
       "313  HETATM       314       C11           NBG     A            17 -11.277   \n",
       "314  HETATM       315       C21           NBG     A            17 -11.313   \n",
       "315  HETATM       316        O1           NBG     A            17 -10.373   \n",
       "316  HETATM       317       H21           NBG     A            17 -10.284   \n",
       "317  HETATM       318       H22           NBG     A            17 -11.835   \n",
       "318  HETATM       319       H23           NBG     A            17 -11.816   \n",
       "\n",
       "          y      z Atom_type Residual_accurate_name                  Lineage  \\\n",
       "66    0.826  1.942         C              b-D-GlcpN                      1,2   \n",
       "67    0.159  2.807         C              b-D-GlcpN                      1,2   \n",
       "68    1.140  0.762         O              b-D-GlcpN                      1,2   \n",
       "69    0.901  3.298         H              b-D-GlcpN                      1,2   \n",
       "70   -0.476  3.558         H              b-D-GlcpN                      1,2   \n",
       "71   -0.500  2.180         H              b-D-GlcpN                      1,2   \n",
       "209 -24.868 -5.098         C                 b-Neup          1,2,4,3,3,2,4,3   \n",
       "210 -26.303 -4.770         C                 b-Neup          1,2,4,3,3,2,4,3   \n",
       "211 -24.529 -5.903         O                 b-Neup          1,2,4,3,3,2,4,3   \n",
       "212 -26.401 -3.917         H                 b-Neup          1,2,4,3,3,2,4,3   \n",
       "213 -26.826 -5.631         H                 b-Neup          1,2,4,3,3,2,4,3   \n",
       "214 -26.760 -4.482         H                 b-Neup          1,2,4,3,3,2,4,3   \n",
       "286 -29.911  2.845         C              a-D-GlcpN    1,2,4,3,3,2,4,3,4,4,2   \n",
       "287 -30.885  2.134         C              a-D-GlcpN    1,2,4,3,3,2,4,3,4,4,2   \n",
       "288 -30.272  3.430         O              a-D-GlcpN    1,2,4,3,3,2,4,3,4,4,2   \n",
       "289 -31.432  1.409         H              a-D-GlcpN    1,2,4,3,3,2,4,3,4,4,2   \n",
       "290 -31.590  2.863         H              a-D-GlcpN    1,2,4,3,3,2,4,3,4,4,2   \n",
       "291 -30.375  1.601         H              a-D-GlcpN    1,2,4,3,3,2,4,3,4,4,2   \n",
       "313 -28.410 -1.913         C              b-D-GlcpN  1,2,4,3,3,2,4,3,4,4,2,3   \n",
       "314 -29.879 -2.182         C              b-D-GlcpN  1,2,4,3,3,2,4,3,4,4,2,3   \n",
       "315 -27.656 -2.319         O              b-D-GlcpN  1,2,4,3,3,2,4,3,4,4,2,3   \n",
       "316 -30.251 -2.245         H              b-D-GlcpN  1,2,4,3,3,2,4,3,4,4,2,3   \n",
       "317 -30.053 -3.124         H              b-D-GlcpN  1,2,4,3,3,2,4,3,4,4,2,3   \n",
       "318 -30.419 -1.372         H              b-D-GlcpN  1,2,4,3,3,2,4,3,4,4,2,3   \n",
       "\n",
       "     shift  trust  Ac_component  Trust bound_AB fischer_projection_DL  \\\n",
       "66    -1.0     -1             1   88.0        b                     d   \n",
       "67    -1.0     -1             1    NaN        b                     d   \n",
       "68    -1.0     -1             1    NaN        b                     d   \n",
       "69    -1.0     -1             1   98.0        b                     d   \n",
       "70    -1.0     -1             1    NaN        b                     d   \n",
       "71    -1.0     -1             1    NaN        b                     d   \n",
       "209   -1.0     -1             1   83.0        b           missing_L_D   \n",
       "210   -1.0     -1             1    NaN        b           missing_L_D   \n",
       "211   -1.0     -1             1    NaN        b           missing_L_D   \n",
       "212   -1.0     36             1   95.0        b           missing_L_D   \n",
       "213   -1.0     -1             1    NaN        b           missing_L_D   \n",
       "214   -1.0     -1             1    NaN        b           missing_L_D   \n",
       "286   -1.0     -1             1   83.0        a                     d   \n",
       "287   -1.0     -1             1    NaN        a                     d   \n",
       "288   -1.0     -1             1    NaN        a                     d   \n",
       "289   -1.0     -1             1   98.0        a                     d   \n",
       "290   -1.0     -1             1    NaN        a                     d   \n",
       "291   -1.0     -1             1    NaN        a                     d   \n",
       "313   -1.0     -1             1   88.0        b                     d   \n",
       "314   -1.0     -1             1    NaN        b                     d   \n",
       "315   -1.0     -1             1    NaN        b                     d   \n",
       "316   -1.0     -1             1   98.0        b                     d   \n",
       "317   -1.0     -1             1    NaN        b                     d   \n",
       "318   -1.0     -1             1    NaN        b                     d   \n",
       "\n",
       "    origin_mono reformulated_standard_mono carbon_number_PF  \\\n",
       "66        glcpn                       glcn                P   \n",
       "67        glcpn                       glcn                P   \n",
       "68        glcpn                       glcn                P   \n",
       "69        glcpn                       glcn                P   \n",
       "70        glcpn                       glcn                P   \n",
       "71        glcpn                       glcn                P   \n",
       "209        neup                        neu                P   \n",
       "210        neup                        neu                P   \n",
       "211        neup                        neu                P   \n",
       "212        neup                        neu                P   \n",
       "213        neup                        neu                P   \n",
       "214        neup                        neu                P   \n",
       "286       glcpn                       glcn                P   \n",
       "287       glcpn                       glcn                P   \n",
       "288       glcpn                       glcn                P   \n",
       "289       glcpn                       glcn                P   \n",
       "290       glcpn                       glcn                P   \n",
       "291       glcpn                       glcn                P   \n",
       "313       glcpn                       glcn                P   \n",
       "314       glcpn                       glcn                P   \n",
       "315       glcpn                       glcn                P   \n",
       "316       glcpn                       glcn                P   \n",
       "317       glcpn                       glcn                P   \n",
       "318       glcpn                       glcn                P   \n",
       "\n",
       "     Me_min_atom_distance  Me_min_atom_distance_threshold  \\\n",
       "66                      8                               2   \n",
       "67                      9                               2   \n",
       "68                      9                               2   \n",
       "69                     10                               2   \n",
       "70                     10                               2   \n",
       "71                     10                               2   \n",
       "209                    35                               2   \n",
       "210                    36                               2   \n",
       "211                    36                               2   \n",
       "212                    37                               2   \n",
       "213                    37                               2   \n",
       "214                    37                               2   \n",
       "286                    45                               2   \n",
       "287                    46                               2   \n",
       "288                    46                               2   \n",
       "289                    47                               2   \n",
       "290                    47                               2   \n",
       "291                    47                               2   \n",
       "313                    49                               2   \n",
       "314                    50                               2   \n",
       "315                    50                               2   \n",
       "316                    51                               2   \n",
       "317                    51                               2   \n",
       "318                    51                               2   \n",
       "\n",
       "                                      Me_min_atom_path  Ser_atom_distance  \\\n",
       "66   ['C1', 'O1', 'C1', 'C2', 'O2', 'C1', 'C2', 'N2...                999   \n",
       "67   ['C1', 'O1', 'C1', 'C2', 'O2', 'C1', 'C2', 'N2...                999   \n",
       "68   ['C1', 'O1', 'C1', 'C2', 'O2', 'C1', 'C2', 'N2...                999   \n",
       "69   ['C1', 'O1', 'C1', 'C2', 'O2', 'C1', 'C2', 'N2...                999   \n",
       "70   ['C1', 'O1', 'C1', 'C2', 'O2', 'C1', 'C2', 'N2...                999   \n",
       "71   ['C1', 'O1', 'C1', 'C2', 'O2', 'C1', 'C2', 'N2...                999   \n",
       "209  ['C1', 'O1', 'C1', 'C2', 'O2', 'C1', 'C2', 'C3...                999   \n",
       "210  ['C1', 'O1', 'C1', 'C2', 'O2', 'C1', 'C2', 'C3...                999   \n",
       "211  ['C1', 'O1', 'C1', 'C2', 'O2', 'C1', 'C2', 'C3...                999   \n",
       "212  ['C1', 'O1', 'C1', 'C2', 'O2', 'C1', 'C2', 'C3...                999   \n",
       "213  ['C1', 'O1', 'C1', 'C2', 'O2', 'C1', 'C2', 'C3...                999   \n",
       "214  ['C1', 'O1', 'C1', 'C2', 'O2', 'C1', 'C2', 'C3...                999   \n",
       "286  ['C1', 'O1', 'C1', 'C2', 'O2', 'C1', 'C2', 'C3...                999   \n",
       "287  ['C1', 'O1', 'C1', 'C2', 'O2', 'C1', 'C2', 'C3...                999   \n",
       "288  ['C1', 'O1', 'C1', 'C2', 'O2', 'C1', 'C2', 'C3...                999   \n",
       "289  ['C1', 'O1', 'C1', 'C2', 'O2', 'C1', 'C2', 'C3...                999   \n",
       "290  ['C1', 'O1', 'C1', 'C2', 'O2', 'C1', 'C2', 'C3...                999   \n",
       "291  ['C1', 'O1', 'C1', 'C2', 'O2', 'C1', 'C2', 'C3...                999   \n",
       "313  ['C1', 'O1', 'C1', 'C2', 'O2', 'C1', 'C2', 'C3...                999   \n",
       "314  ['C1', 'O1', 'C1', 'C2', 'O2', 'C1', 'C2', 'C3...                999   \n",
       "315  ['C1', 'O1', 'C1', 'C2', 'O2', 'C1', 'C2', 'C3...                999   \n",
       "316  ['C1', 'O1', 'C1', 'C2', 'O2', 'C1', 'C2', 'C3...                999   \n",
       "317  ['C1', 'O1', 'C1', 'C2', 'O2', 'C1', 'C2', 'C3...                999   \n",
       "318  ['C1', 'O1', 'C1', 'C2', 'O2', 'C1', 'C2', 'C3...                999   \n",
       "\n",
       "     Ser_atom_distance_threshold        Ser_atom_path  Ac_min_atom_distance  \\\n",
       "66                             2  ['No Ser included']                     0   \n",
       "67                             2  ['No Ser included']                     0   \n",
       "68                             2  ['No Ser included']                     0   \n",
       "69                             2  ['No Ser included']                     0   \n",
       "70                             2  ['No Ser included']                     0   \n",
       "71                             2  ['No Ser included']                     0   \n",
       "209                            2  ['No Ser included']                     0   \n",
       "210                            2  ['No Ser included']                     0   \n",
       "211                            2  ['No Ser included']                     0   \n",
       "212                            2  ['No Ser included']                     0   \n",
       "213                            2  ['No Ser included']                     0   \n",
       "214                            2  ['No Ser included']                     0   \n",
       "286                            2  ['No Ser included']                     0   \n",
       "287                            2  ['No Ser included']                     0   \n",
       "288                            2  ['No Ser included']                     0   \n",
       "289                            2  ['No Ser included']                     0   \n",
       "290                            2  ['No Ser included']                     0   \n",
       "291                            2  ['No Ser included']                     0   \n",
       "313                            2  ['No Ser included']                     0   \n",
       "314                            2  ['No Ser included']                     0   \n",
       "315                            2  ['No Ser included']                     0   \n",
       "316                            2  ['No Ser included']                     0   \n",
       "317                            2  ['No Ser included']                     0   \n",
       "318                            2  ['No Ser included']                     0   \n",
       "\n",
       "     Ac_min_atom_distance_threshold       Ac_min_atom_path  \\\n",
       "66                                0                ['C11']   \n",
       "67                                0         ['C11', 'C21']   \n",
       "68                                0          ['C11', 'O1']   \n",
       "69                                0  ['C11', 'C21', 'H21']   \n",
       "70                                0  ['C11', 'C21', 'H22']   \n",
       "71                                0  ['C11', 'C21', 'H23']   \n",
       "209                               0                ['C11']   \n",
       "210                               0         ['C11', 'C21']   \n",
       "211                               0         ['C11', 'O12']   \n",
       "212                               0   ['C11', 'C21', 'H2']   \n",
       "213                               0  ['C11', 'C21', 'H21']   \n",
       "214                               0  ['C11', 'C21', 'H22']   \n",
       "286                               0                ['C11']   \n",
       "287                               0         ['C11', 'C21']   \n",
       "288                               0          ['C11', 'O1']   \n",
       "289                               0  ['C11', 'C21', 'H21']   \n",
       "290                               0  ['C11', 'C21', 'H22']   \n",
       "291                               0  ['C11', 'C21', 'H23']   \n",
       "313                               0                ['C11']   \n",
       "314                               0         ['C11', 'C21']   \n",
       "315                               0          ['C11', 'O1']   \n",
       "316                               0  ['C11', 'C21', 'H21']   \n",
       "317                               0  ['C11', 'C21', 'H22']   \n",
       "318                               0  ['C11', 'C21', 'H23']   \n",
       "\n",
       "     S_min_atom_distance  S_min_atom_distance_threshold  \\\n",
       "66                    27                              2   \n",
       "67                    28                              2   \n",
       "68                    28                              2   \n",
       "69                    29                              2   \n",
       "70                    29                              2   \n",
       "71                    29                              2   \n",
       "209                    9                              2   \n",
       "210                   10                              2   \n",
       "211                   10                              2   \n",
       "212                   11                              2   \n",
       "213                   11                              2   \n",
       "214                   11                              2   \n",
       "286                   11                              2   \n",
       "287                   12                              2   \n",
       "288                   12                              2   \n",
       "289                   13                              2   \n",
       "290                   13                              2   \n",
       "291                   13                              2   \n",
       "313                   14                              2   \n",
       "314                   15                              2   \n",
       "315                   15                              2   \n",
       "316                   16                              2   \n",
       "317                   16                              2   \n",
       "318                   16                              2   \n",
       "\n",
       "                                       S_min_atom_path  Gc_min_atom_distance  \\\n",
       "66   ['S1', 'O6', 'C6', 'C5', 'O5', 'C1', 'O4', 'C4...                   999   \n",
       "67   ['S1', 'O6', 'C6', 'C5', 'O5', 'C1', 'O4', 'C4...                   999   \n",
       "68   ['S1', 'O6', 'C6', 'C5', 'O5', 'C1', 'O4', 'C4...                   999   \n",
       "69   ['S1', 'O6', 'C6', 'C5', 'O5', 'C1', 'O4', 'C4...                   999   \n",
       "70   ['S1', 'O6', 'C6', 'C5', 'O5', 'C1', 'O4', 'C4...                   999   \n",
       "71   ['S1', 'O6', 'C6', 'C5', 'O5', 'C1', 'O4', 'C4...                   999   \n",
       "209  ['S1', 'O3', 'C3', 'C2', 'C1', 'O4', 'C4', 'C5...                   999   \n",
       "210  ['S1', 'O3', 'C3', 'C2', 'C1', 'O4', 'C4', 'C5...                   999   \n",
       "211  ['S1', 'O3', 'C3', 'C2', 'C1', 'O4', 'C4', 'C5...                   999   \n",
       "212  ['S1', 'O3', 'C3', 'C2', 'C1', 'O4', 'C4', 'C5...                   999   \n",
       "213  ['S1', 'O3', 'C3', 'C2', 'C1', 'O4', 'C4', 'C5...                   999   \n",
       "214  ['S1', 'O3', 'C3', 'C2', 'C1', 'O4', 'C4', 'C5...                   999   \n",
       "286  ['S1', 'O3', 'C3', 'C4', 'O4', 'C1', 'C2', 'O2...                   999   \n",
       "287  ['S1', 'O3', 'C3', 'C4', 'O4', 'C1', 'C2', 'O2...                   999   \n",
       "288  ['S1', 'O3', 'C3', 'C4', 'O4', 'C1', 'C2', 'O2...                   999   \n",
       "289  ['S1', 'O3', 'C3', 'C4', 'O4', 'C1', 'C2', 'O2...                   999   \n",
       "290  ['S1', 'O3', 'C3', 'C4', 'O4', 'C1', 'C2', 'O2...                   999   \n",
       "291  ['S1', 'O3', 'C3', 'C4', 'O4', 'C1', 'C2', 'O2...                   999   \n",
       "313  ['S1', 'O6', 'C6', 'C5', 'O5', 'C1', 'O2', 'C2...                   999   \n",
       "314  ['S1', 'O6', 'C6', 'C5', 'O5', 'C1', 'O2', 'C2...                   999   \n",
       "315  ['S1', 'O6', 'C6', 'C5', 'O5', 'C1', 'O2', 'C2...                   999   \n",
       "316  ['S1', 'O6', 'C6', 'C5', 'O5', 'C1', 'O2', 'C2...                   999   \n",
       "317  ['S1', 'O6', 'C6', 'C5', 'O5', 'C1', 'O2', 'C2...                   999   \n",
       "318  ['S1', 'O6', 'C6', 'C5', 'O5', 'C1', 'O2', 'C2...                   999   \n",
       "\n",
       "     Gc_min_atom_distance_threshold      Gc_min_atom_path New_Atom_name  \\\n",
       "66                                2  ['No _Gc_ included']        C11_Ac   \n",
       "67                                2  ['No _Gc_ included']        C21_Ac   \n",
       "68                                2  ['No _Gc_ included']         O1_Ac   \n",
       "69                                2  ['No _Gc_ included']        H21_Ac   \n",
       "70                                2  ['No _Gc_ included']        H22_Ac   \n",
       "71                                2  ['No _Gc_ included']        H23_Ac   \n",
       "209                               2  ['No _Gc_ included']   Neup_C11_Ac   \n",
       "210                               2  ['No _Gc_ included']   Neup_C21_Ac   \n",
       "211                               2  ['No _Gc_ included']        O12_Ac   \n",
       "212                               2  ['No _Gc_ included']    Neup_H2_Ac   \n",
       "213                               2  ['No _Gc_ included']        H21_Ac   \n",
       "214                               2  ['No _Gc_ included']        H22_Ac   \n",
       "286                               2  ['No _Gc_ included']        C11_Ac   \n",
       "287                               2  ['No _Gc_ included']        C21_Ac   \n",
       "288                               2  ['No _Gc_ included']         O1_Ac   \n",
       "289                               2  ['No _Gc_ included']        H21_Ac   \n",
       "290                               2  ['No _Gc_ included']        H22_Ac   \n",
       "291                               2  ['No _Gc_ included']        H23_Ac   \n",
       "313                               2  ['No _Gc_ included']        C11_Ac   \n",
       "314                               2  ['No _Gc_ included']        C21_Ac   \n",
       "315                               2  ['No _Gc_ included']         O1_Ac   \n",
       "316                               2  ['No _Gc_ included']        H21_Ac   \n",
       "317                               2  ['No _Gc_ included']        H22_Ac   \n",
       "318                               2  ['No _Gc_ included']        H23_Ac   \n",
       "\n",
       "     main_ring_shift  \n",
       "66              -1.0  \n",
       "67              -1.0  \n",
       "68              -1.0  \n",
       "69              -1.0  \n",
       "70              -1.0  \n",
       "71              -1.0  \n",
       "209             -1.0  \n",
       "210             -1.0  \n",
       "211             -1.0  \n",
       "212             -1.0  \n",
       "213             -1.0  \n",
       "214             -1.0  \n",
       "286             -1.0  \n",
       "287             -1.0  \n",
       "288             -1.0  \n",
       "289             -1.0  \n",
       "290             -1.0  \n",
       "291             -1.0  \n",
       "313             -1.0  \n",
       "314             -1.0  \n",
       "315             -1.0  \n",
       "316             -1.0  \n",
       "317             -1.0  \n",
       "318             -1.0  "
      ]
     },
     "execution_count": 6,
     "metadata": {},
     "output_type": "execute_result"
    }
   ],
   "source": [
    "a = pd.read_csv('dataset/Godess_final_data/Godess_data_rev/labeled_all_889.pdb.csv')\n",
    "a.loc[a['Ac_component'] == 1]"
   ]
  },
  {
   "cell_type": "code",
   "execution_count": 7,
   "id": "67584985",
   "metadata": {},
   "outputs": [
    {
     "data": {
      "text/plain": [
       "array(['C1', 'C11', 'C2', 'C21', 'H2', 'H21', 'H22', 'H23', 'O1', 'O11',\n",
       "       'O12'], dtype='<U3')"
      ]
     },
     "execution_count": 7,
     "metadata": {},
     "output_type": "execute_result"
    }
   ],
   "source": [
    "np.unique(ac_list)"
   ]
  },
  {
   "cell_type": "code",
   "execution_count": 8,
   "id": "fadd28b1",
   "metadata": {},
   "outputs": [],
   "source": [
    "glcn_h2 = pd.DataFrame([wierd_list_h2_ci, wierd_list_h2]).T\n",
    "glcn_h2.columns = ['Trust', 'shift']\n",
    "glcn_h2.to_csv('glcn_h2.csv', index = False)"
   ]
  },
  {
   "cell_type": "code",
   "execution_count": 9,
   "id": "17b26b05",
   "metadata": {},
   "outputs": [
    {
     "data": {
      "text/plain": [
       "49.0"
      ]
     },
     "execution_count": 9,
     "metadata": {},
     "output_type": "execute_result"
    }
   ],
   "source": [
    "glcn_h2.loc[glcn_h2['Trust'] < 50]['Trust'].max()"
   ]
  },
  {
   "cell_type": "code",
   "execution_count": 10,
   "id": "0a85e302",
   "metadata": {},
   "outputs": [
    {
     "data": {
      "text/html": [
       "<div>\n",
       "<style scoped>\n",
       "    .dataframe tbody tr th:only-of-type {\n",
       "        vertical-align: middle;\n",
       "    }\n",
       "\n",
       "    .dataframe tbody tr th {\n",
       "        vertical-align: top;\n",
       "    }\n",
       "\n",
       "    .dataframe thead th {\n",
       "        text-align: right;\n",
       "    }\n",
       "</style>\n",
       "<table border=\"1\" class=\"dataframe\">\n",
       "  <thead>\n",
       "    <tr style=\"text-align: right;\">\n",
       "      <th></th>\n",
       "      <th>Trust</th>\n",
       "      <th>shift</th>\n",
       "    </tr>\n",
       "  </thead>\n",
       "  <tbody>\n",
       "    <tr>\n",
       "      <th>0</th>\n",
       "      <td>81.0</td>\n",
       "      <td>3.95</td>\n",
       "    </tr>\n",
       "    <tr>\n",
       "      <th>1</th>\n",
       "      <td>81.0</td>\n",
       "      <td>3.95</td>\n",
       "    </tr>\n",
       "    <tr>\n",
       "      <th>4</th>\n",
       "      <td>67.0</td>\n",
       "      <td>4.29</td>\n",
       "    </tr>\n",
       "    <tr>\n",
       "      <th>7</th>\n",
       "      <td>81.0</td>\n",
       "      <td>3.67</td>\n",
       "    </tr>\n",
       "    <tr>\n",
       "      <th>8</th>\n",
       "      <td>68.0</td>\n",
       "      <td>4.13</td>\n",
       "    </tr>\n",
       "    <tr>\n",
       "      <th>...</th>\n",
       "      <td>...</td>\n",
       "      <td>...</td>\n",
       "    </tr>\n",
       "    <tr>\n",
       "      <th>1952</th>\n",
       "      <td>65.0</td>\n",
       "      <td>3.76</td>\n",
       "    </tr>\n",
       "    <tr>\n",
       "      <th>1953</th>\n",
       "      <td>53.0</td>\n",
       "      <td>3.66</td>\n",
       "    </tr>\n",
       "    <tr>\n",
       "      <th>1955</th>\n",
       "      <td>53.0</td>\n",
       "      <td>4.01</td>\n",
       "    </tr>\n",
       "    <tr>\n",
       "      <th>1957</th>\n",
       "      <td>72.0</td>\n",
       "      <td>3.77</td>\n",
       "    </tr>\n",
       "    <tr>\n",
       "      <th>1958</th>\n",
       "      <td>66.0</td>\n",
       "      <td>3.67</td>\n",
       "    </tr>\n",
       "  </tbody>\n",
       "</table>\n",
       "<p>1047 rows × 2 columns</p>\n",
       "</div>"
      ],
      "text/plain": [
       "      Trust  shift\n",
       "0      81.0   3.95\n",
       "1      81.0   3.95\n",
       "4      67.0   4.29\n",
       "7      81.0   3.67\n",
       "8      68.0   4.13\n",
       "...     ...    ...\n",
       "1952   65.0   3.76\n",
       "1953   53.0   3.66\n",
       "1955   53.0   4.01\n",
       "1957   72.0   3.77\n",
       "1958   66.0   3.67\n",
       "\n",
       "[1047 rows x 2 columns]"
      ]
     },
     "execution_count": 10,
     "metadata": {},
     "output_type": "execute_result"
    }
   ],
   "source": [
    "glcn_h2.loc[glcn_h2['Trust'] > 50]"
   ]
  },
  {
   "cell_type": "code",
   "execution_count": 12,
   "id": "fbebb779",
   "metadata": {},
   "outputs": [],
   "source": [
    "# pdb_f"
   ]
  },
  {
   "cell_type": "code",
   "execution_count": 13,
   "id": "2c5997ff",
   "metadata": {},
   "outputs": [],
   "source": [
    "df = pd.DataFrame([atom_name_list, shift_list]).T\n",
    "df = df.drop_duplicates()"
   ]
  },
  {
   "cell_type": "code",
   "execution_count": 14,
   "id": "10c16bf0",
   "metadata": {},
   "outputs": [],
   "source": [
    "df = df.loc[df[1] != -1.0]\n",
    "df.index = range(len(df))"
   ]
  },
  {
   "cell_type": "code",
   "execution_count": 15,
   "id": "624c906e",
   "metadata": {},
   "outputs": [
    {
     "data": {
      "text/plain": [
       "array(['C1', 'C2', 'C3', 'C4', 'C5', 'C6', 'H1', 'H11', 'H2', 'H3', 'H4',\n",
       "       'H41', 'H5', 'H51', 'H6', 'H61', 'Kdo_C1', 'Kdo_C2', 'Kdo_C3',\n",
       "       'Kdo_C4', 'Kdo_C5', 'Kdo_C6', 'Kdo_C7', 'Kdo_C8', 'Kdo_H3',\n",
       "       'Kdo_H31', 'Kdo_H4', 'Kdo_H5', 'Kdo_H6', 'Kdo_H7', 'Kdo_H8',\n",
       "       'Kdo_H81', 'Neup_C1', 'Neup_C2', 'Neup_C3', 'Neup_C4', 'Neup_C5',\n",
       "       'Neup_C6', 'Neup_C7', 'Neup_C8', 'Neup_C9', 'Neup_H3', 'Neup_H31',\n",
       "       'Neup_H4', 'Neup_H5', 'Neup_H6', 'Neup_H7', 'Neup_H8', 'Neup_H9',\n",
       "       'Neup_H91'], dtype=object)"
      ]
     },
     "execution_count": 15,
     "metadata": {},
     "output_type": "execute_result"
    }
   ],
   "source": [
    "all_list = np.unique(df[0].values)\n",
    "all_list"
   ]
  },
  {
   "cell_type": "code",
   "execution_count": 16,
   "id": "a12138ba",
   "metadata": {},
   "outputs": [
    {
     "data": {
      "text/plain": [
       "array(['C1', 'C2', 'C3', 'C4', 'C5', 'C6', 'H1', 'H11', 'H2', 'H3', 'H4',\n",
       "       'H41', 'H5', 'H51', 'H6', 'H61', 'Kdo_C1', 'Kdo_C2', 'Kdo_C3',\n",
       "       'Kdo_C4', 'Kdo_C5', 'Kdo_C6', 'Kdo_C7', 'Kdo_C8', 'Kdo_H3',\n",
       "       'Kdo_H31', 'Kdo_H4', 'Kdo_H5', 'Kdo_H6', 'Kdo_H7', 'Kdo_H8',\n",
       "       'Kdo_H81', 'Neup_C1', 'Neup_C2', 'Neup_C3', 'Neup_C4', 'Neup_C5',\n",
       "       'Neup_C6', 'Neup_C7', 'Neup_C8', 'Neup_C9', 'Neup_H3', 'Neup_H31',\n",
       "       'Neup_H4', 'Neup_H5', 'Neup_H6', 'Neup_H7', 'Neup_H8', 'Neup_H9',\n",
       "       'Neup_H91'], dtype=object)"
      ]
     },
     "execution_count": 16,
     "metadata": {},
     "output_type": "execute_result"
    }
   ],
   "source": [
    "np.unique(df[0].values)"
   ]
  },
  {
   "cell_type": "code",
   "execution_count": 17,
   "id": "d7a6187f",
   "metadata": {},
   "outputs": [
    {
     "data": {
      "text/plain": [
       "array(['C1', 'C2', 'C3', 'C4', 'C5', 'C6', 'Kdo_C1', 'Kdo_C2', 'Kdo_C3',\n",
       "       'Kdo_C4', 'Kdo_C5', 'Kdo_C6', 'Kdo_C7', 'Kdo_C8', 'Neup_C1',\n",
       "       'Neup_C2', 'Neup_C3', 'Neup_C4', 'Neup_C5', 'Neup_C6', 'Neup_C7',\n",
       "       'Neup_C8', 'Neup_C9'], dtype='<U7')"
      ]
     },
     "execution_count": 17,
     "metadata": {},
     "output_type": "execute_result"
    }
   ],
   "source": [
    "c_list = [i for i in all_list if 'C' in i]\n",
    "np.array(c_list)"
   ]
  },
  {
   "cell_type": "code",
   "execution_count": 18,
   "id": "f14b776f",
   "metadata": {},
   "outputs": [
    {
     "data": {
      "text/plain": [
       "array(['H1', 'H11', 'H2', 'H3', 'H4', 'H41', 'H5', 'H51', 'H6', 'H61',\n",
       "       'Kdo_H3', 'Kdo_H31', 'Kdo_H4', 'Kdo_H5', 'Kdo_H6', 'Kdo_H7',\n",
       "       'Kdo_H8', 'Kdo_H81', 'Neup_H3', 'Neup_H31', 'Neup_H4', 'Neup_H5',\n",
       "       'Neup_H6', 'Neup_H7', 'Neup_H8', 'Neup_H9', 'Neup_H91'],\n",
       "      dtype='<U8')"
      ]
     },
     "execution_count": 18,
     "metadata": {},
     "output_type": "execute_result"
    }
   ],
   "source": [
    "h_list = list(set(all_list) - set(c_list) )\n",
    "np.array(sorted(h_list))"
   ]
  },
  {
   "cell_type": "code",
   "execution_count": 19,
   "id": "cb749a42",
   "metadata": {},
   "outputs": [
    {
     "data": {
      "text/plain": [
       "array([], dtype=object)"
      ]
     },
     "execution_count": 19,
     "metadata": {},
     "output_type": "execute_result"
    }
   ],
   "source": [
    "all_list[np.where('C' in all_list)[0]]"
   ]
  }
 ],
 "metadata": {
  "kernelspec": {
   "display_name": "Python 3 (ipykernel)",
   "language": "python",
   "name": "python3"
  },
  "language_info": {
   "codemirror_mode": {
    "name": "ipython",
    "version": 3
   },
   "file_extension": ".py",
   "mimetype": "text/x-python",
   "name": "python",
   "nbconvert_exporter": "python",
   "pygments_lexer": "ipython3",
   "version": "3.8.2"
  }
 },
 "nbformat": 4,
 "nbformat_minor": 5
}
